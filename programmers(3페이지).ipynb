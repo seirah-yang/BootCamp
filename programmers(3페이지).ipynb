{
  "nbformat": 4,
  "nbformat_minor": 0,
  "metadata": {
    "colab": {
      "provenance": [],
      "authorship_tag": "ABX9TyOsfTT0g6I1EDY2+OGGeYYW",
      "include_colab_link": true
    },
    "kernelspec": {
      "name": "python3",
      "display_name": "Python 3"
    },
    "language_info": {
      "name": "python"
    }
  },
  "cells": [
    {
      "cell_type": "markdown",
      "metadata": {
        "id": "view-in-github",
        "colab_type": "text"
      },
      "source": [
        "<a href=\"https://colab.research.google.com/github/seirah-yang/BootCamp/blob/main/programmers(3%ED%8E%98%EC%9D%B4%EC%A7%80).ipynb\" target=\"_parent\"><img src=\"https://colab.research.google.com/assets/colab-badge.svg\" alt=\"Open In Colab\"/></a>"
      ]
    },
    {
      "cell_type": "markdown",
      "source": [
        "https://school.programmers.co.kr/learn/challenges?order=acceptance_desc&levels=1&page=1&languages=python3"
      ],
      "metadata": {
        "id": "GNUPhsFRwCbl"
      }
    },
    {
      "cell_type": "code",
      "execution_count": null,
      "metadata": {
        "id": "q1GA_S-KhW6I",
        "colab": {
          "base_uri": "https://localhost:8080/",
          "height": 106
        },
        "outputId": "f429177a-444a-41a3-bed0-191bbb6a0e4e"
      },
      "outputs": [
        {
          "output_type": "error",
          "ename": "SyntaxError",
          "evalue": "cannot assign to function call (ipython-input-266603983.py, line 5)",
          "traceback": [
            "\u001b[0;36m  File \u001b[0;32m\"/tmp/ipython-input-266603983.py\"\u001b[0;36m, line \u001b[0;32m5\u001b[0m\n\u001b[0;31m    for str(i) in range(len(food)):\u001b[0m\n\u001b[0m        ^\u001b[0m\n\u001b[0;31mSyntaxError\u001b[0m\u001b[0;31m:\u001b[0m cannot assign to function call\n"
          ]
        }
      ],
      "source": [
        "# 푸드파이터\n",
        "def solution(food):\n",
        "    ans = \"\"\n",
        "    play=\"\"\n",
        "\n",
        "    for str(i) in range(len(food)):\n",
        "        food[i] % 2\n",
        "        play += food[i]*food[i]%2\n",
        "        ans = play + food[0] + play[::-1]\n",
        "\n",
        "print(solution([1, 3, 4, 6]))\n",
        "print(solution([1, 7, 1, 2]))"
      ]
    },
    {
      "cell_type": "code",
      "source": [
        "def solution(food):\n",
        "    answer = ''\n",
        "\n",
        "    for i in range(1,len(food)):\n",
        "        answer += str(i)*(food[i]//2)\n",
        "    return answer + '0' + answer [::-1]\n",
        "\n",
        "print(solution([1, 3, 4, 6]))\n",
        "print(solution([1, 7, 1, 2]))"
      ],
      "metadata": {
        "colab": {
          "base_uri": "https://localhost:8080/"
        },
        "id": "Ly6z3WNBzCaN",
        "outputId": "6dc6696f-3c5e-4653-c372-dff539c12a7f"
      },
      "execution_count": null,
      "outputs": [
        {
          "output_type": "stream",
          "name": "stdout",
          "text": [
            "1223330333221\n",
            "111303111\n"
          ]
        }
      ]
    },
    {
      "cell_type": "code",
      "source": [
        "#K번째 수\n",
        "def solution(array, command):\n",
        "    ans = []\n",
        "\n",
        "    for i in range(len(array)) :\n",
        "        for j in range(len(array)):\n",
        "\n",
        "            a = array[i:j]\n",
        "            b = sorted(a)\n",
        "            c = b[k]\n",
        "            ans.append([a,b,c])\n",
        "    return ans\n",
        "\n",
        "print(solution([1, 5, 2, 6, 3, 7, 4],[[2, 5, 3], [4, 4, 1], [1, 7, 3]]))"
      ],
      "metadata": {
        "id": "GEHLL6XRhcJA",
        "colab": {
          "base_uri": "https://localhost:8080/",
          "height": 297
        },
        "outputId": "11f70c95-0b4a-4fc4-e05c-3fea4c57534a"
      },
      "execution_count": null,
      "outputs": [
        {
          "output_type": "error",
          "ename": "NameError",
          "evalue": "name 'k' is not defined",
          "traceback": [
            "\u001b[0;31m---------------------------------------------------------------------------\u001b[0m",
            "\u001b[0;31mNameError\u001b[0m                                 Traceback (most recent call last)",
            "\u001b[0;32m/tmp/ipython-input-4087052243.py\u001b[0m in \u001b[0;36m<cell line: 0>\u001b[0;34m()\u001b[0m\n\u001b[1;32m      9\u001b[0m             \u001b[0mans\u001b[0m\u001b[0;34m.\u001b[0m\u001b[0mappend\u001b[0m\u001b[0;34m(\u001b[0m\u001b[0;34m[\u001b[0m\u001b[0ma\u001b[0m\u001b[0;34m,\u001b[0m\u001b[0mb\u001b[0m\u001b[0;34m,\u001b[0m\u001b[0mc\u001b[0m\u001b[0;34m]\u001b[0m\u001b[0;34m)\u001b[0m\u001b[0;34m\u001b[0m\u001b[0;34m\u001b[0m\u001b[0m\n\u001b[1;32m     10\u001b[0m     \u001b[0;32mreturn\u001b[0m \u001b[0mans\u001b[0m\u001b[0;34m\u001b[0m\u001b[0;34m\u001b[0m\u001b[0m\n\u001b[0;32m---> 11\u001b[0;31m \u001b[0mprint\u001b[0m\u001b[0;34m(\u001b[0m\u001b[0msolution\u001b[0m\u001b[0;34m(\u001b[0m\u001b[0;34m[\u001b[0m\u001b[0;36m1\u001b[0m\u001b[0;34m,\u001b[0m \u001b[0;36m5\u001b[0m\u001b[0;34m,\u001b[0m \u001b[0;36m2\u001b[0m\u001b[0;34m,\u001b[0m \u001b[0;36m6\u001b[0m\u001b[0;34m,\u001b[0m \u001b[0;36m3\u001b[0m\u001b[0;34m,\u001b[0m \u001b[0;36m7\u001b[0m\u001b[0;34m,\u001b[0m \u001b[0;36m4\u001b[0m\u001b[0;34m]\u001b[0m\u001b[0;34m,\u001b[0m\u001b[0;34m[\u001b[0m\u001b[0;34m[\u001b[0m\u001b[0;36m2\u001b[0m\u001b[0;34m,\u001b[0m \u001b[0;36m5\u001b[0m\u001b[0;34m,\u001b[0m \u001b[0;36m3\u001b[0m\u001b[0;34m]\u001b[0m\u001b[0;34m,\u001b[0m \u001b[0;34m[\u001b[0m\u001b[0;36m4\u001b[0m\u001b[0;34m,\u001b[0m \u001b[0;36m4\u001b[0m\u001b[0;34m,\u001b[0m \u001b[0;36m1\u001b[0m\u001b[0;34m]\u001b[0m\u001b[0;34m,\u001b[0m \u001b[0;34m[\u001b[0m\u001b[0;36m1\u001b[0m\u001b[0;34m,\u001b[0m \u001b[0;36m7\u001b[0m\u001b[0;34m,\u001b[0m \u001b[0;36m3\u001b[0m\u001b[0;34m]\u001b[0m\u001b[0;34m]\u001b[0m\u001b[0;34m)\u001b[0m\u001b[0;34m)\u001b[0m\u001b[0;34m\u001b[0m\u001b[0;34m\u001b[0m\u001b[0m\n\u001b[0m",
            "\u001b[0;32m/tmp/ipython-input-4087052243.py\u001b[0m in \u001b[0;36msolution\u001b[0;34m(array, command)\u001b[0m\n\u001b[1;32m      6\u001b[0m             \u001b[0ma\u001b[0m \u001b[0;34m=\u001b[0m \u001b[0marray\u001b[0m\u001b[0;34m[\u001b[0m\u001b[0mi\u001b[0m\u001b[0;34m:\u001b[0m\u001b[0mj\u001b[0m\u001b[0;34m]\u001b[0m\u001b[0;34m\u001b[0m\u001b[0;34m\u001b[0m\u001b[0m\n\u001b[1;32m      7\u001b[0m             \u001b[0mb\u001b[0m \u001b[0;34m=\u001b[0m \u001b[0msorted\u001b[0m\u001b[0;34m(\u001b[0m\u001b[0ma\u001b[0m\u001b[0;34m)\u001b[0m\u001b[0;34m\u001b[0m\u001b[0;34m\u001b[0m\u001b[0m\n\u001b[0;32m----> 8\u001b[0;31m             \u001b[0mc\u001b[0m \u001b[0;34m=\u001b[0m \u001b[0mb\u001b[0m\u001b[0;34m[\u001b[0m\u001b[0mk\u001b[0m\u001b[0;34m]\u001b[0m\u001b[0;34m\u001b[0m\u001b[0;34m\u001b[0m\u001b[0m\n\u001b[0m\u001b[1;32m      9\u001b[0m             \u001b[0mans\u001b[0m\u001b[0;34m.\u001b[0m\u001b[0mappend\u001b[0m\u001b[0;34m(\u001b[0m\u001b[0;34m[\u001b[0m\u001b[0ma\u001b[0m\u001b[0;34m,\u001b[0m\u001b[0mb\u001b[0m\u001b[0;34m,\u001b[0m\u001b[0mc\u001b[0m\u001b[0;34m]\u001b[0m\u001b[0;34m)\u001b[0m\u001b[0;34m\u001b[0m\u001b[0;34m\u001b[0m\u001b[0m\n\u001b[1;32m     10\u001b[0m     \u001b[0;32mreturn\u001b[0m \u001b[0mans\u001b[0m\u001b[0;34m\u001b[0m\u001b[0;34m\u001b[0m\u001b[0m\n",
            "\u001b[0;31mNameError\u001b[0m: name 'k' is not defined"
          ]
        }
      ]
    },
    {
      "cell_type": "code",
      "source": [
        "def solution(array, commands):\n",
        "    ans = []\n",
        "    for n in commands:\n",
        "        i,j,k = n\n",
        "        s = array [i-1:j]\n",
        "        sorted_s = sorted(s)\n",
        "        ans.append(sorted_s[k-1])\n",
        "    return ans\n",
        "\n",
        "print(solution([1, 5, 2, 6, 3, 7, 4],[[2, 5, 3], [4, 4, 1], [1, 7, 3]]))"
      ],
      "metadata": {
        "colab": {
          "base_uri": "https://localhost:8080/"
        },
        "id": "Ft3nH6je4PX0",
        "outputId": "c1f53461-0bcd-4a3c-918f-2846ff2a54b9"
      },
      "execution_count": null,
      "outputs": [
        {
          "output_type": "stream",
          "name": "stdout",
          "text": [
            "[5, 6, 3]\n"
          ]
        }
      ]
    },
    {
      "cell_type": "code",
      "source": [
        "# 콜라문제\n",
        "def solution(a,b,n):\n",
        "    total_count = 0\n",
        "    namoj = 0\n",
        "    count = 0\n",
        "\n",
        "    if n >=2:\n",
        "        count += n//a\n",
        "        namoj += n%a\n",
        "\n",
        "    elif n <2 :\n",
        "        count += (namoj +1 )//a\n",
        "        total_count = count * b  # 갱신하지 않아서 문제가 발생한다.\n",
        "    return total_count\n",
        "\n",
        "print(solution(2,1,20))\n",
        "print(solution(3,1,20))\n"
      ],
      "metadata": {
        "id": "wSceiQlohcFh",
        "colab": {
          "base_uri": "https://localhost:8080/"
        },
        "outputId": "c2746b5a-6a92-4b0d-f143-37142592c909"
      },
      "execution_count": null,
      "outputs": [
        {
          "output_type": "stream",
          "name": "stdout",
          "text": [
            "0\n",
            "0\n"
          ]
        }
      ]
    },
    {
      "cell_type": "code",
      "source": [
        "def solution(a,b,n):\n",
        "    total_count = 0\n",
        "    while n >=2 :\n",
        "        count = (n // a)*b\n",
        "        total_count += count\n",
        "        n = (n%a) +count\n",
        "    return total_count\n",
        "print(solution(2,1,20))"
      ],
      "metadata": {
        "colab": {
          "base_uri": "https://localhost:8080/"
        },
        "id": "3hp6nLCXaa-q",
        "outputId": "1d02b6e1-0799-455a-eec8-0d16e7efe841"
      },
      "execution_count": null,
      "outputs": [
        {
          "output_type": "stream",
          "name": "stdout",
          "text": [
            "19\n"
          ]
        }
      ]
    },
    {
      "cell_type": "code",
      "source": [
        "def solution(a,b,n):\n",
        "    total_count = 0\n",
        "    while n >=2 :\n",
        "        count = (n // a)*b\n",
        "        total_count += count\n",
        "        n = (n%a) +count\n",
        "    return total_count\n",
        "print(solution(3,1,20))"
      ],
      "metadata": {
        "colab": {
          "base_uri": "https://localhost:8080/",
          "height": 297
        },
        "id": "Spw_wbXUbE-6",
        "outputId": "9eb631e1-89c7-4283-a208-d871664ce02a"
      },
      "execution_count": null,
      "outputs": [
        {
          "output_type": "error",
          "ename": "KeyboardInterrupt",
          "evalue": "",
          "traceback": [
            "\u001b[0;31m---------------------------------------------------------------------------\u001b[0m",
            "\u001b[0;31mKeyboardInterrupt\u001b[0m                         Traceback (most recent call last)",
            "\u001b[0;32m/tmp/ipython-input-3639077404.py\u001b[0m in \u001b[0;36m<cell line: 0>\u001b[0;34m()\u001b[0m\n\u001b[1;32m      6\u001b[0m         \u001b[0mn\u001b[0m \u001b[0;34m=\u001b[0m \u001b[0;34m(\u001b[0m\u001b[0mn\u001b[0m\u001b[0;34m%\u001b[0m\u001b[0ma\u001b[0m\u001b[0;34m)\u001b[0m \u001b[0;34m+\u001b[0m\u001b[0mcount\u001b[0m\u001b[0;34m\u001b[0m\u001b[0;34m\u001b[0m\u001b[0m\n\u001b[1;32m      7\u001b[0m     \u001b[0;32mreturn\u001b[0m \u001b[0mtotal_count\u001b[0m\u001b[0;34m\u001b[0m\u001b[0;34m\u001b[0m\u001b[0m\n\u001b[0;32m----> 8\u001b[0;31m \u001b[0mprint\u001b[0m\u001b[0;34m(\u001b[0m\u001b[0msolution\u001b[0m\u001b[0;34m(\u001b[0m\u001b[0;36m3\u001b[0m\u001b[0;34m,\u001b[0m\u001b[0;36m1\u001b[0m\u001b[0;34m,\u001b[0m\u001b[0;36m20\u001b[0m\u001b[0;34m)\u001b[0m\u001b[0;34m)\u001b[0m\u001b[0;34m\u001b[0m\u001b[0;34m\u001b[0m\u001b[0m\n\u001b[0m",
            "\u001b[0;32m/tmp/ipython-input-3639077404.py\u001b[0m in \u001b[0;36msolution\u001b[0;34m(a, b, n)\u001b[0m\n\u001b[1;32m      1\u001b[0m \u001b[0;32mdef\u001b[0m \u001b[0msolution\u001b[0m\u001b[0;34m(\u001b[0m\u001b[0ma\u001b[0m\u001b[0;34m,\u001b[0m\u001b[0mb\u001b[0m\u001b[0;34m,\u001b[0m\u001b[0mn\u001b[0m\u001b[0;34m)\u001b[0m\u001b[0;34m:\u001b[0m\u001b[0;34m\u001b[0m\u001b[0;34m\u001b[0m\u001b[0m\n\u001b[1;32m      2\u001b[0m     \u001b[0mtotal_count\u001b[0m \u001b[0;34m=\u001b[0m \u001b[0;36m0\u001b[0m\u001b[0;34m\u001b[0m\u001b[0;34m\u001b[0m\u001b[0m\n\u001b[0;32m----> 3\u001b[0;31m     \u001b[0;32mwhile\u001b[0m \u001b[0mn\u001b[0m \u001b[0;34m>=\u001b[0m\u001b[0;36m2\u001b[0m \u001b[0;34m:\u001b[0m\u001b[0;34m\u001b[0m\u001b[0;34m\u001b[0m\u001b[0m\n\u001b[0m\u001b[1;32m      4\u001b[0m         \u001b[0mcount\u001b[0m \u001b[0;34m=\u001b[0m \u001b[0;34m(\u001b[0m\u001b[0mn\u001b[0m \u001b[0;34m//\u001b[0m \u001b[0ma\u001b[0m\u001b[0;34m)\u001b[0m\u001b[0;34m*\u001b[0m\u001b[0mb\u001b[0m\u001b[0;34m\u001b[0m\u001b[0;34m\u001b[0m\u001b[0m\n\u001b[1;32m      5\u001b[0m         \u001b[0mtotal_count\u001b[0m \u001b[0;34m+=\u001b[0m \u001b[0mcount\u001b[0m\u001b[0;34m\u001b[0m\u001b[0;34m\u001b[0m\u001b[0m\n",
            "\u001b[0;31mKeyboardInterrupt\u001b[0m: "
          ]
        }
      ]
    },
    {
      "cell_type": "code",
      "source": [
        "#문자열 내 마음대로 정렬하기\n",
        "def solution(strings, n):\n",
        "    return sorted(strings, key=lambda x: (x[n],x))\n",
        "\n",
        "print(solution([\"sun\", \"bed\", \"car\"],1))\n",
        "print(solution([\"abce\", \"abcd\", \"cdx\"],\t2))"
      ],
      "metadata": {
        "id": "2qsq8gQAhcA6",
        "colab": {
          "base_uri": "https://localhost:8080/"
        },
        "outputId": "0a8e9498-2da7-430d-d7bc-849f1eb5dfb2"
      },
      "execution_count": null,
      "outputs": [
        {
          "output_type": "stream",
          "name": "stdout",
          "text": [
            "['car', 'bed', 'sun']\n",
            "['abcd', 'abce', 'cdx']\n"
          ]
        }
      ]
    },
    {
      "cell_type": "code",
      "source": [
        "# 명예의 전당 ????"
      ],
      "metadata": {
        "id": "CA4Rzh7rhb9S"
      },
      "execution_count": null,
      "outputs": []
    },
    {
      "cell_type": "code",
      "source": [
        "#카드뭉치\n",
        "def solution(c1, c2, goal):\n",
        "    ans = []\n",
        "    for i in range(c1):\n",
        "        for j in range(c2):\n",
        "             append()\n",
        "        if ans == goal:\n",
        "            return \"Yes\"\n",
        "        else:\n",
        "            return \"No\"\n",
        "print(solution([\"i\", \"drink\", \"water\"], [\"want\",\"to\"],  [\"i\", \"want\", \"to\", \"drink\", \"water\"]))\n",
        "print(solution([\"i\", \"water\", \"drink\"],\t[\"want\", \"to\"],\t[\"i\", \"want\", \"to\", \"drink\", \"water\"]))"
      ],
      "metadata": {
        "id": "53QpYLjzhb6Y",
        "colab": {
          "base_uri": "https://localhost:8080/",
          "height": 315
        },
        "outputId": "33a1e113-f8fe-4219-da30-1c992f6f19b8"
      },
      "execution_count": null,
      "outputs": [
        {
          "output_type": "error",
          "ename": "TypeError",
          "evalue": "'list' object cannot be interpreted as an integer",
          "traceback": [
            "\u001b[0;31m---------------------------------------------------------------------------\u001b[0m",
            "\u001b[0;31mTypeError\u001b[0m                                 Traceback (most recent call last)",
            "\u001b[0;32m/tmp/ipython-input-3945392244.py\u001b[0m in \u001b[0;36m<cell line: 0>\u001b[0;34m()\u001b[0m\n\u001b[1;32m      9\u001b[0m         \u001b[0;32melse\u001b[0m\u001b[0;34m:\u001b[0m\u001b[0;34m\u001b[0m\u001b[0;34m\u001b[0m\u001b[0m\n\u001b[1;32m     10\u001b[0m             \u001b[0;32mreturn\u001b[0m \u001b[0;34m\"No\"\u001b[0m\u001b[0;34m\u001b[0m\u001b[0;34m\u001b[0m\u001b[0m\n\u001b[0;32m---> 11\u001b[0;31m \u001b[0mprint\u001b[0m\u001b[0;34m(\u001b[0m\u001b[0msolution\u001b[0m\u001b[0;34m(\u001b[0m\u001b[0;34m[\u001b[0m\u001b[0;34m\"i\"\u001b[0m\u001b[0;34m,\u001b[0m \u001b[0;34m\"drink\"\u001b[0m\u001b[0;34m,\u001b[0m \u001b[0;34m\"water\"\u001b[0m\u001b[0;34m]\u001b[0m\u001b[0;34m,\u001b[0m \u001b[0;34m[\u001b[0m\u001b[0;34m\"want\"\u001b[0m\u001b[0;34m,\u001b[0m\u001b[0;34m\"to\"\u001b[0m\u001b[0;34m]\u001b[0m\u001b[0;34m,\u001b[0m  \u001b[0;34m[\u001b[0m\u001b[0;34m\"i\"\u001b[0m\u001b[0;34m,\u001b[0m \u001b[0;34m\"want\"\u001b[0m\u001b[0;34m,\u001b[0m \u001b[0;34m\"to\"\u001b[0m\u001b[0;34m,\u001b[0m \u001b[0;34m\"drink\"\u001b[0m\u001b[0;34m,\u001b[0m \u001b[0;34m\"water\"\u001b[0m\u001b[0;34m]\u001b[0m\u001b[0;34m)\u001b[0m\u001b[0;34m)\u001b[0m\u001b[0;34m\u001b[0m\u001b[0;34m\u001b[0m\u001b[0m\n\u001b[0m\u001b[1;32m     12\u001b[0m \u001b[0mprint\u001b[0m\u001b[0;34m(\u001b[0m\u001b[0msolution\u001b[0m\u001b[0;34m(\u001b[0m\u001b[0;34m[\u001b[0m\u001b[0;34m\"i\"\u001b[0m\u001b[0;34m,\u001b[0m \u001b[0;34m\"water\"\u001b[0m\u001b[0;34m,\u001b[0m \u001b[0;34m\"drink\"\u001b[0m\u001b[0;34m]\u001b[0m\u001b[0;34m,\u001b[0m \u001b[0;34m[\u001b[0m\u001b[0;34m\"want\"\u001b[0m\u001b[0;34m,\u001b[0m \u001b[0;34m\"to\"\u001b[0m\u001b[0;34m]\u001b[0m\u001b[0;34m,\u001b[0m \u001b[0;34m[\u001b[0m\u001b[0;34m\"i\"\u001b[0m\u001b[0;34m,\u001b[0m \u001b[0;34m\"want\"\u001b[0m\u001b[0;34m,\u001b[0m \u001b[0;34m\"to\"\u001b[0m\u001b[0;34m,\u001b[0m \u001b[0;34m\"drink\"\u001b[0m\u001b[0;34m,\u001b[0m \u001b[0;34m\"water\"\u001b[0m\u001b[0;34m]\u001b[0m\u001b[0;34m)\u001b[0m\u001b[0;34m)\u001b[0m\u001b[0;34m\u001b[0m\u001b[0;34m\u001b[0m\u001b[0m\n",
            "\u001b[0;32m/tmp/ipython-input-3945392244.py\u001b[0m in \u001b[0;36msolution\u001b[0;34m(c1, c2, goal)\u001b[0m\n\u001b[1;32m      2\u001b[0m \u001b[0;32mdef\u001b[0m \u001b[0msolution\u001b[0m\u001b[0;34m(\u001b[0m\u001b[0mc1\u001b[0m\u001b[0;34m,\u001b[0m \u001b[0mc2\u001b[0m\u001b[0;34m,\u001b[0m \u001b[0mgoal\u001b[0m\u001b[0;34m)\u001b[0m\u001b[0;34m:\u001b[0m\u001b[0;34m\u001b[0m\u001b[0;34m\u001b[0m\u001b[0m\n\u001b[1;32m      3\u001b[0m     \u001b[0mans\u001b[0m \u001b[0;34m=\u001b[0m \u001b[0;34m[\u001b[0m\u001b[0;34m]\u001b[0m\u001b[0;34m\u001b[0m\u001b[0;34m\u001b[0m\u001b[0m\n\u001b[0;32m----> 4\u001b[0;31m     \u001b[0;32mfor\u001b[0m \u001b[0mi\u001b[0m \u001b[0;32min\u001b[0m \u001b[0mrange\u001b[0m\u001b[0;34m(\u001b[0m\u001b[0mc1\u001b[0m\u001b[0;34m)\u001b[0m\u001b[0;34m:\u001b[0m\u001b[0;34m\u001b[0m\u001b[0;34m\u001b[0m\u001b[0m\n\u001b[0m\u001b[1;32m      5\u001b[0m         \u001b[0;32mfor\u001b[0m \u001b[0mj\u001b[0m \u001b[0;32min\u001b[0m \u001b[0mrange\u001b[0m\u001b[0;34m(\u001b[0m\u001b[0mc2\u001b[0m\u001b[0;34m)\u001b[0m\u001b[0;34m:\u001b[0m\u001b[0;34m\u001b[0m\u001b[0;34m\u001b[0m\u001b[0m\n\u001b[1;32m      6\u001b[0m             \u001b[0;34m''\u001b[0m\u001b[0;34m.\u001b[0m\u001b[0mjoin\u001b[0m\u001b[0;34m(\u001b[0m\u001b[0mc1\u001b[0m\u001b[0;34m[\u001b[0m\u001b[0mi\u001b[0m\u001b[0;34m]\u001b[0m\u001b[0;34m+\u001b[0m\u001b[0mc2\u001b[0m\u001b[0;34m[\u001b[0m\u001b[0mj\u001b[0m\u001b[0;34m]\u001b[0m\u001b[0;34m)\u001b[0m\u001b[0;34m\u001b[0m\u001b[0;34m\u001b[0m\u001b[0m\n",
            "\u001b[0;31mTypeError\u001b[0m: 'list' object cannot be interpreted as an integer"
          ]
        }
      ]
    },
    {
      "cell_type": "code",
      "source": [
        "def solution(c1, c2, goal):\n",
        "    i, j = 0, 0\n",
        "    for w in goal:\n",
        "        if i < len(c1) and c1[i] == w:\n",
        "            i +=1\n",
        "        elif j <len(c2) and c2[j] == w:\n",
        "            j +=1\n",
        "        else:\n",
        "            return \"No\"\n",
        "    return \"Yes\"\n",
        "print(solution([\"i\", \"drink\", \"water\"], [\"want\",\"to\"],  [\"i\", \"want\", \"to\", \"drink\", \"water\"]))\n",
        "print(solution([\"i\", \"water\", \"drink\"],\t[\"want\", \"to\"],\t[\"i\", \"want\", \"to\", \"drink\", \"water\"]))"
      ],
      "metadata": {
        "colab": {
          "base_uri": "https://localhost:8080/"
        },
        "id": "b_5FTs8WeP9U",
        "outputId": "41d56281-87f5-4cd2-9d24-37659918ec23"
      },
      "execution_count": null,
      "outputs": [
        {
          "output_type": "stream",
          "name": "stdout",
          "text": [
            "Yes\n",
            "No\n"
          ]
        }
      ]
    },
    {
      "cell_type": "code",
      "source": [
        "# 추억점수"
      ],
      "metadata": {
        "id": "O2EdUYKAhb0v"
      },
      "execution_count": null,
      "outputs": []
    },
    {
      "cell_type": "code",
      "source": [
        "# 기사단원의 무기"
      ],
      "metadata": {
        "id": "h-v9XkhZhoZV"
      },
      "execution_count": null,
      "outputs": []
    },
    {
      "cell_type": "code",
      "source": [
        "# 포켓몬\n",
        "# 총 N 마리의 폰켓몬 중에서 N/2마리\n",
        "def solution(nums):\n",
        "    result = 0\n",
        "    lst = \"\"\n",
        "    for i in nums:\n",
        "        lst += str(i)\n",
        "        if len(lst) == (len(nums)//2):\n",
        "            break\n",
        "#문제가 발생 !! 뒤에 있는 폰켓몬까지 카운트 하지 못한다.\n",
        "        if set(lst) == 1:\n",
        "                result+= 0\n",
        "        else :\n",
        "                result += 1\n",
        "    return result\n",
        "\n",
        "print(solution([3,1,2,3]))\n",
        "print(solution([3,3,3,2,2,4]))\n",
        "print(solution([3,3,3,2,2,2]))"
      ],
      "metadata": {
        "id": "qfUC-XrMhoWZ",
        "colab": {
          "base_uri": "https://localhost:8080/",
          "height": 332
        },
        "outputId": "f00f4638-2694-46ec-d549-787f69034609"
      },
      "execution_count": null,
      "outputs": [
        {
          "output_type": "error",
          "ename": "NameError",
          "evalue": "name 'i' is not defined",
          "traceback": [
            "\u001b[0;31m---------------------------------------------------------------------------\u001b[0m",
            "\u001b[0;31mNameError\u001b[0m                                 Traceback (most recent call last)",
            "\u001b[0;32m/tmp/ipython-input-165582629.py\u001b[0m in \u001b[0;36m<cell line: 0>\u001b[0;34m()\u001b[0m\n\u001b[1;32m     14\u001b[0m     \u001b[0;32mreturn\u001b[0m \u001b[0mresult\u001b[0m\u001b[0;34m\u001b[0m\u001b[0;34m\u001b[0m\u001b[0m\n\u001b[1;32m     15\u001b[0m \u001b[0;34m\u001b[0m\u001b[0m\n\u001b[0;32m---> 16\u001b[0;31m \u001b[0mprint\u001b[0m\u001b[0;34m(\u001b[0m\u001b[0msolution\u001b[0m\u001b[0;34m(\u001b[0m\u001b[0;34m[\u001b[0m\u001b[0;36m3\u001b[0m\u001b[0;34m,\u001b[0m\u001b[0;36m1\u001b[0m\u001b[0;34m,\u001b[0m\u001b[0;36m2\u001b[0m\u001b[0;34m,\u001b[0m\u001b[0;36m3\u001b[0m\u001b[0;34m]\u001b[0m\u001b[0;34m)\u001b[0m\u001b[0;34m)\u001b[0m\u001b[0;34m\u001b[0m\u001b[0;34m\u001b[0m\u001b[0m\n\u001b[0m\u001b[1;32m     17\u001b[0m \u001b[0mprint\u001b[0m\u001b[0;34m(\u001b[0m\u001b[0msolution\u001b[0m\u001b[0;34m(\u001b[0m\u001b[0;34m[\u001b[0m\u001b[0;36m3\u001b[0m\u001b[0;34m,\u001b[0m\u001b[0;36m3\u001b[0m\u001b[0;34m,\u001b[0m\u001b[0;36m3\u001b[0m\u001b[0;34m,\u001b[0m\u001b[0;36m2\u001b[0m\u001b[0;34m,\u001b[0m\u001b[0;36m2\u001b[0m\u001b[0;34m,\u001b[0m\u001b[0;36m4\u001b[0m\u001b[0;34m]\u001b[0m\u001b[0;34m)\u001b[0m\u001b[0;34m)\u001b[0m\u001b[0;34m\u001b[0m\u001b[0;34m\u001b[0m\u001b[0m\n\u001b[1;32m     18\u001b[0m \u001b[0mprint\u001b[0m\u001b[0;34m(\u001b[0m\u001b[0msolution\u001b[0m\u001b[0;34m(\u001b[0m\u001b[0;34m[\u001b[0m\u001b[0;36m3\u001b[0m\u001b[0;34m,\u001b[0m\u001b[0;36m3\u001b[0m\u001b[0;34m,\u001b[0m\u001b[0;36m3\u001b[0m\u001b[0;34m,\u001b[0m\u001b[0;36m2\u001b[0m\u001b[0;34m,\u001b[0m\u001b[0;36m2\u001b[0m\u001b[0;34m,\u001b[0m\u001b[0;36m2\u001b[0m\u001b[0;34m]\u001b[0m\u001b[0;34m)\u001b[0m\u001b[0;34m)\u001b[0m\u001b[0;34m\u001b[0m\u001b[0;34m\u001b[0m\u001b[0m\n",
            "\u001b[0;32m/tmp/ipython-input-165582629.py\u001b[0m in \u001b[0;36msolution\u001b[0;34m(nums)\u001b[0m\n\u001b[1;32m      4\u001b[0m     \u001b[0mresult\u001b[0m \u001b[0;34m=\u001b[0m \u001b[0;36m0\u001b[0m\u001b[0;34m\u001b[0m\u001b[0;34m\u001b[0m\u001b[0m\n\u001b[1;32m      5\u001b[0m     \u001b[0mlst\u001b[0m \u001b[0;34m=\u001b[0m \u001b[0;34m\"\"\u001b[0m\u001b[0;34m\u001b[0m\u001b[0;34m\u001b[0m\u001b[0m\n\u001b[0;32m----> 6\u001b[0;31m     \u001b[0;32mwhile\u001b[0m \u001b[0mi\u001b[0m \u001b[0;32min\u001b[0m \u001b[0mnums\u001b[0m\u001b[0;34m:\u001b[0m\u001b[0;34m\u001b[0m\u001b[0;34m\u001b[0m\u001b[0m\n\u001b[0m\u001b[1;32m      7\u001b[0m         \u001b[0mlst\u001b[0m \u001b[0;34m+=\u001b[0m \u001b[0mstr\u001b[0m\u001b[0;34m(\u001b[0m\u001b[0mi\u001b[0m\u001b[0;34m)\u001b[0m\u001b[0;34m\u001b[0m\u001b[0;34m\u001b[0m\u001b[0m\n\u001b[1;32m      8\u001b[0m         \u001b[0;32mif\u001b[0m \u001b[0mlen\u001b[0m\u001b[0;34m(\u001b[0m\u001b[0mlst\u001b[0m\u001b[0;34m)\u001b[0m \u001b[0;34m==\u001b[0m \u001b[0;34m(\u001b[0m\u001b[0mlen\u001b[0m\u001b[0;34m(\u001b[0m\u001b[0mnums\u001b[0m\u001b[0;34m)\u001b[0m\u001b[0;34m//\u001b[0m\u001b[0;36m2\u001b[0m\u001b[0;34m)\u001b[0m\u001b[0;34m:\u001b[0m\u001b[0;34m\u001b[0m\u001b[0;34m\u001b[0m\u001b[0m\n",
            "\u001b[0;31mNameError\u001b[0m: name 'i' is not defined"
          ]
        }
      ]
    },
    {
      "cell_type": "code",
      "source": [
        "def solution(nums):\n",
        "    sel=[]\n",
        "    s_num = set()\n",
        "    for x in nums:\n",
        "        if x not in s_num:\n",
        "            s_num.add(x)\n",
        "            sel.append(x)\n",
        "            if len(sel)==len(nums)//2:\n",
        "                break\n",
        "    return len(sel)\n",
        "print(solution([3,1,2,3]))\n",
        "print(solution([3,3,3,2,2,4]))\n",
        "print(solution([3,3,3,2,2,2]))"
      ],
      "metadata": {
        "colab": {
          "base_uri": "https://localhost:8080/"
        },
        "id": "BeCKKohq4pg-",
        "outputId": "59576a96-bf77-498b-ecb7-0c7e2eeff2d4"
      },
      "execution_count": null,
      "outputs": [
        {
          "output_type": "stream",
          "name": "stdout",
          "text": [
            "2\n",
            "3\n",
            "2\n"
          ]
        }
      ]
    },
    {
      "cell_type": "code",
      "source": [
        "def solution(nums):\n",
        "    ans = []\n",
        "    result = 0\n",
        "    for n in range(0, (len(nums)//2+1)):\n",
        "        if nums[-1] != nums[n]:\n",
        "            ans.append(nums[n])\n",
        "            result +=1\n",
        "    return result\n",
        "\n",
        "print(solution([3,1,2,3]))\n",
        "print(solution([3,3,3,2,2,4]))\n",
        "print(solution([3,3,3,2,2,2]))"
      ],
      "metadata": {
        "colab": {
          "base_uri": "https://localhost:8080/"
        },
        "id": "jfn7Wox666JW",
        "outputId": "ec4a773c-08a0-4bfb-d1ed-3e453597225c"
      },
      "execution_count": null,
      "outputs": [
        {
          "output_type": "stream",
          "name": "stdout",
          "text": [
            "2\n",
            "4\n",
            "3\n"
          ]
        }
      ]
    },
    {
      "cell_type": "code",
      "source": [
        "# 2016년\n",
        "def solution(a, b):\n",
        "    days = ['FRI','SAT','SUN','MON','TUE','WED','THU']\n",
        "    last_day = [31,29,31,30,31,30,31,31,30,31,30,31]\n",
        "\n",
        "    total_days = sum(last_day[:a-1]) +b\n",
        "\n",
        "    return days[(total_days -1)%7]\n",
        "print(solution())\n",
        "print(solution())"
      ],
      "metadata": {
        "id": "gFugyUi3hoUD"
      },
      "execution_count": null,
      "outputs": []
    },
    {
      "cell_type": "code",
      "source": [
        "# 모의고사\n",
        "def solution(answers):\n",
        "    supo1= [1, 2, 3, 4, 5, 1, 2, 3, 4, 5]\n",
        "    supo2= [2, 1, 2, 3, 2, 4, 2, 5, 2, 1, 2, 3, 2, 4, 2, 5]\n",
        "    supo3= [3, 3, 1, 1, 2, 2, 4, 4, 5, 5, 3, 3, 1, 1, 2, 2, 4, 4, 5, 5]\n",
        "\n",
        "    scores = [0,0,0]\n",
        "\n",
        "    for idx, answer in enumerate(answers):\n",
        "        if answer == supo1[idx % len(supo1)]:\n",
        "            scores[0] +=1\n",
        "        if answer == supo2[idx % len(supo2)]:\n",
        "            scores[1] +=1\n",
        "        if answer == supo3[idx % len(supo3)]:\n",
        "            scores[2] +=1\n",
        "\n",
        "    max_score = max(scores)\n",
        "    result=[]\n",
        "    for i,s in enumerate(scores):\n",
        "        if s == max_score:\n",
        "            result.append(i+1)\n",
        "    return result\n",
        "\n",
        "print(solution([1,2,3,4,5]))\n",
        "print(solution([1,3,2,4,2]))\n"
      ],
      "metadata": {
        "id": "le7QMXBChoRW",
        "colab": {
          "base_uri": "https://localhost:8080/"
        },
        "outputId": "7584cad7-073a-4dba-e124-640b46b2cf00"
      },
      "execution_count": null,
      "outputs": [
        {
          "output_type": "stream",
          "name": "stdout",
          "text": [
            "[1]\n",
            "[1, 2, 3]\n"
          ]
        }
      ]
    },
    {
      "cell_type": "code",
      "source": [
        "# 덧칠하기\n",
        "def solution(n, m, section):\n",
        "    # section이 정렬/중복 제거된 상태라고 가정하지만,\n",
        "    # 안전하게 정렬/중복 제거를 해두면 좋습니다.\n",
        "    section = sorted(set(section))\n",
        "\n",
        "    answer = 0\n",
        "    i = 0\n",
        "    while i < len(section):\n",
        "        start = section[i]\n",
        "        end = start + m - 1   # 이번 롤러로 칠해지는 마지막 구역\n",
        "        answer += 1           # 롤러 1회 사용\n",
        "\n",
        "        # end 안에 포함되는 구역들은 모두 건너뛰기\n",
        "        i += 1\n",
        "        while i < len(section) and section[i] <= end:\n",
        "            i += 1\n",
        "    return answer\n",
        "\n",
        "print(solution(8,\t4,\t[2, 3, 6]))\n",
        "print(solution(5,\t4,\t[1, 3]))\n",
        "print(solution(4,\t1,\t[1, 2, 3, 4]))"
      ],
      "metadata": {
        "id": "nv10M6p0hoOf",
        "colab": {
          "base_uri": "https://localhost:8080/"
        },
        "outputId": "d1f7720f-9e3a-4a58-b96d-5806d9ac629d"
      },
      "execution_count": null,
      "outputs": [
        {
          "output_type": "stream",
          "name": "stdout",
          "text": [
            "2\n",
            "1\n",
            "4\n"
          ]
        }
      ]
    },
    {
      "cell_type": "code",
      "source": [
        "# 과일장수\n",
        "def solution(k, m, score):\n",
        "    score.sort(reverse=True)\n",
        "    answer = 0\n",
        "\n",
        "    for i in range(0, len(score), m):\n",
        "        box = score[i:i+m]\n",
        "        if len(box) == m:\n",
        "            answer += min(box)*m\n",
        "\n",
        "    return answer\n",
        "\n",
        "print(solution(3,\t4,\t[1, 2, 3, 1, 2, 3, 1]))\n",
        "print(solution(4,\t3,\t[4, 1, 2, 2, 4, 4, 4, 4, 1, 2, 4, 2]))\n"
      ],
      "metadata": {
        "id": "Ri_hqCkOhuQ_",
        "colab": {
          "base_uri": "https://localhost:8080/"
        },
        "outputId": "96a94b45-19fe-41bf-bd74-7ebceb54cf08"
      },
      "execution_count": null,
      "outputs": [
        {
          "output_type": "stream",
          "name": "stdout",
          "text": [
            "8\n",
            "33\n"
          ]
        }
      ]
    },
    {
      "cell_type": "code",
      "source": [
        " # [PCCE 기출문제] 9번 / 지폐 접기\n",
        "\n",
        "\n",
        "print(solution())\n",
        "print(solution())\n"
      ],
      "metadata": {
        "id": "576_O_VIhuNv"
      },
      "execution_count": null,
      "outputs": []
    },
    {
      "cell_type": "code",
      "source": [
        "# 소수만들기\n",
        "def is_prime(n):\n",
        "    if n < 2:\n",
        "        return False\n",
        "    for i in range(2, int(n**0.5)+1):\n",
        "        if n % i == 0:\n",
        "            return False\n",
        "    return True\n",
        "\n",
        "def solution(nums):\n",
        "    count = 0\n",
        "    n = len(nums)\n",
        "\n",
        "    for i in range(n):\n",
        "        for j in range(i+1, n):\n",
        "            for k in range(j+1, n):\n",
        "                total = nums[i] + nums[j] + nums[k]\n",
        "                if is_prime(total):\n",
        "                    count += 1\n",
        "    return count\n",
        "\n",
        "print(solution([1,2,3,4]))\n",
        "print(solution([1,2,7,6,4]))\n"
      ],
      "metadata": {
        "id": "NC68uAU3huLK",
        "colab": {
          "base_uri": "https://localhost:8080/"
        },
        "outputId": "c7a991ae-a13b-4715-9824-4d104ebee373"
      },
      "execution_count": null,
      "outputs": [
        {
          "output_type": "stream",
          "name": "stdout",
          "text": [
            "1\n",
            "4\n"
          ]
        }
      ]
    },
    {
      "cell_type": "code",
      "source": [
        "# 소수찾기\n",
        "def solution(n):\n",
        "    nums = set(range(2,n+1))\n",
        "\n",
        "    for i in range(2, int(n**0.5) + 1):\n",
        "        if i in nums:\n",
        "            nums-=set(range(i*2,n+1,i))\n",
        "\n",
        "    return len(nums)\n",
        "\n",
        "print(solution(10))\n",
        "print(solution(5))"
      ],
      "metadata": {
        "id": "Xl4tlwUyhuIQ",
        "colab": {
          "base_uri": "https://localhost:8080/"
        },
        "outputId": "a4382a00-a489-4c8b-b629-e5014248d299"
      },
      "execution_count": null,
      "outputs": [
        {
          "output_type": "stream",
          "name": "stdout",
          "text": [
            "4\n",
            "3\n"
          ]
        }
      ]
    },
    {
      "cell_type": "code",
      "source": [
        "# 옹알이\n",
        "def solution(babbling):\n",
        "    possible = [\"aya\", \"ye\", \"woo\", \"ma\"]\n",
        "    count = 0\n",
        "\n",
        "    for sent in babbling:\n",
        "        temp = \"\"\n",
        "        i=0\n",
        "\n",
        "        while i < len(sent):\n",
        "            matched = False\n",
        "            for p in possible:\n",
        "                if sent[i:i+len(p)] == p:\n",
        "                    if temp == p:\n",
        "                        matched == False\n",
        "                        break\n",
        "                    else:\n",
        "                        temp = p\n",
        "                        i+=len(p)\n",
        "                        matched = True\n",
        "                        break\n",
        "            if not matched:\n",
        "                break\n",
        "        else:\n",
        "            count +=1\n",
        "    return count\n",
        "\n",
        "print(solution([\"aya\", \"yee\", \"u\", \"maa\"]))\n",
        "print(solution([\"ayaye\", \"uuu\", \"yeye\", \"yemawoo\", \"ayaayaa\"]))"
      ],
      "metadata": {
        "id": "DFCQcuIsh1bH"
      },
      "execution_count": null,
      "outputs": []
    }
  ]
}