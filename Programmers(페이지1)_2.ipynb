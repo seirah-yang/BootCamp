{
  "nbformat": 4,
  "nbformat_minor": 0,
  "metadata": {
    "colab": {
      "provenance": [],
      "authorship_tag": "ABX9TyNWOlQUbljpBENbU+B9c0Xp",
      "include_colab_link": true
    },
    "kernelspec": {
      "name": "python3",
      "display_name": "Python 3"
    },
    "language_info": {
      "name": "python"
    }
  },
  "cells": [
    {
      "cell_type": "markdown",
      "metadata": {
        "id": "view-in-github",
        "colab_type": "text"
      },
      "source": [
        "<a href=\"https://colab.research.google.com/github/seirah-yang/BootCamp/blob/main/Programmers(%ED%8E%98%EC%9D%B4%EC%A7%801)_2.ipynb\" target=\"_parent\"><img src=\"https://colab.research.google.com/assets/colab-badge.svg\" alt=\"Open In Colab\"/></a>"
      ]
    },
    {
      "cell_type": "code",
      "source": [
        "# 정수 제곱근 판별\n",
        "def solution(n):\n",
        "    for x in range(1, n+1):\n",
        "        if n  == x**2:\n",
        "            return (x+1)*(x+1)\n",
        "        else:\n",
        "            return -1\n",
        "\n",
        "print(solution(121))\n",
        "print(solution(3))"
      ],
      "metadata": {
        "colab": {
          "base_uri": "https://localhost:8080/"
        },
        "id": "A4HMmIcsFzxh",
        "outputId": "57eec353-a22b-4b18-d5e1-89e33d0f1828"
      },
      "execution_count": 19,
      "outputs": [
        {
          "output_type": "stream",
          "name": "stdout",
          "text": [
            "-1\n",
            "-1\n"
          ]
        }
      ]
    },
    {
      "cell_type": "code",
      "source": [
        "def solution(n):\n",
        "    for x in range(1,n):\n",
        "        if n**0.5  == x:\n",
        "            return (x+1)*(x+1)\n",
        "    else:\n",
        "        return -1\n",
        "\n",
        "# for x in range(1, n) 루프를 돌면서, n**0.5 == x 조건이 한 번이라도 참이면 return이 실행 → 함수 종료\n",
        "# 만약 끝까지 돌았는데 if 조건을 만족하는 x가 없으면, for문이 break 없이 종료 → else 블록 실행 → -1 반환\n",
        "\n",
        "print(solution(121))\n",
        "print(solution(3))"
      ],
      "metadata": {
        "id": "sSs7lYw3f3hH",
        "colab": {
          "base_uri": "https://localhost:8080/"
        },
        "outputId": "14959292-75de-4592-b797-1bb3f6b43ddd"
      },
      "execution_count": 10,
      "outputs": [
        {
          "output_type": "stream",
          "name": "stdout",
          "text": [
            "144\n",
            "-1\n"
          ]
        }
      ]
    },
    {
      "cell_type": "code",
      "source": [
        "# 하샤드 수\n",
        "def solution(x):\n",
        "    n = 0\n",
        "    for i in str(x):\n",
        "        n += int(i)\n",
        "\n",
        "    if x % n == 0:\n",
        "        return True\n",
        "    else:\n",
        "        return False\n",
        "\n",
        "print(solution(10))\n",
        "print(solution(12))\n",
        "print(solution(11))\n",
        "print(solution(13))"
      ],
      "metadata": {
        "id": "QDHArIZtf3d4",
        "colab": {
          "base_uri": "https://localhost:8080/"
        },
        "outputId": "3a1cf3bf-2641-4710-dcf9-1c947268c6a7"
      },
      "execution_count": 17,
      "outputs": [
        {
          "output_type": "stream",
          "name": "stdout",
          "text": [
            "True\n",
            "True\n",
            "False\n",
            "False\n"
          ]
        }
      ]
    },
    {
      "cell_type": "code",
      "source": [
        "# 음양 더하기\n",
        "# 이 정수들의 절댓값을 차례대로 담은 정수 배열 absolutes\n",
        "# 이 정수들의 부호를 차례대로 담은 불리언 배열 signs\n",
        "def solution(absolutes, signs):\n",
        "    ans = 0\n",
        "    for i in range(len(absolutes)):\n",
        "        if signs[i] is True :\n",
        "            ans += absolutes[i]\n",
        "        else:\n",
        "            ans -= absolutes[i]\n",
        "    return ans\n",
        "\n",
        "print(solution([4,7,12], [True, False, True]))\n",
        "print(solution([1,2,3], [False, False, True]))\n"
      ],
      "metadata": {
        "id": "G1nNZWBQf3au",
        "colab": {
          "base_uri": "https://localhost:8080/"
        },
        "outputId": "fe36b8d2-7710-4c21-8cae-6525f56ba2d1"
      },
      "execution_count": 42,
      "outputs": [
        {
          "output_type": "stream",
          "name": "stdout",
          "text": [
            "9\n",
            "0\n"
          ]
        }
      ]
    },
    {
      "cell_type": "code",
      "source": [
        "# 나누어 떨어지는 숫자 배열\n",
        "def solution(arr, divisor):\n",
        "    ans = []\n",
        "    for i in arr :\n",
        "        if i % divisor == 0:\n",
        "            ans += int(i)              # 리스트에 숫자를 더하는 잘못된 문법\n",
        "            return sorted(ans)  # Loop 도중 중단\n",
        "    else:\n",
        "        return -1\n",
        "\n",
        "print(solution([5,9,7,10], 5))\n",
        "print(solution([2, 36, 1, 3], 1))\n",
        "print(solution([3,2,6], 10))"
      ],
      "metadata": {
        "colab": {
          "base_uri": "https://localhost:8080/",
          "height": 332
        },
        "id": "OsJfK0ExWd36",
        "outputId": "4865ffdb-655a-42d5-eb3f-6bfaee402854"
      },
      "execution_count": 46,
      "outputs": [
        {
          "output_type": "error",
          "ename": "TypeError",
          "evalue": "'int' object is not iterable",
          "traceback": [
            "\u001b[0;31m---------------------------------------------------------------------------\u001b[0m",
            "\u001b[0;31mTypeError\u001b[0m                                 Traceback (most recent call last)",
            "\u001b[0;32m/tmp/ipython-input-720584396.py\u001b[0m in \u001b[0;36m<cell line: 0>\u001b[0;34m()\u001b[0m\n\u001b[1;32m      9\u001b[0m         \u001b[0;32mreturn\u001b[0m \u001b[0;34m-\u001b[0m\u001b[0;36m1\u001b[0m\u001b[0;34m\u001b[0m\u001b[0;34m\u001b[0m\u001b[0m\n\u001b[1;32m     10\u001b[0m \u001b[0;34m\u001b[0m\u001b[0m\n\u001b[0;32m---> 11\u001b[0;31m \u001b[0mprint\u001b[0m\u001b[0;34m(\u001b[0m\u001b[0msolution\u001b[0m\u001b[0;34m(\u001b[0m\u001b[0;34m[\u001b[0m\u001b[0;36m5\u001b[0m\u001b[0;34m,\u001b[0m\u001b[0;36m9\u001b[0m\u001b[0;34m,\u001b[0m\u001b[0;36m7\u001b[0m\u001b[0;34m,\u001b[0m\u001b[0;36m10\u001b[0m\u001b[0;34m]\u001b[0m\u001b[0;34m,\u001b[0m \u001b[0;36m5\u001b[0m\u001b[0;34m)\u001b[0m\u001b[0;34m)\u001b[0m\u001b[0;34m\u001b[0m\u001b[0;34m\u001b[0m\u001b[0m\n\u001b[0m\u001b[1;32m     12\u001b[0m \u001b[0mprint\u001b[0m\u001b[0;34m(\u001b[0m\u001b[0msolution\u001b[0m\u001b[0;34m(\u001b[0m\u001b[0;34m[\u001b[0m\u001b[0;36m2\u001b[0m\u001b[0;34m,\u001b[0m \u001b[0;36m36\u001b[0m\u001b[0;34m,\u001b[0m \u001b[0;36m1\u001b[0m\u001b[0;34m,\u001b[0m \u001b[0;36m3\u001b[0m\u001b[0;34m]\u001b[0m\u001b[0;34m,\u001b[0m \u001b[0;36m1\u001b[0m\u001b[0;34m)\u001b[0m\u001b[0;34m)\u001b[0m\u001b[0;34m\u001b[0m\u001b[0;34m\u001b[0m\u001b[0m\n\u001b[1;32m     13\u001b[0m \u001b[0mprint\u001b[0m\u001b[0;34m(\u001b[0m\u001b[0msolution\u001b[0m\u001b[0;34m(\u001b[0m\u001b[0;34m[\u001b[0m\u001b[0;36m3\u001b[0m\u001b[0;34m,\u001b[0m\u001b[0;36m2\u001b[0m\u001b[0;34m,\u001b[0m\u001b[0;36m6\u001b[0m\u001b[0;34m]\u001b[0m\u001b[0;34m,\u001b[0m \u001b[0;36m10\u001b[0m\u001b[0;34m)\u001b[0m\u001b[0;34m)\u001b[0m\u001b[0;34m\u001b[0m\u001b[0;34m\u001b[0m\u001b[0m\n",
            "\u001b[0;32m/tmp/ipython-input-720584396.py\u001b[0m in \u001b[0;36msolution\u001b[0;34m(arr, divisor)\u001b[0m\n\u001b[1;32m      4\u001b[0m     \u001b[0;32mfor\u001b[0m \u001b[0mi\u001b[0m \u001b[0;32min\u001b[0m \u001b[0marr\u001b[0m \u001b[0;34m:\u001b[0m\u001b[0;34m\u001b[0m\u001b[0;34m\u001b[0m\u001b[0m\n\u001b[1;32m      5\u001b[0m         \u001b[0;32mif\u001b[0m \u001b[0mi\u001b[0m \u001b[0;34m%\u001b[0m \u001b[0mdivisor\u001b[0m \u001b[0;34m==\u001b[0m \u001b[0;36m0\u001b[0m\u001b[0;34m:\u001b[0m\u001b[0;34m\u001b[0m\u001b[0;34m\u001b[0m\u001b[0m\n\u001b[0;32m----> 6\u001b[0;31m             \u001b[0mans\u001b[0m \u001b[0;34m+=\u001b[0m \u001b[0mint\u001b[0m\u001b[0;34m(\u001b[0m\u001b[0mi\u001b[0m\u001b[0;34m)\u001b[0m\u001b[0;34m\u001b[0m\u001b[0;34m\u001b[0m\u001b[0m\n\u001b[0m\u001b[1;32m      7\u001b[0m             \u001b[0;32mreturn\u001b[0m \u001b[0msorted\u001b[0m\u001b[0;34m(\u001b[0m\u001b[0mans\u001b[0m\u001b[0;34m)\u001b[0m\u001b[0;34m\u001b[0m\u001b[0;34m\u001b[0m\u001b[0m\n\u001b[1;32m      8\u001b[0m     \u001b[0;32melse\u001b[0m\u001b[0;34m:\u001b[0m\u001b[0;34m\u001b[0m\u001b[0;34m\u001b[0m\u001b[0m\n",
            "\u001b[0;31mTypeError\u001b[0m: 'int' object is not iterable"
          ]
        }
      ]
    },
    {
      "cell_type": "code",
      "source": [
        "\n",
        "def solution(arr, divisor):\n",
        "    answer = []\n",
        "    for i in arr:\n",
        "        if i%divisor ==0:\n",
        "            answer.append(i)\n",
        "    if not answer:\n",
        "        return [-1]\n",
        "    return sorted(answer)\n",
        "\n",
        "print(solution([5,9,7,10], 5))\n",
        "print(solution([2, 36, 1, 3], 1))\n",
        "print(solution([3,2,6], 10))\n"
      ],
      "metadata": {
        "id": "rF-Nyv3Gf3S4",
        "colab": {
          "base_uri": "https://localhost:8080/"
        },
        "outputId": "8ad25600-a98f-483e-b294-fbaa392dbe2e"
      },
      "execution_count": 43,
      "outputs": [
        {
          "output_type": "stream",
          "name": "stdout",
          "text": [
            "[5, 10]\n",
            "[1, 2, 3, 36]\n",
            "[-1]\n"
          ]
        }
      ]
    },
    {
      "cell_type": "code",
      "source": [
        "# 서울에서 김서방 찾기\n",
        "def solution(seoul):\n",
        "    index = seoul.index(\"Kim\")\n",
        "    return f\"김서방은 {index}에 있다. \"\n",
        "\n",
        "print(solution([\"Jane\", \"Kim\"]))"
      ],
      "metadata": {
        "id": "SasnU7oGgEqV",
        "colab": {
          "base_uri": "https://localhost:8080/"
        },
        "outputId": "9cea0e9f-876a-4370-92c7-0f6a0cdb0445"
      },
      "execution_count": 50,
      "outputs": [
        {
          "output_type": "stream",
          "name": "stdout",
          "text": [
            "김서방은 1에 있다. \n"
          ]
        }
      ]
    },
    {
      "cell_type": "code",
      "source": [
        "# 콜라츠 추측\n",
        "def solution(num):\n",
        "    count = 0\n",
        "    while num != 1:\n",
        "        if num % 2 == 0:  # 짝수\n",
        "            num //= 2\n",
        "        else:             # 홀수\n",
        "            num = num * 3 + 1\n",
        "        count += 1\n",
        "        if count >= 500:\n",
        "            return -1\n",
        "    return count\n",
        "\n",
        "print(solution(6))\n",
        "print(solution(16))\n",
        "print(solution(626331))\n"
      ],
      "metadata": {
        "id": "-4HjIpFbgEm7",
        "colab": {
          "base_uri": "https://localhost:8080/"
        },
        "outputId": "3b47910f-fb48-4003-e9a8-4cdd38ca944a"
      },
      "execution_count": 51,
      "outputs": [
        {
          "output_type": "stream",
          "name": "stdout",
          "text": [
            "8\n",
            "4\n",
            "-1\n"
          ]
        }
      ]
    },
    {
      "cell_type": "code",
      "source": [
        "# 핸드폰 번호 가리기\n",
        "def solution(phone_number):\n",
        "    return '*'*(len(phone_number)-4)+phone_number[-4:]\n",
        "\n",
        "print(solution(\"01033334444\"))\n",
        "print(solution(\"027778888\"))\n"
      ],
      "metadata": {
        "id": "hA0Ha8YigEdW",
        "colab": {
          "base_uri": "https://localhost:8080/"
        },
        "outputId": "08f37a96-caa2-404a-c1cf-3c12fd40abf8"
      },
      "execution_count": 52,
      "outputs": [
        {
          "output_type": "stream",
          "name": "stdout",
          "text": [
            "*******4444\n",
            "*****8888\n"
          ]
        }
      ]
    },
    {
      "cell_type": "code",
      "source": [
        "# 가운데 글자 가져오기\n",
        "def solution(s):\n",
        "    l=len(s)//2\n",
        "    if len(s)%2 == 0:\n",
        "        return s[l-1:l+1]\n",
        "    else:\n",
        "        return s[l]\n",
        "\n",
        "print(solution(\"abcde\"))\n",
        "print(solution(\"qwer\"))"
      ],
      "metadata": {
        "id": "HbO-cpJzgOgR",
        "colab": {
          "base_uri": "https://localhost:8080/"
        },
        "outputId": "443a1f1e-8922-447d-f6a6-e7a91599efd4"
      },
      "execution_count": 29,
      "outputs": [
        {
          "output_type": "stream",
          "name": "stdout",
          "text": [
            "c\n",
            "we\n"
          ]
        }
      ]
    },
    {
      "cell_type": "code",
      "source": [],
      "metadata": {
        "id": "elc0djxRHfyy"
      },
      "execution_count": null,
      "outputs": []
    }
  ]
}