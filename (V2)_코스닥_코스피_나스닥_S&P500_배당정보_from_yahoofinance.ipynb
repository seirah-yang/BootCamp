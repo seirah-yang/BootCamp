{
  "nbformat": 4,
  "nbformat_minor": 0,
  "metadata": {
    "colab": {
      "provenance": [],
      "authorship_tag": "ABX9TyOtq1pWH+Xw2+Yq/IhILzNt",
      "include_colab_link": true
    },
    "kernelspec": {
      "name": "python3",
      "display_name": "Python 3"
    },
    "language_info": {
      "name": "python"
    }
  },
  "cells": [
    {
      "cell_type": "markdown",
      "metadata": {
        "id": "view-in-github",
        "colab_type": "text"
      },
      "source": [
        "<a href=\"https://colab.research.google.com/github/seirah-yang/Colabwork/blob/main/(V2)_%EC%BD%94%EC%8A%A4%EB%8B%A5_%EC%BD%94%EC%8A%A4%ED%94%BC_%EB%82%98%EC%8A%A4%EB%8B%A5_S%26P500_%EB%B0%B0%EB%8B%B9%EC%A0%95%EB%B3%B4_from_yahoofinance.ipynb\" target=\"_parent\"><img src=\"https://colab.research.google.com/assets/colab-badge.svg\" alt=\"Open In Colab\"/></a>"
      ]
    },
    {
      "cell_type": "markdown",
      "source": [
        "##실행하면 만들어지는 파일\n",
        "\n",
        "./data/dividends_all_companies_5y.csv : 일자별 배당 (티커, 이름, 날짜, 주당배당금)\n",
        "\n",
        "./data/dividends_yearly_sum.csv : 연도별 합계 배당\n",
        "\n",
        "./data/tickers_not_found.csv : 야후에 존재하지 않는 티커\n",
        "\n",
        "./data/tickers_with_no_dividends.csv : 최근 5년 배당 기록이 없는 유효 티커"
      ],
      "metadata": {
        "id": "VoDyF5__bEbT"
      }
    },
    {
      "cell_type": "code",
      "execution_count": null,
      "metadata": {
        "id": "DLKF20qerjIN",
        "colab": {
          "base_uri": "https://localhost:8080/"
        },
        "outputId": "f61360b4-5d97-466f-b946-10ae7ba47bdf"
      },
      "outputs": [
        {
          "output_type": "stream",
          "name": "stdout",
          "text": [
            "Requirement already satisfied: yfinance in /usr/local/lib/python3.11/dist-packages (0.2.65)\n",
            "Requirement already satisfied: pandas in /usr/local/lib/python3.11/dist-packages (2.2.2)\n",
            "Requirement already satisfied: tqdm in /usr/local/lib/python3.11/dist-packages (4.67.1)\n",
            "Requirement already satisfied: numpy>=1.16.5 in /usr/local/lib/python3.11/dist-packages (from yfinance) (2.0.2)\n",
            "Requirement already satisfied: requests>=2.31 in /usr/local/lib/python3.11/dist-packages (from yfinance) (2.32.3)\n",
            "Requirement already satisfied: multitasking>=0.0.7 in /usr/local/lib/python3.11/dist-packages (from yfinance) (0.0.12)\n",
            "Requirement already satisfied: platformdirs>=2.0.0 in /usr/local/lib/python3.11/dist-packages (from yfinance) (4.3.8)\n",
            "Requirement already satisfied: pytz>=2022.5 in /usr/local/lib/python3.11/dist-packages (from yfinance) (2025.2)\n",
            "Requirement already satisfied: frozendict>=2.3.4 in /usr/local/lib/python3.11/dist-packages (from yfinance) (2.4.6)\n",
            "Requirement already satisfied: peewee>=3.16.2 in /usr/local/lib/python3.11/dist-packages (from yfinance) (3.18.2)\n",
            "Requirement already satisfied: beautifulsoup4>=4.11.1 in /usr/local/lib/python3.11/dist-packages (from yfinance) (4.13.4)\n",
            "Requirement already satisfied: curl_cffi>=0.7 in /usr/local/lib/python3.11/dist-packages (from yfinance) (0.13.0)\n",
            "Requirement already satisfied: protobuf>=3.19.0 in /usr/local/lib/python3.11/dist-packages (from yfinance) (5.29.5)\n",
            "Requirement already satisfied: websockets>=13.0 in /usr/local/lib/python3.11/dist-packages (from yfinance) (15.0.1)\n",
            "Requirement already satisfied: python-dateutil>=2.8.2 in /usr/local/lib/python3.11/dist-packages (from pandas) (2.9.0.post0)\n",
            "Requirement already satisfied: tzdata>=2022.7 in /usr/local/lib/python3.11/dist-packages (from pandas) (2025.2)\n",
            "Requirement already satisfied: soupsieve>1.2 in /usr/local/lib/python3.11/dist-packages (from beautifulsoup4>=4.11.1->yfinance) (2.7)\n",
            "Requirement already satisfied: typing-extensions>=4.0.0 in /usr/local/lib/python3.11/dist-packages (from beautifulsoup4>=4.11.1->yfinance) (4.14.1)\n",
            "Requirement already satisfied: cffi>=1.12.0 in /usr/local/lib/python3.11/dist-packages (from curl_cffi>=0.7->yfinance) (1.17.1)\n",
            "Requirement already satisfied: certifi>=2024.2.2 in /usr/local/lib/python3.11/dist-packages (from curl_cffi>=0.7->yfinance) (2025.8.3)\n",
            "Requirement already satisfied: six>=1.5 in /usr/local/lib/python3.11/dist-packages (from python-dateutil>=2.8.2->pandas) (1.17.0)\n",
            "Requirement already satisfied: charset-normalizer<4,>=2 in /usr/local/lib/python3.11/dist-packages (from requests>=2.31->yfinance) (3.4.2)\n",
            "Requirement already satisfied: idna<4,>=2.5 in /usr/local/lib/python3.11/dist-packages (from requests>=2.31->yfinance) (3.10)\n",
            "Requirement already satisfied: urllib3<3,>=1.21.1 in /usr/local/lib/python3.11/dist-packages (from requests>=2.31->yfinance) (2.5.0)\n",
            "Requirement already satisfied: pycparser in /usr/local/lib/python3.11/dist-packages (from cffi>=1.12.0->curl_cffi>=0.7->yfinance) (2.22)\n"
          ]
        }
      ],
      "source": [
        "#  올인원: 유니버스 생성 -> 정제/존재성 필터 -> 배당 수집 -> 저장 (국내+해외)\n",
        "#  출력:\n",
        "#   ./data/dividends_all_companies_5y.csv        (일자별 배당)\n",
        "#   ./data/dividends_yearly_sum.csv             (연도별 합계)\n",
        "#   ./data/tickers_bad_format.csv               (형식 불량 삭제 목록)\n",
        "#   ./data/tickers_not_found.csv                (야후 미존재/정지 추정 목록)\n",
        "# ======================================================================\n",
        "!pip -q install yfinance pandas lxml tqdm"
      ]
    },
    {
      "cell_type": "code",
      "source": [
        "import os, re, time, logging, traceback\n",
        "import pandas as pd\n",
        "import yfinance as yf\n",
        "from datetime import datetime, timedelta\n",
        "from concurrent.futures import ThreadPoolExecutor, as_completed\n",
        "from tqdm import tqdm"
      ],
      "metadata": {
        "id": "16qEsb-YxIxl"
      },
      "execution_count": 1,
      "outputs": []
    },
    {
      "cell_type": "code",
      "source": [
        "# -------------------- 설정 --------------------\n",
        "OUT_DIR = \"./data\"\n",
        "os.makedirs(OUT_DIR, exist_ok=True)\n",
        "\n",
        "DIV_CSV       = os.path.join(OUT_DIR, \"dividends_all_companies_5y.csv\")\n",
        "YEARLY_CSV    = os.path.join(OUT_DIR, \"dividends_yearly_sum.csv\")\n",
        "NOT_FOUND_CSV = os.path.join(OUT_DIR, \"tickers_not_found.csv\")\n",
        "BAD_FORMAT_CSV= os.path.join(OUT_DIR, \"tickers_bad_format.csv\")\n",
        "\n",
        "LAST_N_YEARS       = 5\n",
        "START_DATE         = (datetime.now() - timedelta(days=365*LAST_N_YEARS)).strftime(\"%Y-%m-%d\")\n",
        "MAX_WORKERS_CHECK  = 4     # 야후 존재성 확인 동시실행 개수\n",
        "MAX_WORKERS_DIV    = 4     # 배당 수집 동시실행 개수\n",
        "REQUEST_SLEEP      = 0.1  # 요청 간 짧은 지연(레이트리밋 방지)\n",
        "RETRY              = 3\n",
        "\n",
        "INCLUDE_KRX        = True\n",
        "INCLUDE_SP500      = True\n",
        "INCLUDE_NASDAQ100  = True\n",
        "EXTRA_TICKERS      = []    # 예: ['TSLA','NVDA','7203.T','005930.KS']\n"
      ],
      "metadata": {
        "id": "ej5rO4Xxzmyu"
      },
      "execution_count": 7,
      "outputs": []
    },
    {
      "cell_type": "code",
      "source": [
        "# yfinance 로그 잠재우기(원하면 주석 처리)\n",
        "logging.getLogger(\"yfinance\").setLevel(logging.CRITICAL)"
      ],
      "metadata": {
        "colab": {
          "base_uri": "https://localhost:8080/"
        },
        "id": "2ce_dd1tzqks",
        "outputId": "d62275a7-7fd5-4582-eb3a-103c334d1769"
      },
      "execution_count": 8,
      "outputs": [
        {
          "output_type": "stream",
          "name": "stdout",
          "text": [
            "[WARN] dividends fetch fail: 031980.KS (피에스케이홀딩스) -> Invalid comparison between dtype=datetime64[ns, Asia/Seoul] and Timestamp\n",
            "[WARN] dividends fetch fail: 031820.KS (아이티센씨티에스) -> Invalid comparison between dtype=datetime64[ns, Asia/Seoul] and Timestamp\n"
          ]
        }
      ]
    },
    {
      "cell_type": "code",
      "source": [
        "def build_universe_sp500() -> pd.DataFrame:\n",
        "    \"\"\"위키 S&P500 구성종목(표 변화 방어)\"\"\"\n",
        "    url = \"https://en.wikipedia.org/wiki/List_of_S%26P_500_companies\"\n",
        "    tables = pd.read_html(url, header=0)\n",
        "    for tbl in tables:\n",
        "        if isinstance(tbl.columns, pd.MultiIndex):\n",
        "            tbl.columns = [str(x[0]) for x in tbl.columns]\n",
        "        else:\n",
        "            tbl.columns = [str(x) for x in tbl.columns]\n",
        "        sym_candidates = [c for c in tbl.columns if any(k in c.lower() for k in [\"symbol\",\"ticker\"])]\n",
        "        if not sym_candidates:\n",
        "            continue\n",
        "        sym_col = sym_candidates[0]\n",
        "        name_candidates = [c for c in tbl.columns if any(k in c.lower() for k in [\"security\",\"company\",\"name\"])]\n",
        "        name_col = name_candidates[0] if name_candidates else sym_col\n",
        "        out = (tbl[[sym_col, name_col]].rename(columns={sym_col:\"yahoo_ticker\", name_col:\"name\"}))\n",
        "        out[\"yahoo_ticker\"] = out[\"yahoo_ticker\"].astype(str).str.strip()\n",
        "        out[\"name\"] = out[\"name\"].astype(str).str.strip()\n",
        "        out = out.dropna().drop_duplicates().reset_index(drop=True)\n",
        "        if \"yahoo_ticker\" in out.columns and len(out) > 100:\n",
        "            return out\n",
        "    raise RuntimeError(\"S&P500 파싱 실패(표 구조 변경 가능).\")\n",
        "\n",
        "def build_universe_nasdaq100() -> pd.DataFrame:\n",
        "    \"\"\"위키 NASDAQ-100 구성종목(표 변화 방어)\"\"\"\n",
        "    url = \"https://en.wikipedia.org/wiki/Nasdaq-100\"\n",
        "    tables = pd.read_html(url, header=0)\n",
        "    for tbl in tables:\n",
        "        if isinstance(tbl.columns, pd.MultiIndex):\n",
        "            tbl.columns = [str(x[0]) for x in tbl.columns]\n",
        "        else:\n",
        "            tbl.columns = [str(x) for x in tbl.columns]\n",
        "        sym_candidates = [c for c in tbl.columns if any(k in c.lower() for k in [\"ticker\",\"symbol\"])]\n",
        "        if not sym_candidates:\n",
        "            continue\n",
        "        sym_col = sym_candidates[0]\n",
        "        name_candidates = [c for c in tbl.columns if any(k in c.lower() for k in [\"company\",\"name\",\"security\"])]\n",
        "        name_col = name_candidates[0] if name_candidates else sym_col\n",
        "        out = (tbl[[sym_col, name_col]].rename(columns={sym_col:\"yahoo_ticker\", name_col:\"name\"}))\n",
        "        out[\"yahoo_ticker\"] = out[\"yahoo_ticker\"].astype(str).str.strip()\n",
        "        out[\"name\"] = out[\"name\"].astype(str).str.strip()\n",
        "        out = out.dropna().drop_duplicates().reset_index(drop=True)\n",
        "        if \"yahoo_ticker\" in out.columns and len(out) > 50:\n",
        "            return out\n",
        "    raise RuntimeError(\"NASDAQ-100 파싱 실패(표 구조 변경 가능).\")\n",
        "\n",
        "def build_universe_extra(tickers) -> pd.DataFrame:\n",
        "    rows = [{\"yahoo_ticker\": t.strip(), \"name\": t.strip()} for t in tickers if str(t).strip()]\n",
        "    return pd.DataFrame(rows) if rows else pd.DataFrame(columns=[\"yahoo_ticker\",\"name\"])\n",
        "\n",
        "# -------------------- 유니버스 생성 --------------------\n",
        "univ_parts = []\n",
        "try:\n",
        "    #if INCLUDE_KRX:       univ_parts.append(build_universe_krx())\n",
        "    if INCLUDE_SP500:     univ_parts.append(build_universe_sp500())\n",
        "    if INCLUDE_NASDAQ100: univ_parts.append(build_universe_nasdaq100())\n",
        "    if EXTRA_TICKERS:     univ_parts.append(build_universe_extra(EXTRA_TICKERS))\n",
        "except Exception as e:\n",
        "    print(\"[WARN] 유니버스 일부 생성 실패:\", e)\n",
        "\n",
        "if not univ_parts:\n",
        "    raise RuntimeError(\"유니버스가 비었습니다. INCLUDE_* 설정을 확인하세요.\")\n",
        "\n",
        "univ = pd.concat(univ_parts, ignore_index=True).drop_duplicates().reset_index(drop=True)\n",
        "print(\"유니버스 총 종목 수:\", len(univ))\n",
        "\n",
        "# -------------------- 티커 정제 + 야후 존재성 필터 --------------------\n",
        "# KRX(.KS/.KQ) → 숫자 6자리만 유지, 해외는 공백 제거\n",
        "u = univ.copy()\n",
        "u[\"yahoo_ticker\"] = u[\"yahoo_ticker\"].astype(str).str.strip()\n",
        "krx_mask = u[\"yahoo_ticker\"].str.endswith((\".KS\",\".KQ\"), na=False)\n",
        "\n",
        "def normalize_krx_ticker(t):\n",
        "    base, suf = t.rsplit('.', 1)\n",
        "    base_digits = re.sub(r\"\\D\", \"\", base)  # 숫자만\n",
        "    if len(base_digits) != 6:\n",
        "        return None\n",
        "    return f\"{base_digits}.{suf}\"\n",
        "\n",
        "u.loc[krx_mask, \"normalized\"] = u.loc[krx_mask, \"yahoo_ticker\"].apply(normalize_krx_ticker)\n",
        "u.loc[~krx_mask, \"normalized\"] = u.loc[~krx_mask, \"yahoo_ticker\"].str.replace(r\"\\s+\", \"\", regex=True)\n",
        "\n",
        "bad_fmt = u[u[\"normalized\"].isna()][[\"yahoo_ticker\",\"name\"]]\n",
        "if len(bad_fmt):\n",
        "    bad_fmt.to_csv(BAD_FORMAT_CSV, index=False, encoding=\"utf-8-sig\")\n",
        "    print(f\"형식 불량 제거: {len(bad_fmt)}개 → {BAD_FORMAT_CSV}\")\n",
        "\n",
        "u = u[u[\"normalized\"].notna()].copy()\n",
        "u[\"yahoo_ticker\"] = u[\"normalized\"]\n",
        "u = u.drop(columns=[\"normalized\"]).drop_duplicates().reset_index(drop=True)\n",
        "\n",
        "print(\"정제 후 후보 티커 수:\", len(u))\n",
        "\n",
        "_exists_cache = {}\n",
        "def yahoo_exists(ticker: str) -> bool:\n",
        "    if ticker in _exists_cache:\n",
        "        return _exists_cache[ticker]\n",
        "    ok = False\n",
        "    for _ in range(RETRY):\n",
        "        try:\n",
        "            hist = yf.Ticker(ticker).history(period=\"1mo\", auto_adjust=False)\n",
        "            time.sleep(REQUEST_SLEEP)\n",
        "            if not hist.empty:\n",
        "                ok = True\n",
        "                break\n",
        "            div = yf.Ticker(ticker).dividends\n",
        "            time.sleep(REQUEST_SLEEP)\n",
        "            if div is not None and not div.empty:\n",
        "                ok = True\n",
        "                break\n",
        "        except Exception:\n",
        "            time.sleep(0.4)\n",
        "    _exists_cache[ticker] = ok\n",
        "    return ok\n",
        "\n",
        "exist_flags = []\n",
        "with ThreadPoolExecutor(max_workers=MAX_WORKERS_CHECK) as ex:\n",
        "    futures = {ex.submit(yahoo_exists, t): (t, n) for t, n in u[[\"yahoo_ticker\",\"name\"]].itertuples(index=False)}\n",
        "    for f in tqdm(as_completed(futures), total=len(futures), desc=\"야후 존재 확인\"):\n",
        "        t, n = futures[f]\n",
        "        ok = False\n",
        "        try:\n",
        "            ok = f.result()\n",
        "        except Exception:\n",
        "            ok = False\n",
        "        exist_flags.append((t, ok))\n",
        "\n",
        "exist_df  = pd.DataFrame(exist_flags, columns=[\"yahoo_ticker\",\"exists\"])\n",
        "not_found = u.merge(exist_df, on=\"yahoo_ticker\", how=\"left\")\n",
        "not_found = not_found[not_found[\"exists\"] == False][[\"yahoo_ticker\",\"name\"]]\n",
        "if len(not_found):\n",
        "    not_found.to_csv(NOT_FOUND_CSV, index=False, encoding=\"utf-8-sig\")\n",
        "    print(f\"야후 미존재/정지 추정: {len(not_found)}개 → {NOT_FOUND_CSV}\")\n",
        "\n",
        "univ_ok = u.merge(exist_df, on=\"yahoo_ticker\", how=\"left\")\n",
        "univ_ok = univ_ok[univ_ok[\"exists\"] == True][[\"yahoo_ticker\",\"name\"]].drop_duplicates().reset_index(drop=True)\n",
        "print(\"최종 수집 대상 티커 수(univ_ok):\", len(univ_ok))\n"
      ],
      "metadata": {
        "colab": {
          "base_uri": "https://localhost:8080/"
        },
        "id": "ahHEIwxxztne",
        "outputId": "8d680f16-1325-4d0b-f146-c9ffb5dd001b"
      },
      "execution_count": 9,
      "outputs": [
        {
          "output_type": "stream",
          "name": "stdout",
          "text": [
            "[WARN] dividends fetch fail: 015360.KS (INVENI) -> Invalid comparison between dtype=datetime64[ns, Asia/Seoul] and Timestamp\n",
            "[WARN] dividends fetch fail: 000660.KS (SK하이닉스) -> Invalid comparison between dtype=datetime64[ns, Asia/Seoul] and Timestamp\n",
            "[WARN] dividends fetch fail: 023150.KS (MH에탄올) -> Invalid comparison between dtype=datetime64[ns, Asia/Seoul] and Timestamp\n",
            "[WARN] dividends fetch fail: 023450.KS (동남합성) -> Invalid comparison between dtype=datetime64[ns, Asia/Seoul] and Timestamp\n",
            "[WARN] dividends fetch fail: 029530.KS (신도리코) -> Invalid comparison between dtype=datetime64[ns, Asia/Seoul] and Timestamp\n",
            "유니버스 총 종목 수: 522\n",
            "정제 후 후보 티커 수: 522\n",
            "[WARN] dividends fetch fail: 028050.KS (삼성E&A) -> Invalid comparison between dtype=datetime64[ns, Asia/Seoul] and Timestamp\n"
          ]
        },
        {
          "output_type": "stream",
          "name": "stderr",
          "text": [
            "야후 존재 확인:   0%|          | 1/522 [00:00<03:24,  2.54it/s]"
          ]
        },
        {
          "output_type": "stream",
          "name": "stdout",
          "text": [
            "[WARN] dividends fetch fail: 005320.KS (온타이드) -> Invalid comparison between dtype=datetime64[ns, Asia/Seoul] and Timestamp\n"
          ]
        },
        {
          "output_type": "stream",
          "name": "stderr",
          "text": [
            "야후 존재 확인:   5%|▍         | 26/522 [00:02<00:59,  8.37it/s]"
          ]
        },
        {
          "output_type": "stream",
          "name": "stdout",
          "text": [
            "[WARN] dividends fetch fail: 011560.KS (세보엠이씨) -> Invalid comparison between dtype=datetime64[ns, Asia/Seoul] and Timestamp\n",
            "[WARN] dividends fetch fail: 030720.KS (동원수산) -> Invalid comparison between dtype=datetime64[ns, Asia/Seoul] and Timestamp\n",
            "[WARN] dividends fetch fail: 024740.KS (한일단조) -> Invalid comparison between dtype=datetime64[ns, Asia/Seoul] and Timestamp\n",
            "[WARN] dividends fetch fail: 024070.KS (WISCOM) -> Invalid comparison between dtype=datetime64[ns, Asia/Seoul] and Timestamp\n"
          ]
        },
        {
          "output_type": "stream",
          "name": "stderr",
          "text": [
            "야후 존재 확인:   6%|▋         | 33/522 [00:03<01:04,  7.54it/s]"
          ]
        },
        {
          "output_type": "stream",
          "name": "stdout",
          "text": [
            "[WARN] dividends fetch fail: 030210.KS (다올투자증권) -> Invalid comparison between dtype=datetime64[ns, Asia/Seoul] and Timestamp\n",
            "[WARN] dividends fetch fail: 016800.KS (퍼시스) -> Invalid comparison between dtype=datetime64[ns, Asia/Seoul] and Timestamp\n"
          ]
        },
        {
          "output_type": "stream",
          "name": "stderr",
          "text": [
            "야후 존재 확인:   7%|▋         | 39/522 [00:04<01:16,  6.30it/s]"
          ]
        },
        {
          "output_type": "stream",
          "name": "stdout",
          "text": [
            "[WARN] dividends fetch fail: 030960.KS (양지사) -> Invalid comparison between dtype=datetime64[ns, Asia/Seoul] and Timestamp\n",
            "[WARN] dividends fetch fail: 012630.KS (HDC) -> Invalid comparison between dtype=datetime64[ns, Asia/Seoul] and Timestamp\n"
          ]
        },
        {
          "output_type": "stream",
          "name": "stderr",
          "text": [
            "야후 존재 확인:  11%|█         | 56/522 [00:07<01:02,  7.50it/s]"
          ]
        },
        {
          "output_type": "stream",
          "name": "stdout",
          "text": [
            "[WARN] dividends fetch fail: 025540.KS (한국단자공업) -> Invalid comparison between dtype=datetime64[ns, Asia/Seoul] and Timestamp\n"
          ]
        },
        {
          "output_type": "stream",
          "name": "stderr",
          "text": [
            "야후 존재 확인:  37%|███▋      | 191/522 [00:08<00:01, 169.90it/s]"
          ]
        },
        {
          "output_type": "stream",
          "name": "stdout",
          "text": [
            "[WARN] dividends fetch fail: 017900.KS (광전자) -> Invalid comparison between dtype=datetime64[ns, Asia/Seoul] and Timestamp\n",
            "[WARN] dividends fetch fail: 030520.KS (한글과컴퓨터) -> Invalid comparison between dtype=datetime64[ns, Asia/Seoul] and Timestamp\n",
            "[WARN] dividends fetch fail: 021880.KS (메이슨캐피탈) -> Invalid comparison between dtype=datetime64[ns, Asia/Seoul] and Timestamp\n"
          ]
        },
        {
          "output_type": "stream",
          "name": "stderr",
          "text": [
            "\r야후 존재 확인:  42%|████▏     | 217/522 [00:09<00:04, 65.13it/s] "
          ]
        },
        {
          "output_type": "stream",
          "name": "stdout",
          "text": [
            "[WARN] dividends fetch fail: 003160.KS (디아이) -> Too Many Requests. Rate limited. Try after a while.\n",
            "[WARN] dividends fetch fail: 019180.KS (티에이치엔) -> Too Many Requests. Rate limited. Try after a while.\n",
            "[WARN] dividends fetch fail: 011930.KS (신성이엔지) -> Invalid comparison between dtype=datetime64[ns, Asia/Seoul] and Timestamp\n",
            "[WARN] dividends fetch fail: 027710.KS (팜스토리) -> Too Many Requests. Rate limited. Try after a while.\n",
            "[WARN] dividends fetch fail: 018880.KS (한온시스템) -> Too Many Requests. Rate limited. Try after a while.\n",
            "[WARN] dividends fetch fail: 021820.KS (세원정공) -> Too Many Requests. Rate limited. Try after a while.\n",
            "[WARN] dividends fetch fail: 006740.KS (영풍제지) -> Too Many Requests. Rate limited. Try after a while.\n",
            "[WARN] dividends fetch fail: 000910.KS (유니온) -> Too Many Requests. Rate limited. Try after a while.\n",
            "[WARN] dividends fetch fail: 020120.KS (키다리스튜디오) -> Too Many Requests. Rate limited. Try after a while.\n",
            "[WARN] dividends fetch fail: 027970.KS (한국제지) -> Too Many Requests. Rate limited. Try after a while.\n",
            "[WARN] dividends fetch fail: 020000.KS (한섬) -> Too Many Requests. Rate limited. Try after a while.\n"
          ]
        },
        {
          "output_type": "stream",
          "name": "stderr",
          "text": [
            "\r야후 존재 확인:  45%|████▌     | 236/522 [00:12<00:10, 26.05it/s]"
          ]
        },
        {
          "output_type": "stream",
          "name": "stdout",
          "text": [
            "[WARN] dividends fetch fail: 017800.KS (현대엘리베이터) -> Too Many Requests. Rate limited. Try after a while.\n",
            "[WARN] dividends fetch fail: 016580.KS (환인제약) -> Too Many Requests. Rate limited. Try after a while.\n"
          ]
        },
        {
          "output_type": "stream",
          "name": "stderr",
          "text": [
            "야후 존재 확인:  50%|████▉     | 260/522 [00:13<00:10, 24.45it/s]"
          ]
        },
        {
          "output_type": "stream",
          "name": "stdout",
          "text": [
            "[WARN] dividends fetch fail: 023600.KS (삼보판지) -> Invalid comparison between dtype=datetime64[ns, Asia/Seoul] and Timestamp\n"
          ]
        },
        {
          "output_type": "stream",
          "name": "stderr",
          "text": [
            "\r야후 존재 확인:  51%|█████▏    | 268/522 [00:13<00:11, 22.03it/s]"
          ]
        },
        {
          "output_type": "stream",
          "name": "stdout",
          "text": [
            "[WARN] dividends fetch fail: 013580.KS (계룡건설산업) -> Invalid comparison between dtype=datetime64[ns, Asia/Seoul] and Timestamp\n",
            "[WARN] dividends fetch fail: 003800.KS (에이스침대) -> Invalid comparison between dtype=datetime64[ns, Asia/Seoul] and Timestamp\n"
          ]
        },
        {
          "output_type": "stream",
          "name": "stderr",
          "text": [
            "\r야후 존재 확인:  52%|█████▏    | 274/522 [00:14<00:11, 20.78it/s]"
          ]
        },
        {
          "output_type": "stream",
          "name": "stdout",
          "text": [
            "[WARN] dividends fetch fail: 018310.KS (삼목에스폼) -> Invalid comparison between dtype=datetime64[ns, Asia/Seoul] and Timestamp\n",
            "[WARN] dividends fetch fail: 014190.KS (원익큐브) -> Invalid comparison between dtype=datetime64[ns, Asia/Seoul] and Timestamp\n",
            "[WARN] dividends fetch fail: 021050.KS (서원) -> Invalid comparison between dtype=datetime64[ns, Asia/Seoul] and Timestamp\n"
          ]
        },
        {
          "output_type": "stream",
          "name": "stderr",
          "text": [
            "야후 존재 확인:  58%|█████▊    | 304/522 [00:15<00:12, 17.90it/s]"
          ]
        },
        {
          "output_type": "stream",
          "name": "stdout",
          "text": [
            "[WARN] dividends fetch fail: 012750.KS (에스원) -> Invalid comparison between dtype=datetime64[ns, Asia/Seoul] and Timestamp\n"
          ]
        },
        {
          "output_type": "stream",
          "name": "stderr",
          "text": [
            "야후 존재 확인:  60%|█████▉    | 311/522 [00:16<00:11, 18.66it/s]"
          ]
        },
        {
          "output_type": "stream",
          "name": "stdout",
          "text": [
            "[WARN] dividends fetch fail: 015890.KS (태경산업) -> Invalid comparison between dtype=datetime64[ns, Asia/Seoul] and Timestamp\n"
          ]
        },
        {
          "output_type": "stream",
          "name": "stderr",
          "text": [
            "야후 존재 확인:  64%|██████▍   | 335/522 [00:17<00:10, 18.19it/s]"
          ]
        },
        {
          "output_type": "stream",
          "name": "stdout",
          "text": [
            "[WARN] dividends fetch fail: 012700.KS (리드코프) -> Invalid comparison between dtype=datetime64[ns, Asia/Seoul] and Timestamp\n"
          ]
        },
        {
          "output_type": "stream",
          "name": "stderr",
          "text": [
            "\r야후 존재 확인:  65%|██████▍   | 338/522 [00:17<00:09, 18.82it/s]"
          ]
        },
        {
          "output_type": "stream",
          "name": "stdout",
          "text": [
            "[WARN] dividends fetch fail: 017250.KS (인터엠) -> Invalid comparison between dtype=datetime64[ns, Asia/Seoul] and Timestamp\n"
          ]
        },
        {
          "output_type": "stream",
          "name": "stderr",
          "text": [
            "야후 존재 확인:  66%|██████▋   | 347/522 [00:18<00:09, 18.26it/s]"
          ]
        },
        {
          "output_type": "stream",
          "name": "stdout",
          "text": [
            "[WARN] dividends fetch fail: 016590.KS (신대양제지) -> Invalid comparison between dtype=datetime64[ns, Asia/Seoul] and Timestamp\n",
            "[WARN] dividends fetch fail: 026910.KS (광진실업) -> Invalid comparison between dtype=datetime64[ns, Asia/Seoul] and Timestamp\n"
          ]
        },
        {
          "output_type": "stream",
          "name": "stderr",
          "text": [
            "야후 존재 확인:  70%|███████   | 366/522 [00:19<00:10, 14.71it/s]"
          ]
        },
        {
          "output_type": "stream",
          "name": "stdout",
          "text": [
            "[WARN] dividends fetch fail: 011690.KS (와이투솔루션) -> Invalid comparison between dtype=datetime64[ns, Asia/Seoul] and Timestamp\n"
          ]
        },
        {
          "output_type": "stream",
          "name": "stderr",
          "text": [
            "\r야후 존재 확인:  70%|███████   | 368/522 [00:19<00:12, 12.50it/s]"
          ]
        },
        {
          "output_type": "stream",
          "name": "stdout",
          "text": [
            "[WARN] dividends fetch fail: 025860.KS (남해화학) -> Invalid comparison between dtype=datetime64[ns, Asia/Seoul] and Timestamp\n"
          ]
        },
        {
          "output_type": "stream",
          "name": "stderr",
          "text": [
            "\r야후 존재 확인:  71%|███████▏  | 372/522 [00:20<00:13, 11.33it/s]"
          ]
        },
        {
          "output_type": "stream",
          "name": "stdout",
          "text": [
            "[WARN] dividends fetch fail: 018500.KS (동원금속) -> Invalid comparison between dtype=datetime64[ns, Asia/Seoul] and Timestamp\n"
          ]
        },
        {
          "output_type": "stream",
          "name": "stderr",
          "text": [
            "야후 존재 확인:  75%|███████▍  | 389/522 [00:21<00:11, 12.04it/s]"
          ]
        },
        {
          "output_type": "stream",
          "name": "stdout",
          "text": [
            "[WARN] dividends fetch fail: 011300.KS (성안머티리얼스) -> Invalid comparison between dtype=datetime64[ns, Asia/Seoul] and Timestamp\n"
          ]
        },
        {
          "output_type": "stream",
          "name": "stderr",
          "text": [
            "야후 존재 확인:  80%|███████▉  | 417/522 [00:22<00:04, 21.17it/s]"
          ]
        },
        {
          "output_type": "stream",
          "name": "stdout",
          "text": [
            "[WARN] dividends fetch fail: 015750.KS (성우하이텍) -> Invalid comparison between dtype=datetime64[ns, Asia/Seoul] and Timestamp\n"
          ]
        },
        {
          "output_type": "stream",
          "name": "stderr",
          "text": [
            "\r야후 존재 확인:  80%|████████  | 420/522 [00:23<00:05, 19.51it/s]"
          ]
        },
        {
          "output_type": "stream",
          "name": "stdout",
          "text": [
            "[WARN] dividends fetch fail: 006730.KS (서부T&D) -> Invalid comparison between dtype=datetime64[ns, Asia/Seoul] and Timestamp\n",
            "[WARN] dividends fetch fail: 020180.KS (대신정보통신) -> Invalid comparison between dtype=datetime64[ns, Asia/Seoul] and Timestamp\n"
          ]
        },
        {
          "output_type": "stream",
          "name": "stderr",
          "text": [
            "야후 존재 확인:  82%|████████▏ | 426/522 [00:23<00:04, 20.98it/s]"
          ]
        },
        {
          "output_type": "stream",
          "name": "stdout",
          "text": [
            "[WARN] dividends fetch fail: 011200.KS (HMM) -> Invalid comparison between dtype=datetime64[ns, Asia/Seoul] and Timestamp\n"
          ]
        },
        {
          "output_type": "stream",
          "name": "stderr",
          "text": [
            "야후 존재 확인:  86%|████████▌ | 449/522 [00:24<00:03, 19.03it/s]"
          ]
        },
        {
          "output_type": "stream",
          "name": "stdout",
          "text": [
            "[WARN] dividends fetch fail: 017390.KS (서울도시가스) -> Invalid comparison between dtype=datetime64[ns, Asia/Seoul] and Timestamp\n",
            "[WARN] dividends fetch fail: 017810.KS (풀무원) -> Invalid comparison between dtype=datetime64[ns, Asia/Seoul] and Timestamp\n",
            "[WARN] dividends fetch fail: 012610.KS (경인양행) -> Invalid comparison between dtype=datetime64[ns, Asia/Seoul] and Timestamp\n"
          ]
        },
        {
          "output_type": "stream",
          "name": "stderr",
          "text": [
            "\r야후 존재 확인:  87%|████████▋ | 452/522 [00:24<00:04, 14.22it/s]"
          ]
        },
        {
          "output_type": "stream",
          "name": "stdout",
          "text": [
            "[WARN] dividends fetch fail: 025820.KS (이구산업) -> Invalid comparison between dtype=datetime64[ns, Asia/Seoul] and Timestamp\n"
          ]
        },
        {
          "output_type": "stream",
          "name": "stderr",
          "text": [
            "야후 존재 확인:  92%|█████████▏| 482/522 [00:26<00:02, 16.68it/s]"
          ]
        },
        {
          "output_type": "stream",
          "name": "stdout",
          "text": [
            "[WARN] dividends fetch fail: 025900.KS (동화기업) -> Invalid comparison between dtype=datetime64[ns, Asia/Seoul] and Timestamp\n"
          ]
        },
        {
          "output_type": "stream",
          "name": "stderr",
          "text": [
            "야후 존재 확인:  95%|█████████▌| 497/522 [00:27<00:01, 16.55it/s]"
          ]
        },
        {
          "output_type": "stream",
          "name": "stdout",
          "text": [
            "[WARN] dividends fetch fail: 011090.KS (에넥스) -> Invalid comparison between dtype=datetime64[ns, Asia/Seoul] and Timestamp\n",
            "[WARN] dividends fetch fail: 025950.KS (동신건설) -> Invalid comparison between dtype=datetime64[ns, Asia/Seoul] and Timestamp\n",
            "[WARN] dividends fetch fail: 007460.KS (에이프로젠) -> Invalid comparison between dtype=datetime64[ns, Asia/Seoul] and Timestamp\n"
          ]
        },
        {
          "output_type": "stream",
          "name": "stderr",
          "text": [
            "야후 존재 확인: 100%|██████████| 522/522 [00:28<00:00, 18.31it/s]"
          ]
        },
        {
          "output_type": "stream",
          "name": "stdout",
          "text": [
            "야후 미존재/정지 추정: 31개 → ./data/tickers_not_found.csv[WARN] dividends fetch fail: 017960.KS (한국카본) -> Invalid comparison between dtype=datetime64[ns, Asia/Seoul] and Timestamp\n",
            "\n",
            "최종 수집 대상 티커 수(univ_ok): 491\n"
          ]
        },
        {
          "output_type": "stream",
          "name": "stderr",
          "text": [
            "\n"
          ]
        }
      ]
    },
    {
      "cell_type": "code",
      "source": [
        "# -------------------- 배당 수집 --------------------\n",
        "START_TS = pd.Timestamp(START_DATE)\n",
        "\n",
        "def fetch_dividends(ticker: str, name: str):\n",
        "    for attempt in range(RETRY):\n",
        "        try:\n",
        "            t = yf.Ticker(ticker)\n",
        "            div = t.dividends\n",
        "            time.sleep(REQUEST_SLEEP)\n",
        "            if div is None or div.empty:\n",
        "                return []\n",
        "            div = div[div.index >= START_TS]\n",
        "            return [\n",
        "                {\n",
        "                    \"ticker\": ticker,\n",
        "                    \"name\": name,\n",
        "                    \"div_date\": idx.strftime(\"%Y-%m-%d\"),\n",
        "                    \"dividend_per_share\": float(val)\n",
        "                }\n",
        "                for idx, val in div.items()\n",
        "            ]\n",
        "        except Exception as e:\n",
        "            if attempt < RETRY - 1:\n",
        "                time.sleep(0.5 * (attempt + 1))\n",
        "            else:\n",
        "                # 마지막 실패만 경고\n",
        "                print(f\"[WARN] dividends fetch fail: {ticker} ({name}) -> {e}\")\n",
        "                return []\n",
        "\n",
        "all_rows = []\n",
        "with ThreadPoolExecutor(max_workers=MAX_WORKERS_DIV) as ex:\n",
        "    futures = {ex.submit(fetch_dividends, r[\"yahoo_ticker\"], r[\"name\"]): (r[\"yahoo_ticker\"], r[\"name\"])\n",
        "               for _, r in univ_ok.iterrows()}\n",
        "    for f in tqdm(as_completed(futures), total=len(futures), desc=\"배당 수집\"):\n",
        "        try:\n",
        "            rows = f.result()\n",
        "            if rows:\n",
        "                all_rows.extend(rows)\n",
        "        except Exception as e:\n",
        "            t, n = futures[f]\n",
        "            print(f\"[WARN] future failed: {t} ({n}) -> {e}\")\n",
        "\n",
        "df_div = pd.DataFrame(all_rows, columns=[\"ticker\",\"name\",\"div_date\",\"dividend_per_share\"])\n",
        "if not df_div.empty:\n",
        "    df_div = df_div.sort_values([\"ticker\",\"div_date\"]).drop_duplicates().reset_index(drop=True)\n",
        "\n",
        "# 배당 전무한 유효 티커 기록\n",
        "no_div_tickers = set(univ_ok[\"yahoo_ticker\"]) - set(df_div[\"ticker\"])\n",
        "print(\"최근 5년 배당 없음 티커 수:\", len(no_div_tickers))\n",
        "if no_div_tickers:\n",
        "    univ_ok[univ_ok[\"yahoo_ticker\"].isin(no_div_tickers)] \\\n",
        "        .to_csv(os.path.join(OUT_DIR, \"tickers_with_no_dividends.csv\"), index=False, encoding=\"utf-8-sig\")\n",
        "    print(\"→ 목록 저장:\", os.path.join(OUT_DIR, \"tickers_with_no_dividends.csv\"))\n"
      ],
      "metadata": {
        "colab": {
          "base_uri": "https://localhost:8080/"
        },
        "id": "5lis-d5WztfT",
        "outputId": "338a9ae1-bbd8-4683-a521-c5eeecb98ec0"
      },
      "execution_count": 10,
      "outputs": [
        {
          "output_type": "stream",
          "name": "stdout",
          "text": [
            "[WARN] dividends fetch fail: 002680.KS (한탑) -> Invalid comparison between dtype=datetime64[ns, Asia/Seoul] and Timestamp\n"
          ]
        },
        {
          "output_type": "stream",
          "name": "stderr",
          "text": [
            "\r배당 수집:   0%|          | 0/491 [00:00<?, ?it/s]"
          ]
        },
        {
          "output_type": "stream",
          "name": "stdout",
          "text": [
            "[WARN] dividends fetch fail: 025880.KS (케이씨피드) -> Invalid comparison between dtype=datetime64[ns, Asia/Seoul] and Timestamp\n",
            "[WARN] dividends fetch fail: 025550.KS (한국선재) -> Invalid comparison between dtype=datetime64[ns, Asia/Seoul] and Timestamp\n",
            "[WARN] dividends fetch fail: 024950.KS (삼천리자전거) -> Invalid comparison between dtype=datetime64[ns, Asia/Seoul] and Timestamp\n",
            "[WARN] dividends fetch fail: 014100.KS (메디앙스) -> Invalid comparison between dtype=datetime64[ns, Asia/Seoul] and Timestamp\n",
            "[WARN] dividends fetch fail: 024940.KS (PN풍년) -> Invalid comparison between dtype=datetime64[ns, Asia/Seoul] and Timestamp\n"
          ]
        },
        {
          "output_type": "stream",
          "name": "stderr",
          "text": [
            "\r배당 수집:   0%|          | 1/491 [00:04<36:40,  4.49s/it]"
          ]
        },
        {
          "output_type": "stream",
          "name": "stdout",
          "text": [
            "[WARN] dividends fetch fail: ABBV (AbbVie) -> Invalid comparison between dtype=datetime64[ns, America/New_York] and Timestamp\n",
            "[WARN] dividends fetch fail: 004780.KS (대륙제관) -> Invalid comparison between dtype=datetime64[ns, Asia/Seoul] and Timestamp\n",
            "[WARN] dividends fetch fail: 024910.KS (경창산업) -> Invalid comparison between dtype=datetime64[ns, Asia/Seoul] and Timestamp\n",
            "[WARN] dividends fetch fail: 024830.KS (세원물산) -> Invalid comparison between dtype=datetime64[ns, Asia/Seoul] and Timestamp\n"
          ]
        },
        {
          "output_type": "stream",
          "name": "stderr",
          "text": [
            "\r배당 수집:   0%|          | 2/491 [00:05<18:01,  2.21s/it]"
          ]
        },
        {
          "output_type": "stream",
          "name": "stdout",
          "text": [
            "[WARN] dividends fetch fail: 013120.KS (동원개발) -> Invalid comparison between dtype=datetime64[ns, Asia/Seoul] and Timestamp\n",
            "[WARN] dividends fetch fail: AOS (A. O. Smith) -> Invalid comparison between dtype=datetime64[ns, America/New_York] and Timestamp\n"
          ]
        },
        {
          "output_type": "stream",
          "name": "stderr",
          "text": [
            "\r배당 수집:   1%|          | 3/491 [00:06<15:34,  1.91s/it]"
          ]
        },
        {
          "output_type": "stream",
          "name": "stdout",
          "text": [
            "[WARN] dividends fetch fail: ABT (Abbott Laboratories) -> Invalid comparison between dtype=datetime64[ns, America/New_York] and Timestamp\n",
            "[WARN] dividends fetch fail: 024880.KS (케이피에프) -> Invalid comparison between dtype=datetime64[ns, Asia/Seoul] and Timestamp\n"
          ]
        },
        {
          "output_type": "stream",
          "name": "stderr",
          "text": [
            "배당 수집:   1%|          | 5/491 [00:07<08:12,  1.01s/it]"
          ]
        },
        {
          "output_type": "stream",
          "name": "stdout",
          "text": [
            "[WARN] dividends fetch fail: MMM (3M) -> Invalid comparison between dtype=datetime64[ns, America/New_York] and Timestamp\n",
            "[WARN] dividends fetch fail: 025000.KS (KPX케미칼) -> Invalid comparison between dtype=datetime64[ns, Asia/Seoul] and Timestamp\n",
            "[WARN] dividends fetch fail: 007980.KS (TP) -> Invalid comparison between dtype=datetime64[ns, Asia/Seoul] and Timestamp\n"
          ]
        },
        {
          "output_type": "stream",
          "name": "stderr",
          "text": [
            "\r배당 수집:   1%|          | 6/491 [00:08<08:08,  1.01s/it]"
          ]
        },
        {
          "output_type": "stream",
          "name": "stdout",
          "text": [
            "[WARN] dividends fetch fail: 024120.KS (KB오토시스) -> Invalid comparison between dtype=datetime64[ns, Asia/Seoul] and Timestamp\n",
            "[WARN] dividends fetch fail: ACN (Accenture) -> Invalid comparison between dtype=datetime64[ns, America/New_York] and Timestamp\n",
            "[WARN] dividends fetch fail: 023910.KS (대한약품) -> Invalid comparison between dtype=datetime64[ns, Asia/Seoul] and Timestamp\n",
            "[WARN] dividends fetch fail: 024060.KS (흥구석유) -> Invalid comparison between dtype=datetime64[ns, Asia/Seoul] and Timestamp\n"
          ]
        },
        {
          "output_type": "stream",
          "name": "stderr",
          "text": [
            "\r배당 수집:   1%|▏         | 7/491 [00:09<08:33,  1.06s/it]"
          ]
        },
        {
          "output_type": "stream",
          "name": "stdout",
          "text": [
            "[WARN] dividends fetch fail: ADBE (Adobe Inc.) -> Invalid comparison between dtype=datetime64[ns, America/New_York] and Timestamp\n",
            "[WARN] dividends fetch fail: 001840.KS (이화공영) -> Invalid comparison between dtype=datetime64[ns, Asia/Seoul] and Timestamp\n",
            "[WARN] dividends fetch fail: 023900.KS (풍국주정) -> Invalid comparison between dtype=datetime64[ns, Asia/Seoul] and Timestamp\n",
            "[WARN] dividends fetch fail: 017650.KS (대림제지) -> Invalid comparison between dtype=datetime64[ns, Asia/Seoul] and Timestamp\n",
            "[WARN] dividends fetch fail: 023790.KS (동일스틸럭스) -> Invalid comparison between dtype=datetime64[ns, Asia/Seoul] and Timestamp\n"
          ]
        },
        {
          "output_type": "stream",
          "name": "stderr",
          "text": [
            "\r배당 수집:   2%|▏         | 8/491 [00:13<14:26,  1.79s/it]"
          ]
        },
        {
          "output_type": "stream",
          "name": "stdout",
          "text": [
            "[WARN] dividends fetch fail: AES (AES Corporation) -> Invalid comparison between dtype=datetime64[ns, America/New_York] and Timestamp\n"
          ]
        },
        {
          "output_type": "stream",
          "name": "stderr",
          "text": [
            "\r배당 수집:   2%|▏         | 9/491 [00:14<12:18,  1.53s/it]"
          ]
        },
        {
          "output_type": "stream",
          "name": "stdout",
          "text": [
            "[WARN] dividends fetch fail: 005860.KS (한일사료) -> Invalid comparison between dtype=datetime64[ns, Asia/Seoul] and Timestamp\n",
            "[WARN] dividends fetch fail: A (Agilent Technologies) -> Invalid comparison between dtype=datetime64[ns, America/New_York] and Timestamp\n",
            "[WARN] dividends fetch fail: 023760.KS (한국캐피탈) -> Invalid comparison between dtype=datetime64[ns, Asia/Seoul] and Timestamp\n",
            "[WARN] dividends fetch fail: 009440.KS (KC그린홀딩스) -> Invalid comparison between dtype=datetime64[ns, Asia/Seoul] and Timestamp\n",
            "[WARN] dividends fetch fail: 023770.KS (플레이위드) -> Invalid comparison between dtype=datetime64[ns, Asia/Seoul] and Timestamp\n",
            "[WARN] dividends fetch fail: AFL (Aflac) -> Invalid comparison between dtype=datetime64[ns, America/New_York] and Timestamp\n"
          ]
        },
        {
          "output_type": "stream",
          "name": "stderr",
          "text": [
            "\r배당 수집:   2%|▏         | 12/491 [00:15<06:31,  1.22it/s]"
          ]
        },
        {
          "output_type": "stream",
          "name": "stdout",
          "text": [
            "[WARN] dividends fetch fail: 008420.KS (문배철강) -> Invalid comparison between dtype=datetime64[ns, Asia/Seoul] and Timestamp\n",
            "[WARN] dividends fetch fail: 016880.KS (웅진) -> Invalid comparison between dtype=datetime64[ns, Asia/Seoul] and Timestamp\n"
          ]
        },
        {
          "output_type": "stream",
          "name": "stderr",
          "text": [
            "\r배당 수집:   3%|▎         | 13/491 [00:15<06:28,  1.23it/s]"
          ]
        },
        {
          "output_type": "stream",
          "name": "stdout",
          "text": [
            "[WARN] dividends fetch fail: 012860.KS (모베이스전자) -> Invalid comparison between dtype=datetime64[ns, Asia/Seoul] and Timestamp\n",
            "[WARN] dividends fetch fail: 006050.KS (국영지앤엠) -> Invalid comparison between dtype=datetime64[ns, Asia/Seoul] and Timestamp\n"
          ]
        },
        {
          "output_type": "stream",
          "name": "stderr",
          "text": [
            "\r배당 수집:   3%|▎         | 14/491 [00:17<08:06,  1.02s/it]"
          ]
        },
        {
          "output_type": "stream",
          "name": "stdout",
          "text": [
            "[WARN] dividends fetch fail: APD (Air Products) -> Invalid comparison between dtype=datetime64[ns, America/New_York] and Timestamp\n",
            "[WARN] dividends fetch fail: 023410.KS (유진기업) -> Invalid comparison between dtype=datetime64[ns, Asia/Seoul] and Timestamp\n"
          ]
        },
        {
          "output_type": "stream",
          "name": "stderr",
          "text": [
            "\r배당 수집:   3%|▎         | 15/491 [00:18<08:45,  1.10s/it]"
          ]
        },
        {
          "output_type": "stream",
          "name": "stdout",
          "text": [
            "[WARN] dividends fetch fail: ARE (Alexandria Real Estate Equities) -> Invalid comparison between dtype=datetime64[ns, America/New_York] and Timestamp\n",
            "[WARN] dividends fetch fail: 014790.KS (HL D&I) -> Invalid comparison between dtype=datetime64[ns, Asia/Seoul] and Timestamp\n",
            "[WARN] dividends fetch fail: 007310.KS (오뚜기) -> Invalid comparison between dtype=datetime64[ns, Asia/Seoul] and Timestamp\n"
          ]
        },
        {
          "output_type": "stream",
          "name": "stderr",
          "text": [
            "\r배당 수집:   3%|▎         | 16/491 [00:19<07:58,  1.01s/it]"
          ]
        },
        {
          "output_type": "stream",
          "name": "stdout",
          "text": [
            "[WARN] dividends fetch fail: ALB (Albemarle Corporation) -> Invalid comparison between dtype=datetime64[ns, America/New_York] and Timestamp\n",
            "[WARN] dividends fetch fail: 008500.KS (일정실업) -> Invalid comparison between dtype=datetime64[ns, Asia/Seoul] and Timestamp\n",
            "[WARN] dividends fetch fail: 023160.KS (태광) -> Invalid comparison between dtype=datetime64[ns, Asia/Seoul] and Timestamp\n"
          ]
        },
        {
          "output_type": "stream",
          "name": "stderr",
          "text": [
            "\r배당 수집:   3%|▎         | 17/491 [00:20<06:57,  1.13it/s]"
          ]
        },
        {
          "output_type": "stream",
          "name": "stdout",
          "text": [
            "[WARN] dividends fetch fail: ALLE (Allegion) -> Invalid comparison between dtype=datetime64[ns, America/New_York] and Timestamp\n",
            "[WARN] dividends fetch fail: 007530.KS (와이엠) -> Invalid comparison between dtype=datetime64[ns, Asia/Seoul] and Timestamp\n",
            "[WARN] dividends fetch fail: 010120.KS (엘에스일렉트릭) -> Invalid comparison between dtype=datetime64[ns, Asia/Seoul] and Timestamp\n",
            "[WARN] dividends fetch fail: 012620.KS (원일특강) -> Invalid comparison between dtype=datetime64[ns, Asia/Seoul] and Timestamp\n"
          ]
        },
        {
          "output_type": "stream",
          "name": "stderr",
          "text": [
            "\r배당 수집:   4%|▎         | 18/491 [00:22<10:49,  1.37s/it]"
          ]
        },
        {
          "output_type": "stream",
          "name": "stdout",
          "text": [
            "[WARN] dividends fetch fail: LNT (Alliant Energy) -> Invalid comparison between dtype=datetime64[ns, America/New_York] and Timestamp\n",
            "[WARN] dividends fetch fail: 011370.KS (서한) -> Invalid comparison between dtype=datetime64[ns, Asia/Seoul] and Timestamp\n",
            "[WARN] dividends fetch fail: 009190.KS (대양금속) -> Invalid comparison between dtype=datetime64[ns, Asia/Seoul] and Timestamp\n",
            "[WARN] dividends fetch fail: 014820.KS (동원시스템즈) -> Invalid comparison between dtype=datetime64[ns, Asia/Seoul] and Timestamp\n",
            "[WARN] dividends fetch fail: 014470.KS (부방) -> Invalid comparison between dtype=datetime64[ns, Asia/Seoul] and Timestamp\n"
          ]
        },
        {
          "output_type": "stream",
          "name": "stderr",
          "text": [
            "배당 수집:   4%|▍         | 21/491 [00:24<06:51,  1.14it/s]"
          ]
        },
        {
          "output_type": "stream",
          "name": "stdout",
          "text": [
            "[WARN] dividends fetch fail: GOOGL (Alphabet Inc. (Class A)) -> Invalid comparison between dtype=datetime64[ns, America/New_York] and Timestamp\n",
            "[WARN] dividends fetch fail: ALL (Allstate) -> Invalid comparison between dtype=datetime64[ns, America/New_York] and Timestamp\n",
            "[WARN] dividends fetch fail: 010140.KS (삼성중공업) -> Invalid comparison between dtype=datetime64[ns, Asia/Seoul] and Timestamp\n",
            "[WARN] dividends fetch fail: 009680.KS (모토닉) -> Invalid comparison between dtype=datetime64[ns, Asia/Seoul] and Timestamp\n",
            "[WARN] dividends fetch fail: GOOG (Alphabet Inc. (Class C)) -> Invalid comparison between dtype=datetime64[ns, America/New_York] and Timestamp\n",
            "[WARN] dividends fetch fail: 010690.KS (화신) -> Invalid comparison between dtype=datetime64[ns, Asia/Seoul] and Timestamp\n"
          ]
        },
        {
          "output_type": "stream",
          "name": "stderr",
          "text": [
            "\r배당 수집:   4%|▍         | 22/491 [00:25<07:06,  1.10it/s]"
          ]
        },
        {
          "output_type": "stream",
          "name": "stdout",
          "text": [
            "[WARN] dividends fetch fail: 018120.KS (진로발효) -> Invalid comparison between dtype=datetime64[ns, Asia/Seoul] and Timestamp\n"
          ]
        },
        {
          "output_type": "stream",
          "name": "stderr",
          "text": [
            "\r배당 수집:   5%|▍         | 23/491 [00:27<09:20,  1.20s/it]"
          ]
        },
        {
          "output_type": "stream",
          "name": "stdout",
          "text": [
            "[WARN] dividends fetch fail: 013720.KS (THE CUBE&) -> Invalid comparison between dtype=datetime64[ns, Asia/Seoul] and Timestamp\n",
            "[WARN] dividends fetch fail: 011320.KS (유니크) -> Invalid comparison between dtype=datetime64[ns, Asia/Seoul] and Timestamp\n",
            "[WARN] dividends fetch fail: AMCR (Amcor) -> Invalid comparison between dtype=datetime64[ns, America/New_York] and Timestamp\n"
          ]
        },
        {
          "output_type": "stream",
          "name": "stderr",
          "text": [
            "\r배당 수집:   5%|▍         | 24/491 [00:28<08:51,  1.14s/it]"
          ]
        },
        {
          "output_type": "stream",
          "name": "stdout",
          "text": [
            "[WARN] dividends fetch fail: MO (Altria) -> Invalid comparison between dtype=datetime64[ns, America/New_York] and Timestamp\n",
            "[WARN] dividends fetch fail: 005670.KS (푸드웰) -> Invalid comparison between dtype=datetime64[ns, Asia/Seoul] and Timestamp\n",
            "[WARN] dividends fetch fail: 006140.KS (피제이전자) -> Invalid comparison between dtype=datetime64[ns, Asia/Seoul] and Timestamp\n"
          ]
        },
        {
          "output_type": "stream",
          "name": "stderr",
          "text": [
            "\r배당 수집:   5%|▌         | 25/491 [00:30<10:06,  1.30s/it]"
          ]
        },
        {
          "output_type": "stream",
          "name": "stdout",
          "text": [
            "[WARN] dividends fetch fail: 019010.KS (베뉴지) -> Invalid comparison between dtype=datetime64[ns, Asia/Seoul] and Timestamp\n",
            "[WARN] dividends fetch fail: 009780.KS (엠에스씨) -> Invalid comparison between dtype=datetime64[ns, Asia/Seoul] and Timestamp\n",
            "[WARN] dividends fetch fail: 007330.KS (푸른저축은행) -> Invalid comparison between dtype=datetime64[ns, Asia/Seoul] and Timestamp\n",
            "[WARN] dividends fetch fail: AEE (Ameren) -> Invalid comparison between dtype=datetime64[ns, America/New_York] and Timestamp\n"
          ]
        },
        {
          "output_type": "stream",
          "name": "stderr",
          "text": [
            "\r배당 수집:   5%|▌         | 26/491 [00:33<12:40,  1.64s/it]"
          ]
        },
        {
          "output_type": "stream",
          "name": "stdout",
          "text": [
            "[WARN] dividends fetch fail: 009450.KS (경동나비엔) -> Invalid comparison between dtype=datetime64[ns, Asia/Seoul] and Timestamp\n",
            "[WARN] dividends fetch fail: 000390.KS (삼화페인트공업) -> Invalid comparison between dtype=datetime64[ns, Asia/Seoul] and Timestamp\n",
            "[WARN] dividends fetch fail: 020400.KS (대동금속) -> Invalid comparison between dtype=datetime64[ns, Asia/Seoul] and Timestamp\n",
            "[WARN] dividends fetch fail: AEP (American Electric Power) -> Invalid comparison between dtype=datetime64[ns, America/New_York] and Timestamp\n",
            "[WARN] dividends fetch fail: 014200.KS (광림) -> Invalid comparison between dtype=datetime64[ns, Asia/Seoul] and Timestamp\n"
          ]
        },
        {
          "output_type": "stream",
          "name": "stderr",
          "text": [
            "\r배당 수집:   5%|▌         | 27/491 [00:34<11:26,  1.48s/it]"
          ]
        },
        {
          "output_type": "stream",
          "name": "stdout",
          "text": [
            "[WARN] dividends fetch fail: 016600.KS (큐캐피탈) -> Invalid comparison between dtype=datetime64[ns, Asia/Seoul] and Timestamp\n",
            "[WARN] dividends fetch fail: AIG (American International Group) -> Invalid comparison between dtype=datetime64[ns, America/New_York] and Timestamp\n"
          ]
        },
        {
          "output_type": "stream",
          "name": "stderr",
          "text": [
            "\r배당 수집:   6%|▌         | 28/491 [00:34<09:31,  1.23s/it]"
          ]
        },
        {
          "output_type": "stream",
          "name": "stdout",
          "text": [
            "[WARN] dividends fetch fail: AMT (American Tower) -> Invalid comparison between dtype=datetime64[ns, America/New_York] and Timestamp\n",
            "[WARN] dividends fetch fail: 005710.KS (대원산업) -> Invalid comparison between dtype=datetime64[ns, Asia/Seoul] and Timestamp\n",
            "[WARN] dividends fetch fail: 004590.KS (한국가구) -> Invalid comparison between dtype=datetime64[ns, Asia/Seoul] and Timestamp\n"
          ]
        },
        {
          "output_type": "stream",
          "name": "stderr",
          "text": [
            "\r배당 수집:   6%|▌         | 29/491 [00:35<08:35,  1.12s/it]"
          ]
        },
        {
          "output_type": "stream",
          "name": "stdout",
          "text": [
            "[WARN] dividends fetch fail: AXP (American Express) -> Invalid comparison between dtype=datetime64[ns, America/New_York] and Timestamp\n",
            "[WARN] dividends fetch fail: 000440.KS (중앙에너비스) -> Invalid comparison between dtype=datetime64[ns, Asia/Seoul] and Timestamp\n"
          ]
        },
        {
          "output_type": "stream",
          "name": "stderr",
          "text": [
            "\r배당 수집:   6%|▌         | 30/491 [00:37<09:58,  1.30s/it]"
          ]
        },
        {
          "output_type": "stream",
          "name": "stdout",
          "text": [
            "[WARN] dividends fetch fail: 005090.KS (SGC에너지) -> Invalid comparison between dtype=datetime64[ns, Asia/Seoul] and Timestamp\n",
            "[WARN] dividends fetch fail: AWK (American Water Works) -> Invalid comparison between dtype=datetime64[ns, America/New_York] and Timestamp\n",
            "[WARN] dividends fetch fail: 014970.KS (삼륭물산) -> Invalid comparison between dtype=datetime64[ns, Asia/Seoul] and Timestamp\n",
            "[WARN] dividends fetch fail: 012030.KS (DB) -> Invalid comparison between dtype=datetime64[ns, Asia/Seoul] and Timestamp\n"
          ]
        },
        {
          "output_type": "stream",
          "name": "stderr",
          "text": [
            "\r배당 수집:   6%|▋         | 31/491 [00:38<09:55,  1.30s/it]"
          ]
        },
        {
          "output_type": "stream",
          "name": "stdout",
          "text": [
            "[WARN] dividends fetch fail: 011040.KS (경동제약) -> Invalid comparison between dtype=datetime64[ns, Asia/Seoul] and Timestamp\n",
            "[WARN] dividends fetch fail: AMP (Ameriprise Financial) -> Invalid comparison between dtype=datetime64[ns, America/New_York] and Timestamp\n",
            "[WARN] dividends fetch fail: 005750.KS (대림바스) -> Invalid comparison between dtype=datetime64[ns, Asia/Seoul] and Timestamp\n",
            "[WARN] dividends fetch fail: 008370.KS (원풍) -> Invalid comparison between dtype=datetime64[ns, Asia/Seoul] and Timestamp\n",
            "[WARN] dividends fetch fail: 019540.KS (일지테크) -> Invalid comparison between dtype=datetime64[ns, Asia/Seoul] and Timestamp\n"
          ]
        },
        {
          "output_type": "stream",
          "name": "stderr",
          "text": [
            "\r배당 수집:   7%|▋         | 32/491 [00:41<13:50,  1.81s/it]"
          ]
        },
        {
          "output_type": "stream",
          "name": "stdout",
          "text": [
            "[WARN] dividends fetch fail: AME (Ametek) -> Invalid comparison between dtype=datetime64[ns, America/New_York] and Timestamp\n",
            "[WARN] dividends fetch fail: 002290.KS (삼일기업공사) -> Invalid comparison between dtype=datetime64[ns, Asia/Seoul] and Timestamp\n"
          ]
        },
        {
          "output_type": "stream",
          "name": "stderr",
          "text": [
            "\r배당 수집:   7%|▋         | 33/491 [00:42<10:32,  1.38s/it]"
          ]
        },
        {
          "output_type": "stream",
          "name": "stdout",
          "text": [
            "[WARN] dividends fetch fail: AMGN (Amgen) -> Invalid comparison between dtype=datetime64[ns, America/New_York] and Timestamp\n",
            "[WARN] dividends fetch fail: 007770.KS (한일화학) -> Invalid comparison between dtype=datetime64[ns, Asia/Seoul] and Timestamp\n",
            "[WARN] dividends fetch fail: 017890.KS (한국알콜) -> Invalid comparison between dtype=datetime64[ns, Asia/Seoul] and Timestamp\n",
            "[WARN] dividends fetch fail: 003310.KS (대주산업) -> Invalid comparison between dtype=datetime64[ns, Asia/Seoul] and Timestamp\n"
          ]
        },
        {
          "output_type": "stream",
          "name": "stderr",
          "text": [
            "\r배당 수집:   7%|▋         | 34/491 [00:43<10:28,  1.37s/it]"
          ]
        },
        {
          "output_type": "stream",
          "name": "stdout",
          "text": [
            "[WARN] dividends fetch fail: APH (Amphenol) -> Invalid comparison between dtype=datetime64[ns, America/New_York] and Timestamp\n",
            "[WARN] dividends fetch fail: 017510.KS (세명전기) -> Invalid comparison between dtype=datetime64[ns, Asia/Seoul] and Timestamp\n",
            "[WARN] dividends fetch fail: 005880.KS (대한해운) -> Invalid comparison between dtype=datetime64[ns, Asia/Seoul] and Timestamp\n"
          ]
        },
        {
          "output_type": "stream",
          "name": "stderr",
          "text": [
            "\r배당 수집:   7%|▋         | 35/491 [00:44<08:42,  1.14s/it]"
          ]
        },
        {
          "output_type": "stream",
          "name": "stdout",
          "text": [
            "[WARN] dividends fetch fail: ADI (Analog Devices) -> Invalid comparison between dtype=datetime64[ns, America/New_York] and Timestamp\n",
            "[WARN] dividends fetch fail: 021080.KS (에이티넘인베스트) -> Invalid comparison between dtype=datetime64[ns, Asia/Seoul] and Timestamp[WARN] dividends fetch fail: 017550.KS (수산세보틱스) -> Invalid comparison between dtype=datetime64[ns, Asia/Seoul] and Timestamp\n",
            "\n",
            "[WARN] dividends fetch fail: 011170.KS (롯데케미칼) -> Invalid comparison between dtype=datetime64[ns, Asia/Seoul] and Timestamp\n",
            "[WARN] dividends fetch fail: 008830.KS (대동기어) -> Invalid comparison between dtype=datetime64[ns, Asia/Seoul] and Timestamp\n"
          ]
        },
        {
          "output_type": "stream",
          "name": "stderr",
          "text": [
            "\r배당 수집:   7%|▋         | 36/491 [00:46<11:21,  1.50s/it]"
          ]
        },
        {
          "output_type": "stream",
          "name": "stdout",
          "text": [
            "[WARN] dividends fetch fail: 001430.KS (세아베스틸지주) -> Invalid comparison between dtype=datetime64[ns, Asia/Seoul] and Timestamp\n",
            "[WARN] dividends fetch fail: AON (Aon plc) -> Invalid comparison between dtype=datetime64[ns, America/New_York] and Timestamp\n"
          ]
        },
        {
          "output_type": "stream",
          "name": "stderr",
          "text": [
            "\r배당 수집:   8%|▊         | 37/491 [00:46<09:07,  1.21s/it]"
          ]
        },
        {
          "output_type": "stream",
          "name": "stdout",
          "text": [
            "[WARN] dividends fetch fail: 008770.KS (호텔신라) -> Invalid comparison between dtype=datetime64[ns, Asia/Seoul] and Timestamp\n",
            "[WARN] dividends fetch fail: APO (Apollo Global Management) -> Invalid comparison between dtype=datetime64[ns, America/New_York] and Timestamp\n"
          ]
        },
        {
          "output_type": "stream",
          "name": "stderr",
          "text": [
            "\r배당 수집:   8%|▊         | 38/491 [00:47<07:54,  1.05s/it]"
          ]
        },
        {
          "output_type": "stream",
          "name": "stdout",
          "text": [
            "[WARN] dividends fetch fail: APA (APA Corporation) -> Invalid comparison between dtype=datetime64[ns, America/New_York] and Timestamp\n",
            "[WARN] dividends fetch fail: 014580.KS (태경비케이) -> Invalid comparison between dtype=datetime64[ns, Asia/Seoul] and Timestamp\n",
            "[WARN] dividends fetch fail: 013520.KS (화승코퍼레이션) -> Invalid comparison between dtype=datetime64[ns, Asia/Seoul] and Timestamp\n"
          ]
        },
        {
          "output_type": "stream",
          "name": "stderr",
          "text": [
            "\r배당 수집:   8%|▊         | 39/491 [00:48<07:46,  1.03s/it]"
          ]
        },
        {
          "output_type": "stream",
          "name": "stdout",
          "text": [
            "[WARN] dividends fetch fail: 004080.KS (신흥) -> Invalid comparison between dtype=datetime64[ns, Asia/Seoul] and Timestamp\n",
            "[WARN] dividends fetch fail: AAPL (Apple Inc.) -> Invalid comparison between dtype=datetime64[ns, America/New_York] and Timestamp\n",
            "[WARN] dividends fetch fail: 006060.KS (화승인더스트리) -> Invalid comparison between dtype=datetime64[ns, Asia/Seoul] and Timestamp\n",
            "[WARN] dividends fetch fail: 014530.KS (극동유화) -> Invalid comparison between dtype=datetime64[ns, Asia/Seoul] and Timestamp[WARN] dividends fetch fail: 002140.KS (고려산업) -> Invalid comparison between dtype=datetime64[ns, Asia/Seoul] and Timestamp\n",
            "\n",
            "[WARN] dividends fetch fail: 016090.KS (대현) -> Invalid comparison between dtype=datetime64[ns, Asia/Seoul] and Timestamp\n"
          ]
        },
        {
          "output_type": "stream",
          "name": "stderr",
          "text": [
            "\r배당 수집:   8%|▊         | 40/491 [00:50<10:13,  1.36s/it]"
          ]
        },
        {
          "output_type": "stream",
          "name": "stdout",
          "text": [
            "[WARN] dividends fetch fail: APTV (Aptiv) -> Invalid comparison between dtype=datetime64[ns, America/New_York] and Timestamp\n"
          ]
        },
        {
          "output_type": "stream",
          "name": "stderr",
          "text": [
            "\r배당 수집:   8%|▊         | 41/491 [00:51<08:11,  1.09s/it]"
          ]
        },
        {
          "output_type": "stream",
          "name": "stdout",
          "text": [
            "[WARN] dividends fetch fail: ACGL (Arch Capital Group) -> Invalid comparison between dtype=datetime64[ns, America/New_York] and Timestamp[WARN] dividends fetch fail: 002230.KS (피에스텍) -> Invalid comparison between dtype=datetime64[ns, Asia/Seoul] and Timestamp\n",
            "\n",
            "[WARN] dividends fetch fail: AMAT (Applied Materials) -> Invalid comparison between dtype=datetime64[ns, America/New_York] and Timestamp\n"
          ]
        },
        {
          "output_type": "stream",
          "name": "stderr",
          "text": [
            "\r배당 수집:   9%|▉         | 43/491 [00:51<05:22,  1.39it/s]"
          ]
        },
        {
          "output_type": "stream",
          "name": "stdout",
          "text": [
            "[WARN] dividends fetch fail: 001620.KS (케이비아이동국실업) -> Invalid comparison between dtype=datetime64[ns, Asia/Seoul] and Timestamp\n",
            "[WARN] dividends fetch fail: 017040.KS (광명전기) -> Invalid comparison between dtype=datetime64[ns, Asia/Seoul] and Timestamp\n",
            "[WARN] dividends fetch fail: 011390.KS (부산산업) -> Invalid comparison between dtype=datetime64[ns, Asia/Seoul] and Timestamp\n"
          ]
        },
        {
          "output_type": "stream",
          "name": "stderr",
          "text": [
            "\r배당 수집:   9%|▉         | 44/491 [00:54<09:39,  1.30s/it]"
          ]
        },
        {
          "output_type": "stream",
          "name": "stdout",
          "text": [
            "[WARN] dividends fetch fail: 010130.KS (고려아연) -> Invalid comparison between dtype=datetime64[ns, Asia/Seoul] and Timestamp\n",
            "[WARN] dividends fetch fail: ADM (Archer Daniels Midland) -> Invalid comparison between dtype=datetime64[ns, America/New_York] and Timestamp\n",
            "[WARN] dividends fetch fail: 011810.KS (STX) -> Invalid comparison between dtype=datetime64[ns, Asia/Seoul] and Timestamp\n"
          ]
        },
        {
          "output_type": "stream",
          "name": "stderr",
          "text": [
            "\r배당 수집:   9%|▉         | 45/491 [00:55<08:31,  1.15s/it]"
          ]
        },
        {
          "output_type": "stream",
          "name": "stdout",
          "text": [
            "[WARN] dividends fetch fail: 009200.KS (무림페이퍼) -> Invalid comparison between dtype=datetime64[ns, Asia/Seoul] and Timestamp\n",
            "[WARN] dividends fetch fail: 008870.KS (금비) -> Invalid comparison between dtype=datetime64[ns, Asia/Seoul] and Timestamp\n",
            "[WARN] dividends fetch fail: AIZ (Assurant) -> Invalid comparison between dtype=datetime64[ns, America/New_York] and Timestamp\n",
            "[WARN] dividends fetch fail: 001500.KS (현대차증권) -> Invalid comparison between dtype=datetime64[ns, Asia/Seoul] and Timestamp\n",
            "[WARN] dividends fetch fail: 008110.KS (대동전자) -> Invalid comparison between dtype=datetime64[ns, Asia/Seoul] and Timestamp\n"
          ]
        },
        {
          "output_type": "stream",
          "name": "stderr",
          "text": [
            "\r배당 수집:   9%|▉         | 46/491 [00:56<08:00,  1.08s/it]"
          ]
        },
        {
          "output_type": "stream",
          "name": "stdout",
          "text": [
            "[WARN] dividends fetch fail: AJG (Arthur J. Gallagher & Co.) -> Invalid comparison between dtype=datetime64[ns, America/New_York] and Timestamp\n",
            "[WARN] dividends fetch fail: 005820.KS (원림) -> Invalid comparison between dtype=datetime64[ns, Asia/Seoul] and Timestamp\n"
          ]
        },
        {
          "output_type": "stream",
          "name": "stderr",
          "text": [
            "\r배당 수집:  10%|▉         | 47/491 [00:57<08:14,  1.11s/it]"
          ]
        },
        {
          "output_type": "stream",
          "name": "stdout",
          "text": [
            "[WARN] dividends fetch fail: T (AT&T) -> Invalid comparison between dtype=datetime64[ns, America/New_York] and Timestamp\n",
            "[WARN] dividends fetch fail: 008490.KS (서흥) -> Invalid comparison between dtype=datetime64[ns, Asia/Seoul] and Timestamp\n"
          ]
        },
        {
          "output_type": "stream",
          "name": "stderr",
          "text": [
            "\r배당 수집:  10%|▉         | 48/491 [00:58<07:25,  1.01s/it]"
          ]
        },
        {
          "output_type": "stream",
          "name": "stdout",
          "text": [
            "[WARN] dividends fetch fail: 014910.KS (성문전자) -> Invalid comparison between dtype=datetime64[ns, Asia/Seoul] and Timestamp\n",
            "[WARN] dividends fetch fail: 015860.KS (일진홀딩스) -> Invalid comparison between dtype=datetime64[ns, Asia/Seoul] and Timestamp\n",
            "[WARN] dividends fetch fail: 012280.KS (영화금속) -> Invalid comparison between dtype=datetime64[ns, Asia/Seoul] and Timestamp\n"
          ]
        },
        {
          "output_type": "stream",
          "name": "stderr",
          "text": [
            "배당 수집:  10%|█         | 50/491 [01:00<07:02,  1.04it/s]"
          ]
        },
        {
          "output_type": "stream",
          "name": "stdout",
          "text": [
            "[WARN] dividends fetch fail: 002210.KS (동성제약) -> Invalid comparison between dtype=datetime64[ns, Asia/Seoul] and Timestamp[WARN] dividends fetch fail: ATO (Atmos Energy) -> Invalid comparison between dtype=datetime64[ns, America/New_York] and Timestamp\n",
            "\n",
            "[WARN] dividends fetch fail: ADSK (Autodesk) -> Invalid comparison between dtype=datetime64[ns, America/New_York] and Timestamp\n",
            "[WARN] dividends fetch fail: 019170.KS (신풍제약) -> Invalid comparison between dtype=datetime64[ns, Asia/Seoul] and Timestamp\n"
          ]
        },
        {
          "output_type": "stream",
          "name": "stderr",
          "text": [
            "\r배당 수집:  10%|█         | 51/491 [01:00<05:45,  1.27it/s]"
          ]
        },
        {
          "output_type": "stream",
          "name": "stdout",
          "text": [
            "[WARN] dividends fetch fail: 016920.KS (카스) -> Invalid comparison between dtype=datetime64[ns, Asia/Seoul] and Timestamp\n"
          ]
        },
        {
          "output_type": "stream",
          "name": "stderr",
          "text": [
            "\r배당 수집:  11%|█         | 52/491 [01:02<06:52,  1.06it/s]"
          ]
        },
        {
          "output_type": "stream",
          "name": "stdout",
          "text": [
            "[WARN] dividends fetch fail: ADP (Automatic Data Processing) -> Invalid comparison between dtype=datetime64[ns, America/New_York] and Timestamp\n",
            "[WARN] dividends fetch fail: 013030.KS (하이록코리아) -> Invalid comparison between dtype=datetime64[ns, Asia/Seoul] and Timestamp\n",
            "[WARN] dividends fetch fail: 011330.KS (유니켐) -> Invalid comparison between dtype=datetime64[ns, Asia/Seoul] and Timestamp\n"
          ]
        },
        {
          "output_type": "stream",
          "name": "stderr",
          "text": [
            "\r배당 수집:  11%|█         | 53/491 [01:02<06:07,  1.19it/s]"
          ]
        },
        {
          "output_type": "stream",
          "name": "stdout",
          "text": [
            "[WARN] dividends fetch fail: AVB (AvalonBay Communities) -> Invalid comparison between dtype=datetime64[ns, America/New_York] and Timestamp\n",
            "[WARN] dividends fetch fail: 012800.KS (대창) -> Invalid comparison between dtype=datetime64[ns, Asia/Seoul] and Timestamp\n",
            "[WARN] dividends fetch fail: 001140.KS (국보) -> Invalid comparison between dtype=datetime64[ns, Asia/Seoul] and Timestamp\n",
            "[WARN] dividends fetch fail: 013360.KS (일성건설) -> Invalid comparison between dtype=datetime64[ns, Asia/Seoul] and Timestamp\n",
            "[WARN] dividends fetch fail: 013700.KS (까뮤이앤씨) -> Invalid comparison between dtype=datetime64[ns, Asia/Seoul] and Timestamp\n",
            "[WARN] dividends fetch fail: 002760.KS (보락) -> Invalid comparison between dtype=datetime64[ns, Asia/Seoul] and Timestamp\n",
            "[WARN] dividends fetch fail: 007610.KS (선도전기) -> Invalid comparison between dtype=datetime64[ns, Asia/Seoul] and Timestamp\n"
          ]
        },
        {
          "output_type": "stream",
          "name": "stderr",
          "text": [
            "배당 수집:  11%|█         | 55/491 [01:06<09:09,  1.26s/it]"
          ]
        },
        {
          "output_type": "stream",
          "name": "stdout",
          "text": [
            "[WARN] dividends fetch fail: AVY (Avery Dennison) -> Invalid comparison between dtype=datetime64[ns, America/New_York] and Timestamp\n",
            "[WARN] dividends fetch fail: BKR (Baker Hughes) -> Invalid comparison between dtype=datetime64[ns, America/New_York] and Timestamp\n",
            "[WARN] dividends fetch fail: 009290.KS (광동제약) -> Invalid comparison between dtype=datetime64[ns, Asia/Seoul] and Timestamp\n"
          ]
        },
        {
          "output_type": "stream",
          "name": "stderr",
          "text": [
            "배당 수집:  12%|█▏        | 57/491 [01:08<07:24,  1.02s/it]"
          ]
        },
        {
          "output_type": "stream",
          "name": "stdout",
          "text": [
            "[WARN] dividends fetch fail: BALL (Ball Corporation) -> Invalid comparison between dtype=datetime64[ns, America/New_York] and Timestamp\n",
            "[WARN] dividends fetch fail: BAC (Bank of America) -> Invalid comparison between dtype=datetime64[ns, America/New_York] and Timestamp\n",
            "[WARN] dividends fetch fail: 004270.KS (남성) -> Invalid comparison between dtype=datetime64[ns, Asia/Seoul] and Timestamp\n",
            "[WARN] dividends fetch fail: 009410.KS (태영건설) -> Invalid comparison between dtype=datetime64[ns, Asia/Seoul] and Timestamp\n",
            "[WARN] dividends fetch fail: 009180.KS (한솔로지스틱스) -> Invalid comparison between dtype=datetime64[ns, Asia/Seoul] and Timestamp\n",
            "[WARN] dividends fetch fail: 001940.KS (KISCO홀딩스) -> Invalid comparison between dtype=datetime64[ns, Asia/Seoul] and Timestamp\n",
            "[WARN] dividends fetch fail: 007280.KS (한국특강) -> Invalid comparison between dtype=datetime64[ns, Asia/Seoul] and Timestamp\n",
            "[WARN] dividends fetch fail: 002170.KS (삼양통상) -> Invalid comparison between dtype=datetime64[ns, Asia/Seoul] and Timestamp\n",
            "[WARN] dividends fetch fail: 017670.KS (SK텔레콤) -> Invalid comparison between dtype=datetime64[ns, Asia/Seoul] and Timestamp\n",
            "[WARN] dividends fetch fail: 010640.KS (진양폴리우레탄) -> Invalid comparison between dtype=datetime64[ns, Asia/Seoul] and Timestamp\n"
          ]
        },
        {
          "output_type": "stream",
          "name": "stderr",
          "text": [
            "\r배당 수집:  12%|█▏        | 58/491 [01:11<12:24,  1.72s/it]"
          ]
        },
        {
          "output_type": "stream",
          "name": "stdout",
          "text": [
            "[WARN] dividends fetch fail: BDX (Becton Dickinson) -> Invalid comparison between dtype=datetime64[ns, America/New_York] and Timestamp\n"
          ]
        },
        {
          "output_type": "stream",
          "name": "stderr",
          "text": [
            "\r배당 수집:  12%|█▏        | 59/491 [01:12<09:32,  1.32s/it]"
          ]
        },
        {
          "output_type": "stream",
          "name": "stdout",
          "text": [
            "[WARN] dividends fetch fail: BAX (Baxter International) -> Invalid comparison between dtype=datetime64[ns, America/New_York] and Timestamp\n"
          ]
        },
        {
          "output_type": "stream",
          "name": "stderr",
          "text": [
            "\r배당 수집:  12%|█▏        | 60/491 [01:12<07:26,  1.04s/it]"
          ]
        },
        {
          "output_type": "stream",
          "name": "stdout",
          "text": [
            "[WARN] dividends fetch fail: 004380.KS (삼익THK) -> Invalid comparison between dtype=datetime64[ns, Asia/Seoul] and Timestamp\n",
            "[WARN] dividends fetch fail: 003650.KS (미창석유공업) -> Invalid comparison between dtype=datetime64[ns, Asia/Seoul] and Timestamp\n",
            "[WARN] dividends fetch fail: 002840.KS (미원상사) -> Invalid comparison between dtype=datetime64[ns, Asia/Seoul] and Timestamp\n"
          ]
        },
        {
          "output_type": "stream",
          "name": "stderr",
          "text": [
            "배당 수집:  13%|█▎        | 62/491 [01:14<05:56,  1.20it/s]"
          ]
        },
        {
          "output_type": "stream",
          "name": "stdout",
          "text": [
            "[WARN] dividends fetch fail: BBY (Best Buy) -> Invalid comparison between dtype=datetime64[ns, America/New_York] and Timestamp\n",
            "[WARN] dividends fetch fail: 012330.KS (현대모비스) -> Invalid comparison between dtype=datetime64[ns, Asia/Seoul] and Timestamp\n",
            "[WARN] dividends fetch fail: TECH (Bio-Techne) -> Invalid comparison between dtype=datetime64[ns, America/New_York] and Timestamp\n"
          ]
        },
        {
          "output_type": "stream",
          "name": "stderr",
          "text": [
            "\r배당 수집:  13%|█▎        | 63/491 [01:14<04:33,  1.57it/s]"
          ]
        },
        {
          "output_type": "stream",
          "name": "stdout",
          "text": [
            "[WARN] dividends fetch fail: 001390.KS (KG케미칼) -> Invalid comparison between dtype=datetime64[ns, Asia/Seoul] and Timestamp\n",
            "[WARN] dividends fetch fail: 013000.KS (세우글로벌) -> Invalid comparison between dtype=datetime64[ns, Asia/Seoul] and Timestamp\n",
            "[WARN] dividends fetch fail: 007860.KS (서연) -> Invalid comparison between dtype=datetime64[ns, Asia/Seoul] and Timestamp\n",
            "[WARN] dividends fetch fail: 001450.KS (현대해상) -> Invalid comparison between dtype=datetime64[ns, Asia/Seoul] and Timestamp\n"
          ]
        },
        {
          "output_type": "stream",
          "name": "stderr",
          "text": [
            "\r배당 수집:  13%|█▎        | 64/491 [01:16<06:41,  1.06it/s]"
          ]
        },
        {
          "output_type": "stream",
          "name": "stdout",
          "text": [
            "[WARN] dividends fetch fail: BLK (BlackRock) -> Invalid comparison between dtype=datetime64[ns, America/New_York] and Timestamp\n"
          ]
        },
        {
          "output_type": "stream",
          "name": "stderr",
          "text": [
            "\r배당 수집:  13%|█▎        | 65/491 [01:16<06:24,  1.11it/s]"
          ]
        },
        {
          "output_type": "stream",
          "name": "stdout",
          "text": [
            "[WARN] dividends fetch fail: BX (Blackstone Inc.) -> Invalid comparison between dtype=datetime64[ns, America/New_York] and Timestamp\n",
            "[WARN] dividends fetch fail: 007690.KS (국도화학) -> Invalid comparison between dtype=datetime64[ns, Asia/Seoul] and Timestamp\n",
            "[WARN] dividends fetch fail: 015760.KS (한국전력공사) -> Invalid comparison between dtype=datetime64[ns, Asia/Seoul] and Timestamp\n",
            "[WARN] dividends fetch fail: 005440.KS (현대지에프홀딩스) -> Invalid comparison between dtype=datetime64[ns, Asia/Seoul] and Timestamp\n"
          ]
        },
        {
          "output_type": "stream",
          "name": "stderr",
          "text": [
            "\r배당 수집:  13%|█▎        | 66/491 [01:17<06:52,  1.03it/s]"
          ]
        },
        {
          "output_type": "stream",
          "name": "stdout",
          "text": [
            "[WARN] dividends fetch fail: 009160.KS (SIMPAC) -> Invalid comparison between dtype=datetime64[ns, Asia/Seoul] and Timestamp\n",
            "[WARN] dividends fetch fail: 015230.KS (대창단조) -> Invalid comparison between dtype=datetime64[ns, Asia/Seoul] and Timestamp\n",
            "[WARN] dividends fetch fail: 006280.KS (녹십자) -> Invalid comparison between dtype=datetime64[ns, Asia/Seoul] and Timestamp\n",
            "[WARN] dividends fetch fail: 008600.KS (윌비스) -> Invalid comparison between dtype=datetime64[ns, Asia/Seoul] and Timestamp\n",
            "[WARN] dividends fetch fail: 007160.KS (사조산업) -> Invalid comparison between dtype=datetime64[ns, Asia/Seoul] and Timestamp\n"
          ]
        },
        {
          "output_type": "stream",
          "name": "stderr",
          "text": [
            "\r배당 수집:  14%|█▎        | 67/491 [01:20<10:57,  1.55s/it]"
          ]
        },
        {
          "output_type": "stream",
          "name": "stdout",
          "text": [
            "[WARN] dividends fetch fail: BK (BNY Mellon) -> Invalid comparison between dtype=datetime64[ns, America/New_York] and Timestamp\n",
            "[WARN] dividends fetch fail: BKNG (Booking Holdings) -> Invalid comparison between dtype=datetime64[ns, America/New_York] and Timestamp\n"
          ]
        },
        {
          "output_type": "stream",
          "name": "stderr",
          "text": [
            "\r배당 수집:  14%|█▍        | 69/491 [01:21<06:32,  1.08it/s]"
          ]
        },
        {
          "output_type": "stream",
          "name": "stdout",
          "text": [
            "[WARN] dividends fetch fail: BA (Boeing) -> Invalid comparison between dtype=datetime64[ns, America/New_York] and Timestamp\n",
            "[WARN] dividends fetch fail: 008040.KS (사조동아원) -> Invalid comparison between dtype=datetime64[ns, Asia/Seoul] and Timestamp\n",
            "[WARN] dividends fetch fail: 014130.KS (한익스프레스) -> Invalid comparison between dtype=datetime64[ns, Asia/Seoul] and Timestamp\n",
            "[WARN] dividends fetch fail: 009580.KS (무림P&P) -> Invalid comparison between dtype=datetime64[ns, Asia/Seoul] and Timestamp\n",
            "[WARN] dividends fetch fail: 009140.KS (경인전자) -> Invalid comparison between dtype=datetime64[ns, Asia/Seoul] and Timestamp\n",
            "[WARN] dividends fetch fail: 013570.KS (디와이) -> Invalid comparison between dtype=datetime64[ns, Asia/Seoul] and Timestamp\n"
          ]
        },
        {
          "output_type": "stream",
          "name": "stderr",
          "text": [
            "\r배당 수집:  14%|█▍        | 70/491 [01:24<11:06,  1.58s/it]"
          ]
        },
        {
          "output_type": "stream",
          "name": "stdout",
          "text": [
            "[WARN] dividends fetch fail: 003610.KS (방림) -> Invalid comparison between dtype=datetime64[ns, Asia/Seoul] and Timestamp\n",
            "[WARN] dividends fetch fail: 010420.KS (한솔피엔에스) -> Invalid comparison between dtype=datetime64[ns, Asia/Seoul] and Timestamp\n",
            "[WARN] dividends fetch fail: BMY (Bristol Myers Squibb) -> Invalid comparison between dtype=datetime64[ns, America/New_York] and Timestamp\n",
            "[WARN] dividends fetch fail: BR (Broadridge Financial Solutions) -> Invalid comparison between dtype=datetime64[ns, America/New_York] and Timestamp\n",
            "[WARN] dividends fetch fail: 014680.KS (한솔케미칼) -> Invalid comparison between dtype=datetime64[ns, Asia/Seoul] and Timestamp\n",
            "[WARN] dividends fetch fail: AVGO (Broadcom) -> Invalid comparison between dtype=datetime64[ns, America/New_York] and Timestamp\n"
          ]
        },
        {
          "output_type": "stream",
          "name": "stderr",
          "text": [
            "배당 수집:  15%|█▌        | 74/491 [01:26<05:30,  1.26it/s]"
          ]
        },
        {
          "output_type": "stream",
          "name": "stdout",
          "text": [
            "[WARN] dividends fetch fail: BRO (Brown & Brown) -> Invalid comparison between dtype=datetime64[ns, America/New_York] and Timestamp\n",
            "[WARN] dividends fetch fail: 010820.KS (퍼스텍) -> Invalid comparison between dtype=datetime64[ns, Asia/Seoul] and Timestamp\n"
          ]
        },
        {
          "output_type": "stream",
          "name": "stderr",
          "text": [
            "배당 수집:  15%|█▌        | 76/491 [01:27<05:05,  1.36it/s]"
          ]
        },
        {
          "output_type": "stream",
          "name": "stdout",
          "text": [
            "[WARN] dividends fetch fail: 003680.KS (한성기업) -> Invalid comparison between dtype=datetime64[ns, Asia/Seoul] and Timestamp\n",
            "[WARN] dividends fetch fail: 006040.KS (동원산업) -> Invalid comparison between dtype=datetime64[ns, Asia/Seoul] and Timestamp\n",
            "[WARN] dividends fetch fail: 008060.KS (대덕) -> Invalid comparison between dtype=datetime64[ns, Asia/Seoul] and Timestamp\n"
          ]
        },
        {
          "output_type": "stream",
          "name": "stderr",
          "text": [
            "\r배당 수집:  16%|█▌        | 77/491 [01:28<06:16,  1.10it/s]"
          ]
        },
        {
          "output_type": "stream",
          "name": "stdout",
          "text": [
            "[WARN] dividends fetch fail: 002310.KS (아세아제지) -> Invalid comparison between dtype=datetime64[ns, Asia/Seoul] and Timestamp\n",
            "[WARN] dividends fetch fail: BG (Bunge Global) -> Invalid comparison between dtype=datetime64[ns, America/New_York] and Timestamp\n",
            "[WARN] dividends fetch fail: 011280.KS (태림포장) -> Invalid comparison between dtype=datetime64[ns, Asia/Seoul] and Timestamp\n",
            "[WARN] dividends fetch fail: 015020.KS (이스타코) -> Invalid comparison between dtype=datetime64[ns, Asia/Seoul] and Timestamp\n",
            "[WARN] dividends fetch fail: 010660.KS (화천기계) -> Invalid comparison between dtype=datetime64[ns, Asia/Seoul] and Timestamp\n",
            "[WARN] dividends fetch fail: BXP (BXP, Inc.) -> Invalid comparison between dtype=datetime64[ns, America/New_York] and Timestamp\n"
          ]
        },
        {
          "output_type": "stream",
          "name": "stderr",
          "text": [
            "배당 수집:  16%|█▌        | 79/491 [01:29<04:58,  1.38it/s]"
          ]
        },
        {
          "output_type": "stream",
          "name": "stdout",
          "text": [
            "[WARN] dividends fetch fail: CHRW (C.H. Robinson) -> Invalid comparison between dtype=datetime64[ns, America/New_York] and Timestamp\n",
            "[WARN] dividends fetch fail: 001770.KS (SHD) -> Invalid comparison between dtype=datetime64[ns, Asia/Seoul] and Timestamp\n",
            "[WARN] dividends fetch fail: 018470.KS (조일알미늄) -> Invalid comparison between dtype=datetime64[ns, Asia/Seoul] and Timestamp\n"
          ]
        },
        {
          "output_type": "stream",
          "name": "stderr",
          "text": [
            "\r배당 수집:  16%|█▋        | 80/491 [01:32<09:06,  1.33s/it]"
          ]
        },
        {
          "output_type": "stream",
          "name": "stdout",
          "text": [
            "[WARN] dividends fetch fail: 009970.KS (영원무역홀딩스) -> Invalid comparison between dtype=datetime64[ns, Asia/Seoul] and Timestamp\n",
            "[WARN] dividends fetch fail: 005850.KS (에스엘) -> Invalid comparison between dtype=datetime64[ns, Asia/Seoul] and Timestamp\n",
            "[WARN] dividends fetch fail: CPT (Camden Property Trust) -> Invalid comparison between dtype=datetime64[ns, America/New_York] and Timestamp\n",
            "[WARN] dividends fetch fail: 012510.KS (더존비즈온) -> Invalid comparison between dtype=datetime64[ns, Asia/Seoul] and Timestamp\n"
          ]
        },
        {
          "output_type": "stream",
          "name": "stderr",
          "text": [
            "\r배당 수집:  16%|█▋        | 81/491 [01:33<07:58,  1.17s/it]"
          ]
        },
        {
          "output_type": "stream",
          "name": "stdout",
          "text": [
            "[WARN] dividends fetch fail: 003850.KS (보령) -> Invalid comparison between dtype=datetime64[ns, Asia/Seoul] and Timestamp\n",
            "[WARN] dividends fetch fail: 008250.KS (이건산업) -> Invalid comparison between dtype=datetime64[ns, Asia/Seoul] and Timestamp\n",
            "[WARN] dividends fetch fail: 012690.KS (모나리자) -> Invalid comparison between dtype=datetime64[ns, Asia/Seoul] and Timestamp\n"
          ]
        },
        {
          "output_type": "stream",
          "name": "stderr",
          "text": [
            "\r배당 수집:  17%|█▋        | 82/491 [01:35<08:57,  1.32s/it]"
          ]
        },
        {
          "output_type": "stream",
          "name": "stdout",
          "text": [
            "[WARN] dividends fetch fail: COF (Capital One) -> Invalid comparison between dtype=datetime64[ns, America/New_York] and Timestamp\n",
            "[WARN] dividends fetch fail: CPB (Campbell's Company (The)) -> Invalid comparison between dtype=datetime64[ns, America/New_York] and Timestamp\n"
          ]
        },
        {
          "output_type": "stream",
          "name": "stderr",
          "text": [
            "\r배당 수집:  17%|█▋        | 84/491 [01:35<05:18,  1.28it/s]"
          ]
        },
        {
          "output_type": "stream",
          "name": "stdout",
          "text": [
            "[WARN] dividends fetch fail: CAH (Cardinal Health) -> Invalid comparison between dtype=datetime64[ns, America/New_York] and Timestamp\n",
            "[WARN] dividends fetch fail: 006370.KS (대구백화점) -> Invalid comparison between dtype=datetime64[ns, Asia/Seoul] and Timestamp\n",
            "[WARN] dividends fetch fail: 006980.KS (우성) -> Invalid comparison between dtype=datetime64[ns, Asia/Seoul] and Timestamp\n",
            "[WARN] dividends fetch fail: 002220.KS (한일철강) -> Invalid comparison between dtype=datetime64[ns, Asia/Seoul] and Timestamp[WARN] dividends fetch fail: 002450.KS (삼익악기) -> Invalid comparison between dtype=datetime64[ns, Asia/Seoul] and Timestamp\n",
            "\n",
            "[WARN] dividends fetch fail: 002920.KS (유성기업) -> Invalid comparison between dtype=datetime64[ns, Asia/Seoul] and Timestamp\n"
          ]
        },
        {
          "output_type": "stream",
          "name": "stderr",
          "text": [
            "\r배당 수집:  17%|█▋        | 85/491 [01:37<07:31,  1.11s/it]"
          ]
        },
        {
          "output_type": "stream",
          "name": "stdout",
          "text": [
            "[WARN] dividends fetch fail: CCL (Carnival) -> Invalid comparison between dtype=datetime64[ns, America/New_York] and Timestamp\n"
          ]
        },
        {
          "output_type": "stream",
          "name": "stderr",
          "text": [
            "\r배당 수집:  18%|█▊        | 86/491 [01:38<06:41,  1.01it/s]"
          ]
        },
        {
          "output_type": "stream",
          "name": "stdout",
          "text": [
            "[WARN] dividends fetch fail: CARR (Carrier Global) -> Invalid comparison between dtype=datetime64[ns, America/New_York] and Timestamp\n",
            "[WARN] dividends fetch fail: 007340.KS (DN오토모티브) -> Invalid comparison between dtype=datetime64[ns, Asia/Seoul] and Timestamp\n",
            "[WARN] dividends fetch fail: 002460.KS (HS화성) -> Invalid comparison between dtype=datetime64[ns, Asia/Seoul] and Timestamp\n",
            "[WARN] dividends fetch fail: 001290.KS (상상인증권) -> Invalid comparison between dtype=datetime64[ns, Asia/Seoul] and Timestamp\n",
            "[WARN] dividends fetch fail: 014280.KS (금강공업) -> Invalid comparison between dtype=datetime64[ns, Asia/Seoul] and Timestamp\n"
          ]
        },
        {
          "output_type": "stream",
          "name": "stderr",
          "text": [
            "\r배당 수집:  18%|█▊        | 88/491 [01:39<05:12,  1.29it/s]"
          ]
        },
        {
          "output_type": "stream",
          "name": "stdout",
          "text": [
            "[WARN] dividends fetch fail: CBOE (Cboe Global Markets) -> Invalid comparison between dtype=datetime64[ns, America/New_York] and Timestamp\n",
            "[WARN] dividends fetch fail: 003010.KS (혜인) -> Invalid comparison between dtype=datetime64[ns, Asia/Seoul] and Timestamp\n"
          ]
        },
        {
          "output_type": "stream",
          "name": "stderr",
          "text": [
            "\r배당 수집:  18%|█▊        | 89/491 [01:40<05:42,  1.18it/s]"
          ]
        },
        {
          "output_type": "stream",
          "name": "stdout",
          "text": [
            "[WARN] dividends fetch fail: 008730.KS (율촌화학) -> Invalid comparison between dtype=datetime64[ns, Asia/Seoul] and Timestamp\n",
            "[WARN] dividends fetch fail: CAT (Caterpillar Inc.) -> Invalid comparison between dtype=datetime64[ns, America/New_York] and Timestamp\n"
          ]
        },
        {
          "output_type": "stream",
          "name": "stderr",
          "text": [
            "\r배당 수집:  19%|█▊        | 91/491 [01:41<05:26,  1.22it/s]"
          ]
        },
        {
          "output_type": "stream",
          "name": "stdout",
          "text": [
            "[WARN] dividends fetch fail: 009270.KS (신원) -> Invalid comparison between dtype=datetime64[ns, Asia/Seoul] and Timestamp\n",
            "[WARN] dividends fetch fail: 004140.KS (동방) -> Invalid comparison between dtype=datetime64[ns, Asia/Seoul] and Timestamp\n",
            "[WARN] dividends fetch fail: CDW (CDW Corporation) -> Invalid comparison between dtype=datetime64[ns, America/New_York] and Timestamp\n",
            "[WARN] dividends fetch fail: 002960.KS (한국쉘석유) -> Invalid comparison between dtype=datetime64[ns, Asia/Seoul] and Timestamp\n",
            "[WARN] dividends fetch fail: 003000.KS (부광약품) -> Invalid comparison between dtype=datetime64[ns, Asia/Seoul] and Timestamp\n"
          ]
        },
        {
          "output_type": "stream",
          "name": "stderr",
          "text": [
            "\r배당 수집:  19%|█▊        | 92/491 [01:42<05:14,  1.27it/s]"
          ]
        },
        {
          "output_type": "stream",
          "name": "stdout",
          "text": [
            "[WARN] dividends fetch fail: 005810.KS (풍산홀딩스) -> Invalid comparison between dtype=datetime64[ns, Asia/Seoul] and Timestamp\n",
            "[WARN] dividends fetch fail: COR (Cencora) -> Invalid comparison between dtype=datetime64[ns, America/New_York] and Timestamp\n"
          ]
        },
        {
          "output_type": "stream",
          "name": "stderr",
          "text": [
            "\r배당 수집:  19%|█▉        | 93/491 [01:43<04:42,  1.41it/s]"
          ]
        },
        {
          "output_type": "stream",
          "name": "stdout",
          "text": [
            "[WARN] dividends fetch fail: 001270.KS (부국증권) -> Invalid comparison between dtype=datetime64[ns, Asia/Seoul] and Timestamp\n"
          ]
        },
        {
          "output_type": "stream",
          "name": "stderr",
          "text": [
            "\r배당 수집:  19%|█▉        | 94/491 [01:43<04:51,  1.36it/s]"
          ]
        },
        {
          "output_type": "stream",
          "name": "stdout",
          "text": [
            "[WARN] dividends fetch fail: 012200.KS (계양전기) -> Invalid comparison between dtype=datetime64[ns, Asia/Seoul] and Timestamp\n",
            "[WARN] dividends fetch fail: 004710.KS (한솔테크닉스) -> Invalid comparison between dtype=datetime64[ns, Asia/Seoul] and Timestamp\n"
          ]
        },
        {
          "output_type": "stream",
          "name": "stderr",
          "text": [
            "\r배당 수집:  19%|█▉        | 95/491 [01:45<06:12,  1.06it/s]"
          ]
        },
        {
          "output_type": "stream",
          "name": "stdout",
          "text": [
            "[WARN] dividends fetch fail: CF (CF Industries) -> Invalid comparison between dtype=datetime64[ns, America/New_York] and Timestamp\n"
          ]
        },
        {
          "output_type": "stream",
          "name": "stderr",
          "text": [
            "\r배당 수집:  20%|█▉        | 96/491 [01:46<05:36,  1.17it/s]"
          ]
        },
        {
          "output_type": "stream",
          "name": "stdout",
          "text": [
            "[WARN] dividends fetch fail: 008930.KS (한미사이언스) -> Invalid comparison between dtype=datetime64[ns, Asia/Seoul] and Timestamp\n"
          ]
        },
        {
          "output_type": "stream",
          "name": "stderr",
          "text": [
            "\r배당 수집:  20%|█▉        | 97/491 [01:47<07:03,  1.07s/it]"
          ]
        },
        {
          "output_type": "stream",
          "name": "stdout",
          "text": [
            "[WARN] dividends fetch fail: 005490.KS (POSCO홀딩스) -> Invalid comparison between dtype=datetime64[ns, Asia/Seoul] and Timestamp\n",
            "[WARN] dividends fetch fail: 005500.KS (삼진제약) -> Invalid comparison between dtype=datetime64[ns, Asia/Seoul] and Timestamp\n",
            "[WARN] dividends fetch fail: CNP (CenterPoint Energy) -> Invalid comparison between dtype=datetime64[ns, America/New_York] and Timestamp\n",
            "[WARN] dividends fetch fail: 016610.KS (DB증권) -> Invalid comparison between dtype=datetime64[ns, Asia/Seoul] and Timestamp\n"
          ]
        },
        {
          "output_type": "stream",
          "name": "stderr",
          "text": [
            "\r배당 수집:  20%|█▉        | 98/491 [01:48<05:45,  1.14it/s]"
          ]
        },
        {
          "output_type": "stream",
          "name": "stdout",
          "text": [
            "[WARN] dividends fetch fail: 005690.KS (파미셀) -> Invalid comparison between dtype=datetime64[ns, Asia/Seoul] and Timestamp\n",
            "[WARN] dividends fetch fail: SCHW (Charles Schwab Corporation) -> Invalid comparison between dtype=datetime64[ns, America/New_York] and Timestamp\n",
            "[WARN] dividends fetch fail: 006340.KS (대원전선) -> Invalid comparison between dtype=datetime64[ns, Asia/Seoul] and Timestamp\n",
            "[WARN] dividends fetch fail: 001230.KS (동국홀딩스) -> Invalid comparison between dtype=datetime64[ns, Asia/Seoul] and Timestamp\n",
            "[WARN] dividends fetch fail: 005950.KS (이수화학) -> Invalid comparison between dtype=datetime64[ns, Asia/Seoul] and Timestamp\n"
          ]
        },
        {
          "output_type": "stream",
          "name": "stderr",
          "text": [
            "\r배당 수집:  20%|██        | 99/491 [01:50<08:40,  1.33s/it]"
          ]
        },
        {
          "output_type": "stream",
          "name": "stdout",
          "text": [
            "[WARN] dividends fetch fail: CVX (Chevron Corporation) -> Invalid comparison between dtype=datetime64[ns, America/New_York] and Timestamp\n",
            "[WARN] dividends fetch fail: CB (Chubb Limited) -> Invalid comparison between dtype=datetime64[ns, America/New_York] and Timestamp\n",
            "[WARN] dividends fetch fail: 011780.KS (금호석유화학) -> Invalid comparison between dtype=datetime64[ns, Asia/Seoul] and Timestamp\n",
            "[WARN] dividends fetch fail: 016360.KS (삼성증권) -> Invalid comparison between dtype=datetime64[ns, Asia/Seoul] and Timestamp\n",
            "[WARN] dividends fetch fail: 001750.KS (한양증권) -> Invalid comparison between dtype=datetime64[ns, Asia/Seoul] and Timestamp\n"
          ]
        },
        {
          "output_type": "stream",
          "name": "stderr",
          "text": [
            "\r배당 수집:  21%|██        | 101/491 [01:52<08:08,  1.25s/it]"
          ]
        },
        {
          "output_type": "stream",
          "name": "stdout",
          "text": [
            "[WARN] dividends fetch fail: 002810.KS (삼영무역) -> Invalid comparison between dtype=datetime64[ns, Asia/Seoul] and Timestamp\n",
            "[WARN] dividends fetch fail: 002620.KS (제일파마홀딩스) -> Invalid comparison between dtype=datetime64[ns, Asia/Seoul] and Timestamp\n",
            "[WARN] dividends fetch fail: 003470.KS (유안타증권) -> Invalid comparison between dtype=datetime64[ns, Asia/Seoul] and Timestamp\n",
            "[WARN] dividends fetch fail: CHD (Church & Dwight) -> Invalid comparison between dtype=datetime64[ns, America/New_York] and Timestamp\n"
          ]
        },
        {
          "output_type": "stream",
          "name": "stderr",
          "text": [
            "\r배당 수집:  21%|██        | 102/491 [01:53<07:00,  1.08s/it]"
          ]
        },
        {
          "output_type": "stream",
          "name": "stdout",
          "text": [
            "[WARN] dividends fetch fail: CI (Cigna) -> Invalid comparison between dtype=datetime64[ns, America/New_York] and Timestamp\n",
            "[WARN] dividends fetch fail: 009460.KS (한창제지) -> Invalid comparison between dtype=datetime64[ns, Asia/Seoul] and Timestamp\n",
            "[WARN] dividends fetch fail: 005720.KS (넥센) -> Invalid comparison between dtype=datetime64[ns, Asia/Seoul] and Timestamp\n"
          ]
        },
        {
          "output_type": "stream",
          "name": "stderr",
          "text": [
            "\r배당 수집:  21%|██        | 103/491 [01:56<10:25,  1.61s/it]"
          ]
        },
        {
          "output_type": "stream",
          "name": "stdout",
          "text": [
            "[WARN] dividends fetch fail: CTAS (Cintas) -> Invalid comparison between dtype=datetime64[ns, America/New_York] and Timestamp\n",
            "[WARN] dividends fetch fail: 004490.KS (세방전지) -> Invalid comparison between dtype=datetime64[ns, Asia/Seoul] and Timestamp\n",
            "[WARN] dividends fetch fail: 006660.KS (삼성공조) -> Invalid comparison between dtype=datetime64[ns, Asia/Seoul] and Timestamp\n",
            "[WARN] dividends fetch fail: 009310.KS (참엔지니어링) -> Invalid comparison between dtype=datetime64[ns, Asia/Seoul] and Timestamp\n"
          ]
        },
        {
          "output_type": "stream",
          "name": "stderr",
          "text": [
            "\r배당 수집:  21%|██        | 104/491 [01:57<08:50,  1.37s/it]"
          ]
        },
        {
          "output_type": "stream",
          "name": "stdout",
          "text": [
            "[WARN] dividends fetch fail: CINF (Cincinnati Financial) -> Invalid comparison between dtype=datetime64[ns, America/New_York] and Timestamp\n",
            "[WARN] dividends fetch fail: 004830.KS (덕성) -> Invalid comparison between dtype=datetime64[ns, Asia/Seoul] and Timestamp\n",
            "[WARN] dividends fetch fail: 010100.KS (한국무브넥스) -> Invalid comparison between dtype=datetime64[ns, Asia/Seoul] and Timestamp\n"
          ]
        },
        {
          "output_type": "stream",
          "name": "stderr",
          "text": [
            "\r배당 수집:  21%|██▏       | 105/491 [01:57<07:34,  1.18s/it]"
          ]
        },
        {
          "output_type": "stream",
          "name": "stdout",
          "text": [
            "[WARN] dividends fetch fail: CSCO (Cisco) -> Invalid comparison between dtype=datetime64[ns, America/New_York] and Timestamp\n",
            "[WARN] dividends fetch fail: 001720.KS (신영증권) -> Invalid comparison between dtype=datetime64[ns, Asia/Seoul] and Timestamp\n"
          ]
        },
        {
          "output_type": "stream",
          "name": "stderr",
          "text": [
            "\r배당 수집:  22%|██▏       | 106/491 [01:59<07:31,  1.17s/it]"
          ]
        },
        {
          "output_type": "stream",
          "name": "stdout",
          "text": [
            "[WARN] dividends fetch fail: 001200.KS (유진증권) -> Invalid comparison between dtype=datetime64[ns, Asia/Seoul] and Timestamp\n",
            "[WARN] dividends fetch fail: 003460.KS (유화증권) -> Invalid comparison between dtype=datetime64[ns, Asia/Seoul] and Timestamp\n",
            "[WARN] dividends fetch fail: C (Citigroup) -> Invalid comparison between dtype=datetime64[ns, America/New_York] and Timestamp\n"
          ]
        },
        {
          "output_type": "stream",
          "name": "stderr",
          "text": [
            "\r배당 수집:  22%|██▏       | 107/491 [02:00<08:20,  1.30s/it]"
          ]
        },
        {
          "output_type": "stream",
          "name": "stdout",
          "text": [
            "[WARN] dividends fetch fail: CFG (Citizens Financial Group) -> Invalid comparison between dtype=datetime64[ns, America/New_York] and Timestamp\n",
            "[WARN] dividends fetch fail: 011700.KS (한신기계공업) -> Invalid comparison between dtype=datetime64[ns, Asia/Seoul] and Timestamp\n",
            "[WARN] dividends fetch fail: 000500.KS (가온전선) -> Invalid comparison between dtype=datetime64[ns, Asia/Seoul] and Timestamp\n",
            "[WARN] dividends fetch fail: 010950.KS (S-Oil) -> Invalid comparison between dtype=datetime64[ns, Asia/Seoul] and Timestamp\n",
            "[WARN] dividends fetch fail: 012450.KS (한화에어로스페이스) -> Invalid comparison between dtype=datetime64[ns, Asia/Seoul] and Timestamp\n",
            "[WARN] dividends fetch fail: 004020.KS (현대제철) -> Invalid comparison between dtype=datetime64[ns, Asia/Seoul] and Timestamp\n"
          ]
        },
        {
          "output_type": "stream",
          "name": "stderr",
          "text": [
            "\r배당 수집:  22%|██▏       | 108/491 [02:02<09:17,  1.46s/it]"
          ]
        },
        {
          "output_type": "stream",
          "name": "stdout",
          "text": [
            "[WARN] dividends fetch fail: 004770.KS (써니전자) -> Invalid comparison between dtype=datetime64[ns, Asia/Seoul] and Timestamp\n",
            "[WARN] dividends fetch fail: 006090.KS (사조오양) -> Invalid comparison between dtype=datetime64[ns, Asia/Seoul] and Timestamp\n",
            "[WARN] dividends fetch fail: CME (CME Group) -> Invalid comparison between dtype=datetime64[ns, America/New_York] and Timestamp\n",
            "[WARN] dividends fetch fail: 004560.KS (현대비앤지스틸) -> Invalid comparison between dtype=datetime64[ns, Asia/Seoul] and Timestamp\n"
          ]
        },
        {
          "output_type": "stream",
          "name": "stderr",
          "text": [
            "\r배당 수집:  22%|██▏       | 109/491 [02:03<07:42,  1.21s/it]"
          ]
        },
        {
          "output_type": "stream",
          "name": "stdout",
          "text": [
            "[WARN] dividends fetch fail: CLX (Clorox) -> Invalid comparison between dtype=datetime64[ns, America/New_York] and Timestamp\n"
          ]
        },
        {
          "output_type": "stream",
          "name": "stderr",
          "text": [
            "배당 수집:  23%|██▎       | 111/491 [02:03<04:36,  1.37it/s]"
          ]
        },
        {
          "output_type": "stream",
          "name": "stdout",
          "text": [
            "[WARN] dividends fetch fail: CMS (CMS Energy) -> Invalid comparison between dtype=datetime64[ns, America/New_York] and Timestamp\n",
            "[WARN] dividends fetch fail: 009470.KS (삼화전기) -> Invalid comparison between dtype=datetime64[ns, Asia/Seoul] and Timestamp\n",
            "[WARN] dividends fetch fail: 003530.KS (한화투자증권) -> Invalid comparison between dtype=datetime64[ns, Asia/Seoul] and Timestamp\n",
            "[WARN] dividends fetch fail: 001510.KS (SK증권) -> Invalid comparison between dtype=datetime64[ns, Asia/Seoul] and Timestamp\n"
          ]
        },
        {
          "output_type": "stream",
          "name": "stderr",
          "text": [
            "\r배당 수집:  23%|██▎       | 112/491 [02:06<07:54,  1.25s/it]"
          ]
        },
        {
          "output_type": "stream",
          "name": "stdout",
          "text": [
            "[WARN] dividends fetch fail: KO (Coca-Cola Company (The)) -> Invalid comparison between dtype=datetime64[ns, America/New_York] and Timestamp\n",
            "[WARN] dividends fetch fail: 010770.KS (평화홀딩스) -> Invalid comparison between dtype=datetime64[ns, Asia/Seoul] and Timestamp\n",
            "[WARN] dividends fetch fail: 016380.KS (KG스틸) -> Invalid comparison between dtype=datetime64[ns, Asia/Seoul] and Timestamp\n",
            "[WARN] dividends fetch fail: 010780.KS (아이에스동서) -> Invalid comparison between dtype=datetime64[ns, Asia/Seoul] and Timestamp\n"
          ]
        },
        {
          "output_type": "stream",
          "name": "stderr",
          "text": [
            "\r배당 수집:  23%|██▎       | 113/491 [02:07<07:19,  1.16s/it]"
          ]
        },
        {
          "output_type": "stream",
          "name": "stdout",
          "text": [
            "[WARN] dividends fetch fail: CTSH (Cognizant) -> Invalid comparison between dtype=datetime64[ns, America/New_York] and Timestamp\n",
            "[WARN] dividends fetch fail: 003830.KS (대한화섬) -> Invalid comparison between dtype=datetime64[ns, Asia/Seoul] and Timestamp\n",
            "[WARN] dividends fetch fail: 002360.KS (SH에너지화학) -> Invalid comparison between dtype=datetime64[ns, Asia/Seoul] and Timestamp\n",
            "[WARN] dividends fetch fail: 007810.KS (코리아써키트) -> Invalid comparison between dtype=datetime64[ns, Asia/Seoul] and Timestamp\n",
            "[WARN] dividends fetch fail: CL (Colgate-Palmolive) -> Invalid comparison between dtype=datetime64[ns, America/New_York] and Timestamp\n"
          ]
        },
        {
          "output_type": "stream",
          "name": "stderr",
          "text": [
            "\r배당 수집:  23%|██▎       | 114/491 [02:08<08:17,  1.32s/it]"
          ]
        },
        {
          "output_type": "stream",
          "name": "stdout",
          "text": [
            "[WARN] dividends fetch fail: 010060.KS (OCI홀딩스) -> Invalid comparison between dtype=datetime64[ns, Asia/Seoul] and Timestamp\n",
            "[WARN] dividends fetch fail: CMCSA (Comcast) -> Invalid comparison between dtype=datetime64[ns, America/New_York] and Timestamp\n"
          ]
        },
        {
          "output_type": "stream",
          "name": "stderr",
          "text": [
            "\r배당 수집:  23%|██▎       | 115/491 [02:10<08:30,  1.36s/it]"
          ]
        },
        {
          "output_type": "stream",
          "name": "stdout",
          "text": [
            "[WARN] dividends fetch fail: 004170.KS (신세계) -> Invalid comparison between dtype=datetime64[ns, Asia/Seoul] and Timestamp\n",
            "[WARN] dividends fetch fail: 000520.KS (삼일제약) -> Invalid comparison between dtype=datetime64[ns, Asia/Seoul] and Timestamp\n",
            "[WARN] dividends fetch fail: 003120.KS (일성아이에스) -> Invalid comparison between dtype=datetime64[ns, Asia/Seoul] and Timestamp\n"
          ]
        },
        {
          "output_type": "stream",
          "name": "stderr",
          "text": [
            "\r배당 수집:  24%|██▎       | 116/491 [02:12<10:39,  1.70s/it]"
          ]
        },
        {
          "output_type": "stream",
          "name": "stdout",
          "text": [
            "[WARN] dividends fetch fail: CAG (Conagra Brands) -> Invalid comparison between dtype=datetime64[ns, America/New_York] and Timestamp\n",
            "[WARN] dividends fetch fail: 002710.KS (TCC스틸) -> Invalid comparison between dtype=datetime64[ns, Asia/Seoul] and Timestamp\n",
            "[WARN] dividends fetch fail: 000720.KS (현대건설) -> Invalid comparison between dtype=datetime64[ns, Asia/Seoul] and Timestamp\n"
          ]
        },
        {
          "output_type": "stream",
          "name": "stderr",
          "text": [
            "\r배당 수집:  24%|██▍       | 117/491 [02:13<08:00,  1.29s/it]"
          ]
        },
        {
          "output_type": "stream",
          "name": "stdout",
          "text": [
            "[WARN] dividends fetch fail: COP (ConocoPhillips) -> Invalid comparison between dtype=datetime64[ns, America/New_York] and Timestamp\n",
            "[WARN] dividends fetch fail: 008700.KS (아남전자) -> Invalid comparison between dtype=datetime64[ns, Asia/Seoul] and Timestamp\n",
            "[WARN] dividends fetch fail: 007700.KS (F&F 홀딩스) -> Invalid comparison between dtype=datetime64[ns, Asia/Seoul] and Timestamp\n",
            "[WARN] dividends fetch fail: 010620.KS (HD현대미포) -> Invalid comparison between dtype=datetime64[ns, Asia/Seoul] and Timestamp\n",
            "[WARN] dividends fetch fail: 006360.KS (GS건설) -> Invalid comparison between dtype=datetime64[ns, Asia/Seoul] and Timestamp\n"
          ]
        },
        {
          "output_type": "stream",
          "name": "stderr",
          "text": [
            "\r배당 수집:  24%|██▍       | 118/491 [02:14<08:06,  1.30s/it]"
          ]
        },
        {
          "output_type": "stream",
          "name": "stdout",
          "text": [
            "[WARN] dividends fetch fail: STZ (Constellation Brands) -> Invalid comparison between dtype=datetime64[ns, America/New_York] and Timestamp\n"
          ]
        },
        {
          "output_type": "stream",
          "name": "stderr",
          "text": [
            "배당 수집:  25%|██▍       | 121/491 [02:15<04:31,  1.36it/s]"
          ]
        },
        {
          "output_type": "stream",
          "name": "stdout",
          "text": [
            "[WARN] dividends fetch fail: CEG (Constellation Energy) -> Invalid comparison between dtype=datetime64[ns, America/New_York] and Timestamp\n",
            "[WARN] dividends fetch fail: ED (Consolidated Edison) -> Invalid comparison between dtype=datetime64[ns, America/New_York] and Timestamp\n"
          ]
        },
        {
          "output_type": "stream",
          "name": "stderr",
          "text": [
            "\r배당 수집:  25%|██▍       | 122/491 [02:16<04:21,  1.41it/s]"
          ]
        },
        {
          "output_type": "stream",
          "name": "stdout",
          "text": [
            "[WARN] dividends fetch fail: 006200.KS (한국전자홀딩스) -> Invalid comparison between dtype=datetime64[ns, Asia/Seoul] and Timestamp\n"
          ]
        },
        {
          "output_type": "stream",
          "name": "stderr",
          "text": [
            "\r배당 수집:  25%|██▌       | 123/491 [02:17<04:13,  1.45it/s]"
          ]
        },
        {
          "output_type": "stream",
          "name": "stdout",
          "text": [
            "[WARN] dividends fetch fail: 006400.KS (삼성SDI) -> Invalid comparison between dtype=datetime64[ns, Asia/Seoul] and Timestamp\n",
            "[WARN] dividends fetch fail: 009150.KS (삼성전기) -> Invalid comparison between dtype=datetime64[ns, Asia/Seoul] and Timestamp\n",
            "[WARN] dividends fetch fail: 006110.KS (삼아알미늄) -> Invalid comparison between dtype=datetime64[ns, Asia/Seoul] and Timestamp\n"
          ]
        },
        {
          "output_type": "stream",
          "name": "stderr",
          "text": [
            "\r배당 수집:  25%|██▌       | 124/491 [02:18<05:04,  1.21it/s]"
          ]
        },
        {
          "output_type": "stream",
          "name": "stdout",
          "text": [
            "[WARN] dividends fetch fail: COO (Cooper Companies (The)) -> Invalid comparison between dtype=datetime64[ns, America/New_York] and Timestamp\n",
            "[WARN] dividends fetch fail: 009070.KS (케이씨티시) -> Invalid comparison between dtype=datetime64[ns, Asia/Seoul] and Timestamp\n",
            "[WARN] dividends fetch fail: 005960.KS (동부건설) -> Invalid comparison between dtype=datetime64[ns, Asia/Seoul] and Timestamp\n"
          ]
        },
        {
          "output_type": "stream",
          "name": "stderr",
          "text": [
            "\r배당 수집:  25%|██▌       | 125/491 [02:18<04:30,  1.35it/s]"
          ]
        },
        {
          "output_type": "stream",
          "name": "stdout",
          "text": [
            "[WARN] dividends fetch fail: 005180.KS (빙그레) -> Invalid comparison between dtype=datetime64[ns, Asia/Seoul] and Timestamp\n",
            "[WARN] dividends fetch fail: CTVA (Corteva) -> Invalid comparison between dtype=datetime64[ns, America/New_York] and Timestamp\n",
            "[WARN] dividends fetch fail: 003070.KS (코오롱글로벌) -> Invalid comparison between dtype=datetime64[ns, Asia/Seoul] and Timestamp\n"
          ]
        },
        {
          "output_type": "stream",
          "name": "stderr",
          "text": [
            "배당 수집:  26%|██▌       | 127/491 [02:20<04:51,  1.25it/s]"
          ]
        },
        {
          "output_type": "stream",
          "name": "stdout",
          "text": [
            "[WARN] dividends fetch fail: GLW (Corning Inc.) -> Invalid comparison between dtype=datetime64[ns, America/New_York] and Timestamp\n",
            "[WARN] dividends fetch fail: 005250.KS (녹십자홀딩스) -> Invalid comparison between dtype=datetime64[ns, Asia/Seoul] and Timestamp\n",
            "[WARN] dividends fetch fail: 004310.KS (현대약품) -> Invalid comparison between dtype=datetime64[ns, Asia/Seoul] and Timestamp\n",
            "[WARN] dividends fetch fail: 000480.KS (시알홀딩스) -> Invalid comparison between dtype=datetime64[ns, Asia/Seoul] and Timestamp\n",
            "[WARN] dividends fetch fail: 008350.KS (남선알미늄) -> Invalid comparison between dtype=datetime64[ns, Asia/Seoul] and Timestamp\n"
          ]
        },
        {
          "output_type": "stream",
          "name": "stderr",
          "text": [
            "\r배당 수집:  26%|██▌       | 128/491 [02:22<07:08,  1.18s/it]"
          ]
        },
        {
          "output_type": "stream",
          "name": "stdout",
          "text": [
            "[WARN] dividends fetch fail: COST (Costco) -> Invalid comparison between dtype=datetime64[ns, America/New_York] and Timestamp\n",
            "[WARN] dividends fetch fail: 006260.KS (LS) -> Invalid comparison between dtype=datetime64[ns, Asia/Seoul] and Timestamp\n",
            "[WARN] dividends fetch fail: 003350.KS (한국화장품제조) -> Invalid comparison between dtype=datetime64[ns, Asia/Seoul] and Timestamp\n",
            "[WARN] dividends fetch fail: 011760.KS (현대코퍼레이션) -> Invalid comparison between dtype=datetime64[ns, Asia/Seoul] and Timestamp\n",
            "[WARN] dividends fetch fail: 003920.KS (남양유업) -> Invalid comparison between dtype=datetime64[ns, Asia/Seoul] and Timestamp\n"
          ]
        },
        {
          "output_type": "stream",
          "name": "stderr",
          "text": [
            "배당 수집:  26%|██▋       | 130/491 [02:24<06:11,  1.03s/it]"
          ]
        },
        {
          "output_type": "stream",
          "name": "stdout",
          "text": [
            "[WARN] dividends fetch fail: CCI (Crown Castle) -> Invalid comparison between dtype=datetime64[ns, America/New_York] and Timestamp\n",
            "[WARN] dividends fetch fail: CTRA (Coterra) -> Invalid comparison between dtype=datetime64[ns, America/New_York] and Timestamp\n",
            "[WARN] dividends fetch fail: 001740.KS (SK네트웍스) -> Invalid comparison between dtype=datetime64[ns, Asia/Seoul] and Timestamp\n",
            "[WARN] dividends fetch fail: 007590.KS (동방아그로) -> Invalid comparison between dtype=datetime64[ns, Asia/Seoul] and Timestamp\n"
          ]
        },
        {
          "output_type": "stream",
          "name": "stderr",
          "text": [
            "\r배당 수집:  27%|██▋       | 131/491 [02:26<07:19,  1.22s/it]"
          ]
        },
        {
          "output_type": "stream",
          "name": "stdout",
          "text": [
            "[WARN] dividends fetch fail: CSX (CSX Corporation) -> Invalid comparison between dtype=datetime64[ns, America/New_York] and Timestamp[WARN] dividends fetch fail: 002100.KS (경농) -> Invalid comparison between dtype=datetime64[ns, Asia/Seoul] and Timestamp\n",
            "\n"
          ]
        },
        {
          "output_type": "stream",
          "name": "stderr",
          "text": [
            "\r배당 수집:  27%|██▋       | 132/491 [02:27<07:33,  1.26s/it]"
          ]
        },
        {
          "output_type": "stream",
          "name": "stdout",
          "text": [
            "[WARN] dividends fetch fail: CMI (Cummins) -> Invalid comparison between dtype=datetime64[ns, America/New_York] and Timestamp\n",
            "[WARN] dividends fetch fail: 000650.KS (천일고속) -> Invalid comparison between dtype=datetime64[ns, Asia/Seoul] and Timestamp\n",
            "[WARN] dividends fetch fail: 004090.KS (한국석유공업) -> Invalid comparison between dtype=datetime64[ns, Asia/Seoul] and Timestamp\n",
            "[WARN] dividends fetch fail: 004430.KS (송원산업) -> Invalid comparison between dtype=datetime64[ns, Asia/Seoul] and Timestamp\n",
            "[WARN] dividends fetch fail: 000430.KS (대원강업) -> Invalid comparison between dtype=datetime64[ns, Asia/Seoul] and Timestamp\n",
            "[WARN] dividends fetch fail: 001080.KS (만호제강) -> Invalid comparison between dtype=datetime64[ns, Asia/Seoul] and Timestamp\n"
          ]
        },
        {
          "output_type": "stream",
          "name": "stderr",
          "text": [
            "배당 수집:  27%|██▋       | 135/491 [02:29<05:07,  1.16it/s]"
          ]
        },
        {
          "output_type": "stream",
          "name": "stdout",
          "text": [
            "[WARN] dividends fetch fail: 004700.KS (조광피혁) -> Invalid comparison between dtype=datetime64[ns, Asia/Seoul] and Timestamp\n"
          ]
        },
        {
          "output_type": "stream",
          "name": "stderr",
          "text": [
            "\r배당 수집:  28%|██▊       | 136/491 [02:30<05:02,  1.17it/s]"
          ]
        },
        {
          "output_type": "stream",
          "name": "stdout",
          "text": [
            "[WARN] dividends fetch fail: 004360.KS (세방) -> Invalid comparison between dtype=datetime64[ns, Asia/Seoul] and Timestamp\n",
            "[WARN] dividends fetch fail: CVS (CVS Health) -> Invalid comparison between dtype=datetime64[ns, America/New_York] and Timestamp\n"
          ]
        },
        {
          "output_type": "stream",
          "name": "stderr",
          "text": [
            "\r배당 수집:  28%|██▊       | 138/491 [02:30<02:52,  2.05it/s]"
          ]
        },
        {
          "output_type": "stream",
          "name": "stdout",
          "text": [
            "[WARN] dividends fetch fail: DHR (Danaher Corporation) -> Invalid comparison between dtype=datetime64[ns, America/New_York] and Timestamp\n"
          ]
        },
        {
          "output_type": "stream",
          "name": "stderr",
          "text": [
            "\r배당 수집:  28%|██▊       | 139/491 [02:30<02:26,  2.40it/s]"
          ]
        },
        {
          "output_type": "stream",
          "name": "stdout",
          "text": [
            "[WARN] dividends fetch fail: DRI (Darden Restaurants) -> Invalid comparison between dtype=datetime64[ns, America/New_York] and Timestamp\n",
            "[WARN] dividends fetch fail: 005680.KS (삼영전자공업) -> Invalid comparison between dtype=datetime64[ns, Asia/Seoul] and Timestamp\n",
            "[WARN] dividends fetch fail: 005800.KS (신영와코루) -> Invalid comparison between dtype=datetime64[ns, Asia/Seoul] and Timestamp\n",
            "[WARN] dividends fetch fail: 002880.KS (대유에이텍) -> Invalid comparison between dtype=datetime64[ns, Asia/Seoul] and Timestamp\n",
            "[WARN] dividends fetch fail: 005430.KS (한국공항) -> Invalid comparison between dtype=datetime64[ns, Asia/Seoul] and Timestamp\n",
            "[WARN] dividends fetch fail: 003080.KS (SB성보) -> Invalid comparison between dtype=datetime64[ns, Asia/Seoul] and Timestamp\n",
            "[WARN] dividends fetch fail: 004910.KS (조광페인트) -> Invalid comparison between dtype=datetime64[ns, Asia/Seoul] and Timestamp\n"
          ]
        },
        {
          "output_type": "stream",
          "name": "stderr",
          "text": [
            "\r배당 수집:  29%|██▊       | 140/491 [02:34<07:08,  1.22s/it]"
          ]
        },
        {
          "output_type": "stream",
          "name": "stdout",
          "text": [
            "[WARN] dividends fetch fail: DELL (Dell Technologies) -> Invalid comparison between dtype=datetime64[ns, America/New_York] and Timestamp\n"
          ]
        },
        {
          "output_type": "stream",
          "name": "stderr",
          "text": [
            "\r배당 수집:  29%|██▊       | 141/491 [02:34<06:10,  1.06s/it]"
          ]
        },
        {
          "output_type": "stream",
          "name": "stdout",
          "text": [
            "[WARN] dividends fetch fail: 004690.KS (삼천리) -> Invalid comparison between dtype=datetime64[ns, Asia/Seoul] and Timestamp\n",
            "[WARN] dividends fetch fail: 002600.KS (조흥) -> Invalid comparison between dtype=datetime64[ns, Asia/Seoul] and Timestamp\n",
            "[WARN] dividends fetch fail: DAL (Delta Air Lines) -> Invalid comparison between dtype=datetime64[ns, America/New_York] and Timestamp\n"
          ]
        },
        {
          "output_type": "stream",
          "name": "stderr",
          "text": [
            "배당 수집:  29%|██▉       | 143/491 [02:35<04:44,  1.23it/s]"
          ]
        },
        {
          "output_type": "stream",
          "name": "stdout",
          "text": [
            "[WARN] dividends fetch fail: DVN (Devon Energy) -> Invalid comparison between dtype=datetime64[ns, America/New_York] and Timestamp\n",
            "[WARN] dividends fetch fail: 001570.KS (금양) -> Invalid comparison between dtype=datetime64[ns, Asia/Seoul] and Timestamp\n",
            "[WARN] dividends fetch fail: 003960.KS (사조대림) -> Invalid comparison between dtype=datetime64[ns, Asia/Seoul] and Timestamp\n",
            "[WARN] dividends fetch fail: 004370.KS (농심) -> Invalid comparison between dtype=datetime64[ns, Asia/Seoul] and Timestamp\n"
          ]
        },
        {
          "output_type": "stream",
          "name": "stderr",
          "text": [
            "\r배당 수집:  29%|██▉       | 144/491 [02:37<05:24,  1.07it/s]"
          ]
        },
        {
          "output_type": "stream",
          "name": "stdout",
          "text": [
            "[WARN] dividends fetch fail: DE (Deere & Company) -> Invalid comparison between dtype=datetime64[ns, America/New_York] and Timestamp\n",
            "[WARN] dividends fetch fail: 003570.KS (SNT다이내믹스) -> Invalid comparison between dtype=datetime64[ns, Asia/Seoul] and Timestamp\n",
            "[WARN] dividends fetch fail: 002070.KS (비비안) -> Invalid comparison between dtype=datetime64[ns, Asia/Seoul] and Timestamp\n",
            "[WARN] dividends fetch fail: 004960.KS (한신공영) -> Invalid comparison between dtype=datetime64[ns, Asia/Seoul] and Timestamp\n"
          ]
        },
        {
          "output_type": "stream",
          "name": "stderr",
          "text": [
            "배당 수집:  30%|██▉       | 146/491 [02:38<04:27,  1.29it/s]"
          ]
        },
        {
          "output_type": "stream",
          "name": "stdout",
          "text": [
            "[WARN] dividends fetch fail: FANG (Diamondback Energy) -> Invalid comparison between dtype=datetime64[ns, America/New_York] and Timestamp\n",
            "[WARN] dividends fetch fail: 004980.KS (성신양회) -> Invalid comparison between dtype=datetime64[ns, Asia/Seoul] and Timestamp\n"
          ]
        },
        {
          "output_type": "stream",
          "name": "stderr",
          "text": [
            "\r배당 수집:  30%|██▉       | 147/491 [02:39<04:44,  1.21it/s]"
          ]
        },
        {
          "output_type": "stream",
          "name": "stdout",
          "text": [
            "[WARN] dividends fetch fail: 003720.KS (삼영) -> Invalid comparison between dtype=datetime64[ns, Asia/Seoul] and Timestamp\n",
            "[WARN] dividends fetch fail: DLR (Digital Realty) -> Invalid comparison between dtype=datetime64[ns, America/New_York] and Timestamp\n"
          ]
        },
        {
          "output_type": "stream",
          "name": "stderr",
          "text": [
            "\r배당 수집:  30%|███       | 148/491 [02:39<03:45,  1.52it/s]"
          ]
        },
        {
          "output_type": "stream",
          "name": "stdout",
          "text": [
            "[WARN] dividends fetch fail: DG (Dollar General) -> Invalid comparison between dtype=datetime64[ns, America/New_York] and Timestamp\n",
            "[WARN] dividends fetch fail: 004970.KS (신라교역) -> Invalid comparison between dtype=datetime64[ns, Asia/Seoul] and Timestamp\n",
            "[WARN] dividends fetch fail: 002870.KS (신풍) -> Invalid comparison between dtype=datetime64[ns, Asia/Seoul] and Timestamp\n",
            "[WARN] dividends fetch fail: 001630.KS (종근당홀딩스) -> Invalid comparison between dtype=datetime64[ns, Asia/Seoul] and Timestamp\n",
            "[WARN] dividends fetch fail: 002390.KS (한독) -> Invalid comparison between dtype=datetime64[ns, Asia/Seoul] and Timestamp\n",
            "[WARN] dividends fetch fail: 005740.KS (크라운해태홀딩스) -> Invalid comparison between dtype=datetime64[ns, Asia/Seoul] and Timestamp\n",
            "[WARN] dividends fetch fail: 006120.KS (SK디스커버리) -> Invalid comparison between dtype=datetime64[ns, Asia/Seoul] and Timestamp\n"
          ]
        },
        {
          "output_type": "stream",
          "name": "stderr",
          "text": [
            "\r배당 수집:  31%|███       | 150/491 [02:42<05:37,  1.01it/s]"
          ]
        },
        {
          "output_type": "stream",
          "name": "stdout",
          "text": [
            "[WARN] dividends fetch fail: DPZ (Domino's) -> Invalid comparison between dtype=datetime64[ns, America/New_York] and Timestamp\n"
          ]
        },
        {
          "output_type": "stream",
          "name": "stderr",
          "text": [
            "\r배당 수집:  31%|███       | 151/491 [02:42<04:58,  1.14it/s]"
          ]
        },
        {
          "output_type": "stream",
          "name": "stdout",
          "text": [
            "[WARN] dividends fetch fail: DOW (Dow Inc.) -> Invalid comparison between dtype=datetime64[ns, America/New_York] and Timestamp\n"
          ]
        },
        {
          "output_type": "stream",
          "name": "stderr",
          "text": [
            "\r배당 수집:  31%|███       | 152/491 [02:43<04:00,  1.41it/s]"
          ]
        },
        {
          "output_type": "stream",
          "name": "stdout",
          "text": [
            "[WARN] dividends fetch fail: D (Dominion Energy) -> Invalid comparison between dtype=datetime64[ns, America/New_York] and Timestamp\n",
            "[WARN] dividends fetch fail: 007540.KS (샘표) -> Invalid comparison between dtype=datetime64[ns, Asia/Seoul] and Timestamp\n",
            "[WARN] dividends fetch fail: 003280.KS (흥아해운) -> Invalid comparison between dtype=datetime64[ns, Asia/Seoul] and Timestamp\n",
            "[WARN] dividends fetch fail: 001250.KS (GS글로벌) -> Invalid comparison between dtype=datetime64[ns, Asia/Seoul] and Timestamp\n"
          ]
        },
        {
          "output_type": "stream",
          "name": "stderr",
          "text": [
            "\r배당 수집:  31%|███       | 153/491 [02:44<05:30,  1.02it/s]"
          ]
        },
        {
          "output_type": "stream",
          "name": "stdout",
          "text": [
            "[WARN] dividends fetch fail: DOV (Dover Corporation) -> Invalid comparison between dtype=datetime64[ns, America/New_York] and Timestamp\n",
            "[WARN] dividends fetch fail: 002990.KS (금호건설) -> Invalid comparison between dtype=datetime64[ns, Asia/Seoul] and Timestamp\n",
            "[WARN] dividends fetch fail: 001820.KS (삼화콘덴서공업) -> Invalid comparison between dtype=datetime64[ns, Asia/Seoul] and Timestamp\n",
            "[WARN] dividends fetch fail: 001470.KS (삼부토건) -> Invalid comparison between dtype=datetime64[ns, Asia/Seoul] and Timestamp\n",
            "[WARN] dividends fetch fail: 001520.KS (동양) -> Invalid comparison between dtype=datetime64[ns, Asia/Seoul] and Timestamp\n",
            "[WARN] dividends fetch fail: 000880.KS (한화) -> Invalid comparison between dtype=datetime64[ns, Asia/Seoul] and Timestamp\n",
            "[WARN] dividends fetch fail: 001060.KS (JW중외제약) -> Invalid comparison between dtype=datetime64[ns, Asia/Seoul] and Timestamp\n"
          ]
        },
        {
          "output_type": "stream",
          "name": "stderr",
          "text": [
            "\r배당 수집:  31%|███▏      | 154/491 [02:47<08:49,  1.57s/it]"
          ]
        },
        {
          "output_type": "stream",
          "name": "stdout",
          "text": [
            "[WARN] dividends fetch fail: DHI (D. R. Horton) -> Invalid comparison between dtype=datetime64[ns, America/New_York] and Timestamp\n",
            "[WARN] dividends fetch fail: 000670.KS (영풍) -> Invalid comparison between dtype=datetime64[ns, Asia/Seoul] and Timestamp\n",
            "[WARN] dividends fetch fail: 001340.KS (PKC) -> Invalid comparison between dtype=datetime64[ns, Asia/Seoul] and Timestamp\n"
          ]
        },
        {
          "output_type": "stream",
          "name": "stderr",
          "text": [
            "\r배당 수집:  32%|███▏      | 155/491 [02:49<08:30,  1.52s/it]"
          ]
        },
        {
          "output_type": "stream",
          "name": "stdout",
          "text": [
            "[WARN] dividends fetch fail: DUK (Duke Energy) -> Invalid comparison between dtype=datetime64[ns, America/New_York] and Timestamp\n",
            "[WARN] dividends fetch fail: 000180.KS (성창기업지주) -> Invalid comparison between dtype=datetime64[ns, Asia/Seoul] and Timestamp\n"
          ]
        },
        {
          "output_type": "stream",
          "name": "stderr",
          "text": [
            "\r배당 수집:  32%|███▏      | 156/491 [02:50<08:02,  1.44s/it]"
          ]
        },
        {
          "output_type": "stream",
          "name": "stdout",
          "text": [
            "[WARN] dividends fetch fail: DTE (DTE Energy) -> Invalid comparison between dtype=datetime64[ns, America/New_York] and Timestamp\n",
            "[WARN] dividends fetch fail: 005110.KS (한창) -> Invalid comparison between dtype=datetime64[ns, Asia/Seoul] and Timestamp\n",
            "[WARN] dividends fetch fail: 004450.KS (삼화왕관) -> Invalid comparison between dtype=datetime64[ns, Asia/Seoul] and Timestamp\n",
            "[WARN] dividends fetch fail: 004100.KS (태양금속공업) -> Invalid comparison between dtype=datetime64[ns, Asia/Seoul] and Timestamp\n",
            "[WARN] dividends fetch fail: 002240.KS (고려제강) -> Invalid comparison between dtype=datetime64[ns, Asia/Seoul] and Timestamp\n"
          ]
        },
        {
          "output_type": "stream",
          "name": "stderr",
          "text": [
            "\r배당 수집:  32%|███▏      | 157/491 [02:52<08:57,  1.61s/it]"
          ]
        },
        {
          "output_type": "stream",
          "name": "stdout",
          "text": [
            "[WARN] dividends fetch fail: DD (DuPont) -> Invalid comparison between dtype=datetime64[ns, America/New_York] and Timestamp\n",
            "[WARN] dividends fetch fail: EMN (Eastman Chemical Company) -> Invalid comparison between dtype=datetime64[ns, America/New_York] and Timestamp\n",
            "[WARN] dividends fetch fail: 002820.KS (SUN&L) -> Invalid comparison between dtype=datetime64[ns, Asia/Seoul] and Timestamp\n",
            "[WARN] dividends fetch fail: 002350.KS (넥센타이어) -> Invalid comparison between dtype=datetime64[ns, Asia/Seoul] and Timestamp\n",
            "[WARN] dividends fetch fail: 004840.KS (DRB동일) -> Invalid comparison between dtype=datetime64[ns, Asia/Seoul] and Timestamp\n"
          ]
        },
        {
          "output_type": "stream",
          "name": "stderr",
          "text": [
            "\r배당 수집:  32%|███▏      | 159/491 [02:54<07:23,  1.34s/it]"
          ]
        },
        {
          "output_type": "stream",
          "name": "stdout",
          "text": [
            "[WARN] dividends fetch fail: ETN (Eaton Corporation) -> Invalid comparison between dtype=datetime64[ns, America/New_York] and Timestamp\n",
            "[WARN] dividends fetch fail: 000020.KS (동화약품) -> Invalid comparison between dtype=datetime64[ns, Asia/Seoul] and Timestamp\n",
            "[WARN] dividends fetch fail: 004000.KS (롯데정밀화학) -> Invalid comparison between dtype=datetime64[ns, Asia/Seoul] and Timestamp\n"
          ]
        },
        {
          "output_type": "stream",
          "name": "stderr",
          "text": [
            "\r배당 수집:  33%|███▎      | 160/491 [02:55<07:08,  1.29s/it]"
          ]
        },
        {
          "output_type": "stream",
          "name": "stdout",
          "text": [
            "[WARN] dividends fetch fail: 000210.KS (DL) -> Invalid comparison between dtype=datetime64[ns, Asia/Seoul] and Timestamp\n",
            "[WARN] dividends fetch fail: EBAY (eBay Inc.) -> Invalid comparison between dtype=datetime64[ns, America/New_York] and Timestamp\n"
          ]
        },
        {
          "output_type": "stream",
          "name": "stderr",
          "text": [
            "\r배당 수집:  33%|███▎      | 161/491 [02:56<05:33,  1.01s/it]"
          ]
        },
        {
          "output_type": "stream",
          "name": "stdout",
          "text": [
            "[WARN] dividends fetch fail: 002720.KS (국제약품) -> Invalid comparison between dtype=datetime64[ns, Asia/Seoul] and Timestamp\n",
            "[WARN] dividends fetch fail: 001120.KS (LX인터내셔널) -> Invalid comparison between dtype=datetime64[ns, Asia/Seoul] and Timestamp\n",
            "[WARN] dividends fetch fail: 003240.KS (태광산업) -> Invalid comparison between dtype=datetime64[ns, Asia/Seoul] and Timestamp\n",
            "[WARN] dividends fetch fail: 006390.KS (한일현대시멘트) -> Invalid comparison between dtype=datetime64[ns, Asia/Seoul] and Timestamp\n",
            "[WARN] dividends fetch fail: 005030.KS (부산주공) -> Invalid comparison between dtype=datetime64[ns, Asia/Seoul] and Timestamp\n"
          ]
        },
        {
          "output_type": "stream",
          "name": "stderr",
          "text": [
            "\r배당 수집:  33%|███▎      | 162/491 [02:59<08:32,  1.56s/it]"
          ]
        },
        {
          "output_type": "stream",
          "name": "stdout",
          "text": [
            "[WARN] dividends fetch fail: EIX (Edison International) -> Invalid comparison between dtype=datetime64[ns, America/New_York] and Timestamp\n",
            "[WARN] dividends fetch fail: ECL (Ecolab) -> Invalid comparison between dtype=datetime64[ns, America/New_York] and Timestamp\n"
          ]
        },
        {
          "output_type": "stream",
          "name": "stderr",
          "text": [
            "\r배당 수집:  33%|███▎      | 164/491 [02:59<05:27,  1.00s/it]"
          ]
        },
        {
          "output_type": "stream",
          "name": "stdout",
          "text": [
            "[WARN] dividends fetch fail: 005390.KS (신성통상) -> Invalid comparison between dtype=datetime64[ns, Asia/Seoul] and Timestamp\n",
            "[WARN] dividends fetch fail: 000990.KS (DB하이텍) -> Invalid comparison between dtype=datetime64[ns, Asia/Seoul] and Timestamp\n",
            "[WARN] dividends fetch fail: 000590.KS (CS홀딩스) -> Invalid comparison between dtype=datetime64[ns, Asia/Seoul] and Timestamp\n"
          ]
        },
        {
          "output_type": "stream",
          "name": "stderr",
          "text": [
            "\r배당 수집:  34%|███▎      | 165/491 [03:00<05:49,  1.07s/it]"
          ]
        },
        {
          "output_type": "stream",
          "name": "stdout",
          "text": [
            "[WARN] dividends fetch fail: ELV (Elevance Health) -> Invalid comparison between dtype=datetime64[ns, America/New_York] and Timestamp\n"
          ]
        },
        {
          "output_type": "stream",
          "name": "stderr",
          "text": [
            "\r배당 수집:  34%|███▍      | 166/491 [03:01<05:03,  1.07it/s]"
          ]
        },
        {
          "output_type": "stream",
          "name": "stdout",
          "text": [
            "[WARN] dividends fetch fail: 006570.KS (대림통상) -> Invalid comparison between dtype=datetime64[ns, Asia/Seoul] and Timestamp\n",
            "[WARN] dividends fetch fail: 000220.KS (유유제약) -> Invalid comparison between dtype=datetime64[ns, Asia/Seoul] and Timestamp\n",
            "[WARN] dividends fetch fail: EA (Electronic Arts) -> Invalid comparison between dtype=datetime64[ns, America/New_York] and Timestamp\n"
          ]
        },
        {
          "output_type": "stream",
          "name": "stderr",
          "text": [
            "\r배당 수집:  34%|███▍      | 167/491 [03:02<04:44,  1.14it/s]"
          ]
        },
        {
          "output_type": "stream",
          "name": "stdout",
          "text": [
            "[WARN] dividends fetch fail: 003540.KS (대신증권) -> Invalid comparison between dtype=datetime64[ns, Asia/Seoul] and Timestamp\n",
            "[WARN] dividends fetch fail: 005940.KS (NH투자증권) -> Invalid comparison between dtype=datetime64[ns, Asia/Seoul] and Timestamp\n",
            "[WARN] dividends fetch fail: 000860.KS (강남제비스코) -> Invalid comparison between dtype=datetime64[ns, Asia/Seoul] and Timestamp\n",
            "[WARN] dividends fetch fail: 006800.KS (미래에셋증권) -> Invalid comparison between dtype=datetime64[ns, Asia/Seoul] and Timestamp\n",
            "[WARN] dividends fetch fail: 002700.KS (신일전자) -> Invalid comparison between dtype=datetime64[ns, Asia/Seoul] and Timestamp\n"
          ]
        },
        {
          "output_type": "stream",
          "name": "stderr",
          "text": [
            "\r배당 수집:  34%|███▍      | 168/491 [03:04<06:20,  1.18s/it]"
          ]
        },
        {
          "output_type": "stream",
          "name": "stdout",
          "text": [
            "[WARN] dividends fetch fail: EMR (Emerson Electric) -> Invalid comparison between dtype=datetime64[ns, America/New_York] and Timestamp\n"
          ]
        },
        {
          "output_type": "stream",
          "name": "stderr",
          "text": [
            "\r배당 수집:  34%|███▍      | 169/491 [03:04<05:48,  1.08s/it]"
          ]
        },
        {
          "output_type": "stream",
          "name": "stdout",
          "text": [
            "[WARN] dividends fetch fail: EOG (EOG Resources) -> Invalid comparison between dtype=datetime64[ns, America/New_York] and Timestamp\n",
            "[WARN] dividends fetch fail: 000810.KS (삼성화재해상보험) -> Invalid comparison between dtype=datetime64[ns, Asia/Seoul] and Timestamp\n"
          ]
        },
        {
          "output_type": "stream",
          "name": "stderr",
          "text": [
            "\r배당 수집:  35%|███▍      | 170/491 [03:05<05:25,  1.01s/it]"
          ]
        },
        {
          "output_type": "stream",
          "name": "stdout",
          "text": [
            "[WARN] dividends fetch fail: 003230.KS (삼양식품) -> Invalid comparison between dtype=datetime64[ns, Asia/Seoul] and Timestamp\n",
            "[WARN] dividends fetch fail: 000370.KS (한화손해보험) -> Invalid comparison between dtype=datetime64[ns, Asia/Seoul] and Timestamp\n",
            "[WARN] dividends fetch fail: ETR (Entergy) -> Invalid comparison between dtype=datetime64[ns, America/New_York] and Timestamp\n",
            "[WARN] dividends fetch fail: 000490.KS (대동) -> Invalid comparison between dtype=datetime64[ns, Asia/Seoul] and Timestamp[WARN] dividends fetch fail: 000230.KS (일동홀딩스) -> Invalid comparison between dtype=datetime64[ns, Asia/Seoul] and Timestamp\n",
            "[WARN] dividends fetch fail: 008260.KS (NI스틸) -> Invalid comparison between dtype=datetime64[ns, Asia/Seoul] and Timestamp\n",
            "\n"
          ]
        },
        {
          "output_type": "stream",
          "name": "stderr",
          "text": [
            "\r배당 수집:  35%|███▍      | 171/491 [03:08<07:25,  1.39s/it]"
          ]
        },
        {
          "output_type": "stream",
          "name": "stdout",
          "text": [
            "[WARN] dividends fetch fail: EQT (EQT Corporation) -> Invalid comparison between dtype=datetime64[ns, America/New_York] and Timestamp\n",
            "[WARN] dividends fetch fail: 004540.KS (깨끗한나라) -> Invalid comparison between dtype=datetime64[ns, Asia/Seoul] and Timestamp\n",
            "[WARN] dividends fetch fail: 001800.KS (오리온홀딩스) -> Invalid comparison between dtype=datetime64[ns, Asia/Seoul] and Timestamp\n"
          ]
        },
        {
          "output_type": "stream",
          "name": "stderr",
          "text": [
            "\r배당 수집:  35%|███▌      | 172/491 [03:09<07:02,  1.33s/it]"
          ]
        },
        {
          "output_type": "stream",
          "name": "stdout",
          "text": [
            "[WARN] dividends fetch fail: EQIX (Equinix) -> Invalid comparison between dtype=datetime64[ns, America/New_York] and Timestamp\n",
            "[WARN] dividends fetch fail: EFX (Equifax) -> Invalid comparison between dtype=datetime64[ns, America/New_York] and Timestamp\n",
            "[WARN] dividends fetch fail: 001420.KS (태원물산) -> Invalid comparison between dtype=datetime64[ns, Asia/Seoul] and Timestamp\n",
            "[WARN] dividends fetch fail: 002020.KS (코오롱) -> Invalid comparison between dtype=datetime64[ns, Asia/Seoul] and Timestamp\n",
            "[WARN] dividends fetch fail: 005930.KS (삼성전자) -> Invalid comparison between dtype=datetime64[ns, Asia/Seoul] and Timestamp\n"
          ]
        },
        {
          "output_type": "stream",
          "name": "stderr",
          "text": [
            "\r배당 수집:  35%|███▌      | 174/491 [03:11<05:59,  1.13s/it]"
          ]
        },
        {
          "output_type": "stream",
          "name": "stdout",
          "text": [
            "[WARN] dividends fetch fail: EQR (Equity Residential) -> Invalid comparison between dtype=datetime64[ns, America/New_York] and Timestamp\n",
            "[WARN] dividends fetch fail: 001460.KS (BYC) -> Invalid comparison between dtype=datetime64[ns, Asia/Seoul] and Timestamp\n",
            "[WARN] dividends fetch fail: 000300.KS (DH오토넥스) -> Invalid comparison between dtype=datetime64[ns, Asia/Seoul] and Timestamp\n",
            "[WARN] dividends fetch fail: 007570.KS (일양약품) -> Invalid comparison between dtype=datetime64[ns, Asia/Seoul] and Timestamp\n",
            "[WARN] dividends fetch fail: 000540.KS (흥국화재) -> Invalid comparison between dtype=datetime64[ns, Asia/Seoul] and Timestamp\n"
          ]
        },
        {
          "output_type": "stream",
          "name": "stderr",
          "text": [
            "\r배당 수집:  36%|███▌      | 175/491 [03:13<07:32,  1.43s/it]"
          ]
        },
        {
          "output_type": "stream",
          "name": "stdout",
          "text": [
            "[WARN] dividends fetch fail: ERIE (Erie Indemnity) -> Invalid comparison between dtype=datetime64[ns, America/New_York] and Timestamp\n",
            "[WARN] dividends fetch fail: 005610.KS (SPC삼립) -> Invalid comparison between dtype=datetime64[ns, Asia/Seoul] and Timestamp\n"
          ]
        },
        {
          "output_type": "stream",
          "name": "stderr",
          "text": [
            "배당 수집:  36%|███▌      | 177/491 [03:13<04:33,  1.15it/s]"
          ]
        },
        {
          "output_type": "stream",
          "name": "stdout",
          "text": [
            "[WARN] dividends fetch fail: ESS (Essex Property Trust) -> Invalid comparison between dtype=datetime64[ns, America/New_York] and Timestamp\n",
            "[WARN] dividends fetch fail: EL (Estée Lauder Companies (The)) -> Invalid comparison between dtype=datetime64[ns, America/New_York] and Timestamp\n",
            "[WARN] dividends fetch fail: 002200.KS (한국수출포장공업) -> Invalid comparison between dtype=datetime64[ns, Asia/Seoul] and Timestamp\n",
            "[WARN] dividends fetch fail: 002320.KS (한진) -> Invalid comparison between dtype=datetime64[ns, Asia/Seoul] and Timestamp\n",
            "[WARN] dividends fetch fail: 005380.KS (현대자동차) -> Invalid comparison between dtype=datetime64[ns, Asia/Seoul] and Timestamp\n"
          ]
        },
        {
          "output_type": "stream",
          "name": "stderr",
          "text": [
            "\r배당 수집:  36%|███▋      | 178/491 [03:15<05:34,  1.07s/it]"
          ]
        },
        {
          "output_type": "stream",
          "name": "stdout",
          "text": [
            "[WARN] dividends fetch fail: EG (Everest Group) -> Invalid comparison between dtype=datetime64[ns, America/New_York] and Timestamp\n",
            "[WARN] dividends fetch fail: 005360.KS (모나미) -> Invalid comparison between dtype=datetime64[ns, Asia/Seoul] and Timestamp\n",
            "[WARN] dividends fetch fail: 009830.KS (한화솔루션) -> Invalid comparison between dtype=datetime64[ns, Asia/Seoul] and Timestamp\n",
            "[WARN] dividends fetch fail: 006380.KS (카프로) -> Invalid comparison between dtype=datetime64[ns, Asia/Seoul] and Timestamp\n",
            "[WARN] dividends fetch fail: 002030.KS (아세아) -> Invalid comparison between dtype=datetime64[ns, Asia/Seoul] and Timestamp\n",
            "[WARN] dividends fetch fail: 004990.KS (롯데지주) -> Invalid comparison between dtype=datetime64[ns, Asia/Seoul] and Timestamp\n",
            "[WARN] dividends fetch fail: 001070.KS (대한방직) -> Invalid comparison between dtype=datetime64[ns, Asia/Seoul] and Timestamp\n"
          ]
        },
        {
          "output_type": "stream",
          "name": "stderr",
          "text": [
            "배당 수집:  37%|███▋      | 180/491 [03:18<05:42,  1.10s/it]"
          ]
        },
        {
          "output_type": "stream",
          "name": "stdout",
          "text": [
            "[WARN] dividends fetch fail: EVRG (Evergy) -> Invalid comparison between dtype=datetime64[ns, America/New_York] and Timestamp\n",
            "[WARN] dividends fetch fail: ES (Eversource Energy) -> Invalid comparison between dtype=datetime64[ns, America/New_York] and Timestamp\n"
          ]
        },
        {
          "output_type": "stream",
          "name": "stderr",
          "text": [
            "\r배당 수집:  37%|███▋      | 181/491 [03:18<04:16,  1.21it/s]"
          ]
        },
        {
          "output_type": "stream",
          "name": "stdout",
          "text": [
            "[WARN] dividends fetch fail: EXE (Expand Energy) -> Invalid comparison between dtype=datetime64[ns, America/New_York] and Timestamp\n"
          ]
        },
        {
          "output_type": "stream",
          "name": "stderr",
          "text": [
            "\r배당 수집:  37%|███▋      | 182/491 [03:18<03:58,  1.30it/s]"
          ]
        },
        {
          "output_type": "stream",
          "name": "stdout",
          "text": [
            "[WARN] dividends fetch fail: EXC (Exelon) -> Invalid comparison between dtype=datetime64[ns, America/New_York] and Timestamp\n",
            "[WARN] dividends fetch fail: 003560.KS (아이에이치큐) -> Invalid comparison between dtype=datetime64[ns, Asia/Seoul] and Timestamp\n",
            "[WARN] dividends fetch fail: 001210.KS (금호전기) -> Invalid comparison between dtype=datetime64[ns, Asia/Seoul] and Timestamp\n",
            "[WARN] dividends fetch fail: 000680.KS (LS네트웍스) -> Invalid comparison between dtype=datetime64[ns, Asia/Seoul] and Timestamp\n",
            "[WARN] dividends fetch fail: 000140.KS (하이트진로홀딩스) -> Invalid comparison between dtype=datetime64[ns, Asia/Seoul] and Timestamp\n",
            "[WARN] dividends fetch fail: 000320.KS (노루홀딩스) -> Invalid comparison between dtype=datetime64[ns, Asia/Seoul] and Timestamp\n",
            "[WARN] dividends fetch fail: 000270.KS (기아) -> Invalid comparison between dtype=datetime64[ns, Asia/Seoul] and Timestamp\n"
          ]
        },
        {
          "output_type": "stream",
          "name": "stderr",
          "text": [
            "\r배당 수집:  37%|███▋      | 183/491 [03:22<08:04,  1.57s/it]"
          ]
        },
        {
          "output_type": "stream",
          "name": "stdout",
          "text": [
            "[WARN] dividends fetch fail: 004800.KS (효성) -> Invalid comparison between dtype=datetime64[ns, Asia/Seoul] and Timestamp\n",
            "[WARN] dividends fetch fail: EXPE (Expedia Group) -> Invalid comparison between dtype=datetime64[ns, America/New_York] and Timestamp\n"
          ]
        },
        {
          "output_type": "stream",
          "name": "stderr",
          "text": [
            "\r배당 수집:  37%|███▋      | 184/491 [03:22<05:58,  1.17s/it]"
          ]
        },
        {
          "output_type": "stream",
          "name": "stdout",
          "text": [
            "[WARN] dividends fetch fail: EXR (Extra Space Storage) -> Invalid comparison between dtype=datetime64[ns, America/New_York] and Timestamp\n",
            "[WARN] dividends fetch fail: 001040.KS (CJ) -> Invalid comparison between dtype=datetime64[ns, Asia/Seoul] and Timestamp\n"
          ]
        },
        {
          "output_type": "stream",
          "name": "stderr",
          "text": [
            "\r배당 수집:  38%|███▊      | 185/491 [03:22<04:30,  1.13it/s]"
          ]
        },
        {
          "output_type": "stream",
          "name": "stdout",
          "text": [
            "[WARN] dividends fetch fail: EXPD (Expeditors International) -> Invalid comparison between dtype=datetime64[ns, America/New_York] and Timestamp\n",
            "[WARN] dividends fetch fail: 005830.KS (DB손해보험) -> Invalid comparison between dtype=datetime64[ns, Asia/Seoul] and Timestamp\n",
            "[WARN] dividends fetch fail: 000150.KS (두산) -> Invalid comparison between dtype=datetime64[ns, Asia/Seoul] and Timestamp\n",
            "[WARN] dividends fetch fail: 002900.KS (TYM) -> Invalid comparison between dtype=datetime64[ns, Asia/Seoul] and Timestamp\n",
            "[WARN] dividends fetch fail: 005010.KS (휴스틸) -> Invalid comparison between dtype=datetime64[ns, Asia/Seoul] and Timestamp\n",
            "[WARN] dividends fetch fail: 003090.KS (대웅) -> Invalid comparison between dtype=datetime64[ns, Asia/Seoul] and Timestamp\n"
          ]
        },
        {
          "output_type": "stream",
          "name": "stderr",
          "text": [
            "\r배당 수집:  38%|███▊      | 187/491 [03:26<06:14,  1.23s/it]"
          ]
        },
        {
          "output_type": "stream",
          "name": "stdout",
          "text": [
            "[WARN] dividends fetch fail: XOM (ExxonMobil) -> Invalid comparison between dtype=datetime64[ns, America/New_York] and Timestamp\n",
            "[WARN] dividends fetch fail: 003780.KS (진양산업) -> Invalid comparison between dtype=datetime64[ns, Asia/Seoul] and Timestamp\n"
          ]
        },
        {
          "output_type": "stream",
          "name": "stderr",
          "text": [
            "\r배당 수집:  38%|███▊      | 188/491 [03:27<06:36,  1.31s/it]"
          ]
        },
        {
          "output_type": "stream",
          "name": "stdout",
          "text": [
            "[WARN] dividends fetch fail: FDS (FactSet) -> Invalid comparison between dtype=datetime64[ns, America/New_York] and Timestamp\n",
            "[WARN] dividends fetch fail: 003200.KS (일신방직) -> Invalid comparison between dtype=datetime64[ns, Asia/Seoul] and Timestamp[WARN] dividends fetch fail: 002380.KS (케이씨씨) -> Invalid comparison between dtype=datetime64[ns, Asia/Seoul] and Timestamp\n",
            "\n"
          ]
        },
        {
          "output_type": "stream",
          "name": "stderr",
          "text": [
            "배당 수집:  39%|███▊      | 190/491 [03:28<04:17,  1.17it/s]"
          ]
        },
        {
          "output_type": "stream",
          "name": "stdout",
          "text": [
            "[WARN] dividends fetch fail: FICO (Fair Isaac) -> Invalid comparison between dtype=datetime64[ns, America/New_York] and Timestamp\n",
            "[WARN] dividends fetch fail: FAST (Fastenal) -> Invalid comparison between dtype=datetime64[ns, America/New_York] and Timestamp\n",
            "[WARN] dividends fetch fail: 006220.KS (제주은행) -> Invalid comparison between dtype=datetime64[ns, Asia/Seoul] and Timestamp[WARN] dividends fetch fail: 002790.KS (아모레퍼시픽홀딩스) -> Invalid comparison between dtype=datetime64[ns, Asia/Seoul] and Timestamp\n",
            "\n",
            "[WARN] dividends fetch fail: 004150.KS (한솔홀딩스) -> Invalid comparison between dtype=datetime64[ns, Asia/Seoul] and Timestamp\n",
            "[WARN] dividends fetch fail: 007210.KS (벽산) -> Invalid comparison between dtype=datetime64[ns, Asia/Seoul] and Timestamp\n",
            "[WARN] dividends fetch fail: 000400.KS (롯데손해보험) -> Invalid comparison between dtype=datetime64[ns, Asia/Seoul] and Timestamp\n",
            "[WARN] dividends fetch fail: 005300.KS (롯데칠성음료) -> Invalid comparison between dtype=datetime64[ns, Asia/Seoul] and Timestamp\n"
          ]
        },
        {
          "output_type": "stream",
          "name": "stderr",
          "text": [
            "\r배당 수집:  39%|███▉      | 191/491 [03:32<08:24,  1.68s/it]"
          ]
        },
        {
          "output_type": "stream",
          "name": "stdout",
          "text": [
            "[WARN] dividends fetch fail: 001680.KS (대상) -> Invalid comparison between dtype=datetime64[ns, Asia/Seoul] and Timestamp\n",
            "[WARN] dividends fetch fail: FIS (Fidelity National Information Services) -> Invalid comparison between dtype=datetime64[ns, America/New_York] and Timestamp\n",
            "[WARN] dividends fetch fail: 001130.KS (대한제분) -> Invalid comparison between dtype=datetime64[ns, Asia/Seoul] and Timestamp\n"
          ]
        },
        {
          "output_type": "stream",
          "name": "stderr",
          "text": [
            "\r배당 수집:  39%|███▉      | 192/491 [03:32<06:17,  1.26s/it]"
          ]
        },
        {
          "output_type": "stream",
          "name": "stdout",
          "text": [
            "[WARN] dividends fetch fail: FDX (FedEx) -> Invalid comparison between dtype=datetime64[ns, America/New_York] and Timestamp\n"
          ]
        },
        {
          "output_type": "stream",
          "name": "stderr",
          "text": [
            "\r배당 수집:  39%|███▉      | 193/491 [03:33<05:19,  1.07s/it]"
          ]
        },
        {
          "output_type": "stream",
          "name": "stdout",
          "text": [
            "[WARN] dividends fetch fail: 000640.KS (동아쏘시오홀딩스) -> Invalid comparison between dtype=datetime64[ns, Asia/Seoul] and Timestamp\n"
          ]
        },
        {
          "output_type": "stream",
          "name": "stderr",
          "text": [
            "\r배당 수집:  40%|███▉      | 194/491 [03:33<04:32,  1.09it/s]"
          ]
        },
        {
          "output_type": "stream",
          "name": "stdout",
          "text": [
            "[WARN] dividends fetch fail: FITB (Fifth Third Bancorp) -> Invalid comparison between dtype=datetime64[ns, America/New_York] and Timestamp\n",
            "[WARN] dividends fetch fail: 003550.KS (LG) -> Invalid comparison between dtype=datetime64[ns, Asia/Seoul] and Timestamp\n"
          ]
        },
        {
          "output_type": "stream",
          "name": "stderr",
          "text": [
            "\r배당 수집:  40%|███▉      | 195/491 [03:33<03:27,  1.42it/s]"
          ]
        },
        {
          "output_type": "stream",
          "name": "stdout",
          "text": [
            "[WARN] dividends fetch fail: FRT (Federal Realty Investment Trust) -> Invalid comparison between dtype=datetime64[ns, America/New_York] and Timestamp\n",
            "[WARN] dividends fetch fail: 003690.KS (코리안리) -> Invalid comparison between dtype=datetime64[ns, Asia/Seoul] and Timestamp\n",
            "[WARN] dividends fetch fail: 000970.KS (한국주철관공업) -> Invalid comparison between dtype=datetime64[ns, Asia/Seoul] and Timestamp\n"
          ]
        },
        {
          "output_type": "stream",
          "name": "stderr",
          "text": [
            "배당 수집:  40%|████      | 197/491 [03:34<02:09,  2.27it/s]"
          ]
        },
        {
          "output_type": "stream",
          "name": "stdout",
          "text": [
            "[WARN] dividends fetch fail: 003300.KS (한일홀딩스) -> Invalid comparison between dtype=datetime64[ns, Asia/Seoul] and Timestamp\n",
            "[WARN] dividends fetch fail: 004250.KS (엔피씨) -> Invalid comparison between dtype=datetime64[ns, Asia/Seoul] and Timestamp\n"
          ]
        },
        {
          "output_type": "stream",
          "name": "stderr",
          "text": [
            "\r배당 수집:  40%|████      | 198/491 [03:37<05:50,  1.20s/it]"
          ]
        },
        {
          "output_type": "stream",
          "name": "stdout",
          "text": [
            "[WARN] dividends fetch fail: 003030.KS (세아제강지주) -> Invalid comparison between dtype=datetime64[ns, Asia/Seoul] and Timestamp\n",
            "[WARN] dividends fetch fail: 001440.KS (대한전선) -> Invalid comparison between dtype=datetime64[ns, Asia/Seoul] and Timestamp\n",
            "[WARN] dividends fetch fail: FE (FirstEnergy) -> Invalid comparison between dtype=datetime64[ns, America/New_York] and Timestamp\n",
            "[WARN] dividends fetch fail: 001790.KS (대한제당) -> Invalid comparison between dtype=datetime64[ns, Asia/Seoul] and Timestamp\n",
            "[WARN] dividends fetch fail: 000070.KS (삼양홀딩스) -> Invalid comparison between dtype=datetime64[ns, Asia/Seoul] and Timestamp\n"
          ]
        },
        {
          "output_type": "stream",
          "name": "stderr",
          "text": [
            "배당 수집:  41%|████      | 200/491 [03:37<03:29,  1.39it/s]"
          ]
        },
        {
          "output_type": "stream",
          "name": "stdout",
          "text": [
            "[WARN] dividends fetch fail: FOXA (Fox Corporation (Class A)) -> Invalid comparison between dtype=datetime64[ns, America/New_York] and Timestamp\n",
            "[WARN] dividends fetch fail: FTV (Fortive) -> Invalid comparison between dtype=datetime64[ns, America/New_York] and Timestamp\n",
            "[WARN] dividends fetch fail: 000240.KS (한국앤컴퍼니) -> Invalid comparison between dtype=datetime64[ns, Asia/Seoul] and Timestamp[WARN] dividends fetch fail: 000950.KS (전방) -> Invalid comparison between dtype=datetime64[ns, Asia/Seoul] and Timestamp\n",
            "\n"
          ]
        },
        {
          "output_type": "stream",
          "name": "stderr",
          "text": [
            "\r배당 수집:  41%|████      | 201/491 [03:39<04:35,  1.05it/s]"
          ]
        },
        {
          "output_type": "stream",
          "name": "stdout",
          "text": [
            "[WARN] dividends fetch fail: F (Ford Motor Company) -> Invalid comparison between dtype=datetime64[ns, America/New_York] and Timestamp\n",
            "[WARN] dividends fetch fail: 003490.KS (대한항공) -> Invalid comparison between dtype=datetime64[ns, Asia/Seoul] and Timestamp\n"
          ]
        },
        {
          "output_type": "stream",
          "name": "stderr",
          "text": [
            "\r배당 수집:  41%|████      | 202/491 [03:40<05:25,  1.13s/it]"
          ]
        },
        {
          "output_type": "stream",
          "name": "stdout",
          "text": [
            "[WARN] dividends fetch fail: 001530.KS (디아이동일) -> Invalid comparison between dtype=datetime64[ns, Asia/Seoul] and Timestamp\n",
            "[WARN] dividends fetch fail: FOX (Fox Corporation (Class B)) -> Invalid comparison between dtype=datetime64[ns, America/New_York] and Timestamp\n",
            "[WARN] dividends fetch fail: 000120.KS (CJ대한통운) -> Invalid comparison between dtype=datetime64[ns, Asia/Seoul] and Timestamp\n",
            "[WARN] dividends fetch fail: 000050.KS (경방) -> Invalid comparison between dtype=datetime64[ns, Asia/Seoul] and Timestamp\n"
          ]
        },
        {
          "output_type": "stream",
          "name": "stderr",
          "text": [
            "\r배당 수집:  41%|████▏     | 203/491 [03:42<05:43,  1.19s/it]"
          ]
        },
        {
          "output_type": "stream",
          "name": "stdout",
          "text": [
            "[WARN] dividends fetch fail: 000100.KS (유한양행) -> Invalid comparison between dtype=datetime64[ns, Asia/Seoul] and Timestamp\n",
            "[WARN] dividends fetch fail: BEN (Franklin Resources) -> Invalid comparison between dtype=datetime64[ns, America/New_York] and Timestamp\n",
            "[WARN] dividends fetch fail: 000700.KS (유수홀딩스) -> Invalid comparison between dtype=datetime64[ns, Asia/Seoul] and Timestamp\n",
            "[WARN] dividends fetch fail: FCX (Freeport-McMoRan) -> Invalid comparison between dtype=datetime64[ns, America/New_York] and Timestamp\n",
            "[WARN] dividends fetch fail: BKNG (Booking Holdings) -> Invalid comparison between dtype=datetime64[ns, America/New_York] and Timestamp\n",
            "[WARN] dividends fetch fail: 003480.KS (한진중공업홀딩스) -> Invalid comparison between dtype=datetime64[ns, Asia/Seoul] and Timestamp\n",
            "[WARN] dividends fetch fail: BR (Broadridge Financial Solutions) -> Invalid comparison between dtype=datetime64[ns, America/New_York] and Timestamp\n"
          ]
        },
        {
          "output_type": "stream",
          "name": "stderr",
          "text": [
            "\r배당 수집:  42%|████▏     | 205/491 [03:44<05:19,  1.12s/it]"
          ]
        },
        {
          "output_type": "stream",
          "name": "stdout",
          "text": [
            "[WARN] dividends fetch fail: GRMN (Garmin) -> Invalid comparison between dtype=datetime64[ns, America/New_York] and Timestamp\n"
          ]
        },
        {
          "output_type": "stream",
          "name": "stderr",
          "text": [
            "\r배당 수집:  42%|████▏     | 206/491 [03:44<04:27,  1.06it/s]"
          ]
        },
        {
          "output_type": "stream",
          "name": "stdout",
          "text": [
            "[WARN] dividends fetch fail: IT (Gartner) -> Invalid comparison between dtype=datetime64[ns, America/New_York] and Timestamp\n",
            "[WARN] dividends fetch fail: BG (Bunge Global) -> Invalid comparison between dtype=datetime64[ns, America/New_York] and Timestamp\n"
          ]
        },
        {
          "output_type": "stream",
          "name": "stderr",
          "text": [
            "\r배당 수집:  42%|████▏     | 207/491 [03:45<03:50,  1.23it/s]"
          ]
        },
        {
          "output_type": "stream",
          "name": "stdout",
          "text": [
            "[WARN] dividends fetch fail: GEHC (GE HealthCare) -> Invalid comparison between dtype=datetime64[ns, America/New_York] and Timestamp\n",
            "[WARN] dividends fetch fail: BXP (BXP, Inc.) -> Invalid comparison between dtype=datetime64[ns, America/New_York] and Timestamp\n",
            "[WARN] dividends fetch fail: CHRW (C.H. Robinson) -> Invalid comparison between dtype=datetime64[ns, America/New_York] and Timestamp\n"
          ]
        },
        {
          "output_type": "stream",
          "name": "stderr",
          "text": [
            "\r배당 수집:  42%|████▏     | 208/491 [03:46<04:57,  1.05s/it]"
          ]
        },
        {
          "output_type": "stream",
          "name": "stdout",
          "text": [
            "[WARN] dividends fetch fail: GEV (GE Vernova) -> Invalid comparison between dtype=datetime64[ns, America/New_York] and Timestamp\n",
            "[WARN] dividends fetch fail: CPT (Camden Property Trust) -> Invalid comparison between dtype=datetime64[ns, America/New_York] and Timestamp\n",
            "[WARN] dividends fetch fail: CPB (Campbell's Company (The)) -> Invalid comparison between dtype=datetime64[ns, America/New_York] and Timestamp\n",
            "[WARN] dividends fetch fail: COF (Capital One) -> Invalid comparison between dtype=datetime64[ns, America/New_York] and Timestamp\n",
            "[WARN] dividends fetch fail: CAH (Cardinal Health) -> Invalid comparison between dtype=datetime64[ns, America/New_York] and Timestamp\n"
          ]
        },
        {
          "output_type": "stream",
          "name": "stderr",
          "text": [
            "\r배당 수집:  43%|████▎     | 209/491 [03:48<05:47,  1.23s/it]"
          ]
        },
        {
          "output_type": "stream",
          "name": "stdout",
          "text": [
            "[WARN] dividends fetch fail: GEN (Gen Digital) -> Invalid comparison between dtype=datetime64[ns, America/New_York] and Timestamp\n",
            "[WARN] dividends fetch fail: GNRC (Generac) -> Invalid comparison between dtype=datetime64[ns, America/New_York] and Timestamp\n",
            "[WARN] dividends fetch fail: CCL (Carnival) -> Invalid comparison between dtype=datetime64[ns, America/New_York] and Timestamp\n",
            "[WARN] dividends fetch fail: CARR (Carrier Global) -> Invalid comparison between dtype=datetime64[ns, America/New_York] and Timestamp\n",
            "[WARN] dividends fetch fail: CBOE (Cboe Global Markets) -> Invalid comparison between dtype=datetime64[ns, America/New_York] and Timestamp\n",
            "[WARN] dividends fetch fail: BRO (Brown & Brown) -> Invalid comparison between dtype=datetime64[ns, America/New_York] and Timestamp\n"
          ]
        },
        {
          "output_type": "stream",
          "name": "stderr",
          "text": [
            "\r배당 수집:  43%|████▎     | 211/491 [03:52<07:08,  1.53s/it]"
          ]
        },
        {
          "output_type": "stream",
          "name": "stdout",
          "text": [
            "[WARN] dividends fetch fail: GM (General Motors) -> Invalid comparison between dtype=datetime64[ns, America/New_York] and Timestamp\n",
            "[WARN] dividends fetch fail: CDW (CDW Corporation) -> Invalid comparison between dtype=datetime64[ns, America/New_York] and Timestamp\n",
            "[WARN] dividends fetch fail: CAT (Caterpillar Inc.) -> Invalid comparison between dtype=datetime64[ns, America/New_York] and Timestamp\n",
            "[WARN] dividends fetch fail: COR (Cencora) -> Invalid comparison between dtype=datetime64[ns, America/New_York] and Timestamp\n"
          ]
        },
        {
          "output_type": "stream",
          "name": "stderr",
          "text": [
            "\r배당 수집:  43%|████▎     | 212/491 [03:54<07:33,  1.62s/it]"
          ]
        },
        {
          "output_type": "stream",
          "name": "stdout",
          "text": [
            "[WARN] dividends fetch fail: CF (CF Industries) -> Invalid comparison between dtype=datetime64[ns, America/New_York] and Timestamp\n",
            "[WARN] dividends fetch fail: GD (General Dynamics) -> Invalid comparison between dtype=datetime64[ns, America/New_York] and Timestamp\n"
          ]
        },
        {
          "output_type": "stream",
          "name": "stderr",
          "text": [
            "\r배당 수집:  43%|████▎     | 213/491 [03:54<05:52,  1.27s/it]"
          ]
        },
        {
          "output_type": "stream",
          "name": "stdout",
          "text": [
            "[WARN] dividends fetch fail: GE (GE Aerospace) -> Invalid comparison between dtype=datetime64[ns, America/New_York] and Timestamp\n",
            "[WARN] dividends fetch fail: CNP (CenterPoint Energy) -> Invalid comparison between dtype=datetime64[ns, America/New_York] and Timestamp\n",
            "[WARN] dividends fetch fail: SCHW (Charles Schwab Corporation) -> Invalid comparison between dtype=datetime64[ns, America/New_York] and Timestamp\n",
            "[WARN] dividends fetch fail: CVX (Chevron Corporation) -> Invalid comparison between dtype=datetime64[ns, America/New_York] and Timestamp\n",
            "[WARN] dividends fetch fail: CB (Chubb Limited) -> Invalid comparison between dtype=datetime64[ns, America/New_York] and Timestamp\n"
          ]
        },
        {
          "output_type": "stream",
          "name": "stderr",
          "text": [
            "\r배당 수집:  44%|████▎     | 214/491 [03:58<09:22,  2.03s/it]"
          ]
        },
        {
          "output_type": "stream",
          "name": "stdout",
          "text": [
            "[WARN] dividends fetch fail: GPC (Genuine Parts Company) -> Invalid comparison between dtype=datetime64[ns, America/New_York] and Timestamp\n",
            "[WARN] dividends fetch fail: GIS (General Mills) -> Invalid comparison between dtype=datetime64[ns, America/New_York] and Timestamp\n",
            "[WARN] dividends fetch fail: CHD (Church & Dwight) -> Invalid comparison between dtype=datetime64[ns, America/New_York] and Timestamp\n"
          ]
        },
        {
          "output_type": "stream",
          "name": "stderr",
          "text": [
            "\r배당 수집:  44%|████▍     | 216/491 [03:59<06:45,  1.48s/it]"
          ]
        },
        {
          "output_type": "stream",
          "name": "stdout",
          "text": [
            "[WARN] dividends fetch fail: CINF (Cincinnati Financial) -> Invalid comparison between dtype=datetime64[ns, America/New_York] and Timestamp\n",
            "[WARN] dividends fetch fail: CI (Cigna) -> Invalid comparison between dtype=datetime64[ns, America/New_York] and Timestamp\n",
            "[WARN] dividends fetch fail: GPN (Global Payments) -> Invalid comparison between dtype=datetime64[ns, America/New_York] and Timestamp\n",
            "[WARN] dividends fetch fail: CTAS (Cintas) -> Invalid comparison between dtype=datetime64[ns, America/New_York] and Timestamp\n",
            "[WARN] dividends fetch fail: GILD (Gilead Sciences) -> Invalid comparison between dtype=datetime64[ns, America/New_York] and Timestamp\n"
          ]
        },
        {
          "output_type": "stream",
          "name": "stderr",
          "text": [
            "\r배당 수집:  45%|████▍     | 219/491 [04:00<03:43,  1.22it/s]"
          ]
        },
        {
          "output_type": "stream",
          "name": "stdout",
          "text": [
            "[WARN] dividends fetch fail: CFG (Citizens Financial Group) -> Invalid comparison between dtype=datetime64[ns, America/New_York] and Timestamp\n",
            "[WARN] dividends fetch fail: CSCO (Cisco) -> Invalid comparison between dtype=datetime64[ns, America/New_York] and Timestamp\n",
            "[WARN] dividends fetch fail: C (Citigroup) -> Invalid comparison between dtype=datetime64[ns, America/New_York] and Timestamp\n"
          ]
        },
        {
          "output_type": "stream",
          "name": "stderr",
          "text": [
            "\r배당 수집:  45%|████▍     | 220/491 [04:03<05:51,  1.30s/it]"
          ]
        },
        {
          "output_type": "stream",
          "name": "stdout",
          "text": [
            "[WARN] dividends fetch fail: IR (Ingersoll Rand) -> Invalid comparison between dtype=datetime64[ns, America/New_York] and Timestamp\n",
            "[WARN] dividends fetch fail: CME (CME Group) -> Invalid comparison between dtype=datetime64[ns, America/New_York] and Timestamp\n"
          ]
        },
        {
          "output_type": "stream",
          "name": "stderr",
          "text": [
            "\r배당 수집:  45%|████▌     | 221/491 [04:05<06:36,  1.47s/it]"
          ]
        },
        {
          "output_type": "stream",
          "name": "stdout",
          "text": [
            "[WARN] dividends fetch fail: CTSH (Cognizant) -> Invalid comparison between dtype=datetime64[ns, America/New_York] and Timestamp\n",
            "[WARN] dividends fetch fail: GL (Globe Life) -> Invalid comparison between dtype=datetime64[ns, America/New_York] and Timestamp\n",
            "[WARN] dividends fetch fail: CLX (Clorox) -> Invalid comparison between dtype=datetime64[ns, America/New_York] and Timestamp\n"
          ]
        },
        {
          "output_type": "stream",
          "name": "stderr",
          "text": [
            "\r배당 수집:  45%|████▌     | 222/491 [04:06<05:49,  1.30s/it]"
          ]
        },
        {
          "output_type": "stream",
          "name": "stdout",
          "text": [
            "[WARN] dividends fetch fail: IPG (Interpublic Group of Companies (The)) -> Invalid comparison between dtype=datetime64[ns, America/New_York] and Timestamp[WARN] dividends fetch fail: INTC (Intel) -> Invalid comparison between dtype=datetime64[ns, America/New_York] and Timestamp\n",
            "\n"
          ]
        },
        {
          "output_type": "stream",
          "name": "stderr",
          "text": [
            "\r배당 수집:  46%|████▌     | 224/491 [04:07<03:56,  1.13it/s]"
          ]
        },
        {
          "output_type": "stream",
          "name": "stdout",
          "text": [
            "[WARN] dividends fetch fail: CMS (CMS Energy) -> Invalid comparison between dtype=datetime64[ns, America/New_York] and Timestamp\n"
          ]
        },
        {
          "output_type": "stream",
          "name": "stderr",
          "text": [
            "\r배당 수집:  46%|████▌     | 225/491 [04:07<03:57,  1.12it/s]"
          ]
        },
        {
          "output_type": "stream",
          "name": "stdout",
          "text": [
            "[WARN] dividends fetch fail: CMCSA (Comcast) -> Invalid comparison between dtype=datetime64[ns, America/New_York] and Timestamp\n",
            "[WARN] dividends fetch fail: KO (Coca-Cola Company (The)) -> Invalid comparison between dtype=datetime64[ns, America/New_York] and Timestamp\n",
            "[WARN] dividends fetch fail: CL (Colgate-Palmolive) -> Invalid comparison between dtype=datetime64[ns, America/New_York] and Timestamp\n"
          ]
        },
        {
          "output_type": "stream",
          "name": "stderr",
          "text": [
            "\r배당 수집:  46%|████▌     | 226/491 [04:09<04:27,  1.01s/it]"
          ]
        },
        {
          "output_type": "stream",
          "name": "stdout",
          "text": [
            "[WARN] dividends fetch fail: CAG (Conagra Brands) -> Invalid comparison between dtype=datetime64[ns, America/New_York] and Timestamp\n",
            "[WARN] dividends fetch fail: INTU (Intuit) -> Invalid comparison between dtype=datetime64[ns, America/New_York] and Timestamp\n",
            "[WARN] dividends fetch fail: STZ (Constellation Brands) -> Invalid comparison between dtype=datetime64[ns, America/New_York] and Timestamp[WARN] dividends fetch fail: COP (ConocoPhillips) -> Invalid comparison between dtype=datetime64[ns, America/New_York] and Timestamp\n",
            "\n"
          ]
        },
        {
          "output_type": "stream",
          "name": "stderr",
          "text": [
            "\r배당 수집:  46%|████▌     | 227/491 [04:10<04:39,  1.06s/it]"
          ]
        },
        {
          "output_type": "stream",
          "name": "stdout",
          "text": [
            "[WARN] dividends fetch fail: CEG (Constellation Energy) -> Invalid comparison between dtype=datetime64[ns, America/New_York] and Timestamp\n",
            "[WARN] dividends fetch fail: INVH (Invitation Homes) -> Invalid comparison between dtype=datetime64[ns, America/New_York] and Timestamp\n"
          ]
        },
        {
          "output_type": "stream",
          "name": "stderr",
          "text": [
            "\r배당 수집:  46%|████▋     | 228/491 [04:11<04:46,  1.09s/it]"
          ]
        },
        {
          "output_type": "stream",
          "name": "stdout",
          "text": [
            "[WARN] dividends fetch fail: IVZ (Invesco) -> Invalid comparison between dtype=datetime64[ns, America/New_York] and Timestamp\n",
            "[WARN] dividends fetch fail: ED (Consolidated Edison) -> Invalid comparison between dtype=datetime64[ns, America/New_York] and Timestamp\n"
          ]
        },
        {
          "output_type": "stream",
          "name": "stderr",
          "text": [
            "\r배당 수집:  47%|████▋     | 229/491 [04:12<04:46,  1.09s/it]"
          ]
        },
        {
          "output_type": "stream",
          "name": "stdout",
          "text": [
            "[WARN] dividends fetch fail: CTVA (Corteva) -> Invalid comparison between dtype=datetime64[ns, America/New_York] and Timestamp\n",
            "[WARN] dividends fetch fail: IRM (Iron Mountain) -> Invalid comparison between dtype=datetime64[ns, America/New_York] and Timestamp\n",
            "[WARN] dividends fetch fail: COO (Cooper Companies (The)) -> Invalid comparison between dtype=datetime64[ns, America/New_York] and Timestamp\n",
            "[WARN] dividends fetch fail: GLW (Corning Inc.) -> Invalid comparison between dtype=datetime64[ns, America/New_York] and Timestamp\n"
          ]
        },
        {
          "output_type": "stream",
          "name": "stderr",
          "text": [
            "\r배당 수집:  47%|████▋     | 230/491 [04:16<07:23,  1.70s/it]"
          ]
        },
        {
          "output_type": "stream",
          "name": "stdout",
          "text": [
            "[WARN] dividends fetch fail: CCI (Crown Castle) -> Invalid comparison between dtype=datetime64[ns, America/New_York] and Timestamp\n",
            "[WARN] dividends fetch fail: CTRA (Coterra) -> Invalid comparison between dtype=datetime64[ns, America/New_York] and Timestamp\n",
            "[WARN] dividends fetch fail: JBHT (J.B. Hunt) -> Invalid comparison between dtype=datetime64[ns, America/New_York] and Timestamp\n",
            "[WARN] dividends fetch fail: JBL (Jabil) -> Invalid comparison between dtype=datetime64[ns, America/New_York] and Timestamp\n",
            "[WARN] dividends fetch fail: COST (Costco) -> Invalid comparison between dtype=datetime64[ns, America/New_York] and Timestamp\n",
            "[WARN] dividends fetch fail: CSX (CSX Corporation) -> Invalid comparison between dtype=datetime64[ns, America/New_York] and Timestamp\n"
          ]
        },
        {
          "output_type": "stream",
          "name": "stderr",
          "text": [
            "\r배당 수집:  47%|████▋     | 232/491 [04:18<06:39,  1.54s/it]"
          ]
        },
        {
          "output_type": "stream",
          "name": "stdout",
          "text": [
            "[WARN] dividends fetch fail: JKHY (Jack Henry & Associates) -> Invalid comparison between dtype=datetime64[ns, America/New_York] and Timestamp\n"
          ]
        },
        {
          "output_type": "stream",
          "name": "stderr",
          "text": [
            "\r배당 수집:  47%|████▋     | 233/491 [04:19<05:27,  1.27s/it]"
          ]
        },
        {
          "output_type": "stream",
          "name": "stdout",
          "text": [
            "[WARN] dividends fetch fail: J (Jacobs Solutions) -> Invalid comparison between dtype=datetime64[ns, America/New_York] and Timestamp[WARN] dividends fetch fail: CVS (CVS Health) -> Invalid comparison between dtype=datetime64[ns, America/New_York] and Timestamp\n",
            "\n",
            "[WARN] dividends fetch fail: CMI (Cummins) -> Invalid comparison between dtype=datetime64[ns, America/New_York] and Timestamp\n",
            "[WARN] dividends fetch fail: DELL (Dell Technologies) -> Invalid comparison between dtype=datetime64[ns, America/New_York] and Timestamp\n",
            "[WARN] dividends fetch fail: DRI (Darden Restaurants) -> Invalid comparison between dtype=datetime64[ns, America/New_York] and Timestamp\n",
            "[WARN] dividends fetch fail: DAL (Delta Air Lines) -> Invalid comparison between dtype=datetime64[ns, America/New_York] and Timestamp\n"
          ]
        },
        {
          "output_type": "stream",
          "name": "stderr",
          "text": [
            "\r배당 수집:  48%|████▊     | 234/491 [04:22<07:45,  1.81s/it]"
          ]
        },
        {
          "output_type": "stream",
          "name": "stdout",
          "text": [
            "[WARN] dividends fetch fail: DHR (Danaher Corporation) -> Invalid comparison between dtype=datetime64[ns, America/New_York] and Timestamp\n",
            "[WARN] dividends fetch fail: JCI (Johnson Controls) -> Invalid comparison between dtype=datetime64[ns, America/New_York] and Timestamp\n",
            "[WARN] dividends fetch fail: JNJ (Johnson & Johnson) -> Invalid comparison between dtype=datetime64[ns, America/New_York] and Timestamp\n",
            "[WARN] dividends fetch fail: DE (Deere & Company) -> Invalid comparison between dtype=datetime64[ns, America/New_York] and Timestamp\n",
            "[WARN] dividends fetch fail: DVN (Devon Energy) -> Invalid comparison between dtype=datetime64[ns, America/New_York] and Timestamp\n",
            "[WARN] dividends fetch fail: FANG (Diamondback Energy) -> Invalid comparison between dtype=datetime64[ns, America/New_York] and Timestamp\n"
          ]
        },
        {
          "output_type": "stream",
          "name": "stderr",
          "text": [
            "\r배당 수집:  48%|████▊     | 236/491 [04:25<06:45,  1.59s/it]"
          ]
        },
        {
          "output_type": "stream",
          "name": "stdout",
          "text": [
            "[WARN] dividends fetch fail: JPM (JPMorgan Chase) -> Invalid comparison between dtype=datetime64[ns, America/New_York] and Timestamp\n"
          ]
        },
        {
          "output_type": "stream",
          "name": "stderr",
          "text": [
            "\r배당 수집:  48%|████▊     | 237/491 [04:25<05:23,  1.27s/it]"
          ]
        },
        {
          "output_type": "stream",
          "name": "stdout",
          "text": [
            "[WARN] dividends fetch fail: KVUE (Kenvue) -> Invalid comparison between dtype=datetime64[ns, America/New_York] and Timestamp\n"
          ]
        },
        {
          "output_type": "stream",
          "name": "stderr",
          "text": [
            "\r배당 수집:  48%|████▊     | 238/491 [04:25<04:27,  1.06s/it]"
          ]
        },
        {
          "output_type": "stream",
          "name": "stdout",
          "text": [
            "[WARN] dividends fetch fail: K (Kellanova) -> Invalid comparison between dtype=datetime64[ns, America/New_York] and Timestamp\n",
            "[WARN] dividends fetch fail: DLR (Digital Realty) -> Invalid comparison between dtype=datetime64[ns, America/New_York] and Timestamp\n"
          ]
        },
        {
          "output_type": "stream",
          "name": "stderr",
          "text": [
            "배당 수집:  49%|████▉     | 240/491 [04:26<03:21,  1.24it/s]"
          ]
        },
        {
          "output_type": "stream",
          "name": "stdout",
          "text": [
            "[WARN] dividends fetch fail: KDP (Keurig Dr Pepper) -> Invalid comparison between dtype=datetime64[ns, America/New_York] and Timestamp\n",
            "[WARN] dividends fetch fail: DOW (Dow Inc.) -> Invalid comparison between dtype=datetime64[ns, America/New_York] and Timestamp\n",
            "[WARN] dividends fetch fail: DG (Dollar General) -> Invalid comparison between dtype=datetime64[ns, America/New_York] and Timestamp\n",
            "[WARN] dividends fetch fail: D (Dominion Energy) -> Invalid comparison between dtype=datetime64[ns, America/New_York] and Timestamp\n",
            "[WARN] dividends fetch fail: DPZ (Domino's) -> Invalid comparison between dtype=datetime64[ns, America/New_York] and Timestamp\n",
            "[WARN] dividends fetch fail: DOV (Dover Corporation) -> Invalid comparison between dtype=datetime64[ns, America/New_York] and Timestamp\n",
            "[WARN] dividends fetch fail: DHI (D. R. Horton) -> Invalid comparison between dtype=datetime64[ns, America/New_York] and Timestamp\n"
          ]
        },
        {
          "output_type": "stream",
          "name": "stderr",
          "text": [
            "\r배당 수집:  49%|████▉     | 241/491 [04:31<08:33,  2.05s/it]"
          ]
        },
        {
          "output_type": "stream",
          "name": "stdout",
          "text": [
            "[WARN] dividends fetch fail: DTE (DTE Energy) -> Invalid comparison between dtype=datetime64[ns, America/New_York] and Timestamp\n",
            "[WARN] dividends fetch fail: KEY (KeyCorp) -> Invalid comparison between dtype=datetime64[ns, America/New_York] and Timestamp\n"
          ]
        },
        {
          "output_type": "stream",
          "name": "stderr",
          "text": [
            "\r배당 수집:  49%|████▉     | 242/491 [04:32<06:29,  1.56s/it]"
          ]
        },
        {
          "output_type": "stream",
          "name": "stdout",
          "text": [
            "[WARN] dividends fetch fail: KMI (Kinder Morgan) -> Invalid comparison between dtype=datetime64[ns, America/New_York] and Timestamp\n"
          ]
        },
        {
          "output_type": "stream",
          "name": "stderr",
          "text": [
            "\r배당 수집:  49%|████▉     | 243/491 [04:33<05:27,  1.32s/it]"
          ]
        },
        {
          "output_type": "stream",
          "name": "stdout",
          "text": [
            "[WARN] dividends fetch fail: KIM (Kimco Realty) -> Invalid comparison between dtype=datetime64[ns, America/New_York] and Timestamp\n"
          ]
        },
        {
          "output_type": "stream",
          "name": "stderr",
          "text": [
            "\r배당 수집:  50%|████▉     | 244/491 [04:33<04:23,  1.07s/it]"
          ]
        },
        {
          "output_type": "stream",
          "name": "stdout",
          "text": [
            "[WARN] dividends fetch fail: KMB (Kimberly-Clark) -> Invalid comparison between dtype=datetime64[ns, America/New_York] and Timestamp\n",
            "[WARN] dividends fetch fail: DUK (Duke Energy) -> Invalid comparison between dtype=datetime64[ns, America/New_York] and Timestamp\n",
            "[WARN] dividends fetch fail: DD (DuPont) -> Invalid comparison between dtype=datetime64[ns, America/New_York] and Timestamp\n",
            "[WARN] dividends fetch fail: EBAY (eBay Inc.) -> Invalid comparison between dtype=datetime64[ns, America/New_York] and Timestamp\n",
            "[WARN] dividends fetch fail: ETN (Eaton Corporation) -> Invalid comparison between dtype=datetime64[ns, America/New_York] and Timestamp\n",
            "[WARN] dividends fetch fail: EIX (Edison International) -> Invalid comparison between dtype=datetime64[ns, America/New_York] and Timestamp\n"
          ]
        },
        {
          "output_type": "stream",
          "name": "stderr",
          "text": [
            "\r배당 수집:  50%|████▉     | 245/491 [04:35<05:47,  1.41s/it]"
          ]
        },
        {
          "output_type": "stream",
          "name": "stdout",
          "text": [
            "[WARN] dividends fetch fail: ECL (Ecolab) -> Invalid comparison between dtype=datetime64[ns, America/New_York] and Timestamp\n",
            "[WARN] dividends fetch fail: KKR (KKR & Co.) -> Invalid comparison between dtype=datetime64[ns, America/New_York] and Timestamp\n",
            "[WARN] dividends fetch fail: EMN (Eastman Chemical Company) -> Invalid comparison between dtype=datetime64[ns, America/New_York] and Timestamp\n"
          ]
        },
        {
          "output_type": "stream",
          "name": "stderr",
          "text": [
            "\r배당 수집:  50%|█████     | 246/491 [04:36<05:27,  1.34s/it]"
          ]
        },
        {
          "output_type": "stream",
          "name": "stdout",
          "text": [
            "[WARN] dividends fetch fail: KHC (Kraft Heinz) -> Invalid comparison between dtype=datetime64[ns, America/New_York] and Timestamp\n"
          ]
        },
        {
          "output_type": "stream",
          "name": "stderr",
          "text": [
            "\r배당 수집:  50%|█████     | 247/491 [04:37<05:07,  1.26s/it]"
          ]
        },
        {
          "output_type": "stream",
          "name": "stdout",
          "text": [
            "[WARN] dividends fetch fail: KLAC (KLA Corporation) -> Invalid comparison between dtype=datetime64[ns, America/New_York] and Timestamp\n",
            "[WARN] dividends fetch fail: EA (Electronic Arts) -> Invalid comparison between dtype=datetime64[ns, America/New_York] and Timestamp[WARN] dividends fetch fail: ELV (Elevance Health) -> Invalid comparison between dtype=datetime64[ns, America/New_York] and Timestamp\n",
            "\n"
          ]
        },
        {
          "output_type": "stream",
          "name": "stderr",
          "text": [
            "\r배당 수집:  51%|█████     | 248/491 [04:41<08:05,  2.00s/it]"
          ]
        },
        {
          "output_type": "stream",
          "name": "stdout",
          "text": [
            "[WARN] dividends fetch fail: KR (Kroger) -> Invalid comparison between dtype=datetime64[ns, America/New_York] and Timestamp\n",
            "[WARN] dividends fetch fail: EQIX (Equinix) -> Invalid comparison between dtype=datetime64[ns, America/New_York] and Timestamp\n",
            "[WARN] dividends fetch fail: EOG (EOG Resources) -> Invalid comparison between dtype=datetime64[ns, America/New_York] and Timestamp\n",
            "[WARN] dividends fetch fail: EMR (Emerson Electric) -> Invalid comparison between dtype=datetime64[ns, America/New_York] and Timestamp\n",
            "[WARN] dividends fetch fail: ETR (Entergy) -> Invalid comparison between dtype=datetime64[ns, America/New_York] and Timestamp\n",
            "[WARN] dividends fetch fail: EFX (Equifax) -> Invalid comparison between dtype=datetime64[ns, America/New_York] and Timestamp\n"
          ]
        },
        {
          "output_type": "stream",
          "name": "stderr",
          "text": [
            "\r배당 수집:  51%|█████     | 249/491 [04:42<06:20,  1.57s/it]"
          ]
        },
        {
          "output_type": "stream",
          "name": "stdout",
          "text": [
            "[WARN] dividends fetch fail: EQT (EQT Corporation) -> Invalid comparison between dtype=datetime64[ns, America/New_York] and Timestamp\n",
            "[WARN] dividends fetch fail: LHX (L3Harris) -> Invalid comparison between dtype=datetime64[ns, America/New_York] and Timestamp\n"
          ]
        },
        {
          "output_type": "stream",
          "name": "stderr",
          "text": [
            "\r배당 수집:  51%|█████     | 250/491 [04:42<04:39,  1.16s/it]"
          ]
        },
        {
          "output_type": "stream",
          "name": "stdout",
          "text": [
            "[WARN] dividends fetch fail: LH (Labcorp) -> Invalid comparison between dtype=datetime64[ns, America/New_York] and Timestamp\n"
          ]
        },
        {
          "output_type": "stream",
          "name": "stderr",
          "text": [
            "\r배당 수집:  51%|█████     | 251/491 [04:43<04:59,  1.25s/it]"
          ]
        },
        {
          "output_type": "stream",
          "name": "stdout",
          "text": [
            "[WARN] dividends fetch fail: LRCX (Lam Research) -> Invalid comparison between dtype=datetime64[ns, America/New_York] and Timestamp\n",
            "[WARN] dividends fetch fail: EQR (Equity Residential) -> Invalid comparison between dtype=datetime64[ns, America/New_York] and Timestamp\n",
            "[WARN] dividends fetch fail: ERIE (Erie Indemnity) -> Invalid comparison between dtype=datetime64[ns, America/New_York] and Timestamp\n"
          ]
        },
        {
          "output_type": "stream",
          "name": "stderr",
          "text": [
            "\r배당 수집:  51%|█████▏    | 252/491 [04:45<04:46,  1.20s/it]"
          ]
        },
        {
          "output_type": "stream",
          "name": "stdout",
          "text": [
            "[WARN] dividends fetch fail: LW (Lamb Weston) -> Invalid comparison between dtype=datetime64[ns, America/New_York] and Timestamp\n"
          ]
        },
        {
          "output_type": "stream",
          "name": "stderr",
          "text": [
            "\r배당 수집:  52%|█████▏    | 253/491 [04:45<03:49,  1.04it/s]"
          ]
        },
        {
          "output_type": "stream",
          "name": "stdout",
          "text": [
            "[WARN] dividends fetch fail: LVS (Las Vegas Sands) -> Invalid comparison between dtype=datetime64[ns, America/New_York] and Timestamp\n"
          ]
        },
        {
          "output_type": "stream",
          "name": "stderr",
          "text": [
            "\r배당 수집:  52%|█████▏    | 254/491 [04:46<03:23,  1.16it/s]"
          ]
        },
        {
          "output_type": "stream",
          "name": "stdout",
          "text": [
            "[WARN] dividends fetch fail: ESS (Essex Property Trust) -> Invalid comparison between dtype=datetime64[ns, America/New_York] and Timestamp\n",
            "[WARN] dividends fetch fail: EL (Estée Lauder Companies (The)) -> Invalid comparison between dtype=datetime64[ns, America/New_York] and Timestamp\n",
            "[WARN] dividends fetch fail: LDOS (Leidos) -> Invalid comparison between dtype=datetime64[ns, America/New_York] and Timestamp\n",
            "[WARN] dividends fetch fail: EG (Everest Group) -> Invalid comparison between dtype=datetime64[ns, America/New_York] and Timestamp\n",
            "[WARN] dividends fetch fail: ES (Eversource Energy) -> Invalid comparison between dtype=datetime64[ns, America/New_York] and Timestamp\n",
            "[WARN] dividends fetch fail: EXE (Expand Energy) -> Invalid comparison between dtype=datetime64[ns, America/New_York] and Timestamp\n",
            "[WARN] dividends fetch fail: EVRG (Evergy) -> Invalid comparison between dtype=datetime64[ns, America/New_York] and Timestamp\n",
            "[WARN] dividends fetch fail: EXC (Exelon) -> Invalid comparison between dtype=datetime64[ns, America/New_York] and Timestamp\n",
            "[WARN] dividends fetch fail: EXPE (Expedia Group) -> Invalid comparison between dtype=datetime64[ns, America/New_York] and Timestamp\n"
          ]
        },
        {
          "output_type": "stream",
          "name": "stderr",
          "text": [
            "\r배당 수집:  52%|█████▏    | 255/491 [04:49<06:19,  1.61s/it]"
          ]
        },
        {
          "output_type": "stream",
          "name": "stdout",
          "text": [
            "[WARN] dividends fetch fail: LEN (Lennar) -> Invalid comparison between dtype=datetime64[ns, America/New_York] and Timestamp\n"
          ]
        },
        {
          "output_type": "stream",
          "name": "stderr",
          "text": [
            "\r배당 수집:  52%|█████▏    | 256/491 [04:49<04:51,  1.24s/it]"
          ]
        },
        {
          "output_type": "stream",
          "name": "stdout",
          "text": [
            "[WARN] dividends fetch fail: LII (Lennox International) -> Invalid comparison between dtype=datetime64[ns, America/New_York] and Timestamp\n"
          ]
        },
        {
          "output_type": "stream",
          "name": "stderr",
          "text": [
            "배당 수집:  53%|█████▎    | 258/491 [04:50<03:26,  1.13it/s]"
          ]
        },
        {
          "output_type": "stream",
          "name": "stdout",
          "text": [
            "[WARN] dividends fetch fail: LLY (Lilly (Eli)) -> Invalid comparison between dtype=datetime64[ns, America/New_York] and Timestamp\n",
            "[WARN] dividends fetch fail: EXPD (Expeditors International) -> Invalid comparison between dtype=datetime64[ns, America/New_York] and Timestamp\n"
          ]
        },
        {
          "output_type": "stream",
          "name": "stderr",
          "text": [
            "\r배당 수집:  53%|█████▎    | 259/491 [04:51<02:56,  1.31it/s]"
          ]
        },
        {
          "output_type": "stream",
          "name": "stdout",
          "text": [
            "[WARN] dividends fetch fail: EXR (Extra Space Storage) -> Invalid comparison between dtype=datetime64[ns, America/New_York] and Timestamp\n",
            "[WARN] dividends fetch fail: LIN (Linde plc) -> Invalid comparison between dtype=datetime64[ns, America/New_York] and Timestamp\n",
            "[WARN] dividends fetch fail: FDS (FactSet) -> Invalid comparison between dtype=datetime64[ns, America/New_York] and Timestamp\n",
            "[WARN] dividends fetch fail: FICO (Fair Isaac) -> Invalid comparison between dtype=datetime64[ns, America/New_York] and Timestamp\n",
            "[WARN] dividends fetch fail: FAST (Fastenal) -> Invalid comparison between dtype=datetime64[ns, America/New_York] and Timestamp\n",
            "[WARN] dividends fetch fail: FRT (Federal Realty Investment Trust) -> Invalid comparison between dtype=datetime64[ns, America/New_York] and Timestamp\n",
            "[WARN] dividends fetch fail: XOM (ExxonMobil) -> Invalid comparison between dtype=datetime64[ns, America/New_York] and Timestamp\n",
            "[WARN] dividends fetch fail: FDX (FedEx) -> Invalid comparison between dtype=datetime64[ns, America/New_York] and Timestamp\n"
          ]
        },
        {
          "output_type": "stream",
          "name": "stderr",
          "text": [
            "\r배당 수집:  53%|█████▎    | 260/491 [04:55<06:42,  1.74s/it]"
          ]
        },
        {
          "output_type": "stream",
          "name": "stdout",
          "text": [
            "[WARN] dividends fetch fail: LKQ (LKQ Corporation) -> Invalid comparison between dtype=datetime64[ns, America/New_York] and Timestamp\n"
          ]
        },
        {
          "output_type": "stream",
          "name": "stderr",
          "text": [
            "\r배당 수집:  53%|█████▎    | 261/491 [04:56<05:31,  1.44s/it]"
          ]
        },
        {
          "output_type": "stream",
          "name": "stdout",
          "text": [
            "[WARN] dividends fetch fail: FIS (Fidelity National Information Services) -> Invalid comparison between dtype=datetime64[ns, America/New_York] and Timestamp\n"
          ]
        },
        {
          "output_type": "stream",
          "name": "stderr",
          "text": [
            "\r배당 수집:  53%|█████▎    | 262/491 [04:56<04:15,  1.11s/it]"
          ]
        },
        {
          "output_type": "stream",
          "name": "stdout",
          "text": [
            "[WARN] dividends fetch fail: L (Loews Corporation) -> Invalid comparison between dtype=datetime64[ns, America/New_York] and Timestamp\n"
          ]
        },
        {
          "output_type": "stream",
          "name": "stderr",
          "text": [
            "\r배당 수집:  54%|█████▎    | 263/491 [04:57<04:18,  1.13s/it]"
          ]
        },
        {
          "output_type": "stream",
          "name": "stdout",
          "text": [
            "[WARN] dividends fetch fail: FE (FirstEnergy) -> Invalid comparison between dtype=datetime64[ns, America/New_York] and Timestamp\n",
            "[WARN] dividends fetch fail: LMT (Lockheed Martin) -> Invalid comparison between dtype=datetime64[ns, America/New_York] and Timestamp\n"
          ]
        },
        {
          "output_type": "stream",
          "name": "stderr",
          "text": [
            "\r배당 수집:  54%|█████▍    | 264/491 [04:58<03:36,  1.05it/s]"
          ]
        },
        {
          "output_type": "stream",
          "name": "stdout",
          "text": [
            "[WARN] dividends fetch fail: LOW (Lowe's) -> Invalid comparison between dtype=datetime64[ns, America/New_York] and Timestamp[WARN] dividends fetch fail: FOX (Fox Corporation (Class B)) -> Invalid comparison between dtype=datetime64[ns, America/New_York] and Timestamp\n",
            "[WARN] dividends fetch fail: FTV (Fortive) -> Invalid comparison between dtype=datetime64[ns, America/New_York] and Timestamp\n",
            "\n",
            "[WARN] dividends fetch fail: FITB (Fifth Third Bancorp) -> Invalid comparison between dtype=datetime64[ns, America/New_York] and Timestamp\n",
            "[WARN] dividends fetch fail: FOXA (Fox Corporation (Class A)) -> Invalid comparison between dtype=datetime64[ns, America/New_York] and Timestamp\n"
          ]
        },
        {
          "output_type": "stream",
          "name": "stderr",
          "text": [
            "\r배당 수집:  54%|█████▍    | 265/491 [05:00<04:41,  1.25s/it]"
          ]
        },
        {
          "output_type": "stream",
          "name": "stdout",
          "text": [
            "[WARN] dividends fetch fail: LYB (LyondellBasell) -> Invalid comparison between dtype=datetime64[ns, America/New_York] and Timestamp\n",
            "[WARN] dividends fetch fail: BEN (Franklin Resources) -> Invalid comparison between dtype=datetime64[ns, America/New_York] and Timestamp\n",
            "[WARN] dividends fetch fail: GEV (GE Vernova) -> Invalid comparison between dtype=datetime64[ns, America/New_York] and Timestamp\n",
            "[WARN] dividends fetch fail: F (Ford Motor Company) -> Invalid comparison between dtype=datetime64[ns, America/New_York] and Timestamp\n"
          ]
        },
        {
          "output_type": "stream",
          "name": "stderr",
          "text": [
            "\r배당 수집:  54%|█████▍    | 266/491 [05:01<04:26,  1.18s/it]"
          ]
        },
        {
          "output_type": "stream",
          "name": "stdout",
          "text": [
            "[WARN] dividends fetch fail: FCX (Freeport-McMoRan) -> Invalid comparison between dtype=datetime64[ns, America/New_York] and Timestamp\n",
            "[WARN] dividends fetch fail: GEHC (GE HealthCare) -> Invalid comparison between dtype=datetime64[ns, America/New_York] and Timestamp\n",
            "[WARN] dividends fetch fail: MTB (M&T Bank) -> Invalid comparison between dtype=datetime64[ns, America/New_York] and Timestamp\n"
          ]
        },
        {
          "output_type": "stream",
          "name": "stderr",
          "text": [
            "\r배당 수집:  54%|█████▍    | 267/491 [05:01<03:23,  1.10it/s]"
          ]
        },
        {
          "output_type": "stream",
          "name": "stdout",
          "text": [
            "[WARN] dividends fetch fail: MPC (Marathon Petroleum) -> Invalid comparison between dtype=datetime64[ns, America/New_York] and Timestamp\n"
          ]
        },
        {
          "output_type": "stream",
          "name": "stderr",
          "text": [
            "\r배당 수집:  55%|█████▍    | 268/491 [05:01<02:53,  1.28it/s]"
          ]
        },
        {
          "output_type": "stream",
          "name": "stdout",
          "text": [
            "[WARN] dividends fetch fail: IT (Gartner) -> Invalid comparison between dtype=datetime64[ns, America/New_York] and Timestamp\n",
            "[WARN] dividends fetch fail: MKTX (MarketAxess) -> Invalid comparison between dtype=datetime64[ns, America/New_York] and Timestamp\n",
            "[WARN] dividends fetch fail: GRMN (Garmin) -> Invalid comparison between dtype=datetime64[ns, America/New_York] and Timestamp\n",
            "[WARN] dividends fetch fail: GE (GE Aerospace) -> Invalid comparison between dtype=datetime64[ns, America/New_York] and Timestamp\n",
            "[WARN] dividends fetch fail: GNRC (Generac) -> Invalid comparison between dtype=datetime64[ns, America/New_York] and Timestamp\n",
            "[WARN] dividends fetch fail: GM (General Motors) -> Invalid comparison between dtype=datetime64[ns, America/New_York] and Timestamp\n"
          ]
        },
        {
          "output_type": "stream",
          "name": "stderr",
          "text": [
            "\r배당 수집:  55%|█████▍    | 269/491 [05:05<06:32,  1.77s/it]"
          ]
        },
        {
          "output_type": "stream",
          "name": "stdout",
          "text": [
            "[WARN] dividends fetch fail: MAR (Marriott International) -> Invalid comparison between dtype=datetime64[ns, America/New_York] and Timestamp\n",
            "[WARN] dividends fetch fail: GEN (Gen Digital) -> Invalid comparison between dtype=datetime64[ns, America/New_York] and Timestamp\n"
          ]
        },
        {
          "output_type": "stream",
          "name": "stderr",
          "text": [
            "\r배당 수집:  55%|█████▍    | 270/491 [05:06<05:24,  1.47s/it]"
          ]
        },
        {
          "output_type": "stream",
          "name": "stdout",
          "text": [
            "[WARN] dividends fetch fail: MLM (Martin Marietta Materials) -> Invalid comparison between dtype=datetime64[ns, America/New_York] and Timestamp\n",
            "[WARN] dividends fetch fail: GIS (General Mills) -> Invalid comparison between dtype=datetime64[ns, America/New_York] and Timestamp\n"
          ]
        },
        {
          "output_type": "stream",
          "name": "stderr",
          "text": [
            "\r배당 수집:  55%|█████▌    | 271/491 [05:07<04:23,  1.20s/it]"
          ]
        },
        {
          "output_type": "stream",
          "name": "stdout",
          "text": [
            "[WARN] dividends fetch fail: MMC (Marsh McLennan) -> Invalid comparison between dtype=datetime64[ns, America/New_York] and Timestamp\n",
            "[WARN] dividends fetch fail: GD (General Dynamics) -> Invalid comparison between dtype=datetime64[ns, America/New_York] and Timestamp\n"
          ]
        },
        {
          "output_type": "stream",
          "name": "stderr",
          "text": [
            "\r배당 수집:  55%|█████▌    | 272/491 [05:08<04:39,  1.28s/it]"
          ]
        },
        {
          "output_type": "stream",
          "name": "stdout",
          "text": [
            "[WARN] dividends fetch fail: MAS (Masco) -> Invalid comparison between dtype=datetime64[ns, America/New_York] and Timestamp\n",
            "[WARN] dividends fetch fail: GPN (Global Payments) -> Invalid comparison between dtype=datetime64[ns, America/New_York] and Timestamp\n",
            "[WARN] dividends fetch fail: GPC (Genuine Parts Company) -> Invalid comparison between dtype=datetime64[ns, America/New_York] and Timestamp\n",
            "[WARN] dividends fetch fail: GILD (Gilead Sciences) -> Invalid comparison between dtype=datetime64[ns, America/New_York] and Timestamp\n"
          ]
        },
        {
          "output_type": "stream",
          "name": "stderr",
          "text": [
            "\r배당 수집:  56%|█████▌    | 273/491 [05:10<05:33,  1.53s/it]"
          ]
        },
        {
          "output_type": "stream",
          "name": "stdout",
          "text": [
            "[WARN] dividends fetch fail: GL (Globe Life) -> Invalid comparison between dtype=datetime64[ns, America/New_York] and Timestamp\n",
            "[WARN] dividends fetch fail: MA (Mastercard) -> Invalid comparison between dtype=datetime64[ns, America/New_York] and Timestamp\n",
            "[WARN] dividends fetch fail: GS (Goldman Sachs) -> Invalid comparison between dtype=datetime64[ns, America/New_York] and Timestamp\n"
          ]
        },
        {
          "output_type": "stream",
          "name": "stderr",
          "text": [
            "\r배당 수집:  56%|█████▌    | 274/491 [05:11<04:23,  1.21s/it]"
          ]
        },
        {
          "output_type": "stream",
          "name": "stdout",
          "text": [
            "[WARN] dividends fetch fail: MTCH (Match Group) -> Invalid comparison between dtype=datetime64[ns, America/New_York] and Timestamp\n",
            "[WARN] dividends fetch fail: HAL (Halliburton) -> Invalid comparison between dtype=datetime64[ns, America/New_York] and Timestamp\n",
            "[WARN] dividends fetch fail: HIG (Hartford (The)) -> Invalid comparison between dtype=datetime64[ns, America/New_York] and Timestamp\n"
          ]
        },
        {
          "output_type": "stream",
          "name": "stderr",
          "text": [
            "\r배당 수집:  56%|█████▌    | 275/491 [05:12<04:27,  1.24s/it]"
          ]
        },
        {
          "output_type": "stream",
          "name": "stdout",
          "text": [
            "[WARN] dividends fetch fail: HCA (HCA Healthcare) -> Invalid comparison between dtype=datetime64[ns, America/New_York] and Timestamp\n",
            "[WARN] dividends fetch fail: MKC (McCormick & Company) -> Invalid comparison between dtype=datetime64[ns, America/New_York] and Timestamp\n",
            "[WARN] dividends fetch fail: HAS (Hasbro) -> Invalid comparison between dtype=datetime64[ns, America/New_York] and Timestamp\n"
          ]
        },
        {
          "output_type": "stream",
          "name": "stderr",
          "text": [
            "\r배당 수집:  56%|█████▌    | 276/491 [05:14<05:20,  1.49s/it]"
          ]
        },
        {
          "output_type": "stream",
          "name": "stdout",
          "text": [
            "[WARN] dividends fetch fail: MCD (McDonald's) -> Invalid comparison between dtype=datetime64[ns, America/New_York] and Timestamp\n",
            "[WARN] dividends fetch fail: HPE (Hewlett Packard Enterprise) -> Invalid comparison between dtype=datetime64[ns, America/New_York] and Timestamp\n",
            "[WARN] dividends fetch fail: DOC (Healthpeak Properties) -> Invalid comparison between dtype=datetime64[ns, America/New_York] and Timestamp\n",
            "[WARN] dividends fetch fail: HLT (Hilton Worldwide) -> Invalid comparison between dtype=datetime64[ns, America/New_York] and Timestamp\n",
            "[WARN] dividends fetch fail: MCK (McKesson Corporation) -> Invalid comparison between dtype=datetime64[ns, America/New_York] and Timestamp\n"
          ]
        },
        {
          "output_type": "stream",
          "name": "stderr",
          "text": [
            "\r배당 수집:  56%|█████▋    | 277/491 [05:15<04:37,  1.30s/it]"
          ]
        },
        {
          "output_type": "stream",
          "name": "stdout",
          "text": [
            "[WARN] dividends fetch fail: HSY (Hershey Company (The)) -> Invalid comparison between dtype=datetime64[ns, America/New_York] and Timestamp\n"
          ]
        },
        {
          "output_type": "stream",
          "name": "stderr",
          "text": [
            "\r배당 수집:  57%|█████▋    | 278/491 [05:18<06:02,  1.70s/it]"
          ]
        },
        {
          "output_type": "stream",
          "name": "stdout",
          "text": [
            "[WARN] dividends fetch fail: MDT (Medtronic) -> Invalid comparison between dtype=datetime64[ns, America/New_York] and Timestamp\n"
          ]
        },
        {
          "output_type": "stream",
          "name": "stderr",
          "text": [
            "\r배당 수집:  57%|█████▋    | 279/491 [05:19<05:27,  1.54s/it]"
          ]
        },
        {
          "output_type": "stream",
          "name": "stdout",
          "text": [
            "[WARN] dividends fetch fail: HWM (Howmet Aerospace) -> Invalid comparison between dtype=datetime64[ns, America/New_York] and Timestamp\n",
            "[WARN] dividends fetch fail: META (Meta Platforms) -> Invalid comparison between dtype=datetime64[ns, America/New_York] and Timestamp\n",
            "[WARN] dividends fetch fail: HRL (Hormel Foods) -> Invalid comparison between dtype=datetime64[ns, America/New_York] and Timestamp\n",
            "[WARN] dividends fetch fail: HON (Honeywell) -> Invalid comparison between dtype=datetime64[ns, America/New_York] and Timestamp\n",
            "[WARN] dividends fetch fail: HD (Home Depot (The)) -> Invalid comparison between dtype=datetime64[ns, America/New_York] and Timestamp\n"
          ]
        },
        {
          "output_type": "stream",
          "name": "stderr",
          "text": [
            "배당 수집:  57%|█████▋    | 282/491 [05:21<03:39,  1.05s/it]"
          ]
        },
        {
          "output_type": "stream",
          "name": "stdout",
          "text": [
            "[WARN] dividends fetch fail: MET (MetLife) -> Invalid comparison between dtype=datetime64[ns, America/New_York] and Timestamp\n",
            "[WARN] dividends fetch fail: HST (Host Hotels & Resorts) -> Invalid comparison between dtype=datetime64[ns, America/New_York] and Timestamp\n",
            "[WARN] dividends fetch fail: MRK (Merck & Co.) -> Invalid comparison between dtype=datetime64[ns, America/New_York] and Timestamp\n",
            "[WARN] dividends fetch fail: HUBB (Hubbell Incorporated) -> Invalid comparison between dtype=datetime64[ns, America/New_York] and Timestamp\n",
            "[WARN] dividends fetch fail: HUM (Humana) -> Invalid comparison between dtype=datetime64[ns, America/New_York] and Timestamp\n",
            "[WARN] dividends fetch fail: HII (Huntington Ingalls Industries) -> Invalid comparison between dtype=datetime64[ns, America/New_York] and Timestamp\n",
            "[WARN] dividends fetch fail: HPQ (HP Inc.) -> Invalid comparison between dtype=datetime64[ns, America/New_York] and Timestamp\n"
          ]
        },
        {
          "output_type": "stream",
          "name": "stderr",
          "text": [
            "\r배당 수집:  58%|█████▊    | 283/491 [05:24<04:46,  1.38s/it]"
          ]
        },
        {
          "output_type": "stream",
          "name": "stdout",
          "text": [
            "[WARN] dividends fetch fail: MGM (MGM Resorts) -> Invalid comparison between dtype=datetime64[ns, America/New_York] and Timestamp\n",
            "[WARN] dividends fetch fail: IEX (IDEX Corporation) -> Invalid comparison between dtype=datetime64[ns, America/New_York] and Timestamp\n"
          ]
        },
        {
          "output_type": "stream",
          "name": "stderr",
          "text": [
            "\r배당 수집:  58%|█████▊    | 284/491 [05:25<04:45,  1.38s/it]"
          ]
        },
        {
          "output_type": "stream",
          "name": "stdout",
          "text": [
            "[WARN] dividends fetch fail: MCHP (Microchip Technology) -> Invalid comparison between dtype=datetime64[ns, America/New_York] and Timestamp[WARN] dividends fetch fail: HBAN (Huntington Bancshares) -> Invalid comparison between dtype=datetime64[ns, America/New_York] and Timestamp\n",
            "\n"
          ]
        },
        {
          "output_type": "stream",
          "name": "stderr",
          "text": [
            "\r배당 수집:  58%|█████▊    | 285/491 [05:25<03:41,  1.07s/it]"
          ]
        },
        {
          "output_type": "stream",
          "name": "stdout",
          "text": [
            "[WARN] dividends fetch fail: IBM (IBM) -> Invalid comparison between dtype=datetime64[ns, America/New_York] and Timestamp\n",
            "[WARN] dividends fetch fail: IR (Ingersoll Rand) -> Invalid comparison between dtype=datetime64[ns, America/New_York] and Timestamp\n"
          ]
        },
        {
          "output_type": "stream",
          "name": "stderr",
          "text": [
            "배당 수집:  59%|█████▊    | 288/491 [05:27<02:26,  1.39it/s]"
          ]
        },
        {
          "output_type": "stream",
          "name": "stdout",
          "text": [
            "[WARN] dividends fetch fail: MU (Micron Technology) -> Invalid comparison between dtype=datetime64[ns, America/New_York] and Timestamp\n",
            "[WARN] dividends fetch fail: MSFT (Microsoft) -> Invalid comparison between dtype=datetime64[ns, America/New_York] and Timestamp\n",
            "[WARN] dividends fetch fail: ITW (Illinois Tool Works) -> Invalid comparison between dtype=datetime64[ns, America/New_York] and Timestamp\n"
          ]
        },
        {
          "output_type": "stream",
          "name": "stderr",
          "text": [
            "\r배당 수집:  59%|█████▉    | 289/491 [05:28<02:27,  1.37it/s]"
          ]
        },
        {
          "output_type": "stream",
          "name": "stdout",
          "text": [
            "[WARN] dividends fetch fail: ICE (Intercontinental Exchange) -> Invalid comparison between dtype=datetime64[ns, America/New_York] and Timestamp\n",
            "[WARN] dividends fetch fail: INTC (Intel) -> Invalid comparison between dtype=datetime64[ns, America/New_York] and Timestamp\n"
          ]
        },
        {
          "output_type": "stream",
          "name": "stderr",
          "text": [
            "\r배당 수집:  59%|█████▉    | 290/491 [05:29<03:06,  1.08it/s]"
          ]
        },
        {
          "output_type": "stream",
          "name": "stdout",
          "text": [
            "[WARN] dividends fetch fail: MAA (Mid-America Apartment Communities) -> Invalid comparison between dtype=datetime64[ns, America/New_York] and Timestamp\n",
            "[WARN] dividends fetch fail: IFF (International Flavors & Fragrances) -> Invalid comparison between dtype=datetime64[ns, America/New_York] and Timestamp\n"
          ]
        },
        {
          "output_type": "stream",
          "name": "stderr",
          "text": [
            "\r배당 수집:  59%|█████▉    | 291/491 [05:32<04:19,  1.30s/it]"
          ]
        },
        {
          "output_type": "stream",
          "name": "stdout",
          "text": [
            "[WARN] dividends fetch fail: IP (International Paper) -> Invalid comparison between dtype=datetime64[ns, America/New_York] and Timestamp\n",
            "[WARN] dividends fetch fail: INVH (Invitation Homes) -> Invalid comparison between dtype=datetime64[ns, America/New_York] and Timestamp\n",
            "[WARN] dividends fetch fail: IPG (Interpublic Group of Companies (The)) -> Invalid comparison between dtype=datetime64[ns, America/New_York] and Timestamp\n",
            "[WARN] dividends fetch fail: INTU (Intuit) -> Invalid comparison between dtype=datetime64[ns, America/New_York] and Timestamp\n",
            "[WARN] dividends fetch fail: MDLZ (Mondelez International) -> Invalid comparison between dtype=datetime64[ns, America/New_York] and Timestamp\n"
          ]
        },
        {
          "output_type": "stream",
          "name": "stderr",
          "text": [
            "\r배당 수집:  59%|█████▉    | 292/491 [05:33<04:16,  1.29s/it]"
          ]
        },
        {
          "output_type": "stream",
          "name": "stdout",
          "text": [
            "[WARN] dividends fetch fail: MPWR (Monolithic Power Systems) -> Invalid comparison between dtype=datetime64[ns, America/New_York] and Timestamp\n"
          ]
        },
        {
          "output_type": "stream",
          "name": "stderr",
          "text": [
            "\r배당 수집:  60%|█████▉    | 293/491 [05:34<04:09,  1.26s/it]"
          ]
        },
        {
          "output_type": "stream",
          "name": "stdout",
          "text": [
            "[WARN] dividends fetch fail: IRM (Iron Mountain) -> Invalid comparison between dtype=datetime64[ns, America/New_York] and Timestamp[WARN] dividends fetch fail: IVZ (Invesco) -> Invalid comparison between dtype=datetime64[ns, America/New_York] and Timestamp\n",
            "\n",
            "[WARN] dividends fetch fail: TAP (Molson Coors Beverage Company) -> Invalid comparison between dtype=datetime64[ns, America/New_York] and Timestamp\n"
          ]
        },
        {
          "output_type": "stream",
          "name": "stderr",
          "text": [
            "\r배당 수집:  60%|█████▉    | 294/491 [05:35<03:56,  1.20s/it]"
          ]
        },
        {
          "output_type": "stream",
          "name": "stdout",
          "text": [
            "[WARN] dividends fetch fail: MNST (Monster Beverage) -> Invalid comparison between dtype=datetime64[ns, America/New_York] and Timestamp\n",
            "[WARN] dividends fetch fail: JBL (Jabil) -> Invalid comparison between dtype=datetime64[ns, America/New_York] and Timestamp\n",
            "[WARN] dividends fetch fail: JBHT (J.B. Hunt) -> Invalid comparison between dtype=datetime64[ns, America/New_York] and Timestamp\n",
            "[WARN] dividends fetch fail: MCO (Moody's Corporation) -> Invalid comparison between dtype=datetime64[ns, America/New_York] and Timestamp\n"
          ]
        },
        {
          "output_type": "stream",
          "name": "stderr",
          "text": [
            "\r배당 수집:  60%|██████    | 295/491 [05:36<03:50,  1.18s/it]"
          ]
        },
        {
          "output_type": "stream",
          "name": "stdout",
          "text": [
            "[WARN] dividends fetch fail: JCI (Johnson Controls) -> Invalid comparison between dtype=datetime64[ns, America/New_York] and Timestamp\n",
            "[WARN] dividends fetch fail: J (Jacobs Solutions) -> Invalid comparison between dtype=datetime64[ns, America/New_York] and Timestamp[WARN] dividends fetch fail: JKHY (Jack Henry & Associates) -> Invalid comparison between dtype=datetime64[ns, America/New_York] and Timestamp\n",
            "\n"
          ]
        },
        {
          "output_type": "stream",
          "name": "stderr",
          "text": [
            "\r배당 수집:  60%|██████    | 296/491 [05:38<04:04,  1.25s/it]"
          ]
        },
        {
          "output_type": "stream",
          "name": "stdout",
          "text": [
            "[WARN] dividends fetch fail: MS (Morgan Stanley) -> Invalid comparison between dtype=datetime64[ns, America/New_York] and Timestamp\n",
            "[WARN] dividends fetch fail: JNJ (Johnson & Johnson) -> Invalid comparison between dtype=datetime64[ns, America/New_York] and Timestamp\n",
            "[WARN] dividends fetch fail: KVUE (Kenvue) -> Invalid comparison between dtype=datetime64[ns, America/New_York] and Timestamp\n"
          ]
        },
        {
          "output_type": "stream",
          "name": "stderr",
          "text": [
            "\r배당 수집:  60%|██████    | 297/491 [05:39<04:34,  1.42s/it]"
          ]
        },
        {
          "output_type": "stream",
          "name": "stdout",
          "text": [
            "[WARN] dividends fetch fail: MOS (Mosaic Company (The)) -> Invalid comparison between dtype=datetime64[ns, America/New_York] and Timestamp\n",
            "[WARN] dividends fetch fail: JPM (JPMorgan Chase) -> Invalid comparison between dtype=datetime64[ns, America/New_York] and Timestamp\n",
            "[WARN] dividends fetch fail: K (Kellanova) -> Invalid comparison between dtype=datetime64[ns, America/New_York] and Timestamp\n",
            "[WARN] dividends fetch fail: KDP (Keurig Dr Pepper) -> Invalid comparison between dtype=datetime64[ns, America/New_York] and Timestamp\n"
          ]
        },
        {
          "output_type": "stream",
          "name": "stderr",
          "text": [
            "\r배당 수집:  61%|██████    | 298/491 [05:41<04:17,  1.33s/it]"
          ]
        },
        {
          "output_type": "stream",
          "name": "stdout",
          "text": [
            "[WARN] dividends fetch fail: MSCI (MSCI Inc.) -> Invalid comparison between dtype=datetime64[ns, America/New_York] and Timestamp\n"
          ]
        },
        {
          "output_type": "stream",
          "name": "stderr",
          "text": [
            "\r배당 수집:  61%|██████    | 299/491 [05:42<04:10,  1.31s/it]"
          ]
        },
        {
          "output_type": "stream",
          "name": "stdout",
          "text": [
            "[WARN] dividends fetch fail: KEY (KeyCorp) -> Invalid comparison between dtype=datetime64[ns, America/New_York] and Timestamp\n",
            "[WARN] dividends fetch fail: KMI (Kinder Morgan) -> Invalid comparison between dtype=datetime64[ns, America/New_York] and Timestamp\n"
          ]
        },
        {
          "output_type": "stream",
          "name": "stderr",
          "text": [
            "\r배당 수집:  61%|██████    | 300/491 [05:43<03:39,  1.15s/it]"
          ]
        },
        {
          "output_type": "stream",
          "name": "stdout",
          "text": [
            "[WARN] dividends fetch fail: MSI (Motorola Solutions) -> Invalid comparison between dtype=datetime64[ns, America/New_York] and Timestamp\n"
          ]
        },
        {
          "output_type": "stream",
          "name": "stderr",
          "text": [
            "\r배당 수집:  61%|██████▏   | 301/491 [05:43<03:06,  1.02it/s]"
          ]
        },
        {
          "output_type": "stream",
          "name": "stdout",
          "text": [
            "[WARN] dividends fetch fail: KMB (Kimberly-Clark) -> Invalid comparison between dtype=datetime64[ns, America/New_York] and Timestamp\n",
            "[WARN] dividends fetch fail: NDAQ (Nasdaq, Inc.) -> Invalid comparison between dtype=datetime64[ns, America/New_York] and Timestamp\n",
            "[WARN] dividends fetch fail: KKR (KKR & Co.) -> Invalid comparison between dtype=datetime64[ns, America/New_York] and Timestamp\n",
            "[WARN] dividends fetch fail: KIM (Kimco Realty) -> Invalid comparison between dtype=datetime64[ns, America/New_York] and Timestamp\n",
            "[WARN] dividends fetch fail: KHC (Kraft Heinz) -> Invalid comparison between dtype=datetime64[ns, America/New_York] and Timestamp\n"
          ]
        },
        {
          "output_type": "stream",
          "name": "stderr",
          "text": [
            "\r배당 수집:  62%|██████▏   | 302/491 [05:44<03:18,  1.05s/it]"
          ]
        },
        {
          "output_type": "stream",
          "name": "stdout",
          "text": [
            "[WARN] dividends fetch fail: NTAP (NetApp) -> Invalid comparison between dtype=datetime64[ns, America/New_York] and Timestamp\n"
          ]
        },
        {
          "output_type": "stream",
          "name": "stderr",
          "text": [
            "\r배당 수집:  62%|██████▏   | 303/491 [05:46<04:10,  1.33s/it]"
          ]
        },
        {
          "output_type": "stream",
          "name": "stdout",
          "text": [
            "[WARN] dividends fetch fail: NWSA (News Corp (Class A)) -> Invalid comparison between dtype=datetime64[ns, America/New_York] and Timestamp\n",
            "[WARN] dividends fetch fail: KLAC (KLA Corporation) -> Invalid comparison between dtype=datetime64[ns, America/New_York] and Timestamp\n",
            "[WARN] dividends fetch fail: KR (Kroger) -> Invalid comparison between dtype=datetime64[ns, America/New_York] and Timestamp\n"
          ]
        },
        {
          "output_type": "stream",
          "name": "stderr",
          "text": [
            "\r배당 수집:  62%|██████▏   | 304/491 [05:47<03:29,  1.12s/it]"
          ]
        },
        {
          "output_type": "stream",
          "name": "stdout",
          "text": [
            "[WARN] dividends fetch fail: LW (Lamb Weston) -> Invalid comparison between dtype=datetime64[ns, America/New_York] and Timestamp\n",
            "[WARN] dividends fetch fail: NWS (News Corp (Class B)) -> Invalid comparison between dtype=datetime64[ns, America/New_York] and Timestamp\n",
            "[WARN] dividends fetch fail: LH (Labcorp) -> Invalid comparison between dtype=datetime64[ns, America/New_York] and Timestamp\n",
            "[WARN] dividends fetch fail: LVS (Las Vegas Sands) -> Invalid comparison between dtype=datetime64[ns, America/New_York] and Timestamp\n"
          ]
        },
        {
          "output_type": "stream",
          "name": "stderr",
          "text": [
            "\r배당 수집:  62%|██████▏   | 305/491 [05:49<03:57,  1.28s/it]"
          ]
        },
        {
          "output_type": "stream",
          "name": "stdout",
          "text": [
            "[WARN] dividends fetch fail: NEM (Newmont) -> Invalid comparison between dtype=datetime64[ns, America/New_York] and Timestamp\n",
            "[WARN] dividends fetch fail: LDOS (Leidos) -> Invalid comparison between dtype=datetime64[ns, America/New_York] and Timestamp\n",
            "[WARN] dividends fetch fail: LHX (L3Harris) -> Invalid comparison between dtype=datetime64[ns, America/New_York] and Timestamp\n",
            "[WARN] dividends fetch fail: LRCX (Lam Research) -> Invalid comparison between dtype=datetime64[ns, America/New_York] and Timestamp\n"
          ]
        },
        {
          "output_type": "stream",
          "name": "stderr",
          "text": [
            "\r배당 수집:  62%|██████▏   | 306/491 [05:51<04:46,  1.55s/it]"
          ]
        },
        {
          "output_type": "stream",
          "name": "stdout",
          "text": [
            "[WARN] dividends fetch fail: NEE (NextEra Energy) -> Invalid comparison between dtype=datetime64[ns, America/New_York] and Timestamp\n",
            "[WARN] dividends fetch fail: LII (Lennox International) -> Invalid comparison between dtype=datetime64[ns, America/New_York] and Timestamp\n"
          ]
        },
        {
          "output_type": "stream",
          "name": "stderr",
          "text": [
            "\r배당 수집:  63%|██████▎   | 307/491 [05:51<03:43,  1.22s/it]"
          ]
        },
        {
          "output_type": "stream",
          "name": "stdout",
          "text": [
            "[WARN] dividends fetch fail: NKE (Nike, Inc.) -> Invalid comparison between dtype=datetime64[ns, America/New_York] and Timestamp\n",
            "[WARN] dividends fetch fail: LEN (Lennar) -> Invalid comparison between dtype=datetime64[ns, America/New_York] and Timestamp\n",
            "[WARN] dividends fetch fail: LIN (Linde plc) -> Invalid comparison between dtype=datetime64[ns, America/New_York] and Timestamp\n",
            "[WARN] dividends fetch fail: LLY (Lilly (Eli)) -> Invalid comparison between dtype=datetime64[ns, America/New_York] and Timestamp\n",
            "[WARN] dividends fetch fail: LKQ (LKQ Corporation) -> Invalid comparison between dtype=datetime64[ns, America/New_York] and Timestamp\n"
          ]
        },
        {
          "output_type": "stream",
          "name": "stderr",
          "text": [
            "\r배당 수집:  63%|██████▎   | 308/491 [05:54<04:36,  1.51s/it]"
          ]
        },
        {
          "output_type": "stream",
          "name": "stdout",
          "text": [
            "[WARN] dividends fetch fail: NI (NiSource) -> Invalid comparison between dtype=datetime64[ns, America/New_York] and Timestamp\n",
            "[WARN] dividends fetch fail: NDSN (Nordson Corporation) -> Invalid comparison between dtype=datetime64[ns, America/New_York] and Timestamp\n"
          ]
        },
        {
          "output_type": "stream",
          "name": "stderr",
          "text": [
            "\r배당 수집:  63%|██████▎   | 310/491 [05:54<02:46,  1.09it/s]"
          ]
        },
        {
          "output_type": "stream",
          "name": "stdout",
          "text": [
            "[WARN] dividends fetch fail: L (Loews Corporation) -> Invalid comparison between dtype=datetime64[ns, America/New_York] and Timestamp\n",
            "[WARN] dividends fetch fail: LOW (Lowe's) -> Invalid comparison between dtype=datetime64[ns, America/New_York] and Timestamp\n",
            "[WARN] dividends fetch fail: LMT (Lockheed Martin) -> Invalid comparison between dtype=datetime64[ns, America/New_York] and Timestamp\n",
            "[WARN] dividends fetch fail: LYB (LyondellBasell) -> Invalid comparison between dtype=datetime64[ns, America/New_York] and Timestamp\n",
            "[WARN] dividends fetch fail: MPC (Marathon Petroleum) -> Invalid comparison between dtype=datetime64[ns, America/New_York] and Timestamp\n"
          ]
        },
        {
          "output_type": "stream",
          "name": "stderr",
          "text": [
            "\r배당 수집:  63%|██████▎   | 311/491 [05:58<05:18,  1.77s/it]"
          ]
        },
        {
          "output_type": "stream",
          "name": "stdout",
          "text": [
            "[WARN] dividends fetch fail: NTRS (Northern Trust) -> Invalid comparison between dtype=datetime64[ns, America/New_York] and Timestamp\n",
            "[WARN] dividends fetch fail: MKTX (MarketAxess) -> Invalid comparison between dtype=datetime64[ns, America/New_York] and Timestamp\n",
            "[WARN] dividends fetch fail: MAR (Marriott International) -> Invalid comparison between dtype=datetime64[ns, America/New_York] and Timestamp\n",
            "[WARN] dividends fetch fail: NSC (Norfolk Southern) -> Invalid comparison between dtype=datetime64[ns, America/New_York] and Timestamp\n",
            "[WARN] dividends fetch fail: MTB (M&T Bank) -> Invalid comparison between dtype=datetime64[ns, America/New_York] and Timestamp\n"
          ]
        },
        {
          "output_type": "stream",
          "name": "stderr",
          "text": [
            "\r배당 수집:  64%|██████▎   | 313/491 [06:00<04:09,  1.40s/it]"
          ]
        },
        {
          "output_type": "stream",
          "name": "stdout",
          "text": [
            "[WARN] dividends fetch fail: NRG (NRG Energy) -> Invalid comparison between dtype=datetime64[ns, America/New_York] and Timestamp\n"
          ]
        },
        {
          "output_type": "stream",
          "name": "stderr",
          "text": [
            "\r배당 수집:  64%|██████▍   | 314/491 [06:01<03:33,  1.20s/it]"
          ]
        },
        {
          "output_type": "stream",
          "name": "stdout",
          "text": [
            "[WARN] dividends fetch fail: NOC (Northrop Grumman) -> Invalid comparison between dtype=datetime64[ns, America/New_York] and Timestamp\n",
            "[WARN] dividends fetch fail: MLM (Martin Marietta Materials) -> Invalid comparison between dtype=datetime64[ns, America/New_York] and Timestamp\n",
            "[WARN] dividends fetch fail: MAS (Masco) -> Invalid comparison between dtype=datetime64[ns, America/New_York] and Timestamp\n",
            "[WARN] dividends fetch fail: MA (Mastercard) -> Invalid comparison between dtype=datetime64[ns, America/New_York] and Timestamp\n",
            "[WARN] dividends fetch fail: MMC (Marsh McLennan) -> Invalid comparison between dtype=datetime64[ns, America/New_York] and Timestamp\n"
          ]
        },
        {
          "output_type": "stream",
          "name": "stderr",
          "text": [
            "\r배당 수집:  64%|██████▍   | 315/491 [06:03<04:16,  1.46s/it]"
          ]
        },
        {
          "output_type": "stream",
          "name": "stdout",
          "text": [
            "[WARN] dividends fetch fail: NVDA (Nvidia) -> Invalid comparison between dtype=datetime64[ns, America/New_York] and Timestamp[WARN] dividends fetch fail: MTCH (Match Group) -> Invalid comparison between dtype=datetime64[ns, America/New_York] and Timestamp\n",
            "\n",
            "[WARN] dividends fetch fail: MCK (McKesson Corporation) -> Invalid comparison between dtype=datetime64[ns, America/New_York] and Timestamp\n"
          ]
        },
        {
          "output_type": "stream",
          "name": "stderr",
          "text": [
            "배당 수집:  65%|██████▍   | 317/491 [06:04<03:14,  1.12s/it]"
          ]
        },
        {
          "output_type": "stream",
          "name": "stdout",
          "text": [
            "[WARN] dividends fetch fail: NXPI (NXP Semiconductors) -> Invalid comparison between dtype=datetime64[ns, America/New_York] and Timestamp\n",
            "[WARN] dividends fetch fail: MKC (McCormick & Company) -> Invalid comparison between dtype=datetime64[ns, America/New_York] and Timestamp\n"
          ]
        },
        {
          "output_type": "stream",
          "name": "stderr",
          "text": [
            "\r배당 수집:  65%|██████▍   | 318/491 [06:05<02:49,  1.02it/s]"
          ]
        },
        {
          "output_type": "stream",
          "name": "stdout",
          "text": [
            "[WARN] dividends fetch fail: NUE (Nucor) -> Invalid comparison between dtype=datetime64[ns, America/New_York] and Timestamp\n",
            "[WARN] dividends fetch fail: NVR (NVR, Inc.) -> Invalid comparison between dtype=datetime64[ns, America/New_York] and Timestamp\n",
            "[WARN] dividends fetch fail: MCD (McDonald's) -> Invalid comparison between dtype=datetime64[ns, America/New_York] and Timestamp\n",
            "[WARN] dividends fetch fail: META (Meta Platforms) -> Invalid comparison between dtype=datetime64[ns, America/New_York] and Timestamp\n"
          ]
        },
        {
          "output_type": "stream",
          "name": "stderr",
          "text": [
            "\r배당 수집:  65%|██████▌   | 320/491 [06:06<02:06,  1.35it/s]"
          ]
        },
        {
          "output_type": "stream",
          "name": "stdout",
          "text": [
            "[WARN] dividends fetch fail: MDT (Medtronic) -> Invalid comparison between dtype=datetime64[ns, America/New_York] and Timestamp\n",
            "[WARN] dividends fetch fail: MET (MetLife) -> Invalid comparison between dtype=datetime64[ns, America/New_York] and Timestamp\n",
            "[WARN] dividends fetch fail: MGM (MGM Resorts) -> Invalid comparison between dtype=datetime64[ns, America/New_York] and Timestamp\n",
            "[WARN] dividends fetch fail: MRK (Merck & Co.) -> Invalid comparison between dtype=datetime64[ns, America/New_York] and Timestamp\n"
          ]
        },
        {
          "output_type": "stream",
          "name": "stderr",
          "text": [
            "\r배당 수집:  65%|██████▌   | 321/491 [06:09<03:55,  1.38s/it]"
          ]
        },
        {
          "output_type": "stream",
          "name": "stdout",
          "text": [
            "[WARN] dividends fetch fail: ODFL (Old Dominion) -> Invalid comparison between dtype=datetime64[ns, America/New_York] and Timestamp\n"
          ]
        },
        {
          "output_type": "stream",
          "name": "stderr",
          "text": [
            "\r배당 수집:  66%|██████▌   | 322/491 [06:10<03:28,  1.23s/it]"
          ]
        },
        {
          "output_type": "stream",
          "name": "stdout",
          "text": [
            "[WARN] dividends fetch fail: OXY (Occidental Petroleum) -> Invalid comparison between dtype=datetime64[ns, America/New_York] and Timestamp\n",
            "[WARN] dividends fetch fail: MCHP (Microchip Technology) -> Invalid comparison between dtype=datetime64[ns, America/New_York] and Timestamp\n",
            "[WARN] dividends fetch fail: MU (Micron Technology) -> Invalid comparison between dtype=datetime64[ns, America/New_York] and Timestamp\n",
            "[WARN] dividends fetch fail: MAA (Mid-America Apartment Communities) -> Invalid comparison between dtype=datetime64[ns, America/New_York] and Timestamp\n",
            "[WARN] dividends fetch fail: MSFT (Microsoft) -> Invalid comparison between dtype=datetime64[ns, America/New_York] and Timestamp\n",
            "[WARN] dividends fetch fail: MPWR (Monolithic Power Systems) -> Invalid comparison between dtype=datetime64[ns, America/New_York] and Timestamp\n",
            "[WARN] dividends fetch fail: MDLZ (Mondelez International) -> Invalid comparison between dtype=datetime64[ns, America/New_York] and Timestamp\n"
          ]
        },
        {
          "output_type": "stream",
          "name": "stderr",
          "text": [
            "\r배당 수집:  66%|██████▌   | 323/491 [06:13<04:38,  1.66s/it]"
          ]
        },
        {
          "output_type": "stream",
          "name": "stdout",
          "text": [
            "[WARN] dividends fetch fail: OKE (Oneok) -> Invalid comparison between dtype=datetime64[ns, America/New_York] and Timestamp\n"
          ]
        },
        {
          "output_type": "stream",
          "name": "stderr",
          "text": [
            "\r배당 수집:  66%|██████▌   | 324/491 [06:13<03:38,  1.31s/it]"
          ]
        },
        {
          "output_type": "stream",
          "name": "stdout",
          "text": [
            "[WARN] dividends fetch fail: OMC (Omnicom Group) -> Invalid comparison between dtype=datetime64[ns, America/New_York] and Timestamp\n",
            "[WARN] dividends fetch fail: OTIS (Otis Worldwide) -> Invalid comparison between dtype=datetime64[ns, America/New_York] and Timestamp\n"
          ]
        },
        {
          "output_type": "stream",
          "name": "stderr",
          "text": [
            "배당 수집:  67%|██████▋   | 327/491 [06:14<01:52,  1.46it/s]"
          ]
        },
        {
          "output_type": "stream",
          "name": "stdout",
          "text": [
            "[WARN] dividends fetch fail: ORCL (Oracle Corporation) -> Invalid comparison between dtype=datetime64[ns, America/New_York] and Timestamp\n",
            "[WARN] dividends fetch fail: MNST (Monster Beverage) -> Invalid comparison between dtype=datetime64[ns, America/New_York] and Timestamp\n",
            "[WARN] dividends fetch fail: TAP (Molson Coors Beverage Company) -> Invalid comparison between dtype=datetime64[ns, America/New_York] and Timestamp\n"
          ]
        },
        {
          "output_type": "stream",
          "name": "stderr",
          "text": [
            "\r배당 수집:  67%|██████▋   | 328/491 [06:15<01:42,  1.59it/s]"
          ]
        },
        {
          "output_type": "stream",
          "name": "stdout",
          "text": [
            "[WARN] dividends fetch fail: MS (Morgan Stanley) -> Invalid comparison between dtype=datetime64[ns, America/New_York] and Timestamp\n",
            "[WARN] dividends fetch fail: MOS (Mosaic Company (The)) -> Invalid comparison between dtype=datetime64[ns, America/New_York] and Timestamp\n",
            "[WARN] dividends fetch fail: MSCI (MSCI Inc.) -> Invalid comparison between dtype=datetime64[ns, America/New_York] and Timestamp\n",
            "[WARN] dividends fetch fail: NDAQ (Nasdaq, Inc.) -> Invalid comparison between dtype=datetime64[ns, America/New_York] and Timestamp\n",
            "[WARN] dividends fetch fail: MSI (Motorola Solutions) -> Invalid comparison between dtype=datetime64[ns, America/New_York] and Timestamp\n"
          ]
        },
        {
          "output_type": "stream",
          "name": "stderr",
          "text": [
            "\r배당 수집:  67%|██████▋   | 329/491 [06:18<03:47,  1.41s/it]"
          ]
        },
        {
          "output_type": "stream",
          "name": "stdout",
          "text": [
            "[WARN] dividends fetch fail: PCAR (Paccar) -> Invalid comparison between dtype=datetime64[ns, America/New_York] and Timestamp\n",
            "[WARN] dividends fetch fail: MCO (Moody's Corporation) -> Invalid comparison between dtype=datetime64[ns, America/New_York] and Timestamp\n",
            "[WARN] dividends fetch fail: NTAP (NetApp) -> Invalid comparison between dtype=datetime64[ns, America/New_York] and Timestamp\n",
            "[WARN] dividends fetch fail: NWSA (News Corp (Class A)) -> Invalid comparison between dtype=datetime64[ns, America/New_York] and Timestamp\n"
          ]
        },
        {
          "output_type": "stream",
          "name": "stderr",
          "text": [
            "\r배당 수집:  67%|██████▋   | 330/491 [06:19<03:09,  1.18s/it]"
          ]
        },
        {
          "output_type": "stream",
          "name": "stdout",
          "text": [
            "[WARN] dividends fetch fail: PKG (Packaging Corporation of America) -> Invalid comparison between dtype=datetime64[ns, America/New_York] and Timestamp\n"
          ]
        },
        {
          "output_type": "stream",
          "name": "stderr",
          "text": [
            "배당 수집:  68%|██████▊   | 332/491 [06:19<01:58,  1.34it/s]"
          ]
        },
        {
          "output_type": "stream",
          "name": "stdout",
          "text": [
            "[WARN] dividends fetch fail: PH (Parker Hannifin) -> Invalid comparison between dtype=datetime64[ns, America/New_York] and Timestamp\n",
            "[WARN] dividends fetch fail: NWS (News Corp (Class B)) -> Invalid comparison between dtype=datetime64[ns, America/New_York] and Timestamp\n"
          ]
        },
        {
          "output_type": "stream",
          "name": "stderr",
          "text": [
            "\r배당 수집:  68%|██████▊   | 333/491 [06:21<02:28,  1.06it/s]"
          ]
        },
        {
          "output_type": "stream",
          "name": "stdout",
          "text": [
            "[WARN] dividends fetch fail: PAYX (Paychex) -> Invalid comparison between dtype=datetime64[ns, America/New_York] and Timestamp\n",
            "[WARN] dividends fetch fail: NEM (Newmont) -> Invalid comparison between dtype=datetime64[ns, America/New_York] and Timestamp\n"
          ]
        },
        {
          "output_type": "stream",
          "name": "stderr",
          "text": [
            "\r배당 수집:  68%|██████▊   | 334/491 [06:23<03:35,  1.37s/it]"
          ]
        },
        {
          "output_type": "stream",
          "name": "stdout",
          "text": [
            "[WARN] dividends fetch fail: PAYC (Paycom) -> Invalid comparison between dtype=datetime64[ns, America/New_York] and Timestamp\n",
            "[WARN] dividends fetch fail: NKE (Nike, Inc.) -> Invalid comparison between dtype=datetime64[ns, America/New_York] and Timestamp\n",
            "[WARN] dividends fetch fail: NEE (NextEra Energy) -> Invalid comparison between dtype=datetime64[ns, America/New_York] and Timestamp\n",
            "[WARN] dividends fetch fail: NI (NiSource) -> Invalid comparison between dtype=datetime64[ns, America/New_York] and Timestamp\n",
            "[WARN] dividends fetch fail: NTRS (Northern Trust) -> Invalid comparison between dtype=datetime64[ns, America/New_York] and Timestamp\n",
            "[WARN] dividends fetch fail: NDSN (Nordson Corporation) -> Invalid comparison between dtype=datetime64[ns, America/New_York] and Timestamp\n",
            "[WARN] dividends fetch fail: NSC (Norfolk Southern) -> Invalid comparison between dtype=datetime64[ns, America/New_York] and Timestamp\n"
          ]
        },
        {
          "output_type": "stream",
          "name": "stderr",
          "text": [
            "배당 수집:  68%|██████▊   | 336/491 [06:28<04:09,  1.61s/it]"
          ]
        },
        {
          "output_type": "stream",
          "name": "stdout",
          "text": [
            "[WARN] dividends fetch fail: PNR (Pentair) -> Invalid comparison between dtype=datetime64[ns, America/New_York] and Timestamp\n",
            "[WARN] dividends fetch fail: PEP (PepsiCo) -> Invalid comparison between dtype=datetime64[ns, America/New_York] and Timestamp\n",
            "[WARN] dividends fetch fail: NOC (Northrop Grumman) -> Invalid comparison between dtype=datetime64[ns, America/New_York] and Timestamp\n"
          ]
        },
        {
          "output_type": "stream",
          "name": "stderr",
          "text": [
            "\r배당 수집:  69%|██████▊   | 337/491 [06:28<03:25,  1.33s/it]"
          ]
        },
        {
          "output_type": "stream",
          "name": "stdout",
          "text": [
            "[WARN] dividends fetch fail: PFE (Pfizer) -> Invalid comparison between dtype=datetime64[ns, America/New_York] and Timestamp\n",
            "[WARN] dividends fetch fail: NVDA (Nvidia) -> Invalid comparison between dtype=datetime64[ns, America/New_York] and Timestamp\n"
          ]
        },
        {
          "output_type": "stream",
          "name": "stderr",
          "text": [
            "\r배당 수집:  69%|██████▉   | 338/491 [06:29<02:53,  1.13s/it]"
          ]
        },
        {
          "output_type": "stream",
          "name": "stdout",
          "text": [
            "[WARN] dividends fetch fail: PCG (PG&E Corporation) -> Invalid comparison between dtype=datetime64[ns, America/New_York] and Timestamp\n",
            "[WARN] dividends fetch fail: NUE (Nucor) -> Invalid comparison between dtype=datetime64[ns, America/New_York] and Timestamp\n",
            "[WARN] dividends fetch fail: NVR (NVR, Inc.) -> Invalid comparison between dtype=datetime64[ns, America/New_York] and Timestamp\n",
            "[WARN] dividends fetch fail: NXPI (NXP Semiconductors) -> Invalid comparison between dtype=datetime64[ns, America/New_York] and Timestamp\n"
          ]
        },
        {
          "output_type": "stream",
          "name": "stderr",
          "text": [
            "\r배당 수집:  69%|██████▉   | 339/491 [06:31<03:26,  1.36s/it]"
          ]
        },
        {
          "output_type": "stream",
          "name": "stdout",
          "text": [
            "[WARN] dividends fetch fail: PM (Philip Morris International) -> Invalid comparison between dtype=datetime64[ns, America/New_York] and Timestamp\n",
            "[WARN] dividends fetch fail: PSX (Phillips 66) -> Invalid comparison between dtype=datetime64[ns, America/New_York] and Timestamp\n",
            "[WARN] dividends fetch fail: NRG (NRG Energy) -> Invalid comparison between dtype=datetime64[ns, America/New_York] and Timestamp\n",
            "[WARN] dividends fetch fail: ODFL (Old Dominion) -> Invalid comparison between dtype=datetime64[ns, America/New_York] and Timestamp\n",
            "[WARN] dividends fetch fail: OXY (Occidental Petroleum) -> Invalid comparison between dtype=datetime64[ns, America/New_York] and Timestamp\n",
            "[WARN] dividends fetch fail: OMC (Omnicom Group) -> Invalid comparison between dtype=datetime64[ns, America/New_York] and Timestamp\n",
            "[WARN] dividends fetch fail: OTIS (Otis Worldwide) -> Invalid comparison between dtype=datetime64[ns, America/New_York] and Timestamp\n"
          ]
        },
        {
          "output_type": "stream",
          "name": "stderr",
          "text": [
            "\r배당 수집:  69%|██████▉   | 341/491 [06:34<03:44,  1.50s/it]"
          ]
        },
        {
          "output_type": "stream",
          "name": "stdout",
          "text": [
            "[WARN] dividends fetch fail: PNW (Pinnacle West Capital) -> Invalid comparison between dtype=datetime64[ns, America/New_York] and Timestamp\n",
            "[WARN] dividends fetch fail: ORCL (Oracle Corporation) -> Invalid comparison between dtype=datetime64[ns, America/New_York] and Timestamp\n",
            "[WARN] dividends fetch fail: OKE (Oneok) -> Invalid comparison between dtype=datetime64[ns, America/New_York] and Timestamp\n"
          ]
        },
        {
          "output_type": "stream",
          "name": "stderr",
          "text": [
            "\r배당 수집:  70%|██████▉   | 342/491 [06:36<04:01,  1.62s/it]"
          ]
        },
        {
          "output_type": "stream",
          "name": "stdout",
          "text": [
            "[WARN] dividends fetch fail: PNC (PNC Financial Services) -> Invalid comparison between dtype=datetime64[ns, America/New_York] and Timestamp\n"
          ]
        },
        {
          "output_type": "stream",
          "name": "stderr",
          "text": [
            "\r배당 수집:  70%|██████▉   | 343/491 [06:37<03:18,  1.34s/it]"
          ]
        },
        {
          "output_type": "stream",
          "name": "stdout",
          "text": [
            "[WARN] dividends fetch fail: POOL (Pool Corporation) -> Invalid comparison between dtype=datetime64[ns, America/New_York] and Timestamp\n",
            "[WARN] dividends fetch fail: PCAR (Paccar) -> Invalid comparison between dtype=datetime64[ns, America/New_York] and Timestamp\n",
            "[WARN] dividends fetch fail: PAYC (Paycom) -> Invalid comparison between dtype=datetime64[ns, America/New_York] and Timestamp\n",
            "[WARN] dividends fetch fail: PKG (Packaging Corporation of America) -> Invalid comparison between dtype=datetime64[ns, America/New_York] and Timestamp\n"
          ]
        },
        {
          "output_type": "stream",
          "name": "stderr",
          "text": [
            "\r배당 수집:  70%|███████   | 344/491 [06:38<03:03,  1.25s/it]"
          ]
        },
        {
          "output_type": "stream",
          "name": "stdout",
          "text": [
            "[WARN] dividends fetch fail: PPG (PPG Industries) -> Invalid comparison between dtype=datetime64[ns, America/New_York] and Timestamp\n",
            "[WARN] dividends fetch fail: PH (Parker Hannifin) -> Invalid comparison between dtype=datetime64[ns, America/New_York] and Timestamp\n",
            "[WARN] dividends fetch fail: PAYX (Paychex) -> Invalid comparison between dtype=datetime64[ns, America/New_York] and Timestamp\n",
            "[WARN] dividends fetch fail: PNR (Pentair) -> Invalid comparison between dtype=datetime64[ns, America/New_York] and Timestamp\n"
          ]
        },
        {
          "output_type": "stream",
          "name": "stderr",
          "text": [
            "\r배당 수집:  70%|███████   | 345/491 [06:39<03:21,  1.38s/it]"
          ]
        },
        {
          "output_type": "stream",
          "name": "stdout",
          "text": [
            "[WARN] dividends fetch fail: PPL (PPL Corporation) -> Invalid comparison between dtype=datetime64[ns, America/New_York] and Timestamp\n",
            "[WARN] dividends fetch fail: PEP (PepsiCo) -> Invalid comparison between dtype=datetime64[ns, America/New_York] and Timestamp\n",
            "[WARN] dividends fetch fail: PSX (Phillips 66) -> Invalid comparison between dtype=datetime64[ns, America/New_York] and Timestamp\n",
            "[WARN] dividends fetch fail: PM (Philip Morris International) -> Invalid comparison between dtype=datetime64[ns, America/New_York] and Timestamp\n",
            "[WARN] dividends fetch fail: PFG (Principal Financial Group) -> Invalid comparison between dtype=datetime64[ns, America/New_York] and Timestamp\n"
          ]
        },
        {
          "output_type": "stream",
          "name": "stderr",
          "text": [
            "\r배당 수집:  70%|███████   | 346/491 [06:41<03:15,  1.35s/it]"
          ]
        },
        {
          "output_type": "stream",
          "name": "stdout",
          "text": [
            "[WARN] dividends fetch fail: PFE (Pfizer) -> Invalid comparison between dtype=datetime64[ns, America/New_York] and Timestamp\n"
          ]
        },
        {
          "output_type": "stream",
          "name": "stderr",
          "text": [
            "\r배당 수집:  71%|███████   | 347/491 [06:43<04:06,  1.71s/it]"
          ]
        },
        {
          "output_type": "stream",
          "name": "stdout",
          "text": [
            "[WARN] dividends fetch fail: PGR (Progressive Corporation) -> Invalid comparison between dtype=datetime64[ns, America/New_York] and Timestamp\n",
            "[WARN] dividends fetch fail: PG (Procter & Gamble) -> Invalid comparison between dtype=datetime64[ns, America/New_York] and Timestamp\n",
            "[WARN] dividends fetch fail: PNW (Pinnacle West Capital) -> Invalid comparison between dtype=datetime64[ns, America/New_York] and Timestamp\n",
            "[WARN] dividends fetch fail: POOL (Pool Corporation) -> Invalid comparison between dtype=datetime64[ns, America/New_York] and Timestamp\n"
          ]
        },
        {
          "output_type": "stream",
          "name": "stderr",
          "text": [
            "배당 수집:  71%|███████▏  | 350/491 [06:44<02:11,  1.07it/s]"
          ]
        },
        {
          "output_type": "stream",
          "name": "stdout",
          "text": [
            "[WARN] dividends fetch fail: PRU (Prudential Financial) -> Invalid comparison between dtype=datetime64[ns, America/New_York] and Timestamp\n"
          ]
        },
        {
          "output_type": "stream",
          "name": "stderr",
          "text": [
            "\r배당 수집:  71%|███████▏  | 351/491 [06:45<01:55,  1.21it/s]"
          ]
        },
        {
          "output_type": "stream",
          "name": "stdout",
          "text": [
            "[WARN] dividends fetch fail: PNC (PNC Financial Services) -> Invalid comparison between dtype=datetime64[ns, America/New_York] and Timestamp\n",
            "[WARN] dividends fetch fail: PLD (Prologis) -> Invalid comparison between dtype=datetime64[ns, America/New_York] and Timestamp\n",
            "[WARN] dividends fetch fail: PCG (PG&E Corporation) -> Invalid comparison between dtype=datetime64[ns, America/New_York] and Timestamp\n",
            "[WARN] dividends fetch fail: PFG (Principal Financial Group) -> Invalid comparison between dtype=datetime64[ns, America/New_York] and Timestamp\n",
            "[WARN] dividends fetch fail: PPL (PPL Corporation) -> Invalid comparison between dtype=datetime64[ns, America/New_York] and Timestamp\n",
            "[WARN] dividends fetch fail: PPG (PPG Industries) -> Invalid comparison between dtype=datetime64[ns, America/New_York] and Timestamp\n",
            "[WARN] dividends fetch fail: PG (Procter & Gamble) -> Invalid comparison between dtype=datetime64[ns, America/New_York] and Timestamp\n",
            "[WARN] dividends fetch fail: PLD (Prologis) -> Invalid comparison between dtype=datetime64[ns, America/New_York] and Timestamp\n",
            "[WARN] dividends fetch fail: PGR (Progressive Corporation) -> Invalid comparison between dtype=datetime64[ns, America/New_York] and Timestamp\n"
          ]
        },
        {
          "output_type": "stream",
          "name": "stderr",
          "text": [
            "\r배당 수집:  72%|███████▏  | 352/491 [06:50<04:16,  1.85s/it]"
          ]
        },
        {
          "output_type": "stream",
          "name": "stdout",
          "text": [
            "[WARN] dividends fetch fail: PSA (Public Storage) -> Invalid comparison between dtype=datetime64[ns, America/New_York] and Timestamp\n",
            "[WARN] dividends fetch fail: PRU (Prudential Financial) -> Invalid comparison between dtype=datetime64[ns, America/New_York] and Timestamp\n"
          ]
        },
        {
          "output_type": "stream",
          "name": "stderr",
          "text": [
            "\r배당 수집:  72%|███████▏  | 353/491 [06:51<03:43,  1.62s/it]"
          ]
        },
        {
          "output_type": "stream",
          "name": "stdout",
          "text": [
            "[WARN] dividends fetch fail: PWR (Quanta Services) -> Invalid comparison between dtype=datetime64[ns, America/New_York] and Timestamp\n"
          ]
        },
        {
          "output_type": "stream",
          "name": "stderr",
          "text": [
            "\r배당 수집:  72%|███████▏  | 354/491 [06:51<02:51,  1.25s/it]"
          ]
        },
        {
          "output_type": "stream",
          "name": "stdout",
          "text": [
            "[WARN] dividends fetch fail: PHM (PulteGroup) -> Invalid comparison between dtype=datetime64[ns, America/New_York] and Timestamp\n",
            "[WARN] dividends fetch fail: PSA (Public Storage) -> Invalid comparison between dtype=datetime64[ns, America/New_York] and Timestamp\n",
            "[WARN] dividends fetch fail: PEG (Public Service Enterprise Group) -> Invalid comparison between dtype=datetime64[ns, America/New_York] and Timestamp\n",
            "[WARN] dividends fetch fail: PWR (Quanta Services) -> Invalid comparison between dtype=datetime64[ns, America/New_York] and Timestamp\n",
            "[WARN] dividends fetch fail: PHM (PulteGroup) -> Invalid comparison between dtype=datetime64[ns, America/New_York] and Timestamp\n"
          ]
        },
        {
          "output_type": "stream",
          "name": "stderr",
          "text": [
            "\r배당 수집:  72%|███████▏  | 355/491 [06:53<03:24,  1.50s/it]"
          ]
        },
        {
          "output_type": "stream",
          "name": "stdout",
          "text": [
            "[WARN] dividends fetch fail: PEG (Public Service Enterprise Group) -> Invalid comparison between dtype=datetime64[ns, America/New_York] and Timestamp\n",
            "[WARN] dividends fetch fail: QCOM (Qualcomm) -> Invalid comparison between dtype=datetime64[ns, America/New_York] and Timestamp\n",
            "[WARN] dividends fetch fail: DGX (Quest Diagnostics) -> Invalid comparison between dtype=datetime64[ns, America/New_York] and Timestamp\n",
            "[WARN] dividends fetch fail: RL (Ralph Lauren Corporation) -> Invalid comparison between dtype=datetime64[ns, America/New_York] and Timestamp\n"
          ]
        },
        {
          "output_type": "stream",
          "name": "stderr",
          "text": [
            "배당 수집:  73%|███████▎  | 357/491 [06:55<02:38,  1.18s/it]"
          ]
        },
        {
          "output_type": "stream",
          "name": "stdout",
          "text": [
            "[WARN] dividends fetch fail: QCOM (Qualcomm) -> Invalid comparison between dtype=datetime64[ns, America/New_York] and Timestamp\n",
            "[WARN] dividends fetch fail: DGX (Quest Diagnostics) -> Invalid comparison between dtype=datetime64[ns, America/New_York] and Timestamp\n"
          ]
        },
        {
          "output_type": "stream",
          "name": "stderr",
          "text": [
            "\r배당 수집:  73%|███████▎  | 358/491 [06:55<01:59,  1.12it/s]"
          ]
        },
        {
          "output_type": "stream",
          "name": "stdout",
          "text": [
            "[WARN] dividends fetch fail: RL (Ralph Lauren Corporation) -> Invalid comparison between dtype=datetime64[ns, America/New_York] and Timestamp\n",
            "[WARN] dividends fetch fail: RJF (Raymond James Financial) -> Invalid comparison between dtype=datetime64[ns, America/New_York] and Timestamp\n",
            "[WARN] dividends fetch fail: O (Realty Income) -> Invalid comparison between dtype=datetime64[ns, America/New_York] and Timestamp\n",
            "[WARN] dividends fetch fail: REG (Regency Centers) -> Invalid comparison between dtype=datetime64[ns, America/New_York] and Timestamp\n",
            "[WARN] dividends fetch fail: REGN (Regeneron Pharmaceuticals) -> Invalid comparison between dtype=datetime64[ns, America/New_York] and Timestamp\n",
            "[WARN] dividends fetch fail: RSG (Republic Services) -> Invalid comparison between dtype=datetime64[ns, America/New_York] and Timestamp\n",
            "[WARN] dividends fetch fail: RTX (RTX Corporation) -> Invalid comparison between dtype=datetime64[ns, America/New_York] and Timestamp\n"
          ]
        },
        {
          "output_type": "stream",
          "name": "stderr",
          "text": [
            "\r배당 수집:  73%|███████▎  | 359/491 [07:00<04:35,  2.09s/it]"
          ]
        },
        {
          "output_type": "stream",
          "name": "stdout",
          "text": [
            "[WARN] dividends fetch fail: REG (Regency Centers) -> Invalid comparison between dtype=datetime64[ns, America/New_York] and Timestamp\n",
            "[WARN] dividends fetch fail: RMD (ResMed) -> Invalid comparison between dtype=datetime64[ns, America/New_York] and Timestamp\n",
            "[WARN] dividends fetch fail: RF (Regions Financial Corporation) -> Invalid comparison between dtype=datetime64[ns, America/New_York] and Timestamp\n",
            "[WARN] dividends fetch fail: RJF (Raymond James Financial) -> Invalid comparison between dtype=datetime64[ns, America/New_York] and Timestamp\n"
          ]
        },
        {
          "output_type": "stream",
          "name": "stderr",
          "text": [
            "\r배당 수집:  74%|███████▎  | 361/491 [07:02<03:21,  1.55s/it]"
          ]
        },
        {
          "output_type": "stream",
          "name": "stdout",
          "text": [
            "[WARN] dividends fetch fail: O (Realty Income) -> Invalid comparison between dtype=datetime64[ns, America/New_York] and Timestamp\n",
            "[WARN] dividends fetch fail: ROK (Rockwell Automation) -> Invalid comparison between dtype=datetime64[ns, America/New_York] and Timestamp\n",
            "[WARN] dividends fetch fail: RVTY (Revvity) -> Invalid comparison between dtype=datetime64[ns, America/New_York] and Timestamp\n"
          ]
        },
        {
          "output_type": "stream",
          "name": "stderr",
          "text": [
            "\r배당 수집:  74%|███████▎  | 362/491 [07:03<03:08,  1.46s/it]"
          ]
        },
        {
          "output_type": "stream",
          "name": "stdout",
          "text": [
            "[WARN] dividends fetch fail: ROP (Roper Technologies) -> Invalid comparison between dtype=datetime64[ns, America/New_York] and Timestamp\n",
            "[WARN] dividends fetch fail: RTX (RTX Corporation) -> Invalid comparison between dtype=datetime64[ns, America/New_York] and Timestamp\n",
            "[WARN] dividends fetch fail: ROST (Ross Stores) -> Invalid comparison between dtype=datetime64[ns, America/New_York] and Timestamp\n",
            "[WARN] dividends fetch fail: ROL (Rollins, Inc.) -> Invalid comparison between dtype=datetime64[ns, America/New_York] and Timestamp\n",
            "[WARN] dividends fetch fail: RCL (Royal Caribbean Group) -> Invalid comparison between dtype=datetime64[ns, America/New_York] and Timestamp\n"
          ]
        },
        {
          "output_type": "stream",
          "name": "stderr",
          "text": [
            "\r배당 수집:  74%|███████▍  | 363/491 [07:05<03:01,  1.42s/it]"
          ]
        },
        {
          "output_type": "stream",
          "name": "stdout",
          "text": [
            "[WARN] dividends fetch fail: CRM (Salesforce) -> Invalid comparison between dtype=datetime64[ns, America/New_York] and Timestamp\n",
            "[WARN] dividends fetch fail: REGN (Regeneron Pharmaceuticals) -> Invalid comparison between dtype=datetime64[ns, America/New_York] and Timestamp\n"
          ]
        },
        {
          "output_type": "stream",
          "name": "stderr",
          "text": [
            "\r배당 수집:  74%|███████▍  | 364/491 [07:06<02:56,  1.39s/it]"
          ]
        },
        {
          "output_type": "stream",
          "name": "stdout",
          "text": [
            "[WARN] dividends fetch fail: RF (Regions Financial Corporation) -> Invalid comparison between dtype=datetime64[ns, America/New_York] and Timestamp\n",
            "[WARN] dividends fetch fail: SPGI (S&P Global) -> Invalid comparison between dtype=datetime64[ns, America/New_York] and Timestamp\n"
          ]
        },
        {
          "output_type": "stream",
          "name": "stderr",
          "text": [
            "\r배당 수집:  74%|███████▍  | 365/491 [07:07<02:34,  1.23s/it]"
          ]
        },
        {
          "output_type": "stream",
          "name": "stdout",
          "text": [
            "[WARN] dividends fetch fail: RSG (Republic Services) -> Invalid comparison between dtype=datetime64[ns, America/New_York] and Timestamp\n",
            "[WARN] dividends fetch fail: SBAC (SBA Communications) -> Invalid comparison between dtype=datetime64[ns, America/New_York] and Timestamp\n",
            "[WARN] dividends fetch fail: STX (Seagate Technology) -> Invalid comparison between dtype=datetime64[ns, America/New_York] and Timestamp\n"
          ]
        },
        {
          "output_type": "stream",
          "name": "stderr",
          "text": [
            "\r배당 수집:  75%|███████▍  | 366/491 [07:08<02:49,  1.36s/it]"
          ]
        },
        {
          "output_type": "stream",
          "name": "stdout",
          "text": [
            "[WARN] dividends fetch fail: RMD (ResMed) -> Invalid comparison between dtype=datetime64[ns, America/New_York] and Timestamp\n",
            "[WARN] dividends fetch fail: SRE (Sempra) -> Invalid comparison between dtype=datetime64[ns, America/New_York] and Timestamp\n",
            "[WARN] dividends fetch fail: SLB (Schlumberger) -> Invalid comparison between dtype=datetime64[ns, America/New_York] and Timestamp\n",
            "[WARN] dividends fetch fail: SPG (Simon Property Group) -> Invalid comparison between dtype=datetime64[ns, America/New_York] and Timestamp\n",
            "[WARN] dividends fetch fail: SWKS (Skyworks Solutions) -> Invalid comparison between dtype=datetime64[ns, America/New_York] and Timestamp\n",
            "[WARN] dividends fetch fail: SHW (Sherwin-Williams) -> Invalid comparison between dtype=datetime64[ns, America/New_York] and Timestamp\n",
            "[WARN] dividends fetch fail: SW (Smurfit Westrock) -> Invalid comparison between dtype=datetime64[ns, America/New_York] and Timestamp\n"
          ]
        },
        {
          "output_type": "stream",
          "name": "stderr",
          "text": [
            "\r배당 수집:  75%|███████▍  | 367/491 [07:13<04:31,  2.19s/it]"
          ]
        },
        {
          "output_type": "stream",
          "name": "stdout",
          "text": [
            "[WARN] dividends fetch fail: SJM (J.M. Smucker Company (The)) -> Invalid comparison between dtype=datetime64[ns, America/New_York] and Timestamp\n",
            "[WARN] dividends fetch fail: RVTY (Revvity) -> Invalid comparison between dtype=datetime64[ns, America/New_York] and Timestamp\n",
            "[WARN] dividends fetch fail: ROK (Rockwell Automation) -> Invalid comparison between dtype=datetime64[ns, America/New_York] and Timestamp\n",
            "[WARN] dividends fetch fail: ROL (Rollins, Inc.) -> Invalid comparison between dtype=datetime64[ns, America/New_York] and Timestamp\n"
          ]
        },
        {
          "output_type": "stream",
          "name": "stderr",
          "text": [
            "\r배당 수집:  75%|███████▌  | 370/491 [07:15<02:47,  1.39s/it]"
          ]
        },
        {
          "output_type": "stream",
          "name": "stdout",
          "text": [
            "[WARN] dividends fetch fail: SO (Southern Company) -> Invalid comparison between dtype=datetime64[ns, America/New_York] and Timestamp\n",
            "[WARN] dividends fetch fail: SNA (Snap-on) -> Invalid comparison between dtype=datetime64[ns, America/New_York] and Timestamp\n",
            "[WARN] dividends fetch fail: ROP (Roper Technologies) -> Invalid comparison between dtype=datetime64[ns, America/New_York] and Timestamp\n",
            "[WARN] dividends fetch fail: SWK (Stanley Black & Decker) -> Invalid comparison between dtype=datetime64[ns, America/New_York] and Timestamp\n",
            "[WARN] dividends fetch fail: SBUX (Starbucks) -> Invalid comparison between dtype=datetime64[ns, America/New_York] and Timestamp\n",
            "[WARN] dividends fetch fail: LUV (Southwest Airlines) -> Invalid comparison between dtype=datetime64[ns, America/New_York] and Timestamp\n",
            "[WARN] dividends fetch fail: STLD (Steel Dynamics) -> Invalid comparison between dtype=datetime64[ns, America/New_York] and Timestamp\n",
            "[WARN] dividends fetch fail: STT (State Street Corporation) -> Invalid comparison between dtype=datetime64[ns, America/New_York] and Timestamp\n"
          ]
        },
        {
          "output_type": "stream",
          "name": "stderr",
          "text": [
            "\r배당 수집:  76%|███████▌  | 371/491 [07:18<03:29,  1.75s/it]"
          ]
        },
        {
          "output_type": "stream",
          "name": "stdout",
          "text": [
            "[WARN] dividends fetch fail: ROST (Ross Stores) -> Invalid comparison between dtype=datetime64[ns, America/New_York] and Timestamp\n",
            "[WARN] dividends fetch fail: RCL (Royal Caribbean Group) -> Invalid comparison between dtype=datetime64[ns, America/New_York] and Timestamp\n",
            "[WARN] dividends fetch fail: STE (Steris) -> Invalid comparison between dtype=datetime64[ns, America/New_York] and Timestamp\n"
          ]
        },
        {
          "output_type": "stream",
          "name": "stderr",
          "text": [
            "\r배당 수집:  76%|███████▌  | 373/491 [07:19<02:25,  1.23s/it]"
          ]
        },
        {
          "output_type": "stream",
          "name": "stdout",
          "text": [
            "[WARN] dividends fetch fail: CRM (Salesforce) -> Invalid comparison between dtype=datetime64[ns, America/New_York] and Timestamp\n",
            "[WARN] dividends fetch fail: SPGI (S&P Global) -> Invalid comparison between dtype=datetime64[ns, America/New_York] and Timestamp\n",
            "[WARN] dividends fetch fail: SYF (Synchrony Financial) -> Invalid comparison between dtype=datetime64[ns, America/New_York] and Timestamp\n"
          ]
        },
        {
          "output_type": "stream",
          "name": "stderr",
          "text": [
            "\r배당 수집:  76%|███████▌  | 374/491 [07:19<01:59,  1.02s/it]"
          ]
        },
        {
          "output_type": "stream",
          "name": "stdout",
          "text": [
            "[WARN] dividends fetch fail: SYK (Stryker Corporation) -> Invalid comparison between dtype=datetime64[ns, America/New_York] and Timestamp\n",
            "[WARN] dividends fetch fail: TMUS (T-Mobile US) -> Invalid comparison between dtype=datetime64[ns, America/New_York] and Timestamp\n",
            "[WARN] dividends fetch fail: SYY (Sysco) -> Invalid comparison between dtype=datetime64[ns, America/New_York] and Timestamp\n",
            "[WARN] dividends fetch fail: TPR (Tapestry, Inc.) -> Invalid comparison between dtype=datetime64[ns, America/New_York] and Timestamp\n"
          ]
        },
        {
          "output_type": "stream",
          "name": "stderr",
          "text": [
            "\r배당 수집:  76%|███████▋  | 375/491 [07:22<02:48,  1.45s/it]"
          ]
        },
        {
          "output_type": "stream",
          "name": "stdout",
          "text": [
            "[WARN] dividends fetch fail: SBAC (SBA Communications) -> Invalid comparison between dtype=datetime64[ns, America/New_York] and Timestamp\n",
            "[WARN] dividends fetch fail: TTWO (Take-Two Interactive) -> Invalid comparison between dtype=datetime64[ns, America/New_York] and Timestamp\n",
            "[WARN] dividends fetch fail: TROW (T. Rowe Price) -> Invalid comparison between dtype=datetime64[ns, America/New_York] and Timestamp\n"
          ]
        },
        {
          "output_type": "stream",
          "name": "stderr",
          "text": [
            "\r배당 수집:  77%|███████▋  | 376/491 [07:22<02:19,  1.22s/it]"
          ]
        },
        {
          "output_type": "stream",
          "name": "stdout",
          "text": [
            "[WARN] dividends fetch fail: TRGP (Targa Resources) -> Invalid comparison between dtype=datetime64[ns, America/New_York] and Timestamp\n"
          ]
        },
        {
          "output_type": "stream",
          "name": "stderr",
          "text": [
            "\r배당 수집:  77%|███████▋  | 377/491 [07:24<02:38,  1.39s/it]"
          ]
        },
        {
          "output_type": "stream",
          "name": "stdout",
          "text": [
            "[WARN] dividends fetch fail: STX (Seagate Technology) -> Invalid comparison between dtype=datetime64[ns, America/New_York] and Timestamp\n"
          ]
        },
        {
          "output_type": "stream",
          "name": "stderr",
          "text": [
            "\r배당 수집:  77%|███████▋  | 378/491 [07:25<02:20,  1.24s/it]"
          ]
        },
        {
          "output_type": "stream",
          "name": "stdout",
          "text": [
            "[WARN] dividends fetch fail: SLB (Schlumberger) -> Invalid comparison between dtype=datetime64[ns, America/New_York] and Timestamp\n",
            "[WARN] dividends fetch fail: TEL (TE Connectivity) -> Invalid comparison between dtype=datetime64[ns, America/New_York] and Timestamp\n",
            "[WARN] dividends fetch fail: SRE (Sempra) -> Invalid comparison between dtype=datetime64[ns, America/New_York] and Timestamp\n",
            "[WARN] dividends fetch fail: TGT (Target Corporation) -> Invalid comparison between dtype=datetime64[ns, America/New_York] and Timestamp\n",
            "[WARN] dividends fetch fail: TER (Teradyne) -> Invalid comparison between dtype=datetime64[ns, America/New_York] and Timestamp\n",
            "[WARN] dividends fetch fail: TXN (Texas Instruments) -> Invalid comparison between dtype=datetime64[ns, America/New_York] and Timestamp\n",
            "[WARN] dividends fetch fail: TPL (Texas Pacific Land Corporation) -> Invalid comparison between dtype=datetime64[ns, America/New_York] and Timestamp\n"
          ]
        },
        {
          "output_type": "stream",
          "name": "stderr",
          "text": [
            "\r배당 수집:  77%|███████▋  | 380/491 [07:29<02:47,  1.51s/it]"
          ]
        },
        {
          "output_type": "stream",
          "name": "stdout",
          "text": [
            "[WARN] dividends fetch fail: SHW (Sherwin-Williams) -> Invalid comparison between dtype=datetime64[ns, America/New_York] and Timestamp\n",
            "[WARN] dividends fetch fail: TXT (Textron) -> Invalid comparison between dtype=datetime64[ns, America/New_York] and Timestamp\n"
          ]
        },
        {
          "output_type": "stream",
          "name": "stderr",
          "text": [
            "\r배당 수집:  78%|███████▊  | 381/491 [07:30<02:30,  1.37s/it]"
          ]
        },
        {
          "output_type": "stream",
          "name": "stdout",
          "text": [
            "[WARN] dividends fetch fail: TMO (Thermo Fisher Scientific) -> Invalid comparison between dtype=datetime64[ns, America/New_York] and Timestamp\n",
            "[WARN] dividends fetch fail: SJM (J.M. Smucker Company (The)) -> Invalid comparison between dtype=datetime64[ns, America/New_York] and Timestamp\n",
            "[WARN] dividends fetch fail: SPG (Simon Property Group) -> Invalid comparison between dtype=datetime64[ns, America/New_York] and Timestamp\n",
            "[WARN] dividends fetch fail: TJX (TJX Companies) -> Invalid comparison between dtype=datetime64[ns, America/New_York] and Timestamp\n"
          ]
        },
        {
          "output_type": "stream",
          "name": "stderr",
          "text": [
            "\r배당 수집:  78%|███████▊  | 383/491 [07:30<01:36,  1.12it/s]"
          ]
        },
        {
          "output_type": "stream",
          "name": "stdout",
          "text": [
            "[WARN] dividends fetch fail: TKO (TKO Group Holdings) -> Invalid comparison between dtype=datetime64[ns, America/New_York] and Timestamp\n"
          ]
        },
        {
          "output_type": "stream",
          "name": "stderr",
          "text": [
            "\r배당 수집:  78%|███████▊  | 384/491 [07:30<01:17,  1.38it/s]"
          ]
        },
        {
          "output_type": "stream",
          "name": "stdout",
          "text": [
            "[WARN] dividends fetch fail: SWKS (Skyworks Solutions) -> Invalid comparison between dtype=datetime64[ns, America/New_York] and Timestamp\n",
            "[WARN] dividends fetch fail: TSCO (Tractor Supply) -> Invalid comparison between dtype=datetime64[ns, America/New_York] and Timestamp\n",
            "[WARN] dividends fetch fail: TDG (TransDigm Group) -> Invalid comparison between dtype=datetime64[ns, America/New_York] and Timestamp\n"
          ]
        },
        {
          "output_type": "stream",
          "name": "stderr",
          "text": [
            "\r배당 수집:  78%|███████▊  | 385/491 [07:33<02:01,  1.15s/it]"
          ]
        },
        {
          "output_type": "stream",
          "name": "stdout",
          "text": [
            "[WARN] dividends fetch fail: SW (Smurfit Westrock) -> Invalid comparison between dtype=datetime64[ns, America/New_York] and Timestamp\n",
            "[WARN] dividends fetch fail: TRV (Travelers Companies (The)) -> Invalid comparison between dtype=datetime64[ns, America/New_York] and Timestamp\n",
            "[WARN] dividends fetch fail: TT (Trane Technologies) -> Invalid comparison between dtype=datetime64[ns, America/New_York] and Timestamp\n",
            "[WARN] dividends fetch fail: TFC (Truist Financial) -> Invalid comparison between dtype=datetime64[ns, America/New_York] and Timestamp\n",
            "[WARN] dividends fetch fail: TYL (Tyler Technologies) -> Invalid comparison between dtype=datetime64[ns, America/New_York] and Timestamp\n"
          ]
        },
        {
          "output_type": "stream",
          "name": "stderr",
          "text": [
            "\r배당 수집:  79%|███████▊  | 386/491 [07:38<03:45,  2.15s/it]"
          ]
        },
        {
          "output_type": "stream",
          "name": "stdout",
          "text": [
            "[WARN] dividends fetch fail: TSN (Tyson Foods) -> Invalid comparison between dtype=datetime64[ns, America/New_York] and Timestamp\n",
            "[WARN] dividends fetch fail: SNA (Snap-on) -> Invalid comparison between dtype=datetime64[ns, America/New_York] and Timestamp\n",
            "[WARN] dividends fetch fail: USB (U.S. Bancorp) -> Invalid comparison between dtype=datetime64[ns, America/New_York] and Timestamp\n",
            "[WARN] dividends fetch fail: ULTA (Ulta Beauty) -> Invalid comparison between dtype=datetime64[ns, America/New_York] and Timestamp\n",
            "[WARN] dividends fetch fail: SO (Southern Company) -> Invalid comparison between dtype=datetime64[ns, America/New_York] and Timestamp\n",
            "[WARN] dividends fetch fail: LUV (Southwest Airlines) -> Invalid comparison between dtype=datetime64[ns, America/New_York] and Timestamp\n",
            "[WARN] dividends fetch fail: UDR (UDR, Inc.) -> Invalid comparison between dtype=datetime64[ns, America/New_York] and Timestamp\n",
            "[WARN] dividends fetch fail: UAL (United Airlines Holdings) -> Invalid comparison between dtype=datetime64[ns, America/New_York] and Timestamp\n"
          ]
        },
        {
          "output_type": "stream",
          "name": "stderr",
          "text": [
            "\r배당 수집:  79%|███████▉  | 389/491 [07:40<02:21,  1.39s/it]"
          ]
        },
        {
          "output_type": "stream",
          "name": "stdout",
          "text": [
            "[WARN] dividends fetch fail: SWK (Stanley Black & Decker) -> Invalid comparison between dtype=datetime64[ns, America/New_York] and Timestamp\n",
            "[WARN] dividends fetch fail: UPS (United Parcel Service) -> Invalid comparison between dtype=datetime64[ns, America/New_York] and Timestamp\n",
            "[WARN] dividends fetch fail: URI (United Rentals) -> Invalid comparison between dtype=datetime64[ns, America/New_York] and Timestamp\n"
          ]
        },
        {
          "output_type": "stream",
          "name": "stderr",
          "text": [
            "\r배당 수집:  79%|███████▉  | 390/491 [07:42<02:35,  1.54s/it]"
          ]
        },
        {
          "output_type": "stream",
          "name": "stdout",
          "text": [
            "[WARN] dividends fetch fail: SBUX (Starbucks) -> Invalid comparison between dtype=datetime64[ns, America/New_York] and Timestamp\n",
            "[WARN] dividends fetch fail: UNP (Union Pacific Corporation) -> Invalid comparison between dtype=datetime64[ns, America/New_York] and Timestamp\n"
          ]
        },
        {
          "output_type": "stream",
          "name": "stderr",
          "text": [
            "\r배당 수집:  80%|███████▉  | 391/491 [07:42<02:08,  1.29s/it]"
          ]
        },
        {
          "output_type": "stream",
          "name": "stdout",
          "text": [
            "[WARN] dividends fetch fail: VLTO (Veralto) -> Invalid comparison between dtype=datetime64[ns, America/New_York] and Timestamp[WARN] dividends fetch fail: STLD (Steel Dynamics) -> Invalid comparison between dtype=datetime64[ns, America/New_York] and Timestamp\n",
            "\n",
            "[WARN] dividends fetch fail: UHS (Universal Health Services) -> Invalid comparison between dtype=datetime64[ns, America/New_York] and Timestamp\n",
            "[WARN] dividends fetch fail: UNH (UnitedHealth Group) -> Invalid comparison between dtype=datetime64[ns, America/New_York] and Timestamp\n"
          ]
        },
        {
          "output_type": "stream",
          "name": "stderr",
          "text": [
            "\r배당 수집:  80%|███████▉  | 392/491 [07:43<02:03,  1.24s/it]"
          ]
        },
        {
          "output_type": "stream",
          "name": "stdout",
          "text": [
            "[WARN] dividends fetch fail: VTR (Ventas) -> Invalid comparison between dtype=datetime64[ns, America/New_York] and Timestamp\n",
            "[WARN] dividends fetch fail: STT (State Street Corporation) -> Invalid comparison between dtype=datetime64[ns, America/New_York] and Timestamp\n"
          ]
        },
        {
          "output_type": "stream",
          "name": "stderr",
          "text": [
            "\r배당 수집:  80%|████████  | 393/491 [07:44<01:33,  1.04it/s]"
          ]
        },
        {
          "output_type": "stream",
          "name": "stdout",
          "text": [
            "[WARN] dividends fetch fail: VLO (Valero Energy) -> Invalid comparison between dtype=datetime64[ns, America/New_York] and Timestamp\n"
          ]
        },
        {
          "output_type": "stream",
          "name": "stderr",
          "text": [
            "\r배당 수집:  80%|████████  | 394/491 [07:44<01:25,  1.14it/s]"
          ]
        },
        {
          "output_type": "stream",
          "name": "stdout",
          "text": [
            "[WARN] dividends fetch fail: VRSK (Verisk Analytics) -> Invalid comparison between dtype=datetime64[ns, America/New_York] and Timestamp\n",
            "[WARN] dividends fetch fail: STE (Steris) -> Invalid comparison between dtype=datetime64[ns, America/New_York] and Timestamp\n",
            "[WARN] dividends fetch fail: VRSN (Verisign) -> Invalid comparison between dtype=datetime64[ns, America/New_York] and Timestamp\n"
          ]
        },
        {
          "output_type": "stream",
          "name": "stderr",
          "text": [
            "\r배당 수집:  81%|████████  | 396/491 [07:46<01:28,  1.07it/s]"
          ]
        },
        {
          "output_type": "stream",
          "name": "stdout",
          "text": [
            "[WARN] dividends fetch fail: SYK (Stryker Corporation) -> Invalid comparison between dtype=datetime64[ns, America/New_York] and Timestamp\n"
          ]
        },
        {
          "output_type": "stream",
          "name": "stderr",
          "text": [
            "\r배당 수집:  81%|████████  | 397/491 [07:47<01:16,  1.23it/s]"
          ]
        },
        {
          "output_type": "stream",
          "name": "stdout",
          "text": [
            "[WARN] dividends fetch fail: VICI (Vici Properties) -> Invalid comparison between dtype=datetime64[ns, America/New_York] and Timestamp\n",
            "[WARN] dividends fetch fail: SYF (Synchrony Financial) -> Invalid comparison between dtype=datetime64[ns, America/New_York] and Timestamp\n",
            "[WARN] dividends fetch fail: VST (Vistra Corp.) -> Invalid comparison between dtype=datetime64[ns, America/New_York] and Timestamp\n",
            "[WARN] dividends fetch fail: V (Visa Inc.) -> Invalid comparison between dtype=datetime64[ns, America/New_York] and Timestamp\n",
            "[WARN] dividends fetch fail: VZ (Verizon) -> Invalid comparison between dtype=datetime64[ns, America/New_York] and Timestamp\n"
          ]
        },
        {
          "output_type": "stream",
          "name": "stderr",
          "text": [
            "\r배당 수집:  81%|████████  | 398/491 [07:49<01:53,  1.22s/it]"
          ]
        },
        {
          "output_type": "stream",
          "name": "stdout",
          "text": [
            "[WARN] dividends fetch fail: TMUS (T-Mobile US) -> Invalid comparison between dtype=datetime64[ns, America/New_York] and Timestamp\n"
          ]
        },
        {
          "output_type": "stream",
          "name": "stderr",
          "text": [
            "\r배당 수집:  81%|████████▏ | 399/491 [07:51<01:58,  1.29s/it]"
          ]
        },
        {
          "output_type": "stream",
          "name": "stdout",
          "text": [
            "[WARN] dividends fetch fail: VMC (Vulcan Materials Company) -> Invalid comparison between dtype=datetime64[ns, America/New_York] and Timestamp\n",
            "[WARN] dividends fetch fail: VTRS (Viatris) -> Invalid comparison between dtype=datetime64[ns, America/New_York] and Timestamp\n",
            "[WARN] dividends fetch fail: SYY (Sysco) -> Invalid comparison between dtype=datetime64[ns, America/New_York] and Timestamp\n",
            "[WARN] dividends fetch fail: WRB (W. R. Berkley Corporation) -> Invalid comparison between dtype=datetime64[ns, America/New_York] and Timestamp\n"
          ]
        },
        {
          "output_type": "stream",
          "name": "stderr",
          "text": [
            "\r배당 수집:  81%|████████▏ | 400/491 [07:53<02:17,  1.51s/it]"
          ]
        },
        {
          "output_type": "stream",
          "name": "stdout",
          "text": [
            "[WARN] dividends fetch fail: TTWO (Take-Two Interactive) -> Invalid comparison between dtype=datetime64[ns, America/New_York] and Timestamp\n",
            "[WARN] dividends fetch fail: WAB (Wabtec) -> Invalid comparison between dtype=datetime64[ns, America/New_York] and Timestamp\n",
            "[WARN] dividends fetch fail: GWW (W. W. Grainger) -> Invalid comparison between dtype=datetime64[ns, America/New_York] and Timestamp\n",
            "[WARN] dividends fetch fail: TROW (T. Rowe Price) -> Invalid comparison between dtype=datetime64[ns, America/New_York] and Timestamp\n"
          ]
        },
        {
          "output_type": "stream",
          "name": "stderr",
          "text": [
            "배당 수집:  82%|████████▏ | 402/491 [07:53<01:25,  1.04it/s]"
          ]
        },
        {
          "output_type": "stream",
          "name": "stdout",
          "text": [
            "[WARN] dividends fetch fail: TPR (Tapestry, Inc.) -> Invalid comparison between dtype=datetime64[ns, America/New_York] and Timestamp\n",
            "[WARN] dividends fetch fail: WBA (Walgreens Boots Alliance) -> Invalid comparison between dtype=datetime64[ns, America/New_York] and Timestamp\n"
          ]
        },
        {
          "output_type": "stream",
          "name": "stderr",
          "text": [
            "배당 수집:  82%|████████▏ | 404/491 [07:55<01:06,  1.31it/s]"
          ]
        },
        {
          "output_type": "stream",
          "name": "stdout",
          "text": [
            "[WARN] dividends fetch fail: TRGP (Targa Resources) -> Invalid comparison between dtype=datetime64[ns, America/New_York] and Timestamp\n",
            "[WARN] dividends fetch fail: WM (Waste Management) -> Invalid comparison between dtype=datetime64[ns, America/New_York] and Timestamp\n",
            "[WARN] dividends fetch fail: WMT (Walmart) -> Invalid comparison between dtype=datetime64[ns, America/New_York] and Timestamp\n",
            "[WARN] dividends fetch fail: DIS (Walt Disney Company (The)) -> Invalid comparison between dtype=datetime64[ns, America/New_York] and Timestamp\n"
          ]
        },
        {
          "output_type": "stream",
          "name": "stderr",
          "text": [
            "\r배당 수집:  82%|████████▏ | 405/491 [07:56<01:24,  1.02it/s]"
          ]
        },
        {
          "output_type": "stream",
          "name": "stdout",
          "text": [
            "[WARN] dividends fetch fail: WEC (WEC Energy Group) -> Invalid comparison between dtype=datetime64[ns, America/New_York] and Timestamp\n"
          ]
        },
        {
          "output_type": "stream",
          "name": "stderr",
          "text": [
            "\r배당 수집:  83%|████████▎ | 406/491 [07:58<01:31,  1.08s/it]"
          ]
        },
        {
          "output_type": "stream",
          "name": "stdout",
          "text": [
            "[WARN] dividends fetch fail: TEL (TE Connectivity) -> Invalid comparison between dtype=datetime64[ns, America/New_York] and Timestamp\n",
            "[WARN] dividends fetch fail: WELL (Welltower) -> Invalid comparison between dtype=datetime64[ns, America/New_York] and Timestamp\n",
            "[WARN] dividends fetch fail: WFC (Wells Fargo) -> Invalid comparison between dtype=datetime64[ns, America/New_York] and Timestamp\n",
            "[WARN] dividends fetch fail: WST (West Pharmaceutical Services) -> Invalid comparison between dtype=datetime64[ns, America/New_York] and Timestamp\n"
          ]
        },
        {
          "output_type": "stream",
          "name": "stderr",
          "text": [
            "\r배당 수집:  83%|████████▎ | 407/491 [08:00<01:55,  1.37s/it]"
          ]
        },
        {
          "output_type": "stream",
          "name": "stdout",
          "text": [
            "[WARN] dividends fetch fail: TGT (Target Corporation) -> Invalid comparison between dtype=datetime64[ns, America/New_York] and Timestamp\n",
            "[WARN] dividends fetch fail: WDC (Western Digital) -> Invalid comparison between dtype=datetime64[ns, America/New_York] and Timestamp\n"
          ]
        },
        {
          "output_type": "stream",
          "name": "stderr",
          "text": [
            "\r배당 수집:  83%|████████▎ | 408/491 [08:01<01:55,  1.39s/it]"
          ]
        },
        {
          "output_type": "stream",
          "name": "stdout",
          "text": [
            "[WARN] dividends fetch fail: TER (Teradyne) -> Invalid comparison between dtype=datetime64[ns, America/New_York] and Timestamp\n",
            "[WARN] dividends fetch fail: WSM (Williams-Sonoma, Inc.) -> Invalid comparison between dtype=datetime64[ns, America/New_York] and Timestamp\n",
            "[WARN] dividends fetch fail: WY (Weyerhaeuser) -> Invalid comparison between dtype=datetime64[ns, America/New_York] and Timestamp\n"
          ]
        },
        {
          "output_type": "stream",
          "name": "stderr",
          "text": [
            "\r배당 수집:  83%|████████▎ | 409/491 [08:03<02:06,  1.54s/it]"
          ]
        },
        {
          "output_type": "stream",
          "name": "stdout",
          "text": [
            "[WARN] dividends fetch fail: WMB (Williams Companies) -> Invalid comparison between dtype=datetime64[ns, America/New_York] and Timestamp\n",
            "[WARN] dividends fetch fail: TXN (Texas Instruments) -> Invalid comparison between dtype=datetime64[ns, America/New_York] and Timestamp\n",
            "[WARN] dividends fetch fail: WTW (Willis Towers Watson) -> Invalid comparison between dtype=datetime64[ns, America/New_York] and Timestamp\n",
            "[WARN] dividends fetch fail: XYL (Xylem Inc.) -> Invalid comparison between dtype=datetime64[ns, America/New_York] and Timestamp\n"
          ]
        },
        {
          "output_type": "stream",
          "name": "stderr",
          "text": [
            "\r배당 수집:  84%|████████▎ | 410/491 [08:05<02:22,  1.75s/it]"
          ]
        },
        {
          "output_type": "stream",
          "name": "stdout",
          "text": [
            "[WARN] dividends fetch fail: WYNN (Wynn Resorts) -> Invalid comparison between dtype=datetime64[ns, America/New_York] and Timestamp\n",
            "[WARN] dividends fetch fail: TPL (Texas Pacific Land Corporation) -> Invalid comparison between dtype=datetime64[ns, America/New_York] and Timestamp\n"
          ]
        },
        {
          "output_type": "stream",
          "name": "stderr",
          "text": [
            "\r배당 수집:  84%|████████▎ | 411/491 [08:07<02:10,  1.63s/it]"
          ]
        },
        {
          "output_type": "stream",
          "name": "stdout",
          "text": [
            "[WARN] dividends fetch fail: TMO (Thermo Fisher Scientific) -> Invalid comparison between dtype=datetime64[ns, America/New_York] and Timestamp\n",
            "[WARN] dividends fetch fail: ZTS (Zoetis) -> Invalid comparison between dtype=datetime64[ns, America/New_York] and Timestamp\n",
            "[WARN] dividends fetch fail: XEL (Xcel Energy) -> Invalid comparison between dtype=datetime64[ns, America/New_York] and Timestamp\n",
            "[WARN] dividends fetch fail: ZBH (Zimmer Biomet) -> Invalid comparison between dtype=datetime64[ns, America/New_York] and Timestamp\n",
            "[WARN] dividends fetch fail: YUM (Yum! Brands) -> Invalid comparison between dtype=datetime64[ns, America/New_York] and Timestamp\n"
          ]
        },
        {
          "output_type": "stream",
          "name": "stderr",
          "text": [
            "배당 수집:  84%|████████▍ | 413/491 [08:08<01:22,  1.06s/it]"
          ]
        },
        {
          "output_type": "stream",
          "name": "stdout",
          "text": [
            "[WARN] dividends fetch fail: ASML (ASML Holding) -> Invalid comparison between dtype=datetime64[ns, America/New_York] and Timestamp\n",
            "[WARN] dividends fetch fail: TXT (Textron) -> Invalid comparison between dtype=datetime64[ns, America/New_York] and Timestamp\n"
          ]
        },
        {
          "output_type": "stream",
          "name": "stderr",
          "text": [
            "\r배당 수집:  84%|████████▍ | 414/491 [08:08<01:10,  1.09it/s]"
          ]
        },
        {
          "output_type": "stream",
          "name": "stdout",
          "text": [
            "[WARN] dividends fetch fail: TJX (TJX Companies) -> Invalid comparison between dtype=datetime64[ns, America/New_York] and Timestamp\n",
            "[WARN] dividends fetch fail: AZN (AstraZeneca) -> Invalid comparison between dtype=datetime64[ns, America/New_York] and Timestamp\n"
          ]
        },
        {
          "output_type": "stream",
          "name": "stderr",
          "text": [
            "\r배당 수집:  85%|████████▍ | 415/491 [08:09<01:15,  1.00it/s]"
          ]
        },
        {
          "output_type": "stream",
          "name": "stdout",
          "text": [
            "[WARN] dividends fetch fail: TKO (TKO Group Holdings) -> Invalid comparison between dtype=datetime64[ns, America/New_York] and Timestamp\n",
            "[WARN] dividends fetch fail: CCEP (Coca-Cola Europacific Partners) -> Invalid comparison between dtype=datetime64[ns, America/New_York] and Timestamp\n",
            "[WARN] dividends fetch fail: MRVL (Marvell Technology) -> Invalid comparison between dtype=datetime64[ns, America/New_York] and Timestamp\n",
            "[WARN] dividends fetch fail: MELI (Mercado Libre) -> Invalid comparison between dtype=datetime64[ns, America/New_York] and Timestamp\n"
          ]
        },
        {
          "output_type": "stream",
          "name": "stderr",
          "text": [
            "\r배당 수집:  85%|████████▍ | 416/491 [08:11<01:29,  1.19s/it]"
          ]
        },
        {
          "output_type": "stream",
          "name": "stdout",
          "text": [
            "[WARN] dividends fetch fail: TSCO (Tractor Supply) -> Invalid comparison between dtype=datetime64[ns, America/New_York] and Timestamp\n"
          ]
        },
        {
          "output_type": "stream",
          "name": "stderr",
          "text": [
            "\r배당 수집:  85%|████████▍ | 417/491 [08:11<01:08,  1.08it/s]"
          ]
        },
        {
          "output_type": "stream",
          "name": "stdout",
          "text": [
            "[WARN] dividends fetch fail: TDG (TransDigm Group) -> Invalid comparison between dtype=datetime64[ns, America/New_York] and Timestamp\n",
            "[WARN] dividends fetch fail: ODFL (Old Dominion Freight Line) -> Invalid comparison between dtype=datetime64[ns, America/New_York] and Timestamp\n"
          ]
        },
        {
          "output_type": "stream",
          "name": "stderr",
          "text": [
            "\r배당 수집:  85%|████████▌ | 418/491 [08:12<00:52,  1.38it/s]"
          ]
        },
        {
          "output_type": "stream",
          "name": "stdout",
          "text": [
            "[WARN] dividends fetch fail: TRI (Thomson Reuters) -> Invalid comparison between dtype=datetime64[ns, America/New_York] and Timestamp\n"
          ]
        },
        {
          "output_type": "stream",
          "name": "stderr",
          "text": [
            "\r배당 수집:  85%|████████▌ | 419/491 [08:12<00:46,  1.54it/s]"
          ]
        },
        {
          "output_type": "stream",
          "name": "stdout",
          "text": [
            "[WARN] dividends fetch fail: TT (Trane Technologies) -> Invalid comparison between dtype=datetime64[ns, America/New_York] and Timestamp\n"
          ]
        },
        {
          "output_type": "stream",
          "name": "stderr",
          "text": [
            "\r배당 수집:  86%|████████▌ | 420/491 [08:14<01:19,  1.11s/it]"
          ]
        },
        {
          "output_type": "stream",
          "name": "stdout",
          "text": [
            "[WARN] dividends fetch fail: TRV (Travelers Companies (The)) -> Invalid comparison between dtype=datetime64[ns, America/New_York] and Timestamp\n"
          ]
        },
        {
          "output_type": "stream",
          "name": "stderr",
          "text": [
            "배당 수집:  86%|████████▌ | 422/491 [08:16<01:02,  1.10it/s]"
          ]
        },
        {
          "output_type": "stream",
          "name": "stdout",
          "text": [
            "[WARN] dividends fetch fail: TYL (Tyler Technologies) -> Invalid comparison between dtype=datetime64[ns, America/New_York] and Timestamp\n",
            "[WARN] dividends fetch fail: TFC (Truist Financial) -> Invalid comparison between dtype=datetime64[ns, America/New_York] and Timestamp\n"
          ]
        },
        {
          "output_type": "stream",
          "name": "stderr",
          "text": [
            "\r배당 수집:  86%|████████▌ | 423/491 [08:16<00:49,  1.37it/s]"
          ]
        },
        {
          "output_type": "stream",
          "name": "stdout",
          "text": [
            "[WARN] dividends fetch fail: TSN (Tyson Foods) -> Invalid comparison between dtype=datetime64[ns, America/New_York] and Timestamp\n"
          ]
        },
        {
          "output_type": "stream",
          "name": "stderr",
          "text": [
            "\r배당 수집:  87%|████████▋ | 425/491 [08:18<00:50,  1.31it/s]"
          ]
        },
        {
          "output_type": "stream",
          "name": "stdout",
          "text": [
            "[WARN] dividends fetch fail: USB (U.S. Bancorp) -> Invalid comparison between dtype=datetime64[ns, America/New_York] and Timestamp\n"
          ]
        },
        {
          "output_type": "stream",
          "name": "stderr",
          "text": [
            "\r배당 수집:  87%|████████▋ | 426/491 [08:19<00:51,  1.27it/s]"
          ]
        },
        {
          "output_type": "stream",
          "name": "stdout",
          "text": [
            "[WARN] dividends fetch fail: ULTA (Ulta Beauty) -> Invalid comparison between dtype=datetime64[ns, America/New_York] and Timestamp\n"
          ]
        },
        {
          "output_type": "stream",
          "name": "stderr",
          "text": [
            "\r배당 수집:  87%|████████▋ | 427/491 [08:19<00:48,  1.31it/s]"
          ]
        },
        {
          "output_type": "stream",
          "name": "stdout",
          "text": [
            "[WARN] dividends fetch fail: UDR (UDR, Inc.) -> Invalid comparison between dtype=datetime64[ns, America/New_York] and Timestamp\n"
          ]
        },
        {
          "output_type": "stream",
          "name": "stderr",
          "text": [
            "\r배당 수집:  87%|████████▋ | 428/491 [08:20<00:43,  1.46it/s]"
          ]
        },
        {
          "output_type": "stream",
          "name": "stdout",
          "text": [
            "[WARN] dividends fetch fail: UNP (Union Pacific Corporation) -> Invalid comparison between dtype=datetime64[ns, America/New_York] and Timestamp\n"
          ]
        },
        {
          "output_type": "stream",
          "name": "stderr",
          "text": [
            "\r배당 수집:  87%|████████▋ | 429/491 [08:21<00:48,  1.29it/s]"
          ]
        },
        {
          "output_type": "stream",
          "name": "stdout",
          "text": [
            "[WARN] dividends fetch fail: UAL (United Airlines Holdings) -> Invalid comparison between dtype=datetime64[ns, America/New_York] and Timestamp\n"
          ]
        },
        {
          "output_type": "stream",
          "name": "stderr",
          "text": [
            "\r배당 수집:  88%|████████▊ | 430/491 [08:22<00:49,  1.24it/s]"
          ]
        },
        {
          "output_type": "stream",
          "name": "stdout",
          "text": [
            "[WARN] dividends fetch fail: UPS (United Parcel Service) -> Invalid comparison between dtype=datetime64[ns, America/New_York] and Timestamp\n"
          ]
        },
        {
          "output_type": "stream",
          "name": "stderr",
          "text": [
            "\r배당 수집:  88%|████████▊ | 431/491 [08:23<00:52,  1.13it/s]"
          ]
        },
        {
          "output_type": "stream",
          "name": "stdout",
          "text": [
            "[WARN] dividends fetch fail: URI (United Rentals) -> Invalid comparison between dtype=datetime64[ns, America/New_York] and Timestamp\n"
          ]
        },
        {
          "output_type": "stream",
          "name": "stderr",
          "text": [
            "\r배당 수집:  88%|████████▊ | 432/491 [08:24<00:55,  1.07it/s]"
          ]
        },
        {
          "output_type": "stream",
          "name": "stdout",
          "text": [
            "[WARN] dividends fetch fail: UNH (UnitedHealth Group) -> Invalid comparison between dtype=datetime64[ns, America/New_York] and Timestamp\n"
          ]
        },
        {
          "output_type": "stream",
          "name": "stderr",
          "text": [
            "\r배당 수집:  88%|████████▊ | 433/491 [08:25<00:47,  1.22it/s]"
          ]
        },
        {
          "output_type": "stream",
          "name": "stdout",
          "text": [
            "[WARN] dividends fetch fail: UHS (Universal Health Services) -> Invalid comparison between dtype=datetime64[ns, America/New_York] and Timestamp\n"
          ]
        },
        {
          "output_type": "stream",
          "name": "stderr",
          "text": [
            "\r배당 수집:  88%|████████▊ | 434/491 [08:26<00:51,  1.11it/s]"
          ]
        },
        {
          "output_type": "stream",
          "name": "stdout",
          "text": [
            "[WARN] dividends fetch fail: VLO (Valero Energy) -> Invalid comparison between dtype=datetime64[ns, America/New_York] and Timestamp\n"
          ]
        },
        {
          "output_type": "stream",
          "name": "stderr",
          "text": [
            "\r배당 수집:  89%|████████▊ | 435/491 [08:27<00:50,  1.11it/s]"
          ]
        },
        {
          "output_type": "stream",
          "name": "stdout",
          "text": [
            "[WARN] dividends fetch fail: VLTO (Veralto) -> Invalid comparison between dtype=datetime64[ns, America/New_York] and Timestamp\n"
          ]
        },
        {
          "output_type": "stream",
          "name": "stderr",
          "text": [
            "\r배당 수집:  89%|████████▉ | 436/491 [08:27<00:38,  1.42it/s]"
          ]
        },
        {
          "output_type": "stream",
          "name": "stdout",
          "text": [
            "[WARN] dividends fetch fail: VTR (Ventas) -> Invalid comparison between dtype=datetime64[ns, America/New_York] and Timestamp\n"
          ]
        },
        {
          "output_type": "stream",
          "name": "stderr",
          "text": [
            "\r배당 수집:  89%|████████▉ | 437/491 [08:28<00:39,  1.37it/s]"
          ]
        },
        {
          "output_type": "stream",
          "name": "stdout",
          "text": [
            "[WARN] dividends fetch fail: VRSN (Verisign) -> Invalid comparison between dtype=datetime64[ns, America/New_York] and Timestamp\n"
          ]
        },
        {
          "output_type": "stream",
          "name": "stderr",
          "text": [
            "\r배당 수집:  89%|████████▉ | 439/491 [08:28<00:27,  1.87it/s]"
          ]
        },
        {
          "output_type": "stream",
          "name": "stdout",
          "text": [
            "[WARN] dividends fetch fail: VRSK (Verisk Analytics) -> Invalid comparison between dtype=datetime64[ns, America/New_York] and Timestamp\n"
          ]
        },
        {
          "output_type": "stream",
          "name": "stderr",
          "text": [
            "\r배당 수집:  90%|████████▉ | 440/491 [08:30<00:44,  1.15it/s]"
          ]
        },
        {
          "output_type": "stream",
          "name": "stdout",
          "text": [
            "[WARN] dividends fetch fail: VICI (Vici Properties) -> Invalid comparison between dtype=datetime64[ns, America/New_York] and Timestamp\n"
          ]
        },
        {
          "output_type": "stream",
          "name": "stderr",
          "text": [
            "\r배당 수집:  90%|████████▉ | 441/491 [08:30<00:36,  1.37it/s]"
          ]
        },
        {
          "output_type": "stream",
          "name": "stdout",
          "text": [
            "[WARN] dividends fetch fail: VZ (Verizon) -> Invalid comparison between dtype=datetime64[ns, America/New_York] and Timestamp\n"
          ]
        },
        {
          "output_type": "stream",
          "name": "stderr",
          "text": [
            "\r배당 수집:  90%|█████████ | 442/491 [08:31<00:31,  1.53it/s]"
          ]
        },
        {
          "output_type": "stream",
          "name": "stdout",
          "text": [
            "[WARN] dividends fetch fail: VTRS (Viatris) -> Invalid comparison between dtype=datetime64[ns, America/New_York] and Timestamp\n"
          ]
        },
        {
          "output_type": "stream",
          "name": "stderr",
          "text": [
            "\r배당 수집:  90%|█████████ | 443/491 [08:31<00:27,  1.74it/s]"
          ]
        },
        {
          "output_type": "stream",
          "name": "stdout",
          "text": [
            "[WARN] dividends fetch fail: V (Visa Inc.) -> Invalid comparison between dtype=datetime64[ns, America/New_York] and Timestamp\n"
          ]
        },
        {
          "output_type": "stream",
          "name": "stderr",
          "text": [
            "\r배당 수집:  90%|█████████ | 444/491 [08:33<00:38,  1.23it/s]"
          ]
        },
        {
          "output_type": "stream",
          "name": "stdout",
          "text": [
            "[WARN] dividends fetch fail: VST (Vistra Corp.) -> Invalid comparison between dtype=datetime64[ns, America/New_York] and Timestamp\n"
          ]
        },
        {
          "output_type": "stream",
          "name": "stderr",
          "text": [
            "\r배당 수집:  91%|█████████ | 445/491 [08:34<00:46,  1.01s/it]"
          ]
        },
        {
          "output_type": "stream",
          "name": "stdout",
          "text": [
            "[WARN] dividends fetch fail: VMC (Vulcan Materials Company) -> Invalid comparison between dtype=datetime64[ns, America/New_York] and Timestamp\n"
          ]
        },
        {
          "output_type": "stream",
          "name": "stderr",
          "text": [
            "배당 수집:  91%|█████████ | 447/491 [08:35<00:29,  1.47it/s]"
          ]
        },
        {
          "output_type": "stream",
          "name": "stdout",
          "text": [
            "[WARN] dividends fetch fail: GWW (W. W. Grainger) -> Invalid comparison between dtype=datetime64[ns, America/New_York] and Timestamp\n",
            "[WARN] dividends fetch fail: WRB (W. R. Berkley Corporation) -> Invalid comparison between dtype=datetime64[ns, America/New_York] and Timestamp\n"
          ]
        },
        {
          "output_type": "stream",
          "name": "stderr",
          "text": [
            "\r배당 수집:  91%|█████████ | 448/491 [08:36<00:38,  1.11it/s]"
          ]
        },
        {
          "output_type": "stream",
          "name": "stdout",
          "text": [
            "[WARN] dividends fetch fail: WAB (Wabtec) -> Invalid comparison between dtype=datetime64[ns, America/New_York] and Timestamp\n"
          ]
        },
        {
          "output_type": "stream",
          "name": "stderr",
          "text": [
            "배당 수집:  92%|█████████▏| 450/491 [08:38<00:36,  1.11it/s]"
          ]
        },
        {
          "output_type": "stream",
          "name": "stdout",
          "text": [
            "[WARN] dividends fetch fail: WBA (Walgreens Boots Alliance) -> Invalid comparison between dtype=datetime64[ns, America/New_York] and Timestamp\n"
          ]
        },
        {
          "output_type": "stream",
          "name": "stderr",
          "text": [
            "배당 수집:  92%|█████████▏| 453/491 [08:40<00:23,  1.59it/s]"
          ]
        },
        {
          "output_type": "stream",
          "name": "stdout",
          "text": [
            "[WARN] dividends fetch fail: WMT (Walmart) -> Invalid comparison between dtype=datetime64[ns, America/New_York] and Timestamp\n",
            "[WARN] dividends fetch fail: DIS (Walt Disney Company (The)) -> Invalid comparison between dtype=datetime64[ns, America/New_York] and Timestamp\n"
          ]
        },
        {
          "output_type": "stream",
          "name": "stderr",
          "text": [
            "\r배당 수집:  92%|█████████▏| 454/491 [08:40<00:23,  1.57it/s]"
          ]
        },
        {
          "output_type": "stream",
          "name": "stdout",
          "text": [
            "[WARN] dividends fetch fail: WM (Waste Management) -> Invalid comparison between dtype=datetime64[ns, America/New_York] and Timestamp\n"
          ]
        },
        {
          "output_type": "stream",
          "name": "stderr",
          "text": [
            "\r배당 수집:  93%|█████████▎| 455/491 [08:43<00:42,  1.17s/it]"
          ]
        },
        {
          "output_type": "stream",
          "name": "stdout",
          "text": [
            "[WARN] dividends fetch fail: WEC (WEC Energy Group) -> Invalid comparison between dtype=datetime64[ns, America/New_York] and Timestamp\n"
          ]
        },
        {
          "output_type": "stream",
          "name": "stderr",
          "text": [
            "배당 수집:  93%|█████████▎| 458/491 [08:45<00:24,  1.37it/s]"
          ]
        },
        {
          "output_type": "stream",
          "name": "stdout",
          "text": [
            "[WARN] dividends fetch fail: WST (West Pharmaceutical Services) -> Invalid comparison between dtype=datetime64[ns, America/New_York] and Timestamp\n",
            "[WARN] dividends fetch fail: WELL (Welltower) -> Invalid comparison between dtype=datetime64[ns, America/New_York] and Timestamp\n",
            "[WARN] dividends fetch fail: WFC (Wells Fargo) -> Invalid comparison between dtype=datetime64[ns, America/New_York] and Timestamp\n"
          ]
        },
        {
          "output_type": "stream",
          "name": "stderr",
          "text": [
            "\r배당 수집:  93%|█████████▎| 459/491 [08:46<00:31,  1.02it/s]"
          ]
        },
        {
          "output_type": "stream",
          "name": "stdout",
          "text": [
            "[WARN] dividends fetch fail: WDC (Western Digital) -> Invalid comparison between dtype=datetime64[ns, America/New_York] and Timestamp\n"
          ]
        },
        {
          "output_type": "stream",
          "name": "stderr",
          "text": [
            "\r배당 수집:  94%|█████████▎| 460/491 [08:48<00:32,  1.06s/it]"
          ]
        },
        {
          "output_type": "stream",
          "name": "stdout",
          "text": [
            "[WARN] dividends fetch fail: WSM (Williams-Sonoma, Inc.) -> Invalid comparison between dtype=datetime64[ns, America/New_York] and Timestamp\n"
          ]
        },
        {
          "output_type": "stream",
          "name": "stderr",
          "text": [
            "배당 수집:  94%|█████████▍| 463/491 [08:49<00:18,  1.51it/s]"
          ]
        },
        {
          "output_type": "stream",
          "name": "stdout",
          "text": [
            "[WARN] dividends fetch fail: WY (Weyerhaeuser) -> Invalid comparison between dtype=datetime64[ns, America/New_York] and Timestamp\n",
            "[WARN] dividends fetch fail: WMB (Williams Companies) -> Invalid comparison between dtype=datetime64[ns, America/New_York] and Timestamp\n"
          ]
        },
        {
          "output_type": "stream",
          "name": "stderr",
          "text": [
            "\r배당 수집:  95%|█████████▍| 464/491 [08:50<00:17,  1.52it/s]"
          ]
        },
        {
          "output_type": "stream",
          "name": "stdout",
          "text": [
            "[WARN] dividends fetch fail: WTW (Willis Towers Watson) -> Invalid comparison between dtype=datetime64[ns, America/New_York] and Timestamp\n"
          ]
        },
        {
          "output_type": "stream",
          "name": "stderr",
          "text": [
            "\r배당 수집:  95%|█████████▍| 465/491 [08:51<00:21,  1.22it/s]"
          ]
        },
        {
          "output_type": "stream",
          "name": "stdout",
          "text": [
            "[WARN] dividends fetch fail: WYNN (Wynn Resorts) -> Invalid comparison between dtype=datetime64[ns, America/New_York] and Timestamp\n"
          ]
        },
        {
          "output_type": "stream",
          "name": "stderr",
          "text": [
            "배당 수집:  95%|█████████▌| 467/491 [08:52<00:16,  1.48it/s]"
          ]
        },
        {
          "output_type": "stream",
          "name": "stdout",
          "text": [
            "[WARN] dividends fetch fail: XYL (Xylem Inc.) -> Invalid comparison between dtype=datetime64[ns, America/New_York] and Timestamp\n"
          ]
        },
        {
          "output_type": "stream",
          "name": "stderr",
          "text": [
            "\r배당 수집:  95%|█████████▌| 468/491 [08:53<00:16,  1.41it/s]"
          ]
        },
        {
          "output_type": "stream",
          "name": "stdout",
          "text": [
            "[WARN] dividends fetch fail: XEL (Xcel Energy) -> Invalid comparison between dtype=datetime64[ns, America/New_York] and Timestamp\n"
          ]
        },
        {
          "output_type": "stream",
          "name": "stderr",
          "text": [
            "\r배당 수집:  96%|█████████▌| 469/491 [08:53<00:13,  1.61it/s]"
          ]
        },
        {
          "output_type": "stream",
          "name": "stdout",
          "text": [
            "[WARN] dividends fetch fail: YUM (Yum! Brands) -> Invalid comparison between dtype=datetime64[ns, America/New_York] and Timestamp\n"
          ]
        },
        {
          "output_type": "stream",
          "name": "stderr",
          "text": [
            "배당 수집:  96%|█████████▌| 472/491 [08:54<00:09,  2.02it/s]"
          ]
        },
        {
          "output_type": "stream",
          "name": "stdout",
          "text": [
            "[WARN] dividends fetch fail: ZBH (Zimmer Biomet) -> Invalid comparison between dtype=datetime64[ns, America/New_York] and Timestamp\n"
          ]
        },
        {
          "output_type": "stream",
          "name": "stderr",
          "text": [
            "\r배당 수집:  96%|█████████▋| 473/491 [08:55<00:09,  1.89it/s]"
          ]
        },
        {
          "output_type": "stream",
          "name": "stdout",
          "text": [
            "[WARN] dividends fetch fail: ZTS (Zoetis) -> Invalid comparison between dtype=datetime64[ns, America/New_York] and Timestamp\n"
          ]
        },
        {
          "output_type": "stream",
          "name": "stderr",
          "text": [
            "배당 수집:  97%|█████████▋| 478/491 [08:57<00:06,  2.02it/s]"
          ]
        },
        {
          "output_type": "stream",
          "name": "stdout",
          "text": [
            "[WARN] dividends fetch fail: ASML (ASML Holding) -> Invalid comparison between dtype=datetime64[ns, America/New_York] and Timestamp\n"
          ]
        },
        {
          "output_type": "stream",
          "name": "stderr",
          "text": [
            "\r배당 수집:  98%|█████████▊| 479/491 [08:57<00:05,  2.35it/s]"
          ]
        },
        {
          "output_type": "stream",
          "name": "stdout",
          "text": [
            "[WARN] dividends fetch fail: AZN (AstraZeneca) -> Invalid comparison between dtype=datetime64[ns, America/New_York] and Timestamp\n"
          ]
        },
        {
          "output_type": "stream",
          "name": "stderr",
          "text": [
            "배당 수집:  98%|█████████▊| 482/491 [08:58<00:04,  2.09it/s]"
          ]
        },
        {
          "output_type": "stream",
          "name": "stdout",
          "text": [
            "[WARN] dividends fetch fail: CCEP (Coca-Cola Europacific Partners) -> Invalid comparison between dtype=datetime64[ns, America/New_York] and Timestamp\n"
          ]
        },
        {
          "output_type": "stream",
          "name": "stderr",
          "text": [
            "배당 수집:  99%|█████████▊| 484/491 [08:59<00:03,  2.31it/s]"
          ]
        },
        {
          "output_type": "stream",
          "name": "stdout",
          "text": [
            "[WARN] dividends fetch fail: MRVL (Marvell Technology) -> Invalid comparison between dtype=datetime64[ns, America/New_York] and Timestamp\n"
          ]
        },
        {
          "output_type": "stream",
          "name": "stderr",
          "text": [
            "\r배당 수집:  99%|█████████▉| 486/491 [08:59<00:01,  3.56it/s]"
          ]
        },
        {
          "output_type": "stream",
          "name": "stdout",
          "text": [
            "[WARN] dividends fetch fail: MELI (Mercado Libre) -> Invalid comparison between dtype=datetime64[ns, America/New_York] and Timestamp\n"
          ]
        },
        {
          "output_type": "stream",
          "name": "stderr",
          "text": [
            "배당 수집: 100%|█████████▉| 490/491 [09:02<00:00,  1.61it/s]"
          ]
        },
        {
          "output_type": "stream",
          "name": "stdout",
          "text": [
            "[WARN] dividends fetch fail: ODFL (Old Dominion Freight Line) -> Invalid comparison between dtype=datetime64[ns, America/New_York] and Timestamp\n"
          ]
        },
        {
          "output_type": "stream",
          "name": "stderr",
          "text": [
            "배당 수집: 100%|██████████| 491/491 [09:02<00:00,  1.11s/it]"
          ]
        },
        {
          "output_type": "stream",
          "name": "stdout",
          "text": [
            "[WARN] dividends fetch fail: TRI (Thomson Reuters) -> Invalid comparison between dtype=datetime64[ns, America/New_York] and Timestamp\n",
            "최근 5년 배당 없음 티커 수: 485\n",
            "→ 목록 저장: ./data/tickers_with_no_dividends.csv\n"
          ]
        },
        {
          "output_type": "stream",
          "name": "stderr",
          "text": [
            "\n"
          ]
        }
      ]
    },
    {
      "cell_type": "code",
      "source": [
        "# -------------------- 저장 --------------------\n",
        "df_div[\"collected_at\"] = datetime.now().strftime(\"%Y-%m-%d %H:%M\")\n",
        "df_div.to_csv(DIV_CSV, index=False, encoding=\"utf-8-sig\")\n",
        "print(\"일자별 배당 저장:\", DIV_CSV, \"행수:\", len(df_div))\n",
        "\n",
        "if not df_div.empty:\n",
        "    df_div[\"year\"] = df_div[\"div_date\"].str[:4]\n",
        "    yearly = (df_div.groupby([\"ticker\",\"name\",\"year\"], as_index=False)[\"dividend_per_share\"]\n",
        "              .sum()\n",
        "              .rename(columns={\"dividend_per_share\":\"dividend_sum_per_share\"}))\n",
        "    yearly.to_csv(YEARLY_CSV, index=False, encoding=\"utf-8-sig\")\n",
        "    print(\"연도별 합계 저장:\", YEARLY_CSV, \"행수:\", len(yearly))\n",
        "else:\n",
        "    print(\"연도별 합계 생성 스킵(배당 데이터 없음)\")"
      ],
      "metadata": {
        "colab": {
          "base_uri": "https://localhost:8080/"
        },
        "id": "vaBhkGzpz3AJ",
        "outputId": "d270c0e6-d519-4fd3-abf6-8e2bf509f183"
      },
      "execution_count": 11,
      "outputs": [
        {
          "output_type": "stream",
          "name": "stdout",
          "text": [
            "일자별 배당 저장: ./data/dividends_all_companies_5y.csv 행수: 0\n",
            "연도별 합계 생성 스킵(배당 데이터 없음)\n"
          ]
        }
      ]
    },
    {
      "cell_type": "code",
      "source": [],
      "metadata": {
        "id": "Fz_2SLm8z3ln"
      },
      "execution_count": null,
      "outputs": []
    },
    {
      "cell_type": "markdown",
      "source": [
        "##사용 팁\n",
        "\n",
        "###속도 조절:\n",
        "MAX_WORKERS_CHECK / MAX_WORKERS_DIV와 REQUEST_SLEEP 값을 환경에 맞게 조절. 너무 높이면 야후에서 레이트리밋 걸릴 수 있다.\n",
        "\n",
        "###검증:\n",
        "해외 배당 확실한 티커(AAPL, MSFT, KO, PG 등)를 EXTRA_TICKERS에 넣고 먼저 동작 확인\n",
        "\n",
        "###위키 파싱 실패 시:\n",
        "셀이 한 번에 실패하면 그 셀만 다시 실행\n",
        "위키 테이블 구조가 바뀌거나 일시적 네트워크 이슈가 있을 수 있다."
      ],
      "metadata": {
        "id": "Rfg8fVE8z7Hm"
      }
    },
    {
      "cell_type": "code",
      "source": [
        "# -------------------- 유니버스 생성 함수 --------------------\n",
        "def build_universe_krx() -> pd.DataFrame:\n",
        "    \"\"\"KIND에서 KOSPI/KOSDAQ 전 종목 로딩 -> yahoo_ticker/name 생성\"\"\"\n",
        "    # KOSPI\n",
        "    url_kospi  = \"http://kind.krx.co.kr/corpgeneral/corpList.do?method=download&searchType=13\"\n",
        "    df_kospi   = pd.read_html(url_kospi, header=0, encoding=\"euc-kr\")[0]\n",
        "    df_kospi[\"시장구분\"] = \"KOSPI\"\n",
        "    # KOSDAQ\n",
        "    url_kosdaq = \"http://kind.krx.co.kr/corpgeneral/corpList.do?method=download&marketType=kosdaq&searchType=13\"\n",
        "    df_kosdaq  = pd.read_html(url_kosdaq, header=0, encoding=\"euc-kr\")[0]\n",
        "    df_kosdaq[\"시장구분\"] = \"KOSDAQ\"\n",
        "\n",
        "    df_all = pd.concat([df_kospi, df_kosdaq], ignore_index=True)\n",
        "    df_all = df_all.rename(columns={\"회사명\": \"종목명\", \"종목코드\": \"종목코드\"})\n",
        "    df_all[\"종목코드\"] = df_all[\"종목코드\"].astype(str).str.zfill(6)\n",
        "    # 숫자 6자리만 유지(이상치 제거)\n",
        "    df_all = df_all[df_all[\"종목코드\"].str.match(r\"^\\d{6}$\")]\n",
        "\n",
        "    def to_yahoo(row):\n",
        "        code = row[\"종목코드\"]\n",
        "        mkt  = str(row[\"시장구분\"]).upper()\n",
        "        return f\"{code}.KS\" if mkt == \"KOSPI\" else (f\"{code}.KQ\" if mkt == \"KOSDAQ\" else f\"{code}.KS\")\n",
        "\n",
        "    df_all[\"yahoo_ticker\"] = df_all.apply(to_yahoo, axis=1)\n",
        "    df_all[\"name\"] = df_all[\"종목명\"]\n",
        "    return df_all[[\"yahoo_ticker\",\"name\"]].drop_duplicates().reset_index(drop=True)"
      ],
      "metadata": {
        "id": "pXviJZ5G1CLr"
      },
      "execution_count": null,
      "outputs": []
    }
  ]
}