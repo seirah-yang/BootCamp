{
  "nbformat": 4,
  "nbformat_minor": 0,
  "metadata": {
    "colab": {
      "provenance": [],
      "authorship_tag": "ABX9TyM3zElr2lew/epJ32Ipw/sT",
      "include_colab_link": true
    },
    "kernelspec": {
      "name": "python3",
      "display_name": "Python 3"
    },
    "language_info": {
      "name": "python"
    }
  },
  "cells": [
    {
      "cell_type": "markdown",
      "metadata": {
        "id": "view-in-github",
        "colab_type": "text"
      },
      "source": [
        "<a href=\"https://colab.research.google.com/github/seirah-yang/BootCamp/blob/main/ML_Fullprocess.ipynb\" target=\"_parent\"><img src=\"https://colab.research.google.com/assets/colab-badge.svg\" alt=\"Open In Colab\"/></a>"
      ]
    },
    {
      "cell_type": "code",
      "execution_count": 4,
      "metadata": {
        "colab": {
          "base_uri": "https://localhost:8080/",
          "height": 153
        },
        "id": "zQ7u25Avrbgi",
        "outputId": "f6ae7a9c-2aa5-436a-8b72-7a3aedc4f967"
      },
      "outputs": [
        {
          "output_type": "execute_result",
          "data": {
            "text/plain": [
              "   PassengerId  Survived  Pclass                     Name   Sex   Age  SibSp  \\\n",
              "0            1         0       3  Braund, Mr. Owen Harris  male  22.0      1   \n",
              "\n",
              "   Parch     Ticket  Fare Cabin Embarked  \n",
              "0      0  A/5 21171  7.25   NaN        S  "
            ],
            "text/html": [
              "\n",
              "  <div id=\"df-2a44e66e-f1ed-46ba-b771-95f3c324f062\" class=\"colab-df-container\">\n",
              "    <div>\n",
              "<style scoped>\n",
              "    .dataframe tbody tr th:only-of-type {\n",
              "        vertical-align: middle;\n",
              "    }\n",
              "\n",
              "    .dataframe tbody tr th {\n",
              "        vertical-align: top;\n",
              "    }\n",
              "\n",
              "    .dataframe thead th {\n",
              "        text-align: right;\n",
              "    }\n",
              "</style>\n",
              "<table border=\"1\" class=\"dataframe\">\n",
              "  <thead>\n",
              "    <tr style=\"text-align: right;\">\n",
              "      <th></th>\n",
              "      <th>PassengerId</th>\n",
              "      <th>Survived</th>\n",
              "      <th>Pclass</th>\n",
              "      <th>Name</th>\n",
              "      <th>Sex</th>\n",
              "      <th>Age</th>\n",
              "      <th>SibSp</th>\n",
              "      <th>Parch</th>\n",
              "      <th>Ticket</th>\n",
              "      <th>Fare</th>\n",
              "      <th>Cabin</th>\n",
              "      <th>Embarked</th>\n",
              "    </tr>\n",
              "  </thead>\n",
              "  <tbody>\n",
              "    <tr>\n",
              "      <th>0</th>\n",
              "      <td>1</td>\n",
              "      <td>0</td>\n",
              "      <td>3</td>\n",
              "      <td>Braund, Mr. Owen Harris</td>\n",
              "      <td>male</td>\n",
              "      <td>22.0</td>\n",
              "      <td>1</td>\n",
              "      <td>0</td>\n",
              "      <td>A/5 21171</td>\n",
              "      <td>7.25</td>\n",
              "      <td>NaN</td>\n",
              "      <td>S</td>\n",
              "    </tr>\n",
              "  </tbody>\n",
              "</table>\n",
              "</div>\n",
              "    <div class=\"colab-df-buttons\">\n",
              "\n",
              "  <div class=\"colab-df-container\">\n",
              "    <button class=\"colab-df-convert\" onclick=\"convertToInteractive('df-2a44e66e-f1ed-46ba-b771-95f3c324f062')\"\n",
              "            title=\"Convert this dataframe to an interactive table.\"\n",
              "            style=\"display:none;\">\n",
              "\n",
              "  <svg xmlns=\"http://www.w3.org/2000/svg\" height=\"24px\" viewBox=\"0 -960 960 960\">\n",
              "    <path d=\"M120-120v-720h720v720H120Zm60-500h600v-160H180v160Zm220 220h160v-160H400v160Zm0 220h160v-160H400v160ZM180-400h160v-160H180v160Zm440 0h160v-160H620v160ZM180-180h160v-160H180v160Zm440 0h160v-160H620v160Z\"/>\n",
              "  </svg>\n",
              "    </button>\n",
              "\n",
              "  <style>\n",
              "    .colab-df-container {\n",
              "      display:flex;\n",
              "      gap: 12px;\n",
              "    }\n",
              "\n",
              "    .colab-df-convert {\n",
              "      background-color: #E8F0FE;\n",
              "      border: none;\n",
              "      border-radius: 50%;\n",
              "      cursor: pointer;\n",
              "      display: none;\n",
              "      fill: #1967D2;\n",
              "      height: 32px;\n",
              "      padding: 0 0 0 0;\n",
              "      width: 32px;\n",
              "    }\n",
              "\n",
              "    .colab-df-convert:hover {\n",
              "      background-color: #E2EBFA;\n",
              "      box-shadow: 0px 1px 2px rgba(60, 64, 67, 0.3), 0px 1px 3px 1px rgba(60, 64, 67, 0.15);\n",
              "      fill: #174EA6;\n",
              "    }\n",
              "\n",
              "    .colab-df-buttons div {\n",
              "      margin-bottom: 4px;\n",
              "    }\n",
              "\n",
              "    [theme=dark] .colab-df-convert {\n",
              "      background-color: #3B4455;\n",
              "      fill: #D2E3FC;\n",
              "    }\n",
              "\n",
              "    [theme=dark] .colab-df-convert:hover {\n",
              "      background-color: #434B5C;\n",
              "      box-shadow: 0px 1px 3px 1px rgba(0, 0, 0, 0.15);\n",
              "      filter: drop-shadow(0px 1px 2px rgba(0, 0, 0, 0.3));\n",
              "      fill: #FFFFFF;\n",
              "    }\n",
              "  </style>\n",
              "\n",
              "    <script>\n",
              "      const buttonEl =\n",
              "        document.querySelector('#df-2a44e66e-f1ed-46ba-b771-95f3c324f062 button.colab-df-convert');\n",
              "      buttonEl.style.display =\n",
              "        google.colab.kernel.accessAllowed ? 'block' : 'none';\n",
              "\n",
              "      async function convertToInteractive(key) {\n",
              "        const element = document.querySelector('#df-2a44e66e-f1ed-46ba-b771-95f3c324f062');\n",
              "        const dataTable =\n",
              "          await google.colab.kernel.invokeFunction('convertToInteractive',\n",
              "                                                    [key], {});\n",
              "        if (!dataTable) return;\n",
              "\n",
              "        const docLinkHtml = 'Like what you see? Visit the ' +\n",
              "          '<a target=\"_blank\" href=https://colab.research.google.com/notebooks/data_table.ipynb>data table notebook</a>'\n",
              "          + ' to learn more about interactive tables.';\n",
              "        element.innerHTML = '';\n",
              "        dataTable['output_type'] = 'display_data';\n",
              "        await google.colab.output.renderOutput(dataTable, element);\n",
              "        const docLink = document.createElement('div');\n",
              "        docLink.innerHTML = docLinkHtml;\n",
              "        element.appendChild(docLink);\n",
              "      }\n",
              "    </script>\n",
              "  </div>\n",
              "\n",
              "\n",
              "    </div>\n",
              "  </div>\n"
            ],
            "application/vnd.google.colaboratory.intrinsic+json": {
              "type": "dataframe",
              "variable_name": "df",
              "summary": "{\n  \"name\": \"df\",\n  \"rows\": 891,\n  \"fields\": [\n    {\n      \"column\": \"PassengerId\",\n      \"properties\": {\n        \"dtype\": \"number\",\n        \"std\": 257,\n        \"min\": 1,\n        \"max\": 891,\n        \"num_unique_values\": 891,\n        \"samples\": [\n          710,\n          440,\n          841\n        ],\n        \"semantic_type\": \"\",\n        \"description\": \"\"\n      }\n    },\n    {\n      \"column\": \"Survived\",\n      \"properties\": {\n        \"dtype\": \"number\",\n        \"std\": 0,\n        \"min\": 0,\n        \"max\": 1,\n        \"num_unique_values\": 2,\n        \"samples\": [\n          1,\n          0\n        ],\n        \"semantic_type\": \"\",\n        \"description\": \"\"\n      }\n    },\n    {\n      \"column\": \"Pclass\",\n      \"properties\": {\n        \"dtype\": \"number\",\n        \"std\": 0,\n        \"min\": 1,\n        \"max\": 3,\n        \"num_unique_values\": 3,\n        \"samples\": [\n          3,\n          1\n        ],\n        \"semantic_type\": \"\",\n        \"description\": \"\"\n      }\n    },\n    {\n      \"column\": \"Name\",\n      \"properties\": {\n        \"dtype\": \"string\",\n        \"num_unique_values\": 891,\n        \"samples\": [\n          \"Moubarek, Master. Halim Gonios (\\\"William George\\\")\",\n          \"Kvillner, Mr. Johan Henrik Johannesson\"\n        ],\n        \"semantic_type\": \"\",\n        \"description\": \"\"\n      }\n    },\n    {\n      \"column\": \"Sex\",\n      \"properties\": {\n        \"dtype\": \"category\",\n        \"num_unique_values\": 2,\n        \"samples\": [\n          \"female\",\n          \"male\"\n        ],\n        \"semantic_type\": \"\",\n        \"description\": \"\"\n      }\n    },\n    {\n      \"column\": \"Age\",\n      \"properties\": {\n        \"dtype\": \"number\",\n        \"std\": 14.526497332334044,\n        \"min\": 0.42,\n        \"max\": 80.0,\n        \"num_unique_values\": 88,\n        \"samples\": [\n          0.75,\n          22.0\n        ],\n        \"semantic_type\": \"\",\n        \"description\": \"\"\n      }\n    },\n    {\n      \"column\": \"SibSp\",\n      \"properties\": {\n        \"dtype\": \"number\",\n        \"std\": 1,\n        \"min\": 0,\n        \"max\": 8,\n        \"num_unique_values\": 7,\n        \"samples\": [\n          1,\n          0\n        ],\n        \"semantic_type\": \"\",\n        \"description\": \"\"\n      }\n    },\n    {\n      \"column\": \"Parch\",\n      \"properties\": {\n        \"dtype\": \"number\",\n        \"std\": 0,\n        \"min\": 0,\n        \"max\": 6,\n        \"num_unique_values\": 7,\n        \"samples\": [\n          0,\n          1\n        ],\n        \"semantic_type\": \"\",\n        \"description\": \"\"\n      }\n    },\n    {\n      \"column\": \"Ticket\",\n      \"properties\": {\n        \"dtype\": \"string\",\n        \"num_unique_values\": 681,\n        \"samples\": [\n          \"11774\",\n          \"248740\"\n        ],\n        \"semantic_type\": \"\",\n        \"description\": \"\"\n      }\n    },\n    {\n      \"column\": \"Fare\",\n      \"properties\": {\n        \"dtype\": \"number\",\n        \"std\": 49.693428597180905,\n        \"min\": 0.0,\n        \"max\": 512.3292,\n        \"num_unique_values\": 248,\n        \"samples\": [\n          11.2417,\n          51.8625\n        ],\n        \"semantic_type\": \"\",\n        \"description\": \"\"\n      }\n    },\n    {\n      \"column\": \"Cabin\",\n      \"properties\": {\n        \"dtype\": \"category\",\n        \"num_unique_values\": 147,\n        \"samples\": [\n          \"D45\",\n          \"B49\"\n        ],\n        \"semantic_type\": \"\",\n        \"description\": \"\"\n      }\n    },\n    {\n      \"column\": \"Embarked\",\n      \"properties\": {\n        \"dtype\": \"category\",\n        \"num_unique_values\": 3,\n        \"samples\": [\n          \"S\",\n          \"C\"\n        ],\n        \"semantic_type\": \"\",\n        \"description\": \"\"\n      }\n    }\n  ]\n}"
            }
          },
          "metadata": {},
          "execution_count": 4
        }
      ],
      "source": [
        "#1. 데이터 로드\n",
        "import pandas as pd\n",
        "from sklearn.linear_model import LinearRegression\n",
        "import os\n",
        "\n",
        "df = pd.read_csv(\"titanic.csv\")\n",
        "df.head(1)"
      ]
    },
    {
      "cell_type": "code",
      "source": [
        "#2. 결측치 확인#\n",
        "dict(df.isnull().sum())"
      ],
      "metadata": {
        "colab": {
          "base_uri": "https://localhost:8080/"
        },
        "id": "r8lR1rkMrny7",
        "outputId": "5a9a5dfd-ae2e-48b7-a1ad-ec8e082c96e0"
      },
      "execution_count": 5,
      "outputs": [
        {
          "output_type": "execute_result",
          "data": {
            "text/plain": [
              "{'PassengerId': np.int64(0),\n",
              " 'Survived': np.int64(0),\n",
              " 'Pclass': np.int64(0),\n",
              " 'Name': np.int64(0),\n",
              " 'Sex': np.int64(0),\n",
              " 'Age': np.int64(177),\n",
              " 'SibSp': np.int64(0),\n",
              " 'Parch': np.int64(0),\n",
              " 'Ticket': np.int64(0),\n",
              " 'Fare': np.int64(0),\n",
              " 'Cabin': np.int64(687),\n",
              " 'Embarked': np.int64(2)}"
            ]
          },
          "metadata": {},
          "execution_count": 5
        }
      ]
    },
    {
      "cell_type": "code",
      "source": [
        "df[\"Age\"].fillna(df[\"Age\"].mean(), inplace=True)\n",
        "df[\"Embarked\"].fillna(\"S\", inplace=True)"
      ],
      "metadata": {
        "colab": {
          "base_uri": "https://localhost:8080/"
        },
        "id": "isRppP05yCdI",
        "outputId": "40d68143-9644-4db8-9052-87943f19884e"
      },
      "execution_count": 6,
      "outputs": [
        {
          "output_type": "stream",
          "name": "stderr",
          "text": [
            "/tmp/ipython-input-1463978998.py:1: FutureWarning: A value is trying to be set on a copy of a DataFrame or Series through chained assignment using an inplace method.\n",
            "The behavior will change in pandas 3.0. This inplace method will never work because the intermediate object on which we are setting values always behaves as a copy.\n",
            "\n",
            "For example, when doing 'df[col].method(value, inplace=True)', try using 'df.method({col: value}, inplace=True)' or df[col] = df[col].method(value) instead, to perform the operation inplace on the original object.\n",
            "\n",
            "\n",
            "  df[\"Age\"].fillna(df[\"Age\"].mean(), inplace=True)\n",
            "/tmp/ipython-input-1463978998.py:2: FutureWarning: A value is trying to be set on a copy of a DataFrame or Series through chained assignment using an inplace method.\n",
            "The behavior will change in pandas 3.0. This inplace method will never work because the intermediate object on which we are setting values always behaves as a copy.\n",
            "\n",
            "For example, when doing 'df[col].method(value, inplace=True)', try using 'df.method({col: value}, inplace=True)' or df[col] = df[col].method(value) instead, to perform the operation inplace on the original object.\n",
            "\n",
            "\n",
            "  df[\"Embarked\"].fillna(\"S\", inplace=True)\n"
          ]
        }
      ]
    },
    {
      "cell_type": "code",
      "source": [
        "dict(df.isnull().sum())"
      ],
      "metadata": {
        "colab": {
          "base_uri": "https://localhost:8080/"
        },
        "id": "VjmYg9Ssy-GZ",
        "outputId": "601fbf9f-9745-4e33-c463-fd79244e439a"
      },
      "execution_count": 7,
      "outputs": [
        {
          "output_type": "execute_result",
          "data": {
            "text/plain": [
              "{'PassengerId': np.int64(0),\n",
              " 'Survived': np.int64(0),\n",
              " 'Pclass': np.int64(0),\n",
              " 'Name': np.int64(0),\n",
              " 'Sex': np.int64(0),\n",
              " 'Age': np.int64(0),\n",
              " 'SibSp': np.int64(0),\n",
              " 'Parch': np.int64(0),\n",
              " 'Ticket': np.int64(0),\n",
              " 'Fare': np.int64(0),\n",
              " 'Cabin': np.int64(687),\n",
              " 'Embarked': np.int64(0)}"
            ]
          },
          "metadata": {},
          "execution_count": 7
        }
      ]
    },
    {
      "cell_type": "code",
      "source": [
        "#3. 컬럼 셀렉션\n",
        "df.columns\n",
        "new_df = df[['Survived', 'Pclass', 'Sex', 'Age', 'SibSp',  'Parch', 'Fare', 'Embarked']]"
      ],
      "metadata": {
        "id": "fPDK9ma8rnvb"
      },
      "execution_count": 8,
      "outputs": []
    },
    {
      "cell_type": "code",
      "source": [
        "#성별 숫자화\n",
        "new_df[\"Sex\"] = new_df[\"Sex\"].map(lambda x : 0 if 'male' else 1)"
      ],
      "metadata": {
        "colab": {
          "base_uri": "https://localhost:8080/"
        },
        "id": "0-KjWqZkALC8",
        "outputId": "58312732-b319-468b-ccd6-881359f89ab4"
      },
      "execution_count": 9,
      "outputs": [
        {
          "output_type": "stream",
          "name": "stderr",
          "text": [
            "/tmp/ipython-input-2450466666.py:2: SettingWithCopyWarning: \n",
            "A value is trying to be set on a copy of a slice from a DataFrame.\n",
            "Try using .loc[row_indexer,col_indexer] = value instead\n",
            "\n",
            "See the caveats in the documentation: https://pandas.pydata.org/pandas-docs/stable/user_guide/indexing.html#returning-a-view-versus-a-copy\n",
            "  new_df[\"Sex\"] = new_df[\"Sex\"].map(lambda x : 0 if 'male' else 1)\n"
          ]
        }
      ]
    },
    {
      "cell_type": "code",
      "source": [
        "#Embarked 숫자화\n",
        "sdict = {'S':0, 'C':1, 'Q':2}\n",
        "new_df['Embarked'] = new_df['Embarked'].map(lambda x: sdict[x])"
      ],
      "metadata": {
        "colab": {
          "base_uri": "https://localhost:8080/"
        },
        "id": "hQlhktpKsSdk",
        "outputId": "56b2f332-9524-4632-f796-6fbc05669472"
      },
      "execution_count": 10,
      "outputs": [
        {
          "output_type": "stream",
          "name": "stderr",
          "text": [
            "/tmp/ipython-input-2894719560.py:3: SettingWithCopyWarning: \n",
            "A value is trying to be set on a copy of a slice from a DataFrame.\n",
            "Try using .loc[row_indexer,col_indexer] = value instead\n",
            "\n",
            "See the caveats in the documentation: https://pandas.pydata.org/pandas-docs/stable/user_guide/indexing.html#returning-a-view-versus-a-copy\n",
            "  new_df['Embarked'] = new_df['Embarked'].map(lambda x: sdict[x])\n"
          ]
        }
      ]
    },
    {
      "cell_type": "code",
      "source": [
        "new_df.head(1)"
      ],
      "metadata": {
        "colab": {
          "base_uri": "https://localhost:8080/",
          "height": 81
        },
        "id": "zWFm0th3sq-5",
        "outputId": "81b93e0a-a4b2-4313-e53d-bfb25ad32a64"
      },
      "execution_count": 11,
      "outputs": [
        {
          "output_type": "execute_result",
          "data": {
            "text/plain": [
              "   Survived  Pclass  Sex   Age  SibSp  Parch  Fare  Embarked\n",
              "0         0       3    0  22.0      1      0  7.25         0"
            ],
            "text/html": [
              "\n",
              "  <div id=\"df-be2c07f4-15a9-4b86-8876-e6dbd1f0bf6b\" class=\"colab-df-container\">\n",
              "    <div>\n",
              "<style scoped>\n",
              "    .dataframe tbody tr th:only-of-type {\n",
              "        vertical-align: middle;\n",
              "    }\n",
              "\n",
              "    .dataframe tbody tr th {\n",
              "        vertical-align: top;\n",
              "    }\n",
              "\n",
              "    .dataframe thead th {\n",
              "        text-align: right;\n",
              "    }\n",
              "</style>\n",
              "<table border=\"1\" class=\"dataframe\">\n",
              "  <thead>\n",
              "    <tr style=\"text-align: right;\">\n",
              "      <th></th>\n",
              "      <th>Survived</th>\n",
              "      <th>Pclass</th>\n",
              "      <th>Sex</th>\n",
              "      <th>Age</th>\n",
              "      <th>SibSp</th>\n",
              "      <th>Parch</th>\n",
              "      <th>Fare</th>\n",
              "      <th>Embarked</th>\n",
              "    </tr>\n",
              "  </thead>\n",
              "  <tbody>\n",
              "    <tr>\n",
              "      <th>0</th>\n",
              "      <td>0</td>\n",
              "      <td>3</td>\n",
              "      <td>0</td>\n",
              "      <td>22.0</td>\n",
              "      <td>1</td>\n",
              "      <td>0</td>\n",
              "      <td>7.25</td>\n",
              "      <td>0</td>\n",
              "    </tr>\n",
              "  </tbody>\n",
              "</table>\n",
              "</div>\n",
              "    <div class=\"colab-df-buttons\">\n",
              "\n",
              "  <div class=\"colab-df-container\">\n",
              "    <button class=\"colab-df-convert\" onclick=\"convertToInteractive('df-be2c07f4-15a9-4b86-8876-e6dbd1f0bf6b')\"\n",
              "            title=\"Convert this dataframe to an interactive table.\"\n",
              "            style=\"display:none;\">\n",
              "\n",
              "  <svg xmlns=\"http://www.w3.org/2000/svg\" height=\"24px\" viewBox=\"0 -960 960 960\">\n",
              "    <path d=\"M120-120v-720h720v720H120Zm60-500h600v-160H180v160Zm220 220h160v-160H400v160Zm0 220h160v-160H400v160ZM180-400h160v-160H180v160Zm440 0h160v-160H620v160ZM180-180h160v-160H180v160Zm440 0h160v-160H620v160Z\"/>\n",
              "  </svg>\n",
              "    </button>\n",
              "\n",
              "  <style>\n",
              "    .colab-df-container {\n",
              "      display:flex;\n",
              "      gap: 12px;\n",
              "    }\n",
              "\n",
              "    .colab-df-convert {\n",
              "      background-color: #E8F0FE;\n",
              "      border: none;\n",
              "      border-radius: 50%;\n",
              "      cursor: pointer;\n",
              "      display: none;\n",
              "      fill: #1967D2;\n",
              "      height: 32px;\n",
              "      padding: 0 0 0 0;\n",
              "      width: 32px;\n",
              "    }\n",
              "\n",
              "    .colab-df-convert:hover {\n",
              "      background-color: #E2EBFA;\n",
              "      box-shadow: 0px 1px 2px rgba(60, 64, 67, 0.3), 0px 1px 3px 1px rgba(60, 64, 67, 0.15);\n",
              "      fill: #174EA6;\n",
              "    }\n",
              "\n",
              "    .colab-df-buttons div {\n",
              "      margin-bottom: 4px;\n",
              "    }\n",
              "\n",
              "    [theme=dark] .colab-df-convert {\n",
              "      background-color: #3B4455;\n",
              "      fill: #D2E3FC;\n",
              "    }\n",
              "\n",
              "    [theme=dark] .colab-df-convert:hover {\n",
              "      background-color: #434B5C;\n",
              "      box-shadow: 0px 1px 3px 1px rgba(0, 0, 0, 0.15);\n",
              "      filter: drop-shadow(0px 1px 2px rgba(0, 0, 0, 0.3));\n",
              "      fill: #FFFFFF;\n",
              "    }\n",
              "  </style>\n",
              "\n",
              "    <script>\n",
              "      const buttonEl =\n",
              "        document.querySelector('#df-be2c07f4-15a9-4b86-8876-e6dbd1f0bf6b button.colab-df-convert');\n",
              "      buttonEl.style.display =\n",
              "        google.colab.kernel.accessAllowed ? 'block' : 'none';\n",
              "\n",
              "      async function convertToInteractive(key) {\n",
              "        const element = document.querySelector('#df-be2c07f4-15a9-4b86-8876-e6dbd1f0bf6b');\n",
              "        const dataTable =\n",
              "          await google.colab.kernel.invokeFunction('convertToInteractive',\n",
              "                                                    [key], {});\n",
              "        if (!dataTable) return;\n",
              "\n",
              "        const docLinkHtml = 'Like what you see? Visit the ' +\n",
              "          '<a target=\"_blank\" href=https://colab.research.google.com/notebooks/data_table.ipynb>data table notebook</a>'\n",
              "          + ' to learn more about interactive tables.';\n",
              "        element.innerHTML = '';\n",
              "        dataTable['output_type'] = 'display_data';\n",
              "        await google.colab.output.renderOutput(dataTable, element);\n",
              "        const docLink = document.createElement('div');\n",
              "        docLink.innerHTML = docLinkHtml;\n",
              "        element.appendChild(docLink);\n",
              "      }\n",
              "    </script>\n",
              "  </div>\n",
              "\n",
              "\n",
              "    </div>\n",
              "  </div>\n"
            ],
            "application/vnd.google.colaboratory.intrinsic+json": {
              "type": "dataframe",
              "variable_name": "new_df",
              "summary": "{\n  \"name\": \"new_df\",\n  \"rows\": 891,\n  \"fields\": [\n    {\n      \"column\": \"Survived\",\n      \"properties\": {\n        \"dtype\": \"number\",\n        \"std\": 0,\n        \"min\": 0,\n        \"max\": 1,\n        \"num_unique_values\": 2,\n        \"samples\": [\n          1,\n          0\n        ],\n        \"semantic_type\": \"\",\n        \"description\": \"\"\n      }\n    },\n    {\n      \"column\": \"Pclass\",\n      \"properties\": {\n        \"dtype\": \"number\",\n        \"std\": 0,\n        \"min\": 1,\n        \"max\": 3,\n        \"num_unique_values\": 3,\n        \"samples\": [\n          3,\n          1\n        ],\n        \"semantic_type\": \"\",\n        \"description\": \"\"\n      }\n    },\n    {\n      \"column\": \"Sex\",\n      \"properties\": {\n        \"dtype\": \"number\",\n        \"std\": 0,\n        \"min\": 0,\n        \"max\": 0,\n        \"num_unique_values\": 1,\n        \"samples\": [\n          0\n        ],\n        \"semantic_type\": \"\",\n        \"description\": \"\"\n      }\n    },\n    {\n      \"column\": \"Age\",\n      \"properties\": {\n        \"dtype\": \"number\",\n        \"std\": 13.002015226002884,\n        \"min\": 0.42,\n        \"max\": 80.0,\n        \"num_unique_values\": 89,\n        \"samples\": [\n          59.0\n        ],\n        \"semantic_type\": \"\",\n        \"description\": \"\"\n      }\n    },\n    {\n      \"column\": \"SibSp\",\n      \"properties\": {\n        \"dtype\": \"number\",\n        \"std\": 1,\n        \"min\": 0,\n        \"max\": 8,\n        \"num_unique_values\": 7,\n        \"samples\": [\n          1\n        ],\n        \"semantic_type\": \"\",\n        \"description\": \"\"\n      }\n    },\n    {\n      \"column\": \"Parch\",\n      \"properties\": {\n        \"dtype\": \"number\",\n        \"std\": 0,\n        \"min\": 0,\n        \"max\": 6,\n        \"num_unique_values\": 7,\n        \"samples\": [\n          0\n        ],\n        \"semantic_type\": \"\",\n        \"description\": \"\"\n      }\n    },\n    {\n      \"column\": \"Fare\",\n      \"properties\": {\n        \"dtype\": \"number\",\n        \"std\": 49.693428597180905,\n        \"min\": 0.0,\n        \"max\": 512.3292,\n        \"num_unique_values\": 248,\n        \"samples\": [\n          11.2417\n        ],\n        \"semantic_type\": \"\",\n        \"description\": \"\"\n      }\n    },\n    {\n      \"column\": \"Embarked\",\n      \"properties\": {\n        \"dtype\": \"number\",\n        \"std\": 0,\n        \"min\": 0,\n        \"max\": 2,\n        \"num_unique_values\": 3,\n        \"samples\": [\n          0\n        ],\n        \"semantic_type\": \"\",\n        \"description\": \"\"\n      }\n    }\n  ]\n}"
            }
          },
          "metadata": {},
          "execution_count": 11
        }
      ]
    },
    {
      "cell_type": "code",
      "source": [
        "#4. K-means 파생변수\n",
        "from sklearn.cluster import KMeans\n",
        "km = KMeans(n_clusters=3, init = \"k-means++\") # kmeans++은 처음 센트로이드를 계산적으로 초기화함\n",
        "new_df[\"cluster\"] = km.fit_predict(new_df.drop(\"Survived\", axis=1)) #survived colum을 제외한 나머지 컬럼만\n",
        "            # 데이터를 줘서 3개로 군집 라벨링"
      ],
      "metadata": {
        "id": "KatX0cyrrnse",
        "colab": {
          "base_uri": "https://localhost:8080/"
        },
        "outputId": "3aba64aa-2aa5-4557-9ffa-bbb1b27c37e4"
      },
      "execution_count": 13,
      "outputs": [
        {
          "output_type": "stream",
          "name": "stderr",
          "text": [
            "/tmp/ipython-input-4248965331.py:4: SettingWithCopyWarning: \n",
            "A value is trying to be set on a copy of a slice from a DataFrame.\n",
            "Try using .loc[row_indexer,col_indexer] = value instead\n",
            "\n",
            "See the caveats in the documentation: https://pandas.pydata.org/pandas-docs/stable/user_guide/indexing.html#returning-a-view-versus-a-copy\n",
            "  new_df[\"cluster\"] = km.fit_predict(new_df.drop(\"Survived\", axis=1)) #survived colum을 제외한 나머지 컬럼만\n"
          ]
        }
      ]
    },
    {
      "cell_type": "code",
      "source": [
        "#5. scaling\n",
        "#6. training-test-split\n",
        "import numpy as np\n",
        "from sklearn.preprocessing import RobustScaler\n",
        "from sklearn.model_selection import train_test_split\n",
        "\n",
        "X_train, X_valid, y_train, y_valid = train_test_split(new_df.drop(\"Survived\", axis=1),\n",
        "                                                    new_df[\"Survived\"],\n",
        "                                                    test_size=0.2,\n",
        "                                                    shuffle=True)\n",
        "X_train = RobustScaler().fit_transform(X_train)\n",
        "X_valid = RobustScaler().fit_transform(X_valid)"
      ],
      "metadata": {
        "id": "s7kElnQsrnp8"
      },
      "execution_count": 17,
      "outputs": []
    },
    {
      "cell_type": "code",
      "source": [
        "#AutoML\n",
        "#pycaret으로 ahepf randomForest / DecisionTree/Logistic regression"
      ],
      "metadata": {
        "id": "CedoGNc6rnnM"
      },
      "execution_count": 18,
      "outputs": []
    },
    {
      "cell_type": "code",
      "source": [
        "!pip install optuna\n"
      ],
      "metadata": {
        "id": "cJ9CPiIYrnj8",
        "colab": {
          "base_uri": "https://localhost:8080/"
        },
        "outputId": "b04ba2da-920b-49f7-9d2f-a0754c12d226"
      },
      "execution_count": 19,
      "outputs": [
        {
          "output_type": "stream",
          "name": "stdout",
          "text": [
            "Requirement already satisfied: optuna in /usr/local/lib/python3.12/dist-packages (4.5.0)\n",
            "Requirement already satisfied: alembic>=1.5.0 in /usr/local/lib/python3.12/dist-packages (from optuna) (1.16.5)\n",
            "Requirement already satisfied: colorlog in /usr/local/lib/python3.12/dist-packages (from optuna) (6.9.0)\n",
            "Requirement already satisfied: numpy in /usr/local/lib/python3.12/dist-packages (from optuna) (2.0.2)\n",
            "Requirement already satisfied: packaging>=20.0 in /usr/local/lib/python3.12/dist-packages (from optuna) (25.0)\n",
            "Requirement already satisfied: sqlalchemy>=1.4.2 in /usr/local/lib/python3.12/dist-packages (from optuna) (2.0.43)\n",
            "Requirement already satisfied: tqdm in /usr/local/lib/python3.12/dist-packages (from optuna) (4.67.1)\n",
            "Requirement already satisfied: PyYAML in /usr/local/lib/python3.12/dist-packages (from optuna) (6.0.2)\n",
            "Requirement already satisfied: Mako in /usr/lib/python3/dist-packages (from alembic>=1.5.0->optuna) (1.1.3)\n",
            "Requirement already satisfied: typing-extensions>=4.12 in /usr/local/lib/python3.12/dist-packages (from alembic>=1.5.0->optuna) (4.15.0)\n",
            "Requirement already satisfied: greenlet>=1 in /usr/local/lib/python3.12/dist-packages (from sqlalchemy>=1.4.2->optuna) (3.2.4)\n"
          ]
        }
      ]
    },
    {
      "cell_type": "code",
      "source": [
        "#8. optuna\n",
        "import optuna\n",
        "from sklearn.metrics import f1_score\n",
        "from sklearn.tree import DecisionTreeClassifier\n",
        "from sklearn.ensemble import RandomForestClassifier\n",
        "from sklearn.linear_model import LogisticRegression\n",
        "\n",
        "def DecisionTreeobjective(trial):\n",
        "    max_depth = trial.suggest_int(\"max_depth\", 2, 20)\n",
        "    min_samples_split = trial.suggest_int(\"min_samples_split\", 2, 20)\n",
        "    model = DecisionTreeClassifier(max_depth=max_depth, min_samples_split = min_samples_split, random_state=42)\n",
        "    model.fit(X_train, y_train)\n",
        "    y_pred =  model.predict(X_valid)\n",
        "    return f1_score(y_valid, y_pred)\n",
        "\n",
        "study = optuna.create_study(direction=\"maximize\")\n",
        "study.optimize(DecisionTreeobjective, n_trials=20)\n",
        "print(\"Best parameters:\", study.best_params)"
      ],
      "metadata": {
        "id": "IPUr3ZNbrnYy",
        "colab": {
          "base_uri": "https://localhost:8080/"
        },
        "outputId": "1d278a90-18a4-4f64-d34e-fc80fb23f538"
      },
      "execution_count": 28,
      "outputs": [
        {
          "output_type": "stream",
          "name": "stderr",
          "text": [
            "[I 2025-08-29 12:20:47,161] A new study created in memory with name: no-name-1304817e-c91b-42a0-ae76-d8cde69c0fa3\n",
            "[I 2025-08-29 12:20:47,172] Trial 0 finished with value: 0.5571428571428572 and parameters: {'max_depth': 13, 'min_samples_split': 12}. Best is trial 0 with value: 0.5571428571428572.\n",
            "[I 2025-08-29 12:20:47,181] Trial 1 finished with value: 0.5899280575539568 and parameters: {'max_depth': 17, 'min_samples_split': 16}. Best is trial 1 with value: 0.5899280575539568.\n",
            "[I 2025-08-29 12:20:47,189] Trial 2 finished with value: 0.5857142857142857 and parameters: {'max_depth': 14, 'min_samples_split': 14}. Best is trial 1 with value: 0.5899280575539568.\n",
            "[I 2025-08-29 12:20:47,198] Trial 3 finished with value: 0.5957446808510638 and parameters: {'max_depth': 16, 'min_samples_split': 16}. Best is trial 3 with value: 0.5957446808510638.\n",
            "[I 2025-08-29 12:20:47,208] Trial 4 finished with value: 0.5413533834586466 and parameters: {'max_depth': 19, 'min_samples_split': 7}. Best is trial 3 with value: 0.5957446808510638.\n",
            "[I 2025-08-29 12:20:47,216] Trial 5 finished with value: 0.375 and parameters: {'max_depth': 4, 'min_samples_split': 3}. Best is trial 3 with value: 0.5957446808510638.\n",
            "[I 2025-08-29 12:20:47,224] Trial 6 finished with value: 0.5693430656934306 and parameters: {'max_depth': 14, 'min_samples_split': 5}. Best is trial 3 with value: 0.5957446808510638.\n",
            "[I 2025-08-29 12:20:47,233] Trial 7 finished with value: 0.5238095238095238 and parameters: {'max_depth': 17, 'min_samples_split': 8}. Best is trial 3 with value: 0.5957446808510638.\n",
            "[I 2025-08-29 12:20:47,241] Trial 8 finished with value: 0.48695652173913045 and parameters: {'max_depth': 7, 'min_samples_split': 2}. Best is trial 3 with value: 0.5957446808510638.\n",
            "[I 2025-08-29 12:20:47,250] Trial 9 finished with value: 0.5190839694656488 and parameters: {'max_depth': 12, 'min_samples_split': 12}. Best is trial 3 with value: 0.5957446808510638.\n",
            "[I 2025-08-29 12:20:47,264] Trial 10 finished with value: 0.5210084033613446 and parameters: {'max_depth': 10, 'min_samples_split': 20}. Best is trial 3 with value: 0.5957446808510638.\n",
            "[I 2025-08-29 12:20:47,278] Trial 11 finished with value: 0.5899280575539568 and parameters: {'max_depth': 20, 'min_samples_split': 17}. Best is trial 3 with value: 0.5957446808510638.\n",
            "[I 2025-08-29 12:20:47,292] Trial 12 finished with value: 0.5899280575539568 and parameters: {'max_depth': 17, 'min_samples_split': 16}. Best is trial 3 with value: 0.5957446808510638.\n",
            "[I 2025-08-29 12:20:47,306] Trial 13 finished with value: 0.5735294117647058 and parameters: {'max_depth': 16, 'min_samples_split': 20}. Best is trial 3 with value: 0.5957446808510638.\n",
            "[I 2025-08-29 12:20:47,321] Trial 14 finished with value: 0.5483870967741935 and parameters: {'max_depth': 10, 'min_samples_split': 17}. Best is trial 3 with value: 0.5957446808510638.\n",
            "[I 2025-08-29 12:20:47,338] Trial 15 finished with value: 0.5882352941176471 and parameters: {'max_depth': 18, 'min_samples_split': 15}. Best is trial 3 with value: 0.5957446808510638.\n",
            "[I 2025-08-29 12:20:47,354] Trial 16 finished with value: 0.556390977443609 and parameters: {'max_depth': 16, 'min_samples_split': 9}. Best is trial 3 with value: 0.5957446808510638.\n",
            "[I 2025-08-29 12:20:47,368] Trial 17 finished with value: 0.2727272727272727 and parameters: {'max_depth': 2, 'min_samples_split': 18}. Best is trial 3 with value: 0.5957446808510638.\n",
            "[I 2025-08-29 12:20:47,384] Trial 18 finished with value: 0.5671641791044776 and parameters: {'max_depth': 20, 'min_samples_split': 14}. Best is trial 3 with value: 0.5957446808510638.\n",
            "[I 2025-08-29 12:20:47,399] Trial 19 finished with value: 0.5166666666666667 and parameters: {'max_depth': 8, 'min_samples_split': 11}. Best is trial 3 with value: 0.5957446808510638.\n"
          ]
        },
        {
          "output_type": "stream",
          "name": "stdout",
          "text": [
            "Best parameters: {'max_depth': 16, 'min_samples_split': 16}\n"
          ]
        }
      ]
    },
    {
      "cell_type": "code",
      "source": [
        "\n",
        "def RandomForestobjective(trial):\n",
        "  n_estimators = trial.suggest_int(\"n_estimators\", 50, 300)\n",
        "  max_depth = trial.suggest_int(\"max_depth\", 2, 20)\n",
        "  model = RandomForestClassifier(n_estimators=n_estimators, max_depth=max_depth, random_state=42)\n",
        "  model.fit(X_train, y_train)\n",
        "  y_pred = model.predict(X_valid)\n",
        "  return f1_score(y_valid, y_pred)\n",
        "\n",
        "study = optuna.create_study(direction=\"maximize\")\n",
        "study.optimize(RandomForestobjective, n_trials=20)\n",
        "print(\"Best parameters:\", study.best_params)"
      ],
      "metadata": {
        "colab": {
          "base_uri": "https://localhost:8080/"
        },
        "id": "JOCRuJ2AvED_",
        "outputId": "e2326fc4-2ab9-4400-ccd5-5475cadf8848"
      },
      "execution_count": 35,
      "outputs": [
        {
          "output_type": "stream",
          "name": "stderr",
          "text": [
            "[I 2025-08-29 12:25:45,617] A new study created in memory with name: no-name-c8c8137c-eb9d-43d5-bf9a-11e8fc621a1c\n",
            "[I 2025-08-29 12:25:46,212] Trial 0 finished with value: 0.5555555555555556 and parameters: {'n_estimators': 262, 'max_depth': 17}. Best is trial 0 with value: 0.5555555555555556.\n",
            "[I 2025-08-29 12:25:46,686] Trial 1 finished with value: 0.546875 and parameters: {'n_estimators': 213, 'max_depth': 15}. Best is trial 0 with value: 0.5555555555555556.\n",
            "[I 2025-08-29 12:25:47,130] Trial 2 finished with value: 0.5225225225225225 and parameters: {'n_estimators': 253, 'max_depth': 4}. Best is trial 0 with value: 0.5555555555555556.\n",
            "[I 2025-08-29 12:25:47,760] Trial 3 finished with value: 0.56 and parameters: {'n_estimators': 287, 'max_depth': 12}. Best is trial 3 with value: 0.56.\n",
            "[I 2025-08-29 12:25:47,935] Trial 4 finished with value: 0.5225225225225225 and parameters: {'n_estimators': 94, 'max_depth': 5}. Best is trial 3 with value: 0.56.\n",
            "[I 2025-08-29 12:25:48,139] Trial 5 finished with value: 0.5203252032520326 and parameters: {'n_estimators': 94, 'max_depth': 9}. Best is trial 3 with value: 0.56.\n",
            "[I 2025-08-29 12:25:48,486] Trial 6 finished with value: 0.5357142857142857 and parameters: {'n_estimators': 202, 'max_depth': 5}. Best is trial 3 with value: 0.56.\n",
            "[I 2025-08-29 12:25:49,151] Trial 7 finished with value: 0.544 and parameters: {'n_estimators': 216, 'max_depth': 13}. Best is trial 3 with value: 0.56.\n",
            "[I 2025-08-29 12:25:49,817] Trial 8 finished with value: 0.528 and parameters: {'n_estimators': 174, 'max_depth': 15}. Best is trial 3 with value: 0.56.\n",
            "[I 2025-08-29 12:25:50,645] Trial 9 finished with value: 0.5225225225225225 and parameters: {'n_estimators': 293, 'max_depth': 4}. Best is trial 3 with value: 0.56.\n",
            "[I 2025-08-29 12:25:51,250] Trial 10 finished with value: 0.546875 and parameters: {'n_estimators': 161, 'max_depth': 20}. Best is trial 3 with value: 0.56.\n",
            "[I 2025-08-29 12:25:52,207] Trial 11 finished with value: 0.546875 and parameters: {'n_estimators': 297, 'max_depth': 20}. Best is trial 3 with value: 0.56.\n",
            "[I 2025-08-29 12:25:52,760] Trial 12 finished with value: 0.5409836065573771 and parameters: {'n_estimators': 257, 'max_depth': 10}. Best is trial 3 with value: 0.56.\n",
            "[I 2025-08-29 12:25:53,381] Trial 13 finished with value: 0.5555555555555556 and parameters: {'n_estimators': 262, 'max_depth': 17}. Best is trial 3 with value: 0.56.\n",
            "[I 2025-08-29 12:25:53,703] Trial 14 finished with value: 0.5714285714285714 and parameters: {'n_estimators': 133, 'max_depth': 12}. Best is trial 14 with value: 0.5714285714285714.\n",
            "[I 2025-08-29 12:25:54,000] Trial 15 finished with value: 0.5289256198347108 and parameters: {'n_estimators': 139, 'max_depth': 8}. Best is trial 14 with value: 0.5714285714285714.\n",
            "[I 2025-08-29 12:25:54,142] Trial 16 finished with value: 0.5483870967741935 and parameters: {'n_estimators': 57, 'max_depth': 12}. Best is trial 14 with value: 0.5714285714285714.\n",
            "[I 2025-08-29 12:25:54,389] Trial 17 finished with value: 0.5084745762711864 and parameters: {'n_estimators': 126, 'max_depth': 7}. Best is trial 14 with value: 0.5714285714285714.\n",
            "[I 2025-08-29 12:25:54,645] Trial 18 finished with value: 0.5511811023622047 and parameters: {'n_estimators': 118, 'max_depth': 11}. Best is trial 14 with value: 0.5714285714285714.\n",
            "[I 2025-08-29 12:25:54,748] Trial 19 finished with value: 0.47619047619047616 and parameters: {'n_estimators': 54, 'max_depth': 2}. Best is trial 14 with value: 0.5714285714285714.\n"
          ]
        },
        {
          "output_type": "stream",
          "name": "stdout",
          "text": [
            "Best parameters: {'n_estimators': 133, 'max_depth': 12}\n"
          ]
        }
      ]
    },
    {
      "cell_type": "code",
      "source": [
        "def Logisticobjective(trial):\n",
        "  C = trial.suggest_loguniform(\"C\", 1e-3, 10)\n",
        "  model = LogisticRegression(C=C, max_iter=1000, random_state=42)\n",
        "  model.fit(X_train, y_train)\n",
        "  y_pred = model.predict(X_valid)\n",
        "  return f1_score(y_valid, y_pred)\n",
        "\n",
        "study = optuna.create_study(direction=\"maximize\")\n",
        "study.optimize(Logisticobjective, n_trials=20)\n",
        "print(\"Best parameters:\", study.best_params)\n"
      ],
      "metadata": {
        "colab": {
          "base_uri": "https://localhost:8080/"
        },
        "id": "M9FHGnGZv7M3",
        "outputId": "ce39abd2-08b6-4762-f9a0-e35e4eb4e6c8"
      },
      "execution_count": 36,
      "outputs": [
        {
          "output_type": "stream",
          "name": "stderr",
          "text": [
            "[I 2025-08-29 12:25:58,844] A new study created in memory with name: no-name-971bcfca-4455-496a-b319-a612f9655aea\n",
            "/tmp/ipython-input-1259242089.py:2: FutureWarning: suggest_loguniform has been deprecated in v3.0.0. This feature will be removed in v6.0.0. See https://github.com/optuna/optuna/releases/tag/v3.0.0. Use suggest_float(..., log=True) instead.\n",
            "  C = trial.suggest_loguniform(\"C\", 1e-3, 10)\n",
            "[I 2025-08-29 12:25:58,866] Trial 0 finished with value: 0.5573770491803278 and parameters: {'C': 0.47261082126274523}. Best is trial 0 with value: 0.5573770491803278.\n",
            "/tmp/ipython-input-1259242089.py:2: FutureWarning: suggest_loguniform has been deprecated in v3.0.0. This feature will be removed in v6.0.0. See https://github.com/optuna/optuna/releases/tag/v3.0.0. Use suggest_float(..., log=True) instead.\n",
            "  C = trial.suggest_loguniform(\"C\", 1e-3, 10)\n",
            "[I 2025-08-29 12:25:58,880] Trial 1 finished with value: 0.5645161290322581 and parameters: {'C': 3.9272522462491173}. Best is trial 1 with value: 0.5645161290322581.\n",
            "/tmp/ipython-input-1259242089.py:2: FutureWarning: suggest_loguniform has been deprecated in v3.0.0. This feature will be removed in v6.0.0. See https://github.com/optuna/optuna/releases/tag/v3.0.0. Use suggest_float(..., log=True) instead.\n",
            "  C = trial.suggest_loguniform(\"C\", 1e-3, 10)\n",
            "[I 2025-08-29 12:25:58,890] Trial 2 finished with value: 0.23255813953488372 and parameters: {'C': 0.001399291723689454}. Best is trial 1 with value: 0.5645161290322581.\n",
            "/tmp/ipython-input-1259242089.py:2: FutureWarning: suggest_loguniform has been deprecated in v3.0.0. This feature will be removed in v6.0.0. See https://github.com/optuna/optuna/releases/tag/v3.0.0. Use suggest_float(..., log=True) instead.\n",
            "  C = trial.suggest_loguniform(\"C\", 1e-3, 10)\n",
            "[I 2025-08-29 12:25:58,902] Trial 3 finished with value: 0.5619834710743802 and parameters: {'C': 0.28949178283221816}. Best is trial 1 with value: 0.5645161290322581.\n",
            "/tmp/ipython-input-1259242089.py:2: FutureWarning: suggest_loguniform has been deprecated in v3.0.0. This feature will be removed in v6.0.0. See https://github.com/optuna/optuna/releases/tag/v3.0.0. Use suggest_float(..., log=True) instead.\n",
            "  C = trial.suggest_loguniform(\"C\", 1e-3, 10)\n",
            "[I 2025-08-29 12:25:58,913] Trial 4 finished with value: 0.4158415841584158 and parameters: {'C': 0.009597667017411427}. Best is trial 1 with value: 0.5645161290322581.\n",
            "/tmp/ipython-input-1259242089.py:2: FutureWarning: suggest_loguniform has been deprecated in v3.0.0. This feature will be removed in v6.0.0. See https://github.com/optuna/optuna/releases/tag/v3.0.0. Use suggest_float(..., log=True) instead.\n",
            "  C = trial.suggest_loguniform(\"C\", 1e-3, 10)\n",
            "[I 2025-08-29 12:25:58,924] Trial 5 finished with value: 0.5470085470085471 and parameters: {'C': 0.08967960644308123}. Best is trial 1 with value: 0.5645161290322581.\n",
            "/tmp/ipython-input-1259242089.py:2: FutureWarning: suggest_loguniform has been deprecated in v3.0.0. This feature will be removed in v6.0.0. See https://github.com/optuna/optuna/releases/tag/v3.0.0. Use suggest_float(..., log=True) instead.\n",
            "  C = trial.suggest_loguniform(\"C\", 1e-3, 10)\n",
            "[I 2025-08-29 12:25:58,934] Trial 6 finished with value: 0.23255813953488372 and parameters: {'C': 0.001731332373312721}. Best is trial 1 with value: 0.5645161290322581.\n",
            "/tmp/ipython-input-1259242089.py:2: FutureWarning: suggest_loguniform has been deprecated in v3.0.0. This feature will be removed in v6.0.0. See https://github.com/optuna/optuna/releases/tag/v3.0.0. Use suggest_float(..., log=True) instead.\n",
            "  C = trial.suggest_loguniform(\"C\", 1e-3, 10)\n",
            "[I 2025-08-29 12:25:58,945] Trial 7 finished with value: 0.5546218487394958 and parameters: {'C': 0.19198912009580382}. Best is trial 1 with value: 0.5645161290322581.\n",
            "/tmp/ipython-input-1259242089.py:2: FutureWarning: suggest_loguniform has been deprecated in v3.0.0. This feature will be removed in v6.0.0. See https://github.com/optuna/optuna/releases/tag/v3.0.0. Use suggest_float(..., log=True) instead.\n",
            "  C = trial.suggest_loguniform(\"C\", 1e-3, 10)\n",
            "[I 2025-08-29 12:25:58,956] Trial 8 finished with value: 0.5619834710743802 and parameters: {'C': 0.2889745131104372}. Best is trial 1 with value: 0.5645161290322581.\n",
            "/tmp/ipython-input-1259242089.py:2: FutureWarning: suggest_loguniform has been deprecated in v3.0.0. This feature will be removed in v6.0.0. See https://github.com/optuna/optuna/releases/tag/v3.0.0. Use suggest_float(..., log=True) instead.\n",
            "  C = trial.suggest_loguniform(\"C\", 1e-3, 10)\n",
            "[I 2025-08-29 12:25:58,966] Trial 9 finished with value: 0.5546218487394958 and parameters: {'C': 0.16083315814444643}. Best is trial 1 with value: 0.5645161290322581.\n",
            "/tmp/ipython-input-1259242089.py:2: FutureWarning: suggest_loguniform has been deprecated in v3.0.0. This feature will be removed in v6.0.0. See https://github.com/optuna/optuna/releases/tag/v3.0.0. Use suggest_float(..., log=True) instead.\n",
            "  C = trial.suggest_loguniform(\"C\", 1e-3, 10)\n",
            "[I 2025-08-29 12:25:58,981] Trial 10 finished with value: 0.5645161290322581 and parameters: {'C': 8.79753951375097}. Best is trial 1 with value: 0.5645161290322581.\n",
            "/tmp/ipython-input-1259242089.py:2: FutureWarning: suggest_loguniform has been deprecated in v3.0.0. This feature will be removed in v6.0.0. See https://github.com/optuna/optuna/releases/tag/v3.0.0. Use suggest_float(..., log=True) instead.\n",
            "  C = trial.suggest_loguniform(\"C\", 1e-3, 10)\n",
            "[I 2025-08-29 12:25:58,995] Trial 11 finished with value: 0.5645161290322581 and parameters: {'C': 7.068728449811255}. Best is trial 1 with value: 0.5645161290322581.\n",
            "/tmp/ipython-input-1259242089.py:2: FutureWarning: suggest_loguniform has been deprecated in v3.0.0. This feature will be removed in v6.0.0. See https://github.com/optuna/optuna/releases/tag/v3.0.0. Use suggest_float(..., log=True) instead.\n",
            "  C = trial.suggest_loguniform(\"C\", 1e-3, 10)\n",
            "[I 2025-08-29 12:25:59,008] Trial 12 finished with value: 0.5645161290322581 and parameters: {'C': 7.328845159885697}. Best is trial 1 with value: 0.5645161290322581.\n",
            "/tmp/ipython-input-1259242089.py:2: FutureWarning: suggest_loguniform has been deprecated in v3.0.0. This feature will be removed in v6.0.0. See https://github.com/optuna/optuna/releases/tag/v3.0.0. Use suggest_float(..., log=True) instead.\n",
            "  C = trial.suggest_loguniform(\"C\", 1e-3, 10)\n",
            "[I 2025-08-29 12:25:59,038] Trial 13 finished with value: 0.5645161290322581 and parameters: {'C': 1.8671232146683763}. Best is trial 1 with value: 0.5645161290322581.\n",
            "/tmp/ipython-input-1259242089.py:2: FutureWarning: suggest_loguniform has been deprecated in v3.0.0. This feature will be removed in v6.0.0. See https://github.com/optuna/optuna/releases/tag/v3.0.0. Use suggest_float(..., log=True) instead.\n",
            "  C = trial.suggest_loguniform(\"C\", 1e-3, 10)\n",
            "[I 2025-08-29 12:25:59,084] Trial 14 finished with value: 0.5645161290322581 and parameters: {'C': 2.2743221632798614}. Best is trial 1 with value: 0.5645161290322581.\n",
            "/tmp/ipython-input-1259242089.py:2: FutureWarning: suggest_loguniform has been deprecated in v3.0.0. This feature will be removed in v6.0.0. See https://github.com/optuna/optuna/releases/tag/v3.0.0. Use suggest_float(..., log=True) instead.\n",
            "  C = trial.suggest_loguniform(\"C\", 1e-3, 10)\n",
            "[I 2025-08-29 12:25:59,105] Trial 15 finished with value: 0.5528455284552846 and parameters: {'C': 1.2878842583669472}. Best is trial 1 with value: 0.5645161290322581.\n",
            "/tmp/ipython-input-1259242089.py:2: FutureWarning: suggest_loguniform has been deprecated in v3.0.0. This feature will be removed in v6.0.0. See https://github.com/optuna/optuna/releases/tag/v3.0.0. Use suggest_float(..., log=True) instead.\n",
            "  C = trial.suggest_loguniform(\"C\", 1e-3, 10)\n",
            "[I 2025-08-29 12:25:59,148] Trial 16 finished with value: 0.5263157894736842 and parameters: {'C': 0.04053080840450192}. Best is trial 1 with value: 0.5645161290322581.\n",
            "/tmp/ipython-input-1259242089.py:2: FutureWarning: suggest_loguniform has been deprecated in v3.0.0. This feature will be removed in v6.0.0. See https://github.com/optuna/optuna/releases/tag/v3.0.0. Use suggest_float(..., log=True) instead.\n",
            "  C = trial.suggest_loguniform(\"C\", 1e-3, 10)\n",
            "[I 2025-08-29 12:25:59,169] Trial 17 finished with value: 0.5645161290322581 and parameters: {'C': 9.784487044223807}. Best is trial 1 with value: 0.5645161290322581.\n",
            "/tmp/ipython-input-1259242089.py:2: FutureWarning: suggest_loguniform has been deprecated in v3.0.0. This feature will be removed in v6.0.0. See https://github.com/optuna/optuna/releases/tag/v3.0.0. Use suggest_float(..., log=True) instead.\n",
            "  C = trial.suggest_loguniform(\"C\", 1e-3, 10)\n",
            "[I 2025-08-29 12:25:59,184] Trial 18 finished with value: 0.5573770491803278 and parameters: {'C': 0.8066325147784785}. Best is trial 1 with value: 0.5645161290322581.\n",
            "/tmp/ipython-input-1259242089.py:2: FutureWarning: suggest_loguniform has been deprecated in v3.0.0. This feature will be removed in v6.0.0. See https://github.com/optuna/optuna/releases/tag/v3.0.0. Use suggest_float(..., log=True) instead.\n",
            "  C = trial.suggest_loguniform(\"C\", 1e-3, 10)\n",
            "[I 2025-08-29 12:25:59,207] Trial 19 finished with value: 0.5645161290322581 and parameters: {'C': 2.9166884289718897}. Best is trial 1 with value: 0.5645161290322581.\n"
          ]
        },
        {
          "output_type": "stream",
          "name": "stdout",
          "text": [
            "Best parameters: {'C': 3.9272522462491173}\n"
          ]
        }
      ]
    },
    {
      "cell_type": "code",
      "source": [],
      "metadata": {
        "id": "PgDP_xuLyrIT"
      },
      "execution_count": null,
      "outputs": []
    }
  ]
}