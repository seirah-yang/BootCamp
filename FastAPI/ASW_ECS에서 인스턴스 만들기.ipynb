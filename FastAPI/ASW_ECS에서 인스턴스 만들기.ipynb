{
 "cells": [
  {
   "cell_type": "code",
   "execution_count": null,
   "id": "f78e1a89",
   "metadata": {
    "vscode": {
     "languageId": "plaintext"
    }
   },
   "outputs": [],
   "source": [
    "Host 이름\n",
    "    HostName IP주소\n",
    "    User ubuntu\n",
    "    IdentityFile C:\\Users\\사용자이름\\secondkey.pem #경로"
   ]
  },
  {
   "cell_type": "code",
   "execution_count": null,
   "id": "79c17a4c",
   "metadata": {
    "vscode": {
     "languageId": "plaintext"
    }
   },
   "outputs": [],
   "source": [
    "Please answer 'yes' or 'no':'\n",
    ">>> # yes기입\n",
    "\n",
    "## 환경변수를 설정해줘야 한다. 별표 100만개 중요 !! \n",
    "## Anaconda3 will now be installed into this location:\n",
    "## 아나콘다 실행파일이 어디에 있는지 항상 기억하게 하는 변수\n",
    "    PATH = \"/home/anaconda3/bin\""
   ]
  },
  {
   "cell_type": "code",
   "execution_count": null,
   "id": "1a213473",
   "metadata": {
    "vscode": {
     "languageId": "plaintext"
    }
   },
   "outputs": [],
   "source": [
    "#아나콘다 다운로드 \n",
    "wget https://repo.anaconda.com/archive/Anaconda3-2022.05-Linux-x86_64.sh\n",
    "\n",
    "#아나콘다 설치 \n",
    "bash Anaconda3 \n",
    "\n",
    "ubuntu@ip-172-31-36-144:~$ source ~/.bashrc\n",
    "(base) ubuntu@ip-172-31-36-144:~$ "
   ]
  }
 ],
 "metadata": {
  "language_info": {
   "name": "python"
  }
 },
 "nbformat": 4,
 "nbformat_minor": 5
}
