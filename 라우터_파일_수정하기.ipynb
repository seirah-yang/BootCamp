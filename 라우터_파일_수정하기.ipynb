{
  "nbformat": 4,
  "nbformat_minor": 0,
  "metadata": {
    "colab": {
      "provenance": [],
      "authorship_tag": "ABX9TyNZ8U4hvzAWKdTksCjwdoNn",
      "include_colab_link": true
    },
    "kernelspec": {
      "name": "python3",
      "display_name": "Python 3"
    },
    "language_info": {
      "name": "python"
    }
  },
  "cells": [
    {
      "cell_type": "markdown",
      "metadata": {
        "id": "view-in-github",
        "colab_type": "text"
      },
      "source": [
        "<a href=\"https://colab.research.google.com/github/seirah-yang/BootCamp/blob/main/%EB%9D%BC%EC%9A%B0%ED%84%B0_%ED%8C%8C%EC%9D%BC_%EC%88%98%EC%A0%95%ED%95%98%EA%B8%B0.ipynb\" target=\"_parent\"><img src=\"https://colab.research.google.com/assets/colab-badge.svg\" alt=\"Open In Colab\"/></a>"
      ]
    },
    {
      "cell_type": "code",
      "execution_count": null,
      "metadata": {
        "id": "mpip8SqfNa0-"
      },
      "outputs": [],
      "source": [
        "# 라우터로 URL와 소스코드 연결하기\n",
        "Route :: get('/hello/world', function () {   # get = 요청을 처리하는 메서드\n",
        "    return 'Hello World';  #GET 방식으로 /hello/world 경로에 접근하면 'Hello World'라는 문구를 출력\n",
        "})"
      ]
    },
    {
      "cell_type": "code",
      "source": [
        "Route::get ('/hello/world', function () {\n",
        "    return '<DOCTYPE html>\n",
        "    <html lnag = \"ko\"\n",
        "    <head>\n",
        "        <meta charset=\"utf-8\" />\n",
        "        <title> My first Laravel web page</title>\n",
        "    </head>\n",
        "    <body>\n",
        "        <b> Hello World</b>\n",
        "    </body>\n",
        "    </html>\n",
        "    ';\n",
        "});"
      ],
      "metadata": {
        "id": "aw_9TFljO-y7"
      },
      "execution_count": null,
      "outputs": []
    },
    {
      "cell_type": "code",
      "source": [
        "# POST 방식의 라우터로 FORM submit 만들기\n",
        "Route::get('/frm', function () {\n",
        "    return '\n",
        "    <form action=\"/frm/sunmit\" method=\"post\">\n",
        "        <input type=\"hidden\" name=\"_token\" value=\"'. csrf_token() .'\" />\n",
        "            <input type=\"text\" name=\"my_txt\" />\n",
        "            <input type=\"submit\" name=\"확인\" />\n",
        "        </form>\n",
        "    ';\n",
        "});\n",
        "Route:: post('/frm/submit', function () {   #post방식의 접근을 처리하기위해 존재\n",
        "    return $_post['my_txt'];\n",
        "});"
      ],
      "metadata": {
        "id": "LM6UTJ3qQJgr"
      },
      "execution_count": null,
      "outputs": []
    },
    {
      "cell_type": "code",
      "source": [],
      "metadata": {
        "id": "E0-yG1rCQJXv"
      },
      "execution_count": null,
      "outputs": []
    }
  ]
}