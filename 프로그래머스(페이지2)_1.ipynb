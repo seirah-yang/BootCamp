{
  "nbformat": 4,
  "nbformat_minor": 0,
  "metadata": {
    "colab": {
      "provenance": [],
      "authorship_tag": "ABX9TyMm/tBNRWwX7P7MGSqEMJTK",
      "include_colab_link": true
    },
    "kernelspec": {
      "name": "python3",
      "display_name": "Python 3"
    },
    "language_info": {
      "name": "python"
    }
  },
  "cells": [
    {
      "cell_type": "markdown",
      "metadata": {
        "id": "view-in-github",
        "colab_type": "text"
      },
      "source": [
        "<a href=\"https://colab.research.google.com/github/seirah-yang/BootCamp/blob/main/%ED%94%84%EB%A1%9C%EA%B7%B8%EB%9E%98%EB%A8%B8%EC%8A%A4(%ED%8E%98%EC%9D%B4%EC%A7%802)_1.ipynb\" target=\"_parent\"><img src=\"https://colab.research.google.com/assets/colab-badge.svg\" alt=\"Open In Colab\"/></a>"
      ]
    },
    {
      "cell_type": "code",
      "source": [
        "# 제일 작은 수 제거하기\n",
        "def solution(arr):\n",
        "    ans=[]\n",
        "    a=sorted(arr)\n",
        "    ans = a[1:]\n",
        "    if len(ans)>=1:\n",
        "        return ans\n",
        "    elif len(ans) ==0: # 공집합도 원소 1개\n",
        "        return -1\n",
        "print(solution([4,3,2,1]))\n",
        "print(solution([10]))"
      ],
      "metadata": {
        "id": "kp88MlOViPG3",
        "colab": {
          "base_uri": "https://localhost:8080/"
        },
        "outputId": "1dca0dfe-c19f-4a2e-bdc8-8078994d35f5"
      },
      "execution_count": null,
      "outputs": [
        {
          "output_type": "stream",
          "name": "stdout",
          "text": [
            "[2, 3, 4]\n",
            "-1\n"
          ]
        }
      ]
    },
    {
      "cell_type": "code",
      "source": [
        "def solution(arr):\n",
        "\n",
        "    if len(arr) <= 1:  # 꼭 배열이 같아야 해 ?\n",
        "        return[-1]\n",
        "    return sorted(arr)[::-1][:-1]"
      ],
      "metadata": {
        "id": "XrNENr6yy5KY"
      },
      "execution_count": null,
      "outputs": []
    },
    {
      "cell_type": "code",
      "source": [
        "# 내적\n",
        "def solution(a,b):\n",
        "    n=0\n",
        "    l=len(a)\n",
        "    for i in range(l):\n",
        "        n += a[i]*b[i]\n",
        "    return n\n",
        "\n",
        "print(solution([1,2,3,4],[-3,-1,0,2]))\n",
        "print(solution([-1,0,1],[1,0,-1]))"
      ],
      "metadata": {
        "id": "5-1kYpXRiPAM",
        "colab": {
          "base_uri": "https://localhost:8080/"
        },
        "outputId": "68a06153-61cd-4982-90d6-362851cba5d3"
      },
      "execution_count": null,
      "outputs": [
        {
          "output_type": "stream",
          "name": "stdout",
          "text": [
            "3\n",
            "-2\n"
          ]
        }
      ]
    },
    {
      "cell_type": "code",
      "source": [
        "#수박수박\n",
        "def solution(n):\n",
        "    ans = \"\"\n",
        "    for i in range(1,n+1):\n",
        "        if i %2 == 0:\n",
        "            ans += \"박\"\n",
        "        else:\n",
        "            ans+= \"수\"\n",
        "    return ans\n",
        "print(solution(3))\n",
        "print(solution(4))"
      ],
      "metadata": {
        "id": "uIDkiYlkiO7h",
        "colab": {
          "base_uri": "https://localhost:8080/"
        },
        "outputId": "7a8ca653-282c-420f-c2fc-57cae187498c"
      },
      "execution_count": null,
      "outputs": [
        {
          "output_type": "stream",
          "name": "stdout",
          "text": [
            "수박수\n",
            "수박수박\n"
          ]
        }
      ]
    },
    {
      "cell_type": "code",
      "source": [
        "def solution(n):\n",
        "    ans = \"\"\n",
        "    if n % 2 == 0:\n",
        "        ans += \"수박\"*(n//2)\n",
        "    elif n % 2 == 1:\n",
        "        ans += \"수\" + \"박수\"*(n//2)\n",
        "    return ans"
      ],
      "metadata": {
        "id": "fbOQAPP_1Ju_"
      },
      "execution_count": null,
      "outputs": []
    },
    {
      "cell_type": "code",
      "source": [
        "# 약수의 개수\n",
        "def solution(left, right):\n",
        "    ans = 0\n",
        "    for i in range(left, right+1):\n",
        "        if i ** 0.5  in range(1,10):\n",
        "            ans -= i\n",
        "        else:\n",
        "            ans += i\n",
        "    return ans\n",
        "\n",
        "print(solution(13, 17))\n",
        "print(solution(24,27))"
      ],
      "metadata": {
        "id": "IQa22RzAiOt1",
        "colab": {
          "base_uri": "https://localhost:8080/"
        },
        "outputId": "f55f4440-632a-419f-e2bf-ec52a90e09ee"
      },
      "execution_count": null,
      "outputs": [
        {
          "output_type": "stream",
          "name": "stdout",
          "text": [
            "43\n",
            "52\n"
          ]
        }
      ]
    },
    {
      "cell_type": "code",
      "source": [
        "def solution(left, right):\n",
        "    answer = 0\n",
        "    for n in range(left, right+1):\n",
        "        if int(n**0.5) == n**0.5:\n",
        "            answer -= n\n",
        "        else:\n",
        "            answer += n\n",
        "    return answer\n",
        "\n",
        "print(solution(13, 17))\n",
        "print(solution(24,27))"
      ],
      "metadata": {
        "id": "yQNJzFVq27ek",
        "colab": {
          "base_uri": "https://localhost:8080/"
        },
        "outputId": "54b2a7d5-509e-4a06-c37e-c35dd1540c7c"
      },
      "execution_count": null,
      "outputs": [
        {
          "output_type": "stream",
          "name": "stdout",
          "text": [
            "43\n",
            "52\n"
          ]
        }
      ]
    },
    {
      "cell_type": "code",
      "source": [
        "# 문자열 내림차순으로 배치하기\n",
        "def solution(s):\n",
        "    ans = \"\"\n",
        "\n",
        "    for i in s:\n",
        "        if i.islower():\n",
        "            ans += i\n",
        "        else:\n",
        "            ans += i\n",
        "    return ans[::-1]\n",
        "\n",
        "print(solution(\"Zbcdefg\"))"
      ],
      "metadata": {
        "id": "5DQP_R8oiOpe",
        "colab": {
          "base_uri": "https://localhost:8080/"
        },
        "outputId": "bd39967b-fa98-4579-eee5-a3ddb6ca12cb"
      },
      "execution_count": null,
      "outputs": [
        {
          "output_type": "stream",
          "name": "stdout",
          "text": [
            "gfedcbZ\n"
          ]
        }
      ]
    },
    {
      "cell_type": "code",
      "source": [
        "# 부족한 금액 계산하기\n",
        "def solution(price, money, count):\n",
        "    for i in range(1, count+1):\n",
        "        if money - (i*price) >=0:\n",
        "            return 0\n",
        "        elif money - (i*price)<0:\n",
        "            return money - (count*price)\n",
        "print(solution(3,20,4))"
      ],
      "metadata": {
        "id": "2jYijQv2iOct",
        "colab": {
          "base_uri": "https://localhost:8080/"
        },
        "outputId": "8aebcc5b-7ab2-4750-d69e-b2846b6cd40a"
      },
      "execution_count": null,
      "outputs": [
        {
          "output_type": "stream",
          "name": "stdout",
          "text": [
            "0\n"
          ]
        }
      ]
    },
    {
      "cell_type": "code",
      "source": [
        "def solution(price, money, count):\n",
        "    ans = 0\n",
        "    total =0\n",
        "    for i in range(1, count+1):\n",
        "        total += price*i\n",
        "        if total-money >0:\n",
        "            ans = total - money\n",
        "        else:\n",
        "            ans= 0\n",
        "    return ans\n",
        "print(solution(3,20,4))"
      ],
      "metadata": {
        "colab": {
          "base_uri": "https://localhost:8080/"
        },
        "id": "P6hDJwoNZjyR",
        "outputId": "eaae0e62-8e7c-4585-84af-6b22035d09b4"
      },
      "execution_count": null,
      "outputs": [
        {
          "output_type": "stream",
          "name": "stdout",
          "text": [
            "10\n"
          ]
        }
      ]
    },
    {
      "cell_type": "code",
      "source": [
        "def solution(price, money, count):\n",
        "    ans = 0\n",
        "    total = 0\n",
        "    for i in range(1, count+1):\n",
        "        total += price*i\n",
        "        if money-total  <= 0:\n",
        "            ans = total - money\n",
        "        else:\n",
        "            ans = 0\n",
        "    return ans\n",
        "print(solution(3,20,4))"
      ],
      "metadata": {
        "colab": {
          "base_uri": "https://localhost:8080/"
        },
        "id": "JiMppA4way9H",
        "outputId": "0a2372ce-1b8a-4606-9800-a4dc41ff5ffc"
      },
      "execution_count": null,
      "outputs": [
        {
          "output_type": "stream",
          "name": "stdout",
          "text": [
            "10\n"
          ]
        }
      ]
    },
    {
      "cell_type": "code",
      "source": [
        "# 문자열 다루기 기본\n",
        "def solution(s):\n",
        "    if (len(s)==4 or len(s)==6) and s.isdigit():\n",
        "        return True\n",
        "    else:\n",
        "        return False\n",
        "\n",
        "print(solution(\"a234\"))\n",
        "print(solution(\"1234\"))"
      ],
      "metadata": {
        "id": "HjjeTuwEiOaB",
        "colab": {
          "base_uri": "https://localhost:8080/"
        },
        "outputId": "26de3f44-ffdd-4242-8c65-1e3465903934"
      },
      "execution_count": null,
      "outputs": [
        {
          "output_type": "stream",
          "name": "stdout",
          "text": [
            "False\n",
            "True\n"
          ]
        }
      ]
    },
    {
      "cell_type": "code",
      "source": [
        "# 행렬의 덧셈\n",
        "def solution(arr1, arr2):\n",
        "    ans =[]\n",
        "    for i in range(len(arr1)):\n",
        "        row = []\n",
        "        for j in range(len(arr1[0])):\n",
        "            row.append(arr1[i][j]+arr2[i][j])\n",
        "        ans.append(row)\n",
        "    return ans\n",
        "\n",
        "print(solution([[1,2],[2,3]], [[3,4],[5,6]]))\n",
        "print(solution([[1],[2]], [[3],[4]]))"
      ],
      "metadata": {
        "id": "toTdPjfOiOW7",
        "colab": {
          "base_uri": "https://localhost:8080/"
        },
        "outputId": "557ca6df-b7fb-421f-d7c5-56f35a389805"
      },
      "execution_count": null,
      "outputs": [
        {
          "output_type": "stream",
          "name": "stdout",
          "text": [
            "[[4, 6], [7, 9]]\n",
            "[[4], [6]]\n"
          ]
        }
      ]
    },
    {
      "cell_type": "code",
      "source": [
        "# 직사각형 별찍기\n",
        "n, m = map(int, input().split(' '))\n",
        "for _ in range(m):\n",
        "    print( '*' * n)\n"
      ],
      "metadata": {
        "id": "uYEg8UT2iOTM",
        "colab": {
          "base_uri": "https://localhost:8080/"
        },
        "outputId": "03987cda-d617-4912-a3c6-45c905ba48e6"
      },
      "execution_count": null,
      "outputs": [
        {
          "output_type": "stream",
          "name": "stdout",
          "text": [
            "5 3\n",
            "*****\n",
            "*****\n",
            "*****\n"
          ]
        }
      ]
    }
  ]
}