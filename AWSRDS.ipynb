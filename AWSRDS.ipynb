{
 "cells": [
  {
   "cell_type": "code",
   "execution_count": null,
   "id": "d1e3920e",
   "metadata": {
    "vscode": {
     "languageId": "plaintext"
    }
   },
   "outputs": [],
   "source": []
  },
  {
   "cell_type": "code",
   "execution_count": null,
   "id": "af818e52",
   "metadata": {
    "vscode": {
     "languageId": "plaintext"
    }
   },
   "outputs": [],
   "source": [
    "create database test2;\n",
    "\n",
    "use test2;\n",
    "\n",
    "CREATE TABLE titanic (\n",
    "  PassengerId INT,\n",
    "  Survived TINYINT,\n",
    "  Pclass INT,\n",
    "  Name VARCHAR(255),\n",
    "  Sex VARCHAR(10),\n",
    "  Age FLOAT,\n",
    "  SibSp INT,\n",
    "  Parch INT,\n",
    "  Ticket VARCHAR(50),\n",
    "  Fare FLOAT,\n",
    "  Cabin VARCHAR(50),\n",
    "  Embarked VARCHAR(10)\n",
    ");\n",
    "\n",
    "LOAD DATA LOCAL INFILE 'C:/aws/titanic.csv'\n",
    "INTO TABLE titanic\n",
    "FIELDS TERMINATED BY ','\n",
    "ENCLOSED BY '\"'\n",
    "LINES TERMINATED BY '\\n'\n",
    "IGNORE 1 LINES;\n",
    "select *\n",
    "from titanic;\n"
   ]
  }
 ],
 "metadata": {
  "language_info": {
   "name": "python"
  }
 },
 "nbformat": 4,
 "nbformat_minor": 5
}
