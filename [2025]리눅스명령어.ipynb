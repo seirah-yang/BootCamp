{
  "nbformat": 4,
  "nbformat_minor": 0,
  "metadata": {
    "colab": {
      "provenance": [],
      "gpuType": "T4",
      "include_colab_link": true
    },
    "kernelspec": {
      "name": "python3",
      "display_name": "Python 3"
    },
    "language_info": {
      "name": "python"
    },
    "accelerator": "GPU"
  },
  "cells": [
    {
      "cell_type": "markdown",
      "metadata": {
        "id": "view-in-github",
        "colab_type": "text"
      },
      "source": [
        "<a href=\"https://colab.research.google.com/github/seirah-yang/BootCamp/blob/main/%5B2025%5D%EB%A6%AC%EB%88%85%EC%8A%A4%EB%AA%85%EB%A0%B9%EC%96%B4.ipynb\" target=\"_parent\"><img src=\"https://colab.research.google.com/assets/colab-badge.svg\" alt=\"Open In Colab\"/></a>"
      ]
    },
    {
      "cell_type": "markdown",
      "source": [
        "## 반드시 왼쪽 작업디렉토리를 모니터링하면서 진행"
      ],
      "metadata": {
        "id": "_AD_fC9ELIlj"
      }
    },
    {
      "cell_type": "code",
      "source": [
        "# 리눅스 터미널 명령어"
      ],
      "metadata": {
        "id": "BlJcdc7XXPE8"
      },
      "execution_count": 1,
      "outputs": []
    },
    {
      "cell_type": "code",
      "source": [
        "!pip install torch"
      ],
      "metadata": {
        "id": "WAJPjMy-Rtif",
        "outputId": "4ab4c021-2687-47b4-a2a8-3f8edf8c4a52",
        "colab": {
          "base_uri": "https://localhost:8080/"
        }
      },
      "execution_count": 2,
      "outputs": [
        {
          "output_type": "stream",
          "name": "stdout",
          "text": [
            "Requirement already satisfied: torch in /usr/local/lib/python3.12/dist-packages (2.8.0+cu126)\n",
            "Requirement already satisfied: filelock in /usr/local/lib/python3.12/dist-packages (from torch) (3.19.1)\n",
            "Requirement already satisfied: typing-extensions>=4.10.0 in /usr/local/lib/python3.12/dist-packages (from torch) (4.15.0)\n",
            "Requirement already satisfied: setuptools in /usr/local/lib/python3.12/dist-packages (from torch) (75.2.0)\n",
            "Requirement already satisfied: sympy>=1.13.3 in /usr/local/lib/python3.12/dist-packages (from torch) (1.13.3)\n",
            "Requirement already satisfied: networkx in /usr/local/lib/python3.12/dist-packages (from torch) (3.5)\n",
            "Requirement already satisfied: jinja2 in /usr/local/lib/python3.12/dist-packages (from torch) (3.1.6)\n",
            "Requirement already satisfied: fsspec in /usr/local/lib/python3.12/dist-packages (from torch) (2025.3.0)\n",
            "Requirement already satisfied: nvidia-cuda-nvrtc-cu12==12.6.77 in /usr/local/lib/python3.12/dist-packages (from torch) (12.6.77)\n",
            "Requirement already satisfied: nvidia-cuda-runtime-cu12==12.6.77 in /usr/local/lib/python3.12/dist-packages (from torch) (12.6.77)\n",
            "Requirement already satisfied: nvidia-cuda-cupti-cu12==12.6.80 in /usr/local/lib/python3.12/dist-packages (from torch) (12.6.80)\n",
            "Requirement already satisfied: nvidia-cudnn-cu12==9.10.2.21 in /usr/local/lib/python3.12/dist-packages (from torch) (9.10.2.21)\n",
            "Requirement already satisfied: nvidia-cublas-cu12==12.6.4.1 in /usr/local/lib/python3.12/dist-packages (from torch) (12.6.4.1)\n",
            "Requirement already satisfied: nvidia-cufft-cu12==11.3.0.4 in /usr/local/lib/python3.12/dist-packages (from torch) (11.3.0.4)\n",
            "Requirement already satisfied: nvidia-curand-cu12==10.3.7.77 in /usr/local/lib/python3.12/dist-packages (from torch) (10.3.7.77)\n",
            "Requirement already satisfied: nvidia-cusolver-cu12==11.7.1.2 in /usr/local/lib/python3.12/dist-packages (from torch) (11.7.1.2)\n",
            "Requirement already satisfied: nvidia-cusparse-cu12==12.5.4.2 in /usr/local/lib/python3.12/dist-packages (from torch) (12.5.4.2)\n",
            "Requirement already satisfied: nvidia-cusparselt-cu12==0.7.1 in /usr/local/lib/python3.12/dist-packages (from torch) (0.7.1)\n",
            "Requirement already satisfied: nvidia-nccl-cu12==2.27.3 in /usr/local/lib/python3.12/dist-packages (from torch) (2.27.3)\n",
            "Requirement already satisfied: nvidia-nvtx-cu12==12.6.77 in /usr/local/lib/python3.12/dist-packages (from torch) (12.6.77)\n",
            "Requirement already satisfied: nvidia-nvjitlink-cu12==12.6.85 in /usr/local/lib/python3.12/dist-packages (from torch) (12.6.85)\n",
            "Requirement already satisfied: nvidia-cufile-cu12==1.11.1.6 in /usr/local/lib/python3.12/dist-packages (from torch) (1.11.1.6)\n",
            "Requirement already satisfied: triton==3.4.0 in /usr/local/lib/python3.12/dist-packages (from torch) (3.4.0)\n",
            "Requirement already satisfied: mpmath<1.4,>=1.1.0 in /usr/local/lib/python3.12/dist-packages (from sympy>=1.13.3->torch) (1.3.0)\n",
            "Requirement already satisfied: MarkupSafe>=2.0 in /usr/local/lib/python3.12/dist-packages (from jinja2->torch) (3.0.2)\n"
          ]
        }
      ]
    },
    {
      "cell_type": "code",
      "source": [
        "# !와 % 차이점\n",
        "\n",
        "느낌표(!)는 조회, 생성 같이 한번만 실행할때 쓰는 magic line 언어이다. 단, 경로 이동은 적용되지 않는다.\n",
        "퍼센테이지(%)는 실제 경로 이동을 반영할때 주로 쓰이며, 모든 쉘 언어 사용 가능"
      ],
      "metadata": {
        "id": "drgvJDGnHWZ8",
        "outputId": "2a2ecc09-af62-4e5d-fea2-ab87eeae39d6",
        "colab": {
          "base_uri": "https://localhost:8080/",
          "height": 106
        }
      },
      "execution_count": 3,
      "outputs": [
        {
          "output_type": "error",
          "ename": "SyntaxError",
          "evalue": "invalid syntax (ipython-input-966702064.py, line 3)",
          "traceback": [
            "\u001b[0;36m  File \u001b[0;32m\"/tmp/ipython-input-966702064.py\"\u001b[0;36m, line \u001b[0;32m3\u001b[0m\n\u001b[0;31m    느낌표(!)는 조회, 생성 같이 한번만 실행할때 쓰는 magic line 언어이다. 단, 경로 이동은 적용되지 않는다.\u001b[0m\n\u001b[0m        ^\u001b[0m\n\u001b[0;31mSyntaxError\u001b[0m\u001b[0;31m:\u001b[0m invalid syntax\n"
          ]
        }
      ]
    },
    {
      "cell_type": "code",
      "source": [
        "!pwd"
      ],
      "metadata": {
        "colab": {
          "base_uri": "https://localhost:8080/"
        },
        "id": "RfI9nnENGhxd",
        "outputId": "823b7cc7-3ae4-4102-851f-e6075ba7350d"
      },
      "execution_count": null,
      "outputs": [
        {
          "output_type": "stream",
          "name": "stdout",
          "text": [
            "/content\n"
          ]
        }
      ]
    },
    {
      "cell_type": "code",
      "source": [
        "!cd .. # 상위 디렉토리로 이동"
      ],
      "metadata": {
        "id": "bsiDENuI8Res"
      },
      "execution_count": 4,
      "outputs": []
    },
    {
      "cell_type": "code",
      "source": [
        "!pwd"
      ],
      "metadata": {
        "colab": {
          "base_uri": "https://localhost:8080/"
        },
        "id": "S65Fcjg8XsDz",
        "outputId": "466038b7-0adb-46cc-963d-3cbf0266b6c3"
      },
      "execution_count": 5,
      "outputs": [
        {
          "output_type": "stream",
          "name": "stdout",
          "text": [
            "/content\n"
          ]
        }
      ]
    },
    {
      "cell_type": "code",
      "source": [
        "%cd .."
      ],
      "metadata": {
        "colab": {
          "base_uri": "https://localhost:8080/"
        },
        "id": "1IFZ1CvpOyJW",
        "outputId": "b0600850-f4f9-4be1-d51a-2446e5923cd6"
      },
      "execution_count": 6,
      "outputs": [
        {
          "output_type": "stream",
          "name": "stdout",
          "text": [
            "/\n"
          ]
        }
      ]
    },
    {
      "cell_type": "code",
      "source": [
        "# 현재 작업 경로 출력\n",
        "\n",
        "!pwd"
      ],
      "metadata": {
        "colab": {
          "base_uri": "https://localhost:8080/"
        },
        "id": "MdVqGUF2HWOu",
        "outputId": "29c632ce-929b-41b1-c855-4ad0badf1189"
      },
      "execution_count": 7,
      "outputs": [
        {
          "output_type": "stream",
          "name": "stdout",
          "text": [
            "/\n"
          ]
        }
      ]
    },
    {
      "cell_type": "code",
      "source": [
        "!ls"
      ],
      "metadata": {
        "colab": {
          "base_uri": "https://localhost:8080/"
        },
        "id": "-liKx8Wl8gts",
        "outputId": "cff162a8-3504-4016-bebb-60dd85fea5e7"
      },
      "execution_count": 8,
      "outputs": [
        {
          "output_type": "stream",
          "name": "stdout",
          "text": [
            "bin\t\t\t    kaggle\t\t      opt\t\t sys\n",
            "boot\t\t\t    lib\t\t\t      proc\t\t tmp\n",
            "content\t\t\t    lib32\t\t      python-apt\t tools\n",
            "cuda-keyring_1.1-1_all.deb  lib64\t\t      python-apt.tar.xz  usr\n",
            "datalab\t\t\t    libx32\t\t      root\t\t var\n",
            "dev\t\t\t    media\t\t      run\n",
            "etc\t\t\t    mnt\t\t\t      sbin\n",
            "home\t\t\t    NGC-DL-CONTAINER-LICENSE  srv\n"
          ]
        }
      ]
    },
    {
      "cell_type": "code",
      "source": [
        "%cd /content"
      ],
      "metadata": {
        "colab": {
          "base_uri": "https://localhost:8080/"
        },
        "id": "Szswvgb9G9vk",
        "outputId": "b85a823c-a882-4328-a2eb-66b8730b5422"
      },
      "execution_count": 9,
      "outputs": [
        {
          "output_type": "stream",
          "name": "stdout",
          "text": [
            "/content\n"
          ]
        }
      ]
    },
    {
      "cell_type": "code",
      "source": [
        "!ls"
      ],
      "metadata": {
        "colab": {
          "base_uri": "https://localhost:8080/"
        },
        "id": "IJUCaiK-8r9E",
        "outputId": "5393c1fb-cf40-4719-b901-ebfaa7b5c794"
      },
      "execution_count": null,
      "outputs": [
        {
          "output_type": "stream",
          "name": "stdout",
          "text": [
            "sample_data\n"
          ]
        }
      ]
    },
    {
      "cell_type": "code",
      "source": [
        "from google.colab import drive\n",
        "drive.mount('/content/drive')"
      ],
      "metadata": {
        "colab": {
          "base_uri": "https://localhost:8080/"
        },
        "id": "PtkVAMxQ8xTo",
        "outputId": "07bc2716-e4e9-45a3-a942-4fd49307068f"
      },
      "execution_count": null,
      "outputs": [
        {
          "output_type": "stream",
          "name": "stdout",
          "text": [
            "Mounted at /content/drive\n"
          ]
        }
      ]
    },
    {
      "cell_type": "code",
      "execution_count": 10,
      "metadata": {
        "id": "gOw2UpzFHI50"
      },
      "outputs": [],
      "source": [
        "# 디렉토리 만들기\n",
        "!mkdir test"
      ]
    },
    {
      "cell_type": "code",
      "source": [
        "# 현재 작업 경로에 있는 모든 파일 확인\n",
        "!ls"
      ],
      "metadata": {
        "colab": {
          "base_uri": "https://localhost:8080/"
        },
        "id": "rhzmGtHTLk0N",
        "outputId": "2c5d0907-56bf-4c06-fead-df4966ffc36a"
      },
      "execution_count": 11,
      "outputs": [
        {
          "output_type": "stream",
          "name": "stdout",
          "text": [
            "sample_data  test\n"
          ]
        }
      ]
    },
    {
      "cell_type": "code",
      "source": [
        "# 폴더 이동\n",
        "%cd test"
      ],
      "metadata": {
        "colab": {
          "base_uri": "https://localhost:8080/"
        },
        "id": "sTqEYOt_LpoM",
        "outputId": "eb595c9a-7c84-4e78-c4e9-c66a97c8d959"
      },
      "execution_count": 12,
      "outputs": [
        {
          "output_type": "stream",
          "name": "stdout",
          "text": [
            "/content/test\n"
          ]
        }
      ]
    },
    {
      "cell_type": "code",
      "source": [
        "# 파일 한번 만들어보기(이론 설명 후 실습)\n",
        "!mkdir alpaco"
      ],
      "metadata": {
        "id": "tRztpGHtLylV"
      },
      "execution_count": 13,
      "outputs": []
    },
    {
      "cell_type": "code",
      "source": [
        "!pwd"
      ],
      "metadata": {
        "colab": {
          "base_uri": "https://localhost:8080/"
        },
        "id": "EqY8nb_oPmPl",
        "outputId": "cbb64f22-3079-4964-c5eb-c31b720bffcd"
      },
      "execution_count": 14,
      "outputs": [
        {
          "output_type": "stream",
          "name": "stdout",
          "text": [
            "/content/test\n"
          ]
        }
      ]
    },
    {
      "cell_type": "code",
      "source": [
        "# 모든 파일의 모든 정보 보기\n",
        "!ls -al"
      ],
      "metadata": {
        "colab": {
          "base_uri": "https://localhost:8080/"
        },
        "id": "d6M2_NeGL456",
        "outputId": "6c652b38-649e-4800-9f40-30ac015316eb"
      },
      "execution_count": 15,
      "outputs": [
        {
          "output_type": "stream",
          "name": "stdout",
          "text": [
            "total 12\n",
            "drwxr-xr-x 3 root root 4096 Aug 29 14:08 .\n",
            "drwxr-xr-x 1 root root 4096 Aug 29 14:08 ..\n",
            "drwxr-xr-x 2 root root 4096 Aug 29 14:08 alpaco\n"
          ]
        }
      ]
    },
    {
      "cell_type": "code",
      "source": [
        "# 관리자랑 그룹 소속들은 못건들고 나만 읽고쓰고실행 가능하게 할거다.\n",
        "# rwx ← 421\n",
        "# drwxr-x-w- ← 752\n",
        "!sudo chmod 752 alpaco"
      ],
      "metadata": {
        "id": "SGQUecNXQuKn"
      },
      "execution_count": 16,
      "outputs": []
    },
    {
      "cell_type": "code",
      "source": [
        "#rws = 4+2+1 = 7\n",
        "#rw- = 4+2+0 = 6\n",
        "#-s = 4+0+1 = 5\n",
        "#r-- = 4+0+0 = 4\n",
        "#-ws + 0+2+1 = 3\n",
        "#-w- = 0+2+0 = 2\n",
        "#--s = 0+0+1 = 1\n"
      ],
      "metadata": {
        "id": "cUGi_LEqNW9D"
      },
      "execution_count": null,
      "outputs": []
    },
    {
      "cell_type": "code",
      "source": [
        "!ls -al"
      ],
      "metadata": {
        "colab": {
          "base_uri": "https://localhost:8080/"
        },
        "id": "TFwgYQOq-yAS",
        "outputId": "81d67fbc-2671-4b3e-bc22-50e6930be3bf"
      },
      "execution_count": 17,
      "outputs": [
        {
          "output_type": "stream",
          "name": "stdout",
          "text": [
            "total 12\n",
            "drwxr-xr-x 3 root root 4096 Aug 29 14:08 .\n",
            "drwxr-xr-x 1 root root 4096 Aug 29 14:08 ..\n",
            "drwxr-x-w- 2 root root 4096 Aug 29 14:08 alpaco\n"
          ]
        }
      ]
    },
    {
      "cell_type": "code",
      "source": [],
      "metadata": {
        "id": "FD41V7hy_cpc"
      },
      "execution_count": null,
      "outputs": []
    },
    {
      "cell_type": "code",
      "source": [
        "# 디렉토리 만들기\n",
        "!mkdir a\n",
        "!mkdir b\n",
        "!mkdir c"
      ],
      "metadata": {
        "id": "NR3mYJWAL8hO"
      },
      "execution_count": null,
      "outputs": []
    },
    {
      "cell_type": "code",
      "source": [
        "# 모든 파일의 모든 정보 보기\n",
        "!ls -al"
      ],
      "metadata": {
        "colab": {
          "base_uri": "https://localhost:8080/"
        },
        "id": "5JZSWVI8OvMB",
        "outputId": "87408bcb-2b34-432e-baa2-6157c2f3a3d5"
      },
      "execution_count": null,
      "outputs": [
        {
          "output_type": "stream",
          "name": "stdout",
          "text": [
            "total 24\n",
            "drwxr-xr-x 6 root root 4096 Oct 15 02:26 .\n",
            "drwxr-xr-x 1 root root 4096 Oct 15 02:13 ..\n",
            "drwxr-xr-x 2 root root 4096 Oct 15 02:26 a\n",
            "drwxrwxrwx 2 root root 4096 Oct 15 02:16 alpaco\n",
            "drwxr-xr-x 2 root root 4096 Oct 15 02:26 b\n",
            "drwxr-xr-x 2 root root 4096 Oct 15 02:26 c\n"
          ]
        }
      ]
    },
    {
      "cell_type": "code",
      "source": [
        "# a 디렉토리의 권한 수정하기\n",
        "!chmod 700 a"
      ],
      "metadata": {
        "id": "JAv2QytLOyQ8"
      },
      "execution_count": null,
      "outputs": []
    },
    {
      "cell_type": "code",
      "source": [
        "# 모든 파일의 모든 정보 보기\n",
        "!ls -al"
      ],
      "metadata": {
        "colab": {
          "base_uri": "https://localhost:8080/"
        },
        "id": "YqYNHpiwPDIQ",
        "outputId": "71658b0b-ae62-4c45-c7d2-924cfeebeb61"
      },
      "execution_count": null,
      "outputs": [
        {
          "output_type": "stream",
          "name": "stdout",
          "text": [
            "total 24\n",
            "drwxr-xr-x 6 root root 4096 May  9 05:07 .\n",
            "drwxr-xr-x 1 root root 4096 May  9 04:49 ..\n",
            "drwx------ 2 root root 4096 May  9 05:07 a\n",
            "drwxrwxrwx 2 root root 4096 May  9 04:50 alpaco\n",
            "drwxr-xr-x 2 root root 4096 May  9 05:07 b\n",
            "drwxr-xr-x 2 root root 4096 May  9 05:07 c\n"
          ]
        }
      ]
    },
    {
      "cell_type": "code",
      "source": [
        "# a 파일을 상위 디렉토리로 옮기기\n",
        "#mv 어떤폴더? 어디로?\n",
        "!mv ./a ../"
      ],
      "metadata": {
        "id": "hYWdgicgPD_d",
        "outputId": "80f5840c-6147-4653-bd29-6aefbda66a4d",
        "colab": {
          "base_uri": "https://localhost:8080/"
        }
      },
      "execution_count": 18,
      "outputs": [
        {
          "output_type": "stream",
          "name": "stdout",
          "text": [
            "mv: cannot stat './a': No such file or directory\n"
          ]
        }
      ]
    },
    {
      "cell_type": "code",
      "source": [
        "# c 파일을 상위 디렉토리로 복사하기\n",
        "# cp 할 때 폴더 안쪽에 파일이 있어도 복사 가능하게 해주는\n",
        "# -r 옵션.\n",
        "!cp -r ./c ../"
      ],
      "metadata": {
        "id": "j-Aby2JjPOI6",
        "outputId": "9431110c-44bb-4dbb-d86f-b9d3181b2eae",
        "colab": {
          "base_uri": "https://localhost:8080/"
        }
      },
      "execution_count": 19,
      "outputs": [
        {
          "output_type": "stream",
          "name": "stdout",
          "text": [
            "cp: cannot stat './c': No such file or directory\n"
          ]
        }
      ]
    },
    {
      "cell_type": "code",
      "source": [
        "# 모든 파일의 모든 정보 보기\n",
        "!ls -al"
      ],
      "metadata": {
        "colab": {
          "base_uri": "https://localhost:8080/"
        },
        "id": "qRG-PoLYPT7U",
        "outputId": "1f81da22-b543-4bae-dd41-ab039b21ddf8"
      },
      "execution_count": 20,
      "outputs": [
        {
          "output_type": "stream",
          "name": "stdout",
          "text": [
            "total 12\n",
            "drwxr-xr-x 3 root root 4096 Aug 29 14:08 .\n",
            "drwxr-xr-x 1 root root 4096 Aug 29 14:08 ..\n",
            "drwxr-x-w- 2 root root 4096 Aug 29 14:08 alpaco\n"
          ]
        }
      ]
    },
    {
      "cell_type": "code",
      "source": [
        "# c 파일을 b 디렉토리로 복사하기\n",
        "!cp -r ./c ./b"
      ],
      "metadata": {
        "id": "sNcidq1BPYF5",
        "outputId": "d4765fa6-b75f-4366-8f80-8be27d95eb4c",
        "colab": {
          "base_uri": "https://localhost:8080/"
        }
      },
      "execution_count": 21,
      "outputs": [
        {
          "output_type": "stream",
          "name": "stdout",
          "text": [
            "cp: cannot stat './c': No such file or directory\n"
          ]
        }
      ]
    },
    {
      "cell_type": "code",
      "source": [
        "# b 디렉토리 안에 있는 정보 보기\n",
        "!ls -al ./b"
      ],
      "metadata": {
        "colab": {
          "base_uri": "https://localhost:8080/"
        },
        "id": "A7xKmKHMPcQo",
        "outputId": "3a16ef11-12f3-46f4-9453-213bd2fe7f2b"
      },
      "execution_count": 22,
      "outputs": [
        {
          "output_type": "stream",
          "name": "stdout",
          "text": [
            "ls: cannot access './b': No such file or directory\n"
          ]
        }
      ]
    },
    {
      "cell_type": "code",
      "source": [
        "# 모든 파일의 모든 정보 보기\n",
        "!ls -al"
      ],
      "metadata": {
        "colab": {
          "base_uri": "https://localhost:8080/"
        },
        "id": "ZPQgVrtjPieO",
        "outputId": "f87d5161-86ec-404f-eb1a-d30e77cac14e"
      },
      "execution_count": 23,
      "outputs": [
        {
          "output_type": "stream",
          "name": "stdout",
          "text": [
            "total 12\n",
            "drwxr-xr-x 3 root root 4096 Aug 29 14:08 .\n",
            "drwxr-xr-x 1 root root 4096 Aug 29 14:08 ..\n",
            "drwxr-x-w- 2 root root 4096 Aug 29 14:08 alpaco\n"
          ]
        }
      ]
    },
    {
      "cell_type": "code",
      "source": [
        "# 파일 삭제하기, 오류가 날 것 이다.\n",
        "!rm b"
      ],
      "metadata": {
        "colab": {
          "base_uri": "https://localhost:8080/"
        },
        "id": "gw7gLUDoUK2O",
        "outputId": "037a85a3-a150-45ad-e297-a39162d91266"
      },
      "execution_count": 24,
      "outputs": [
        {
          "output_type": "stream",
          "name": "stdout",
          "text": [
            "rm: cannot remove 'b': No such file or directory\n"
          ]
        }
      ]
    },
    {
      "cell_type": "code",
      "source": [
        "# 폴더 또는 그 폴더 안에 있는 파일도 삭제할 때 -r 옵션을 사\n",
        "!rm -r b"
      ],
      "metadata": {
        "id": "-l1nzAnpUNIS",
        "outputId": "72a18645-de72-4174-d218-59ada718154a",
        "colab": {
          "base_uri": "https://localhost:8080/"
        }
      },
      "execution_count": 25,
      "outputs": [
        {
          "output_type": "stream",
          "name": "stdout",
          "text": [
            "rm: cannot remove 'b': No such file or directory\n"
          ]
        }
      ]
    },
    {
      "cell_type": "code",
      "source": [
        "# 모든 파일의 모든 정보 보기\n",
        "!ls -al"
      ],
      "metadata": {
        "colab": {
          "base_uri": "https://localhost:8080/"
        },
        "id": "tgkGtbzrUZAb",
        "outputId": "f595abee-5302-447d-a282-63cd018de069"
      },
      "execution_count": 26,
      "outputs": [
        {
          "output_type": "stream",
          "name": "stdout",
          "text": [
            "total 12\n",
            "drwxr-xr-x 3 root root 4096 Aug 29 14:08 .\n",
            "drwxr-xr-x 1 root root 4096 Aug 29 14:08 ..\n",
            "drwxr-x-w- 2 root root 4096 Aug 29 14:08 alpaco\n"
          ]
        }
      ]
    },
    {
      "cell_type": "code",
      "source": [
        "# 디스크 용량 확인\n",
        "!df -h"
      ],
      "metadata": {
        "id": "fushPNb1Pl5b",
        "colab": {
          "base_uri": "https://localhost:8080/"
        },
        "outputId": "c7e3840c-169f-4be6-f9ec-423e73f0464b"
      },
      "execution_count": 27,
      "outputs": [
        {
          "output_type": "stream",
          "name": "stdout",
          "text": [
            "Filesystem      Size  Used Avail Use% Mounted on\n",
            "overlay         113G   40G   74G  35% /\n",
            "tmpfs            64M     0   64M   0% /dev\n",
            "shm             5.7G     0  5.7G   0% /dev/shm\n",
            "/dev/root       2.0G  1.2G  775M  61% /usr/sbin/docker-init\n",
            "/dev/sda1        74G   42G   33G  56% /opt/bin/.nvidia\n",
            "tmpfs           6.4G   96K  6.4G   1% /var/colab\n",
            "tmpfs           6.4G     0  6.4G   0% /proc/acpi\n",
            "tmpfs           6.4G     0  6.4G   0% /proc/scsi\n",
            "tmpfs           6.4G     0  6.4G   0% /sys/firmware\n"
          ]
        }
      ]
    },
    {
      "cell_type": "code",
      "source": [
        "# cpu, ram 정보 확인 (계속 상태 유지되니까 앞에 정지버튼 누르기)\n",
        "!top"
      ],
      "metadata": {
        "id": "u1H-xwDWPxpO",
        "colab": {
          "base_uri": "https://localhost:8080/"
        },
        "outputId": "4e48b1f6-1c37-4fed-b3c7-c8275ca2bd97"
      },
      "execution_count": null,
      "outputs": [
        {
          "output_type": "stream",
          "name": "stdout",
          "text": [
            "\u001b[?1h\u001b=\u001b[H\u001b[2J\u001b[mtop - 05:10:48 up 26 min,  0 users,  load average: 0.28, 0.30, 0.23\u001b[m\u001b[m\u001b[m\u001b[m\u001b[K\n",
            "Tasks:\u001b[m\u001b[m\u001b[1m  17 \u001b[m\u001b[mtotal,\u001b[m\u001b[m\u001b[1m   1 \u001b[m\u001b[mrunning,\u001b[m\u001b[m\u001b[1m  15 \u001b[m\u001b[msleeping,\u001b[m\u001b[m\u001b[1m   0 \u001b[m\u001b[mstopped,\u001b[m\u001b[m\u001b[1m   1 \u001b[m\u001b[mzombie\u001b[m\u001b[m\u001b[m\u001b[m\u001b[K\n",
            "%Cpu(s):\u001b[m\u001b[m\u001b[1m  3.3 \u001b[m\u001b[mus,\u001b[m\u001b[m\u001b[1m  6.7 \u001b[m\u001b[msy,\u001b[m\u001b[m\u001b[1m  0.0 \u001b[m\u001b[mni,\u001b[m\u001b[m\u001b[1m 90.0 \u001b[m\u001b[mid,\u001b[m\u001b[m\u001b[1m  0.0 \u001b[m\u001b[mwa,\u001b[m\u001b[m\u001b[1m  0.0 \u001b[m\u001b[mhi,\u001b[m\u001b[m\u001b[1m  0.0 \u001b[m\u001b[msi,\u001b[m\u001b[m\u001b[1m  0.0 \u001b[m\u001b[mst\u001b[m\u001b[m\u001b[m\u001b[m\u001b[K\n",
            "MiB Mem :\u001b[m\u001b[m\u001b[1m  12977.9 \u001b[m\u001b[mtotal,\u001b[m\u001b[m\u001b[1m   7644.8 \u001b[m\u001b[mfree,\u001b[m\u001b[m\u001b[1m    706.7 \u001b[m\u001b[mused,\u001b[m\u001b[m\u001b[1m   4626.5 \u001b[m\u001b[mbuff/cache\u001b[m\u001b[m\u001b[m\u001b[m\u001b[K\n",
            "MiB Swap:\u001b[m\u001b[m\u001b[1m      0.0 \u001b[m\u001b[mtotal,\u001b[m\u001b[m\u001b[1m      0.0 \u001b[m\u001b[mfree,\u001b[m\u001b[m\u001b[1m      0.0 \u001b[m\u001b[mused.\u001b[m\u001b[m\u001b[1m  11971.0 \u001b[m\u001b[mavail Mem \u001b[m\u001b[m\u001b[m\u001b[m\u001b[K\n",
            "\u001b[K\n",
            "\u001b[7m    PID USER      PR  NI    VIRT    RES    SHR S  %CPU  %MEM     TIME+ COMMAND  \u001b[m\u001b[m\u001b[K\n",
            "\u001b[m      1 root      20   0    1076      8      0 S   0.0   0.0   0:00.05 docker-+ \u001b[m\u001b[m\u001b[K\n",
            "\u001b[m      7 root      20   0 1299048  69512  41860 S   0.0   0.5   0:02.25 node     \u001b[m\u001b[m\u001b[K\n",
            "\u001b[m     14 root      20   0    7376   3544   3240 S   0.0   0.0   0:00.76 oom_mon+ \u001b[m\u001b[m\u001b[K\n",
            "\u001b[m     16 root      20   0    7376   1844   1556 S   0.0   0.0   0:00.00 run.sh   \u001b[m\u001b[m\u001b[K\n",
            "\u001b[m     17 root      20   0 1237908  15848   9452 S   0.0   0.1   0:00.63 kernel_+ \u001b[m\u001b[m\u001b[K\n",
            "\u001b[m     40 root      20   0    5808   1004    908 S   0.0   0.0   0:00.06 tail     \u001b[m\u001b[m\u001b[K\n",
            "\u001b[m     46 root      20   0    5808   1012    920 S   0.0   0.0   0:00.05 tail     \u001b[m\u001b[m\u001b[K\n",
            "\u001b[m     64 root      20   0       0      0      0 Z   0.0   0.0   0:16.73 python3  \u001b[m\u001b[m\u001b[K\n",
            "\u001b[m     65 root      20   0   78524  59268  19412 S   0.0   0.4   0:01.22 colab-f+ \u001b[m\u001b[m\u001b[K\n",
            "\u001b[m    110 root      20   0  384700 131548  27336 S   0.0   1.0   0:05.18 jupyter+ \u001b[m\u001b[m\u001b[K\n",
            "\u001b[m    115 root      20   0 1229772   8468   3544 S   0.0   0.1   0:00.31 dap_mul+ \u001b[m\u001b[m\u001b[K\n",
            "\u001b[m    205 root      20   0 1200616 116052  26360 S   0.0   0.9   0:05.78 python3  \u001b[m\u001b[m\u001b[K\n",
            "\u001b[m    239 root      20   0  545400  20728   5832 S   0.0   0.2   0:00.99 python3  \u001b[m\u001b[m\u001b[K\n",
            "\u001b[m    256 root      20   0 1240760  17424  10988 S   0.0   0.1   0:00.08 languag+ \u001b[m\u001b[m\u001b[K\n",
            "\u001b[m    272 root      20   0 1002864  54992  35172 S   0.0   0.4   0:00.32 node     \u001b[m\u001b[m\u001b[K\n",
            "\u001b[m\u001b[1m   6900 root      20   0   10352   3464   3104 R   0.0   0.0   0:00.00 top      \u001b[m\u001b[m\u001b[K\n",
            "\u001b[m   6904 root      20   0    5776   1044    952 S   0.0   0.0   0:00.00 sleep    \u001b[m\u001b[m\u001b[K\u001b[H\u001b[mtop - 05:10:51 up 26 min,  0 users,  load average: 0.34, 0.31, 0.24\u001b[m\u001b[m\u001b[m\u001b[m\u001b[K\n",
            "\n",
            "%Cpu(s):\u001b[m\u001b[m\u001b[1m 20.2 \u001b[m\u001b[mus,\u001b[m\u001b[m\u001b[1m 10.9 \u001b[m\u001b[msy,\u001b[m\u001b[m\u001b[1m  0.0 \u001b[m\u001b[mni,\u001b[m\u001b[m\u001b[1m 67.6 \u001b[m\u001b[mid,\u001b[m\u001b[m\u001b[1m  1.0 \u001b[m\u001b[mwa,\u001b[m\u001b[m\u001b[1m  0.0 \u001b[m\u001b[mhi,\u001b[m\u001b[m\u001b[1m  0.3 \u001b[m\u001b[msi,\u001b[m\u001b[m\u001b[1m  0.0 \u001b[m\u001b[mst\u001b[m\u001b[m\u001b[m\u001b[m\u001b[K\n",
            "MiB Mem :\u001b[m\u001b[m\u001b[1m  12977.9 \u001b[m\u001b[mtotal,\u001b[m\u001b[m\u001b[1m   7643.9 \u001b[m\u001b[mfree,\u001b[m\u001b[m\u001b[1m    707.6 \u001b[m\u001b[mused,\u001b[m\u001b[m\u001b[1m   4626.5 \u001b[m\u001b[mbuff/cache\u001b[m\u001b[m\u001b[m\u001b[m\u001b[K\n",
            "MiB Swap:\u001b[m\u001b[m\u001b[1m      0.0 \u001b[m\u001b[mtotal,\u001b[m\u001b[m\u001b[1m      0.0 \u001b[m\u001b[mfree,\u001b[m\u001b[m\u001b[1m      0.0 \u001b[m\u001b[mused.\u001b[m\u001b[m\u001b[1m  11970.2 \u001b[m\u001b[mavail Mem \u001b[m\u001b[m\u001b[m\u001b[m\u001b[K\n",
            "\u001b[K\n",
            "\n",
            "\u001b[m      7 root      20   0 1299048  69776  41860 S   0.7   0.5   0:02.27 node     \u001b[m\u001b[m\u001b[K\n",
            "\u001b[m     65 root      20   0   78524  59268  19412 S   0.3   0.4   0:01.23 colab-f+ \u001b[m\u001b[m\u001b[K\n",
            "\u001b[m    110 root      20   0  384700 131548  27336 S   0.3   1.0   0:05.19 jupyter+ \u001b[m\u001b[m\u001b[K\n",
            "\u001b[m    205 root      20   0 1200616 116052  26360 S   0.3   0.9   0:05.79 python3  \u001b[m\u001b[m\u001b[K\n",
            "\u001b[m    239 root      20   0  545400  20728   5832 S   0.3   0.2   0:01.00 python3  \u001b[m\u001b[m\u001b[K\n",
            "\u001b[m      1 root      20   0    1076      8      0 S   0.0   0.0   0:00.05 docker-+ \u001b[m\u001b[m\u001b[K\n",
            "\u001b[m     14 root      20   0    7376   3544   3240 S   0.0   0.0   0:00.76 oom_mon+ \u001b[m\u001b[m\u001b[K\n",
            "\u001b[m     16 root      20   0    7376   1844   1556 S   0.0   0.0   0:00.00 run.sh   \u001b[m\u001b[m\u001b[K\n",
            "\u001b[m     17 root      20   0 1237908  15848   9452 S   0.0   0.1   0:00.63 kernel_+ \u001b[m\u001b[m\u001b[K\n",
            "\u001b[m     40 root      20   0    5808   1004    908 S   0.0   0.0   0:00.06 tail     \u001b[m\u001b[m\u001b[K\n",
            "\u001b[m     46 root      20   0    5808   1012    920 S   0.0   0.0   0:00.05 tail     \u001b[m\u001b[m\u001b[K\n",
            "\u001b[m     64 root      20   0       0      0      0 Z   0.0   0.0   0:16.73 python3  \u001b[m\u001b[m\u001b[K\n",
            "\u001b[m    115 root      20   0 1229772   8468   3544 S   0.0   0.1   0:00.31 dap_mul+ \u001b[m\u001b[m\u001b[K\n",
            "\n",
            "\n",
            "\u001b[m\u001b[1m   6900 root      20   0   10352   3928   3348 R   0.0   0.0   0:00.00 top      \u001b[m\u001b[m\u001b[K\n",
            "\u001b[m   6920 root      20   0    5776   1044    952 S   0.0   0.0   0:00.00 sleep    \u001b[m\u001b[m\u001b[K\u001b[H\u001b[mtop - 05:10:54 up 26 min,  0 users,  load average: 0.31, 0.30, 0.23\u001b[m\u001b[m\u001b[m\u001b[m\u001b[K\n",
            "\n",
            "%Cpu(s):\u001b[m\u001b[m\u001b[1m  0.8 \u001b[m\u001b[mus,\u001b[m\u001b[m\u001b[1m  1.2 \u001b[m\u001b[msy,\u001b[m\u001b[m\u001b[1m  0.0 \u001b[m\u001b[mni,\u001b[m\u001b[m\u001b[1m 96.7 \u001b[m\u001b[mid,\u001b[m\u001b[m\u001b[1m  1.2 \u001b[m\u001b[mwa,\u001b[m\u001b[m\u001b[1m  0.0 \u001b[m\u001b[mhi,\u001b[m\u001b[m\u001b[1m  0.2 \u001b[m\u001b[msi,\u001b[m\u001b[m\u001b[1m  0.0 \u001b[m\u001b[mst\u001b[m\u001b[m\u001b[m\u001b[m\u001b[K\n",
            "MiB Mem :\u001b[m\u001b[m\u001b[1m  12977.9 \u001b[m\u001b[mtotal,\u001b[m\u001b[m\u001b[1m   7643.9 \u001b[m\u001b[mfree,\u001b[m\u001b[m\u001b[1m    707.5 \u001b[m\u001b[mused,\u001b[m\u001b[m\u001b[1m   4626.5 \u001b[m\u001b[mbuff/cache\u001b[m\u001b[m\u001b[m\u001b[m\u001b[K\n",
            "\n",
            "\u001b[K\n",
            "\n",
            "\u001b[m    205 root      20   0 1200616 116052  26360 S   1.0   0.9   0:05.82 python3  \u001b[m\u001b[m\u001b[K\n",
            "\u001b[m     17 root      20   0 1237908  15848   9452 S   0.3   0.1   0:00.64 kernel_+ \u001b[m\u001b[m\u001b[K\n",
            "\u001b[m     40 root      20   0    5808   1004    908 S   0.3   0.0   0:00.07 tail     \u001b[m\u001b[m\u001b[K\n",
            "\u001b[m    115 root      20   0 1229772   8468   3544 S   0.3   0.1   0:00.32 dap_mul+ \u001b[m\u001b[m\u001b[K\n",
            "\u001b[m    239 root      20   0  545400  20728   5832 S   0.3   0.2   0:01.01 python3  \u001b[m\u001b[m\u001b[K\n",
            "\n",
            "\u001b[m      7 root      20   0 1299048  69776  41860 S   0.0   0.5   0:02.27 node     \u001b[m\u001b[m\u001b[K\n",
            "\u001b[m     14 root      20   0    7376   3544   3240 S   0.0   0.0   0:00.76 oom_mon+ \u001b[m\u001b[m\u001b[K\n",
            "\u001b[m     16 root      20   0    7376   1844   1556 S   0.0   0.0   0:00.00 run.sh   \u001b[m\u001b[m\u001b[K\n",
            "\u001b[m     46 root      20   0    5808   1012    920 S   0.0   0.0   0:00.05 tail     \u001b[m\u001b[m\u001b[K\n",
            "\u001b[m     64 root      20   0       0      0      0 Z   0.0   0.0   0:16.73 python3  \u001b[m\u001b[m\u001b[K\n",
            "\u001b[m     65 root      20   0   78524  59268  19412 S   0.0   0.4   0:01.23 colab-f+ \u001b[m\u001b[m\u001b[K\n",
            "\u001b[m    110 root      20   0  384700 131548  27336 S   0.0   1.0   0:05.19 jupyter+ \u001b[m\u001b[m\u001b[K\n",
            "\n",
            "\n",
            "\n",
            "\u001b[m   6932 root      20   0    5776   1004    908 S   0.0   0.0   0:00.00 sleep    \u001b[m\u001b[m\u001b[K\u001b[H\u001b[mtop - 05:10:57 up 26 min,  0 users,  load average: 0.31, 0.30, 0.23\u001b[m\u001b[m\u001b[m\u001b[m\u001b[K\n",
            "\n",
            "%Cpu(s):\u001b[m\u001b[m\u001b[1m  1.0 \u001b[m\u001b[mus,\u001b[m\u001b[m\u001b[1m  1.0 \u001b[m\u001b[msy,\u001b[m\u001b[m\u001b[1m  0.0 \u001b[m\u001b[mni,\u001b[m\u001b[m\u001b[1m 96.7 \u001b[m\u001b[mid,\u001b[m\u001b[m\u001b[1m  1.2 \u001b[m\u001b[mwa,\u001b[m\u001b[m\u001b[1m  0.0 \u001b[m\u001b[mhi,\u001b[m\u001b[m\u001b[1m  0.2 \u001b[m\u001b[msi,\u001b[m\u001b[m\u001b[1m  0.0 \u001b[m\u001b[mst\u001b[m\u001b[m\u001b[m\u001b[m\u001b[K\n",
            "\n",
            "\n",
            "\u001b[K\n",
            "\n",
            "\u001b[m     14 root      20   0    7376   3544   3240 S   0.3   0.0   0:00.77 oom_mon+ \u001b[m\u001b[m\u001b[K\n",
            "\u001b[m    115 root      20   0 1229772   8468   3544 S   0.3   0.1   0:00.33 dap_mul+ \u001b[m\u001b[m\u001b[K\n",
            "\u001b[m    205 root      20   0 1200616 116052  26360 S   0.3   0.9   0:05.83 python3  \u001b[m\u001b[m\u001b[K\n",
            "\u001b[m      1 root      20   0    1076      8      0 S   0.0   0.0   0:00.05 docker-+ \u001b[m\u001b[m\u001b[K\n",
            "\u001b[m      7 root      20   0 1299048  69776  41860 S   0.0   0.5   0:02.27 node     \u001b[m\u001b[m\u001b[K\n",
            "\u001b[m     16 root      20   0    7376   1844   1556 S   0.0   0.0   0:00.00 run.sh   \u001b[m\u001b[m\u001b[K\n",
            "\u001b[m     17 root      20   0 1237908  15848   9452 S   0.0   0.1   0:00.64 kernel_+ \u001b[m\u001b[m\u001b[K\n",
            "\u001b[m     40 root      20   0    5808   1004    908 S   0.0   0.0   0:00.07 tail     \u001b[m\u001b[m\u001b[K\n",
            "\u001b[m     46 root      20   0    5808   1012    920 S   0.0   0.0   0:00.05 tail     \u001b[m\u001b[m\u001b[K\n",
            "\u001b[m     64 root      20   0       0      0      0 Z   0.0   0.0   0:16.73 python3  \u001b[m\u001b[m\u001b[K\n",
            "\u001b[m     65 root      20   0   78524  59268  19412 S   0.0   0.4   0:01.23 colab-f+ \u001b[m\u001b[m\u001b[K\n",
            "\u001b[m    110 root      20   0  384700 131548  27336 S   0.0   1.0   0:05.19 jupyter+ \u001b[m\u001b[m\u001b[K\n",
            "\u001b[m    239 root      20   0  545400  20728   5832 S   0.0   0.2   0:01.01 python3  \u001b[m\u001b[m\u001b[K\n",
            "\n",
            "\n",
            "\n",
            "\u001b[m   6944 root      20   0    5776   1016    928 S   0.0   0.0   0:00.00 sleep    \u001b[m\u001b[m\u001b[K\u001b[H\u001b[mtop - 05:11:00 up 26 min,  0 users,  load average: 0.28, 0.30, 0.23\u001b[m\u001b[m\u001b[m\u001b[m\u001b[K\n",
            "\n",
            "%Cpu(s):\u001b[m\u001b[m\u001b[1m  2.0 \u001b[m\u001b[mus,\u001b[m\u001b[m\u001b[1m  2.0 \u001b[m\u001b[msy,\u001b[m\u001b[m\u001b[1m  0.0 \u001b[m\u001b[mni,\u001b[m\u001b[m\u001b[1m 94.2 \u001b[m\u001b[mid,\u001b[m\u001b[m\u001b[1m  1.5 \u001b[m\u001b[mwa,\u001b[m\u001b[m\u001b[1m  0.0 \u001b[m\u001b[mhi,\u001b[m\u001b[m\u001b[1m  0.3 \u001b[m\u001b[msi,\u001b[m\u001b[m\u001b[1m  0.0 \u001b[m\u001b[mst\u001b[m\u001b[m\u001b[m\u001b[m\u001b[K\n",
            "MiB Mem :\u001b[m\u001b[m\u001b[1m  12977.9 \u001b[m\u001b[mtotal,\u001b[m\u001b[m\u001b[1m   7654.4 \u001b[m\u001b[mfree,\u001b[m\u001b[m\u001b[1m    697.0 \u001b[m\u001b[mused,\u001b[m\u001b[m\u001b[1m   4626.6 \u001b[m\u001b[mbuff/cache\u001b[m\u001b[m\u001b[m\u001b[m\u001b[K\n",
            "MiB Swap:\u001b[m\u001b[m\u001b[1m      0.0 \u001b[m\u001b[mtotal,\u001b[m\u001b[m\u001b[1m      0.0 \u001b[m\u001b[mfree,\u001b[m\u001b[m\u001b[1m      0.0 \u001b[m\u001b[mused.\u001b[m\u001b[m\u001b[1m  11980.7 \u001b[m\u001b[mavail Mem \u001b[m\u001b[m\u001b[m\u001b[m\u001b[K\n",
            "\u001b[K\n",
            "\n",
            "\u001b[m     65 root      20   0   78524  59268  19412 S   0.3   0.4   0:01.24 colab-f+ \u001b[m\u001b[m\u001b[K\n",
            "\u001b[m    110 root      20   0  384700 131548  27336 S   0.3   1.0   0:05.20 jupyter+ \u001b[m\u001b[m\u001b[K\n",
            "\u001b[m    205 root      20   0 1200616 116052  26360 S   0.3   0.9   0:05.84 python3  \u001b[m\u001b[m\u001b[K\n",
            "\u001b[m    239 root      20   0  545400  20728   5832 S   0.3   0.2   0:01.02 python3  \u001b[m\u001b[m\u001b[K\n",
            "\u001b[m      1 root      20   0    1076      8      0 S   0.0   0.0   0:00.05 docker-+ \u001b[m\u001b[m\u001b[K\n",
            "\u001b[m      7 root      20   0 1299048  70028  41860 S   0.0   0.5   0:02.27 node     \u001b[m\u001b[m\u001b[K\n",
            "\u001b[m     14 root      20   0    7376   3544   3240 S   0.0   0.0   0:00.77 oom_mon+ \u001b[m\u001b[m\u001b[K\n",
            "\u001b[m     16 root      20   0    7376   1844   1556 S   0.0   0.0   0:00.00 run.sh   \u001b[m\u001b[m\u001b[K\n",
            "\u001b[m     17 root      20   0 1237908  15848   9452 S   0.0   0.1   0:00.64 kernel_+ \u001b[m\u001b[m\u001b[K\n",
            "\u001b[m     40 root      20   0    5808   1004    908 S   0.0   0.0   0:00.07 tail     \u001b[m\u001b[m\u001b[K\n",
            "\u001b[m     46 root      20   0    5808   1012    920 S   0.0   0.0   0:00.05 tail     \u001b[m\u001b[m\u001b[K\n",
            "\u001b[m     64 root      20   0       0      0      0 Z   0.0   0.0   0:16.73 python3  \u001b[m\u001b[m\u001b[K\n",
            "\u001b[m    115 root      20   0 1229772   8468   3544 S   0.0   0.1   0:00.33 dap_mul+ \u001b[m\u001b[m\u001b[K\n",
            "\n",
            "\n",
            "\n",
            "\u001b[m   6958 root      20   0    5776   1016    924 S   0.0   0.0   0:00.00 sleep    \u001b[m\u001b[m\u001b[K\u001b[H\u001b[mtop - 05:11:03 up 26 min,  0 users,  load average: 0.28, 0.30, 0.23\u001b[m\u001b[m\u001b[m\u001b[m\u001b[K\n",
            "\n",
            "%Cpu(s):\u001b[m\u001b[m\u001b[1m 18.3 \u001b[m\u001b[mus,\u001b[m\u001b[m\u001b[1m  9.7 \u001b[m\u001b[msy,\u001b[m\u001b[m\u001b[1m  0.0 \u001b[m\u001b[mni,\u001b[m\u001b[m\u001b[1m 70.7 \u001b[m\u001b[mid,\u001b[m\u001b[m\u001b[1m  1.2 \u001b[m\u001b[mwa,\u001b[m\u001b[m\u001b[1m  0.0 \u001b[m\u001b[mhi,\u001b[m\u001b[m\u001b[1m  0.2 \u001b[m\u001b[msi,\u001b[m\u001b[m\u001b[1m  0.0 \u001b[m\u001b[mst\u001b[m\u001b[m\u001b[m\u001b[m\u001b[K\n",
            "MiB Mem :\u001b[m\u001b[m\u001b[1m  12977.9 \u001b[m\u001b[mtotal,\u001b[m\u001b[m\u001b[1m   7639.1 \u001b[m\u001b[mfree,\u001b[m\u001b[m\u001b[1m    712.3 \u001b[m\u001b[mused,\u001b[m\u001b[m\u001b[1m   4626.5 \u001b[m\u001b[mbuff/cache\u001b[m\u001b[m\u001b[m\u001b[m\u001b[K\n",
            "MiB Swap:\u001b[m\u001b[m\u001b[1m      0.0 \u001b[m\u001b[mtotal,\u001b[m\u001b[m\u001b[1m      0.0 \u001b[m\u001b[mfree,\u001b[m\u001b[m\u001b[1m      0.0 \u001b[m\u001b[mused.\u001b[m\u001b[m\u001b[1m  11965.5 \u001b[m\u001b[mavail Mem \u001b[m\u001b[m\u001b[m\u001b[m\u001b[K\n",
            "\u001b[K\n",
            "\n",
            "\u001b[m    205 root      20   0 1200616 116052  26360 S   0.7   0.9   0:05.86 python3  \u001b[m\u001b[m\u001b[K\n",
            "\u001b[m      7 root      20   0 1299048  69452  41860 S   0.3   0.5   0:02.28 node     \u001b[m\u001b[m\u001b[K\n",
            "\u001b[m     17 root      20   0 1237908  15848   9452 S   0.3   0.1   0:00.65 kernel_+ \u001b[m\u001b[m\u001b[K\n",
            "\u001b[m      1 root      20   0    1076      8      0 S   0.0   0.0   0:00.05 docker-+ \u001b[m\u001b[m\u001b[K\n",
            "\u001b[m     14 root      20   0    7376   3544   3240 S   0.0   0.0   0:00.77 oom_mon+ \u001b[m\u001b[m\u001b[K\n",
            "\u001b[m     16 root      20   0    7376   1844   1556 S   0.0   0.0   0:00.00 run.sh   \u001b[m\u001b[m\u001b[K\n",
            "\u001b[m     40 root      20   0    5808   1004    908 S   0.0   0.0   0:00.07 tail     \u001b[m\u001b[m\u001b[K\n",
            "\u001b[m     46 root      20   0    5808   1012    920 S   0.0   0.0   0:00.05 tail     \u001b[m\u001b[m\u001b[K\n",
            "\u001b[m     64 root      20   0       0      0      0 Z   0.0   0.0   0:16.73 python3  \u001b[m\u001b[m\u001b[K\n",
            "\u001b[m     65 root      20   0   78524  59268  19412 S   0.0   0.4   0:01.24 colab-f+ \u001b[m\u001b[m\u001b[K\n",
            "\u001b[m    110 root      20   0  384700 131548  27336 S   0.0   1.0   0:05.20 jupyter+ \u001b[m\u001b[m\u001b[K\n",
            "\u001b[m    115 root      20   0 1229772   8468   3544 S   0.0   0.1   0:00.33 dap_mul+ \u001b[m\u001b[m\u001b[K\n",
            "\u001b[m    239 root      20   0  545400  20728   5832 S   0.0   0.2   0:01.02 python3  \u001b[m\u001b[m\u001b[K\n",
            "\n",
            "\n",
            "\n",
            "\u001b[m   6970 root      20   0    5776    996    904 S   0.0   0.0   0:00.00 sleep    \u001b[m\u001b[m\u001b[K\u001b[H\u001b[mtop - 05:11:06 up 27 min,  0 users,  load average: 0.26, 0.29, 0.23\u001b[m\u001b[m\u001b[m\u001b[m\u001b[K\n",
            "\n",
            "%Cpu(s):\u001b[m\u001b[m\u001b[1m  0.8 \u001b[m\u001b[mus,\u001b[m\u001b[m\u001b[1m  1.3 \u001b[m\u001b[msy,\u001b[m\u001b[m\u001b[1m  0.0 \u001b[m\u001b[mni,\u001b[m\u001b[m\u001b[1m 97.0 \u001b[m\u001b[mid,\u001b[m\u001b[m\u001b[1m  0.7 \u001b[m\u001b[mwa,\u001b[m\u001b[m\u001b[1m  0.0 \u001b[m\u001b[mhi,\u001b[m\u001b[m\u001b[1m  0.2 \u001b[m\u001b[msi,\u001b[m\u001b[m\u001b[1m  0.0 \u001b[m\u001b[mst\u001b[m\u001b[m\u001b[m\u001b[m\u001b[K\n",
            "MiB Mem :\u001b[m\u001b[m\u001b[1m  12977.9 \u001b[m\u001b[mtotal,\u001b[m\u001b[m\u001b[1m   7638.9 \u001b[m\u001b[mfree,\u001b[m\u001b[m\u001b[1m    712.5 \u001b[m\u001b[mused,\u001b[m\u001b[m\u001b[1m   4626.6 \u001b[m\u001b[mbuff/cache\u001b[m\u001b[m\u001b[m\u001b[m\u001b[K\n",
            "MiB Swap:\u001b[m\u001b[m\u001b[1m      0.0 \u001b[m\u001b[mtotal,\u001b[m\u001b[m\u001b[1m      0.0 \u001b[m\u001b[mfree,\u001b[m\u001b[m\u001b[1m      0.0 \u001b[m\u001b[mused.\u001b[m\u001b[m\u001b[1m  11965.3 \u001b[m\u001b[mavail Mem \u001b[m\u001b[m\u001b[m\u001b[m\u001b[K\n",
            "\u001b[K\n",
            "\n",
            "\u001b[m    205 root      20   0 1200616 116052  26360 S   0.7   0.9   0:05.88 python3  \u001b[m\u001b[m\u001b[K\n",
            "\u001b[m      1 root      20   0    1076      8      0 S   0.0   0.0   0:00.05 docker-+ \u001b[m\u001b[m\u001b[K\n",
            "\u001b[m      7 root      20   0 1299048  69452  41860 S   0.0   0.5   0:02.28 node     \u001b[m\u001b[m\u001b[K\n",
            "\u001b[m     14 root      20   0    7376   3544   3240 S   0.0   0.0   0:00.77 oom_mon+ \u001b[m\u001b[m\u001b[K\n",
            "\u001b[m     16 root      20   0    7376   1844   1556 S   0.0   0.0   0:00.00 run.sh   \u001b[m\u001b[m\u001b[K\n",
            "\u001b[m     17 root      20   0 1237908  16104   9452 S   0.0   0.1   0:00.65 kernel_+ \u001b[m\u001b[m\u001b[K\n",
            "\n",
            "\n",
            "\n",
            "\n",
            "\n",
            "\n",
            "\n",
            "\n",
            "\n",
            "\n",
            "\u001b[m   6982 root      20   0    5776   1048    956 S   0.0   0.0   0:00.00 sleep    \u001b[m\u001b[m\u001b[K\u001b[H\u001b[mtop - 05:11:09 up 27 min,  0 users,  load average: 0.24, 0.29, 0.23\u001b[m\u001b[m\u001b[m\u001b[m\u001b[K\n",
            "\n",
            "%Cpu(s):\u001b[m\u001b[m\u001b[1m  0.8 \u001b[m\u001b[mus,\u001b[m\u001b[m\u001b[1m  1.0 \u001b[m\u001b[msy,\u001b[m\u001b[m\u001b[1m  0.0 \u001b[m\u001b[mni,\u001b[m\u001b[m\u001b[1m 96.8 \u001b[m\u001b[mid,\u001b[m\u001b[m\u001b[1m  1.2 \u001b[m\u001b[mwa,\u001b[m\u001b[m\u001b[1m  0.0 \u001b[m\u001b[mhi,\u001b[m\u001b[m\u001b[1m  0.2 \u001b[m\u001b[msi,\u001b[m\u001b[m\u001b[1m  0.0 \u001b[m\u001b[mst\u001b[m\u001b[m\u001b[m\u001b[m\u001b[K\n",
            "MiB Mem :\u001b[m\u001b[m\u001b[1m  12977.9 \u001b[m\u001b[mtotal,\u001b[m\u001b[m\u001b[1m   7638.2 \u001b[m\u001b[mfree,\u001b[m\u001b[m\u001b[1m    713.2 \u001b[m\u001b[mused,\u001b[m\u001b[m\u001b[1m   4626.6 \u001b[m\u001b[mbuff/cache\u001b[m\u001b[m\u001b[m\u001b[m\u001b[K\n",
            "MiB Swap:\u001b[m\u001b[m\u001b[1m      0.0 \u001b[m\u001b[mtotal,\u001b[m\u001b[m\u001b[1m      0.0 \u001b[m\u001b[mfree,\u001b[m\u001b[m\u001b[1m      0.0 \u001b[m\u001b[mused.\u001b[m\u001b[m\u001b[1m  11964.5 \u001b[m\u001b[mavail Mem \u001b[m\u001b[m\u001b[m\u001b[m\u001b[K\n",
            "\u001b[K\n",
            "\n",
            "\u001b[m    110 root      20   0  384700 131548  27336 S   0.3   1.0   0:05.21 jupyter+ \u001b[m\u001b[m\u001b[K\n",
            "\u001b[m    115 root      20   0 1230092   8688   3544 S   0.3   0.1   0:00.34 dap_mul+ \u001b[m\u001b[m\u001b[K\n",
            "\u001b[m    205 root      20   0 1200616 116052  26360 S   0.3   0.9   0:05.89 python3  \u001b[m\u001b[m\u001b[K\n",
            "\u001b[m    239 root      20   0  545400  20728   5832 S   0.3   0.2   0:01.03 python3  \u001b[m\u001b[m\u001b[K\n",
            "\u001b[m      1 root      20   0    1076      8      0 S   0.0   0.0   0:00.05 docker-+ \u001b[m\u001b[m\u001b[K\n",
            "\u001b[m      7 root      20   0 1299048  69452  41860 S   0.0   0.5   0:02.28 node     \u001b[m\u001b[m\u001b[K\n",
            "\u001b[m     14 root      20   0    7376   3544   3240 S   0.0   0.0   0:00.77 oom_mon+ \u001b[m\u001b[m\u001b[K\n",
            "\u001b[m     16 root      20   0    7376   1844   1556 S   0.0   0.0   0:00.00 run.sh   \u001b[m\u001b[m\u001b[K\n",
            "\u001b[m     17 root      20   0 1237908  16104   9452 S   0.0   0.1   0:00.65 kernel_+ \u001b[m\u001b[m\u001b[K\n",
            "\u001b[m     40 root      20   0    5808   1004    908 S   0.0   0.0   0:00.07 tail     \u001b[m\u001b[m\u001b[K\n",
            "\u001b[m     46 root      20   0    5808   1012    920 S   0.0   0.0   0:00.05 tail     \u001b[m\u001b[m\u001b[K\n",
            "\u001b[m     64 root      20   0       0      0      0 Z   0.0   0.0   0:16.73 python3  \u001b[m\u001b[m\u001b[K\n",
            "\u001b[m     65 root      20   0   78524  59268  19412 S   0.0   0.4   0:01.24 colab-f+ \u001b[m\u001b[m\u001b[K\n",
            "\n",
            "\n",
            "\n",
            "\u001b[m   6994 root      20   0    5776   1020    928 S   0.0   0.0   0:00.00 sleep    \u001b[m\u001b[m\u001b[K\u001b[H\u001b[mtop - 05:11:12 up 27 min,  0 users,  load average: 0.24, 0.29, 0.23\u001b[m\u001b[m\u001b[m\u001b[m\u001b[K\n",
            "\n",
            "%Cpu(s):\u001b[m\u001b[m\u001b[1m  9.4 \u001b[m\u001b[mus,\u001b[m\u001b[m\u001b[1m  3.7 \u001b[m\u001b[msy,\u001b[m\u001b[m\u001b[1m  0.0 \u001b[m\u001b[mni,\u001b[m\u001b[m\u001b[1m 85.8 \u001b[m\u001b[mid,\u001b[m\u001b[m\u001b[1m  1.0 \u001b[m\u001b[mwa,\u001b[m\u001b[m\u001b[1m  0.0 \u001b[m\u001b[mhi,\u001b[m\u001b[m\u001b[1m  0.2 \u001b[m\u001b[msi,\u001b[m\u001b[m\u001b[1m  0.0 \u001b[m\u001b[mst\u001b[m\u001b[m\u001b[m\u001b[m\u001b[K\n",
            "MiB Mem :\u001b[m\u001b[m\u001b[1m  12977.9 \u001b[m\u001b[mtotal,\u001b[m\u001b[m\u001b[1m   7629.3 \u001b[m\u001b[mfree,\u001b[m\u001b[m\u001b[1m    722.0 \u001b[m\u001b[mused,\u001b[m\u001b[m\u001b[1m   4626.6 \u001b[m\u001b[mbuff/cache\u001b[m\u001b[m\u001b[m\u001b[m\u001b[K\n",
            "MiB Swap:\u001b[m\u001b[m\u001b[1m      0.0 \u001b[m\u001b[mtotal,\u001b[m\u001b[m\u001b[1m      0.0 \u001b[m\u001b[mfree,\u001b[m\u001b[m\u001b[1m      0.0 \u001b[m\u001b[mused.\u001b[m\u001b[m\u001b[1m  11955.7 \u001b[m\u001b[mavail Mem \u001b[m\u001b[m\u001b[m\u001b[m\u001b[K\n",
            "\u001b[K\n",
            "\n",
            "\u001b[m    110 root      20   0  384700 131548  27336 S   0.3   1.0   0:05.22 jupyter+ \u001b[m\u001b[m\u001b[K\n",
            "\u001b[m    205 root      20   0 1200616 116052  26360 S   0.3   0.9   0:05.90 python3  \u001b[m\u001b[m\u001b[K\n",
            "\u001b[m    239 root      20   0  545400  20728   5832 S   0.3   0.2   0:01.04 python3  \u001b[m\u001b[m\u001b[K\n",
            "\u001b[m      1 root      20   0    1076      8      0 S   0.0   0.0   0:00.05 docker-+ \u001b[m\u001b[m\u001b[K\n",
            "\u001b[m      7 root      20   0 1299048  69980  41860 S   0.0   0.5   0:02.28 node     \u001b[m\u001b[m\u001b[K\n",
            "\u001b[m     14 root      20   0    7376   3544   3240 S   0.0   0.0   0:00.77 oom_mon+ \u001b[m\u001b[m\u001b[K\n",
            "\u001b[m     16 root      20   0    7376   1844   1556 S   0.0   0.0   0:00.00 run.sh   \u001b[m\u001b[m\u001b[K\n",
            "\u001b[m     17 root      20   0 1237908  16104   9452 S   0.0   0.1   0:00.65 kernel_+ \u001b[m\u001b[m\u001b[K\n",
            "\u001b[m     40 root      20   0    5808   1004    908 S   0.0   0.0   0:00.07 tail     \u001b[m\u001b[m\u001b[K\n",
            "\u001b[m     46 root      20   0    5808   1012    920 S   0.0   0.0   0:00.05 tail     \u001b[m\u001b[m\u001b[K\n",
            "\u001b[m     64 root      20   0       0      0      0 Z   0.0   0.0   0:16.73 python3  \u001b[m\u001b[m\u001b[K\n",
            "\u001b[m     65 root      20   0   78524  59268  19412 S   0.0   0.4   0:01.24 colab-f+ \u001b[m\u001b[m\u001b[K\n",
            "\u001b[m    115 root      20   0 1230092   8872   3548 S   0.0   0.1   0:00.34 dap_mul+ \u001b[m\u001b[m\u001b[K\n",
            "\n",
            "\n",
            "\n",
            "\u001b[m   7008 root      20   0    5776   1004    908 S   0.0   0.0   0:00.00 sleep    \u001b[m\u001b[m\u001b[K\u001b[H\u001b[mtop - 05:11:15 up 27 min,  0 users,  load average: 0.22, 0.28, 0.23\u001b[m\u001b[m\u001b[m\u001b[m\u001b[K\n",
            "\n",
            "%Cpu(s):\u001b[m\u001b[m\u001b[1m 11.2 \u001b[m\u001b[mus,\u001b[m\u001b[m\u001b[1m  7.0 \u001b[m\u001b[msy,\u001b[m\u001b[m\u001b[1m  0.0 \u001b[m\u001b[mni,\u001b[m\u001b[m\u001b[1m 80.6 \u001b[m\u001b[mid,\u001b[m\u001b[m\u001b[1m  1.0 \u001b[m\u001b[mwa,\u001b[m\u001b[m\u001b[1m  0.0 \u001b[m\u001b[mhi,\u001b[m\u001b[m\u001b[1m  0.2 \u001b[m\u001b[msi,\u001b[m\u001b[m\u001b[1m  0.0 \u001b[m\u001b[mst\u001b[m\u001b[m\u001b[m\u001b[m\u001b[K\n",
            "MiB Mem :\u001b[m\u001b[m\u001b[1m  12977.9 \u001b[m\u001b[mtotal,\u001b[m\u001b[m\u001b[1m   7628.1 \u001b[m\u001b[mfree,\u001b[m\u001b[m\u001b[1m    723.3 \u001b[m\u001b[mused,\u001b[m\u001b[m\u001b[1m   4626.6 \u001b[m\u001b[mbuff/cache\u001b[m\u001b[m\u001b[m\u001b[m\u001b[K\n",
            "MiB Swap:\u001b[m\u001b[m\u001b[1m      0.0 \u001b[m\u001b[mtotal,\u001b[m\u001b[m\u001b[1m      0.0 \u001b[m\u001b[mfree,\u001b[m\u001b[m\u001b[1m      0.0 \u001b[m\u001b[mused.\u001b[m\u001b[m\u001b[1m  11954.5 \u001b[m\u001b[mavail Mem \u001b[m\u001b[m\u001b[m\u001b[m\u001b[K\n",
            "\u001b[K\n",
            "\n",
            "\u001b[m    205 root      20   0 1200616 116052  26360 S   0.7   0.9   0:05.92 python3  \u001b[m\u001b[m\u001b[K\n",
            "\u001b[m      7 root      20   0 1299048  69980  41860 S   0.3   0.5   0:02.29 node     \u001b[m\u001b[m\u001b[K\n",
            "\u001b[m    239 root      20   0  545400  20728   5832 S   0.3   0.2   0:01.05 python3  \u001b[m\u001b[m\u001b[K\n",
            "\n",
            "\u001b[m     14 root      20   0    7376   3544   3240 S   0.0   0.0   0:00.77 oom_mon+ \u001b[m\u001b[m\u001b[K\n",
            "\u001b[m     16 root      20   0    7376   1844   1556 S   0.0   0.0   0:00.00 run.sh   \u001b[m\u001b[m\u001b[K\n",
            "\u001b[m     17 root      20   0 1237908  16104   9452 S   0.0   0.1   0:00.65 kernel_+ \u001b[m\u001b[m\u001b[K\n",
            "\u001b[m     40 root      20   0    5808   1004    908 S   0.0   0.0   0:00.07 tail     \u001b[m\u001b[m\u001b[K\n",
            "\u001b[m     46 root      20   0    5808   1012    920 S   0.0   0.0   0:00.05 tail     \u001b[m\u001b[m\u001b[K\n",
            "\u001b[m     64 root      20   0       0      0      0 Z   0.0   0.0   0:16.73 python3  \u001b[m\u001b[m\u001b[K\n",
            "\u001b[m     65 root      20   0   78524  59268  19412 S   0.0   0.4   0:01.24 colab-f+ \u001b[m\u001b[m\u001b[K\n",
            "\u001b[m    110 root      20   0  384700 131548  27336 S   0.0   1.0   0:05.22 jupyter+ \u001b[m\u001b[m\u001b[K\n",
            "\n",
            "\n",
            "\n",
            "\n",
            "\u001b[m   7020 root      20   0    5776   1104   1008 S   0.0   0.0   0:00.00 sleep    \u001b[m\u001b[m\u001b[K\u001b[H\u001b[mtop - 05:11:18 up 27 min,  0 users,  load average: 0.22, 0.28, 0.23\u001b[m\u001b[m\u001b[m\u001b[m\u001b[K\n",
            "\n",
            "%Cpu(s):\u001b[m\u001b[m\u001b[1m  1.0 \u001b[m\u001b[mus,\u001b[m\u001b[m\u001b[1m  1.3 \u001b[m\u001b[msy,\u001b[m\u001b[m\u001b[1m  0.0 \u001b[m\u001b[mni,\u001b[m\u001b[m\u001b[1m 96.5 \u001b[m\u001b[mid,\u001b[m\u001b[m\u001b[1m  1.0 \u001b[m\u001b[mwa,\u001b[m\u001b[m\u001b[1m  0.0 \u001b[m\u001b[mhi,\u001b[m\u001b[m\u001b[1m  0.2 \u001b[m\u001b[msi,\u001b[m\u001b[m\u001b[1m  0.0 \u001b[m\u001b[mst\u001b[m\u001b[m\u001b[m\u001b[m\u001b[K\n",
            "MiB Mem :\u001b[m\u001b[m\u001b[1m  12977.9 \u001b[m\u001b[mtotal,\u001b[m\u001b[m\u001b[1m   7628.1 \u001b[m\u001b[mfree,\u001b[m\u001b[m\u001b[1m    723.2 \u001b[m\u001b[mused,\u001b[m\u001b[m\u001b[1m   4626.6 \u001b[m\u001b[mbuff/cache\u001b[m\u001b[m\u001b[m\u001b[m\u001b[K\n",
            "\n",
            "\u001b[K\n",
            "\n",
            "\u001b[m    115 root      20   0 1230092   8872   3548 S   0.3   0.1   0:00.35 dap_mul+ \u001b[m\u001b[m\u001b[K\n",
            "\u001b[m    205 root      20   0 1200616 116052  26360 S   0.3   0.9   0:05.93 python3  \u001b[m\u001b[m\u001b[K\n",
            "\u001b[m      1 root      20   0    1076      8      0 S   0.0   0.0   0:00.05 docker-+ \u001b[m\u001b[m\u001b[K\n",
            "\u001b[m      7 root      20   0 1299048  69980  41860 S   0.0   0.5   0:02.29 node     \u001b[m\u001b[m\u001b[K\n",
            "\n",
            "\n",
            "\n",
            "\n",
            "\n",
            "\n",
            "\n",
            "\n",
            "\u001b[m    239 root      20   0  545400  20728   5832 S   0.0   0.2   0:01.05 python3  \u001b[m\u001b[m\u001b[K\n",
            "\n",
            "\n",
            "\n",
            "\u001b[m   7032 root      20   0    5776   1012    920 S   0.0   0.0   0:00.00 sleep    \u001b[m\u001b[m\u001b[K\u001b[H\u001b[mtop - 05:11:21 up 27 min,  0 users,  load average: 0.20, 0.28, 0.23\u001b[m\u001b[m\u001b[m\u001b[m\u001b[K\n",
            "\n",
            "%Cpu(s):\u001b[m\u001b[m\u001b[1m  1.8 \u001b[m\u001b[mus,\u001b[m\u001b[m\u001b[1m  1.8 \u001b[m\u001b[msy,\u001b[m\u001b[m\u001b[1m  0.0 \u001b[m\u001b[mni,\u001b[m\u001b[m\u001b[1m 95.0 \u001b[m\u001b[mid,\u001b[m\u001b[m\u001b[1m  1.2 \u001b[m\u001b[mwa,\u001b[m\u001b[m\u001b[1m  0.0 \u001b[m\u001b[mhi,\u001b[m\u001b[m\u001b[1m  0.2 \u001b[m\u001b[msi,\u001b[m\u001b[m\u001b[1m  0.0 \u001b[m\u001b[mst\u001b[m\u001b[m\u001b[m\u001b[m\u001b[K\n",
            "MiB Mem :\u001b[m\u001b[m\u001b[1m  12977.9 \u001b[m\u001b[mtotal,\u001b[m\u001b[m\u001b[1m   7661.5 \u001b[m\u001b[mfree,\u001b[m\u001b[m\u001b[1m    689.8 \u001b[m\u001b[mused,\u001b[m\u001b[m\u001b[1m   4626.6 \u001b[m\u001b[mbuff/cache\u001b[m\u001b[m\u001b[m\u001b[m\u001b[K\n",
            "MiB Swap:\u001b[m\u001b[m\u001b[1m      0.0 \u001b[m\u001b[mtotal,\u001b[m\u001b[m\u001b[1m      0.0 \u001b[m\u001b[mfree,\u001b[m\u001b[m\u001b[1m      0.0 \u001b[m\u001b[mused.\u001b[m\u001b[m\u001b[1m  11988.0 \u001b[m\u001b[mavail Mem \u001b[m\u001b[m\u001b[m\u001b[m\u001b[K\n",
            "\u001b[K\n",
            "\n",
            "\u001b[m      7 root      20   0 1299048  70232  41860 S   0.7   0.5   0:02.31 node     \u001b[m\u001b[m\u001b[K\n",
            "\u001b[m     14 root      20   0    7376   3544   3240 S   0.3   0.0   0:00.78 oom_mon+ \u001b[m\u001b[m\u001b[K\n",
            "\u001b[m     17 root      20   0 1237908  16104   9452 S   0.3   0.1   0:00.66 kernel_+ \u001b[m\u001b[m\u001b[K\n",
            "\u001b[m    205 root      20   0 1200616 116052  26360 S   0.3   0.9   0:05.94 python3  \u001b[m\u001b[m\u001b[K\n",
            "\u001b[m    239 root      20   0  545400  20728   5832 S   0.3   0.2   0:01.06 python3  \u001b[m\u001b[m\u001b[K\n",
            "\u001b[m      1 root      20   0    1076      8      0 S   0.0   0.0   0:00.05 docker-+ \u001b[m\u001b[m\u001b[K\n",
            "\u001b[m     16 root      20   0    7376   1844   1556 S   0.0   0.0   0:00.00 run.sh   \u001b[m\u001b[m\u001b[K\n",
            "\n",
            "\n",
            "\n",
            "\n",
            "\n",
            "\u001b[m    115 root      20   0 1230092   8872   3548 S   0.0   0.1   0:00.35 dap_mul+ \u001b[m\u001b[m\u001b[K\n",
            "\n",
            "\n",
            "\n",
            "\u001b[m   7048 root      20   0    5776   1028    936 S   0.0   0.0   0:00.00 sleep    \u001b[m\u001b[m\u001b[K\u001b[H\u001b[mtop - 05:11:24 up 27 min,  0 users,  load average: 0.43, 0.32, 0.24\u001b[m\u001b[m\u001b[m\u001b[m\u001b[K\n",
            "\n",
            "%Cpu(s):\u001b[m\u001b[m\u001b[1m 16.5 \u001b[m\u001b[mus,\u001b[m\u001b[m\u001b[1m  5.7 \u001b[m\u001b[msy,\u001b[m\u001b[m\u001b[1m  0.0 \u001b[m\u001b[mni,\u001b[m\u001b[m\u001b[1m 76.5 \u001b[m\u001b[mid,\u001b[m\u001b[m\u001b[1m  1.2 \u001b[m\u001b[mwa,\u001b[m\u001b[m\u001b[1m  0.0 \u001b[m\u001b[mhi,\u001b[m\u001b[m\u001b[1m  0.2 \u001b[m\u001b[msi,\u001b[m\u001b[m\u001b[1m  0.0 \u001b[m\u001b[mst\u001b[m\u001b[m\u001b[m\u001b[m\u001b[K\n",
            "MiB Mem :\u001b[m\u001b[m\u001b[1m  12977.9 \u001b[m\u001b[mtotal,\u001b[m\u001b[m\u001b[1m   7627.3 \u001b[m\u001b[mfree,\u001b[m\u001b[m\u001b[1m    724.0 \u001b[m\u001b[mused,\u001b[m\u001b[m\u001b[1m   4626.6 \u001b[m\u001b[mbuff/cache\u001b[m\u001b[m\u001b[m\u001b[m\u001b[K\n",
            "MiB Swap:\u001b[m\u001b[m\u001b[1m      0.0 \u001b[m\u001b[mtotal,\u001b[m\u001b[m\u001b[1m      0.0 \u001b[m\u001b[mfree,\u001b[m\u001b[m\u001b[1m      0.0 \u001b[m\u001b[mused.\u001b[m\u001b[m\u001b[1m  11953.8 \u001b[m\u001b[mavail Mem \u001b[m\u001b[m\u001b[m\u001b[m\u001b[K\n",
            "\u001b[K\n",
            "\n",
            "\u001b[m    205 root      20   0 1200616 116052  26360 S   0.7   0.9   0:05.96 python3  \u001b[m\u001b[m\u001b[K\n",
            "\u001b[m    115 root      20   0 1230092   8872   3548 S   0.3   0.1   0:00.36 dap_mul+ \u001b[m\u001b[m\u001b[K\n",
            "\u001b[m      1 root      20   0    1076      8      0 S   0.0   0.0   0:00.05 docker-+ \u001b[m\u001b[m\u001b[K\n",
            "\u001b[m      7 root      20   0 1299048  70232  41860 S   0.0   0.5   0:02.31 node     \u001b[m\u001b[m\u001b[K\n",
            "\u001b[m     14 root      20   0    7376   3544   3240 S   0.0   0.0   0:00.78 oom_mon+ \u001b[m\u001b[m\u001b[K\n",
            "\u001b[m     16 root      20   0    7376   1844   1556 S   0.0   0.0   0:00.00 run.sh   \u001b[m\u001b[m\u001b[K\n",
            "\u001b[m     17 root      20   0 1237908  16104   9452 S   0.0   0.1   0:00.66 kernel_+ \u001b[m\u001b[m\u001b[K\n",
            "\n",
            "\n",
            "\n",
            "\n",
            "\n",
            "\u001b[m    239 root      20   0  545400  20728   5832 S   0.0   0.2   0:01.06 python3  \u001b[m\u001b[m\u001b[K\n",
            "\n",
            "\n",
            "\n",
            "\u001b[m   7060 root      20   0    5776   1044    952 S   0.0   0.0   0:00.00 sleep    \u001b[m\u001b[m\u001b[K\u001b[H\u001b[mtop - 05:11:27 up 27 min,  0 users,  load average: 0.43, 0.32, 0.24\u001b[m\u001b[m\u001b[m\u001b[m\u001b[K\n",
            "\n",
            "%Cpu(s):\u001b[m\u001b[m\u001b[1m  3.5 \u001b[m\u001b[mus,\u001b[m\u001b[m\u001b[1m  4.7 \u001b[m\u001b[msy,\u001b[m\u001b[m\u001b[1m  0.0 \u001b[m\u001b[mni,\u001b[m\u001b[m\u001b[1m 90.6 \u001b[m\u001b[mid,\u001b[m\u001b[m\u001b[1m  1.0 \u001b[m\u001b[mwa,\u001b[m\u001b[m\u001b[1m  0.0 \u001b[m\u001b[mhi,\u001b[m\u001b[m\u001b[1m  0.2 \u001b[m\u001b[msi,\u001b[m\u001b[m\u001b[1m  0.0 \u001b[m\u001b[mst\u001b[m\u001b[m\u001b[m\u001b[m\u001b[K\n",
            "MiB Mem :\u001b[m\u001b[m\u001b[1m  12977.9 \u001b[m\u001b[mtotal,\u001b[m\u001b[m\u001b[1m   7658.4 \u001b[m\u001b[mfree,\u001b[m\u001b[m\u001b[1m    692.8 \u001b[m\u001b[mused,\u001b[m\u001b[m\u001b[1m   4626.7 \u001b[m\u001b[mbuff/cache\u001b[m\u001b[m\u001b[m\u001b[m\u001b[K\n",
            "MiB Swap:\u001b[m\u001b[m\u001b[1m      0.0 \u001b[m\u001b[mtotal,\u001b[m\u001b[m\u001b[1m      0.0 \u001b[m\u001b[mfree,\u001b[m\u001b[m\u001b[1m      0.0 \u001b[m\u001b[mused.\u001b[m\u001b[m\u001b[1m  11984.9 \u001b[m\u001b[mavail Mem \u001b[m\u001b[m\u001b[m\u001b[m\u001b[K\n",
            "\u001b[K\n",
            "\n",
            "\u001b[m    205 root      20   0 1200616 116052  26360 S   0.7   0.9   0:05.98 python3  \u001b[m\u001b[m\u001b[K\n",
            "\u001b[m    239 root      20   0  545400  20728   5832 S   0.7   0.2   0:01.08 python3  \u001b[m\u001b[m\u001b[K\n",
            "\u001b[m     17 root      20   0 1237908  16104   9452 S   0.3   0.1   0:00.67 kernel_+ \u001b[m\u001b[m\u001b[K\n",
            "\u001b[m    110 root      20   0  384700 131548  27336 S   0.3   1.0   0:05.23 jupyter+ \u001b[m\u001b[m\u001b[K\n",
            "\u001b[m\u001b[1m   6900 root      20   0   10352   3928   3348 R   0.3   0.0   0:00.01 top      \u001b[m\u001b[m\u001b[K\n",
            "\u001b[m      1 root      20   0    1076      8      0 S   0.0   0.0   0:00.05 docker-+ \u001b[m\u001b[m\u001b[K\n",
            "\u001b[m      7 root      20   0 1299048  70232  41860 S   0.0   0.5   0:02.31 node     \u001b[m\u001b[m\u001b[K\n",
            "\u001b[m     14 root      20   0    7376   3544   3240 S   0.0   0.0   0:00.78 oom_mon+ \u001b[m\u001b[m\u001b[K\n",
            "\u001b[m     16 root      20   0    7376   1844   1556 S   0.0   0.0   0:00.00 run.sh   \u001b[m\u001b[m\u001b[K\n",
            "\u001b[m     40 root      20   0    5808   1004    908 S   0.0   0.0   0:00.07 tail     \u001b[m\u001b[m\u001b[K\n",
            "\u001b[m     46 root      20   0    5808   1012    920 S   0.0   0.0   0:00.05 tail     \u001b[m\u001b[m\u001b[K\n",
            "\u001b[m     64 root      20   0       0      0      0 Z   0.0   0.0   0:16.73 python3  \u001b[m\u001b[m\u001b[K\n",
            "\u001b[m     65 root      20   0   78524  59268  19412 S   0.0   0.4   0:01.24 colab-f+ \u001b[m\u001b[m\u001b[K\n",
            "\u001b[m    115 root      20   0 1230092   8872   3548 S   0.0   0.1   0:00.36 dap_mul+ \u001b[m\u001b[m\u001b[K\n",
            "\u001b[m    256 root      20   0 1240760  17424  10988 S   0.0   0.1   0:00.08 languag+ \u001b[m\u001b[m\u001b[K\n",
            "\u001b[m    272 root      20   0 1002864  54992  35172 S   0.0   0.4   0:00.32 node     \u001b[m\u001b[m\u001b[K\n",
            "\u001b[m   7072 root      20   0    5776    980    892 S   0.0   0.0   0:00.00 sleep    \u001b[m\u001b[m\u001b[K\u001b[?1l\u001b>\u001b[25;1H\n",
            "\u001b[K"
          ]
        }
      ]
    },
    {
      "cell_type": "code",
      "source": [
        "Class test:\n",
        "  def __init__(self):\n",
        "    pass"
      ],
      "metadata": {
        "colab": {
          "base_uri": "https://localhost:8080/",
          "height": 106
        },
        "id": "IRVVNdFkCYMK",
        "outputId": "8ba0bed6-baea-4b36-bbab-b920a3e4a57c"
      },
      "execution_count": 28,
      "outputs": [
        {
          "output_type": "error",
          "ename": "SyntaxError",
          "evalue": "invalid syntax (ipython-input-3270663380.py, line 1)",
          "traceback": [
            "\u001b[0;36m  File \u001b[0;32m\"/tmp/ipython-input-3270663380.py\"\u001b[0;36m, line \u001b[0;32m1\u001b[0m\n\u001b[0;31m    Class test:\u001b[0m\n\u001b[0m          ^\u001b[0m\n\u001b[0;31mSyntaxError\u001b[0m\u001b[0;31m:\u001b[0m invalid syntax\n"
          ]
        }
      ]
    },
    {
      "cell_type": "code",
      "source": [
        "!nvidia-smi"
      ],
      "metadata": {
        "id": "AkAHCCcCCseU",
        "outputId": "f077543b-5f63-4062-a939-83a1b75ecc98",
        "colab": {
          "base_uri": "https://localhost:8080/"
        }
      },
      "execution_count": 29,
      "outputs": [
        {
          "output_type": "stream",
          "name": "stdout",
          "text": [
            "Fri Aug 29 14:17:09 2025       \n",
            "+-----------------------------------------------------------------------------------------+\n",
            "| NVIDIA-SMI 550.54.15              Driver Version: 550.54.15      CUDA Version: 12.4     |\n",
            "|-----------------------------------------+------------------------+----------------------+\n",
            "| GPU  Name                 Persistence-M | Bus-Id          Disp.A | Volatile Uncorr. ECC |\n",
            "| Fan  Temp   Perf          Pwr:Usage/Cap |           Memory-Usage | GPU-Util  Compute M. |\n",
            "|                                         |                        |               MIG M. |\n",
            "|=========================================+========================+======================|\n",
            "|   0  Tesla T4                       Off |   00000000:00:04.0 Off |                    0 |\n",
            "| N/A   34C    P8              9W /   70W |       0MiB /  15360MiB |      0%      Default |\n",
            "|                                         |                        |                  N/A |\n",
            "+-----------------------------------------+------------------------+----------------------+\n",
            "                                                                                         \n",
            "+-----------------------------------------------------------------------------------------+\n",
            "| Processes:                                                                              |\n",
            "|  GPU   GI   CI        PID   Type   Process name                              GPU Memory |\n",
            "|        ID   ID                                                               Usage      |\n",
            "|=========================================================================================|\n",
            "|  No running processes found                                                             |\n",
            "+-----------------------------------------------------------------------------------------+\n"
          ]
        }
      ]
    },
    {
      "cell_type": "code",
      "source": [
        "# 지정한 문자열이나 패턴이 포함된 줄만 출력\" 해주는 필터 도구\n",
        "\n",
        "!top | grep python\n",
        "\n",
        "\n",
        "# logfile.txt 파일에서 \"error\"가 포함된 줄만 출력\n",
        "# grep \"error\" logfile.txt"
      ],
      "metadata": {
        "colab": {
          "base_uri": "https://localhost:8080/"
        },
        "id": "Ew7UaRuSc2-H",
        "outputId": "9ee34637-551e-4371-fc14-f4981b14308b"
      },
      "execution_count": null,
      "outputs": [
        {
          "output_type": "stream",
          "name": "stdout",
          "text": [
            "\u001b[m    214 root      20   0 1200924 116076  26340 S   6.7   0.9   0:03.32 python3  \u001b[m\u001b[m\u001b[K\n",
            "\u001b[m     63 root      20   0       0      0      0 Z   0.0   0.0   0:15.38 python3  \u001b[m\u001b[m\u001b[K\n",
            "\u001b[m    246 root      20   0  545152  20340   5600 S   0.0   0.2   0:00.82 python3  \u001b[m\u001b[m\u001b[K\n",
            "\u001b[m    214 root      20   0 1200924 116200  26340 S   0.7   0.9   0:03.34 python3  \u001b[m\u001b[m\u001b[K\n",
            "\u001b[m    246 root      20   0  545152  20340   5600 S   0.3   0.2   0:00.83 python3  \u001b[m\u001b[m\u001b[K\n",
            "\u001b[m     63 root      20   0       0      0      0 Z   0.0   0.0   0:15.38 python3  \u001b[m\u001b[m\u001b[K\n",
            "\u001b[m    214 root      20   0 1200924 116200  26340 S   0.3   0.9   0:03.35 python3  \u001b[m\u001b[m\u001b[K\n",
            "\u001b[m    246 root      20   0  545152  20340   5600 S   0.3   0.2   0:00.84 python3  \u001b[m\u001b[m\u001b[K\n",
            "\u001b[m     63 root      20   0       0      0      0 Z   0.0   0.0   0:15.38 python3  \u001b[m\u001b[m\u001b[K\n"
          ]
        }
      ]
    },
    {
      "cell_type": "code",
      "source": [
        "# 최상위 디렉토리에서 home이 들어가 있는 파일을 찾아줘라.\n",
        "!find / -name '*home*'"
      ],
      "metadata": {
        "id": "snZkzzhdcj60"
      },
      "execution_count": null,
      "outputs": []
    },
    {
      "cell_type": "code",
      "source": [
        "!kill -9 해당프로세스PID # top나 nividia-smi에서 프로세스 아이디를 알 수 있다.\n",
        "                         # kill -9 프로세스아이디 로 해당 프로그램을 강제종료 가능"
      ],
      "metadata": {
        "id": "EupB0LNFCj3t"
      },
      "execution_count": null,
      "outputs": []
    },
    {
      "cell_type": "code",
      "source": [
        "# 그래픽카드 정보 확인\n",
        "!nvidia-smi"
      ],
      "metadata": {
        "colab": {
          "base_uri": "https://localhost:8080/"
        },
        "id": "P-sslEmOP0TA",
        "outputId": "14449b00-64aa-4abb-e714-7d208c977b12"
      },
      "execution_count": null,
      "outputs": [
        {
          "output_type": "stream",
          "name": "stdout",
          "text": [
            "/bin/bash: line 1: nvidia-smi: command not found\n"
          ]
        }
      ]
    },
    {
      "cell_type": "code",
      "source": [
        "# 리눅스 상식\n",
        "\n",
        "1. 모든 파일을 수정 할 때는 보편적으로 vim을 쓴다.\n",
        "2. sudo는 관리자 권한으로 명령을 내리는것\n",
        "3. apt install, pip install, conda install, apt-get install, pip3 install 차이는 어디 저장소를 통해서 다운로드 할건지의 차이\n",
        "4. 내부 ip 확인은 ifconfig"
      ],
      "metadata": {
        "id": "BE9vvlOJP9cl"
      },
      "execution_count": null,
      "outputs": []
    }
  ]
}