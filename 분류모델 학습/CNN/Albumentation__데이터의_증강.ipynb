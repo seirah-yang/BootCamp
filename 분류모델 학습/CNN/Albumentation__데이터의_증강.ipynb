{
  "nbformat": 4,
  "nbformat_minor": 0,
  "metadata": {
    "colab": {
      "provenance": [],
      "authorship_tag": "ABX9TyPqY3c4vlo4kQHMH95CtX71",
      "include_colab_link": true
    },
    "kernelspec": {
      "name": "python3",
      "display_name": "Python 3"
    },
    "language_info": {
      "name": "python"
    }
  },
  "cells": [
    {
      "cell_type": "markdown",
      "metadata": {
        "id": "view-in-github",
        "colab_type": "text"
      },
      "source": [
        "<a href=\"https://colab.research.google.com/github/seirah-yang/BootCamp/blob/main/Albumentation__%EB%8D%B0%EC%9D%B4%ED%84%B0%EC%9D%98_%EC%A6%9D%EA%B0%95.ipynb\" target=\"_parent\"><img src=\"https://colab.research.google.com/assets/colab-badge.svg\" alt=\"Open In Colab\"/></a>"
      ]
    },
    {
      "cell_type": "markdown",
      "source": [
        "## albumentation\n",
        "이미지 데이터 증강 라이브러리\n",
        "\n",
        "이미지를 좌, 우, 회전, 색변환, 노이즈 등등 넣어서 다양한 데이터를 모델이 학습시킬 수 있게 변환한다.\n",
        "\n",
        "함수마다 확률 값을 줘서 작동을 확률 값으로 한다.\n",
        "\n",
        " 예를 들어 좌우반전이라는 함수가 있고, 0.5의 확률 값을 주면 2번 중에 한 번만 작동한다."
      ],
      "metadata": {
        "id": "QORbUM9vyyeV"
      }
    },
    {
      "cell_type": "code",
      "execution_count": null,
      "metadata": {
        "id": "KYU-BybFyxRK"
      },
      "outputs": [],
      "source": [
        "import numpy as np\n",
        "import pandas as pd\n",
        "import os\n",
        "import cv2\n",
        "import matplotlib.pyplot as plt\n",
        "\n",
        "image = cv2.cvtColor(cv2.imread('test.jpg').cv2.COLOR_BGR2RGB)\n",
        "plt.imshow(img)"
      ]
    },
    {
      "cell_type": "code",
      "source": [
        "#이미지 배열을 입력받아 5개를 출력\n",
        "def show_images(images, labels):\n",
        "    fig, axs = plt.subplots(nrow=1, ncols=5, figsize=(20,8))\n",
        "    for i in range(5);\n",
        "        axs[i].imshow(images[i])\n",
        "        axs[i].set_title(labels[i])\n",
        "\n",
        "#원본 이미지를 입력받아 4개의 augmentation 적용하여 시각화\n",
        "def aug_apply(image, label, aug):\n",
        "    image_list = [image]\n",
        "    label_list=['origin']\n",
        "\n",
        "    for i  in range(4):\n",
        "        aug_image = aug(image=image)['image']\n",
        "        image_list.append(aug_image)\n",
        "        label_list.append(label)\n",
        "\n",
        "    show_images(image_list, label_list)\n"
      ],
      "metadata": {
        "id": "nG72FERCzpI7"
      },
      "execution_count": null,
      "outputs": []
    },
    {
      "cell_type": "code",
      "source": [
        "import albumentations as at\n",
        "\n",
        "#좌우반전\n",
        "aug_horizontal=at.HorizontalFlip(p=0.5)\n",
        "\n",
        "#상하반전\n",
        "aug_vertical = at.VerticalFlip(p=0.5)\n",
        "\n",
        "#-90~90도 사이로 회전, 남은 공간은 주변 환경으로 채움\n",
        "aug_rotate = at.Rotate(limit=90, p=1, border_mode=cv2.BORDER_REPLICATE)\n",
        "\n",
        "#원본사이즈를 변경하면서 90, 180, 270, 360도 회전\n",
        "aug_random_rotate = at.RandomRotate90(p=1)\n",
        "\n",
        "aug_apply(image=image, label='Horizontal', aug=aug_horizontal)\n",
        "aug_apply(image=image, label='Vertical', aug=aug_vertical)\n",
        "aug_apply(image=image, label='Rotate', aug=aug_rotate)\n",
        "aug_apply(image=image, label='RandomRotate', aug=aug_random_rotate)\n"
      ],
      "metadata": {
        "id": "DWV6HzIn0kWt"
      },
      "execution_count": null,
      "outputs": []
    },
    {
      "cell_type": "code",
      "source": [
        "#shift, scale, rotate를 한번에 적용\n",
        "aug_shift_scale_rotate = at.ShiftScaleRotate(shift_limit=0.4, scale_limit=(0.5,0.9), rotate_limit=90, p=1, border_mode=cv2.BORDER_REPLICATE)\n",
        "\n",
        "#scale만 적용한 경우\n",
        "aug_only_scale=at.ShiftScaleRotate(shift_limit=0, scale_limit=(0.5,0.9), rotate_limit=0, p=1)\n",
        "\n",
        "#shift만 적용한 경우 (height, width)\n",
        "aug_only_shift=at.ShiftScaleRotate(shift_limit=(0.4, 0.5), scale_limit=0, rotate_limit=0, p=1, border_mode=cv2.BORDER_REPLICATE)\n",
        "\n",
        "aug_apply(image=image, label='Shift_Scale_Rotate', aug=aug_shift_scale_rotate)\n",
        "aug_apply(image=image, label='Only_Scale', aug=aug_only_scale)\n",
        "aug_apply(image=image, label='Only_Shift', aug=aug_only_shift)\n"
      ],
      "metadata": {
        "id": "SeeSYfqI1nzo"
      },
      "execution_count": null,
      "outputs": []
    },
    {
      "cell_type": "code",
      "source": [
        "#여러개 동시에 적용(Compose 자체에도 확률을 적용할 수 있음)\n",
        "aug_multi=at.Compose([\n",
        "    at.VerticalFilp(p=0.5),\n",
        "    at.HorizontalFlip(p=0.5)\n",
        "], p=1)\n",
        "\n",
        "aug_apply(image=image, label'Compose', aug=aug_multi)"
      ],
      "metadata": {
        "id": "0hWyUc1Y290M"
      },
      "execution_count": null,
      "outputs": []
    }
  ]
}