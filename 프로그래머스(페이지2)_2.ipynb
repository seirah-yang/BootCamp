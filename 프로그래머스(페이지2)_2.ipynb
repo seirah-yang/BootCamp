{
  "nbformat": 4,
  "nbformat_minor": 0,
  "metadata": {
    "colab": {
      "provenance": [],
      "authorship_tag": "ABX9TyOlN4EelUtO62HTmm5fsEPr",
      "include_colab_link": true
    },
    "kernelspec": {
      "name": "python3",
      "display_name": "Python 3"
    },
    "language_info": {
      "name": "python"
    }
  },
  "cells": [
    {
      "cell_type": "markdown",
      "metadata": {
        "id": "view-in-github",
        "colab_type": "text"
      },
      "source": [
        "<a href=\"https://colab.research.google.com/github/seirah-yang/BootCamp/blob/main/%ED%94%84%EB%A1%9C%EA%B7%B8%EB%9E%98%EB%A8%B8%EC%8A%A4(%ED%8E%98%EC%9D%B4%EC%A7%802)_2.ipynb\" target=\"_parent\"><img src=\"https://colab.research.google.com/assets/colab-badge.svg\" alt=\"Open In Colab\"/></a>"
      ]
    },
    {
      "cell_type": "markdown",
      "source": [
        "https://school.programmers.co.kr/learn/challenges?order=acceptance_desc&levels=1&page=1&languages=python3\n",
        "\n",
        "1 LV.\n",
        "\n",
        "10분이상 생각하지말고, N개씩 풀고 답보고, 새로운 아이디로 다시풀기"
      ],
      "metadata": {
        "id": "mrTGyqrHv70x"
      }
    },
    {
      "cell_type": "code",
      "source": [
        "# 같은 숫자는 싫어\n",
        "def solution(arr):\n",
        "    ans =[]\n",
        "    ans = set(arr)\n",
        "    return ans\n",
        "\n",
        "print(solution([1,1,3,3,0,1,1]))\n",
        "print(solution([4,4,4,3,3]))"
      ],
      "metadata": {
        "id": "QSBsjJpGiOQK",
        "colab": {
          "base_uri": "https://localhost:8080/"
        },
        "outputId": "c96b0d7f-bf10-4d6f-b8f2-359bdc10cea6"
      },
      "execution_count": null,
      "outputs": [
        {
          "output_type": "stream",
          "name": "stdout",
          "text": [
            "{0, 1, 3}\n",
            "{3, 4}\n"
          ]
        }
      ]
    },
    {
      "cell_type": "code",
      "source": [
        "def solution(arr):\n",
        "    answer = []\n",
        "    for i in arr:\n",
        "        if arr[-1] != i:\n",
        "            answer.append(i)\n",
        "    return answer\n",
        "\n",
        "print(solution([1,1,3,3,0,1,1]))\n",
        "print(solution([4,4,4,3,3]))"
      ],
      "metadata": {
        "colab": {
          "base_uri": "https://localhost:8080/"
        },
        "id": "vojE8DMUN7GA",
        "outputId": "adb2f4c0-954c-405c-867f-2e0022f6fafe"
      },
      "execution_count": null,
      "outputs": [
        {
          "output_type": "stream",
          "name": "stdout",
          "text": [
            "[3, 3, 0]\n",
            "[4, 4, 4]\n"
          ]
        }
      ]
    },
    {
      "cell_type": "code",
      "source": [
        "def solution(arr):\n",
        "    ans = []\n",
        "    for i in arr:\n",
        "        if arr[-1] == arr[-2]:\n",
        "            ans.append(arr[-2])\n",
        "        elif arr[-1] == arr[-2]:\n",
        "            ans.append(arr[-1])\n",
        "            ans.append(arr[-2])\n",
        "    return ans\n",
        "print(solution([1,1,3,3,0,1,1]))\n",
        "print(solution([4,4,4,3,3]))"
      ],
      "metadata": {
        "colab": {
          "base_uri": "https://localhost:8080/"
        },
        "id": "u0jHPPxgPha5",
        "outputId": "24ddc4fc-1d86-4aef-f430-3dd342bff7d1"
      },
      "execution_count": null,
      "outputs": [
        {
          "output_type": "stream",
          "name": "stdout",
          "text": [
            "[1, 1, 1, 1, 1, 1, 1]\n",
            "[3, 3, 3, 3, 3]\n"
          ]
        }
      ]
    },
    {
      "cell_type": "code",
      "source": [
        "# 최대공약수와 최소공배수\n",
        "import math\n",
        "\n",
        "def solution(n,m):\n",
        "    gcd= math.gcd(n,m)\n",
        "    lcm=(n*m)//gcd\n",
        "    return [gcd, lcm]\n",
        "\n",
        "print(solution(3,12))\n",
        "print(solution(2,5))"
      ],
      "metadata": {
        "id": "2_XZiRX0iONC",
        "colab": {
          "base_uri": "https://localhost:8080/"
        },
        "outputId": "834c6208-37f3-4b6e-a812-6f8302934bb2"
      },
      "execution_count": 48,
      "outputs": [
        {
          "output_type": "stream",
          "name": "stdout",
          "text": [
            "[3, 12]\n",
            "[1, 10]\n"
          ]
        }
      ]
    },
    {
      "cell_type": "code",
      "source": [
        "## 유클리드 호제법으로 구하기\n",
        "## gcd(a, b) = gcd(b, a % b)  # 나머지가 0이 될 때, 그때의 b가 최대공약수입니다.\n",
        "## lcm(a, b) = (a * b) // gcd(a, b)\n",
        "\n",
        "def solution(n, m):\n",
        "    # 최대공약수 (유클리드 호제법)\n",
        "    a, b = n, m\n",
        "    while b != 0:\n",
        "        a, b = b, a % b\n",
        "    gcd = a\n",
        "\n",
        "    # 최소공배수\n",
        "    lcm = (n * m) // gcd\n",
        "\n",
        "    return [gcd, lcm]\n",
        "print(solution(3, 12))\n",
        "print(solution(2, 5))"
      ],
      "metadata": {
        "colab": {
          "base_uri": "https://localhost:8080/"
        },
        "id": "kElYPiFHeCWJ",
        "outputId": "2e8b2b71-d3ee-4313-d2f7-f1c1f4b4a10d"
      },
      "execution_count": 52,
      "outputs": [
        {
          "output_type": "stream",
          "name": "stdout",
          "text": [
            "[3, 12]\n",
            "[1, 10]\n"
          ]
        }
      ]
    },
    {
      "cell_type": "code",
      "source": [
        "# 크기가 작은 부분 문자열\n",
        "def solution(t,p):\n",
        "    l=len(p)\n",
        "    count = 0\n",
        "    for i in range(len(t)-l+1):\n",
        "        if t[i:i+l] <= p:\n",
        "            count+=1\n",
        "        else:\n",
        "            count += 0\n",
        "    return count\n",
        "\n",
        "print(solution(\"3141592\", \"271\"))\n",
        "print(solution(\"500220839878\", \"7\"))\n",
        "print(solution(\"10203\", \"15\"))\n"
      ],
      "metadata": {
        "id": "k0OBp2TuiOJ0",
        "colab": {
          "base_uri": "https://localhost:8080/"
        },
        "outputId": "31a47155-3a98-4043-c275-dda5762078ac"
      },
      "execution_count": 61,
      "outputs": [
        {
          "output_type": "stream",
          "name": "stdout",
          "text": [
            "2\n",
            "8\n",
            "3\n"
          ]
        }
      ]
    },
    {
      "cell_type": "code",
      "source": [
        "def solution(t, p):\n",
        "    answer = 0\n",
        "    for idx in range(0, len(t)-len(p)+1):\n",
        "        if int(t[idx:idx+len(p)]) <= int(p):\n",
        "            answer +=1\n",
        "    return answer"
      ],
      "metadata": {
        "id": "lpS7yxmhhMr7"
      },
      "execution_count": 60,
      "outputs": []
    },
    {
      "cell_type": "code",
      "source": [
        "# 예산\n",
        "def solution(d, budget):\n",
        "    d.sort()\n",
        "    total = 0\n",
        "    count = 0\n",
        "\n",
        "    for i in d:\n",
        "        if total+i > budget:\n",
        "            break\n",
        "        total += i\n",
        "        count += 1\n",
        "    return count\n",
        "\n",
        "print(solution([1,3,2,5,4],9))\n",
        "print(solution([2,2,3,3],10))"
      ],
      "metadata": {
        "id": "V3Whupx1iOGa",
        "colab": {
          "base_uri": "https://localhost:8080/"
        },
        "outputId": "820fedbf-7971-45ab-f648-5e9205ed9a88"
      },
      "execution_count": 62,
      "outputs": [
        {
          "output_type": "stream",
          "name": "stdout",
          "text": [
            "3\n",
            "4\n"
          ]
        }
      ]
    },
    {
      "cell_type": "code",
      "source": [
        "# 3진법 뒤집기\n",
        "def solution(n):\n",
        "    base3 = ''\n",
        "    while n>0:\n",
        "        n, r = divmod(n, 3)\n",
        "        base3 = str(r) + base3\n",
        "    r_base3 = base3[::-1]\n",
        "\n",
        "    return int(r_base3, 3)\n",
        "\n",
        "print(solution(45))\n",
        "print(solution(125))"
      ],
      "metadata": {
        "id": "xYlrEamNiODu",
        "colab": {
          "base_uri": "https://localhost:8080/"
        },
        "outputId": "ae7fa37d-51a3-480e-96cb-8c83b40e9d88"
      },
      "execution_count": 63,
      "outputs": [
        {
          "output_type": "stream",
          "name": "stdout",
          "text": [
            "7\n",
            "229\n"
          ]
        }
      ]
    },
    {
      "cell_type": "code",
      "source": [
        "# 삼총사\n",
        "def solution(number):\n",
        "\n",
        "    answer = 0\n",
        "    count = 0\n",
        "    n = len(number)\n",
        "    for i in range(n):\n",
        "        for j in range(n):\n",
        "            for k in range(n):\n",
        "                if number[i] + number[j]+number[k] ==0:\n",
        "                    count += 1\n",
        "                answer = count\n",
        "    return answer\n",
        "\n",
        "print(solution([-2, 3, 0, 2, -5]))\n",
        "print(solution([-3, -2, -1, 0, 1, 2, 3]))\n",
        "print(solution([-1, 1, -1, 1]))\n"
      ],
      "metadata": {
        "id": "XxY7jGyFiOAQ",
        "colab": {
          "base_uri": "https://localhost:8080/"
        },
        "outputId": "f96ad480-1fad-4478-f6bc-c2670d059a63"
      },
      "execution_count": 64,
      "outputs": [
        {
          "output_type": "stream",
          "name": "stdout",
          "text": [
            "13\n",
            "37\n",
            "0\n"
          ]
        }
      ]
    },
    {
      "cell_type": "code",
      "source": [
        "# 이상한 문자 만들기\n",
        "def solution(s):\n",
        "    answer = ''\n",
        "    idx = 0  # 단어 내 인덱스\n",
        "\n",
        "    for char in s:\n",
        "        if char == ' ':\n",
        "            answer += ' '\n",
        "            idx = 0\n",
        "        else:\n",
        "            if idx % 2 == 0:\n",
        "                answer += char.upper()\n",
        "            else:\n",
        "                answer += char.lower()\n",
        "            idx += 1\n",
        "    return answer\n",
        "\n",
        "print(solution(\"try hello world\"))\n"
      ],
      "metadata": {
        "id": "3iN58qXyiN9g",
        "colab": {
          "base_uri": "https://localhost:8080/"
        },
        "outputId": "5e4d390e-964b-4b4c-b141-a0417ecb99ed"
      },
      "execution_count": 65,
      "outputs": [
        {
          "output_type": "stream",
          "name": "stdout",
          "text": [
            "TrY HeLlO WoRlD\n"
          ]
        }
      ]
    },
    {
      "cell_type": "code",
      "execution_count": 68,
      "metadata": {
        "id": "5S7e-FDyh-05",
        "colab": {
          "base_uri": "https://localhost:8080/"
        },
        "outputId": "dad001ba-448c-4d14-80a9-355714365f33"
      },
      "outputs": [
        {
          "output_type": "stream",
          "name": "stdout",
          "text": [
            "4000\n",
            "120\n",
            "133\n"
          ]
        }
      ],
      "source": [
        "#최소직사각형\n",
        "def solution(sizes):\n",
        "    max_w = 0\n",
        "    max_h = 0\n",
        "\n",
        "    for w, h in sizes:\n",
        "        bigger = max(w, h)\n",
        "        smaller = min(w, h)\n",
        "\n",
        "        max_w = max(max_w, bigger)\n",
        "        max_h = max(max_h, smaller)\n",
        "\n",
        "    return max_w * max_h\n",
        "\n",
        "print(solution([[60, 50], [30, 70], [60, 30], [80, 40]]))\n",
        "print(solution([[10, 7], [12, 3], [8, 15], [14, 7], [5, 15]]))\n",
        "print(solution([[14, 4], [19, 6], [6, 16], [18, 7], [7, 11]]))\n"
      ]
    },
    {
      "cell_type": "code",
      "source": [
        "# 가장 가까운 같은 글자\n",
        "def solution(s):\n",
        "    last_index = {}\n",
        "    answer = []\n",
        "\n",
        "    for i, char in enumerate(s):\n",
        "        if char in last_index:\n",
        "            distance = i - last_index[char]\n",
        "            answer.append(distance)\n",
        "        else:\n",
        "            answer.append(-1)\n",
        "        last_index[char] = i\n",
        "\n",
        "    return answer\n",
        "print(solution(\"banana\"))\n",
        "print(solution(\"foobar\"))"
      ],
      "metadata": {
        "id": "rtgqSwu3ir4M",
        "colab": {
          "base_uri": "https://localhost:8080/"
        },
        "outputId": "bca5999f-7d67-4a66-cdb0-d3e6421e4d93"
      },
      "execution_count": 69,
      "outputs": [
        {
          "output_type": "stream",
          "name": "stdout",
          "text": [
            "[-1, -1, -1, 2, 2, 2]\n",
            "[-1, -1, 1, -1, -1, -1]\n"
          ]
        }
      ]
    },
    {
      "cell_type": "code",
      "source": [
        "# 시저암호\n",
        "def solution(s, n):\n",
        "    ans = \"\"\n",
        "    for ch in s:\n",
        "        if 'a' <= ch <= 'z':\n",
        "            base = ord('a')\n",
        "            ans+=(chr((ord(ch) - base + n) % 26 + base))\n",
        "        elif 'A' <= ch <= 'Z':\n",
        "            base = ord('A')\n",
        "            ans+=(chr((ord(ch) - base + n) % 26 + base))\n",
        "        else:\n",
        "            ans+=(ch)\n",
        "    return ''.join(ans)\n",
        "\n",
        "\n",
        "print(solution(\"AB\", 1))\n",
        "print(solution(\"z\", 1))\n",
        "print(solution(\"a B z\", 4))\n"
      ],
      "metadata": {
        "id": "mLjlwWdTirz4",
        "colab": {
          "base_uri": "https://localhost:8080/"
        },
        "outputId": "84bb5235-4bc1-436a-919e-47ee1c3eb453"
      },
      "execution_count": 44,
      "outputs": [
        {
          "output_type": "stream",
          "name": "stdout",
          "text": [
            "BC\n",
            "a\n",
            "e F d\n"
          ]
        }
      ]
    },
    {
      "cell_type": "code",
      "source": [
        "def solution(s, n):\n",
        "    ans = \"\"\n",
        "    for i in s:\n",
        "        if i.isupper():\n",
        "            ans += chr((ord(i)-ord('A')+n)%26 + ord('A'))  #chr 라고 적어야 함\n",
        "        elif i.islower():\n",
        "            ans += chr((ord(i)-ord('a')+n)%26 + ord('a'))  #chr 라고 적어야 함\n",
        "        else:\n",
        "            ans += i\n",
        "    return ''.join(ans)\n",
        "\n",
        "print(solution(\"AB\", 1))\n",
        "print(solution(\"z\", 1))\n",
        "print(solution(\"a B z\", 4))"
      ],
      "metadata": {
        "colab": {
          "base_uri": "https://localhost:8080/"
        },
        "id": "eYuEESx_ZuEs",
        "outputId": "af3348ce-b081-40c0-889d-f315073f8dda"
      },
      "execution_count": 47,
      "outputs": [
        {
          "output_type": "stream",
          "name": "stdout",
          "text": [
            "BC\n",
            "a\n",
            "e F d\n"
          ]
        }
      ]
    },
    {
      "cell_type": "markdown",
      "source": [
        "\t1.\tord(char)\n",
        "        •\t문자(char)를 유니코드 정수값(코드포인트)으로 변환\n",
        "        •\t예시: ord('A')   # 65\n",
        "                 ord('a')   # 97\n",
        "                 ord('가')  # 44032\n",
        "\n",
        "    2.\tchr(code)\n",
        "        •\t정수값(code)을 다시 문자로 변환\n",
        "        •\t예시: chr(65)    # 'A'\n",
        "                 chr(97)    # 'a'\n",
        "                 chr(44032) # '가'"
      ],
      "metadata": {
        "id": "ChCi5TyTdSFw"
      }
    },
    {
      "cell_type": "code",
      "source": [
        "# 두개 뽑아서 더하기\n",
        "def solution(num):\n",
        "    sum =set()\n",
        "    for i in range(len(num)):\n",
        "        for j in range(i+1, len(num)):\n",
        "            sum.add(num[i] + num[j])\n",
        "\n",
        "    return sorted(sum)\n",
        "print(solution([2,1,3,4,1]))\n",
        "print(solution([5,0,2,7]))"
      ],
      "metadata": {
        "id": "FNsocyL2irj-",
        "colab": {
          "base_uri": "https://localhost:8080/"
        },
        "outputId": "c3ed21d3-4c1b-4bb9-a363-b402aa8abd81"
      },
      "execution_count": 42,
      "outputs": [
        {
          "output_type": "stream",
          "name": "stdout",
          "text": [
            "[2, 3, 4, 5, 6, 7]\n",
            "[2, 5, 7, 9, 12]\n"
          ]
        }
      ]
    },
    {
      "cell_type": "code",
      "source": [
        "def solution(num):\n",
        "    sum=[]\n",
        "    for i in range(len(num)):\n",
        "        for j in range(i+1, len(num)):\n",
        "            sum.add(num[i]+num[j])\n",
        "\n",
        "\n",
        "    return sorted(sum)\n",
        "print(solution([2,1,3,4,1]))\n",
        "print(solution([5,0,2,7]))"
      ],
      "metadata": {
        "colab": {
          "base_uri": "https://localhost:8080/",
          "height": 309
        },
        "id": "yg7FfLUWP5fu",
        "outputId": "a5a15c64-3f69-4490-ad8e-304fc88401e5"
      },
      "execution_count": 29,
      "outputs": [
        {
          "output_type": "error",
          "ename": "AttributeError",
          "evalue": "'list' object has no attribute 'add'",
          "traceback": [
            "\u001b[0;31m---------------------------------------------------------------------------\u001b[0m",
            "\u001b[0;31mAttributeError\u001b[0m                            Traceback (most recent call last)",
            "\u001b[0;32m/tmp/ipython-input-666805986.py\u001b[0m in \u001b[0;36m<cell line: 0>\u001b[0;34m()\u001b[0m\n\u001b[1;32m      7\u001b[0m \u001b[0;34m\u001b[0m\u001b[0m\n\u001b[1;32m      8\u001b[0m     \u001b[0;32mreturn\u001b[0m \u001b[0msorted\u001b[0m\u001b[0;34m(\u001b[0m\u001b[0msum\u001b[0m\u001b[0;34m)\u001b[0m\u001b[0;34m\u001b[0m\u001b[0;34m\u001b[0m\u001b[0m\n\u001b[0;32m----> 9\u001b[0;31m \u001b[0mprint\u001b[0m\u001b[0;34m(\u001b[0m\u001b[0msolution\u001b[0m\u001b[0;34m(\u001b[0m\u001b[0;34m[\u001b[0m\u001b[0;36m2\u001b[0m\u001b[0;34m,\u001b[0m\u001b[0;36m1\u001b[0m\u001b[0;34m,\u001b[0m\u001b[0;36m3\u001b[0m\u001b[0;34m,\u001b[0m\u001b[0;36m4\u001b[0m\u001b[0;34m,\u001b[0m\u001b[0;36m1\u001b[0m\u001b[0;34m]\u001b[0m\u001b[0;34m)\u001b[0m\u001b[0;34m)\u001b[0m\u001b[0;34m\u001b[0m\u001b[0;34m\u001b[0m\u001b[0m\n\u001b[0m\u001b[1;32m     10\u001b[0m \u001b[0mprint\u001b[0m\u001b[0;34m(\u001b[0m\u001b[0msolution\u001b[0m\u001b[0;34m(\u001b[0m\u001b[0;34m[\u001b[0m\u001b[0;36m5\u001b[0m\u001b[0;34m,\u001b[0m\u001b[0;36m0\u001b[0m\u001b[0;34m,\u001b[0m\u001b[0;36m2\u001b[0m\u001b[0;34m,\u001b[0m\u001b[0;36m7\u001b[0m\u001b[0;34m]\u001b[0m\u001b[0;34m)\u001b[0m\u001b[0;34m)\u001b[0m\u001b[0;34m\u001b[0m\u001b[0;34m\u001b[0m\u001b[0m\n",
            "\u001b[0;32m/tmp/ipython-input-666805986.py\u001b[0m in \u001b[0;36msolution\u001b[0;34m(num)\u001b[0m\n\u001b[1;32m      3\u001b[0m     \u001b[0;32mfor\u001b[0m \u001b[0mi\u001b[0m \u001b[0;32min\u001b[0m \u001b[0mrange\u001b[0m\u001b[0;34m(\u001b[0m\u001b[0mlen\u001b[0m\u001b[0;34m(\u001b[0m\u001b[0mnum\u001b[0m\u001b[0;34m)\u001b[0m\u001b[0;34m)\u001b[0m\u001b[0;34m:\u001b[0m\u001b[0;34m\u001b[0m\u001b[0;34m\u001b[0m\u001b[0m\n\u001b[1;32m      4\u001b[0m         \u001b[0;32mfor\u001b[0m \u001b[0mj\u001b[0m \u001b[0;32min\u001b[0m \u001b[0mrange\u001b[0m\u001b[0;34m(\u001b[0m\u001b[0mi\u001b[0m\u001b[0;34m+\u001b[0m\u001b[0;36m1\u001b[0m\u001b[0;34m,\u001b[0m \u001b[0mlen\u001b[0m\u001b[0;34m(\u001b[0m\u001b[0mnum\u001b[0m\u001b[0;34m)\u001b[0m\u001b[0;34m)\u001b[0m\u001b[0;34m:\u001b[0m\u001b[0;34m\u001b[0m\u001b[0;34m\u001b[0m\u001b[0m\n\u001b[0;32m----> 5\u001b[0;31m             \u001b[0msum\u001b[0m\u001b[0;34m.\u001b[0m\u001b[0madd\u001b[0m\u001b[0;34m(\u001b[0m\u001b[0mnum\u001b[0m\u001b[0;34m[\u001b[0m\u001b[0mi\u001b[0m\u001b[0;34m]\u001b[0m\u001b[0;34m+\u001b[0m\u001b[0mnum\u001b[0m\u001b[0;34m[\u001b[0m\u001b[0mj\u001b[0m\u001b[0;34m]\u001b[0m\u001b[0;34m)\u001b[0m\u001b[0;34m\u001b[0m\u001b[0;34m\u001b[0m\u001b[0m\n\u001b[0m\u001b[1;32m      6\u001b[0m \u001b[0;34m\u001b[0m\u001b[0m\n\u001b[1;32m      7\u001b[0m \u001b[0;34m\u001b[0m\u001b[0m\n",
            "\u001b[0;31mAttributeError\u001b[0m: 'list' object has no attribute 'add'"
          ]
        }
      ]
    },
    {
      "cell_type": "code",
      "source": [],
      "metadata": {
        "id": "dCdPG2n_O13b"
      },
      "execution_count": null,
      "outputs": []
    }
  ]
}