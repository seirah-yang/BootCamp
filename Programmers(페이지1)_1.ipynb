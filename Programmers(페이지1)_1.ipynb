{
  "nbformat": 4,
  "nbformat_minor": 0,
  "metadata": {
    "colab": {
      "provenance": [],
      "authorship_tag": "ABX9TyPMVGIu4HOOYtFIP0B611RU",
      "include_colab_link": true
    },
    "kernelspec": {
      "name": "python3",
      "display_name": "Python 3"
    },
    "language_info": {
      "name": "python"
    }
  },
  "cells": [
    {
      "cell_type": "markdown",
      "metadata": {
        "id": "view-in-github",
        "colab_type": "text"
      },
      "source": [
        "<a href=\"https://colab.research.google.com/github/seirah-yang/BootCamp/blob/main/Programmers(%ED%8E%98%EC%9D%B4%EC%A7%801)_1.ipynb\" target=\"_parent\"><img src=\"https://colab.research.google.com/assets/colab-badge.svg\" alt=\"Open In Colab\"/></a>"
      ]
    },
    {
      "cell_type": "code",
      "execution_count": null,
      "metadata": {
        "colab": {
          "base_uri": "https://localhost:8080/"
        },
        "id": "0--S9scx0afT",
        "outputId": "3b440ff8-d59f-49d8-ab38-18938f757a27"
      },
      "outputs": [
        {
          "output_type": "stream",
          "name": "stdout",
          "text": [
            "[2, 4, 6, 8, 10]\n",
            "[4, 8, 12]\n",
            "[-4, -8]\n"
          ]
        }
      ],
      "source": [
        "#x만큼 간격이 있는 n개의 숫자\n",
        "def solution(x,n):\n",
        "    ans =[]\n",
        "    for i in range(1,n+1):\n",
        "        ans.append(x*i)\n",
        "    return ans\n",
        "\n",
        "print(solution(2,5))\n",
        "print(solution(4,3))\n",
        "print(solution(-4,2))"
      ]
    },
    {
      "cell_type": "code",
      "source": [
        "# 나머지가 1이 되는 수 찾기\n",
        "def solution(n,x):\n",
        "    ans = []\n",
        "    for i in x:\n",
        "        if n%i==1:\n",
        "            if x[i]<x[i+1]:\n",
        "                ans = x[i]\n",
        "    return ans\n",
        "\n",
        "print(solution(10,3))\n",
        "print(solution(12,11))\n"
      ],
      "metadata": {
        "colab": {
          "base_uri": "https://localhost:8080/",
          "height": 315
        },
        "id": "koYbUJ5436SY",
        "outputId": "18ac6d9a-0467-42c7-a8a0-8dd141dd6187"
      },
      "execution_count": null,
      "outputs": [
        {
          "output_type": "error",
          "ename": "TypeError",
          "evalue": "'int' object is not subscriptable",
          "traceback": [
            "\u001b[0;31m---------------------------------------------------------------------------\u001b[0m",
            "\u001b[0;31mTypeError\u001b[0m                                 Traceback (most recent call last)",
            "\u001b[0;32m/tmp/ipython-input-4089898246.py\u001b[0m in \u001b[0;36m<cell line: 0>\u001b[0;34m()\u001b[0m\n\u001b[1;32m      8\u001b[0m     \u001b[0;32mreturn\u001b[0m \u001b[0mans\u001b[0m\u001b[0;34m\u001b[0m\u001b[0;34m\u001b[0m\u001b[0m\n\u001b[1;32m      9\u001b[0m \u001b[0;34m\u001b[0m\u001b[0m\n\u001b[0;32m---> 10\u001b[0;31m \u001b[0mprint\u001b[0m\u001b[0;34m(\u001b[0m\u001b[0msolution\u001b[0m\u001b[0;34m(\u001b[0m\u001b[0;36m10\u001b[0m\u001b[0;34m,\u001b[0m\u001b[0;36m3\u001b[0m\u001b[0;34m)\u001b[0m\u001b[0;34m)\u001b[0m\u001b[0;34m\u001b[0m\u001b[0;34m\u001b[0m\u001b[0m\n\u001b[0m\u001b[1;32m     11\u001b[0m \u001b[0mprint\u001b[0m\u001b[0;34m(\u001b[0m\u001b[0msolution\u001b[0m\u001b[0;34m(\u001b[0m\u001b[0;36m12\u001b[0m\u001b[0;34m,\u001b[0m\u001b[0;36m11\u001b[0m\u001b[0;34m)\u001b[0m\u001b[0;34m)\u001b[0m\u001b[0;34m\u001b[0m\u001b[0;34m\u001b[0m\u001b[0m\n",
            "\u001b[0;32m/tmp/ipython-input-4089898246.py\u001b[0m in \u001b[0;36msolution\u001b[0;34m(n, x)\u001b[0m\n\u001b[1;32m      4\u001b[0m     \u001b[0;32mfor\u001b[0m \u001b[0mi\u001b[0m \u001b[0;32min\u001b[0m \u001b[0mrange\u001b[0m\u001b[0;34m(\u001b[0m\u001b[0mlen\u001b[0m\u001b[0;34m(\u001b[0m\u001b[0mstr\u001b[0m\u001b[0;34m(\u001b[0m\u001b[0mx\u001b[0m\u001b[0;34m)\u001b[0m\u001b[0;34m)\u001b[0m\u001b[0;34m)\u001b[0m\u001b[0;34m:\u001b[0m\u001b[0;34m\u001b[0m\u001b[0;34m\u001b[0m\u001b[0m\n\u001b[1;32m      5\u001b[0m         \u001b[0;32mif\u001b[0m \u001b[0mn\u001b[0m\u001b[0;34m%\u001b[0m\u001b[0mx\u001b[0m\u001b[0;34m==\u001b[0m\u001b[0;36m1\u001b[0m\u001b[0;34m:\u001b[0m\u001b[0;34m\u001b[0m\u001b[0;34m\u001b[0m\u001b[0m\n\u001b[0;32m----> 6\u001b[0;31m             \u001b[0;32mif\u001b[0m \u001b[0mx\u001b[0m\u001b[0;34m[\u001b[0m\u001b[0mi\u001b[0m\u001b[0;34m]\u001b[0m\u001b[0;34m<\u001b[0m\u001b[0mx\u001b[0m\u001b[0;34m[\u001b[0m\u001b[0mi\u001b[0m\u001b[0;34m+\u001b[0m\u001b[0;36m1\u001b[0m\u001b[0;34m]\u001b[0m\u001b[0;34m:\u001b[0m\u001b[0;34m\u001b[0m\u001b[0;34m\u001b[0m\u001b[0m\n\u001b[0m\u001b[1;32m      7\u001b[0m                 \u001b[0mans\u001b[0m \u001b[0;34m=\u001b[0m \u001b[0mx\u001b[0m\u001b[0;34m[\u001b[0m\u001b[0mi\u001b[0m\u001b[0;34m]\u001b[0m\u001b[0;34m\u001b[0m\u001b[0;34m\u001b[0m\u001b[0m\n\u001b[1;32m      8\u001b[0m     \u001b[0;32mreturn\u001b[0m \u001b[0mans\u001b[0m\u001b[0;34m\u001b[0m\u001b[0;34m\u001b[0m\u001b[0m\n",
            "\u001b[0;31mTypeError\u001b[0m: 'int' object is not subscriptable"
          ]
        }
      ]
    },
    {
      "cell_type": "code",
      "source": [
        "# 나머지가 1이 되는 수 찾기\n",
        "def solution(n):\n",
        "    for x in range(1,n):\n",
        "        if n% x ==1:\n",
        "            return x\n",
        "print(solution(10))\n",
        "print(solution(12))"
      ],
      "metadata": {
        "colab": {
          "base_uri": "https://localhost:8080/"
        },
        "id": "q79tPQbH5S_7",
        "outputId": "ca90808d-19fd-4c7f-f07a-4737fde08301"
      },
      "execution_count": null,
      "outputs": [
        {
          "output_type": "stream",
          "name": "stdout",
          "text": [
            "3\n",
            "11\n"
          ]
        }
      ]
    },
    {
      "cell_type": "code",
      "source": [
        "# 문자열을 정수로 바꾸기 / 문자열 s를 숫자로 변환한 결과를 반환하는 함수, solution을 완성하기\n",
        "def solution(s):\n",
        "    return int(s)"
      ],
      "metadata": {
        "id": "Z7_7MAm-6JG1"
      },
      "execution_count": null,
      "outputs": []
    },
    {
      "cell_type": "code",
      "source": [
        "# 약수의 합\n",
        "def solution(n):\n",
        "    ans=0\n",
        "\n",
        "    for i in range(1,n+1):\n",
        "        if n%i ==0:\n",
        "            ans+=i\n",
        "    return ans\n",
        "\n",
        "print(solution(12))\n",
        "print(solution(5))"
      ],
      "metadata": {
        "colab": {
          "base_uri": "https://localhost:8080/"
        },
        "id": "BfcYPDmaQeFx",
        "outputId": "e10ab491-6fa3-462f-c028-4d639cdb0694"
      },
      "execution_count": null,
      "outputs": [
        {
          "output_type": "stream",
          "name": "stdout",
          "text": [
            "28\n",
            "6\n"
          ]
        }
      ]
    },
    {
      "cell_type": "code",
      "source": [
        "# 정수 내림차순으로 배치하기\n",
        "def solution(n):\n",
        "    ans=[]\n",
        "    N=[]\n",
        "\n",
        "    for i in str(n):\n",
        "        N += i\n",
        "        ans = sorted(N)\n",
        "    return int(''.join(ans[::-1]))\n",
        "\n",
        "print(solution(118372))"
      ],
      "metadata": {
        "colab": {
          "base_uri": "https://localhost:8080/"
        },
        "id": "RGiGdYd4Rpap",
        "outputId": "d46003e8-2ac9-4072-f8a5-f1dca647f7d6"
      },
      "execution_count": null,
      "outputs": [
        {
          "output_type": "stream",
          "name": "stdout",
          "text": [
            "873211\n"
          ]
        }
      ]
    },
    {
      "cell_type": "code",
      "source": [
        "def solution(n):\n",
        "\n",
        "    N=sorted(str(n), reverse=True)\n",
        "    return int(''.join(N))"
      ],
      "metadata": {
        "id": "tXs-lFgq4V3r"
      },
      "execution_count": null,
      "outputs": []
    },
    {
      "cell_type": "code",
      "source": [
        "# 두 정수 사이의 합\n",
        "def solution(a,b):\n",
        "    ans = 0\n",
        "    for i in range(min(a, b), max(a, b)+1):\n",
        "        ans += i\n",
        "    return ans\n",
        "\n",
        "print(solution(3,5))\n",
        "print(solution(3,3))\n",
        "print(solution(5,3))\n"
      ],
      "metadata": {
        "colab": {
          "base_uri": "https://localhost:8080/"
        },
        "id": "lKZvtHW6fyVu",
        "outputId": "390598b1-5530-4907-8e1f-52e86e752070"
      },
      "execution_count": null,
      "outputs": [
        {
          "output_type": "stream",
          "name": "stdout",
          "text": [
            "12\n",
            "3\n",
            "12\n"
          ]
        }
      ]
    },
    {
      "cell_type": "code",
      "source": [
        "# 문자열 내 p와 y의 개수\n",
        "def solution(s):\n",
        "    count =0\n",
        "    for i in str(s):\n",
        "        if i == 'p' or i ==  'P':\n",
        "            count += 1\n",
        "        elif i == 'y'or i == 'Y':\n",
        "            count -= 1\n",
        "        else:\n",
        "            count += 0\n",
        "\n",
        "    if count == 0:\n",
        "        return True\n",
        "    else:\n",
        "        return False\n",
        "\n",
        "print(solution(\"pPoooyY\"))\n",
        "print(solution(\"Pyy\"))"
      ],
      "metadata": {
        "colab": {
          "base_uri": "https://localhost:8080/"
        },
        "id": "vbmOxB5xf3pB",
        "outputId": "cba141f2-b356-42f6-cef3-02f7a350fb00"
      },
      "execution_count": null,
      "outputs": [
        {
          "output_type": "stream",
          "name": "stdout",
          "text": [
            "True\n",
            "False\n"
          ]
        }
      ]
    },
    {
      "cell_type": "code",
      "source": [
        "def solution(s):\n",
        "    s=s.lower()\n",
        "    if s.count('p') == s.count('y'):\n",
        "        return True\n",
        "    elif s.count('p')== s.count('y') == s.count('y')==0:\n",
        "        return True\n",
        "    else:\n",
        "        return False"
      ],
      "metadata": {
        "id": "6xxlCrkn-BN-"
      },
      "execution_count": null,
      "outputs": []
    }
  ]
}