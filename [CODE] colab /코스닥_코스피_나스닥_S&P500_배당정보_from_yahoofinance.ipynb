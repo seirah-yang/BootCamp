{
  "nbformat": 4,
  "nbformat_minor": 0,
  "metadata": {
    "colab": {
      "provenance": [],
      "authorship_tag": "ABX9TyO8TRAjEw8eylnDCCqohcr4",
      "include_colab_link": true
    },
    "kernelspec": {
      "name": "python3",
      "display_name": "Python 3"
    },
    "language_info": {
      "name": "python"
    }
  },
  "cells": [
    {
      "cell_type": "markdown",
      "metadata": {
        "id": "view-in-github",
        "colab_type": "text"
      },
      "source": [
        "<a href=\"https://colab.research.google.com/github/seirah-yang/Colabwork/blob/main/%EC%BD%94%EC%8A%A4%EB%8B%A5_%EC%BD%94%EC%8A%A4%ED%94%BC_%EB%82%98%EC%8A%A4%EB%8B%A5_S%26P500_%EB%B0%B0%EB%8B%B9%EC%A0%95%EB%B3%B4_from_yahoofinance.ipynb\" target=\"_parent\"><img src=\"https://colab.research.google.com/assets/colab-badge.svg\" alt=\"Open In Colab\"/></a>"
      ]
    },
    {
      "cell_type": "markdown",
      "source": [
        "##실행하면 만들어지는 파일\n",
        "\n",
        "./data/dividends_all_companies_5y.csv : 일자별 배당 (티커, 이름, 날짜, 주당배당금)\n",
        "\n",
        "./data/dividends_yearly_sum.csv : 연도별 합계 배당\n",
        "\n",
        "./data/tickers_not_found.csv : 야후에 존재하지 않는 티커\n",
        "\n",
        "./data/tickers_with_no_dividends.csv : 최근 5년 배당 기록이 없는 유효 티커"
      ],
      "metadata": {
        "id": "VoDyF5__bEbT"
      }
    },
    {
      "cell_type": "code",
      "execution_count": 10,
      "metadata": {
        "id": "DLKF20qerjIN",
        "colab": {
          "base_uri": "https://localhost:8080/"
        },
        "outputId": "f61360b4-5d97-466f-b946-10ae7ba47bdf"
      },
      "outputs": [
        {
          "output_type": "stream",
          "name": "stdout",
          "text": [
            "Requirement already satisfied: yfinance in /usr/local/lib/python3.11/dist-packages (0.2.65)\n",
            "Requirement already satisfied: pandas in /usr/local/lib/python3.11/dist-packages (2.2.2)\n",
            "Requirement already satisfied: tqdm in /usr/local/lib/python3.11/dist-packages (4.67.1)\n",
            "Requirement already satisfied: numpy>=1.16.5 in /usr/local/lib/python3.11/dist-packages (from yfinance) (2.0.2)\n",
            "Requirement already satisfied: requests>=2.31 in /usr/local/lib/python3.11/dist-packages (from yfinance) (2.32.3)\n",
            "Requirement already satisfied: multitasking>=0.0.7 in /usr/local/lib/python3.11/dist-packages (from yfinance) (0.0.12)\n",
            "Requirement already satisfied: platformdirs>=2.0.0 in /usr/local/lib/python3.11/dist-packages (from yfinance) (4.3.8)\n",
            "Requirement already satisfied: pytz>=2022.5 in /usr/local/lib/python3.11/dist-packages (from yfinance) (2025.2)\n",
            "Requirement already satisfied: frozendict>=2.3.4 in /usr/local/lib/python3.11/dist-packages (from yfinance) (2.4.6)\n",
            "Requirement already satisfied: peewee>=3.16.2 in /usr/local/lib/python3.11/dist-packages (from yfinance) (3.18.2)\n",
            "Requirement already satisfied: beautifulsoup4>=4.11.1 in /usr/local/lib/python3.11/dist-packages (from yfinance) (4.13.4)\n",
            "Requirement already satisfied: curl_cffi>=0.7 in /usr/local/lib/python3.11/dist-packages (from yfinance) (0.13.0)\n",
            "Requirement already satisfied: protobuf>=3.19.0 in /usr/local/lib/python3.11/dist-packages (from yfinance) (5.29.5)\n",
            "Requirement already satisfied: websockets>=13.0 in /usr/local/lib/python3.11/dist-packages (from yfinance) (15.0.1)\n",
            "Requirement already satisfied: python-dateutil>=2.8.2 in /usr/local/lib/python3.11/dist-packages (from pandas) (2.9.0.post0)\n",
            "Requirement already satisfied: tzdata>=2022.7 in /usr/local/lib/python3.11/dist-packages (from pandas) (2025.2)\n",
            "Requirement already satisfied: soupsieve>1.2 in /usr/local/lib/python3.11/dist-packages (from beautifulsoup4>=4.11.1->yfinance) (2.7)\n",
            "Requirement already satisfied: typing-extensions>=4.0.0 in /usr/local/lib/python3.11/dist-packages (from beautifulsoup4>=4.11.1->yfinance) (4.14.1)\n",
            "Requirement already satisfied: cffi>=1.12.0 in /usr/local/lib/python3.11/dist-packages (from curl_cffi>=0.7->yfinance) (1.17.1)\n",
            "Requirement already satisfied: certifi>=2024.2.2 in /usr/local/lib/python3.11/dist-packages (from curl_cffi>=0.7->yfinance) (2025.8.3)\n",
            "Requirement already satisfied: six>=1.5 in /usr/local/lib/python3.11/dist-packages (from python-dateutil>=2.8.2->pandas) (1.17.0)\n",
            "Requirement already satisfied: charset-normalizer<4,>=2 in /usr/local/lib/python3.11/dist-packages (from requests>=2.31->yfinance) (3.4.2)\n",
            "Requirement already satisfied: idna<4,>=2.5 in /usr/local/lib/python3.11/dist-packages (from requests>=2.31->yfinance) (3.10)\n",
            "Requirement already satisfied: urllib3<3,>=1.21.1 in /usr/local/lib/python3.11/dist-packages (from requests>=2.31->yfinance) (2.5.0)\n",
            "Requirement already satisfied: pycparser in /usr/local/lib/python3.11/dist-packages (from cffi>=1.12.0->curl_cffi>=0.7->yfinance) (2.22)\n"
          ]
        }
      ],
      "source": [
        "# ─────────────────────────────────────────────────────────────────────────────\n",
        "#  야후 파이낸스 존재 종목만 대상으로 최근 5년 배당금 수집 (국내+해외)\n",
        "#  - 국내: KOSPI/KOSDAQ 전 종목 자동 생성 (KIND 다운로드 테이블 활용)\n",
        "#  - 해외: S&P 500, NASDAQ-100 위키 테이블 자동 생성 + EXTRA_TICKERS로 임의 추가 가능\n",
        "#  출력: ./data/dividends_all_companies_5y.csv, dividends_yearly_sum.csv, 기타 보조 CSV\n",
        "# ─────────────────────────────────────────────────────────────────────────────\n",
        "!pip -q install yfinance pandas lxml tqdm"
      ]
    },
    {
      "cell_type": "code",
      "source": [
        "import os, time, re, math, traceback\n",
        "import pandas as pd\n",
        "import yfinance as yf\n",
        "from datetime import datetime, timedelta\n",
        "from concurrent.futures import ThreadPoolExecutor, as_completed\n",
        "from tqdm import tqdm"
      ],
      "metadata": {
        "id": "16qEsb-YxIxl"
      },
      "execution_count": 57,
      "outputs": []
    },
    {
      "cell_type": "code",
      "source": [
        "# ====== 0) 설정 ======\n",
        "OUT_DIR = \"./data\"\n",
        "os.makedirs(OUT_DIR, exist_ok=True)\n",
        "\n",
        "DIV_CSV       = os.path.join(OUT_DIR, \"dividends_all_companies_5y.csv\")\n",
        "YEARLY_CSV    = os.path.join(OUT_DIR, \"dividends_yearly_sum.csv\")\n",
        "NOT_FOUND_CSV = os.path.join(OUT_DIR, \"tickers_not_found.csv\")\n",
        "NO_DIV_CSV    = os.path.join(OUT_DIR, \"tickers_with_no_dividends.csv\")\n"
      ],
      "metadata": {
        "id": "C9tiNIcOxI-h"
      },
      "execution_count": 58,
      "outputs": []
    },
    {
      "cell_type": "code",
      "source": [
        "LAST_N_YEARS       = 5\n",
        "START_DATE         = (datetime.now() - timedelta(days=365*LAST_N_YEARS)).strftime(\"%Y-%m-%d\")\n",
        "MAX_WORKERS_CHECK  = 8     # 야후 존재성 확인 parallel\n",
        "MAX_WORKERS_DIV    = 8     # 배당 수집 parallel\n",
        "REQUEST_SLEEP      = 0.05  # 요청 간 짧은 지연 (야후 rate limit 고려)\n",
        "RETRY              = 3\n",
        "\n",
        "INCLUDE_KRX        = True  # 국내(KOSPI/KOSDAQ) 포함\n",
        "INCLUDE_SP500      = True  # S&P500 포함\n",
        "INCLUDE_NASDAQ100  = True  # NASDAQ-100 포함\n",
        "EXTRA_TICKERS      = []    # 해외 임의 추가 티커 예: ['TSLA','NVDA','7203.T','005930.KS']\n"
      ],
      "metadata": {
        "id": "TOwp6JbcZjSm"
      },
      "execution_count": 65,
      "outputs": []
    },
    {
      "cell_type": "code",
      "source": [
        "def build_universe_krx() -> pd.DataFrame:\n",
        "    \"\"\"\n",
        "    KRX KIND 다운로드 테이블을 읽어 KOSPI/KOSDAQ 전 종목 생성\n",
        "    \"\"\"\n",
        "    # KOSPI\n",
        "    url_kospi = \"http://kind.krx.co.kr/corpgeneral/corpList.do?method=download&searchType=13\"\n",
        "    df_kospi = pd.read_html(url_kospi, header=0, encoding=\"euc-kr\")[0]  # euc-kr 지정\n",
        "    df_kospi[\"시장구분\"] = \"KOSPI\"\n",
        "\n",
        "    # KOSDAQ\n",
        "    url_kosdaq = \"http://kind.krx.co.kr/corpgeneral/corpList.do?method=download&marketType=kosdaq&searchType=13\"\n",
        "    df_kosdaq = pd.read_html(url_kosdaq, header=0, encoding=\"euc-kr\")[0]\n",
        "    df_kosdaq[\"시장구분\"] = \"KOSDAQ\"\n",
        "\n",
        "    # 합치기\n",
        "    df_all = pd.concat([df_kospi, df_kosdaq], ignore_index=True)\n",
        "    df_all = df_all.rename(columns={\"회사명\": \"종목명\", \"종목코드\": \"종목코드\"})\n",
        "    df_all[\"종목코드\"] = df_all[\"종목코드\"].astype(str).str.zfill(6)\n",
        "\n",
        "    # 야후 티커 변환 (.KS / .KQ)\n",
        "    def to_yahoo(row):\n",
        "        code = row[\"종목코드\"]\n",
        "        mkt = str(row[\"시장구분\"]).upper()\n",
        "        if mkt == \"KOSPI\":\n",
        "            return f\"{code}.KS\"\n",
        "        elif mkt == \"KOSDAQ\":\n",
        "            return f\"{code}.KQ\"\n",
        "        else:\n",
        "            return f\"{code}.KS\"\n",
        "\n",
        "    df_all[\"yahoo_ticker\"] = df_all.apply(to_yahoo, axis=1)\n",
        "    df_all[\"name\"] = df_all[\"종목명\"]\n",
        "\n",
        "    return df_all[[\"yahoo_ticker\", \"name\"]].drop_duplicates().reset_index(drop=True)\n"
      ],
      "metadata": {
        "id": "pFx548wSxJYS"
      },
      "execution_count": 66,
      "outputs": []
    },
    {
      "cell_type": "code",
      "source": [
        "def build_universe_sp500() -> pd.DataFrame:\n",
        "    \"\"\"\n",
        "    위키 S&P 500 구성종목 파서 (표 구조 변화/멀티헤더 방어)\n",
        "    \"\"\"\n",
        "    import pandas as pd\n",
        "\n",
        "    url = \"https://en.wikipedia.org/wiki/List_of_S%26P_500_companies\"\n",
        "    tables = pd.read_html(url, header=0)\n",
        "    for tbl in tables:\n",
        "        # 멀티헤더면 평탄화\n",
        "        if isinstance(tbl.columns, pd.MultiIndex):\n",
        "            tbl.columns = [str(x[0]) for x in tbl.columns]\n",
        "        else:\n",
        "            tbl.columns = [str(x) for x in tbl.columns]\n",
        "\n",
        "        cols = [c.lower() for c in tbl.columns]\n",
        "\n",
        "        # 티커 컬럼 후보\n",
        "        sym_candidates = [c for c in tbl.columns if any(k in c.lower() for k in [\"symbol\",\"ticker\"])]\n",
        "        if not sym_candidates:\n",
        "            continue\n",
        "        sym_col = sym_candidates[0]\n",
        "\n",
        "        # 회사명 컬럼 후보\n",
        "        name_candidates = [c for c in tbl.columns if any(k in c.lower() for k in [\"security\",\"company\",\"name\"])]\n",
        "        name_col = name_candidates[0] if name_candidates else sym_col\n",
        "\n",
        "        out = (tbl[[sym_col, name_col]]\n",
        "               .rename(columns={sym_col: \"yahoo_ticker\", name_col: \"name\"}))\n",
        "        out[\"yahoo_ticker\"] = out[\"yahoo_ticker\"].astype(str).str.strip()\n",
        "        out[\"name\"] = out[\"name\"].astype(str).str.strip()\n",
        "        out = out.dropna().drop_duplicates().reset_index(drop=True)\n",
        "\n",
        "        # 최소 검증\n",
        "        if \"yahoo_ticker\" in out.columns and len(out) > 100:\n",
        "            return out\n",
        "\n",
        "    raise RuntimeError(\"S&P500 테이블 파싱 실패: 열 구조가 바뀐 것 같습니다.\")\n"
      ],
      "metadata": {
        "id": "iiwrN4e0g_fS"
      },
      "execution_count": 67,
      "outputs": []
    },
    {
      "cell_type": "code",
      "source": [
        "def build_universe_nasdaq100() -> pd.DataFrame:\n",
        "    \"\"\"\n",
        "    위키 NASDAQ-100 구성종목 파서 (표 구조 변화/멀티헤더 방어)\n",
        "    \"\"\"\n",
        "    import pandas as pd\n",
        "\n",
        "    url = \"https://en.wikipedia.org/wiki/Nasdaq-100\"\n",
        "    tables = pd.read_html(url, header=0)\n",
        "\n",
        "    for tbl in tables:\n",
        "        if isinstance(tbl.columns, pd.MultiIndex):\n",
        "            tbl.columns = [str(x[0]) for x in tbl.columns]\n",
        "        else:\n",
        "            tbl.columns = [str(x) for x in tbl.columns]\n",
        "\n",
        "        sym_candidates = [c for c in tbl.columns if any(k in c.lower() for k in [\"ticker\",\"symbol\"])]\n",
        "        if not sym_candidates:\n",
        "            continue\n",
        "        sym_col = sym_candidates[0]\n",
        "\n",
        "        name_candidates = [c for c in tbl.columns if any(k in c.lower() for k in [\"company\",\"name\",\"security\"])]\n",
        "        name_col = name_candidates[0] if name_candidates else sym_col\n",
        "\n",
        "        out = (tbl[[sym_col, name_col]]\n",
        "               .rename(columns={sym_col: \"yahoo_ticker\", name_col: \"name\"}))\n",
        "        out[\"yahoo_ticker\"] = out[\"yahoo_ticker\"].astype(str).str.strip()\n",
        "        out[\"name\"] = out[\"name\"].astype(str).str.strip()\n",
        "        out = out.dropna().drop_duplicates().reset_index(drop=True)\n",
        "\n",
        "        if \"yahoo_ticker\" in out.columns and len(out) > 50:\n",
        "            return out\n",
        "\n",
        "    raise RuntimeError(\"NASDAQ-100 테이블 파싱 실패: 열 구조가 바뀐 것 같습니다.\")\n"
      ],
      "metadata": {
        "id": "dS0Zu02tbndh"
      },
      "execution_count": 68,
      "outputs": []
    },
    {
      "cell_type": "code",
      "source": [
        "univ_parts = []\n",
        "if INCLUDE_KRX:\n",
        "    univ_parts.append(build_universe_krx())\n",
        "if INCLUDE_SP500:\n",
        "    univ_parts.append(build_universe_sp500())\n",
        "if INCLUDE_NASDAQ100:\n",
        "    univ_parts.append(build_universe_nasdaq100())\n",
        "if EXTRA_TICKERS:\n",
        "    univ_parts.append(build_universe_extra(EXTRA_TICKERS))\n",
        "\n",
        "univ = pd.concat(univ_parts, ignore_index=True).drop_duplicates().reset_index(drop=True)\n",
        "print(\"유니버스 총 종목 수:\", len(univ))\n"
      ],
      "metadata": {
        "id": "QITBxnBExffb",
        "colab": {
          "base_uri": "https://localhost:8080/"
        },
        "outputId": "bc32af9e-b6bc-41bd-a3aa-7d6b254464c1"
      },
      "execution_count": 69,
      "outputs": [
        {
          "output_type": "stream",
          "name": "stderr",
          "text": [
            "/usr/local/lib/python3.11/dist-packages/bs4/__init__.py:339: UserWarning: You provided Unicode markup but also provided a value for from_encoding. Your from_encoding will be ignored.\n",
            "  warnings.warn(\n",
            "/usr/local/lib/python3.11/dist-packages/bs4/__init__.py:339: UserWarning: You provided Unicode markup but also provided a value for from_encoding. Your from_encoding will be ignored.\n",
            "  warnings.warn(\n"
          ]
        },
        {
          "output_type": "stream",
          "name": "stdout",
          "text": [
            "유니버스 총 종목 수: 3287\n"
          ]
        }
      ]
    },
    {
      "cell_type": "markdown",
      "source": [
        "##체크리스트\n",
        "`univ_ok (컬럼: yahoo_ticker, name)`\n",
        "\n",
        "####상수들:\n",
        "\n",
        "```\n",
        "RETRY, REQUEST_SLEEP, START_DATE,\n",
        "MAX_WORKERS_DIV, DIV_CSV, YEARLY_CSV,\n",
        "NO_DIV_CSV\n",
        "```\n",
        "\n",
        "\n",
        "####임포트:\n",
        "\n",
        "```\n",
        "pandas as pd, yfinance as yf, time,\n",
        "datetime, from concurrent.futures import\n",
        "ThreadPoolExecutor, as_completed,\n",
        "from tqdm import tqdm\n",
        "```\n",
        "\n"
      ],
      "metadata": {
        "id": "0R2lx4mUiE2h"
      }
    },
    {
      "cell_type": "code",
      "source": [
        "# ---- 야후 존재성 필터링: univ -> univ_ok ----\n",
        "import yfinance as yf\n",
        "import pandas as pd\n",
        "import time\n",
        "from concurrent.futures import ThreadPoolExecutor, as_completed\n",
        "from tqdm import tqdm\n",
        "\n",
        "# 전역 설정(이미 있다면 생략 가능)\n",
        "MAX_WORKERS_CHECK = 8\n",
        "REQUEST_SLEEP = 0.05\n",
        "RETRY = 3\n",
        "\n",
        "def yahoo_exists(ticker: str) -> bool:\n",
        "    \"\"\"티커가 야후에서 실제로 데이터가 조회되는지 빠르게 검사\"\"\"\n",
        "    for _ in range(RETRY):\n",
        "        try:\n",
        "            # 최근 1개월 시세로 1차 체크\n",
        "            hist = yf.Ticker(ticker).history(period=\"1mo\", auto_adjust=False)\n",
        "            time.sleep(REQUEST_SLEEP)\n",
        "            if not hist.empty:\n",
        "                return True\n",
        "            # 배당 시계열로 보조 체크\n",
        "            div = yf.Ticker(ticker).dividends\n",
        "            time.sleep(REQUEST_SLEEP)\n",
        "            if div is not None and not div.empty:\n",
        "                return True\n",
        "            return False\n",
        "        except Exception:\n",
        "            time.sleep(0.2)\n",
        "    return False\n",
        "\n",
        "# univ가 비었는지 확인\n",
        "if 'univ' not in globals() or univ.empty:\n",
        "    raise RuntimeError(\"univ가 없습니다. 유니버스 생성 셀을 먼저 실행하세요.\")\n",
        "\n",
        "# 병렬로 존재성 검사\n",
        "exist_flags = []\n",
        "with ThreadPoolExecutor(max_workers=MAX_WORKERS_CHECK) as ex:\n",
        "    futures = {ex.submit(yahoo_exists, t): t for t in univ[\"yahoo_ticker\"]}\n",
        "    for f in tqdm(as_completed(futures), total=len(futures), desc=\"야후 존재 확인\"):\n",
        "        t = futures[f]\n",
        "        ok = False\n",
        "        try:\n",
        "            ok = f.result()\n",
        "        except Exception:\n",
        "            ok = False\n",
        "        exist_flags.append((t, ok))\n",
        "\n",
        "exist_df = pd.DataFrame(exist_flags, columns=[\"yahoo_ticker\",\"exists\"])\n",
        "\n",
        "# 미존재 티커 저장(로그용)\n",
        "not_found = univ.merge(exist_df, on=\"yahoo_ticker\", how=\"left\")\n",
        "not_found = not_found[not_found[\"exists\"] == False][[\"yahoo_ticker\",\"name\"]]\n",
        "if len(not_found):\n",
        "    not_found.to_csv(NOT_FOUND_CSV, index=False, encoding=\"utf-8-sig\")\n",
        "    print(\"야후 미존재 티커 수:\", len(not_found), \"→\", NOT_FOUND_CSV)\n",
        "\n",
        "# ✅ 여기서 최종 수집 대상 univ_ok 생성\n",
        "univ_ok = univ.merge(exist_df, on=\"yahoo_ticker\", how=\"left\")\n",
        "univ_ok = univ_ok[univ_ok[\"exists\"] == True][[\"yahoo_ticker\",\"name\"]].reset_index(drop=True)\n",
        "\n",
        "print(\"야후 존재 티커 수:\", len(univ_ok))\n",
        "try:\n",
        "    display(univ_ok.head(10))\n",
        "except:\n",
        "    print(univ_ok.head(10))\n"
      ],
      "metadata": {
        "colab": {
          "base_uri": "https://localhost:8080/",
          "height": 1000
        },
        "id": "BZwlBxg5kqvx",
        "outputId": "e8a6954d-2ce3-4651-e2f1-bee0909fed5f"
      },
      "execution_count": 76,
      "outputs": [
        {
          "output_type": "stream",
          "name": "stderr",
          "text": [
            "야후 존재 확인:   0%|          | 1/3287 [00:00<34:45,  1.58it/s]ERROR:yfinance:$475230.KS: possibly delisted; no price data found  (period=1mo) (Yahoo error = \"No data found, symbol may be delisted\")\n",
            "ERROR:yfinance:$380550.KS: possibly delisted; no price data found  (period=1mo) (Yahoo error = \"No data found, symbol may be delisted\")\n",
            "ERROR:yfinance:$475230.KS: possibly delisted; no timezone found\n",
            "ERROR:yfinance:$484120.KS: possibly delisted; no price data found  (period=1mo) (Yahoo error = \"No data found, symbol may be delisted\")\n",
            "ERROR:yfinance:$380550.KS: possibly delisted; no timezone found\n",
            "야후 존재 확인:   0%|          | 2/3287 [00:00<23:06,  2.37it/s]ERROR:yfinance:$468530.KS: possibly delisted; no price data found  (period=1mo) (Yahoo error = \"No data found, symbol may be delisted\")\n",
            "ERROR:yfinance:$484120.KS: possibly delisted; no timezone found\n",
            "ERROR:yfinance:$468530.KS: possibly delisted; no timezone found\n",
            "야후 존재 확인:   0%|          | 5/3287 [00:01<08:04,  6.78it/s]ERROR:yfinance:$0041J0.KS: possibly delisted; no price data found  (period=1mo) (Yahoo error = \"No data found, symbol may be delisted\")\n",
            "ERROR:yfinance:$0004Y0.KS: possibly delisted; no price data found  (period=1mo) (Yahoo error = \"No data found, symbol may be delisted\")\n",
            "ERROR:yfinance:$309710.KS: possibly delisted; no price data found  (period=1mo) (Yahoo error = \"No data found, symbol may be delisted\")\n",
            "ERROR:yfinance:$0041L0.KS: possibly delisted; no price data found  (period=1mo) (Yahoo error = \"No data found, symbol may be delisted\")\n",
            "ERROR:yfinance:$0041J0.KS: possibly delisted; no timezone found\n",
            "ERROR:yfinance:$0004Y0.KS: possibly delisted; no timezone found\n",
            "ERROR:yfinance:$309710.KS: possibly delisted; no timezone found\n",
            "ERROR:yfinance:$0041L0.KS: possibly delisted; no timezone found\n",
            "야후 존재 확인:   0%|          | 7/3287 [00:01<07:09,  7.63it/s]ERROR:yfinance:$331740.KS: possibly delisted; no price data found  (period=1mo) (Yahoo error = \"No data found, symbol may be delisted\")\n",
            "ERROR:yfinance:$331740.KS: possibly delisted; no timezone found\n",
            "야후 존재 확인:   0%|          | 11/3287 [00:01<04:14, 12.85it/s]ERROR:yfinance:$234030.KS: possibly delisted; no price data found  (period=1mo) (Yahoo error = \"No data found, symbol may be delisted\")\n",
            "ERROR:yfinance:$462310.KS: possibly delisted; no price data found  (period=1mo) (Yahoo error = \"No data found, symbol may be delisted\")\n",
            "ERROR:yfinance:$234030.KS: possibly delisted; no timezone found\n",
            "ERROR:yfinance:$462310.KS: possibly delisted; no timezone found\n",
            "야후 존재 확인:   0%|          | 13/3287 [00:01<04:22, 12.46it/s]ERROR:yfinance:$455180.KS: possibly delisted; no price data found  (period=1mo) (Yahoo error = \"No data found, symbol may be delisted\")\n",
            "ERROR:yfinance:$455180.KS: possibly delisted; no timezone found\n",
            "야후 존재 확인:   0%|          | 15/3287 [00:01<04:07, 13.25it/s]ERROR:yfinance:$0037T0.KS: possibly delisted; no price data found  (period=1mo) (Yahoo error = \"No data found, symbol may be delisted\")\n",
            "ERROR:yfinance:$463020.KS: possibly delisted; no price data found  (period=1mo) (Yahoo error = \"No data found, symbol may be delisted\")\n",
            "ERROR:yfinance:$0037T0.KS: possibly delisted; no timezone found\n",
            "ERROR:yfinance:$463020.KS: possibly delisted; no timezone found\n",
            "ERROR:yfinance:$496070.KS: possibly delisted; no price data found  (period=1mo) (Yahoo error = \"No data found, symbol may be delisted\")\n",
            "ERROR:yfinance:$475430.KS: possibly delisted; no price data found  (period=1mo) (Yahoo error = \"No data found, symbol may be delisted\")\n",
            "ERROR:yfinance:$340450.KS: possibly delisted; no price data found  (period=1mo) (Yahoo error = \"No data found, symbol may be delisted\")\n",
            "ERROR:yfinance:$474650.KS: possibly delisted; no price data found  (period=1mo) (Yahoo error = \"No data found, symbol may be delisted\")\n",
            "야후 존재 확인:   1%|          | 17/3287 [00:01<04:14, 12.87it/s]ERROR:yfinance:$340450.KS: possibly delisted; no timezone found\n",
            "ERROR:yfinance:$475430.KS: possibly delisted; no timezone found\n",
            "ERROR:yfinance:$496070.KS: possibly delisted; no timezone found\n",
            "ERROR:yfinance:$474650.KS: possibly delisted; no timezone found\n",
            "ERROR:yfinance:$287840.KS: possibly delisted; no price data found  (period=1mo) (Yahoo error = \"No data found, symbol may be delisted\")\n",
            "ERROR:yfinance:$287840.KS: possibly delisted; no timezone found\n",
            "야후 존재 확인:   1%|          | 23/3287 [00:02<03:17, 16.50it/s]ERROR:yfinance:$489460.KS: possibly delisted; no price data found  (period=1mo) (Yahoo error = \"No data found, symbol may be delisted\")\n",
            "ERROR:yfinance:$424870.KS: possibly delisted; no price data found  (period=1mo) (Yahoo error = \"No data found, symbol may be delisted\")\n",
            "ERROR:yfinance:$489460.KS: possibly delisted; no timezone found\n",
            "ERROR:yfinance:$424870.KS: possibly delisted; no timezone found\n",
            "야후 존재 확인:   1%|          | 25/3287 [00:02<03:22, 16.10it/s]ERROR:yfinance:$188040.KS: possibly delisted; no price data found  (period=1mo) (Yahoo error = \"No data found, symbol may be delisted\")\n",
            "ERROR:yfinance:$476040.KS: possibly delisted; no price data found  (period=1mo) (Yahoo error = \"No data found, symbol may be delisted\")\n",
            "ERROR:yfinance:$125020.KS: possibly delisted; no price data found  (period=1mo) (Yahoo error = \"No data found, symbol may be delisted\")\n",
            "ERROR:yfinance:$136150.KS: possibly delisted; no price data found  (period=1mo) (Yahoo error = \"No data found, symbol may be delisted\")\n",
            "ERROR:yfinance:$188040.KS: possibly delisted; no timezone found\n",
            "ERROR:yfinance:$476040.KS: possibly delisted; no timezone found\n",
            "ERROR:yfinance:$125020.KS: possibly delisted; no timezone found\n",
            "ERROR:yfinance:$136150.KS: possibly delisted; no timezone found\n",
            "야후 존재 확인:   1%|          | 27/3287 [00:02<03:45, 14.44it/s]ERROR:yfinance:$376900.KS: possibly delisted; no price data found  (period=1mo) (Yahoo error = \"No data found, symbol may be delisted\")\n",
            "ERROR:yfinance:$376900.KS: possibly delisted; no timezone found\n",
            "야후 존재 확인:   1%|          | 30/3287 [00:02<03:34, 15.22it/s]ERROR:yfinance:$459510.KS: possibly delisted; no price data found  (period=1mo) (Yahoo error = \"No data found, symbol may be delisted\")\n",
            "ERROR:yfinance:$081180.KS: possibly delisted; no price data found  (period=1mo) (Yahoo error = \"No data found, symbol may be delisted\")\n",
            "ERROR:yfinance:$459510.KS: possibly delisted; no timezone found\n",
            "ERROR:yfinance:$081180.KS: possibly delisted; no timezone found\n",
            "야후 존재 확인:   1%|          | 32/3287 [00:02<03:32, 15.35it/s]ERROR:yfinance:$364950.KS: possibly delisted; no price data found  (period=1mo) (Yahoo error = \"No data found, symbol may be delisted\")\n",
            "ERROR:yfinance:$481070.KS: possibly delisted; no price data found  (period=1mo) (Yahoo error = \"No data found, symbol may be delisted\")\n",
            "ERROR:yfinance:$101970.KS: possibly delisted; no price data found  (period=1mo) (Yahoo error = \"No data found, symbol may be delisted\")\n",
            "ERROR:yfinance:$364950.KS: possibly delisted; no timezone found\n",
            "ERROR:yfinance:$481070.KS: possibly delisted; no timezone found\n",
            "ERROR:yfinance:$101970.KS: possibly delisted; no timezone found\n",
            "야후 존재 확인:   1%|          | 34/3287 [00:02<03:41, 14.68it/s]ERROR:yfinance:$462860.KS: possibly delisted; no price data found  (period=1mo) (Yahoo error = \"No data found, symbol may be delisted\")\n",
            "ERROR:yfinance:$462860.KS: possibly delisted; no timezone found\n",
            "야후 존재 확인:   1%|          | 37/3287 [00:03<03:15, 16.63it/s]ERROR:yfinance:$444530.KS: possibly delisted; no price data found  (period=1mo) (Yahoo error = \"No data found, symbol may be delisted\")\n",
            "ERROR:yfinance:$444530.KS: possibly delisted; no timezone found\n",
            "야후 존재 확인:   1%|          | 39/3287 [00:03<03:17, 16.44it/s]ERROR:yfinance:$484810.KS: possibly delisted; no price data found  (period=1mo) (Yahoo error = \"No data found, symbol may be delisted\")\n",
            "ERROR:yfinance:$098070.KS: possibly delisted; no price data found  (period=1mo) (Yahoo error = \"No data found, symbol may be delisted\")\n",
            "ERROR:yfinance:$498390.KS: possibly delisted; no price data found  (period=1mo) (Yahoo error = \"No data found, symbol may be delisted\")\n",
            "ERROR:yfinance:$484810.KS: possibly delisted; no timezone found\n",
            "ERROR:yfinance:$098070.KS: possibly delisted; no timezone found\n",
            "ERROR:yfinance:$498390.KS: possibly delisted; no timezone found\n",
            "야후 존재 확인:   1%|          | 41/3287 [00:03<03:19, 16.30it/s]ERROR:yfinance:$226590.KS: possibly delisted; no price data found  (period=1mo) (Yahoo error = \"No data found, symbol may be delisted\")\n",
            "ERROR:yfinance:$460870.KS: possibly delisted; no price data found  (period=1mo) (Yahoo error = \"No data found, symbol may be delisted\")\n",
            "ERROR:yfinance:$226590.KS: possibly delisted; no timezone found\n",
            "ERROR:yfinance:$460870.KS: possibly delisted; no timezone found\n",
            "야후 존재 확인:   1%|▏         | 44/3287 [00:03<02:58, 18.21it/s]ERROR:yfinance:$435570.KS: possibly delisted; no price data found  (period=1mo) (Yahoo error = \"No data found, symbol may be delisted\")\n",
            "ERROR:yfinance:$393970.KS: possibly delisted; no price data found  (period=1mo) (Yahoo error = \"No data found, symbol may be delisted\")\n",
            "ERROR:yfinance:$435570.KS: possibly delisted; no timezone found\n",
            "ERROR:yfinance:$393970.KS: possibly delisted; no timezone found\n",
            "야후 존재 확인:   1%|▏         | 46/3287 [00:03<03:21, 16.09it/s]ERROR:yfinance:$463480.KS: possibly delisted; no price data found  (period=1mo) (Yahoo error = \"No data found, symbol may be delisted\")\n",
            "ERROR:yfinance:$479960.KS: possibly delisted; no price data found  (period=1mo) (Yahoo error = \"No data found, symbol may be delisted\")\n",
            "ERROR:yfinance:$303810.KS: possibly delisted; no price data found  (period=1mo) (Yahoo error = \"No data found, symbol may be delisted\")\n",
            "ERROR:yfinance:$463480.KS: possibly delisted; no timezone found\n",
            "ERROR:yfinance:$489500.KS: possibly delisted; no price data found  (period=1mo) (Yahoo error = \"No data found, symbol may be delisted\")\n",
            "ERROR:yfinance:$479960.KS: possibly delisted; no timezone found\n",
            "ERROR:yfinance:$303810.KS: possibly delisted; no timezone found\n",
            "야후 존재 확인:   1%|▏         | 48/3287 [00:03<03:22, 15.98it/s]ERROR:yfinance:$489500.KS: possibly delisted; no timezone found\n",
            "ERROR:yfinance:$240550.KS: possibly delisted; no price data found  (period=1mo) (Yahoo error = \"No data found, symbol may be delisted\")\n",
            "ERROR:yfinance:$475830.KS: possibly delisted; no price data found  (period=1mo) (Yahoo error = \"No data found, symbol may be delisted\")\n",
            "ERROR:yfinance:$240550.KS: possibly delisted; no timezone found\n",
            "야후 존재 확인:   2%|▏         | 52/3287 [00:03<02:59, 18.05it/s]ERROR:yfinance:$475830.KS: possibly delisted; no timezone found\n",
            "ERROR:yfinance:$212710.KS: possibly delisted; no price data found  (period=1mo) (Yahoo error = \"No data found, symbol may be delisted\")\n",
            "ERROR:yfinance:$482630.KS: possibly delisted; no price data found  (period=1mo) (Yahoo error = \"No data found, symbol may be delisted\")\n",
            "ERROR:yfinance:$212710.KS: possibly delisted; no timezone found\n",
            "ERROR:yfinance:$482630.KS: possibly delisted; no timezone found\n",
            "야후 존재 확인:   2%|▏         | 55/3287 [00:04<04:12, 12.82it/s]ERROR:yfinance:$373160.KS: possibly delisted; no price data found  (period=1mo) (Yahoo error = \"No data found, symbol may be delisted\")\n",
            "ERROR:yfinance:$450950.KS: possibly delisted; no price data found  (period=1mo) (Yahoo error = \"No data found, symbol may be delisted\")\n",
            "ERROR:yfinance:$462980.KS: possibly delisted; no price data found  (period=1mo) (Yahoo error = \"No data found, symbol may be delisted\")\n",
            "ERROR:yfinance:$452450.KS: possibly delisted; no price data found  (period=1mo) (Yahoo error = \"No data found, symbol may be delisted\")\n",
            "ERROR:yfinance:$373160.KS: possibly delisted; no timezone found\n",
            "ERROR:yfinance:$462980.KS: possibly delisted; no timezone found\n",
            "ERROR:yfinance:$452450.KS: possibly delisted; no timezone found\n",
            "ERROR:yfinance:$450950.KS: possibly delisted; no timezone found\n",
            "야후 존재 확인:   2%|▏         | 57/3287 [00:04<03:58, 13.53it/s]ERROR:yfinance:$475460.KS: possibly delisted; no price data found  (period=1mo) (Yahoo error = \"No data found, symbol may be delisted\")\n",
            "ERROR:yfinance:$096250.KS: possibly delisted; no price data found  (period=1mo) (Yahoo error = \"No data found, symbol may be delisted\")\n",
            "ERROR:yfinance:$475460.KS: possibly delisted; no timezone found\n",
            "ERROR:yfinance:$096250.KS: possibly delisted; no timezone found\n",
            "야후 존재 확인:   2%|▏         | 61/3287 [00:04<03:18, 16.29it/s]ERROR:yfinance:$493790.KS: possibly delisted; no price data found  (period=1mo) (Yahoo error = \"No data found, symbol may be delisted\")\n",
            "ERROR:yfinance:$478560.KS: possibly delisted; no price data found  (period=1mo) (Yahoo error = \"No data found, symbol may be delisted\")\n",
            "ERROR:yfinance:$332190.KS: possibly delisted; no price data found  (period=1mo) (Yahoo error = \"No data found, symbol may be delisted\")\n",
            "ERROR:yfinance:$432980.KS: possibly delisted; no price data found  (period=1mo) (Yahoo error = \"No data found, symbol may be delisted\")\n",
            "ERROR:yfinance:$493790.KS: possibly delisted; no timezone found\n",
            "ERROR:yfinance:$478560.KS: possibly delisted; no timezone found\n",
            "야후 존재 확인:   2%|▏         | 63/3287 [00:04<04:07, 13.00it/s]ERROR:yfinance:$332190.KS: possibly delisted; no timezone found\n",
            "ERROR:yfinance:$432980.KS: possibly delisted; no timezone found\n",
            "ERROR:yfinance:$387570.KS: possibly delisted; no price data found  (period=1mo) (Yahoo error = \"No data found, symbol may be delisted\")\n",
            "ERROR:yfinance:$177900.KS: possibly delisted; no price data found  (period=1mo) (Yahoo error = \"No data found, symbol may be delisted\")\n",
            "ERROR:yfinance:$387570.KS: possibly delisted; no timezone found\n",
            "ERROR:yfinance:$177900.KS: possibly delisted; no timezone found\n",
            "야후 존재 확인:   2%|▏         | 68/3287 [00:04<03:03, 17.56it/s]ERROR:yfinance:$487360.KS: possibly delisted; no price data found  (period=1mo) (Yahoo error = \"No data found, symbol may be delisted\")\n",
            "ERROR:yfinance:$487360.KS: possibly delisted; no timezone found\n",
            "야후 존재 확인:   2%|▏         | 70/3287 [00:05<03:03, 17.57it/s]ERROR:yfinance:$368030.KS: possibly delisted; no price data found  (period=1mo) (Yahoo error = \"No data found, symbol may be delisted\")\n",
            "ERROR:yfinance:$495810.KS: possibly delisted; no price data found  (period=1mo) (Yahoo error = \"No data found, symbol may be delisted\")\n",
            "ERROR:yfinance:$368030.KS: possibly delisted; no timezone found\n",
            "ERROR:yfinance:$495810.KS: possibly delisted; no timezone found\n",
            "야후 존재 확인:   2%|▏         | 72/3287 [00:05<03:21, 15.94it/s]ERROR:yfinance:$382150.KS: possibly delisted; no price data found  (period=1mo) (Yahoo error = \"No data found, symbol may be delisted\")\n",
            "ERROR:yfinance:$487720.KS: possibly delisted; no price data found  (period=1mo) (Yahoo error = \"No data found, symbol may be delisted\")\n",
            "ERROR:yfinance:$398120.KS: possibly delisted; no price data found  (period=1mo) (Yahoo error = \"No data found, symbol may be delisted\")\n",
            "ERROR:yfinance:$382150.KS: possibly delisted; no timezone found\n",
            "ERROR:yfinance:$487720.KS: possibly delisted; no timezone found\n",
            "ERROR:yfinance:$398120.KS: possibly delisted; no timezone found\n",
            "야후 존재 확인:   2%|▏         | 75/3287 [00:05<02:59, 17.94it/s]ERROR:yfinance:$476060.KS: possibly delisted; no price data found  (period=1mo) (Yahoo error = \"No data found, symbol may be delisted\")\n",
            "ERROR:yfinance:$457600.KS: possibly delisted; no price data found  (period=1mo) (Yahoo error = \"No data found, symbol may be delisted\")\n",
            "ERROR:yfinance:$476060.KS: possibly delisted; no timezone found\n",
            "ERROR:yfinance:$457600.KS: possibly delisted; no timezone found\n",
            "야후 존재 확인:   2%|▏         | 78/3287 [00:05<02:47, 19.11it/s]ERROR:yfinance:$495900.KS: possibly delisted; no price data found  (period=1mo) (Yahoo error = \"No data found, symbol may be delisted\")\n",
            "ERROR:yfinance:$495900.KS: possibly delisted; no timezone found\n",
            "야후 존재 확인:   2%|▏         | 81/3287 [00:05<02:56, 18.11it/s]ERROR:yfinance:$471820.KS: possibly delisted; no price data found  (period=1mo) (Yahoo error = \"No data found, symbol may be delisted\")\n",
            "ERROR:yfinance:$489480.KS: possibly delisted; no price data found  (period=1mo) (Yahoo error = \"No data found, symbol may be delisted\")\n",
            "ERROR:yfinance:$471820.KS: possibly delisted; no timezone found\n",
            "ERROR:yfinance:$489480.KS: possibly delisted; no timezone found\n",
            "야후 존재 확인:   3%|▎         | 83/3287 [00:05<03:17, 16.25it/s]ERROR:yfinance:$492220.KS: possibly delisted; no price data found  (period=1mo) (Yahoo error = \"No data found, symbol may be delisted\")\n",
            "ERROR:yfinance:$489730.KS: possibly delisted; no price data found  (period=1mo) (Yahoo error = \"No data found, symbol may be delisted\")\n",
            "ERROR:yfinance:$492220.KS: possibly delisted; no timezone found\n",
            "ERROR:yfinance:$489730.KS: possibly delisted; no timezone found\n",
            "ERROR:yfinance:$489210.KS: possibly delisted; no price data found  (period=1mo) (Yahoo error = \"No data found, symbol may be delisted\")\n",
            "ERROR:yfinance:$482690.KS: possibly delisted; no price data found  (period=1mo) (Yahoo error = \"No data found, symbol may be delisted\")\n",
            "야후 존재 확인:   3%|▎         | 85/3287 [00:06<03:46, 14.13it/s]ERROR:yfinance:$489210.KS: possibly delisted; no timezone found\n",
            "ERROR:yfinance:$482690.KS: possibly delisted; no timezone found\n",
            "ERROR:yfinance:$389680.KS: possibly delisted; no price data found  (period=1mo) (Yahoo error = \"No data found, symbol may be delisted\")\n",
            "ERROR:yfinance:$459100.KS: possibly delisted; no price data found  (period=1mo) (Yahoo error = \"No data found, symbol may be delisted\")\n",
            "ERROR:yfinance:$389680.KS: possibly delisted; no timezone found\n",
            "ERROR:yfinance:$459100.KS: possibly delisted; no timezone found\n",
            "야후 존재 확인:   3%|▎         | 88/3287 [00:06<03:37, 14.73it/s]ERROR:yfinance:$466410.KS: possibly delisted; no price data found  (period=1mo) (Yahoo error = \"No data found, symbol may be delisted\")\n",
            "ERROR:yfinance:$474610.KS: possibly delisted; no price data found  (period=1mo) (Yahoo error = \"No data found, symbol may be delisted\")\n",
            "ERROR:yfinance:$466410.KS: possibly delisted; no timezone found\n",
            "ERROR:yfinance:$474610.KS: possibly delisted; no timezone found\n",
            "야후 존재 확인:   3%|▎         | 90/3287 [00:06<03:36, 14.75it/s]ERROR:yfinance:$487830.KS: possibly delisted; no price data found  (period=1mo) (Yahoo error = \"No data found, symbol may be delisted\")\n",
            "ERROR:yfinance:$484130.KS: possibly delisted; no price data found  (period=1mo) (Yahoo error = \"No data found, symbol may be delisted\")\n",
            "ERROR:yfinance:$475660.KS: possibly delisted; no price data found  (period=1mo) (Yahoo error = \"No data found, symbol may be delisted\")\n",
            "ERROR:yfinance:$413390.KS: possibly delisted; no price data found  (period=1mo) (Yahoo error = \"No data found, symbol may be delisted\")\n",
            "ERROR:yfinance:$487830.KS: possibly delisted; no timezone found\n",
            "ERROR:yfinance:$484130.KS: possibly delisted; no timezone found\n",
            "ERROR:yfinance:$475660.KS: possibly delisted; no timezone found\n",
            "ERROR:yfinance:$413390.KS: possibly delisted; no timezone found\n",
            "야후 존재 확인:   3%|▎         | 92/3287 [00:06<03:50, 13.87it/s]ERROR:yfinance:$464580.KS: possibly delisted; no price data found  (period=1mo) (Yahoo error = \"No data found, symbol may be delisted\")\n",
            "ERROR:yfinance:$464580.KS: possibly delisted; no timezone found\n",
            "야후 존재 확인:   3%|▎         | 96/3287 [00:06<03:32, 14.99it/s]ERROR:yfinance:$394800.KS: possibly delisted; no price data found  (period=1mo) (Yahoo error = \"No data found, symbol may be delisted\")\n",
            "ERROR:yfinance:$394800.KS: possibly delisted; no timezone found\n",
            "야후 존재 확인:   3%|▎         | 98/3287 [00:06<03:34, 14.89it/s]ERROR:yfinance:$473980.KS: possibly delisted; no price data found  (period=1mo) (Yahoo error = \"No data found, symbol may be delisted\")\n",
            "ERROR:yfinance:$163280.KS: possibly delisted; no price data found  (period=1mo) (Yahoo error = \"No data found, symbol may be delisted\")\n",
            "ERROR:yfinance:$475580.KS: possibly delisted; no price data found  (period=1mo) (Yahoo error = \"No data found, symbol may be delisted\")\n",
            "ERROR:yfinance:$473980.KS: possibly delisted; no timezone found\n",
            "ERROR:yfinance:$163280.KS: possibly delisted; no timezone found\n",
            "ERROR:yfinance:$475580.KS: possibly delisted; no timezone found\n",
            "야후 존재 확인:   3%|▎         | 100/3287 [00:07<03:49, 13.88it/s]ERROR:yfinance:$376270.KS: possibly delisted; no price data found  (period=1mo) (Yahoo error = \"No data found, symbol may be delisted\")\n",
            "ERROR:yfinance:$336680.KS: possibly delisted; no price data found  (period=1mo) (Yahoo error = \"No data found, symbol may be delisted\")\n",
            "ERROR:yfinance:$475960.KS: possibly delisted; no price data found  (period=1mo) (Yahoo error = \"No data found, symbol may be delisted\")\n",
            "ERROR:yfinance:$376270.KS: possibly delisted; no timezone found\n",
            "ERROR:yfinance:$336680.KS: possibly delisted; no timezone found\n",
            "ERROR:yfinance:$475960.KS: possibly delisted; no timezone found\n",
            "야후 존재 확인:   3%|▎         | 102/3287 [00:07<03:41, 14.39it/s]ERROR:yfinance:$488060.KS: possibly delisted; no price data found  (period=1mo) (Yahoo error = \"No data found, symbol may be delisted\")\n",
            "ERROR:yfinance:$458650.KS: possibly delisted; no price data found  (period=1mo) (Yahoo error = \"No data found, symbol may be delisted\")\n",
            "ERROR:yfinance:$488060.KS: possibly delisted; no timezone found\n",
            "ERROR:yfinance:$458650.KS: possibly delisted; no timezone found\n",
            "야후 존재 확인:   3%|▎         | 105/3287 [00:07<03:14, 16.35it/s]ERROR:yfinance:$476710.KS: possibly delisted; no price data found  (period=1mo) (Yahoo error = \"No data found, symbol may be delisted\")\n",
            "ERROR:yfinance:$476710.KS: possibly delisted; no timezone found\n",
            "야후 존재 확인:   3%|▎         | 108/3287 [00:07<03:13, 16.44it/s]ERROR:yfinance:$475400.KS: possibly delisted; no price data found  (period=1mo) (Yahoo error = \"No data found, symbol may be delisted\")\n",
            "ERROR:yfinance:$457370.KS: possibly delisted; no price data found  (period=1mo) (Yahoo error = \"No data found, symbol may be delisted\")\n",
            "ERROR:yfinance:$289930.KS: possibly delisted; no price data found  (period=1mo) (Yahoo error = \"No data found, symbol may be delisted\")\n",
            "ERROR:yfinance:$466100.KS: possibly delisted; no price data found  (period=1mo) (Yahoo error = \"No data found, symbol may be delisted\")\n",
            "ERROR:yfinance:$475400.KS: possibly delisted; no timezone found\n",
            "ERROR:yfinance:$457370.KS: possibly delisted; no timezone found\n",
            "ERROR:yfinance:$289930.KS: possibly delisted; no timezone found\n",
            "ERROR:yfinance:$466100.KS: possibly delisted; no timezone found\n",
            "야후 존재 확인:   3%|▎         | 110/3287 [00:07<03:14, 16.33it/s]ERROR:yfinance:$465480.KS: possibly delisted; no price data found  (period=1mo) (Yahoo error = \"No data found, symbol may be delisted\")\n",
            "ERROR:yfinance:$209640.KS: possibly delisted; no price data found  (period=1mo) (Yahoo error = \"No data found, symbol may be delisted\")\n",
            "ERROR:yfinance:$474170.KS: possibly delisted; no price data found  (period=1mo) (Yahoo error = \"No data found, symbol may be delisted\")\n",
            "ERROR:yfinance:$465480.KS: possibly delisted; no timezone found\n",
            "ERROR:yfinance:$209640.KS: possibly delisted; no timezone found\n",
            "ERROR:yfinance:$474170.KS: possibly delisted; no timezone found\n",
            "야후 존재 확인:   3%|▎         | 113/3287 [00:07<03:11, 16.56it/s]ERROR:yfinance:$308430.KS: possibly delisted; no price data found  (period=1mo) (Yahoo error = \"No data found, symbol may be delisted\")\n",
            "ERROR:yfinance:$308430.KS: possibly delisted; no timezone found\n",
            "야후 존재 확인:   4%|▎         | 117/3287 [00:07<02:37, 20.18it/s]ERROR:yfinance:$381620.KS: possibly delisted; no price data found  (period=1mo) (Yahoo error = \"No data found, symbol may be delisted\")\n",
            "ERROR:yfinance:$486630.KS: possibly delisted; no price data found  (period=1mo) (Yahoo error = \"No data found, symbol may be delisted\")\n",
            "ERROR:yfinance:$381620.KS: possibly delisted; no timezone found\n",
            "ERROR:yfinance:$486630.KS: possibly delisted; no timezone found\n",
            "ERROR:yfinance:$351870.KS: possibly delisted; no price data found  (period=1mo) (Yahoo error = \"No data found, symbol may be delisted\")\n",
            "ERROR:yfinance:$351870.KS: possibly delisted; no timezone found\n",
            "야후 존재 확인:   4%|▎         | 120/3287 [00:08<03:17, 16.01it/s]ERROR:yfinance:$464500.KS: possibly delisted; no price data found  (period=1mo) (Yahoo error = \"No data found, symbol may be delisted\")\n",
            "ERROR:yfinance:$482680.KS: possibly delisted; no price data found  (period=1mo) (Yahoo error = \"No data found, symbol may be delisted\")\n",
            "ERROR:yfinance:$469750.KS: possibly delisted; no price data found  (period=1mo) (Yahoo error = \"No data found, symbol may be delisted\")\n",
            "ERROR:yfinance:$456070.KS: possibly delisted; no price data found  (period=1mo) (Yahoo error = \"No data found, symbol may be delisted\")\n",
            "ERROR:yfinance:$464500.KS: possibly delisted; no timezone found\n",
            "ERROR:yfinance:$482680.KS: possibly delisted; no timezone found\n",
            "ERROR:yfinance:$469750.KS: possibly delisted; no timezone found\n",
            "ERROR:yfinance:$456070.KS: possibly delisted; no timezone found\n",
            "야후 존재 확인:   4%|▎         | 122/3287 [00:08<03:23, 15.53it/s]ERROR:yfinance:$461300.KS: possibly delisted; no price data found  (period=1mo) (Yahoo error = \"No data found, symbol may be delisted\")\n",
            "ERROR:yfinance:$461300.KS: possibly delisted; no timezone found\n",
            "야후 존재 확인:   4%|▍         | 125/3287 [00:08<02:57, 17.84it/s]ERROR:yfinance:$464280.KS: possibly delisted; no price data found  (period=1mo) (Yahoo error = \"No data found, symbol may be delisted\")\n",
            "ERROR:yfinance:$478780.KS: possibly delisted; no price data found  (period=1mo) (Yahoo error = \"No data found, symbol may be delisted\")\n",
            "ERROR:yfinance:$476080.KS: possibly delisted; no price data found  (period=1mo) (Yahoo error = \"No data found, symbol may be delisted\")\n",
            "ERROR:yfinance:$464280.KS: possibly delisted; no timezone found\n",
            "ERROR:yfinance:$478780.KS: possibly delisted; no timezone found\n",
            "ERROR:yfinance:$476080.KS: possibly delisted; no timezone found\n",
            "야후 존재 확인:   4%|▍         | 127/3287 [00:08<03:01, 17.41it/s]ERROR:yfinance:$482520.KS: possibly delisted; no price data found  (period=1mo) (Yahoo error = \"No data found, symbol may be delisted\")\n",
            "ERROR:yfinance:$389650.KS: possibly delisted; no price data found  (period=1mo) (Yahoo error = \"No data found, symbol may be delisted\")\n",
            "ERROR:yfinance:$431190.KS: possibly delisted; no price data found  (period=1mo) (Yahoo error = \"No data found, symbol may be delisted\")\n",
            "ERROR:yfinance:$482520.KS: possibly delisted; no timezone found\n",
            "ERROR:yfinance:$088340.KS: possibly delisted; no price data found  (period=1mo) (Yahoo error = \"No data found, symbol may be delisted\")\n",
            "야후 존재 확인:   4%|▍         | 130/3287 [00:08<03:16, 16.05it/s]ERROR:yfinance:$389650.KS: possibly delisted; no timezone found\n",
            "ERROR:yfinance:$431190.KS: possibly delisted; no timezone found\n",
            "ERROR:yfinance:$088340.KS: possibly delisted; no timezone found\n",
            "ERROR:yfinance:$460470.KS: possibly delisted; no price data found  (period=1mo) (Yahoo error = \"No data found, symbol may be delisted\")\n",
            "ERROR:yfinance:$460940.KS: possibly delisted; no price data found  (period=1mo) (Yahoo error = \"No data found, symbol may be delisted\")\n",
            "ERROR:yfinance:$199480.KS: possibly delisted; no price data found  (period=1mo) (Yahoo error = \"No data found, symbol may be delisted\")\n",
            "ERROR:yfinance:$460470.KS: possibly delisted; no timezone found\n",
            "ERROR:yfinance:$460940.KS: possibly delisted; no timezone found\n",
            "ERROR:yfinance:$199480.KS: possibly delisted; no timezone found\n",
            "야후 존재 확인:   4%|▍         | 139/3287 [00:09<02:23, 21.99it/s]ERROR:yfinance:$481890.KS: possibly delisted; no price data found  (period=1mo) (Yahoo error = \"No data found, symbol may be delisted\")\n",
            "ERROR:yfinance:$473950.KS: possibly delisted; no price data found  (period=1mo) (Yahoo error = \"No data found, symbol may be delisted\")\n",
            "야후 존재 확인:   4%|▍         | 143/3287 [00:09<02:13, 23.53it/s]ERROR:yfinance:$481890.KS: possibly delisted; no timezone found\n",
            "ERROR:yfinance:$473950.KS: possibly delisted; no timezone found\n",
            "야후 존재 확인:  31%|███       | 1024/3287 [00:33<00:56, 40.01it/s]ERROR:yfinance:$174880.KS: possibly delisted; no price data found  (period=1mo)\n",
            "야후 존재 확인:  33%|███▎      | 1094/3287 [00:35<01:08, 32.17it/s]ERROR:yfinance:$226360.KS: possibly delisted; no price data found  (period=1mo)\n",
            "야후 존재 확인:  34%|███▍      | 1122/3287 [00:35<01:00, 36.03it/s]ERROR:yfinance:$222810.KS: possibly delisted; no price data found  (period=1mo)\n",
            "야후 존재 확인: 100%|██████████| 3287/3287 [04:04<00:00, 13.45it/s]"
          ]
        },
        {
          "output_type": "stream",
          "name": "stdout",
          "text": [
            "야후 미존재 티커 수: 2286 → ./data/tickers_not_found.csv\n",
            "야후 존재 티커 수: 1013\n"
          ]
        },
        {
          "output_type": "stream",
          "name": "stderr",
          "text": [
            "\n"
          ]
        },
        {
          "output_type": "display_data",
          "data": {
            "text/plain": [
              "  yahoo_ticker      name\n",
              "0    439260.KS      대한조선\n",
              "1    0030R0.KS    대신밸류리츠\n",
              "2    388610.KS  지에프씨생명과학\n",
              "3    483650.KS     달바글로벌\n",
              "4    448900.KS    한국피아이엠\n",
              "5    480370.KS    씨케이솔루션\n",
              "6    031210.KS    서울보증보험\n",
              "7    064400.KS    LG씨엔에스\n",
              "8    499790.KS     GS피앤엘\n",
              "9    176750.KS     듀켐바이오"
            ],
            "text/html": [
              "\n",
              "  <div id=\"df-a5bc4e75-c5da-48d4-97a1-9e6c576b9c23\" class=\"colab-df-container\">\n",
              "    <div>\n",
              "<style scoped>\n",
              "    .dataframe tbody tr th:only-of-type {\n",
              "        vertical-align: middle;\n",
              "    }\n",
              "\n",
              "    .dataframe tbody tr th {\n",
              "        vertical-align: top;\n",
              "    }\n",
              "\n",
              "    .dataframe thead th {\n",
              "        text-align: right;\n",
              "    }\n",
              "</style>\n",
              "<table border=\"1\" class=\"dataframe\">\n",
              "  <thead>\n",
              "    <tr style=\"text-align: right;\">\n",
              "      <th></th>\n",
              "      <th>yahoo_ticker</th>\n",
              "      <th>name</th>\n",
              "    </tr>\n",
              "  </thead>\n",
              "  <tbody>\n",
              "    <tr>\n",
              "      <th>0</th>\n",
              "      <td>439260.KS</td>\n",
              "      <td>대한조선</td>\n",
              "    </tr>\n",
              "    <tr>\n",
              "      <th>1</th>\n",
              "      <td>0030R0.KS</td>\n",
              "      <td>대신밸류리츠</td>\n",
              "    </tr>\n",
              "    <tr>\n",
              "      <th>2</th>\n",
              "      <td>388610.KS</td>\n",
              "      <td>지에프씨생명과학</td>\n",
              "    </tr>\n",
              "    <tr>\n",
              "      <th>3</th>\n",
              "      <td>483650.KS</td>\n",
              "      <td>달바글로벌</td>\n",
              "    </tr>\n",
              "    <tr>\n",
              "      <th>4</th>\n",
              "      <td>448900.KS</td>\n",
              "      <td>한국피아이엠</td>\n",
              "    </tr>\n",
              "    <tr>\n",
              "      <th>5</th>\n",
              "      <td>480370.KS</td>\n",
              "      <td>씨케이솔루션</td>\n",
              "    </tr>\n",
              "    <tr>\n",
              "      <th>6</th>\n",
              "      <td>031210.KS</td>\n",
              "      <td>서울보증보험</td>\n",
              "    </tr>\n",
              "    <tr>\n",
              "      <th>7</th>\n",
              "      <td>064400.KS</td>\n",
              "      <td>LG씨엔에스</td>\n",
              "    </tr>\n",
              "    <tr>\n",
              "      <th>8</th>\n",
              "      <td>499790.KS</td>\n",
              "      <td>GS피앤엘</td>\n",
              "    </tr>\n",
              "    <tr>\n",
              "      <th>9</th>\n",
              "      <td>176750.KS</td>\n",
              "      <td>듀켐바이오</td>\n",
              "    </tr>\n",
              "  </tbody>\n",
              "</table>\n",
              "</div>\n",
              "    <div class=\"colab-df-buttons\">\n",
              "\n",
              "  <div class=\"colab-df-container\">\n",
              "    <button class=\"colab-df-convert\" onclick=\"convertToInteractive('df-a5bc4e75-c5da-48d4-97a1-9e6c576b9c23')\"\n",
              "            title=\"Convert this dataframe to an interactive table.\"\n",
              "            style=\"display:none;\">\n",
              "\n",
              "  <svg xmlns=\"http://www.w3.org/2000/svg\" height=\"24px\" viewBox=\"0 -960 960 960\">\n",
              "    <path d=\"M120-120v-720h720v720H120Zm60-500h600v-160H180v160Zm220 220h160v-160H400v160Zm0 220h160v-160H400v160ZM180-400h160v-160H180v160Zm440 0h160v-160H620v160ZM180-180h160v-160H180v160Zm440 0h160v-160H620v160Z\"/>\n",
              "  </svg>\n",
              "    </button>\n",
              "\n",
              "  <style>\n",
              "    .colab-df-container {\n",
              "      display:flex;\n",
              "      gap: 12px;\n",
              "    }\n",
              "\n",
              "    .colab-df-convert {\n",
              "      background-color: #E8F0FE;\n",
              "      border: none;\n",
              "      border-radius: 50%;\n",
              "      cursor: pointer;\n",
              "      display: none;\n",
              "      fill: #1967D2;\n",
              "      height: 32px;\n",
              "      padding: 0 0 0 0;\n",
              "      width: 32px;\n",
              "    }\n",
              "\n",
              "    .colab-df-convert:hover {\n",
              "      background-color: #E2EBFA;\n",
              "      box-shadow: 0px 1px 2px rgba(60, 64, 67, 0.3), 0px 1px 3px 1px rgba(60, 64, 67, 0.15);\n",
              "      fill: #174EA6;\n",
              "    }\n",
              "\n",
              "    .colab-df-buttons div {\n",
              "      margin-bottom: 4px;\n",
              "    }\n",
              "\n",
              "    [theme=dark] .colab-df-convert {\n",
              "      background-color: #3B4455;\n",
              "      fill: #D2E3FC;\n",
              "    }\n",
              "\n",
              "    [theme=dark] .colab-df-convert:hover {\n",
              "      background-color: #434B5C;\n",
              "      box-shadow: 0px 1px 3px 1px rgba(0, 0, 0, 0.15);\n",
              "      filter: drop-shadow(0px 1px 2px rgba(0, 0, 0, 0.3));\n",
              "      fill: #FFFFFF;\n",
              "    }\n",
              "  </style>\n",
              "\n",
              "    <script>\n",
              "      const buttonEl =\n",
              "        document.querySelector('#df-a5bc4e75-c5da-48d4-97a1-9e6c576b9c23 button.colab-df-convert');\n",
              "      buttonEl.style.display =\n",
              "        google.colab.kernel.accessAllowed ? 'block' : 'none';\n",
              "\n",
              "      async function convertToInteractive(key) {\n",
              "        const element = document.querySelector('#df-a5bc4e75-c5da-48d4-97a1-9e6c576b9c23');\n",
              "        const dataTable =\n",
              "          await google.colab.kernel.invokeFunction('convertToInteractive',\n",
              "                                                    [key], {});\n",
              "        if (!dataTable) return;\n",
              "\n",
              "        const docLinkHtml = 'Like what you see? Visit the ' +\n",
              "          '<a target=\"_blank\" href=https://colab.research.google.com/notebooks/data_table.ipynb>data table notebook</a>'\n",
              "          + ' to learn more about interactive tables.';\n",
              "        element.innerHTML = '';\n",
              "        dataTable['output_type'] = 'display_data';\n",
              "        await google.colab.output.renderOutput(dataTable, element);\n",
              "        const docLink = document.createElement('div');\n",
              "        docLink.innerHTML = docLinkHtml;\n",
              "        element.appendChild(docLink);\n",
              "      }\n",
              "    </script>\n",
              "  </div>\n",
              "\n",
              "\n",
              "    <div id=\"df-90483761-1079-40d6-a89a-ae20b76a020c\">\n",
              "      <button class=\"colab-df-quickchart\" onclick=\"quickchart('df-90483761-1079-40d6-a89a-ae20b76a020c')\"\n",
              "                title=\"Suggest charts\"\n",
              "                style=\"display:none;\">\n",
              "\n",
              "<svg xmlns=\"http://www.w3.org/2000/svg\" height=\"24px\"viewBox=\"0 0 24 24\"\n",
              "     width=\"24px\">\n",
              "    <g>\n",
              "        <path d=\"M19 3H5c-1.1 0-2 .9-2 2v14c0 1.1.9 2 2 2h14c1.1 0 2-.9 2-2V5c0-1.1-.9-2-2-2zM9 17H7v-7h2v7zm4 0h-2V7h2v10zm4 0h-2v-4h2v4z\"/>\n",
              "    </g>\n",
              "</svg>\n",
              "      </button>\n",
              "\n",
              "<style>\n",
              "  .colab-df-quickchart {\n",
              "      --bg-color: #E8F0FE;\n",
              "      --fill-color: #1967D2;\n",
              "      --hover-bg-color: #E2EBFA;\n",
              "      --hover-fill-color: #174EA6;\n",
              "      --disabled-fill-color: #AAA;\n",
              "      --disabled-bg-color: #DDD;\n",
              "  }\n",
              "\n",
              "  [theme=dark] .colab-df-quickchart {\n",
              "      --bg-color: #3B4455;\n",
              "      --fill-color: #D2E3FC;\n",
              "      --hover-bg-color: #434B5C;\n",
              "      --hover-fill-color: #FFFFFF;\n",
              "      --disabled-bg-color: #3B4455;\n",
              "      --disabled-fill-color: #666;\n",
              "  }\n",
              "\n",
              "  .colab-df-quickchart {\n",
              "    background-color: var(--bg-color);\n",
              "    border: none;\n",
              "    border-radius: 50%;\n",
              "    cursor: pointer;\n",
              "    display: none;\n",
              "    fill: var(--fill-color);\n",
              "    height: 32px;\n",
              "    padding: 0;\n",
              "    width: 32px;\n",
              "  }\n",
              "\n",
              "  .colab-df-quickchart:hover {\n",
              "    background-color: var(--hover-bg-color);\n",
              "    box-shadow: 0 1px 2px rgba(60, 64, 67, 0.3), 0 1px 3px 1px rgba(60, 64, 67, 0.15);\n",
              "    fill: var(--button-hover-fill-color);\n",
              "  }\n",
              "\n",
              "  .colab-df-quickchart-complete:disabled,\n",
              "  .colab-df-quickchart-complete:disabled:hover {\n",
              "    background-color: var(--disabled-bg-color);\n",
              "    fill: var(--disabled-fill-color);\n",
              "    box-shadow: none;\n",
              "  }\n",
              "\n",
              "  .colab-df-spinner {\n",
              "    border: 2px solid var(--fill-color);\n",
              "    border-color: transparent;\n",
              "    border-bottom-color: var(--fill-color);\n",
              "    animation:\n",
              "      spin 1s steps(1) infinite;\n",
              "  }\n",
              "\n",
              "  @keyframes spin {\n",
              "    0% {\n",
              "      border-color: transparent;\n",
              "      border-bottom-color: var(--fill-color);\n",
              "      border-left-color: var(--fill-color);\n",
              "    }\n",
              "    20% {\n",
              "      border-color: transparent;\n",
              "      border-left-color: var(--fill-color);\n",
              "      border-top-color: var(--fill-color);\n",
              "    }\n",
              "    30% {\n",
              "      border-color: transparent;\n",
              "      border-left-color: var(--fill-color);\n",
              "      border-top-color: var(--fill-color);\n",
              "      border-right-color: var(--fill-color);\n",
              "    }\n",
              "    40% {\n",
              "      border-color: transparent;\n",
              "      border-right-color: var(--fill-color);\n",
              "      border-top-color: var(--fill-color);\n",
              "    }\n",
              "    60% {\n",
              "      border-color: transparent;\n",
              "      border-right-color: var(--fill-color);\n",
              "    }\n",
              "    80% {\n",
              "      border-color: transparent;\n",
              "      border-right-color: var(--fill-color);\n",
              "      border-bottom-color: var(--fill-color);\n",
              "    }\n",
              "    90% {\n",
              "      border-color: transparent;\n",
              "      border-bottom-color: var(--fill-color);\n",
              "    }\n",
              "  }\n",
              "</style>\n",
              "\n",
              "      <script>\n",
              "        async function quickchart(key) {\n",
              "          const quickchartButtonEl =\n",
              "            document.querySelector('#' + key + ' button');\n",
              "          quickchartButtonEl.disabled = true;  // To prevent multiple clicks.\n",
              "          quickchartButtonEl.classList.add('colab-df-spinner');\n",
              "          try {\n",
              "            const charts = await google.colab.kernel.invokeFunction(\n",
              "                'suggestCharts', [key], {});\n",
              "          } catch (error) {\n",
              "            console.error('Error during call to suggestCharts:', error);\n",
              "          }\n",
              "          quickchartButtonEl.classList.remove('colab-df-spinner');\n",
              "          quickchartButtonEl.classList.add('colab-df-quickchart-complete');\n",
              "        }\n",
              "        (() => {\n",
              "          let quickchartButtonEl =\n",
              "            document.querySelector('#df-90483761-1079-40d6-a89a-ae20b76a020c button');\n",
              "          quickchartButtonEl.style.display =\n",
              "            google.colab.kernel.accessAllowed ? 'block' : 'none';\n",
              "        })();\n",
              "      </script>\n",
              "    </div>\n",
              "\n",
              "    </div>\n",
              "  </div>\n"
            ],
            "application/vnd.google.colaboratory.intrinsic+json": {
              "type": "dataframe",
              "summary": "{\n  \"name\": \"    print(univ_ok\",\n  \"rows\": 10,\n  \"fields\": [\n    {\n      \"column\": \"yahoo_ticker\",\n      \"properties\": {\n        \"dtype\": \"string\",\n        \"num_unique_values\": 10,\n        \"samples\": [\n          \"499790.KS\",\n          \"0030R0.KS\",\n          \"480370.KS\"\n        ],\n        \"semantic_type\": \"\",\n        \"description\": \"\"\n      }\n    },\n    {\n      \"column\": \"name\",\n      \"properties\": {\n        \"dtype\": \"string\",\n        \"num_unique_values\": 10,\n        \"samples\": [\n          \"GS\\ud53c\\uc564\\uc5d8\",\n          \"\\ub300\\uc2e0\\ubc38\\ub958\\ub9ac\\uce20\",\n          \"\\uc528\\ucf00\\uc774\\uc194\\ub8e8\\uc158\"\n        ],\n        \"semantic_type\": \"\",\n        \"description\": \"\"\n      }\n    }\n  ]\n}"
            }
          },
          "metadata": {}
        }
      ]
    },
    {
      "cell_type": "code",
      "source": [
        "# 방어: 전제 확인\n",
        "assert 'univ_ok' in globals(), \"univ_ok가 아직 없습니다. 유니버스 생성/필터링 셀을 먼저 실행하세요.\"\n",
        "if univ_ok.empty:\n",
        "    raise RuntimeError(\"univ_ok가 비어 있습니다. 유니버스 생성 결과를 확인하세요.\")\n",
        "\n",
        "# START_DATE를 Timestamp로\n",
        "import pandas as pd\n",
        "START_TS = pd.Timestamp(START_DATE)"
      ],
      "metadata": {
        "id": "JdQZ-2lkil_3"
      },
      "execution_count": 77,
      "outputs": []
    },
    {
      "cell_type": "code",
      "source": [
        "# ====== 3) 배당 수집 ======\n",
        "\n",
        "# 날짜 비교용 Timestamp\n",
        "START_TS = pd.Timestamp(START_DATE)\n",
        "\n",
        "def fetch_dividends(ticker: str, name: str):\n",
        "    \"\"\"단일 티커의 최근 5년 배당 내역 수집 (list[dict] 반환)\"\"\"\n",
        "    for attempt in range(RETRY):\n",
        "        try:\n",
        "            t = yf.Ticker(ticker)\n",
        "            div = t.dividends  # pandas Series(index=Timestamp, value=float)\n",
        "            time.sleep(REQUEST_SLEEP)\n",
        "            if div is None or div.empty:\n",
        "                return []\n",
        "            # 최근 N년 필터\n",
        "            div = div[div.index >= START_TS]\n",
        "            return [\n",
        "                {\n",
        "                    \"ticker\": ticker,\n",
        "                    \"name\": name,\n",
        "                    \"div_date\": idx.strftime(\"%Y-%m-%d\"),\n",
        "                    \"dividend_per_share\": float(val)\n",
        "                }\n",
        "                for idx, val in div.items()\n",
        "            ]\n",
        "        except Exception as e:\n",
        "            if attempt < RETRY - 1:\n",
        "                time.sleep(0.5 * (attempt + 1))\n",
        "            else:\n",
        "                # 마지막 실패만 경고\n",
        "                print(f\"[WARN] dividends fetch fail: {ticker} ({name}) → {e}\")\n",
        "                return []\n",
        "\n",
        "# 병렬 수집\n",
        "assert 'univ_ok' in globals() and not univ_ok.empty, \"univ_ok가 없거나 비었습니다. 유니버스 필터링을 먼저 실행하세요.\"\n",
        "all_rows = []\n",
        "with ThreadPoolExecutor(max_workers=MAX_WORKERS_DIV) as ex:\n",
        "    futures = {\n",
        "        ex.submit(fetch_dividends, r[\"yahoo_ticker\"], r[\"name\"]): (r[\"yahoo_ticker\"], r[\"name\"])\n",
        "        for _, r in univ_ok.iterrows()\n",
        "    }\n",
        "    for f in tqdm(as_completed(futures), total=len(futures), desc=\"배당 수집\"):\n",
        "        try:\n",
        "            rows = f.result()\n",
        "            if rows:\n",
        "                all_rows.extend(rows)\n",
        "        except Exception as e:\n",
        "            tick, nm = futures[f]\n",
        "            print(f\"[WARN] future failed: {tick} ({nm}) → {e}\")\n",
        "\n",
        "# DataFrame 변환/정리\n",
        "df_div = pd.DataFrame(all_rows, columns=[\"ticker\", \"name\", \"div_date\", \"dividend_per_share\"])\n",
        "if not df_div.empty:\n",
        "    df_div = df_div.sort_values([\"ticker\", \"div_date\"]).drop_duplicates().reset_index(drop=True)\n",
        "\n",
        "# 최근 5년 배당 전무한 유효 티커 기록\n",
        "no_div_tickers = set(univ_ok[\"yahoo_ticker\"]) - set(df_div[\"ticker\"])\n",
        "print(\"최근 5년 배당 없음 티커 수:\", len(no_div_tickers))\n",
        "if no_div_tickers:\n",
        "    univ_ok[univ_ok[\"yahoo_ticker\"].isin(no_div_tickers)] \\\n",
        "        .to_csv(NO_DIV_CSV, index=False, encoding=\"utf-8-sig\")\n",
        "    print(\"→ 목록 저장:\", NO_DIV_CSV)\n",
        "\n",
        "# ====== 4) 저장 & 연도 합계 ======\n",
        "df_div[\"collected_at\"] = datetime.now().strftime(\"%Y-%m-%d %H:%M\")\n",
        "df_div.to_csv(DIV_CSV, index=False, encoding=\"utf-8-sig\")\n",
        "print(\"일자별 배당 저장:\", DIV_CSV, \"행수:\", len(df_div))\n",
        "\n",
        "if not df_div.empty:\n",
        "    df_div[\"year\"] = df_div[\"div_date\"].str[:4]\n",
        "    yearly = (df_div.groupby([\"ticker\",\"name\",\"year\"], as_index=False)[\"dividend_per_share\"]\n",
        "              .sum()\n",
        "              .rename(columns={\"dividend_per_share\":\"dividend_sum_per_share\"}))\n",
        "    yearly.to_csv(YEARLY_CSV, index=False, encoding=\"utf-8-sig\")\n",
        "    print(\"연도별 합계 저장:\", YEARLY_CSV, \"행수:\", len(yearly))\n",
        "else:\n",
        "    print(\"연도별 합계 생성 스킵(배당 데이터 없음)\")\n"
      ],
      "metadata": {
        "id": "gHHLqjTgxfWd",
        "colab": {
          "base_uri": "https://localhost:8080/"
        },
        "outputId": "41a8a572-4033-4139-911e-22e8c8df6280"
      },
      "execution_count": 78,
      "outputs": [
        {
          "output_type": "stream",
          "name": "stderr",
          "text": [
            "배당 수집:   0%|          | 3/1013 [00:01<07:47,  2.16it/s]"
          ]
        },
        {
          "output_type": "stream",
          "name": "stdout",
          "text": [
            "[WARN] dividends fetch fail: 439260.KS (대한조선) → Too Many Requests. Rate limited. Try after a while.\n",
            "[WARN] dividends fetch fail: 483650.KS (달바글로벌) → Too Many Requests. Rate limited. Try after a while.\n",
            "[WARN] dividends fetch fail: 448900.KS (한국피아이엠) → Too Many Requests. Rate limited. Try after a while.\n",
            "[WARN] dividends fetch fail: 0030R0.KS (대신밸류리츠) → Too Many Requests. Rate limited. Try after a while.\n",
            "[WARN] dividends fetch fail: 031210.KS (서울보증보험) → Too Many Requests. Rate limited. Try after a while.\n",
            "[WARN] dividends fetch fail: 480370.KS (씨케이솔루션) → Too Many Requests. Rate limited. Try after a while.\n",
            "[WARN] dividends fetch fail: 388610.KS (지에프씨생명과학) → Too Many Requests. Rate limited. Try after a while.\n",
            "[WARN] dividends fetch fail: 064400.KS (LG씨엔에스) → Too Many Requests. Rate limited. Try after a while.\n"
          ]
        },
        {
          "output_type": "stream",
          "name": "stderr",
          "text": [
            "배당 수집:   1%|          | 12/1013 [00:03<03:51,  4.33it/s]"
          ]
        },
        {
          "output_type": "stream",
          "name": "stdout",
          "text": [
            "[WARN] dividends fetch fail: 499790.KS (GS피앤엘) → Too Many Requests. Rate limited. Try after a while.\n",
            "[WARN] dividends fetch fail: 176750.KS (듀켐바이오) → Too Many Requests. Rate limited. Try after a while.\n",
            "[WARN] dividends fetch fail: 044990.KS (에이치엔에스하이텍) → Too Many Requests. Rate limited. Try after a while.\n"
          ]
        },
        {
          "output_type": "stream",
          "name": "stderr",
          "text": [
            "\r배당 수집:   1%|▏         | 15/1013 [00:03<02:33,  6.52it/s]"
          ]
        },
        {
          "output_type": "stream",
          "name": "stdout",
          "text": [
            "[WARN] dividends fetch fail: 079900.KS (전진건설로봇) → Too Many Requests. Rate limited. Try after a while.\n",
            "[WARN] dividends fetch fail: 484870.KS (엠앤씨솔루션) → Too Many Requests. Rate limited. Try after a while.\n",
            "[WARN] dividends fetch fail: 415640.KS (KB발해인프라) → Too Many Requests. Rate limited. Try after a while.\n",
            "[WARN] dividends fetch fail: 475560.KS (더본코리아) → Too Many Requests. Rate limited. Try after a while.\n"
          ]
        },
        {
          "output_type": "stream",
          "name": "stderr",
          "text": [
            "\r배당 수집:   2%|▏         | 17/1013 [00:04<03:14,  5.12it/s]"
          ]
        },
        {
          "output_type": "stream",
          "name": "stdout",
          "text": [
            "[WARN] dividends fetch fail: 487570.KS (HS효성) → Too Many Requests. Rate limited. Try after a while.\n"
          ]
        },
        {
          "output_type": "stream",
          "name": "stderr",
          "text": [
            "\r배당 수집:   2%|▏         | 19/1013 [00:04<04:12,  3.93it/s]"
          ]
        },
        {
          "output_type": "stream",
          "name": "stdout",
          "text": [
            "[WARN] dividends fetch fail: 062040.KS (산일전기) → Too Many Requests. Rate limited. Try after a while.\n",
            "[WARN] dividends fetch fail: 373110.KS (엑셀세라퓨틱스) → Too Many Requests. Rate limited. Try after a while.\n"
          ]
        },
        {
          "output_type": "stream",
          "name": "stderr",
          "text": [
            "\r배당 수집:   2%|▏         | 20/1013 [00:05<03:58,  4.17it/s]"
          ]
        },
        {
          "output_type": "stream",
          "name": "stdout",
          "text": [
            "[WARN] dividends fetch fail: 478110.KS (이베스트스팩6호) → Too Many Requests. Rate limited. Try after a while.\n",
            "[WARN] dividends fetch fail: 462350.KS (이노스페이스) → Too Many Requests. Rate limited. Try after a while.\n",
            "[WARN] dividends fetch fail: 481850.KS (신한글로벌액티브리츠) → Too Many Requests. Rate limited. Try after a while.\n",
            "[WARN] dividends fetch fail: 462870.KS (시프트업) → Too Many Requests. Rate limited. Try after a while.\n"
          ]
        },
        {
          "output_type": "stream",
          "name": "stderr",
          "text": [
            "\r배당 수집:   2%|▏         | 24/1013 [00:05<03:20,  4.92it/s]"
          ]
        },
        {
          "output_type": "stream",
          "name": "stdout",
          "text": [
            "[WARN] dividends fetch fail: 295310.KS (에이치브이엠) → Too Many Requests. Rate limited. Try after a while.\n"
          ]
        },
        {
          "output_type": "stream",
          "name": "stderr",
          "text": [
            "\r배당 수집:   2%|▏         | 25/1013 [00:06<04:36,  3.58it/s]"
          ]
        },
        {
          "output_type": "stream",
          "name": "stdout",
          "text": [
            "[WARN] dividends fetch fail: 266350.KS (팡스카이) → Too Many Requests. Rate limited. Try after a while.\n",
            "[WARN] dividends fetch fail: 160190.KS (하이젠알앤엠) → Too Many Requests. Rate limited. Try after a while.\n"
          ]
        },
        {
          "output_type": "stream",
          "name": "stderr",
          "text": [
            "배당 수집:   3%|▎         | 29/1013 [00:06<02:58,  5.51it/s]"
          ]
        },
        {
          "output_type": "stream",
          "name": "stdout",
          "text": [
            "[WARN] dividends fetch fail: 479880.KS (한국제15호스팩) → Too Many Requests. Rate limited. Try after a while.\n",
            "[WARN] dividends fetch fail: 464080.KS (에스오에스랩) → Too Many Requests. Rate limited. Try after a while.\n",
            "[WARN] dividends fetch fail: 478440.KS (미래에셋비전스팩6호) → Too Many Requests. Rate limited. Try after a while.\n",
            "[WARN] dividends fetch fail: 477340.KS (에이치엠씨제7호스팩) → Too Many Requests. Rate limited. Try after a while.\n"
          ]
        },
        {
          "output_type": "stream",
          "name": "stderr",
          "text": [
            "\r배당 수집:   3%|▎         | 31/1013 [00:07<03:28,  4.71it/s]"
          ]
        },
        {
          "output_type": "stream",
          "name": "stdout",
          "text": [
            "[WARN] dividends fetch fail: 034230.KS (파라다이스) → Too Many Requests. Rate limited. Try after a while.\n"
          ]
        },
        {
          "output_type": "stream",
          "name": "stderr",
          "text": [
            "\r배당 수집:   3%|▎         | 32/1013 [00:08<04:49,  3.39it/s]"
          ]
        },
        {
          "output_type": "stream",
          "name": "stdout",
          "text": [
            "[WARN] dividends fetch fail: 107640.KS (한중엔시에스) → Too Many Requests. Rate limited. Try after a while.\n",
            "[WARN] dividends fetch fail: 478390.KS (KB제29호스팩) → Too Many Requests. Rate limited. Try after a while.\n"
          ]
        },
        {
          "output_type": "stream",
          "name": "stderr",
          "text": [
            "배당 수집:   3%|▎         | 35/1013 [00:08<03:39,  4.46it/s]"
          ]
        },
        {
          "output_type": "stream",
          "name": "stdout",
          "text": [
            "[WARN] dividends fetch fail: 477470.KS (미래에셋비전스팩5호) → Too Many Requests. Rate limited. Try after a while.\n",
            "[WARN] dividends fetch fail: 458870.KS (씨어스테크놀로지) → Too Many Requests. Rate limited. Try after a while.\n",
            "[WARN] dividends fetch fail: 477760.KS (디비금융스팩12호) → Too Many Requests. Rate limited. Try after a while.\n",
            "[WARN] dividends fetch fail: 450330.KS (하스) → Too Many Requests. Rate limited. Try after a while.\n",
            "[WARN] dividends fetch fail: 462510.KS (라메디텍) → Too Many Requests. Rate limited. Try after a while.\n"
          ]
        },
        {
          "output_type": "stream",
          "name": "stderr",
          "text": [
            "\r배당 수집:   4%|▍         | 39/1013 [00:09<02:50,  5.71it/s]"
          ]
        },
        {
          "output_type": "stream",
          "name": "stdout",
          "text": [
            "[WARN] dividends fetch fail: 453450.KS (그리드위즈) → Too Many Requests. Rate limited. Try after a while.\n"
          ]
        },
        {
          "output_type": "stream",
          "name": "stderr",
          "text": [
            "배당 수집:   4%|▍         | 41/1013 [00:09<03:42,  4.37it/s]"
          ]
        },
        {
          "output_type": "stream",
          "name": "stdout",
          "text": [
            "[WARN] dividends fetch fail: 323350.KS (다원넥스뷰) → Too Many Requests. Rate limited. Try after a while.\n",
            "[WARN] dividends fetch fail: 477380.KS (미래에셋비전스팩4호) → Too Many Requests. Rate limited. Try after a while.\n"
          ]
        },
        {
          "output_type": "stream",
          "name": "stderr",
          "text": [
            "배당 수집:   4%|▍         | 43/1013 [00:10<03:14,  4.99it/s]"
          ]
        },
        {
          "output_type": "stream",
          "name": "stdout",
          "text": [
            "[WARN] dividends fetch fail: 145170.KS (노브랜드) → Too Many Requests. Rate limited. Try after a while.\n",
            "[WARN] dividends fetch fail: 456010.KS (아이씨티케이) → Too Many Requests. Rate limited. Try after a while.\n"
          ]
        },
        {
          "output_type": "stream",
          "name": "stderr",
          "text": [
            "\r배당 수집:   4%|▍         | 45/1013 [00:10<02:17,  7.04it/s]"
          ]
        },
        {
          "output_type": "stream",
          "name": "stdout",
          "text": [
            "[WARN] dividends fetch fail: 443060.KS (HD현대마린솔루션) → Too Many Requests. Rate limited. Try after a while.\n",
            "[WARN] dividends fetch fail: 126730.KS (코칩) → Too Many Requests. Rate limited. Try after a while.\n",
            "[WARN] dividends fetch fail: 473000.KS (SK증권제12호스팩) → Too Many Requests. Rate limited. Try after a while.\n"
          ]
        },
        {
          "output_type": "stream",
          "name": "stderr",
          "text": [
            "\r배당 수집:   5%|▍         | 47/1013 [00:10<02:40,  6.01it/s]"
          ]
        },
        {
          "output_type": "stream",
          "name": "stdout",
          "text": [
            "[WARN] dividends fetch fail: 452200.KS (민테크) → Too Many Requests. Rate limited. Try after a while.\n"
          ]
        },
        {
          "output_type": "stream",
          "name": "stderr",
          "text": [
            "\r배당 수집:   5%|▍         | 48/1013 [00:11<04:24,  3.65it/s]"
          ]
        },
        {
          "output_type": "stream",
          "name": "stdout",
          "text": [
            "[WARN] dividends fetch fail: 140430.KS (카티스) → Too Many Requests. Rate limited. Try after a while.\n",
            "[WARN] dividends fetch fail: 347850.KS (디앤디파마텍) → Too Many Requests. Rate limited. Try after a while.\n"
          ]
        },
        {
          "output_type": "stream",
          "name": "stderr",
          "text": [
            "배당 수집:   5%|▌         | 51/1013 [00:11<03:18,  4.84it/s]"
          ]
        },
        {
          "output_type": "stream",
          "name": "stdout",
          "text": [
            "[WARN] dividends fetch fail: 474490.KS (유안타제16호스팩) → Too Many Requests. Rate limited. Try after a while.\n",
            "[WARN] dividends fetch fail: 412540.KS (제일엠앤에스) → Too Many Requests. Rate limited. Try after a while.\n"
          ]
        },
        {
          "output_type": "stream",
          "name": "stderr",
          "text": [
            "\r배당 수집:   5%|▌         | 53/1013 [00:11<02:30,  6.39it/s]"
          ]
        },
        {
          "output_type": "stream",
          "name": "stdout",
          "text": [
            "[WARN] dividends fetch fail: 451250.KS (삐아) → Too Many Requests. Rate limited. Try after a while.\n",
            "[WARN] dividends fetch fail: 475250.KS (하나33호스팩) → Too Many Requests. Rate limited. Try after a while.\n",
            "[WARN] dividends fetch fail: 474930.KS (신한제13호스팩) → Too Many Requests. Rate limited. Try after a while.\n"
          ]
        },
        {
          "output_type": "stream",
          "name": "stderr",
          "text": [
            "\r배당 수집:   5%|▌         | 55/1013 [00:12<02:40,  5.95it/s]"
          ]
        },
        {
          "output_type": "stream",
          "name": "stdout",
          "text": [
            "[WARN] dividends fetch fail: 474660.KS (신한제12호스팩) → Too Many Requests. Rate limited. Try after a while.\n"
          ]
        },
        {
          "output_type": "stream",
          "name": "stderr",
          "text": [
            "\r배당 수집:   6%|▌         | 56/1013 [00:13<04:19,  3.68it/s]"
          ]
        },
        {
          "output_type": "stream",
          "name": "stdout",
          "text": [
            "[WARN] dividends fetch fail: 461030.KS (아이엠비디엑스) → Too Many Requests. Rate limited. Try after a while.\n",
            "[WARN] dividends fetch fail: 475150.KS (SK이터닉스) → Too Many Requests. Rate limited. Try after a while.\n"
          ]
        },
        {
          "output_type": "stream",
          "name": "stderr",
          "text": [
            "배당 수집:   6%|▌         | 59/1013 [00:13<03:18,  4.81it/s]"
          ]
        },
        {
          "output_type": "stream",
          "name": "stdout",
          "text": [
            "[WARN] dividends fetch fail: 475240.KS (하나32호스팩) → Too Many Requests. Rate limited. Try after a while.\n",
            "[WARN] dividends fetch fail: 455900.KS (엔젤로보틱스) → Too Many Requests. Rate limited. Try after a while.\n"
          ]
        },
        {
          "output_type": "stream",
          "name": "stderr",
          "text": [
            "\r배당 수집:   6%|▌         | 61/1013 [00:13<02:29,  6.35it/s]"
          ]
        },
        {
          "output_type": "stream",
          "name": "stdout",
          "text": [
            "[WARN] dividends fetch fail: 420570.KS (제이투케이바이오) → Too Many Requests. Rate limited. Try after a while.\n",
            "[WARN] dividends fetch fail: 437730.KS (삼현) → Too Many Requests. Rate limited. Try after a while.\n",
            "[WARN] dividends fetch fail: 036220.KS (오상헬스케어) → Too Many Requests. Rate limited. Try after a while.\n"
          ]
        },
        {
          "output_type": "stream",
          "name": "stderr",
          "text": [
            "\r배당 수집:   6%|▌         | 63/1013 [00:13<02:39,  5.94it/s]"
          ]
        },
        {
          "output_type": "stream",
          "name": "stdout",
          "text": [
            "[WARN] dividends fetch fail: 199430.KS (케이엔알시스템) → Too Many Requests. Rate limited. Try after a while.\n"
          ]
        },
        {
          "output_type": "stream",
          "name": "stderr",
          "text": [
            "배당 수집:   6%|▋         | 65/1013 [00:14<03:42,  4.27it/s]"
          ]
        },
        {
          "output_type": "stream",
          "name": "stdout",
          "text": [
            "[WARN] dividends fetch fail: 473370.KS (비엔케이제2호스팩) → Too Many Requests. Rate limited. Try after a while.\n",
            "[WARN] dividends fetch fail: 469900.KS (하나31호스팩) → Too Many Requests. Rate limited. Try after a while.\n"
          ]
        },
        {
          "output_type": "stream",
          "name": "stderr",
          "text": [
            "배당 수집:   7%|▋         | 67/1013 [00:15<03:10,  4.95it/s]"
          ]
        },
        {
          "output_type": "stream",
          "name": "stdout",
          "text": [
            "[WARN] dividends fetch fail: 472230.KS (SK증권제11호스팩) → Too Many Requests. Rate limited. Try after a while.\n",
            "[WARN] dividends fetch fail: 473050.KS (유안타제15호스팩) → Too Many Requests. Rate limited. Try after a while.\n"
          ]
        },
        {
          "output_type": "stream",
          "name": "stderr",
          "text": [
            "\r배당 수집:   7%|▋         | 69/1013 [00:15<02:21,  6.69it/s]"
          ]
        },
        {
          "output_type": "stream",
          "name": "stdout",
          "text": [
            "[WARN] dividends fetch fail: 468760.KS (유진스팩10호) → Too Many Requests. Rate limited. Try after a while.\n",
            "[WARN] dividends fetch fail: 278470.KS (에이피알) → Too Many Requests. Rate limited. Try after a while.\n",
            "[WARN] dividends fetch fail: 418620.KS (E8) → Too Many Requests. Rate limited. Try after a while.\n"
          ]
        },
        {
          "output_type": "stream",
          "name": "stderr",
          "text": [
            "\r배당 수집:   7%|▋         | 71/1013 [00:15<02:33,  6.15it/s]"
          ]
        },
        {
          "output_type": "stream",
          "name": "stdout",
          "text": [
            "[WARN] dividends fetch fail: 360350.KS (코셈) → Too Many Requests. Rate limited. Try after a while.\n"
          ]
        },
        {
          "output_type": "stream",
          "name": "stderr",
          "text": [
            "\r배당 수집:   7%|▋         | 72/1013 [00:16<04:19,  3.62it/s]"
          ]
        },
        {
          "output_type": "stream",
          "name": "stdout",
          "text": [
            "[WARN] dividends fetch fail: 068100.KS (케이웨더) → Too Many Requests. Rate limited. Try after a while.\n",
            "[WARN] dividends fetch fail: 452430.KS (사피엔반도체) → Too Many Requests. Rate limited. Try after a while.\n"
          ]
        },
        {
          "output_type": "stream",
          "name": "stderr",
          "text": [
            "배당 수집:   7%|▋         | 75/1013 [00:16<03:18,  4.73it/s]"
          ]
        },
        {
          "output_type": "stream",
          "name": "stdout",
          "text": [
            "[WARN] dividends fetch fail: 443670.KS (에스피소프트) → Too Many Requests. Rate limited. Try after a while.\n",
            "[WARN] dividends fetch fail: 415380.KS (스튜디오삼익) → Too Many Requests. Rate limited. Try after a while.\n"
          ]
        },
        {
          "output_type": "stream",
          "name": "stderr",
          "text": [
            "\r배당 수집:   8%|▊         | 77/1013 [00:16<02:28,  6.31it/s]"
          ]
        },
        {
          "output_type": "stream",
          "name": "stdout",
          "text": [
            "[WARN] dividends fetch fail: 472220.KS (신영스팩10호) → Too Many Requests. Rate limited. Try after a while.\n",
            "[WARN] dividends fetch fail: 472850.KS (폰드그룹) → Too Many Requests. Rate limited. Try after a while.\n",
            "[WARN] dividends fetch fail: 469480.KS (IBKS제24호스팩) → Too Many Requests. Rate limited. Try after a while.\n"
          ]
        },
        {
          "output_type": "stream",
          "name": "stderr",
          "text": [
            "\r배당 수집:   8%|▊         | 79/1013 [00:17<02:35,  6.02it/s]"
          ]
        },
        {
          "output_type": "stream",
          "name": "stdout",
          "text": [
            "[WARN] dividends fetch fail: 199550.KS (레이저옵텍) → Too Many Requests. Rate limited. Try after a while.\n"
          ]
        },
        {
          "output_type": "stream",
          "name": "stderr",
          "text": [
            "\r배당 수집:   8%|▊         | 80/1013 [00:17<04:15,  3.65it/s]"
          ]
        },
        {
          "output_type": "stream",
          "name": "stdout",
          "text": [
            "[WARN] dividends fetch fail: 452400.KS (이닉스) → Too Many Requests. Rate limited. Try after a while.\n",
            "[WARN] dividends fetch fail: 066970.KS (엘앤에프) → Too Many Requests. Rate limited. Try after a while.\n"
          ]
        },
        {
          "output_type": "stream",
          "name": "stderr",
          "text": [
            "배당 수집:   8%|▊         | 83/1013 [00:18<03:16,  4.74it/s]"
          ]
        },
        {
          "output_type": "stream",
          "name": "stdout",
          "text": [
            "[WARN] dividends fetch fail: 105760.KS (포스뱅크) → Too Many Requests. Rate limited. Try after a while.\n",
            "[WARN] dividends fetch fail: 460930.KS (현대힘스) → Too Many Requests. Rate limited. Try after a while.\n"
          ]
        },
        {
          "output_type": "stream",
          "name": "stderr",
          "text": [
            "\r배당 수집:   8%|▊         | 85/1013 [00:18<02:28,  6.26it/s]"
          ]
        },
        {
          "output_type": "stream",
          "name": "stdout",
          "text": [
            "[WARN] dividends fetch fail: 440290.KS (HB인베스트먼트) → Too Many Requests. Rate limited. Try after a while.\n",
            "[WARN] dividends fetch fail: 362990.KS (드림인사이트) → Too Many Requests. Rate limited. Try after a while.\n",
            "[WARN] dividends fetch fail: 471050.KS (대신밸런스제17호스팩) → Too Many Requests. Rate limited. Try after a while.\n"
          ]
        },
        {
          "output_type": "stream",
          "name": "stderr",
          "text": [
            "\r배당 수집:   9%|▊         | 87/1013 [00:18<02:33,  6.02it/s]"
          ]
        },
        {
          "output_type": "stream",
          "name": "stdout",
          "text": [
            "[WARN] dividends fetch fail: 457550.KS (우진엔텍) → Too Many Requests. Rate limited. Try after a while.\n"
          ]
        },
        {
          "output_type": "stream",
          "name": "stderr",
          "text": [
            "\r배당 수집:   9%|▊         | 88/1013 [00:19<04:13,  3.65it/s]"
          ]
        },
        {
          "output_type": "stream",
          "name": "stdout",
          "text": [
            "[WARN] dividends fetch fail: 267080.KS (세븐브로이맥주) → Too Many Requests. Rate limited. Try after a while.\n",
            "[WARN] dividends fetch fail: 452190.KS (한빛레이저) → Too Many Requests. Rate limited. Try after a while.\n"
          ]
        },
        {
          "output_type": "stream",
          "name": "stderr",
          "text": [
            "배당 수집:   9%|▉         | 91/1013 [00:19<03:14,  4.75it/s]"
          ]
        },
        {
          "output_type": "stream",
          "name": "stdout",
          "text": [
            "[WARN] dividends fetch fail: 022100.KS (포스코DX) → Too Many Requests. Rate limited. Try after a while.\n",
            "[WARN] dividends fetch fail: 017860.KS (DS단석) → Too Many Requests. Rate limited. Try after a while.\n"
          ]
        },
        {
          "output_type": "stream",
          "name": "stderr",
          "text": [
            "\r배당 수집:   9%|▉         | 93/1013 [00:20<02:30,  6.12it/s]"
          ]
        },
        {
          "output_type": "stream",
          "name": "stdout",
          "text": [
            "[WARN] dividends fetch fail: 467930.KS (IBKS제23호스팩) → Too Many Requests. Rate limited. Try after a while.\n",
            "[WARN] dividends fetch fail: 469880.KS (하나30호스팩) → Too Many Requests. Rate limited. Try after a while.\n",
            "[WARN] dividends fetch fail: 109670.KS (씨싸이트) → Too Many Requests. Rate limited. Try after a while.\n"
          ]
        },
        {
          "output_type": "stream",
          "name": "stderr",
          "text": [
            "\r배당 수집:   9%|▉         | 95/1013 [00:20<02:32,  6.01it/s]"
          ]
        },
        {
          "output_type": "stream",
          "name": "stdout",
          "text": [
            "[WARN] dividends fetch fail: 439580.KS (블루엠텍) → Too Many Requests. Rate limited. Try after a while.\n"
          ]
        },
        {
          "output_type": "stream",
          "name": "stderr",
          "text": [
            "\r배당 수집:   9%|▉         | 96/1013 [00:21<04:13,  3.62it/s]"
          ]
        },
        {
          "output_type": "stream",
          "name": "stdout",
          "text": [
            "[WARN] dividends fetch fail: 417200.KS (LS머트리얼즈) → Too Many Requests. Rate limited. Try after a while.\n",
            "[WARN] dividends fetch fail: 432470.KS (케이엔에스) → Too Many Requests. Rate limited. Try after a while.\n",
            "[WARN] dividends fetch fail: 465320.KS (교보15호스팩) → Too Many Requests. Rate limited. Try after a while.\n"
          ]
        },
        {
          "output_type": "stream",
          "name": "stderr",
          "text": [
            "배당 수집:  10%|▉         | 101/1013 [00:21<02:31,  6.04it/s]"
          ]
        },
        {
          "output_type": "stream",
          "name": "stdout",
          "text": [
            "[WARN] dividends fetch fail: 338840.KS (와이바이오로직스) → Too Many Requests. Rate limited. Try after a while.\n",
            "[WARN] dividends fetch fail: 355690.KS (에이텀) → Too Many Requests. Rate limited. Try after a while.\n",
            "[WARN] dividends fetch fail: 466910.KS (엔에이치스팩30호) → Too Many Requests. Rate limited. Try after a while.\n",
            "[WARN] dividends fetch fail: 453860.KS (에이에스텍) → Too Many Requests. Rate limited. Try after a while.\n"
          ]
        },
        {
          "output_type": "stream",
          "name": "stderr",
          "text": [
            "\r배당 수집:  10%|█         | 103/1013 [00:22<02:30,  6.06it/s]"
          ]
        },
        {
          "output_type": "stream",
          "name": "stdout",
          "text": [
            "[WARN] dividends fetch fail: 402490.KS (그린리소스) → Too Many Requests. Rate limited. Try after a while.\n"
          ]
        },
        {
          "output_type": "stream",
          "name": "stderr",
          "text": [
            "배당 수집:  10%|█         | 106/1013 [00:23<03:10,  4.76it/s]"
          ]
        },
        {
          "output_type": "stream",
          "name": "stdout",
          "text": [
            "[WARN] dividends fetch fail: 452160.KS (제이엔비) → Too Many Requests. Rate limited. Try after a while.\n",
            "[WARN] dividends fetch fail: 452280.KS (한선엔지니어링) → Too Many Requests. Rate limited. Try after a while.\n",
            "[WARN] dividends fetch fail: 111380.KS (동인기연) → Too Many Requests. Rate limited. Try after a while.\n"
          ]
        },
        {
          "output_type": "stream",
          "name": "stderr",
          "text": [
            "배당 수집:  11%|█         | 109/1013 [00:23<02:27,  6.12it/s]"
          ]
        },
        {
          "output_type": "stream",
          "name": "stdout",
          "text": [
            "[WARN] dividends fetch fail: 448280.KS (에코아이) → Too Many Requests. Rate limited. Try after a while.\n",
            "[WARN] dividends fetch fail: 352090.KS (스톰테크) → Too Many Requests. Rate limited. Try after a while.\n",
            "[WARN] dividends fetch fail: 450080.KS (에코프로머티) → Too Many Requests. Rate limited. Try after a while.\n",
            "[WARN] dividends fetch fail: 452300.KS (캡스톤파트너스) → Too Many Requests. Rate limited. Try after a while.\n"
          ]
        },
        {
          "output_type": "stream",
          "name": "stderr",
          "text": [
            "\r배당 수집:  11%|█         | 111/1013 [00:23<02:29,  6.03it/s]"
          ]
        },
        {
          "output_type": "stream",
          "name": "stdout",
          "text": [
            "[WARN] dividends fetch fail: 296160.KS (프로젠) → Too Many Requests. Rate limited. Try after a while.\n"
          ]
        },
        {
          "output_type": "stream",
          "name": "stderr",
          "text": [
            "배당 수집:  11%|█▏        | 114/1013 [00:24<03:06,  4.82it/s]"
          ]
        },
        {
          "output_type": "stream",
          "name": "stdout",
          "text": [
            "[WARN] dividends fetch fail: 365330.KS (에스와이스틸텍) → Too Many Requests. Rate limited. Try after a while.\n",
            "[WARN] dividends fetch fail: 445090.KS (에이직랜드) → Too Many Requests. Rate limited. Try after a while.\n",
            "[WARN] dividends fetch fail: 464440.KS (한국제13호스팩) → Too Many Requests. Rate limited. Try after a while.\n"
          ]
        },
        {
          "output_type": "stream",
          "name": "stderr",
          "text": [
            "배당 수집:  12%|█▏        | 117/1013 [00:25<02:27,  6.07it/s]"
          ]
        },
        {
          "output_type": "stream",
          "name": "stdout",
          "text": [
            "[WARN] dividends fetch fail: 446540.KS (메가터치) → Too Many Requests. Rate limited. Try after a while.\n",
            "[WARN] dividends fetch fail: 413640.KS (비아이매트릭스) → Too Many Requests. Rate limited. Try after a while.\n",
            "[WARN] dividends fetch fail: 451760.KS (컨텍) → Too Many Requests. Rate limited. Try after a while.\n",
            "[WARN] dividends fetch fail: 372320.KS (큐로셀) → Too Many Requests. Rate limited. Try after a while.\n"
          ]
        },
        {
          "output_type": "stream",
          "name": "stderr",
          "text": [
            "\r배당 수집:  12%|█▏        | 119/1013 [00:25<02:27,  6.06it/s]"
          ]
        },
        {
          "output_type": "stream",
          "name": "stdout",
          "text": [
            "[WARN] dividends fetch fail: 088280.KS (쏘닉스) → Too Many Requests. Rate limited. Try after a while.\n"
          ]
        },
        {
          "output_type": "stream",
          "name": "stderr",
          "text": [
            "배당 수집:  12%|█▏        | 122/1013 [00:26<03:03,  4.85it/s]"
          ]
        },
        {
          "output_type": "stream",
          "name": "stdout",
          "text": [
            "[WARN] dividends fetch fail: 188260.KS (세니젠) → Too Many Requests. Rate limited. Try after a while.\n",
            "[WARN] dividends fetch fail: 464680.KS (KB제27호스팩) → Too Many Requests. Rate limited. Try after a while.\n",
            "[WARN] dividends fetch fail: 290560.KS (신시웨이) → Too Many Requests. Rate limited. Try after a while.\n"
          ]
        },
        {
          "output_type": "stream",
          "name": "stderr",
          "text": [
            "배당 수집:  12%|█▏        | 125/1013 [00:26<02:23,  6.18it/s]"
          ]
        },
        {
          "output_type": "stream",
          "name": "stdout",
          "text": [
            "[WARN] dividends fetch fail: 240600.KS (유진테크놀로지) → Too Many Requests. Rate limited. Try after a while.\n",
            "[WARN] dividends fetch fail: 221800.KS (유투바이오) → Too Many Requests. Rate limited. Try after a while.\n",
            "[WARN] dividends fetch fail: 432720.KS (퀄리타스반도체) → Too Many Requests. Rate limited. Try after a while.\n",
            "[WARN] dividends fetch fail: 351020.KS (미쥬) → Too Many Requests. Rate limited. Try after a while.\n"
          ]
        },
        {
          "output_type": "stream",
          "name": "stderr",
          "text": [
            "\r배당 수집:  13%|█▎        | 127/1013 [00:27<02:25,  6.10it/s]"
          ]
        },
        {
          "output_type": "stream",
          "name": "stdout",
          "text": [
            "[WARN] dividends fetch fail: 396470.KS (워트) → Too Many Requests. Rate limited. Try after a while.\n"
          ]
        },
        {
          "output_type": "stream",
          "name": "stderr",
          "text": [
            "배당 수집:  13%|█▎        | 130/1013 [00:27<03:01,  4.88it/s]"
          ]
        },
        {
          "output_type": "stream",
          "name": "stdout",
          "text": [
            "[WARN] dividends fetch fail: 246250.KS (에스엘에스바이오) → Too Many Requests. Rate limited. Try after a while.\n",
            "[WARN] dividends fetch fail: 416180.KS (신성에스티) → Too Many Requests. Rate limited. Try after a while.\n",
            "[WARN] dividends fetch fail: 445180.KS (퓨릿) → Too Many Requests. Rate limited. Try after a while.\n"
          ]
        },
        {
          "output_type": "stream",
          "name": "stderr",
          "text": [
            "\r배당 수집:  13%|█▎        | 132/1013 [00:28<02:43,  5.39it/s]"
          ]
        },
        {
          "output_type": "stream",
          "name": "stdout",
          "text": [
            "[WARN] dividends fetch fail: 289170.KS (바이오텐) → Too Many Requests. Rate limited. Try after a while.\n",
            "[WARN] dividends fetch fail: 462020.KS (에이치엠씨제6호스팩) → Too Many Requests. Rate limited. Try after a while.\n",
            "[WARN] dividends fetch fail: 451220.KS (아이엠티) → Too Many Requests. Rate limited. Try after a while.\n"
          ]
        },
        {
          "output_type": "stream",
          "name": "stderr",
          "text": [
            "\r배당 수집:  13%|█▎        | 134/1013 [00:28<02:13,  6.58it/s]"
          ]
        },
        {
          "output_type": "stream",
          "name": "stdout",
          "text": [
            "[WARN] dividends fetch fail: 443250.KS (레뷰코퍼레이션) → Too Many Requests. Rate limited. Try after a while.\n",
            "[WARN] dividends fetch fail: 454910.KS (두산로보틱스) → Too Many Requests. Rate limited. Try after a while.\n"
          ]
        },
        {
          "output_type": "stream",
          "name": "stderr",
          "text": [
            "\r배당 수집:  13%|█▎        | 136/1013 [00:29<04:02,  3.61it/s]"
          ]
        },
        {
          "output_type": "stream",
          "name": "stdout",
          "text": [
            "[WARN] dividends fetch fail: 452980.KS (신한제11호스팩) → Too Many Requests. Rate limited. Try after a while.\n",
            "[WARN] dividends fetch fail: 430690.KS (한싹) → Too Many Requests. Rate limited. Try after a while.\n",
            "[WARN] dividends fetch fail: 418470.KS (KT밀리의서재) → Too Many Requests. Rate limited. Try after a while.\n"
          ]
        },
        {
          "output_type": "stream",
          "name": "stderr",
          "text": [
            "배당 수집:  14%|█▍        | 141/1013 [00:29<02:29,  5.82it/s]"
          ]
        },
        {
          "output_type": "stream",
          "name": "stdout",
          "text": [
            "[WARN] dividends fetch fail: 450520.KS (인스웨이브) → Too Many Requests. Rate limited. Try after a while.\n",
            "[WARN] dividends fetch fail: 403490.KS (우듬지팜) → Too Many Requests. Rate limited. Try after a while.\n",
            "[WARN] dividends fetch fail: 384470.KS (코어라인소프트) → Too Many Requests. Rate limited. Try after a while.\n",
            "[WARN] dividends fetch fail: 465770.KS (STX그린로지스) → Too Many Requests. Rate limited. Try after a while.\n"
          ]
        },
        {
          "output_type": "stream",
          "name": "stderr",
          "text": [
            "\r배당 수집:  14%|█▍        | 143/1013 [00:30<02:27,  5.89it/s]"
          ]
        },
        {
          "output_type": "stream",
          "name": "stdout",
          "text": [
            "[WARN] dividends fetch fail: 452670.KS (상상인제4호스팩) → Too Many Requests. Rate limited. Try after a while.\n"
          ]
        },
        {
          "output_type": "stream",
          "name": "stderr",
          "text": [
            "\r배당 수집:  14%|█▍        | 144/1013 [00:31<04:04,  3.55it/s]"
          ]
        },
        {
          "output_type": "stream",
          "name": "stdout",
          "text": [
            "[WARN] dividends fetch fail: 146060.KS (율촌) → Too Many Requests. Rate limited. Try after a while.\n",
            "[WARN] dividends fetch fail: 455310.KS (한화플러스제4호스팩) → Too Many Requests. Rate limited. Try after a while.\n",
            "[WARN] dividends fetch fail: 457630.KS (대신밸런스제16호스팩) → Too Many Requests. Rate limited. Try after a while.\n"
          ]
        },
        {
          "output_type": "stream",
          "name": "stderr",
          "text": [
            "배당 수집:  15%|█▍        | 149/1013 [00:31<02:27,  5.87it/s]"
          ]
        },
        {
          "output_type": "stream",
          "name": "stdout",
          "text": [
            "[WARN] dividends fetch fail: 444920.KS (유안타제11호스팩) → Too Many Requests. Rate limited. Try after a while.\n",
            "[WARN] dividends fetch fail: 355390.KS (크라우드웍스) → Too Many Requests. Rate limited. Try after a while.\n",
            "[WARN] dividends fetch fail: 458610.KS (한국제12호스팩) → Too Many Requests. Rate limited. Try after a while.\n"
          ]
        },
        {
          "output_type": "stream",
          "name": "stderr",
          "text": [
            "\r배당 수집:  15%|█▍        | 150/1013 [00:31<02:17,  6.26it/s]"
          ]
        },
        {
          "output_type": "stream",
          "name": "stdout",
          "text": [
            "[WARN] dividends fetch fail: 418250.KS (시큐레터) → Too Many Requests. Rate limited. Try after a while.\n"
          ]
        },
        {
          "output_type": "stream",
          "name": "stderr",
          "text": [
            "\r배당 수집:  15%|█▍        | 151/1013 [00:31<02:28,  5.80it/s]"
          ]
        },
        {
          "output_type": "stream",
          "name": "stdout",
          "text": [
            "[WARN] dividends fetch fail: 424960.KS (스마트레이더시스템) → Too Many Requests. Rate limited. Try after a while.\n"
          ]
        },
        {
          "output_type": "stream",
          "name": "stderr",
          "text": [
            "배당 수집:  15%|█▌        | 154/1013 [00:32<03:04,  4.65it/s]"
          ]
        },
        {
          "output_type": "stream",
          "name": "stdout",
          "text": [
            "[WARN] dividends fetch fail: 092790.KS (넥스틸) → Too Many Requests. Rate limited. Try after a while.\n",
            "[WARN] dividends fetch fail: 210120.KS (캔버스엔) → Too Many Requests. Rate limited. Try after a while.\n",
            "[WARN] dividends fetch fail: 457940.KS (SK증권제10호스팩) → Too Many Requests. Rate limited. Try after a while.\n"
          ]
        },
        {
          "output_type": "stream",
          "name": "stderr",
          "text": [
            "배당 수집:  15%|█▌        | 157/1013 [00:33<02:18,  6.19it/s]"
          ]
        },
        {
          "output_type": "stream",
          "name": "stdout",
          "text": [
            "[WARN] dividends fetch fail: 448710.KS (코츠테크놀로지) → Too Many Requests. Rate limited. Try after a while.\n",
            "[WARN] dividends fetch fail: 445680.KS (큐리옥스바이오시스템즈) → Too Many Requests. Rate limited. Try after a while.\n",
            "[WARN] dividends fetch fail: 454750.KS (하나28호스팩) → Too Many Requests. Rate limited. Try after a while.\n"
          ]
        },
        {
          "output_type": "stream",
          "name": "stderr",
          "text": [
            "배당 수집:  16%|█▌        | 159/1013 [00:33<02:21,  6.05it/s]"
          ]
        },
        {
          "output_type": "stream",
          "name": "stdout",
          "text": [
            "[WARN] dividends fetch fail: 030190.KS (NICE평가정보) → Too Many Requests. Rate limited. Try after a while.\n",
            "[WARN] dividends fetch fail: 440110.KS (파두) → Too Many Requests. Rate limited. Try after a while.\n"
          ]
        },
        {
          "output_type": "stream",
          "name": "stderr",
          "text": [
            "배당 수집:  16%|█▌        | 161/1013 [00:34<03:51,  3.68it/s]"
          ]
        },
        {
          "output_type": "stream",
          "name": "stdout",
          "text": [
            "[WARN] dividends fetch fail: 373170.KS (엠아이큐브솔루션) → Too Many Requests. Rate limited. Try after a while.\n",
            "[WARN] dividends fetch fail: 429270.KS (시지트로닉스) → Too Many Requests. Rate limited. Try after a while.\n",
            "[WARN] dividends fetch fail: 446440.KS (에피바이오텍) → Too Many Requests. Rate limited. Try after a while.\n"
          ]
        },
        {
          "output_type": "stream",
          "name": "stderr",
          "text": [
            "배당 수집:  16%|█▋        | 165/1013 [00:34<02:09,  6.54it/s]"
          ]
        },
        {
          "output_type": "stream",
          "name": "stdout",
          "text": [
            "[WARN] dividends fetch fail: 462520.KS (조선내화) → Too Many Requests. Rate limited. Try after a while.\n",
            "[WARN] dividends fetch fail: 172670.KS (에이엘티) → Too Many Requests. Rate limited. Try after a while.\n",
            "[WARN] dividends fetch fail: 450940.KS (유안타제14호스팩) → Too Many Requests. Rate limited. Try after a while.\n"
          ]
        },
        {
          "output_type": "stream",
          "name": "stderr",
          "text": [
            "배당 수집:  16%|█▋        | 167/1013 [00:35<02:15,  6.26it/s]"
          ]
        },
        {
          "output_type": "stream",
          "name": "stdout",
          "text": [
            "[WARN] dividends fetch fail: 388870.KS (파로스아이바이오) → Too Many Requests. Rate limited. Try after a while.\n",
            "[WARN] dividends fetch fail: 456700.KS (길교이앤씨) → Too Many Requests. Rate limited. Try after a while.\n"
          ]
        },
        {
          "output_type": "stream",
          "name": "stderr",
          "text": [
            "배당 수집:  17%|█▋        | 169/1013 [00:36<03:51,  3.65it/s]"
          ]
        },
        {
          "output_type": "stream",
          "name": "stdout",
          "text": [
            "[WARN] dividends fetch fail: 438700.KS (버넥트) → Too Many Requests. Rate limited. Try after a while.\n",
            "[WARN] dividends fetch fail: 406820.KS (뷰티스킨) → Too Many Requests. Rate limited. Try after a while.\n",
            "[WARN] dividends fetch fail: 455910.KS (SK증권제9호스팩) → Too Many Requests. Rate limited. Try after a while.\n"
          ]
        },
        {
          "output_type": "stream",
          "name": "stderr",
          "text": [
            "배당 수집:  17%|█▋        | 173/1013 [00:36<02:06,  6.64it/s]"
          ]
        },
        {
          "output_type": "stream",
          "name": "stdout",
          "text": [
            "[WARN] dividends fetch fail: 432430.KS (와이랩) → Too Many Requests. Rate limited. Try after a while.\n",
            "[WARN] dividends fetch fail: 321370.KS (센서뷰) → Too Many Requests. Rate limited. Try after a while.\n",
            "[WARN] dividends fetch fail: 456570.KS (아이엠지티) → Too Many Requests. Rate limited. Try after a while.\n"
          ]
        },
        {
          "output_type": "stream",
          "name": "stderr",
          "text": [
            "배당 수집:  17%|█▋        | 175/1013 [00:36<02:13,  6.27it/s]"
          ]
        },
        {
          "output_type": "stream",
          "name": "stdout",
          "text": [
            "[WARN] dividends fetch fail: 378340.KS (필에너지) → Too Many Requests. Rate limited. Try after a while.\n",
            "[WARN] dividends fetch fail: 456490.KS (교보14호스팩) → Too Many Requests. Rate limited. Try after a while.\n"
          ]
        },
        {
          "output_type": "stream",
          "name": "stderr",
          "text": [
            "배당 수집:  17%|█▋        | 177/1013 [00:37<03:50,  3.63it/s]"
          ]
        },
        {
          "output_type": "stream",
          "name": "stdout",
          "text": [
            "[WARN] dividends fetch fail: 274400.KS (이노시뮬레이션) → Too Many Requests. Rate limited. Try after a while.\n",
            "[WARN] dividends fetch fail: 354320.KS (알멕) → Too Many Requests. Rate limited. Try after a while.\n",
            "[WARN] dividends fetch fail: 440320.KS (오픈놀) → Too Many Requests. Rate limited. Try after a while.\n"
          ]
        },
        {
          "output_type": "stream",
          "name": "stderr",
          "text": [
            "배당 수집:  18%|█▊        | 181/1013 [00:38<02:06,  6.56it/s]"
          ]
        },
        {
          "output_type": "stream",
          "name": "stdout",
          "text": [
            "[WARN] dividends fetch fail: 232830.KS (아이티센피엔에스) → Too Many Requests. Rate limited. Try after a while.\n",
            "[WARN] dividends fetch fail: 454640.KS (하나29호스팩) → Too Many Requests. Rate limited. Try after a while.\n",
            "[WARN] dividends fetch fail: 455250.KS (KB제25호스팩) → Too Many Requests. Rate limited. Try after a while.\n"
          ]
        },
        {
          "output_type": "stream",
          "name": "stderr",
          "text": [
            "배당 수집:  18%|█▊        | 183/1013 [00:38<02:12,  6.27it/s]"
          ]
        },
        {
          "output_type": "stream",
          "name": "stdout",
          "text": [
            "[WARN] dividends fetch fail: 451700.KS (엔에이치스팩29호) → Too Many Requests. Rate limited. Try after a while.\n",
            "[WARN] dividends fetch fail: 450050.KS (하이제8호스팩) → Too Many Requests. Rate limited. Try after a while.\n"
          ]
        },
        {
          "output_type": "stream",
          "name": "stderr",
          "text": [
            "배당 수집:  18%|█▊        | 185/1013 [00:39<03:48,  3.62it/s]"
          ]
        },
        {
          "output_type": "stream",
          "name": "stdout",
          "text": [
            "[WARN] dividends fetch fail: 296520.KS (가이아코퍼레이션) → Too Many Requests. Rate limited. Try after a while.\n",
            "[WARN] dividends fetch fail: 090460.KS (비에이치) → Too Many Requests. Rate limited. Try after a while.\n",
            "[WARN] dividends fetch fail: 460850.KS (동국씨엠) → Too Many Requests. Rate limited. Try after a while.\n"
          ]
        },
        {
          "output_type": "stream",
          "name": "stderr",
          "text": [
            "배당 수집:  19%|█▊        | 189/1013 [00:39<02:05,  6.59it/s]"
          ]
        },
        {
          "output_type": "stream",
          "name": "stdout",
          "text": [
            "[WARN] dividends fetch fail: 460860.KS (동국제강) → Too Many Requests. Rate limited. Try after a while.\n",
            "[WARN] dividends fetch fail: 303360.KS (프로티아) → Too Many Requests. Rate limited. Try after a while.\n",
            "[WARN] dividends fetch fail: 348080.KS (큐라티스) → Too Many Requests. Rate limited. Try after a while.\n"
          ]
        },
        {
          "output_type": "stream",
          "name": "stderr",
          "text": [
            "배당 수집:  19%|█▉        | 191/1013 [00:40<02:11,  6.26it/s]"
          ]
        },
        {
          "output_type": "stream",
          "name": "stdout",
          "text": [
            "[WARN] dividends fetch fail: 439090.KS (마녀공장) → Too Many Requests. Rate limited. Try after a while.\n",
            "[WARN] dividends fetch fail: 405920.KS (나라셀라) → Too Many Requests. Rate limited. Try after a while.\n"
          ]
        },
        {
          "output_type": "stream",
          "name": "stderr",
          "text": [
            "배당 수집:  19%|█▉        | 193/1013 [00:41<03:51,  3.54it/s]"
          ]
        },
        {
          "output_type": "stream",
          "name": "stdout",
          "text": [
            "[WARN] dividends fetch fail: 285800.KS (진영) → Too Many Requests. Rate limited. Try after a while.\n",
            "[WARN] dividends fetch fail: 457190.KS (이수스페셜티케미컬) → Too Many Requests. Rate limited. Try after a while.\n"
          ]
        },
        {
          "output_type": "stream",
          "name": "stderr",
          "text": [
            "\r배당 수집:  19%|█▉        | 195/1013 [00:41<02:38,  5.16it/s]"
          ]
        },
        {
          "output_type": "stream",
          "name": "stdout",
          "text": [
            "[WARN] dividends fetch fail: 456040.KS (OCI) → Too Many Requests. Rate limited. Try after a while.\n",
            "[WARN] dividends fetch fail: 420770.KS (기가비스) → Too Many Requests. Rate limited. Try after a while.\n"
          ]
        },
        {
          "output_type": "stream",
          "name": "stderr",
          "text": [
            "\r배당 수집:  19%|█▉        | 197/1013 [00:41<02:03,  6.58it/s]"
          ]
        },
        {
          "output_type": "stream",
          "name": "stdout",
          "text": [
            "[WARN] dividends fetch fail: 271830.KS (팸텍) → Too Many Requests. Rate limited. Try after a while.\n",
            "[WARN] dividends fetch fail: 434480.KS (모니터랩) → Too Many Requests. Rate limited. Try after a while.\n"
          ]
        },
        {
          "output_type": "stream",
          "name": "stderr",
          "text": [
            "배당 수집:  20%|█▉        | 199/1013 [00:41<02:09,  6.27it/s]"
          ]
        },
        {
          "output_type": "stream",
          "name": "stdout",
          "text": [
            "[WARN] dividends fetch fail: 340810.KS (시선AI) → Too Many Requests. Rate limited. Try after a while.\n",
            "[WARN] dividends fetch fail: 456190.KS (큐라켐) → Too Many Requests. Rate limited. Try after a while.\n"
          ]
        },
        {
          "output_type": "stream",
          "name": "stderr",
          "text": [
            "배당 수집:  20%|█▉        | 201/1013 [00:42<03:49,  3.53it/s]"
          ]
        },
        {
          "output_type": "stream",
          "name": "stdout",
          "text": [
            "[WARN] dividends fetch fail: 446840.KS (키움제8호스팩) → Too Many Requests. Rate limited. Try after a while.\n",
            "[WARN] dividends fetch fail: 417790.KS (트루엔) → Too Many Requests. Rate limited. Try after a while.\n"
          ]
        },
        {
          "output_type": "stream",
          "name": "stderr",
          "text": [
            "\r배당 수집:  20%|██        | 203/1013 [00:42<02:37,  5.15it/s]"
          ]
        },
        {
          "output_type": "stream",
          "name": "stdout",
          "text": [
            "[WARN] dividends fetch fail: 012210.KS (삼미금속) → Too Many Requests. Rate limited. Try after a while.\n",
            "[WARN] dividends fetch fail: 304360.KS (에스바이오메딕스) → Too Many Requests. Rate limited. Try after a while.\n"
          ]
        },
        {
          "output_type": "stream",
          "name": "stderr",
          "text": [
            "\r배당 수집:  20%|██        | 205/1013 [00:43<02:04,  6.49it/s]"
          ]
        },
        {
          "output_type": "stream",
          "name": "stdout",
          "text": [
            "[WARN] dividends fetch fail: 298830.KS (슈어소프트테크) → Too Many Requests. Rate limited. Try after a while.\n",
            "[WARN] dividends fetch fail: 393210.KS (토마토시스템) → Too Many Requests. Rate limited. Try after a while.\n"
          ]
        },
        {
          "output_type": "stream",
          "name": "stderr",
          "text": [
            "배당 수집:  20%|██        | 207/1013 [00:43<02:09,  6.23it/s]"
          ]
        },
        {
          "output_type": "stream",
          "name": "stdout",
          "text": [
            "[WARN] dividends fetch fail: 424980.KS (마이크로투나노) → Too Many Requests. Rate limited. Try after a while.\n",
            "[WARN] dividends fetch fail: 318160.KS (셀바이오휴먼텍) → Too Many Requests. Rate limited. Try after a while.\n"
          ]
        },
        {
          "output_type": "stream",
          "name": "stderr",
          "text": [
            "배당 수집:  21%|██        | 209/1013 [00:44<03:46,  3.56it/s]"
          ]
        },
        {
          "output_type": "stream",
          "name": "stdout",
          "text": [
            "[WARN] dividends fetch fail: 100090.KS (SK오션플랜트) → Too Many Requests. Rate limited. Try after a while.\n",
            "[WARN] dividends fetch fail: 448730.KS (삼성FN리츠) → Too Many Requests. Rate limited. Try after a while.\n"
          ]
        },
        {
          "output_type": "stream",
          "name": "stderr",
          "text": [
            "\r배당 수집:  21%|██        | 211/1013 [00:44<02:35,  5.17it/s]"
          ]
        },
        {
          "output_type": "stream",
          "name": "stdout",
          "text": [
            "[WARN] dividends fetch fail: 453340.KS (현대그린푸드) → Too Many Requests. Rate limited. Try after a while.\n",
            "[WARN] dividends fetch fail: 448830.KS (미래에셋비전스팩3호) → Too Many Requests. Rate limited. Try after a while.\n"
          ]
        },
        {
          "output_type": "stream",
          "name": "stderr",
          "text": [
            "\r배당 수집:  21%|██        | 213/1013 [00:44<02:01,  6.57it/s]"
          ]
        },
        {
          "output_type": "stream",
          "name": "stdout",
          "text": [
            "[WARN] dividends fetch fail: 448760.KS (IBKS제22호스팩) → Too Many Requests. Rate limited. Try after a while.\n",
            "[WARN] dividends fetch fail: 448370.KS (하나27호스팩) → Too Many Requests. Rate limited. Try after a while.\n"
          ]
        },
        {
          "output_type": "stream",
          "name": "stderr",
          "text": [
            "\r배당 수집:  21%|██        | 214/1013 [00:44<02:00,  6.62it/s]"
          ]
        },
        {
          "output_type": "stream",
          "name": "stdout",
          "text": [
            "[WARN] dividends fetch fail: 452260.KS (한화갤러리아) → Too Many Requests. Rate limited. Try after a while.\n"
          ]
        },
        {
          "output_type": "stream",
          "name": "stderr",
          "text": [
            "\r배당 수집:  21%|██        | 215/1013 [00:44<02:10,  6.13it/s]"
          ]
        },
        {
          "output_type": "stream",
          "name": "stdout",
          "text": [
            "[WARN] dividends fetch fail: 358570.KS (지아이이노베이션) → Too Many Requests. Rate limited. Try after a while.\n"
          ]
        },
        {
          "output_type": "stream",
          "name": "stderr",
          "text": [
            "배당 수집:  21%|██▏       | 217/1013 [00:45<03:44,  3.55it/s]"
          ]
        },
        {
          "output_type": "stream",
          "name": "stdout",
          "text": [
            "[WARN] dividends fetch fail: 309960.KS (LB인베스트먼트) → Too Many Requests. Rate limited. Try after a while.\n",
            "[WARN] dividends fetch fail: 451800.KS (한화리츠) → Too Many Requests. Rate limited. Try after a while.\n"
          ]
        },
        {
          "output_type": "stream",
          "name": "stderr",
          "text": [
            "\r배당 수집:  22%|██▏       | 219/1013 [00:46<02:33,  5.16it/s]"
          ]
        },
        {
          "output_type": "stream",
          "name": "stdout",
          "text": [
            "[WARN] dividends fetch fail: 446150.KS (유안타제12호스팩) → Too Many Requests. Rate limited. Try after a while.\n",
            "[WARN] dividends fetch fail: 356680.KS (엑스게이트) → Too Many Requests. Rate limited. Try after a while.\n",
            "[WARN] dividends fetch fail: 442900.KS (미래에셋드림스팩1호) → Too Many Requests. Rate limited. Try after a while.\n"
          ]
        },
        {
          "output_type": "stream",
          "name": "stderr",
          "text": [
            "\r배당 수집:  22%|██▏       | 221/1013 [00:46<01:59,  6.61it/s]"
          ]
        },
        {
          "output_type": "stream",
          "name": "stdout",
          "text": [
            "[WARN] dividends fetch fail: 282720.KS (금양그린파워) → Too Many Requests. Rate limited. Try after a while.\n"
          ]
        },
        {
          "output_type": "stream",
          "name": "stderr",
          "text": [
            "배당 수집:  22%|██▏       | 223/1013 [00:46<02:06,  6.24it/s]"
          ]
        },
        {
          "output_type": "stream",
          "name": "stdout",
          "text": [
            "[WARN] dividends fetch fail: 418420.KS (라온텍) → Too Many Requests. Rate limited. Try after a while.\n",
            "[WARN] dividends fetch fail: 389020.KS (자람테크놀로지) → Too Many Requests. Rate limited. Try after a while.\n"
          ]
        },
        {
          "output_type": "stream",
          "name": "stderr",
          "text": [
            "\r배당 수집:  22%|██▏       | 224/1013 [00:47<04:05,  3.22it/s]"
          ]
        },
        {
          "output_type": "stream",
          "name": "stdout",
          "text": [
            "[WARN] dividends fetch fail: 446750.KS (하나26호스팩) → Too Many Requests. Rate limited. Try after a while.\n"
          ]
        },
        {
          "output_type": "stream",
          "name": "stderr",
          "text": [
            "배당 수집:  22%|██▏       | 227/1013 [00:47<02:29,  5.25it/s]"
          ]
        },
        {
          "output_type": "stream",
          "name": "stdout",
          "text": [
            "[WARN] dividends fetch fail: 417010.KS (나노팀) → Too Many Requests. Rate limited. Try after a while.\n",
            "[WARN] dividends fetch fail: 199730.KS (바이오인프라) → Too Many Requests. Rate limited. Try after a while.\n",
            "[WARN] dividends fetch fail: 448740.KS (삼성스팩8호) → Too Many Requests. Rate limited. Try after a while.\n"
          ]
        },
        {
          "output_type": "stream",
          "name": "stderr",
          "text": [
            "\r배당 수집:  23%|██▎       | 229/1013 [00:47<01:57,  6.69it/s]"
          ]
        },
        {
          "output_type": "stream",
          "name": "stdout",
          "text": [
            "[WARN] dividends fetch fail: 449020.KS (유안타제13호스팩) → Too Many Requests. Rate limited. Try after a while.\n",
            "[WARN] dividends fetch fail: 446190.KS (미래에셋비전스팩2호) → Too Many Requests. Rate limited. Try after a while.\n"
          ]
        },
        {
          "output_type": "stream",
          "name": "stderr",
          "text": [
            "배당 수집:  23%|██▎       | 231/1013 [00:48<02:03,  6.31it/s]"
          ]
        },
        {
          "output_type": "stream",
          "name": "stdout",
          "text": [
            "[WARN] dividends fetch fail: 344860.KS (이노진) → Too Many Requests. Rate limited. Try after a while.\n",
            "[WARN] dividends fetch fail: 127980.KS (화인써키트) → Too Many Requests. Rate limited. Try after a while.\n"
          ]
        },
        {
          "output_type": "stream",
          "name": "stderr",
          "text": [
            "\r배당 수집:  23%|██▎       | 232/1013 [00:49<04:02,  3.22it/s]"
          ]
        },
        {
          "output_type": "stream",
          "name": "stdout",
          "text": [
            "[WARN] dividends fetch fail: 418550.KS (제이오) → Too Many Requests. Rate limited. Try after a while.\n"
          ]
        },
        {
          "output_type": "stream",
          "name": "stderr",
          "text": [
            "배당 수집:  23%|██▎       | 235/1013 [00:49<02:27,  5.28it/s]"
          ]
        },
        {
          "output_type": "stream",
          "name": "stdout",
          "text": [
            "[WARN] dividends fetch fail: 411080.KS (샌즈랩) → Too Many Requests. Rate limited. Try after a while.\n",
            "[WARN] dividends fetch fail: 407400.KS (꿈비) → Too Many Requests. Rate limited. Try after a while.\n",
            "[WARN] dividends fetch fail: 408900.KS (스튜디오미르) → Too Many Requests. Rate limited. Try after a while.\n"
          ]
        },
        {
          "output_type": "stream",
          "name": "stderr",
          "text": [
            "\r배당 수집:  23%|██▎       | 237/1013 [00:49<01:55,  6.70it/s]"
          ]
        },
        {
          "output_type": "stream",
          "name": "stdout",
          "text": [
            "[WARN] dividends fetch fail: 419050.KS (삼기에너지솔루션즈) → Too Many Requests. Rate limited. Try after a while.\n",
            "[WARN] dividends fetch fail: 450140.KS (코오롱모빌리티그룹) → Too Many Requests. Rate limited. Try after a while.\n"
          ]
        },
        {
          "output_type": "stream",
          "name": "stderr",
          "text": [
            "배당 수집:  24%|██▎       | 239/1013 [00:49<02:02,  6.32it/s]"
          ]
        },
        {
          "output_type": "stream",
          "name": "stdout",
          "text": [
            "[WARN] dividends fetch fail: 417860.KS (오브젠) → Too Many Requests. Rate limited. Try after a while.\n",
            "[WARN] dividends fetch fail: 254490.KS (미래반도체) → Too Many Requests. Rate limited. Try after a while.\n"
          ]
        },
        {
          "output_type": "stream",
          "name": "stderr",
          "text": [
            "\r배당 수집:  24%|██▎       | 240/1013 [00:50<03:59,  3.23it/s]"
          ]
        },
        {
          "output_type": "stream",
          "name": "stdout",
          "text": [
            "[WARN] dividends fetch fail: 289860.KS (지슨) → Too Many Requests. Rate limited. Try after a while.\n"
          ]
        },
        {
          "output_type": "stream",
          "name": "stderr",
          "text": [
            "배당 수집:  24%|██▍       | 243/1013 [00:51<02:28,  5.18it/s]"
          ]
        },
        {
          "output_type": "stream",
          "name": "stdout",
          "text": [
            "[WARN] dividends fetch fail: 052960.KS (태양3C) → Too Many Requests. Rate limited. Try after a while.\n",
            "[WARN] dividends fetch fail: 425040.KS (티이엠씨) → Too Many Requests. Rate limited. Try after a while.\n",
            "[WARN] dividends fetch fail: 198940.KS (한주라이트메탈) → Too Many Requests. Rate limited. Try after a while.\n",
            "[WARN] dividends fetch fail: 380540.KS (옵티코어) → Too Many Requests. Rate limited. Try after a while.\n"
          ]
        },
        {
          "output_type": "stream",
          "name": "stderr",
          "text": [
            "\r배당 수집:  24%|██▍       | 245/1013 [00:51<01:53,  6.78it/s]"
          ]
        },
        {
          "output_type": "stream",
          "name": "stdout",
          "text": [
            "[WARN] dividends fetch fail: 447690.KS (아이오바이오) → Too Many Requests. Rate limited. Try after a while.\n"
          ]
        },
        {
          "output_type": "stream",
          "name": "stderr",
          "text": [
            "\r배당 수집:  24%|██▍       | 247/1013 [00:51<02:06,  6.06it/s]"
          ]
        },
        {
          "output_type": "stream",
          "name": "stdout",
          "text": [
            "[WARN] dividends fetch fail: 346010.KS (타이드) → Too Many Requests. Rate limited. Try after a while.\n",
            "[WARN] dividends fetch fail: 162300.KS (신스틸) → Too Many Requests. Rate limited. Try after a while.\n"
          ]
        },
        {
          "output_type": "stream",
          "name": "stderr",
          "text": [
            "\r배당 수집:  24%|██▍       | 248/1013 [00:52<03:32,  3.60it/s]"
          ]
        },
        {
          "output_type": "stream",
          "name": "stdout",
          "text": [
            "[WARN] dividends fetch fail: 377740.KS (바이오노트) → Too Many Requests. Rate limited. Try after a while.\n"
          ]
        },
        {
          "output_type": "stream",
          "name": "stderr",
          "text": [
            "배당 수집:  25%|██▍       | 251/1013 [00:52<02:25,  5.25it/s]"
          ]
        },
        {
          "output_type": "stream",
          "name": "stdout",
          "text": [
            "[WARN] dividends fetch fail: 448780.KS (마이크로엔엑스) → Too Many Requests. Rate limited. Try after a while.\n",
            "[WARN] dividends fetch fail: 390110.KS (애니메디솔루션) → Too Many Requests. Rate limited. Try after a while.\n",
            "[WARN] dividends fetch fail: 442770.KS (IBKS제21호스팩) → Too Many Requests. Rate limited. Try after a while.\n",
            "[WARN] dividends fetch fail: 417180.KS (핑거스토리) → Too Many Requests. Rate limited. Try after a while.\n"
          ]
        },
        {
          "output_type": "stream",
          "name": "stderr",
          "text": [
            "\r배당 수집:  25%|██▍       | 253/1013 [00:52<01:52,  6.74it/s]"
          ]
        },
        {
          "output_type": "stream",
          "name": "stdout",
          "text": [
            "[WARN] dividends fetch fail: 419530.KS (SAMG엔터) → Too Many Requests. Rate limited. Try after a while.\n"
          ]
        },
        {
          "output_type": "stream",
          "name": "stderr",
          "text": [
            "\r배당 수집:  25%|██▌       | 255/1013 [00:53<02:05,  6.02it/s]"
          ]
        },
        {
          "output_type": "stream",
          "name": "stdout",
          "text": [
            "[WARN] dividends fetch fail: 102950.KS (아하) → Too Many Requests. Rate limited. Try after a while.\n",
            "[WARN] dividends fetch fail: 311960.KS (인터로이드) → Too Many Requests. Rate limited. Try after a while.\n"
          ]
        },
        {
          "output_type": "stream",
          "name": "stderr",
          "text": [
            "\r배당 수집:  25%|██▌       | 256/1013 [00:53<03:24,  3.70it/s]"
          ]
        },
        {
          "output_type": "stream",
          "name": "stdout",
          "text": [
            "[WARN] dividends fetch fail: 446070.KS (유니드비티플러스) → Too Many Requests. Rate limited. Try after a while.\n"
          ]
        },
        {
          "output_type": "stream",
          "name": "stderr",
          "text": [
            "배당 수집:  26%|██▌       | 259/1013 [00:54<02:21,  5.33it/s]"
          ]
        },
        {
          "output_type": "stream",
          "name": "stdout",
          "text": [
            "[WARN] dividends fetch fail: 168360.KS (펨트론) → Too Many Requests. Rate limited. Try after a while.\n",
            "[WARN] dividends fetch fail: 389470.KS (인벤티지랩) → Too Many Requests. Rate limited. Try after a while.\n",
            "[WARN] dividends fetch fail: 419080.KS (엔젯) → Too Many Requests. Rate limited. Try after a while.\n",
            "[WARN] dividends fetch fail: 084440.KS (유비온) → Too Many Requests. Rate limited. Try after a while.\n"
          ]
        },
        {
          "output_type": "stream",
          "name": "stderr",
          "text": [
            "\r배당 수집:  26%|██▌       | 261/1013 [00:54<01:50,  6.83it/s]"
          ]
        },
        {
          "output_type": "stream",
          "name": "stdout",
          "text": [
            "[WARN] dividends fetch fail: 204610.KS (티쓰리) → Too Many Requests. Rate limited. Try after a while.\n",
            "[WARN] dividends fetch fail: 425420.KS (티에프이) → Too Many Requests. Rate limited. Try after a while.\n"
          ]
        },
        {
          "output_type": "stream",
          "name": "stderr",
          "text": [
            "\r배당 수집:  26%|██▌       | 263/1013 [00:54<02:06,  5.93it/s]"
          ]
        },
        {
          "output_type": "stream",
          "name": "stdout",
          "text": [
            "[WARN] dividends fetch fail: 372170.KS (윤성에프앤씨) → Too Many Requests. Rate limited. Try after a while.\n"
          ]
        },
        {
          "output_type": "stream",
          "name": "stderr",
          "text": [
            "\r배당 수집:  26%|██▌       | 264/1013 [00:55<03:20,  3.74it/s]"
          ]
        },
        {
          "output_type": "stream",
          "name": "stdout",
          "text": [
            "[WARN] dividends fetch fail: 383930.KS (디티앤씨알오) → Too Many Requests. Rate limited. Try after a while.\n"
          ]
        },
        {
          "output_type": "stream",
          "name": "stderr",
          "text": [
            "배당 수집:  26%|██▋       | 267/1013 [00:55<02:18,  5.37it/s]"
          ]
        },
        {
          "output_type": "stream",
          "name": "stdout",
          "text": [
            "[WARN] dividends fetch fail: 348340.KS (뉴로메카) → Too Many Requests. Rate limited. Try after a while.\n",
            "[WARN] dividends fetch fail: 417500.KS (제이아이테크) → Too Many Requests. Rate limited. Try after a while.\n",
            "[WARN] dividends fetch fail: 108320.KS (LX세미콘) → Too Many Requests. Rate limited. Try after a while.\n",
            "[WARN] dividends fetch fail: 405100.KS (큐알티) → Too Many Requests. Rate limited. Try after a while.\n"
          ]
        },
        {
          "output_type": "stream",
          "name": "stderr",
          "text": [
            "\r배당 수집:  27%|██▋       | 269/1013 [00:56<01:49,  6.79it/s]"
          ]
        },
        {
          "output_type": "stream",
          "name": "stdout",
          "text": [
            "[WARN] dividends fetch fail: 417840.KS (저스템) → Too Many Requests. Rate limited. Try after a while.\n",
            "[WARN] dividends fetch fail: 419120.KS (산돌) → Too Many Requests. Rate limited. Try after a while.\n"
          ]
        },
        {
          "output_type": "stream",
          "name": "stderr",
          "text": [
            "\r배당 수집:  27%|██▋       | 271/1013 [00:56<02:04,  5.96it/s]"
          ]
        },
        {
          "output_type": "stream",
          "name": "stdout",
          "text": [
            "[WARN] dividends fetch fail: 434190.KS (탈로스) → Too Many Requests. Rate limited. Try after a while.\n"
          ]
        },
        {
          "output_type": "stream",
          "name": "stderr",
          "text": [
            "\r배당 수집:  27%|██▋       | 272/1013 [00:57<03:17,  3.74it/s]"
          ]
        },
        {
          "output_type": "stream",
          "name": "stdout",
          "text": [
            "[WARN] dividends fetch fail: 405000.KS (플라즈맵) → Too Many Requests. Rate limited. Try after a while.\n"
          ]
        },
        {
          "output_type": "stream",
          "name": "stderr",
          "text": [
            "배당 수집:  27%|██▋       | 275/1013 [00:57<02:17,  5.36it/s]"
          ]
        },
        {
          "output_type": "stream",
          "name": "stdout",
          "text": [
            "[WARN] dividends fetch fail: 291810.KS (핀텔) → Too Many Requests. Rate limited. Try after a while.\n",
            "[WARN] dividends fetch fail: 378800.KS (샤페론) → Too Many Requests. Rate limited. Try after a while.\n",
            "[WARN] dividends fetch fail: 419540.KS (비스토스) → Too Many Requests. Rate limited. Try after a while.\n",
            "[WARN] dividends fetch fail: 360070.KS (탑머티리얼) → Too Many Requests. Rate limited. Try after a while.\n"
          ]
        },
        {
          "output_type": "stream",
          "name": "stderr",
          "text": [
            "\r배당 수집:  27%|██▋       | 277/1013 [00:57<01:52,  6.56it/s]"
          ]
        },
        {
          "output_type": "stream",
          "name": "stdout",
          "text": [
            "[WARN] dividends fetch fail: 389500.KS (에스비비테크) → Too Many Requests. Rate limited. Try after a while.\n",
            "[WARN] dividends fetch fail: 368970.KS (오에스피) → Too Many Requests. Rate limited. Try after a while.\n"
          ]
        },
        {
          "output_type": "stream",
          "name": "stderr",
          "text": [
            "\r배당 수집:  28%|██▊       | 279/1013 [00:58<02:01,  6.02it/s]"
          ]
        },
        {
          "output_type": "stream",
          "name": "stdout",
          "text": [
            "[WARN] dividends fetch fail: 417970.KS (모델솔루션) → Too Many Requests. Rate limited. Try after a while.\n"
          ]
        },
        {
          "output_type": "stream",
          "name": "stderr",
          "text": [
            "\r배당 수집:  28%|██▊       | 280/1013 [00:58<03:13,  3.78it/s]"
          ]
        },
        {
          "output_type": "stream",
          "name": "stdout",
          "text": [
            "[WARN] dividends fetch fail: 296640.KS (이노룰스) → Too Many Requests. Rate limited. Try after a while.\n"
          ]
        },
        {
          "output_type": "stream",
          "name": "stderr",
          "text": [
            "배당 수집:  28%|██▊       | 283/1013 [00:59<02:15,  5.39it/s]"
          ]
        },
        {
          "output_type": "stream",
          "name": "stdout",
          "text": [
            "[WARN] dividends fetch fail: 441270.KS (파인엠텍) → Too Many Requests. Rate limited. Try after a while.\n",
            "[WARN] dividends fetch fail: 432320.KS (KB스타리츠) → Too Many Requests. Rate limited. Try after a while.\n",
            "[WARN] dividends fetch fail: 067370.KS (선바이오) → Too Many Requests. Rate limited. Try after a while.\n"
          ]
        },
        {
          "output_type": "stream",
          "name": "stderr",
          "text": [
            "\r배당 수집:  28%|██▊       | 284/1013 [00:59<02:04,  5.87it/s]"
          ]
        },
        {
          "output_type": "stream",
          "name": "stdout",
          "text": [
            "[WARN] dividends fetch fail: 393890.KS (더블유씨피) → Too Many Requests. Rate limited. Try after a while.\n",
            "[WARN] dividends fetch fail: 314140.KS (알피바이오) → Too Many Requests. Rate limited. Try after a while.\n"
          ]
        },
        {
          "output_type": "stream",
          "name": "stderr",
          "text": [
            "\r배당 수집:  28%|██▊       | 286/1013 [00:59<01:48,  6.72it/s]"
          ]
        },
        {
          "output_type": "stream",
          "name": "stdout",
          "text": [
            "[WARN] dividends fetch fail: 413300.KS (티엘엔지니어링) → Too Many Requests. Rate limited. Try after a while.\n"
          ]
        },
        {
          "output_type": "stream",
          "name": "stderr",
          "text": [
            "\r배당 수집:  28%|██▊       | 287/1013 [00:59<02:01,  5.98it/s]"
          ]
        },
        {
          "output_type": "stream",
          "name": "stdout",
          "text": [
            "[WARN] dividends fetch fail: 394280.KS (오픈엣지테크놀로지) → Too Many Requests. Rate limited. Try after a while.\n"
          ]
        },
        {
          "output_type": "stream",
          "name": "stderr",
          "text": [
            "\r배당 수집:  28%|██▊       | 288/1013 [01:00<03:24,  3.54it/s]"
          ]
        },
        {
          "output_type": "stream",
          "name": "stdout",
          "text": [
            "[WARN] dividends fetch fail: 430220.KS (신영스팩8호) → Too Many Requests. Rate limited. Try after a while.\n"
          ]
        },
        {
          "output_type": "stream",
          "name": "stderr",
          "text": [
            "배당 수집:  29%|██▊       | 291/1013 [01:00<02:18,  5.21it/s]"
          ]
        },
        {
          "output_type": "stream",
          "name": "stdout",
          "text": [
            "[WARN] dividends fetch fail: 129920.KS (대성하이텍) → Too Many Requests. Rate limited. Try after a while.\n",
            "[WARN] dividends fetch fail: 403550.KS (쏘카) → Too Many Requests. Rate limited. Try after a while.\n",
            "[WARN] dividends fetch fail: 148930.KS (에이치와이티씨) → Too Many Requests. Rate limited. Try after a while.\n"
          ]
        },
        {
          "output_type": "stream",
          "name": "stderr",
          "text": [
            "\r배당 수집:  29%|██▉       | 293/1013 [01:01<01:50,  6.52it/s]"
          ]
        },
        {
          "output_type": "stream",
          "name": "stdout",
          "text": [
            "[WARN] dividends fetch fail: 107600.KS (새빗켐) → Too Many Requests. Rate limited. Try after a while.\n",
            "[WARN] dividends fetch fail: 126720.KS (수산인더스트리) → Too Many Requests. Rate limited. Try after a while.\n"
          ]
        },
        {
          "output_type": "stream",
          "name": "stderr",
          "text": [
            "\r배당 수집:  29%|██▉       | 294/1013 [01:01<01:48,  6.61it/s]"
          ]
        },
        {
          "output_type": "stream",
          "name": "stdout",
          "text": [
            "[WARN] dividends fetch fail: 368600.KS (아이씨에이치) → Too Many Requests. Rate limited. Try after a while.\n"
          ]
        },
        {
          "output_type": "stream",
          "name": "stderr",
          "text": [
            "\r배당 수집:  29%|██▉       | 295/1013 [01:01<02:02,  5.84it/s]"
          ]
        },
        {
          "output_type": "stream",
          "name": "stdout",
          "text": [
            "[WARN] dividends fetch fail: 365340.KS (성일하이텍) → Too Many Requests. Rate limited. Try after a while.\n"
          ]
        },
        {
          "output_type": "stream",
          "name": "stderr",
          "text": [
            "\r배당 수집:  29%|██▉       | 296/1013 [01:02<03:35,  3.32it/s]"
          ]
        },
        {
          "output_type": "stream",
          "name": "stdout",
          "text": [
            "[WARN] dividends fetch fail: 397030.KS (에이프릴바이오) → Too Many Requests. Rate limited. Try after a while.\n"
          ]
        },
        {
          "output_type": "stream",
          "name": "stderr",
          "text": [
            "배당 수집:  30%|██▉       | 299/1013 [01:02<02:17,  5.19it/s]"
          ]
        },
        {
          "output_type": "stream",
          "name": "stdout",
          "text": [
            "[WARN] dividends fetch fail: 341170.KS (퓨쳐메디신) → Too Many Requests. Rate limited. Try after a while.\n",
            "[WARN] dividends fetch fail: 424760.KS (벨로크) → Too Many Requests. Rate limited. Try after a while.\n",
            "[WARN] dividends fetch fail: 328130.KS (루닛) → Too Many Requests. Rate limited. Try after a while.\n"
          ]
        },
        {
          "output_type": "stream",
          "name": "stderr",
          "text": [
            "\r배당 수집:  30%|██▉       | 301/1013 [01:02<01:48,  6.57it/s]"
          ]
        },
        {
          "output_type": "stream",
          "name": "stdout",
          "text": [
            "[WARN] dividends fetch fail: 354390.KS (바스칸바이오제약) → Too Many Requests. Rate limited. Try after a while.\n",
            "[WARN] dividends fetch fail: 403870.KS (HPSP) → Too Many Requests. Rate limited. Try after a while.\n"
          ]
        },
        {
          "output_type": "stream",
          "name": "stderr",
          "text": [
            "\r배당 수집:  30%|██▉       | 302/1013 [01:02<01:45,  6.71it/s]"
          ]
        },
        {
          "output_type": "stream",
          "name": "stdout",
          "text": [
            "[WARN] dividends fetch fail: 112290.KS (와이씨켐) → Too Many Requests. Rate limited. Try after a while.\n"
          ]
        },
        {
          "output_type": "stream",
          "name": "stderr",
          "text": [
            "\r배당 수집:  30%|██▉       | 303/1013 [01:03<02:28,  4.79it/s]"
          ]
        },
        {
          "output_type": "stream",
          "name": "stdout",
          "text": [
            "[WARN] dividends fetch fail: 402030.KS (코난테크놀로지) → Too Many Requests. Rate limited. Try after a while.\n"
          ]
        },
        {
          "output_type": "stream",
          "name": "stderr",
          "text": [
            "\r배당 수집:  30%|███       | 304/1013 [01:03<03:26,  3.44it/s]"
          ]
        },
        {
          "output_type": "stream",
          "name": "stdout",
          "text": [
            "[WARN] dividends fetch fail: 396270.KS (넥스트칩) → Too Many Requests. Rate limited. Try after a while.\n"
          ]
        },
        {
          "output_type": "stream",
          "name": "stderr",
          "text": [
            "배당 수집:  30%|███       | 307/1013 [01:04<02:13,  5.30it/s]"
          ]
        },
        {
          "output_type": "stream",
          "name": "stdout",
          "text": [
            "[WARN] dividends fetch fail: 412350.KS (레이저쎌) → Too Many Requests. Rate limited. Try after a while.\n",
            "[WARN] dividends fetch fail: 310210.KS (보로노이) → Too Many Requests. Rate limited. Try after a while.\n",
            "[WARN] dividends fetch fail: 377460.KS (위니아에이드) → Too Many Requests. Rate limited. Try after a while.\n"
          ]
        },
        {
          "output_type": "stream",
          "name": "stderr",
          "text": [
            "\r배당 수집:  31%|███       | 309/1013 [01:04<01:46,  6.62it/s]"
          ]
        },
        {
          "output_type": "stream",
          "name": "stdout",
          "text": [
            "[WARN] dividends fetch fail: 148780.KS (비큐AI) → Too Many Requests. Rate limited. Try after a while.\n",
            "[WARN] dividends fetch fail: 382900.KS (범한퓨얼셀) → Too Many Requests. Rate limited. Try after a while.\n"
          ]
        },
        {
          "output_type": "stream",
          "name": "stderr",
          "text": [
            "\r배당 수집:  31%|███       | 310/1013 [01:04<01:41,  6.89it/s]"
          ]
        },
        {
          "output_type": "stream",
          "name": "stdout",
          "text": [
            "[WARN] dividends fetch fail: 176590.KS (코나솔) → Too Many Requests. Rate limited. Try after a while.\n"
          ]
        },
        {
          "output_type": "stream",
          "name": "stderr",
          "text": [
            "\r배당 수집:  31%|███       | 311/1013 [01:04<02:25,  4.81it/s]"
          ]
        },
        {
          "output_type": "stream",
          "name": "stdout",
          "text": [
            "[WARN] dividends fetch fail: 362320.KS (청담글로벌) → Too Many Requests. Rate limited. Try after a while.\n"
          ]
        },
        {
          "output_type": "stream",
          "name": "stderr",
          "text": [
            "\r배당 수집:  31%|███       | 312/1013 [01:05<03:21,  3.49it/s]"
          ]
        },
        {
          "output_type": "stream",
          "name": "stdout",
          "text": [
            "[WARN] dividends fetch fail: 357430.KS (마스턴프리미어리츠) → Too Many Requests. Rate limited. Try after a while.\n"
          ]
        },
        {
          "output_type": "stream",
          "name": "stderr",
          "text": [
            "배당 수집:  31%|███       | 316/1013 [01:05<01:57,  5.95it/s]"
          ]
        },
        {
          "output_type": "stream",
          "name": "stdout",
          "text": [
            "[WARN] dividends fetch fail: 399720.KS (가온칩스) → Too Many Requests. Rate limited. Try after a while.\n",
            "[WARN] dividends fetch fail: 389260.KS (대명에너지) → Too Many Requests. Rate limited. Try after a while.\n",
            "[WARN] dividends fetch fail: 389140.KS (포바이포) → Too Many Requests. Rate limited. Try after a while.\n",
            "[WARN] dividends fetch fail: 388050.KS (지투파워) → Too Many Requests. Rate limited. Try after a while.\n"
          ]
        },
        {
          "output_type": "stream",
          "name": "stderr",
          "text": [
            "\r배당 수집:  31%|███▏      | 317/1013 [01:05<01:50,  6.28it/s]"
          ]
        },
        {
          "output_type": "stream",
          "name": "stdout",
          "text": [
            "[WARN] dividends fetch fail: 413630.KS (씨피시스템) → Too Many Requests. Rate limited. Try after a while.\n",
            "[WARN] dividends fetch fail: 417310.KS (코람코더원리츠) → Too Many Requests. Rate limited. Try after a while.\n"
          ]
        },
        {
          "output_type": "stream",
          "name": "stderr",
          "text": [
            "\r배당 수집:  31%|███▏      | 319/1013 [01:06<02:14,  5.15it/s]"
          ]
        },
        {
          "output_type": "stream",
          "name": "stdout",
          "text": [
            "[WARN] dividends fetch fail: 396300.KS (세아메카닉스) → Too Many Requests. Rate limited. Try after a while.\n"
          ]
        },
        {
          "output_type": "stream",
          "name": "stderr",
          "text": [
            "\r배당 수집:  32%|███▏      | 320/1013 [01:06<03:00,  3.85it/s]"
          ]
        },
        {
          "output_type": "stream",
          "name": "stdout",
          "text": [
            "[WARN] dividends fetch fail: 366030.KS (공구우먼) → Too Many Requests. Rate limited. Try after a while.\n"
          ]
        },
        {
          "output_type": "stream",
          "name": "stderr",
          "text": [
            "배당 수집:  32%|███▏      | 323/1013 [01:07<02:06,  5.46it/s]"
          ]
        },
        {
          "output_type": "stream",
          "name": "stdout",
          "text": [
            "[WARN] dividends fetch fail: 388720.KS (유일로보틱스) → Too Many Requests. Rate limited. Try after a while.\n",
            "[WARN] dividends fetch fail: 288980.KS (모아데이타) → Too Many Requests. Rate limited. Try after a while.\n",
            "[WARN] dividends fetch fail: 408920.KS (메쎄이상) → Too Many Requests. Rate limited. Try after a while.\n",
            "[WARN] dividends fetch fail: 376930.KS (노을) → Too Many Requests. Rate limited. Try after a while.\n"
          ]
        },
        {
          "output_type": "stream",
          "name": "stderr",
          "text": [
            "\r배당 수집:  32%|███▏      | 325/1013 [01:07<01:47,  6.40it/s]"
          ]
        },
        {
          "output_type": "stream",
          "name": "stdout",
          "text": [
            "[WARN] dividends fetch fail: 146320.KS (비씨엔씨) → Too Many Requests. Rate limited. Try after a while.\n",
            "[WARN] dividends fetch fail: 371950.KS (풍원정밀) → Too Many Requests. Rate limited. Try after a while.\n"
          ]
        },
        {
          "output_type": "stream",
          "name": "stderr",
          "text": [
            "\r배당 수집:  32%|███▏      | 327/1013 [01:08<02:09,  5.28it/s]"
          ]
        },
        {
          "output_type": "stream",
          "name": "stdout",
          "text": [
            "[WARN] dividends fetch fail: 330730.KS (스톤브릿지벤처스) → Too Many Requests. Rate limited. Try after a while.\n"
          ]
        },
        {
          "output_type": "stream",
          "name": "stderr",
          "text": [
            "\r배당 수집:  32%|███▏      | 328/1013 [01:08<02:50,  4.03it/s]"
          ]
        },
        {
          "output_type": "stream",
          "name": "stdout",
          "text": [
            "[WARN] dividends fetch fail: 365900.KS (브이씨) → Too Many Requests. Rate limited. Try after a while.\n"
          ]
        },
        {
          "output_type": "stream",
          "name": "stderr",
          "text": [
            "배당 수집:  33%|███▎      | 331/1013 [01:09<02:05,  5.45it/s]"
          ]
        },
        {
          "output_type": "stream",
          "name": "stdout",
          "text": [
            "[WARN] dividends fetch fail: 370090.KS (퓨런티어) → Too Many Requests. Rate limited. Try after a while.\n",
            "[WARN] dividends fetch fail: 251120.KS (바이오에프디엔씨) → Too Many Requests. Rate limited. Try after a while.\n",
            "[WARN] dividends fetch fail: 211050.KS (인카금융서비스) → Too Many Requests. Rate limited. Try after a while.\n",
            "[WARN] dividends fetch fail: 137080.KS (나래나노텍) → Too Many Requests. Rate limited. Try after a while.\n"
          ]
        },
        {
          "output_type": "stream",
          "name": "stderr",
          "text": [
            "\r배당 수집:  33%|███▎      | 333/1013 [01:09<01:46,  6.38it/s]"
          ]
        },
        {
          "output_type": "stream",
          "name": "stdout",
          "text": [
            "[WARN] dividends fetch fail: 136410.KS (아셈스) → Too Many Requests. Rate limited. Try after a while.\n",
            "[WARN] dividends fetch fail: 276040.KS (스코넥) → Too Many Requests. Rate limited. Try after a while.\n"
          ]
        },
        {
          "output_type": "stream",
          "name": "stderr",
          "text": [
            "\r배당 수집:  33%|███▎      | 335/1013 [01:09<02:07,  5.31it/s]"
          ]
        },
        {
          "output_type": "stream",
          "name": "stdout",
          "text": [
            "[WARN] dividends fetch fail: 377330.KS (이지트로닉스) → Too Many Requests. Rate limited. Try after a while.\n"
          ]
        },
        {
          "output_type": "stream",
          "name": "stderr",
          "text": [
            "\r배당 수집:  33%|███▎      | 336/1013 [01:10<02:44,  4.10it/s]"
          ]
        },
        {
          "output_type": "stream",
          "name": "stdout",
          "text": [
            "[WARN] dividends fetch fail: 373220.KS (LG에너지솔루션) → Too Many Requests. Rate limited. Try after a while.\n"
          ]
        },
        {
          "output_type": "stream",
          "name": "stderr",
          "text": [
            "배당 수집:  33%|███▎      | 339/1013 [01:10<02:04,  5.43it/s]"
          ]
        },
        {
          "output_type": "stream",
          "name": "stdout",
          "text": [
            "[WARN] dividends fetch fail: 179530.KS (애드바이오텍) → Too Many Requests. Rate limited. Try after a while.\n",
            "[WARN] dividends fetch fail: 102370.KS (케이옥션) → Too Many Requests. Rate limited. Try after a while.\n",
            "[WARN] dividends fetch fail: 169670.KS (코스텍시스템) → Too Many Requests. Rate limited. Try after a while.\n",
            "[WARN] dividends fetch fail: 353590.KS (오토앤) → Too Many Requests. Rate limited. Try after a while.\n"
          ]
        },
        {
          "output_type": "stream",
          "name": "stderr",
          "text": [
            "\r배당 수집:  34%|███▎      | 341/1013 [01:10<01:44,  6.45it/s]"
          ]
        },
        {
          "output_type": "stream",
          "name": "stdout",
          "text": [
            "[WARN] dividends fetch fail: 200350.KS (아티스트스튜디오) → Too Many Requests. Rate limited. Try after a while.\n",
            "[WARN] dividends fetch fail: 403360.KS (라피치) → Too Many Requests. Rate limited. Try after a while.\n"
          ]
        },
        {
          "output_type": "stream",
          "name": "stderr",
          "text": [
            "\r배당 수집:  34%|███▍      | 343/1013 [01:11<02:05,  5.35it/s]"
          ]
        },
        {
          "output_type": "stream",
          "name": "stdout",
          "text": [
            "[WARN] dividends fetch fail: 254160.KS (제이엠멀티) → Too Many Requests. Rate limited. Try after a while.\n"
          ]
        },
        {
          "output_type": "stream",
          "name": "stderr",
          "text": [
            "\r배당 수집:  34%|███▍      | 344/1013 [01:11<02:42,  4.12it/s]"
          ]
        },
        {
          "output_type": "stream",
          "name": "stdout",
          "text": [
            "[WARN] dividends fetch fail: 404990.KS (신한서부티엔디리츠) → Too Many Requests. Rate limited. Try after a while.\n"
          ]
        },
        {
          "output_type": "stream",
          "name": "stderr",
          "text": [
            "배당 수집:  34%|███▍      | 348/1013 [01:12<01:49,  6.09it/s]"
          ]
        },
        {
          "output_type": "stream",
          "name": "stdout",
          "text": [
            "[WARN] dividends fetch fail: 199800.KS (툴젠) → Too Many Requests. Rate limited. Try after a while.\n",
            "[WARN] dividends fetch fail: 396690.KS (미래에셋글로벌리츠) → Too Many Requests. Rate limited. Try after a while.\n",
            "[WARN] dividends fetch fail: 402420.KS (켈스) → Too Many Requests. Rate limited. Try after a while.\n",
            "[WARN] dividends fetch fail: 402340.KS (SK스퀘어) → Too Many Requests. Rate limited. Try after a while.\n"
          ]
        },
        {
          "output_type": "stream",
          "name": "stderr",
          "text": [
            "\r배당 수집:  34%|███▍      | 349/1013 [01:12<01:45,  6.32it/s]"
          ]
        },
        {
          "output_type": "stream",
          "name": "stdout",
          "text": [
            "[WARN] dividends fetch fail: 377480.KS (마음AI) → Too Many Requests. Rate limited. Try after a while.\n",
            "[WARN] dividends fetch fail: 361570.KS (알비더블유) → Too Many Requests. Rate limited. Try after a while.\n"
          ]
        },
        {
          "output_type": "stream",
          "name": "stderr",
          "text": [
            "\r배당 수집:  35%|███▍      | 351/1013 [01:12<02:06,  5.23it/s]"
          ]
        },
        {
          "output_type": "stream",
          "name": "stdout",
          "text": [
            "[WARN] dividends fetch fail: 400760.KS (NH올원리츠) → Too Many Requests. Rate limited. Try after a while.\n"
          ]
        },
        {
          "output_type": "stream",
          "name": "stderr",
          "text": [
            "\r배당 수집:  35%|███▍      | 352/1013 [01:13<02:42,  4.08it/s]"
          ]
        },
        {
          "output_type": "stream",
          "name": "stdout",
          "text": [
            "[WARN] dividends fetch fail: 222160.KS (NPX) → Too Many Requests. Rate limited. Try after a while.\n"
          ]
        },
        {
          "output_type": "stream",
          "name": "stderr",
          "text": [
            "배당 수집:  35%|███▌      | 356/1013 [01:13<01:48,  6.07it/s]"
          ]
        },
        {
          "output_type": "stream",
          "name": "stdout",
          "text": [
            "[WARN] dividends fetch fail: 290090.KS (트윔) → Too Many Requests. Rate limited. Try after a while.\n",
            "[WARN] dividends fetch fail: 372800.KS (아이티아이즈) → Too Many Requests. Rate limited. Try after a while.\n",
            "[WARN] dividends fetch fail: 311320.KS (지오엘리먼트) → Too Many Requests. Rate limited. Try after a while.\n",
            "[WARN] dividends fetch fail: 357880.KS (SKAI) → Too Many Requests. Rate limited. Try after a while.\n"
          ]
        },
        {
          "output_type": "stream",
          "name": "stderr",
          "text": [
            "\r배당 수집:  35%|███▌      | 357/1013 [01:14<01:45,  6.24it/s]"
          ]
        },
        {
          "output_type": "stream",
          "name": "stdout",
          "text": [
            "[WARN] dividends fetch fail: 376300.KS (디어유) → Too Many Requests. Rate limited. Try after a while.\n",
            "[WARN] dividends fetch fail: 389030.KS (지니너스) → Too Many Requests. Rate limited. Try after a while.\n"
          ]
        },
        {
          "output_type": "stream",
          "name": "stderr",
          "text": [
            "\r배당 수집:  35%|███▌      | 359/1013 [01:14<02:05,  5.21it/s]"
          ]
        },
        {
          "output_type": "stream",
          "name": "stdout",
          "text": [
            "[WARN] dividends fetch fail: 377300.KS (카카오페이) → Too Many Requests. Rate limited. Try after a while.\n"
          ]
        },
        {
          "output_type": "stream",
          "name": "stderr",
          "text": [
            "\r배당 수집:  36%|███▌      | 360/1013 [01:15<02:40,  4.07it/s]"
          ]
        },
        {
          "output_type": "stream",
          "name": "stdout",
          "text": [
            "[WARN] dividends fetch fail: 376180.KS (피코그램) → Too Many Requests. Rate limited. Try after a while.\n"
          ]
        },
        {
          "output_type": "stream",
          "name": "stderr",
          "text": [
            "배당 수집:  36%|███▌      | 364/1013 [01:15<01:46,  6.09it/s]"
          ]
        },
        {
          "output_type": "stream",
          "name": "stdout",
          "text": [
            "[WARN] dividends fetch fail: 348370.KS (엔켐) → Too Many Requests. Rate limited. Try after a while.\n",
            "[WARN] dividends fetch fail: 377450.KS (리파인) → Too Many Requests. Rate limited. Try after a while.\n",
            "[WARN] dividends fetch fail: 382800.KS (지앤비에스 에코) → Too Many Requests. Rate limited. Try after a while.\n",
            "[WARN] dividends fetch fail: 114840.KS (아이패밀리에스씨) → Too Many Requests. Rate limited. Try after a while.\n"
          ]
        },
        {
          "output_type": "stream",
          "name": "stderr",
          "text": [
            "\r배당 수집:  36%|███▌      | 366/1013 [01:15<01:35,  6.75it/s]"
          ]
        },
        {
          "output_type": "stream",
          "name": "stdout",
          "text": [
            "[WARN] dividends fetch fail: 261780.KS (차백신연구소) → Too Many Requests. Rate limited. Try after a while.\n",
            "[WARN] dividends fetch fail: 382480.KS (지아이텍) → Too Many Requests. Rate limited. Try after a while.\n"
          ]
        },
        {
          "output_type": "stream",
          "name": "stderr",
          "text": [
            "\r배당 수집:  36%|███▌      | 367/1013 [01:16<02:15,  4.76it/s]"
          ]
        },
        {
          "output_type": "stream",
          "name": "stdout",
          "text": [
            "[WARN] dividends fetch fail: 391710.KS (코닉오토메이션) → Too Many Requests. Rate limited. Try after a while.\n"
          ]
        },
        {
          "output_type": "stream",
          "name": "stderr",
          "text": [
            "\r배당 수집:  36%|███▋      | 368/1013 [01:16<02:39,  4.05it/s]"
          ]
        },
        {
          "output_type": "stream",
          "name": "stdout",
          "text": [
            "[WARN] dividends fetch fail: 381970.KS (케이카) → Too Many Requests. Rate limited. Try after a while.\n"
          ]
        },
        {
          "output_type": "stream",
          "name": "stderr",
          "text": [
            "배당 수집:  37%|███▋      | 372/1013 [01:17<01:44,  6.16it/s]"
          ]
        },
        {
          "output_type": "stream",
          "name": "stdout",
          "text": [
            "[WARN] dividends fetch fail: 376290.KS (씨유테크) → Too Many Requests. Rate limited. Try after a while.\n",
            "[WARN] dividends fetch fail: 159010.KS (아스플로) → Too Many Requests. Rate limited. Try after a while.\n",
            "[WARN] dividends fetch fail: 382840.KS (원준) → Too Many Requests. Rate limited. Try after a while.\n",
            "[WARN] dividends fetch fail: 257720.KS (실리콘투) → Too Many Requests. Rate limited. Try after a while.\n"
          ]
        },
        {
          "output_type": "stream",
          "name": "stderr",
          "text": [
            "\r배당 수집:  37%|███▋      | 374/1013 [01:17<01:34,  6.79it/s]"
          ]
        },
        {
          "output_type": "stream",
          "name": "stdout",
          "text": [
            "[WARN] dividends fetch fail: 260970.KS (에스앤디) → Too Many Requests. Rate limited. Try after a while.\n",
            "[WARN] dividends fetch fail: 377220.KS (프롬바이오) → Too Many Requests. Rate limited. Try after a while.\n",
            "[WARN] dividends fetch fail: 099430.KS (바이오플러스) → Too Many Requests. Rate limited. Try after a while.\n"
          ]
        },
        {
          "output_type": "stream",
          "name": "stderr",
          "text": [
            "\r배당 수집:  37%|███▋      | 376/1013 [01:18<02:31,  4.21it/s]"
          ]
        },
        {
          "output_type": "stream",
          "name": "stdout",
          "text": [
            "[WARN] dividends fetch fail: 329180.KS (HD현대중공업) → Too Many Requests. Rate limited. Try after a while.\n"
          ]
        },
        {
          "output_type": "stream",
          "name": "stderr",
          "text": [
            "배당 수집:  37%|███▋      | 379/1013 [01:18<02:07,  4.98it/s]"
          ]
        },
        {
          "output_type": "stream",
          "name": "stdout",
          "text": [
            "[WARN] dividends fetch fail: 395400.KS (SK리츠) → Too Many Requests. Rate limited. Try after a while.\n",
            "[WARN] dividends fetch fail: 203400.KS (에이비온) → Too Many Requests. Rate limited. Try after a while.\n",
            "[WARN] dividends fetch fail: 273640.KS (와이엠텍) → Too Many Requests. Rate limited. Try after a while.\n",
            "[WARN] dividends fetch fail: 388790.KS (라이콤) → Too Many Requests. Rate limited. Try after a while.\n"
          ]
        },
        {
          "output_type": "stream",
          "name": "stderr",
          "text": [
            "\r배당 수집:  38%|███▊      | 381/1013 [01:19<01:39,  6.33it/s]"
          ]
        },
        {
          "output_type": "stream",
          "name": "stdout",
          "text": [
            "[WARN] dividends fetch fail: 271940.KS (일진하이솔루스) → Too Many Requests. Rate limited. Try after a while.\n",
            "[WARN] dividends fetch fail: 377190.KS (디앤디플랫폼리츠) → Too Many Requests. Rate limited. Try after a while.\n"
          ]
        },
        {
          "output_type": "stream",
          "name": "stderr",
          "text": [
            "\r배당 수집:  38%|███▊      | 383/1013 [01:19<02:05,  5.04it/s]"
          ]
        },
        {
          "output_type": "stream",
          "name": "stdout",
          "text": [
            "[WARN] dividends fetch fail: 308080.KS (바이젠셀) → Too Many Requests. Rate limited. Try after a while.\n"
          ]
        },
        {
          "output_type": "stream",
          "name": "stderr",
          "text": [
            "\r배당 수집:  38%|███▊      | 384/1013 [01:19<02:24,  4.35it/s]"
          ]
        },
        {
          "output_type": "stream",
          "name": "stdout",
          "text": [
            "[WARN] dividends fetch fail: 139990.KS (아주스틸) → Too Many Requests. Rate limited. Try after a while.\n"
          ]
        },
        {
          "output_type": "stream",
          "name": "stderr",
          "text": [
            "배당 수집:  38%|███▊      | 386/1013 [01:20<02:25,  4.30it/s]"
          ]
        },
        {
          "output_type": "stream",
          "name": "stdout",
          "text": [
            "[WARN] dividends fetch fail: 089860.KS (롯데렌탈) → Too Many Requests. Rate limited. Try after a while.\n",
            "[WARN] dividends fetch fail: 099390.KS (브레인즈컴퍼니) → Too Many Requests. Rate limited. Try after a while.\n",
            "[WARN] dividends fetch fail: 315640.KS (딥노이드) → Too Many Requests. Rate limited. Try after a while.\n",
            "[WARN] dividends fetch fail: 372910.KS (한컴라이프케어) → Too Many Requests. Rate limited. Try after a while.\n"
          ]
        },
        {
          "output_type": "stream",
          "name": "stderr",
          "text": [
            "\r배당 수집:  38%|███▊      | 389/1013 [01:20<01:30,  6.93it/s]"
          ]
        },
        {
          "output_type": "stream",
          "name": "stdout",
          "text": [
            "[WARN] dividends fetch fail: 058970.KS (엠로) → Too Many Requests. Rate limited. Try after a while.\n",
            "[WARN] dividends fetch fail: 367000.KS (플래티어) → Too Many Requests. Rate limited. Try after a while.\n"
          ]
        },
        {
          "output_type": "stream",
          "name": "stderr",
          "text": [
            "\r배당 수집:  39%|███▊      | 391/1013 [01:21<01:58,  5.27it/s]"
          ]
        },
        {
          "output_type": "stream",
          "name": "stdout",
          "text": [
            "[WARN] dividends fetch fail: 376980.KS (원티드랩) → Too Many Requests. Rate limited. Try after a while.\n"
          ]
        },
        {
          "output_type": "stream",
          "name": "stderr",
          "text": [
            "\r배당 수집:  39%|███▊      | 392/1013 [01:21<02:17,  4.51it/s]"
          ]
        },
        {
          "output_type": "stream",
          "name": "stdout",
          "text": [
            "[WARN] dividends fetch fail: 259960.KS (크래프톤) → Too Many Requests. Rate limited. Try after a while.\n"
          ]
        },
        {
          "output_type": "stream",
          "name": "stderr",
          "text": [
            "배당 수집:  39%|███▉      | 394/1013 [01:22<02:21,  4.38it/s]"
          ]
        },
        {
          "output_type": "stream",
          "name": "stdout",
          "text": [
            "[WARN] dividends fetch fail: 195940.KS (HK이노엔) → Too Many Requests. Rate limited. Try after a while.\n",
            "[WARN] dividends fetch fail: 178920.KS (PI첨단소재) → Too Many Requests. Rate limited. Try after a while.\n",
            "[WARN] dividends fetch fail: 270660.KS (에브리봇) → Too Many Requests. Rate limited. Try after a while.\n",
            "[WARN] dividends fetch fail: 323410.KS (카카오뱅크) → Too Many Requests. Rate limited. Try after a while.\n"
          ]
        },
        {
          "output_type": "stream",
          "name": "stderr",
          "text": [
            "\r배당 수집:  39%|███▉      | 397/1013 [01:22<01:28,  6.93it/s]"
          ]
        },
        {
          "output_type": "stream",
          "name": "stdout",
          "text": [
            "[WARN] dividends fetch fail: 377030.KS (비트맥스) → Too Many Requests. Rate limited. Try after a while.\n",
            "[WARN] dividends fetch fail: 365270.KS (큐라클) → Too Many Requests. Rate limited. Try after a while.\n"
          ]
        },
        {
          "output_type": "stream",
          "name": "stderr",
          "text": [
            "\r배당 수집:  39%|███▉      | 399/1013 [01:22<01:55,  5.32it/s]"
          ]
        },
        {
          "output_type": "stream",
          "name": "stdout",
          "text": [
            "[WARN] dividends fetch fail: 137310.KS (에스디바이오센서) → Too Many Requests. Rate limited. Try after a while.\n"
          ]
        },
        {
          "output_type": "stream",
          "name": "stderr",
          "text": [
            "\r배당 수집:  39%|███▉      | 400/1013 [01:23<02:15,  4.52it/s]"
          ]
        },
        {
          "output_type": "stream",
          "name": "stdout",
          "text": [
            "[WARN] dividends fetch fail: 352910.KS (오비고) → Too Many Requests. Rate limited. Try after a while.\n"
          ]
        },
        {
          "output_type": "stream",
          "name": "stderr",
          "text": [
            "배당 수집:  40%|███▉      | 402/1013 [01:23<02:17,  4.45it/s]"
          ]
        },
        {
          "output_type": "stream",
          "name": "stdout",
          "text": [
            "[WARN] dividends fetch fail: 097520.KS (엠씨넥스) → Too Many Requests. Rate limited. Try after a while.\n",
            "[WARN] dividends fetch fail: 357580.KS (아모센스) → Too Many Requests. Rate limited. Try after a while.\n",
            "[WARN] dividends fetch fail: 303530.KS (이노뎁) → Too Many Requests. Rate limited. Try after a while.\n"
          ]
        },
        {
          "output_type": "stream",
          "name": "stderr",
          "text": [
            "배당 수집:  40%|████      | 406/1013 [01:24<01:17,  7.83it/s]"
          ]
        },
        {
          "output_type": "stream",
          "name": "stdout",
          "text": [
            "[WARN] dividends fetch fail: 318660.KS (타임기술) → Too Many Requests. Rate limited. Try after a while.\n",
            "[WARN] dividends fetch fail: 232680.KS (라온테크) → Too Many Requests. Rate limited. Try after a while.\n",
            "[WARN] dividends fetch fail: 379390.KS (이성씨엔아이) → Too Many Requests. Rate limited. Try after a while.\n",
            "[WARN] dividends fetch fail: 187660.KS (현대ADM) → Too Many Requests. Rate limited. Try after a while.\n"
          ]
        },
        {
          "output_type": "stream",
          "name": "stderr",
          "text": [
            "\r배당 수집:  40%|████      | 408/1013 [01:24<02:19,  4.33it/s]"
          ]
        },
        {
          "output_type": "stream",
          "name": "stdout",
          "text": [
            "[WARN] dividends fetch fail: 383310.KS (에코프로에이치엔) → Too Many Requests. Rate limited. Try after a while.\n"
          ]
        },
        {
          "output_type": "stream",
          "name": "stderr",
          "text": [
            "배당 수집:  40%|████      | 410/1013 [01:25<02:17,  4.38it/s]"
          ]
        },
        {
          "output_type": "stream",
          "name": "stdout",
          "text": [
            "[WARN] dividends fetch fail: 383800.KS (LX홀딩스) → Too Many Requests. Rate limited. Try after a while.\n",
            "[WARN] dividends fetch fail: 363250.KS (진시스템) → Too Many Requests. Rate limited. Try after a while.\n"
          ]
        },
        {
          "output_type": "stream",
          "name": "stderr",
          "text": [
            "배당 수집:  41%|████      | 413/1013 [01:25<01:27,  6.85it/s]"
          ]
        },
        {
          "output_type": "stream",
          "name": "stdout",
          "text": [
            "[WARN] dividends fetch fail: 276730.KS (한울앤제주) → Too Many Requests. Rate limited. Try after a while.\n",
            "[WARN] dividends fetch fail: 383220.KS (F&F) → Too Many Requests. Rate limited. Try after a while.\n",
            "[WARN] dividends fetch fail: 361670.KS (삼영에스앤씨) → Too Many Requests. Rate limited. Try after a while.\n",
            "[WARN] dividends fetch fail: 252990.KS (샘씨엔에스) → Too Many Requests. Rate limited. Try after a while.\n"
          ]
        },
        {
          "output_type": "stream",
          "name": "stderr",
          "text": [
            "\r배당 수집:  41%|████      | 415/1013 [01:26<01:54,  5.23it/s]"
          ]
        },
        {
          "output_type": "stream",
          "name": "stdout",
          "text": [
            "[WARN] dividends fetch fail: 352480.KS (씨앤씨인터내셔널) → Too Many Requests. Rate limited. Try after a while.\n"
          ]
        },
        {
          "output_type": "stream",
          "name": "stderr",
          "text": [
            "\r배당 수집:  41%|████      | 416/1013 [01:26<02:15,  4.42it/s]"
          ]
        },
        {
          "output_type": "stream",
          "name": "stdout",
          "text": [
            "[WARN] dividends fetch fail: 357230.KS (에이치피오) → Too Many Requests. Rate limited. Try after a while.\n"
          ]
        },
        {
          "output_type": "stream",
          "name": "stderr",
          "text": [
            "배당 수집:  41%|████▏     | 418/1013 [01:27<02:13,  4.46it/s]"
          ]
        },
        {
          "output_type": "stream",
          "name": "stdout",
          "text": [
            "[WARN] dividends fetch fail: 361610.KS (SK아이이테크놀로지) → Too Many Requests. Rate limited. Try after a while.\n",
            "[WARN] dividends fetch fail: 294570.KS (쿠콘) → Too Many Requests. Rate limited. Try after a while.\n"
          ]
        },
        {
          "output_type": "stream",
          "name": "stderr",
          "text": [
            "배당 수집:  42%|████▏     | 421/1013 [01:27<01:23,  7.08it/s]"
          ]
        },
        {
          "output_type": "stream",
          "name": "stdout",
          "text": [
            "[WARN] dividends fetch fail: 351330.KS (이삭엔지니어링) → Too Many Requests. Rate limited. Try after a while.\n",
            "[WARN] dividends fetch fail: 059270.KS (해성에어로보틱스) → Too Many Requests. Rate limited. Try after a while.\n",
            "[WARN] dividends fetch fail: 333620.KS (엔시스) → Too Many Requests. Rate limited. Try after a while.\n",
            "[WARN] dividends fetch fail: 289220.KS (자이언트스텝) → Too Many Requests. Rate limited. Try after a while.\n"
          ]
        },
        {
          "output_type": "stream",
          "name": "stderr",
          "text": [
            "\r배당 수집:  42%|████▏     | 423/1013 [01:27<01:52,  5.27it/s]"
          ]
        },
        {
          "output_type": "stream",
          "name": "stdout",
          "text": [
            "[WARN] dividends fetch fail: 361390.KS (제노코) → Too Many Requests. Rate limited. Try after a while.\n"
          ]
        },
        {
          "output_type": "stream",
          "name": "stderr",
          "text": [
            "\r배당 수집:  42%|████▏     | 424/1013 [01:28<02:09,  4.54it/s]"
          ]
        },
        {
          "output_type": "stream",
          "name": "stdout",
          "text": [
            "[WARN] dividends fetch fail: 347700.KS (스피어) → Too Many Requests. Rate limited. Try after a while.\n"
          ]
        },
        {
          "output_type": "stream",
          "name": "stderr",
          "text": [
            "\r배당 수집:  42%|████▏     | 425/1013 [01:28<02:33,  3.84it/s]"
          ]
        },
        {
          "output_type": "stream",
          "name": "stdout",
          "text": [
            "[WARN] dividends fetch fail: 302440.KS (SK바이오사이언스) → Too Many Requests. Rate limited. Try after a while.\n",
            "[WARN] dividends fetch fail: 314930.KS (바이오다인) → Too Many Requests. Rate limited. Try after a while.\n"
          ]
        },
        {
          "output_type": "stream",
          "name": "stderr",
          "text": [
            "배당 수집:  42%|████▏     | 429/1013 [01:28<01:30,  6.46it/s]"
          ]
        },
        {
          "output_type": "stream",
          "name": "stdout",
          "text": [
            "[WARN] dividends fetch fail: 950220.KS (네오이뮨텍) → Too Many Requests. Rate limited. Try after a while.\n",
            "[WARN] dividends fetch fail: 378850.KS (화승알앤에이) → Too Many Requests. Rate limited. Try after a while.\n",
            "[WARN] dividends fetch fail: 356890.KS (싸이버원) → Too Many Requests. Rate limited. Try after a while.\n",
            "[WARN] dividends fetch fail: 334970.KS (프레스티지바이오로직스) → Too Many Requests. Rate limited. Try after a while.\n"
          ]
        },
        {
          "output_type": "stream",
          "name": "stderr",
          "text": [
            "\r배당 수집:  43%|████▎     | 431/1013 [01:29<01:51,  5.22it/s]"
          ]
        },
        {
          "output_type": "stream",
          "name": "stdout",
          "text": [
            "[WARN] dividends fetch fail: 247660.KS (나노씨엠에스) → Too Many Requests. Rate limited. Try after a while.\n"
          ]
        },
        {
          "output_type": "stream",
          "name": "stderr",
          "text": [
            "\r배당 수집:  43%|████▎     | 432/1013 [01:29<02:05,  4.61it/s]"
          ]
        },
        {
          "output_type": "stream",
          "name": "stdout",
          "text": [
            "[WARN] dividends fetch fail: 338220.KS (뷰노) → Too Many Requests. Rate limited. Try after a while.\n"
          ]
        },
        {
          "output_type": "stream",
          "name": "stderr",
          "text": [
            "\r배당 수집:  43%|████▎     | 433/1013 [01:30<02:28,  3.89it/s]"
          ]
        },
        {
          "output_type": "stream",
          "name": "stdout",
          "text": [
            "[WARN] dividends fetch fail: 373200.KS (엑스플러스) → Too Many Requests. Rate limited. Try after a while.\n",
            "[WARN] dividends fetch fail: 340930.KS (유일에너테크) → Too Many Requests. Rate limited. Try after a while.\n"
          ]
        },
        {
          "output_type": "stream",
          "name": "stderr",
          "text": [
            "배당 수집:  43%|████▎     | 437/1013 [01:30<01:29,  6.44it/s]"
          ]
        },
        {
          "output_type": "stream",
          "name": "stdout",
          "text": [
            "[WARN] dividends fetch fail: 189330.KS (씨이랩) → Too Many Requests. Rate limited. Try after a while.\n",
            "[WARN] dividends fetch fail: 322310.KS (오로스테크놀로지) → Too Many Requests. Rate limited. Try after a while.\n",
            "[WARN] dividends fetch fail: 239890.KS (피엔에이치테크) → Too Many Requests. Rate limited. Try after a while.\n",
            "[WARN] dividends fetch fail: 363260.KS (모비데이즈) → Too Many Requests. Rate limited. Try after a while.\n"
          ]
        },
        {
          "output_type": "stream",
          "name": "stderr",
          "text": [
            "\r배당 수집:  43%|████▎     | 439/1013 [01:31<01:49,  5.23it/s]"
          ]
        },
        {
          "output_type": "stream",
          "name": "stdout",
          "text": [
            "[WARN] dividends fetch fail: 262840.KS (아이퀘스트) → Too Many Requests. Rate limited. Try after a while.\n"
          ]
        },
        {
          "output_type": "stream",
          "name": "stderr",
          "text": [
            "\r배당 수집:  43%|████▎     | 440/1013 [01:31<02:03,  4.64it/s]"
          ]
        },
        {
          "output_type": "stream",
          "name": "stdout",
          "text": [
            "[WARN] dividends fetch fail: 950210.KS (프레스티지바이오파마) → Too Many Requests. Rate limited. Try after a while.\n"
          ]
        },
        {
          "output_type": "stream",
          "name": "stderr",
          "text": [
            "배당 수집:  44%|████▎     | 442/1013 [01:31<02:09,  4.43it/s]"
          ]
        },
        {
          "output_type": "stream",
          "name": "stdout",
          "text": [
            "[WARN] dividends fetch fail: 277810.KS (레인보우로보틱스) → Too Many Requests. Rate limited. Try after a while.\n",
            "[WARN] dividends fetch fail: 321820.KS (아티스트컴퍼니) → Too Many Requests. Rate limited. Try after a while.\n"
          ]
        },
        {
          "output_type": "stream",
          "name": "stderr",
          "text": [
            "배당 수집:  44%|████▍     | 445/1013 [01:32<01:23,  6.83it/s]"
          ]
        },
        {
          "output_type": "stream",
          "name": "stdout",
          "text": [
            "[WARN] dividends fetch fail: 248070.KS (솔루엠) → Too Many Requests. Rate limited. Try after a while.\n",
            "[WARN] dividends fetch fail: 163730.KS (핑거) → Too Many Requests. Rate limited. Try after a while.\n",
            "[WARN] dividends fetch fail: 348030.KS (모비릭스) → Too Many Requests. Rate limited. Try after a while.\n",
            "[WARN] dividends fetch fail: 352700.KS (씨앤투스) → Too Many Requests. Rate limited. Try after a while.\n"
          ]
        },
        {
          "output_type": "stream",
          "name": "stderr",
          "text": [
            "\r배당 수집:  44%|████▍     | 447/1013 [01:32<01:47,  5.28it/s]"
          ]
        },
        {
          "output_type": "stream",
          "name": "stdout",
          "text": [
            "[WARN] dividends fetch fail: 086710.KS (선진뷰티사이언스) → Too Many Requests. Rate limited. Try after a while.\n"
          ]
        },
        {
          "output_type": "stream",
          "name": "stderr",
          "text": [
            "\r배당 수집:  44%|████▍     | 448/1013 [01:33<01:59,  4.73it/s]"
          ]
        },
        {
          "output_type": "stream",
          "name": "stdout",
          "text": [
            "[WARN] dividends fetch fail: 375500.KS (DL이앤씨) → Too Many Requests. Rate limited. Try after a while.\n"
          ]
        },
        {
          "output_type": "stream",
          "name": "stderr",
          "text": [
            "배당 수집:  44%|████▍     | 450/1013 [01:33<02:05,  4.50it/s]"
          ]
        },
        {
          "output_type": "stream",
          "name": "stdout",
          "text": [
            "[WARN] dividends fetch fail: 236810.KS (엔비티) → Too Many Requests. Rate limited. Try after a while.\n",
            "[WARN] dividends fetch fail: 368770.KS (파이버프로) → Too Many Requests. Rate limited. Try after a while.\n"
          ]
        },
        {
          "output_type": "stream",
          "name": "stderr",
          "text": [
            "배당 수집:  45%|████▍     | 453/1013 [01:33<01:20,  6.99it/s]"
          ]
        },
        {
          "output_type": "stream",
          "name": "stdout",
          "text": [
            "[WARN] dividends fetch fail: 257990.KS (나우코스) → Too Many Requests. Rate limited. Try after a while.\n",
            "[WARN] dividends fetch fail: 253610.KS (루트락) → Too Many Requests. Rate limited. Try after a while.\n",
            "[WARN] dividends fetch fail: 365550.KS (ESR켄달스퀘어리츠) → Too Many Requests. Rate limited. Try after a while.\n",
            "[WARN] dividends fetch fail: 369370.KS (블리츠웨이엔터테인먼트) → Too Many Requests. Rate limited. Try after a while.\n"
          ]
        },
        {
          "output_type": "stream",
          "name": "stderr",
          "text": [
            "\r배당 수집:  45%|████▍     | 455/1013 [01:34<01:45,  5.30it/s]"
          ]
        },
        {
          "output_type": "stream",
          "name": "stdout",
          "text": [
            "[WARN] dividends fetch fail: 357550.KS (석경에이티) → Too Many Requests. Rate limited. Try after a while.\n"
          ]
        },
        {
          "output_type": "stream",
          "name": "stderr",
          "text": [
            "\r배당 수집:  45%|████▌     | 456/1013 [01:34<01:57,  4.75it/s]"
          ]
        },
        {
          "output_type": "stream",
          "name": "stdout",
          "text": [
            "[WARN] dividends fetch fail: 314130.KS (지놈앤컴퍼니) → Too Many Requests. Rate limited. Try after a while.\n"
          ]
        },
        {
          "output_type": "stream",
          "name": "stderr",
          "text": [
            "배당 수집:  45%|████▌     | 458/1013 [01:35<02:02,  4.54it/s]"
          ]
        },
        {
          "output_type": "stream",
          "name": "stdout",
          "text": [
            "[WARN] dividends fetch fail: 335810.KS (프리시젼바이오) → Too Many Requests. Rate limited. Try after a while.\n",
            "[WARN] dividends fetch fail: 347860.KS (알체라) → Too Many Requests. Rate limited. Try after a while.\n"
          ]
        },
        {
          "output_type": "stream",
          "name": "stderr",
          "text": [
            "배당 수집:  46%|████▌     | 462/1013 [01:35<01:12,  7.61it/s]"
          ]
        },
        {
          "output_type": "stream",
          "name": "stdout",
          "text": [
            "[WARN] dividends fetch fail: 365590.KS (하이딥) → Too Many Requests. Rate limited. Try after a while.\n",
            "[WARN] dividends fetch fail: 064850.KS (에프앤가이드) → Too Many Requests. Rate limited. Try after a while.\n",
            "[WARN] dividends fetch fail: 356860.KS (티엘비) → Too Many Requests. Rate limited. Try after a while.\n",
            "[WARN] dividends fetch fail: 352940.KS (인바이오) → Too Many Requests. Rate limited. Try after a while.\n"
          ]
        },
        {
          "output_type": "stream",
          "name": "stderr",
          "text": [
            "\r배당 수집:  46%|████▌     | 463/1013 [01:36<01:51,  4.93it/s]"
          ]
        },
        {
          "output_type": "stream",
          "name": "stdout",
          "text": [
            "[WARN] dividends fetch fail: 354200.KS (엔젠바이오) → Too Many Requests. Rate limited. Try after a while.\n"
          ]
        },
        {
          "output_type": "stream",
          "name": "stderr",
          "text": [
            "\r배당 수집:  46%|████▌     | 464/1013 [01:36<01:56,  4.70it/s]"
          ]
        },
        {
          "output_type": "stream",
          "name": "stdout",
          "text": [
            "[WARN] dividends fetch fail: 317690.KS (퀀타매트릭스) → Too Many Requests. Rate limited. Try after a while.\n"
          ]
        },
        {
          "output_type": "stream",
          "name": "stderr",
          "text": [
            "배당 수집:  46%|████▌     | 466/1013 [01:36<02:12,  4.14it/s]"
          ]
        },
        {
          "output_type": "stream",
          "name": "stdout",
          "text": [
            "[WARN] dividends fetch fail: 009900.KS (명신산업) → Too Many Requests. Rate limited. Try after a while.\n",
            "[WARN] dividends fetch fail: 352770.KS (셀레스트라) → Too Many Requests. Rate limited. Try after a while.\n"
          ]
        },
        {
          "output_type": "stream",
          "name": "stderr",
          "text": [
            "배당 수집:  46%|████▋     | 470/1013 [01:37<01:09,  7.78it/s]"
          ]
        },
        {
          "output_type": "stream",
          "name": "stdout",
          "text": [
            "[WARN] dividends fetch fail: 318020.KS (포인트모바일) → Too Many Requests. Rate limited. Try after a while.\n",
            "[WARN] dividends fetch fail: 129890.KS (앱코) → Too Many Requests. Rate limited. Try after a while.\n",
            "[WARN] dividends fetch fail: 265740.KS (엔에프씨) → Too Many Requests. Rate limited. Try after a while.\n",
            "[WARN] dividends fetch fail: 199820.KS (제일일렉트릭) → Too Many Requests. Rate limited. Try after a while.\n"
          ]
        },
        {
          "output_type": "stream",
          "name": "stderr",
          "text": [
            "\r배당 수집:  46%|████▋     | 471/1013 [01:37<01:48,  4.97it/s]"
          ]
        },
        {
          "output_type": "stream",
          "name": "stdout",
          "text": [
            "[WARN] dividends fetch fail: 299030.KS (하나기술) → Too Many Requests. Rate limited. Try after a while.\n"
          ]
        },
        {
          "output_type": "stream",
          "name": "stderr",
          "text": [
            "\r배당 수집:  47%|████▋     | 472/1013 [01:37<01:53,  4.76it/s]"
          ]
        },
        {
          "output_type": "stream",
          "name": "stdout",
          "text": [
            "[WARN] dividends fetch fail: 244920.KS (에이플러스에셋) → Too Many Requests. Rate limited. Try after a while.\n"
          ]
        },
        {
          "output_type": "stream",
          "name": "stderr",
          "text": [
            "배당 수집:  47%|████▋     | 474/1013 [01:38<02:09,  4.17it/s]"
          ]
        },
        {
          "output_type": "stream",
          "name": "stdout",
          "text": [
            "[WARN] dividends fetch fail: 340570.KS (티앤엘) → Too Many Requests. Rate limited. Try after a while.\n",
            "[WARN] dividends fetch fail: 348150.KS (고바이오랩) → Too Many Requests. Rate limited. Try after a while.\n"
          ]
        },
        {
          "output_type": "stream",
          "name": "stderr",
          "text": [
            "배당 수집:  47%|████▋     | 478/1013 [01:38<01:09,  7.74it/s]"
          ]
        },
        {
          "output_type": "stream",
          "name": "stdout",
          "text": [
            "[WARN] dividends fetch fail: 330860.KS (네패스아크) → Too Many Requests. Rate limited. Try after a while.\n",
            "[WARN] dividends fetch fail: 339770.KS (교촌에프앤비) → Too Many Requests. Rate limited. Try after a while.\n",
            "[WARN] dividends fetch fail: 290690.KS (소룩스) → Too Many Requests. Rate limited. Try after a while.\n",
            "[WARN] dividends fetch fail: 348350.KS (위드텍) → Too Many Requests. Rate limited. Try after a while.\n"
          ]
        },
        {
          "output_type": "stream",
          "name": "stderr",
          "text": [
            "\r배당 수집:  47%|████▋     | 479/1013 [01:39<01:47,  4.95it/s]"
          ]
        },
        {
          "output_type": "stream",
          "name": "stdout",
          "text": [
            "[WARN] dividends fetch fail: 347000.KS (센코) → Too Many Requests. Rate limited. Try after a while.\n"
          ]
        },
        {
          "output_type": "stream",
          "name": "stderr",
          "text": [
            "\r배당 수집:  47%|████▋     | 480/1013 [01:39<01:50,  4.81it/s]"
          ]
        },
        {
          "output_type": "stream",
          "name": "stdout",
          "text": [
            "[WARN] dividends fetch fail: 301300.KS (바이브컴퍼니) → Too Many Requests. Rate limited. Try after a while.\n"
          ]
        },
        {
          "output_type": "stream",
          "name": "stderr",
          "text": [
            "배당 수집:  48%|████▊     | 482/1013 [01:40<02:08,  4.14it/s]"
          ]
        },
        {
          "output_type": "stream",
          "name": "stdout",
          "text": [
            "[WARN] dividends fetch fail: 122830.KS (원포유) → Too Many Requests. Rate limited. Try after a while.\n",
            "[WARN] dividends fetch fail: 214610.KS (더바이오메드) → Too Many Requests. Rate limited. Try after a while.\n"
          ]
        },
        {
          "output_type": "stream",
          "name": "stderr",
          "text": [
            "배당 수집:  48%|████▊     | 485/1013 [01:40<01:13,  7.16it/s]"
          ]
        },
        {
          "output_type": "stream",
          "name": "stdout",
          "text": [
            "[WARN] dividends fetch fail: 304840.KS (피플바이오) → Too Many Requests. Rate limited. Try after a while.\n",
            "[WARN] dividends fetch fail: 352820.KS (하이브) → Too Many Requests. Rate limited. Try after a while.\n",
            "[WARN] dividends fetch fail: 348210.KS (넥스틴) → Too Many Requests. Rate limited. Try after a while.\n",
            "[WARN] dividends fetch fail: 053080.KS (케이엔솔) → Too Many Requests. Rate limited. Try after a while.\n"
          ]
        },
        {
          "output_type": "stream",
          "name": "stderr",
          "text": [
            "\r배당 수집:  48%|████▊     | 487/1013 [01:40<01:42,  5.13it/s]"
          ]
        },
        {
          "output_type": "stream",
          "name": "stdout",
          "text": [
            "[WARN] dividends fetch fail: 126340.KS (비나텍) → Too Many Requests. Rate limited. Try after a while.\n"
          ]
        },
        {
          "output_type": "stream",
          "name": "stderr",
          "text": [
            "\r배당 수집:  48%|████▊     | 488/1013 [01:41<01:44,  5.01it/s]"
          ]
        },
        {
          "output_type": "stream",
          "name": "stdout",
          "text": [
            "[WARN] dividends fetch fail: 359090.KS (씨엔알리서치) → Too Many Requests. Rate limited. Try after a while.\n"
          ]
        },
        {
          "output_type": "stream",
          "name": "stderr",
          "text": [
            "배당 수집:  48%|████▊     | 490/1013 [01:41<02:03,  4.23it/s]"
          ]
        },
        {
          "output_type": "stream",
          "name": "stdout",
          "text": [
            "[WARN] dividends fetch fail: 323990.KS (박셀바이오) → Too Many Requests. Rate limited. Try after a while.\n",
            "[WARN] dividends fetch fail: 363280.KS (티와이홀딩스) → Too Many Requests. Rate limited. Try after a while.\n"
          ]
        },
        {
          "output_type": "stream",
          "name": "stderr",
          "text": [
            "배당 수집:  49%|████▊     | 493/1013 [01:41<01:12,  7.17it/s]"
          ]
        },
        {
          "output_type": "stream",
          "name": "stdout",
          "text": [
            "[WARN] dividends fetch fail: 318410.KS (비비씨) → Too Many Requests. Rate limited. Try after a while.\n",
            "[WARN] dividends fetch fail: 355150.KS (코스텍시스) → Too Many Requests. Rate limited. Try after a while.\n",
            "[WARN] dividends fetch fail: 347770.KS (핌스) → Too Many Requests. Rate limited. Try after a while.\n",
            "[WARN] dividends fetch fail: 291650.KS (압타머사이언스) → Too Many Requests. Rate limited. Try after a while.\n"
          ]
        },
        {
          "output_type": "stream",
          "name": "stderr",
          "text": [
            "\r배당 수집:  49%|████▉     | 495/1013 [01:42<01:41,  5.12it/s]"
          ]
        },
        {
          "output_type": "stream",
          "name": "stdout",
          "text": [
            "[WARN] dividends fetch fail: 294090.KS (이오플로우) → Too Many Requests. Rate limited. Try after a while.\n"
          ]
        },
        {
          "output_type": "stream",
          "name": "stderr",
          "text": [
            "\r배당 수집:  49%|████▉     | 496/1013 [01:42<01:41,  5.07it/s]"
          ]
        },
        {
          "output_type": "stream",
          "name": "stdout",
          "text": [
            "[WARN] dividends fetch fail: 293490.KS (카카오게임즈) → Too Many Requests. Rate limited. Try after a while.\n"
          ]
        },
        {
          "output_type": "stream",
          "name": "stderr",
          "text": [
            "배당 수집:  49%|████▉     | 498/1013 [01:43<02:00,  4.26it/s]"
          ]
        },
        {
          "output_type": "stream",
          "name": "stdout",
          "text": [
            "[WARN] dividends fetch fail: 347740.KS (피엔케이피부임상연구센타) → Too Many Requests. Rate limited. Try after a while.\n",
            "[WARN] dividends fetch fail: 357120.KS (코람코라이프인프라리츠) → Too Many Requests. Rate limited. Try after a while.\n"
          ]
        },
        {
          "output_type": "stream",
          "name": "stderr",
          "text": [
            "배당 수집:  49%|████▉     | 501/1013 [01:43<01:13,  6.98it/s]"
          ]
        },
        {
          "output_type": "stream",
          "name": "stdout",
          "text": [
            "[WARN] dividends fetch fail: 332370.KS (아이디피) → Too Many Requests. Rate limited. Try after a while.\n",
            "[WARN] dividends fetch fail: 331920.KS (셀레믹스) → Too Many Requests. Rate limited. Try after a while.\n",
            "[WARN] dividends fetch fail: 950190.KS (고스트스튜디오) → Too Many Requests. Rate limited. Try after a while.\n",
            "[WARN] dividends fetch fail: 337930.KS (젝시믹스) → Too Many Requests. Rate limited. Try after a while.\n"
          ]
        },
        {
          "output_type": "stream",
          "name": "stderr",
          "text": [
            "배당 수집:  50%|████▉     | 504/1013 [01:44<01:38,  5.15it/s]"
          ]
        },
        {
          "output_type": "stream",
          "name": "stdout",
          "text": [
            "[WARN] dividends fetch fail: 060850.KS (영림원소프트랩) → Too Many Requests. Rate limited. Try after a while.\n",
            "[WARN] dividends fetch fail: 032300.KS (한국파마) → Too Many Requests. Rate limited. Try after a while.\n"
          ]
        },
        {
          "output_type": "stream",
          "name": "stderr",
          "text": [
            "배당 수집:  50%|████▉     | 506/1013 [01:44<01:58,  4.29it/s]"
          ]
        },
        {
          "output_type": "stream",
          "name": "stdout",
          "text": [
            "[WARN] dividends fetch fail: 348950.KS (제이알글로벌리츠) → Too Many Requests. Rate limited. Try after a while.\n",
            "[WARN] dividends fetch fail: 357780.KS (솔브레인) → Too Many Requests. Rate limited. Try after a while.\n"
          ]
        },
        {
          "output_type": "stream",
          "name": "stderr",
          "text": [
            "배당 수집:  50%|█████     | 509/1013 [01:45<01:15,  6.68it/s]"
          ]
        },
        {
          "output_type": "stream",
          "name": "stdout",
          "text": [
            "[WARN] dividends fetch fail: 357250.KS (미래에셋맵스리츠) → Too Many Requests. Rate limited. Try after a while.\n",
            "[WARN] dividends fetch fail: 350520.KS (이지스레지던스리츠) → Too Many Requests. Rate limited. Try after a while.\n",
            "[WARN] dividends fetch fail: 332570.KS (PS일렉트로닉스) → Too Many Requests. Rate limited. Try after a while.\n",
            "[WARN] dividends fetch fail: 101360.KS (에코앤드림) → Too Many Requests. Rate limited. Try after a while.\n"
          ]
        },
        {
          "output_type": "stream",
          "name": "stderr",
          "text": [
            "배당 수집:  51%|█████     | 512/1013 [01:45<01:35,  5.26it/s]"
          ]
        },
        {
          "output_type": "stream",
          "name": "stdout",
          "text": [
            "[WARN] dividends fetch fail: 347890.KS (엠투아이) → Too Many Requests. Rate limited. Try after a while.\n",
            "[WARN] dividends fetch fail: 298540.KS (더네이쳐홀딩스) → Too Many Requests. Rate limited. Try after a while.\n"
          ]
        },
        {
          "output_type": "stream",
          "name": "stderr",
          "text": [
            "배당 수집:  51%|█████     | 514/1013 [01:46<01:56,  4.27it/s]"
          ]
        },
        {
          "output_type": "stream",
          "name": "stdout",
          "text": [
            "[WARN] dividends fetch fail: 225220.KS (제놀루션) → Too Many Requests. Rate limited. Try after a while.\n",
            "[WARN] dividends fetch fail: 304100.KS (솔트룩스) → Too Many Requests. Rate limited. Try after a while.\n"
          ]
        },
        {
          "output_type": "stream",
          "name": "stderr",
          "text": [
            "배당 수집:  51%|█████     | 517/1013 [01:46<01:16,  6.50it/s]"
          ]
        },
        {
          "output_type": "stream",
          "name": "stdout",
          "text": [
            "[WARN] dividends fetch fail: 266470.KS (바이오인프라생명과학) → Too Many Requests. Rate limited. Try after a while.\n",
            "[WARN] dividends fetch fail: 277880.KS (티에스아이) → Too Many Requests. Rate limited. Try after a while.\n",
            "[WARN] dividends fetch fail: 262260.KS (에이프로) → Too Many Requests. Rate limited. Try after a while.\n",
            "[WARN] dividends fetch fail: 334890.KS (이지스밸류플러스리츠) → Too Many Requests. Rate limited. Try after a while.\n"
          ]
        },
        {
          "output_type": "stream",
          "name": "stderr",
          "text": [
            "배당 수집:  51%|█████▏    | 520/1013 [01:47<01:31,  5.37it/s]"
          ]
        },
        {
          "output_type": "stream",
          "name": "stdout",
          "text": [
            "[WARN] dividends fetch fail: 950200.KS (소마젠) → Too Many Requests. Rate limited. Try after a while.\n",
            "[WARN] dividends fetch fail: 290520.KS (신도기연) → Too Many Requests. Rate limited. Try after a while.\n"
          ]
        },
        {
          "output_type": "stream",
          "name": "stderr",
          "text": [
            "배당 수집:  52%|█████▏    | 522/1013 [01:48<01:53,  4.32it/s]"
          ]
        },
        {
          "output_type": "stream",
          "name": "stdout",
          "text": [
            "[WARN] dividends fetch fail: 330350.KS (위더스제약) → Too Many Requests. Rate limited. Try after a while.\n",
            "[WARN] dividends fetch fail: 326030.KS (에스케이바이오팜) → Too Many Requests. Rate limited. Try after a while.\n"
          ]
        },
        {
          "output_type": "stream",
          "name": "stderr",
          "text": [
            "배당 수집:  52%|█████▏    | 525/1013 [01:48<01:15,  6.50it/s]"
          ]
        },
        {
          "output_type": "stream",
          "name": "stdout",
          "text": [
            "[WARN] dividends fetch fail: 169330.KS (엠브레인) → Too Many Requests. Rate limited. Try after a while.\n",
            "[WARN] dividends fetch fail: 229000.KS (젠큐릭스) → Too Many Requests. Rate limited. Try after a while.\n",
            "[WARN] dividends fetch fail: 322970.KS (무진메디) → Too Many Requests. Rate limited. Try after a while.\n"
          ]
        },
        {
          "output_type": "stream",
          "name": "stderr",
          "text": [
            "\r배당 수집:  52%|█████▏    | 526/1013 [01:48<01:11,  6.85it/s]"
          ]
        },
        {
          "output_type": "stream",
          "name": "stdout",
          "text": [
            "[WARN] dividends fetch fail: 297890.KS (HB솔루션) → Too Many Requests. Rate limited. Try after a while.\n"
          ]
        },
        {
          "output_type": "stream",
          "name": "stderr",
          "text": [
            "배당 수집:  52%|█████▏    | 528/1013 [01:49<01:33,  5.21it/s]"
          ]
        },
        {
          "output_type": "stream",
          "name": "stdout",
          "text": [
            "[WARN] dividends fetch fail: 351320.KS (넥사다이내믹스) → Too Many Requests. Rate limited. Try after a while.\n",
            "[WARN] dividends fetch fail: 298060.KS (에스씨엠생명과학) → Too Many Requests. Rate limited. Try after a while.\n"
          ]
        },
        {
          "output_type": "stream",
          "name": "stderr",
          "text": [
            "배당 수집:  52%|█████▏    | 530/1013 [01:49<01:56,  4.14it/s]"
          ]
        },
        {
          "output_type": "stream",
          "name": "stdout",
          "text": [
            "[WARN] dividends fetch fail: 353190.KS (휴럼) → Too Many Requests. Rate limited. Try after a while.\n",
            "[WARN] dividends fetch fail: 353810.KS (이지바이오) → Too Many Requests. Rate limited. Try after a while.\n"
          ]
        },
        {
          "output_type": "stream",
          "name": "stderr",
          "text": [
            "배당 수집:  53%|█████▎    | 533/1013 [01:50<01:14,  6.44it/s]"
          ]
        },
        {
          "output_type": "stream",
          "name": "stdout",
          "text": [
            "[WARN] dividends fetch fail: 223250.KS (드림씨아이에스) → Too Many Requests. Rate limited. Try after a while.\n",
            "[WARN] dividends fetch fail: 353200.KS (대덕전자) → Too Many Requests. Rate limited. Try after a while.\n",
            "[WARN] dividends fetch fail: 343090.KS (HLB사이언스) → Too Many Requests. Rate limited. Try after a while.\n"
          ]
        },
        {
          "output_type": "stream",
          "name": "stderr",
          "text": [
            "배당 수집:  53%|█████▎    | 535/1013 [01:50<01:31,  5.23it/s]"
          ]
        },
        {
          "output_type": "stream",
          "name": "stdout",
          "text": [
            "[WARN] dividends fetch fail: 198080.KS (캐프) → Too Many Requests. Rate limited. Try after a while.\n",
            "[WARN] dividends fetch fail: 237820.KS (플레이디) → Too Many Requests. Rate limited. Try after a while.\n"
          ]
        },
        {
          "output_type": "stream",
          "name": "stderr",
          "text": [
            "\r배당 수집:  53%|█████▎    | 536/1013 [01:50<01:25,  5.57it/s]"
          ]
        },
        {
          "output_type": "stream",
          "name": "stdout",
          "text": [
            "[WARN] dividends fetch fail: 092190.KS (서울바이오시스) → Too Many Requests. Rate limited. Try after a while.\n"
          ]
        },
        {
          "output_type": "stream",
          "name": "stderr",
          "text": [
            "배당 수집:  53%|█████▎    | 538/1013 [01:51<01:50,  4.30it/s]"
          ]
        },
        {
          "output_type": "stream",
          "name": "stdout",
          "text": [
            "[WARN] dividends fetch fail: 204270.KS (제이앤티씨) → Too Many Requests. Rate limited. Try after a while.\n",
            "[WARN] dividends fetch fail: 274090.KS (켄코아에어로스페이스) → Too Many Requests. Rate limited. Try after a while.\n"
          ]
        },
        {
          "output_type": "stream",
          "name": "stderr",
          "text": [
            "배당 수집:  53%|█████▎    | 541/1013 [01:51<01:12,  6.48it/s]"
          ]
        },
        {
          "output_type": "stream",
          "name": "stdout",
          "text": [
            "[WARN] dividends fetch fail: 294140.KS (레몬) → Too Many Requests. Rate limited. Try after a while.\n",
            "[WARN] dividends fetch fail: 294630.KS (서남) → Too Many Requests. Rate limited. Try after a while.\n",
            "[WARN] dividends fetch fail: 065370.KS (위세아이텍) → Too Many Requests. Rate limited. Try after a while.\n"
          ]
        },
        {
          "output_type": "stream",
          "name": "stderr",
          "text": [
            "배당 수집:  54%|█████▎    | 543/1013 [01:52<01:30,  5.21it/s]"
          ]
        },
        {
          "output_type": "stream",
          "name": "stdout",
          "text": [
            "[WARN] dividends fetch fail: 344820.KS (케이씨씨글라스) → Too Many Requests. Rate limited. Try after a while.\n",
            "[WARN] dividends fetch fail: 340440.KS (세림B&G) → Too Many Requests. Rate limited. Try after a while.\n"
          ]
        },
        {
          "output_type": "stream",
          "name": "stderr",
          "text": [
            "\r배당 수집:  54%|█████▎    | 544/1013 [01:52<01:22,  5.70it/s]"
          ]
        },
        {
          "output_type": "stream",
          "name": "stdout",
          "text": [
            "[WARN] dividends fetch fail: 341310.KS (이앤에치) → Too Many Requests. Rate limited. Try after a while.\n"
          ]
        },
        {
          "output_type": "stream",
          "name": "stderr",
          "text": [
            "배당 수집:  54%|█████▍    | 546/1013 [01:53<01:47,  4.35it/s]"
          ]
        },
        {
          "output_type": "stream",
          "name": "stdout",
          "text": [
            "[WARN] dividends fetch fail: 311690.KS (CJ 바이오사이언스) → Too Many Requests. Rate limited. Try after a while.\n",
            "[WARN] dividends fetch fail: 238170.KS (엔에스엠) → Too Many Requests. Rate limited. Try after a while.\n"
          ]
        },
        {
          "output_type": "stream",
          "name": "stderr",
          "text": [
            "배당 수집:  54%|█████▍    | 549/1013 [01:53<01:12,  6.40it/s]"
          ]
        },
        {
          "output_type": "stream",
          "name": "stdout",
          "text": [
            "[WARN] dividends fetch fail: 062970.KS (한국첨단소재) → Too Many Requests. Rate limited. Try after a while.\n",
            "[WARN] dividends fetch fail: 327260.KS (RF머트리얼즈) → Too Many Requests. Rate limited. Try after a while.\n",
            "[WARN] dividends fetch fail: 339950.KS (아이비김영) → Too Many Requests. Rate limited. Try after a while.\n"
          ]
        },
        {
          "output_type": "stream",
          "name": "stderr",
          "text": [
            "배당 수집:  54%|█████▍    | 551/1013 [01:53<01:30,  5.12it/s]"
          ]
        },
        {
          "output_type": "stream",
          "name": "stdout",
          "text": [
            "[WARN] dividends fetch fail: 288330.KS (브릿지바이오) → Too Many Requests. Rate limited. Try after a while.\n",
            "[WARN] dividends fetch fail: 340360.KS (다보링크) → Too Many Requests. Rate limited. Try after a while.\n"
          ]
        },
        {
          "output_type": "stream",
          "name": "stderr",
          "text": [
            "\r배당 수집:  54%|█████▍    | 552/1013 [01:54<01:21,  5.67it/s]"
          ]
        },
        {
          "output_type": "stream",
          "name": "stdout",
          "text": [
            "[WARN] dividends fetch fail: 235980.KS (메드팩토) → Too Many Requests. Rate limited. Try after a while.\n"
          ]
        },
        {
          "output_type": "stream",
          "name": "stderr",
          "text": [
            "배당 수집:  55%|█████▍    | 554/1013 [01:54<01:43,  4.43it/s]"
          ]
        },
        {
          "output_type": "stream",
          "name": "stdout",
          "text": [
            "[WARN] dividends fetch fail: 336570.KS (원텍) → Too Many Requests. Rate limited. Try after a while.\n",
            "[WARN] dividends fetch fail: 226330.KS (신테카바이오) → Too Many Requests. Rate limited. Try after a while.\n"
          ]
        },
        {
          "output_type": "stream",
          "name": "stderr",
          "text": [
            "배당 수집:  55%|█████▍    | 557/1013 [01:55<01:11,  6.37it/s]"
          ]
        },
        {
          "output_type": "stream",
          "name": "stdout",
          "text": [
            "[WARN] dividends fetch fail: 322510.KS (제이엘케이) → Too Many Requests. Rate limited. Try after a while.\n",
            "[WARN] dividends fetch fail: 124560.KS (태웅로직스) → Too Many Requests. Rate limited. Try after a while.\n",
            "[WARN] dividends fetch fail: 335870.KS (윙스풋) → Too Many Requests. Rate limited. Try after a while.\n"
          ]
        },
        {
          "output_type": "stream",
          "name": "stderr",
          "text": [
            "\r배당 수집:  55%|█████▌    | 558/1013 [01:55<01:28,  5.12it/s]"
          ]
        },
        {
          "output_type": "stream",
          "name": "stdout",
          "text": [
            "[WARN] dividends fetch fail: 317860.KS (노드메이슨) → Too Many Requests. Rate limited. Try after a while.\n"
          ]
        },
        {
          "output_type": "stream",
          "name": "stderr",
          "text": [
            "\r배당 수집:  55%|█████▌    | 559/1013 [01:55<01:42,  4.44it/s]"
          ]
        },
        {
          "output_type": "stream",
          "name": "stdout",
          "text": [
            "[WARN] dividends fetch fail: 338100.KS (NH프라임리츠) → Too Many Requests. Rate limited. Try after a while.\n",
            "[WARN] dividends fetch fail: 302550.KS (리메드) → Too Many Requests. Rate limited. Try after a while.\n"
          ]
        },
        {
          "output_type": "stream",
          "name": "stderr",
          "text": [
            "배당 수집:  55%|█████▌    | 562/1013 [01:56<01:34,  4.79it/s]"
          ]
        },
        {
          "output_type": "stream",
          "name": "stdout",
          "text": [
            "[WARN] dividends fetch fail: 335890.KS (비올) → Too Many Requests. Rate limited. Try after a while.\n",
            "[WARN] dividends fetch fail: 336040.KS (타스컴) → Too Many Requests. Rate limited. Try after a while.\n"
          ]
        },
        {
          "output_type": "stream",
          "name": "stderr",
          "text": [
            "배당 수집:  56%|█████▌    | 565/1013 [01:56<01:08,  6.50it/s]"
          ]
        },
        {
          "output_type": "stream",
          "name": "stdout",
          "text": [
            "[WARN] dividends fetch fail: 336060.KS (웨이버스) → Too Many Requests. Rate limited. Try after a while.\n",
            "[WARN] dividends fetch fail: 250030.KS (진코스텍) → Too Many Requests. Rate limited. Try after a while.\n",
            "[WARN] dividends fetch fail: 337840.KS (유엑스엔) → Too Many Requests. Rate limited. Try after a while.\n"
          ]
        },
        {
          "output_type": "stream",
          "name": "stderr",
          "text": [
            "\r배당 수집:  56%|█████▌    | 566/1013 [01:57<01:24,  5.27it/s]"
          ]
        },
        {
          "output_type": "stream",
          "name": "stdout",
          "text": [
            "[WARN] dividends fetch fail: 278650.KS (HLB바이오스텝) → Too Many Requests. Rate limited. Try after a while.\n"
          ]
        },
        {
          "output_type": "stream",
          "name": "stderr",
          "text": [
            "\r배당 수집:  56%|█████▌    | 567/1013 [01:57<01:46,  4.21it/s]"
          ]
        },
        {
          "output_type": "stream",
          "name": "stdout",
          "text": [
            "[WARN] dividends fetch fail: 308170.KS (씨티알모빌리티) → Too Many Requests. Rate limited. Try after a while.\n",
            "[WARN] dividends fetch fail: 321550.KS (티움바이오) → Too Many Requests. Rate limited. Try after a while.\n"
          ]
        },
        {
          "output_type": "stream",
          "name": "stderr",
          "text": [
            "배당 수집:  56%|█████▋    | 570/1013 [01:58<01:31,  4.86it/s]"
          ]
        },
        {
          "output_type": "stream",
          "name": "stdout",
          "text": [
            "[WARN] dividends fetch fail: 297090.KS (씨에스베어링) → Too Many Requests. Rate limited. Try after a while.\n",
            "[WARN] dividends fetch fail: 103840.KS (우양) → Too Many Requests. Rate limited. Try after a while.\n"
          ]
        },
        {
          "output_type": "stream",
          "name": "stderr",
          "text": [
            "\r배당 수집:  56%|█████▋    | 571/1013 [01:58<01:40,  4.40it/s]"
          ]
        },
        {
          "output_type": "stream",
          "name": "stdout",
          "text": [
            "[WARN] dividends fetch fail: 190650.KS (코리아에셋투자증권) → Too Many Requests. Rate limited. Try after a while.\n",
            "[WARN] dividends fetch fail: 322000.KS (HD현대에너지솔루션) → Too Many Requests. Rate limited. Try after a while.\n",
            "[WARN] dividends fetch fail: 306040.KS (에스제이그룹) → Too Many Requests. Rate limited. Try after a while.\n"
          ]
        },
        {
          "output_type": "stream",
          "name": "stderr",
          "text": [
            "\r배당 수집:  57%|█████▋    | 574/1013 [01:58<01:18,  5.62it/s]"
          ]
        },
        {
          "output_type": "stream",
          "name": "stdout",
          "text": [
            "[WARN] dividends fetch fail: 216080.KS (제테마) → Too Many Requests. Rate limited. Try after a while.\n"
          ]
        },
        {
          "output_type": "stream",
          "name": "stderr",
          "text": [
            "\r배당 수집:  57%|█████▋    | 575/1013 [01:59<01:38,  4.46it/s]"
          ]
        },
        {
          "output_type": "stream",
          "name": "stdout",
          "text": [
            "[WARN] dividends fetch fail: 272210.KS (한화시스템) → Too Many Requests. Rate limited. Try after a while.\n",
            "[WARN] dividends fetch fail: 214260.KS (라파스) → Too Many Requests. Rate limited. Try after a while.\n"
          ]
        },
        {
          "output_type": "stream",
          "name": "stderr",
          "text": [
            "배당 수집:  57%|█████▋    | 578/1013 [01:59<01:25,  5.09it/s]"
          ]
        },
        {
          "output_type": "stream",
          "name": "stdout",
          "text": [
            "[WARN] dividends fetch fail: 084850.KS (아이티엠반도체) → Too Many Requests. Rate limited. Try after a while.\n",
            "[WARN] dividends fetch fail: 333430.KS (일승) → Too Many Requests. Rate limited. Try after a while.\n"
          ]
        },
        {
          "output_type": "stream",
          "name": "stderr",
          "text": [
            "\r배당 수집:  57%|█████▋    | 579/1013 [01:59<01:35,  4.54it/s]"
          ]
        },
        {
          "output_type": "stream",
          "name": "stdout",
          "text": [
            "[WARN] dividends fetch fail: 317400.KS (자이에스앤디) → Too Many Requests. Rate limited. Try after a while.\n",
            "[WARN] dividends fetch fail: 279600.KS (미디어젠) → Too Many Requests. Rate limited. Try after a while.\n",
            "[WARN] dividends fetch fail: 322180.KS (LS티라유텍) → Too Many Requests. Rate limited. Try after a while.\n"
          ]
        },
        {
          "output_type": "stream",
          "name": "stderr",
          "text": [
            "\r배당 수집:  57%|█████▋    | 582/1013 [02:00<01:16,  5.66it/s]"
          ]
        },
        {
          "output_type": "stream",
          "name": "stdout",
          "text": [
            "[WARN] dividends fetch fail: 333050.KS (모코엠시스) → Too Many Requests. Rate limited. Try after a while.\n"
          ]
        },
        {
          "output_type": "stream",
          "name": "stderr",
          "text": [
            "배당 수집:  58%|█████▊    | 584/1013 [02:00<01:29,  4.82it/s]"
          ]
        },
        {
          "output_type": "stream",
          "name": "stdout",
          "text": [
            "[WARN] dividends fetch fail: 330590.KS (롯데리츠) → Too Many Requests. Rate limited. Try after a while.\n",
            "[WARN] dividends fetch fail: 013890.KS (지누스) → Too Many Requests. Rate limited. Try after a while.\n"
          ]
        },
        {
          "output_type": "stream",
          "name": "stderr",
          "text": [
            "\r배당 수집:  58%|█████▊    | 585/1013 [02:01<01:32,  4.62it/s]"
          ]
        },
        {
          "output_type": "stream",
          "name": "stdout",
          "text": [
            "[WARN] dividends fetch fail: 331520.KS (밸로프) → Too Many Requests. Rate limited. Try after a while.\n"
          ]
        },
        {
          "output_type": "stream",
          "name": "stderr",
          "text": [
            "배당 수집:  58%|█████▊    | 588/1013 [02:02<01:38,  4.33it/s]"
          ]
        },
        {
          "output_type": "stream",
          "name": "stdout",
          "text": [
            "[WARN] dividends fetch fail: 317530.KS (캐리소프트) → Too Many Requests. Rate limited. Try after a while.\n",
            "[WARN] dividends fetch fail: 331660.KS (한국미라클피플사) → Too Many Requests. Rate limited. Try after a while.\n",
            "[WARN] dividends fetch fail: 272110.KS (케이엔제이) → Too Many Requests. Rate limited. Try after a while.\n"
          ]
        },
        {
          "output_type": "stream",
          "name": "stderr",
          "text": [
            "\r배당 수집:  58%|█████▊    | 589/1013 [02:02<01:37,  4.35it/s]"
          ]
        },
        {
          "output_type": "stream",
          "name": "stdout",
          "text": [
            "[WARN] dividends fetch fail: 318010.KS (팜스빌) → Too Many Requests. Rate limited. Try after a while.\n"
          ]
        },
        {
          "output_type": "stream",
          "name": "stderr",
          "text": [
            "\r배당 수집:  58%|█████▊    | 590/1013 [02:02<02:27,  2.87it/s]"
          ]
        },
        {
          "output_type": "stream",
          "name": "stdout",
          "text": [
            "[WARN] dividends fetch fail: 336260.KS (두산퓨얼셀) → Too Many Requests. Rate limited. Try after a while.\n",
            "[WARN] dividends fetch fail: 336370.KS (솔루스첨단소재) → Too Many Requests. Rate limited. Try after a while.\n",
            "[WARN] dividends fetch fail: 300120.KS (라온피플) → Too Many Requests. Rate limited. Try after a while.\n"
          ]
        },
        {
          "output_type": "stream",
          "name": "stderr",
          "text": [
            "배당 수집:  59%|█████▊    | 594/1013 [02:03<01:31,  4.58it/s]"
          ]
        },
        {
          "output_type": "stream",
          "name": "stdout",
          "text": [
            "[WARN] dividends fetch fail: 317870.KS (엔바이오니아) → Too Many Requests. Rate limited. Try after a while.\n",
            "[WARN] dividends fetch fail: 036420.KS (콘텐트리중앙) → Too Many Requests. Rate limited. Try after a while.\n"
          ]
        },
        {
          "output_type": "stream",
          "name": "stderr",
          "text": [
            "\r배당 수집:  59%|█████▉    | 596/1013 [02:03<01:09,  5.99it/s]"
          ]
        },
        {
          "output_type": "stream",
          "name": "stdout",
          "text": [
            "[WARN] dividends fetch fail: 158430.KS (아톤) → Too Many Requests. Rate limited. Try after a while.\n",
            "[WARN] dividends fetch fail: 234690.KS (녹십자웰빙) → Too Many Requests. Rate limited. Try after a while.\n"
          ]
        },
        {
          "output_type": "stream",
          "name": "stderr",
          "text": [
            "\r배당 수집:  59%|█████▉    | 597/1013 [02:03<01:23,  4.97it/s]"
          ]
        },
        {
          "output_type": "stream",
          "name": "stdout",
          "text": [
            "[WARN] dividends fetch fail: 332290.KS (누보) → Too Many Requests. Rate limited. Try after a while.\n"
          ]
        },
        {
          "output_type": "stream",
          "name": "stderr",
          "text": [
            "\r배당 수집:  59%|█████▉    | 598/1013 [02:04<02:03,  3.36it/s]"
          ]
        },
        {
          "output_type": "stream",
          "name": "stdout",
          "text": [
            "[WARN] dividends fetch fail: 331380.KS (포커스에이아이) → Too Many Requests. Rate limited. Try after a while.\n",
            "[WARN] dividends fetch fail: 244460.KS (올리패스) → Too Many Requests. Rate limited. Try after a while.\n",
            "[WARN] dividends fetch fail: 093510.KS (엔지브이아이) → Too Many Requests. Rate limited. Try after a while.\n"
          ]
        },
        {
          "output_type": "stream",
          "name": "stderr",
          "text": [
            "배당 수집:  60%|█████▉    | 603/1013 [02:05<01:15,  5.42it/s]"
          ]
        },
        {
          "output_type": "stream",
          "name": "stdout",
          "text": [
            "[WARN] dividends fetch fail: 320000.KS (한울반도체) → Too Many Requests. Rate limited. Try after a while.\n",
            "[WARN] dividends fetch fail: 256150.KS (한독크린텍) → Too Many Requests. Rate limited. Try after a while.\n",
            "[WARN] dividends fetch fail: 149300.KS (아퓨어스) → Too Many Requests. Rate limited. Try after a while.\n",
            "[WARN] dividends fetch fail: 317120.KS (라닉스) → Too Many Requests. Rate limited. Try after a while.\n"
          ]
        },
        {
          "output_type": "stream",
          "name": "stderr",
          "text": [
            "\r배당 수집:  60%|█████▉    | 605/1013 [02:05<01:13,  5.57it/s]"
          ]
        },
        {
          "output_type": "stream",
          "name": "stdout",
          "text": [
            "[WARN] dividends fetch fail: 311390.KS (네오크레마) → Too Many Requests. Rate limited. Try after a while.\n"
          ]
        },
        {
          "output_type": "stream",
          "name": "stderr",
          "text": [
            "\r배당 수집:  60%|█████▉    | 606/1013 [02:06<01:49,  3.73it/s]"
          ]
        },
        {
          "output_type": "stream",
          "name": "stdout",
          "text": [
            "[WARN] dividends fetch fail: 195500.KS (마니커에프앤지) → Too Many Requests. Rate limited. Try after a while.\n",
            "[WARN] dividends fetch fail: 286750.KS (나노실리칸첨단소재) → Too Many Requests. Rate limited. Try after a while.\n",
            "[WARN] dividends fetch fail: 328380.KS (솔트웨어) → Too Many Requests. Rate limited. Try after a while.\n"
          ]
        },
        {
          "output_type": "stream",
          "name": "stderr",
          "text": [
            "배당 수집:  60%|██████    | 611/1013 [02:06<01:12,  5.55it/s]"
          ]
        },
        {
          "output_type": "stream",
          "name": "stdout",
          "text": [
            "[WARN] dividends fetch fail: 317830.KS (에스피시스템스) → Too Many Requests. Rate limited. Try after a while.\n",
            "[WARN] dividends fetch fail: 228670.KS (레이) → Too Many Requests. Rate limited. Try after a while.\n",
            "[WARN] dividends fetch fail: 186230.KS (그린플러스) → Too Many Requests. Rate limited. Try after a while.\n",
            "[WARN] dividends fetch fail: 282880.KS (코윈테크) → Too Many Requests. Rate limited. Try after a while.\n"
          ]
        },
        {
          "output_type": "stream",
          "name": "stderr",
          "text": [
            "\r배당 수집:  61%|██████    | 613/1013 [02:07<01:09,  5.75it/s]"
          ]
        },
        {
          "output_type": "stream",
          "name": "stdout",
          "text": [
            "[WARN] dividends fetch fail: 317330.KS (덕산테코피아) → Too Many Requests. Rate limited. Try after a while.\n"
          ]
        },
        {
          "output_type": "stream",
          "name": "stderr",
          "text": [
            "배당 수집:  61%|██████    | 616/1013 [02:08<01:19,  5.02it/s]"
          ]
        },
        {
          "output_type": "stream",
          "name": "stdout",
          "text": [
            "[WARN] dividends fetch fail: 318000.KS (KBG) → Too Many Requests. Rate limited. Try after a while.\n",
            "[WARN] dividends fetch fail: 317770.KS (엑스페릭스) → Too Many Requests. Rate limited. Try after a while.\n",
            "[WARN] dividends fetch fail: 148150.KS (세경하이테크) → Too Many Requests. Rate limited. Try after a while.\n"
          ]
        },
        {
          "output_type": "stream",
          "name": "stderr",
          "text": [
            "배당 수집:  61%|██████    | 618/1013 [02:08<01:18,  5.04it/s]"
          ]
        },
        {
          "output_type": "stream",
          "name": "stdout",
          "text": [
            "[WARN] dividends fetch fail: 313760.KS (캐리) → Too Many Requests. Rate limited. Try after a while.\n",
            "[WARN] dividends fetch fail: 317850.KS (대모) → Too Many Requests. Rate limited. Try after a while.\n",
            "[WARN] dividends fetch fail: 241840.KS (에이스토리) → Too Many Requests. Rate limited. Try after a while.\n"
          ]
        },
        {
          "output_type": "stream",
          "name": "stderr",
          "text": [
            "\r배당 수집:  61%|██████    | 620/1013 [02:08<00:58,  6.72it/s]"
          ]
        },
        {
          "output_type": "stream",
          "name": "stdout",
          "text": [
            "[WARN] dividends fetch fail: 300080.KS (플리토) → Too Many Requests. Rate limited. Try after a while.\n"
          ]
        },
        {
          "output_type": "stream",
          "name": "stderr",
          "text": [
            "\r배당 수집:  61%|██████▏   | 621/1013 [02:08<01:05,  5.96it/s]"
          ]
        },
        {
          "output_type": "stream",
          "name": "stdout",
          "text": [
            "[WARN] dividends fetch fail: 234340.KS (헥토파이낸셜) → Too Many Requests. Rate limited. Try after a while.\n"
          ]
        },
        {
          "output_type": "stream",
          "name": "stderr",
          "text": [
            "배당 수집:  62%|██████▏   | 624/1013 [02:09<01:22,  4.73it/s]"
          ]
        },
        {
          "output_type": "stream",
          "name": "stdout",
          "text": [
            "[WARN] dividends fetch fail: 289010.KS (아이스크림에듀) → Too Many Requests. Rate limited. Try after a while.\n",
            "[WARN] dividends fetch fail: 327610.KS (펨토바이오메드) → Too Many Requests. Rate limited. Try after a while.\n",
            "[WARN] dividends fetch fail: 251970.KS (펌텍코리아) → Too Many Requests. Rate limited. Try after a while.\n"
          ]
        },
        {
          "output_type": "stream",
          "name": "stderr",
          "text": [
            "배당 수집:  62%|██████▏   | 626/1013 [02:10<01:16,  5.07it/s]"
          ]
        },
        {
          "output_type": "stream",
          "name": "stdout",
          "text": [
            "[WARN] dividends fetch fail: 312610.KS (에이에프더블류) → Too Many Requests. Rate limited. Try after a while.\n",
            "[WARN] dividends fetch fail: 323280.KS (태성) → Too Many Requests. Rate limited. Try after a while.\n"
          ]
        },
        {
          "output_type": "stream",
          "name": "stderr",
          "text": [
            "\r배당 수집:  62%|██████▏   | 628/1013 [02:10<00:58,  6.64it/s]"
          ]
        },
        {
          "output_type": "stream",
          "name": "stdout",
          "text": [
            "[WARN] dividends fetch fail: 293780.KS (압타바이오) → Too Many Requests. Rate limited. Try after a while.\n",
            "[WARN] dividends fetch fail: 308100.KS (형지글로벌) → Too Many Requests. Rate limited. Try after a while.\n"
          ]
        },
        {
          "output_type": "stream",
          "name": "stderr",
          "text": [
            "\r배당 수집:  62%|██████▏   | 629/1013 [02:10<01:03,  6.09it/s]"
          ]
        },
        {
          "output_type": "stream",
          "name": "stdout",
          "text": [
            "[WARN] dividends fetch fail: 305090.KS (마이크로디지탈) → Too Many Requests. Rate limited. Try after a while.\n"
          ]
        },
        {
          "output_type": "stream",
          "name": "stderr",
          "text": [
            "\r배당 수집:  62%|██████▏   | 630/1013 [02:11<01:51,  3.44it/s]"
          ]
        },
        {
          "output_type": "stream",
          "name": "stdout",
          "text": [
            "[WARN] dividends fetch fail: 322780.KS (코퍼스코리아) → Too Many Requests. Rate limited. Try after a while.\n",
            "[WARN] dividends fetch fail: 321260.KS (프로이천) → Too Many Requests. Rate limited. Try after a while.\n"
          ]
        },
        {
          "output_type": "stream",
          "name": "stderr",
          "text": [
            "\r배당 수집:  62%|██████▏   | 632/1013 [02:11<01:22,  4.63it/s]"
          ]
        },
        {
          "output_type": "stream",
          "name": "stdout",
          "text": [
            "[WARN] dividends fetch fail: 003670.KS (포스코퓨처엠) → Too Many Requests. Rate limited. Try after a while.\n"
          ]
        },
        {
          "output_type": "stream",
          "name": "stderr",
          "text": [
            "배당 수집:  63%|██████▎   | 634/1013 [02:11<01:13,  5.14it/s]"
          ]
        },
        {
          "output_type": "stream",
          "name": "stdout",
          "text": [
            "[WARN] dividends fetch fail: 253840.KS (수젠텍) → Too Many Requests. Rate limited. Try after a while.\n",
            "[WARN] dividends fetch fail: 307930.KS (컴퍼니케이) → Too Many Requests. Rate limited. Try after a while.\n"
          ]
        },
        {
          "output_type": "stream",
          "name": "stderr",
          "text": [
            "\r배당 수집:  63%|██████▎   | 636/1013 [02:11<00:56,  6.65it/s]"
          ]
        },
        {
          "output_type": "stream",
          "name": "stdout",
          "text": [
            "[WARN] dividends fetch fail: 319660.KS (피에스케이) → Too Many Requests. Rate limited. Try after a while.\n",
            "[WARN] dividends fetch fail: 319400.KS (현대무벡스) → Too Many Requests. Rate limited. Try after a while.\n"
          ]
        },
        {
          "output_type": "stream",
          "name": "stderr",
          "text": [
            "\r배당 수집:  63%|██████▎   | 637/1013 [02:12<01:01,  6.15it/s]"
          ]
        },
        {
          "output_type": "stream",
          "name": "stdout",
          "text": [
            "[WARN] dividends fetch fail: 317240.KS (TS트릴리온) → Too Many Requests. Rate limited. Try after a while.\n"
          ]
        },
        {
          "output_type": "stream",
          "name": "stderr",
          "text": [
            "\r배당 수집:  63%|██████▎   | 638/1013 [02:12<01:48,  3.45it/s]"
          ]
        },
        {
          "output_type": "stream",
          "name": "stdout",
          "text": [
            "[WARN] dividends fetch fail: 279060.KS (이노벡스) → Too Many Requests. Rate limited. Try after a while.\n",
            "[WARN] dividends fetch fail: 125210.KS (아모그린텍) → Too Many Requests. Rate limited. Try after a while.\n"
          ]
        },
        {
          "output_type": "stream",
          "name": "stderr",
          "text": [
            "\r배당 수집:  63%|██████▎   | 640/1013 [02:13<01:22,  4.55it/s]"
          ]
        },
        {
          "output_type": "stream",
          "name": "stdout",
          "text": [
            "[WARN] dividends fetch fail: 307950.KS (현대오토에버) → Too Many Requests. Rate limited. Try after a while.\n"
          ]
        },
        {
          "output_type": "stream",
          "name": "stderr",
          "text": [
            "배당 수집:  63%|██████▎   | 642/1013 [02:13<01:11,  5.15it/s]"
          ]
        },
        {
          "output_type": "stream",
          "name": "stdout",
          "text": [
            "[WARN] dividends fetch fail: 228760.KS (지노믹트리) → Too Many Requests. Rate limited. Try after a while.\n",
            "[WARN] dividends fetch fail: 099750.KS (이지케어텍) → Too Many Requests. Rate limited. Try after a while.\n"
          ]
        },
        {
          "output_type": "stream",
          "name": "stderr",
          "text": [
            "\r배당 수집:  64%|██████▎   | 644/1013 [02:13<00:55,  6.66it/s]"
          ]
        },
        {
          "output_type": "stream",
          "name": "stdout",
          "text": [
            "[WARN] dividends fetch fail: 100790.KS (미래에셋벤처투자) → Too Many Requests. Rate limited. Try after a while.\n",
            "[WARN] dividends fetch fail: 192650.KS (드림텍) → Too Many Requests. Rate limited. Try after a while.\n"
          ]
        },
        {
          "output_type": "stream",
          "name": "stderr",
          "text": [
            "\r배당 수집:  64%|██████▎   | 645/1013 [02:13<00:59,  6.16it/s]"
          ]
        },
        {
          "output_type": "stream",
          "name": "stdout",
          "text": [
            "[WARN] dividends fetch fail: 192080.KS (더블유게임즈) → Too Many Requests. Rate limited. Try after a while.\n"
          ]
        },
        {
          "output_type": "stream",
          "name": "stderr",
          "text": [
            "배당 수집:  64%|██████▍   | 647/1013 [02:14<01:31,  4.00it/s]"
          ]
        },
        {
          "output_type": "stream",
          "name": "stdout",
          "text": [
            "[WARN] dividends fetch fail: 247540.KS (에코프로비엠) → Too Many Requests. Rate limited. Try after a while.\n",
            "[WARN] dividends fetch fail: 299660.KS (셀리드) → Too Many Requests. Rate limited. Try after a while.\n"
          ]
        },
        {
          "output_type": "stream",
          "name": "stderr",
          "text": [
            "\r배당 수집:  64%|██████▍   | 648/1013 [02:14<01:17,  4.69it/s]"
          ]
        },
        {
          "output_type": "stream",
          "name": "stdout",
          "text": [
            "[WARN] dividends fetch fail: 316140.KS (우리금융지주) → Too Many Requests. Rate limited. Try after a while.\n"
          ]
        },
        {
          "output_type": "stream",
          "name": "stderr",
          "text": [
            "\r배당 수집:  64%|██████▍   | 649/1013 [02:14<01:22,  4.43it/s]"
          ]
        },
        {
          "output_type": "stream",
          "name": "stdout",
          "text": [
            "[WARN] dividends fetch fail: 278280.KS (천보) → Too Many Requests. Rate limited. Try after a while.\n",
            "[WARN] dividends fetch fail: 246960.KS (SCL사이언스) → Too Many Requests. Rate limited. Try after a while.\n"
          ]
        },
        {
          "output_type": "stream",
          "name": "stderr",
          "text": [
            "\r배당 수집:  64%|██████▍   | 651/1013 [02:15<01:04,  5.58it/s]"
          ]
        },
        {
          "output_type": "stream",
          "name": "stdout",
          "text": [
            "[WARN] dividends fetch fail: 104620.KS (노랑풍선) → Too Many Requests. Rate limited. Try after a while.\n",
            "[WARN] dividends fetch fail: 053580.KS (웹케시) → Too Many Requests. Rate limited. Try after a while.\n"
          ]
        },
        {
          "output_type": "stream",
          "name": "stderr",
          "text": [
            "\r배당 수집:  64%|██████▍   | 653/1013 [02:15<00:57,  6.21it/s]"
          ]
        },
        {
          "output_type": "stream",
          "name": "stdout",
          "text": [
            "[WARN] dividends fetch fail: 311060.KS (엘에이티) → Too Many Requests. Rate limited. Try after a while.\n"
          ]
        },
        {
          "output_type": "stream",
          "name": "stderr",
          "text": [
            "\r배당 수집:  65%|██████▍   | 654/1013 [02:16<01:33,  3.82it/s]"
          ]
        },
        {
          "output_type": "stream",
          "name": "stdout",
          "text": [
            "[WARN] dividends fetch fail: 298690.KS (에어부산) → Too Many Requests. Rate limited. Try after a while.\n"
          ]
        },
        {
          "output_type": "stream",
          "name": "stderr",
          "text": [
            "\r배당 수집:  65%|██████▍   | 655/1013 [02:16<01:30,  3.97it/s]"
          ]
        },
        {
          "output_type": "stream",
          "name": "stdout",
          "text": [
            "[WARN] dividends fetch fail: 238200.KS (비피도) → Too Many Requests. Rate limited. Try after a while.\n",
            "[WARN] dividends fetch fail: 263050.KS (유틸렉스) → Too Many Requests. Rate limited. Try after a while.\n"
          ]
        },
        {
          "output_type": "stream",
          "name": "stderr",
          "text": [
            "\r배당 수집:  65%|██████▍   | 657/1013 [02:16<01:13,  4.85it/s]"
          ]
        },
        {
          "output_type": "stream",
          "name": "stdout",
          "text": [
            "[WARN] dividends fetch fail: 290550.KS (디케이티) → Too Many Requests. Rate limited. Try after a while.\n",
            "[WARN] dividends fetch fail: 307180.KS (아이엘) → Too Many Requests. Rate limited. Try after a while.\n"
          ]
        },
        {
          "output_type": "stream",
          "name": "stderr",
          "text": [
            "\r배당 수집:  65%|██████▌   | 659/1013 [02:16<01:03,  5.59it/s]"
          ]
        },
        {
          "output_type": "stream",
          "name": "stdout",
          "text": [
            "[WARN] dividends fetch fail: 310200.KS (애니플러스) → Too Many Requests. Rate limited. Try after a while.\n",
            "[WARN] dividends fetch fail: 308700.KS (테크엔) → Too Many Requests. Rate limited. Try after a while.\n"
          ]
        },
        {
          "output_type": "stream",
          "name": "stderr",
          "text": [
            "\r배당 수집:  65%|██████▌   | 661/1013 [02:17<00:55,  6.29it/s]"
          ]
        },
        {
          "output_type": "stream",
          "name": "stdout",
          "text": [
            "[WARN] dividends fetch fail: 310870.KS (디와이씨) → Too Many Requests. Rate limited. Try after a while.\n"
          ]
        },
        {
          "output_type": "stream",
          "name": "stderr",
          "text": [
            "\r배당 수집:  65%|██████▌   | 662/1013 [02:17<01:28,  3.96it/s]"
          ]
        },
        {
          "output_type": "stream",
          "name": "stdout",
          "text": [
            "[WARN] dividends fetch fail: 309930.KS (오하임앤컴퍼니) → Too Many Requests. Rate limited. Try after a while.\n"
          ]
        },
        {
          "output_type": "stream",
          "name": "stderr",
          "text": [
            "\r배당 수집:  65%|██████▌   | 663/1013 [02:17<01:26,  4.04it/s]"
          ]
        },
        {
          "output_type": "stream",
          "name": "stdout",
          "text": [
            "[WARN] dividends fetch fail: 299900.KS (위지윅스튜디오) → Too Many Requests. Rate limited. Try after a while.\n",
            "[WARN] dividends fetch fail: 307750.KS (국전약품) → Too Many Requests. Rate limited. Try after a while.\n"
          ]
        },
        {
          "output_type": "stream",
          "name": "stderr",
          "text": [
            "\r배당 수집:  66%|██████▌   | 665/1013 [02:18<01:10,  4.95it/s]"
          ]
        },
        {
          "output_type": "stream",
          "name": "stdout",
          "text": [
            "[WARN] dividends fetch fail: 298380.KS (에이비엘바이오) → Too Many Requests. Rate limited. Try after a while.\n",
            "[WARN] dividends fetch fail: 100590.KS (머큐리) → Too Many Requests. Rate limited. Try after a while.\n"
          ]
        },
        {
          "output_type": "stream",
          "name": "stderr",
          "text": [
            "\r배당 수집:  66%|██████▌   | 667/1013 [02:18<01:01,  5.65it/s]"
          ]
        },
        {
          "output_type": "stream",
          "name": "stdout",
          "text": [
            "[WARN] dividends fetch fail: 110020.KS (전진바이오팜) → Too Many Requests. Rate limited. Try after a while.\n",
            "[WARN] dividends fetch fail: 270870.KS (뉴트리) → Too Many Requests. Rate limited. Try after a while.\n"
          ]
        },
        {
          "output_type": "stream",
          "name": "stderr",
          "text": [
            "\r배당 수집:  66%|██████▌   | 669/1013 [02:18<00:54,  6.33it/s]"
          ]
        },
        {
          "output_type": "stream",
          "name": "stdout",
          "text": [
            "[WARN] dividends fetch fail: 307870.KS (비투엔) → Too Many Requests. Rate limited. Try after a while.\n"
          ]
        },
        {
          "output_type": "stream",
          "name": "stderr",
          "text": [
            "\r배당 수집:  66%|██████▌   | 670/1013 [02:19<01:26,  3.97it/s]"
          ]
        },
        {
          "output_type": "stream",
          "name": "stdout",
          "text": [
            "[WARN] dividends fetch fail: 302430.KS (이노메트리) → Too Many Requests. Rate limited. Try after a while.\n"
          ]
        },
        {
          "output_type": "stream",
          "name": "stderr",
          "text": [
            "\r배당 수집:  66%|██████▌   | 671/1013 [02:19<01:24,  4.07it/s]"
          ]
        },
        {
          "output_type": "stream",
          "name": "stdout",
          "text": [
            "[WARN] dividends fetch fail: 290120.KS (DH오토리드) → Too Many Requests. Rate limited. Try after a while.\n",
            "[WARN] dividends fetch fail: 128540.KS (에코캡) → Too Many Requests. Rate limited. Try after a while.\n"
          ]
        },
        {
          "output_type": "stream",
          "name": "stderr",
          "text": [
            "\r배당 수집:  66%|██████▋   | 673/1013 [02:19<01:08,  4.98it/s]"
          ]
        },
        {
          "output_type": "stream",
          "name": "stdout",
          "text": [
            "[WARN] dividends fetch fail: 307280.KS (원바이오젠) → Too Many Requests. Rate limited. Try after a while.\n",
            "[WARN] dividends fetch fail: 900340.KS (윙입푸드) → Too Many Requests. Rate limited. Try after a while.\n"
          ]
        },
        {
          "output_type": "stream",
          "name": "stderr",
          "text": [
            "\r배당 수집:  67%|██████▋   | 675/1013 [02:20<00:59,  5.66it/s]"
          ]
        },
        {
          "output_type": "stream",
          "name": "stdout",
          "text": [
            "[WARN] dividends fetch fail: 111710.KS (남화산업) → Too Many Requests. Rate limited. Try after a while.\n",
            "[WARN] dividends fetch fail: 179290.KS (엠아이텍) → Too Many Requests. Rate limited. Try after a while.\n"
          ]
        },
        {
          "output_type": "stream",
          "name": "stderr",
          "text": [
            "\r배당 수집:  67%|██████▋   | 677/1013 [02:20<00:53,  6.31it/s]"
          ]
        },
        {
          "output_type": "stream",
          "name": "stdout",
          "text": [
            "[WARN] dividends fetch fail: 117730.KS (티로보틱스) → Too Many Requests. Rate limited. Try after a while.\n"
          ]
        },
        {
          "output_type": "stream",
          "name": "stderr",
          "text": [
            "\r배당 수집:  67%|██████▋   | 678/1013 [02:20<01:23,  3.99it/s]"
          ]
        },
        {
          "output_type": "stream",
          "name": "stdout",
          "text": [
            "[WARN] dividends fetch fail: 290660.KS (네오펙트) → Too Many Requests. Rate limited. Try after a while.\n"
          ]
        },
        {
          "output_type": "stream",
          "name": "stderr",
          "text": [
            "\r배당 수집:  67%|██████▋   | 679/1013 [02:21<01:22,  4.07it/s]"
          ]
        },
        {
          "output_type": "stream",
          "name": "stdout",
          "text": [
            "[WARN] dividends fetch fail: 207490.KS (에이펙스인텍) → Too Many Requests. Rate limited. Try after a while.\n",
            "[WARN] dividends fetch fail: 246710.KS (티앤알바이오팹) → Too Many Requests. Rate limited. Try after a while.\n"
          ]
        },
        {
          "output_type": "stream",
          "name": "stderr",
          "text": [
            "\r배당 수집:  67%|██████▋   | 681/1013 [02:21<01:06,  4.98it/s]"
          ]
        },
        {
          "output_type": "stream",
          "name": "stdout",
          "text": [
            "[WARN] dividends fetch fail: 288490.KS (나라소프트) → Too Many Requests. Rate limited. Try after a while.\n",
            "[WARN] dividends fetch fail: 267850.KS (아시아나IDT) → Too Many Requests. Rate limited. Try after a while.\n"
          ]
        },
        {
          "output_type": "stream",
          "name": "stderr",
          "text": [
            "\r배당 수집:  67%|██████▋   | 683/1013 [02:21<00:58,  5.65it/s]"
          ]
        },
        {
          "output_type": "stream",
          "name": "stdout",
          "text": [
            "[WARN] dividends fetch fail: 263690.KS (디알젬) → Too Many Requests. Rate limited. Try after a while.\n",
            "[WARN] dividends fetch fail: 217330.KS (싸이토젠) → Too Many Requests. Rate limited. Try after a while.\n"
          ]
        },
        {
          "output_type": "stream",
          "name": "stderr",
          "text": [
            "\r배당 수집:  68%|██████▊   | 685/1013 [02:21<00:51,  6.34it/s]"
          ]
        },
        {
          "output_type": "stream",
          "name": "stdout",
          "text": [
            "[WARN] dividends fetch fail: 027360.KS (아주IB투자) → Too Many Requests. Rate limited. Try after a while.\n"
          ]
        },
        {
          "output_type": "stream",
          "name": "stderr",
          "text": [
            "\r배당 수집:  68%|██████▊   | 686/1013 [02:22<01:21,  3.99it/s]"
          ]
        },
        {
          "output_type": "stream",
          "name": "stdout",
          "text": [
            "[WARN] dividends fetch fail: 208340.KS (파멥신) → Too Many Requests. Rate limited. Try after a while.\n"
          ]
        },
        {
          "output_type": "stream",
          "name": "stderr",
          "text": [
            "\r배당 수집:  68%|██████▊   | 687/1013 [02:22<01:20,  4.06it/s]"
          ]
        },
        {
          "output_type": "stream",
          "name": "stdout",
          "text": [
            "[WARN] dividends fetch fail: 263020.KS (디케이앤디) → Too Many Requests. Rate limited. Try after a while.\n",
            "[WARN] dividends fetch fail: 227100.KS (퀀텀온) → Too Many Requests. Rate limited. Try after a while.\n"
          ]
        },
        {
          "output_type": "stream",
          "name": "stderr",
          "text": [
            "\r배당 수집:  68%|██████▊   | 689/1013 [02:23<01:05,  4.98it/s]"
          ]
        },
        {
          "output_type": "stream",
          "name": "stdout",
          "text": [
            "[WARN] dividends fetch fail: 194700.KS (노바렉스) → Too Many Requests. Rate limited. Try after a while.\n",
            "[WARN] dividends fetch fail: 290670.KS (대보마그네틱) → Too Many Requests. Rate limited. Try after a while.\n"
          ]
        },
        {
          "output_type": "stream",
          "name": "stderr",
          "text": [
            "\r배당 수집:  68%|██████▊   | 691/1013 [02:23<00:57,  5.62it/s]"
          ]
        },
        {
          "output_type": "stream",
          "name": "stdout",
          "text": [
            "[WARN] dividends fetch fail: 285490.KS (노바텍) → Too Many Requests. Rate limited. Try after a while.\n",
            "[WARN] dividends fetch fail: 290650.KS (엘앤씨바이오) → Too Many Requests. Rate limited. Try after a while.\n"
          ]
        },
        {
          "output_type": "stream",
          "name": "stderr",
          "text": [
            "\r배당 수집:  68%|██████▊   | 693/1013 [02:23<00:50,  6.37it/s]"
          ]
        },
        {
          "output_type": "stream",
          "name": "stdout",
          "text": [
            "[WARN] dividends fetch fail: 306620.KS (네온테크) → Too Many Requests. Rate limited. Try after a while.\n"
          ]
        },
        {
          "output_type": "stream",
          "name": "stderr",
          "text": [
            "\r배당 수집:  69%|██████▊   | 694/1013 [02:24<01:20,  3.94it/s]"
          ]
        },
        {
          "output_type": "stream",
          "name": "stdout",
          "text": [
            "[WARN] dividends fetch fail: 108490.KS (로보티즈) → Too Many Requests. Rate limited. Try after a while.\n"
          ]
        },
        {
          "output_type": "stream",
          "name": "stderr",
          "text": [
            "\r배당 수집:  69%|██████▊   | 695/1013 [02:24<01:18,  4.03it/s]"
          ]
        },
        {
          "output_type": "stream",
          "name": "stdout",
          "text": [
            "[WARN] dividends fetch fail: 153710.KS (옵티팜) → Too Many Requests. Rate limited. Try after a while.\n",
            "[WARN] dividends fetch fail: 288620.KS (에스퓨얼셀) → Too Many Requests. Rate limited. Try after a while.\n"
          ]
        },
        {
          "output_type": "stream",
          "name": "stderr",
          "text": [
            "\r배당 수집:  69%|██████▉   | 697/1013 [02:24<01:02,  5.03it/s]"
          ]
        },
        {
          "output_type": "stream",
          "name": "stdout",
          "text": [
            "[WARN] dividends fetch fail: 306200.KS (세아제강) → Too Many Requests. Rate limited. Try after a while.\n",
            "[WARN] dividends fetch fail: 293580.KS (나우IB) → Too Many Requests. Rate limited. Try after a while.\n"
          ]
        },
        {
          "output_type": "stream",
          "name": "stderr",
          "text": [
            "\r배당 수집:  69%|██████▉   | 699/1013 [02:24<00:56,  5.53it/s]"
          ]
        },
        {
          "output_type": "stream",
          "name": "stdout",
          "text": [
            "[WARN] dividends fetch fail: 290720.KS (푸드나무) → Too Many Requests. Rate limited. Try after a while.\n",
            "[WARN] dividends fetch fail: 293480.KS (하나제약) → Too Many Requests. Rate limited. Try after a while.\n"
          ]
        },
        {
          "output_type": "stream",
          "name": "stderr",
          "text": [
            "\r배당 수집:  69%|██████▉   | 701/1013 [02:25<00:48,  6.45it/s]"
          ]
        },
        {
          "output_type": "stream",
          "name": "stdout",
          "text": [
            "[WARN] dividends fetch fail: 110790.KS (크리스에프앤씨) → Too Many Requests. Rate limited. Try after a while.\n"
          ]
        },
        {
          "output_type": "stream",
          "name": "stderr",
          "text": [
            "\r배당 수집:  69%|██████▉   | 702/1013 [02:25<01:18,  3.94it/s]"
          ]
        },
        {
          "output_type": "stream",
          "name": "stdout",
          "text": [
            "[WARN] dividends fetch fail: 299170.KS (더블유에스아이) → Too Many Requests. Rate limited. Try after a while.\n"
          ]
        },
        {
          "output_type": "stream",
          "name": "stderr",
          "text": [
            "\r배당 수집:  69%|██████▉   | 703/1013 [02:26<01:17,  4.02it/s]"
          ]
        },
        {
          "output_type": "stream",
          "name": "stdout",
          "text": [
            "[WARN] dividends fetch fail: 219750.KS (한국비티비) → Too Many Requests. Rate limited. Try after a while.\n",
            "[WARN] dividends fetch fail: 010400.KS (우진아이엔에스) → Too Many Requests. Rate limited. Try after a while.\n"
          ]
        },
        {
          "output_type": "stream",
          "name": "stderr",
          "text": [
            "배당 수집:  70%|██████▉   | 706/1013 [02:26<00:54,  5.64it/s]"
          ]
        },
        {
          "output_type": "stream",
          "name": "stdout",
          "text": [
            "[WARN] dividends fetch fail: 291230.KS (엔피) → Too Many Requests. Rate limited. Try after a while.\n",
            "[WARN] dividends fetch fail: 257370.KS (피엔티엠에스) → Too Many Requests. Rate limited. Try after a while.\n"
          ]
        },
        {
          "output_type": "stream",
          "name": "stderr",
          "text": [
            "배당 수집:  70%|██████▉   | 709/1013 [02:26<00:45,  6.76it/s]"
          ]
        },
        {
          "output_type": "stream",
          "name": "stdout",
          "text": [
            "[WARN] dividends fetch fail: 140610.KS (엔솔바이오사이언스) → Too Many Requests. Rate limited. Try after a while.\n",
            "[WARN] dividends fetch fail: 197140.KS (디지캡) → Too Many Requests. Rate limited. Try after a while.\n",
            "[WARN] dividends fetch fail: 303030.KS (지니틱스) → Too Many Requests. Rate limited. Try after a while.\n"
          ]
        },
        {
          "output_type": "stream",
          "name": "stderr",
          "text": [
            "\r배당 수집:  70%|███████   | 710/1013 [02:27<01:19,  3.81it/s]"
          ]
        },
        {
          "output_type": "stream",
          "name": "stdout",
          "text": [
            "[WARN] dividends fetch fail: 290740.KS (액트로) → Too Many Requests. Rate limited. Try after a while.\n"
          ]
        },
        {
          "output_type": "stream",
          "name": "stderr",
          "text": [
            "\r배당 수집:  70%|███████   | 711/1013 [02:27<01:17,  3.89it/s]"
          ]
        },
        {
          "output_type": "stream",
          "name": "stdout",
          "text": [
            "[WARN] dividends fetch fail: 173130.KS (오파스넷) → Too Many Requests. Rate limited. Try after a while.\n",
            "[WARN] dividends fetch fail: 089970.KS (브이엠) → Too Many Requests. Rate limited. Try after a while.\n"
          ]
        },
        {
          "output_type": "stream",
          "name": "stderr",
          "text": [
            "배당 수집:  70%|███████   | 714/1013 [02:28<00:52,  5.69it/s]"
          ]
        },
        {
          "output_type": "stream",
          "name": "stdout",
          "text": [
            "[WARN] dividends fetch fail: 086820.KS (바이오솔루션) → Too Many Requests. Rate limited. Try after a while.\n",
            "[WARN] dividends fetch fail: 302920.KS (더콘텐츠온) → Too Many Requests. Rate limited. Try after a while.\n"
          ]
        },
        {
          "output_type": "stream",
          "name": "stderr",
          "text": [
            "배당 수집:  71%|███████   | 717/1013 [02:28<00:43,  6.80it/s]"
          ]
        },
        {
          "output_type": "stream",
          "name": "stdout",
          "text": [
            "[WARN] dividends fetch fail: 290380.KS (대유) → Too Many Requests. Rate limited. Try after a while.\n",
            "[WARN] dividends fetch fail: 293940.KS (신한알파리츠) → Too Many Requests. Rate limited. Try after a while.\n",
            "[WARN] dividends fetch fail: 110990.KS (디아이티) → Too Many Requests. Rate limited. Try after a while.\n"
          ]
        },
        {
          "output_type": "stream",
          "name": "stderr",
          "text": [
            "\r배당 수집:  71%|███████   | 718/1013 [02:29<01:17,  3.82it/s]"
          ]
        },
        {
          "output_type": "stream",
          "name": "stdout",
          "text": [
            "[WARN] dividends fetch fail: 275630.KS (에스에스알) → Too Many Requests. Rate limited. Try after a while.\n"
          ]
        },
        {
          "output_type": "stream",
          "name": "stderr",
          "text": [
            "배당 수집:  71%|███████   | 721/1013 [02:29<00:57,  5.10it/s]"
          ]
        },
        {
          "output_type": "stream",
          "name": "stdout",
          "text": [
            "[WARN] dividends fetch fail: 300720.KS (한일시멘트) → Too Many Requests. Rate limited. Try after a while.\n",
            "[WARN] dividends fetch fail: 290270.KS (휴네시온) → Too Many Requests. Rate limited. Try after a while.\n",
            "[WARN] dividends fetch fail: 091810.KS (티웨이항공) → Too Many Requests. Rate limited. Try after a while.\n"
          ]
        },
        {
          "output_type": "stream",
          "name": "stderr",
          "text": [
            "\r배당 수집:  71%|███████▏  | 722/1013 [02:29<00:50,  5.73it/s]"
          ]
        },
        {
          "output_type": "stream",
          "name": "stdout",
          "text": [
            "[WARN] dividends fetch fail: 286940.KS (롯데이노베이트) → Too Many Requests. Rate limited. Try after a while.\n"
          ]
        },
        {
          "output_type": "stream",
          "name": "stderr",
          "text": [
            "배당 수집:  72%|███████▏  | 725/1013 [02:30<00:42,  6.72it/s]"
          ]
        },
        {
          "output_type": "stream",
          "name": "stdout",
          "text": [
            "[WARN] dividends fetch fail: 080720.KS (한국유니온제약) → Too Many Requests. Rate limited. Try after a while.\n",
            "[WARN] dividends fetch fail: 204020.KS (그리티) → Too Many Requests. Rate limited. Try after a while.\n",
            "[WARN] dividends fetch fail: 297570.KS (알로이스) → Too Many Requests. Rate limited. Try after a while.\n"
          ]
        },
        {
          "output_type": "stream",
          "name": "stderr",
          "text": [
            "\r배당 수집:  72%|███████▏  | 726/1013 [02:30<01:14,  3.86it/s]"
          ]
        },
        {
          "output_type": "stream",
          "name": "stdout",
          "text": [
            "[WARN] dividends fetch fail: 226950.KS (올릭스) → Too Many Requests. Rate limited. Try after a while.\n"
          ]
        },
        {
          "output_type": "stream",
          "name": "stderr",
          "text": [
            "배당 수집:  72%|███████▏  | 729/1013 [02:31<00:54,  5.19it/s]"
          ]
        },
        {
          "output_type": "stream",
          "name": "stdout",
          "text": [
            "[WARN] dividends fetch fail: 298050.KS (HS효성첨단소재) → Too Many Requests. Rate limited. Try after a while.\n",
            "[WARN] dividends fetch fail: 258050.KS (테크트랜스) → Too Many Requests. Rate limited. Try after a while.\n",
            "[WARN] dividends fetch fail: 298040.KS (효성중공업) → Too Many Requests. Rate limited. Try after a while.\n"
          ]
        },
        {
          "output_type": "stream",
          "name": "stderr",
          "text": [
            "\r배당 수집:  72%|███████▏  | 730/1013 [02:31<00:48,  5.82it/s]"
          ]
        },
        {
          "output_type": "stream",
          "name": "stdout",
          "text": [
            "[WARN] dividends fetch fail: 298020.KS (효성티앤씨) → Too Many Requests. Rate limited. Try after a while.\n"
          ]
        },
        {
          "output_type": "stream",
          "name": "stderr",
          "text": [
            "배당 수집:  72%|███████▏  | 733/1013 [02:31<00:42,  6.64it/s]"
          ]
        },
        {
          "output_type": "stream",
          "name": "stdout",
          "text": [
            "[WARN] dividends fetch fail: 298000.KS (효성화학) → Too Many Requests. Rate limited. Try after a while.\n",
            "[WARN] dividends fetch fail: 175250.KS (아이큐어) → Too Many Requests. Rate limited. Try after a while.\n",
            "[WARN] dividends fetch fail: 289080.KS (SV인베스트먼트) → Too Many Requests. Rate limited. Try after a while.\n"
          ]
        },
        {
          "output_type": "stream",
          "name": "stderr",
          "text": [
            "\r배당 수집:  72%|███████▏  | 734/1013 [02:32<01:12,  3.86it/s]"
          ]
        },
        {
          "output_type": "stream",
          "name": "stdout",
          "text": [
            "[WARN] dividends fetch fail: 276240.KS (엘리비젼) → Too Many Requests. Rate limited. Try after a while.\n"
          ]
        },
        {
          "output_type": "stream",
          "name": "stderr",
          "text": [
            "배당 수집:  73%|███████▎  | 737/1013 [02:32<00:53,  5.17it/s]"
          ]
        },
        {
          "output_type": "stream",
          "name": "stdout",
          "text": [
            "[WARN] dividends fetch fail: 299480.KS (지앤이헬스케어) → Too Many Requests. Rate limited. Try after a while.\n",
            "[WARN] dividends fetch fail: 088260.KS (이리츠코크렙) → Too Many Requests. Rate limited. Try after a while.\n",
            "[WARN] dividends fetch fail: 245620.KS (EDGC) → Too Many Requests. Rate limited. Try after a while.\n",
            "[WARN] dividends fetch fail: 294870.KS (HDC현대산업개발) → Too Many Requests. Rate limited. Try after a while.\n"
          ]
        },
        {
          "output_type": "stream",
          "name": "stderr",
          "text": [
            "배당 수집:  73%|███████▎  | 741/1013 [02:33<00:41,  6.60it/s]"
          ]
        },
        {
          "output_type": "stream",
          "name": "stdout",
          "text": [
            "[WARN] dividends fetch fail: 284620.KS (카이노스메드) → Too Many Requests. Rate limited. Try after a while.\n",
            "[WARN] dividends fetch fail: 037030.KS (파워넷) → Too Many Requests. Rate limited. Try after a while.\n",
            "[WARN] dividends fetch fail: 016790.KS (현대사료) → Too Many Requests. Rate limited. Try after a while.\n"
          ]
        },
        {
          "output_type": "stream",
          "name": "stderr",
          "text": [
            "\r배당 수집:  73%|███████▎  | 742/1013 [02:34<01:06,  4.06it/s]"
          ]
        },
        {
          "output_type": "stream",
          "name": "stdout",
          "text": [
            "[WARN] dividends fetch fail: 258830.KS (세종메디칼) → Too Many Requests. Rate limited. Try after a while.\n"
          ]
        },
        {
          "output_type": "stream",
          "name": "stderr",
          "text": [
            "배당 수집:  74%|███████▎  | 745/1013 [02:34<00:50,  5.26it/s]"
          ]
        },
        {
          "output_type": "stream",
          "name": "stdout",
          "text": [
            "[WARN] dividends fetch fail: 122310.KS (제노레이) → Too Many Requests. Rate limited. Try after a while.\n",
            "[WARN] dividends fetch fail: 217910.KS (에스제이켐) → Too Many Requests. Rate limited. Try after a while.\n",
            "[WARN] dividends fetch fail: 950170.KS (JTC) → Too Many Requests. Rate limited. Try after a while.\n",
            "[WARN] dividends fetch fail: 253590.KS (네오셈) → Too Many Requests. Rate limited. Try after a while.\n"
          ]
        },
        {
          "output_type": "stream",
          "name": "stderr",
          "text": [
            "배당 수집:  74%|███████▍  | 749/1013 [02:35<00:39,  6.64it/s]"
          ]
        },
        {
          "output_type": "stream",
          "name": "stdout",
          "text": [
            "[WARN] dividends fetch fail: 263700.KS (케어랩스) → Too Many Requests. Rate limited. Try after a while.\n",
            "[WARN] dividends fetch fail: 018250.KS (애경산업) → Too Many Requests. Rate limited. Try after a while.\n",
            "[WARN] dividends fetch fail: 277070.KS (린드먼아시아) → Too Many Requests. Rate limited. Try after a while.\n"
          ]
        },
        {
          "output_type": "stream",
          "name": "stderr",
          "text": [
            "\r배당 수집:  74%|███████▍  | 750/1013 [02:35<01:05,  3.99it/s]"
          ]
        },
        {
          "output_type": "stream",
          "name": "stdout",
          "text": [
            "[WARN] dividends fetch fail: 226400.KS (오스테오닉) → Too Many Requests. Rate limited. Try after a while.\n"
          ]
        },
        {
          "output_type": "stream",
          "name": "stderr",
          "text": [
            "배당 수집:  74%|███████▍  | 754/1013 [02:36<00:43,  5.91it/s]"
          ]
        },
        {
          "output_type": "stream",
          "name": "stdout",
          "text": [
            "[WARN] dividends fetch fail: 183490.KS (엔지켐생명과학) → Too Many Requests. Rate limited. Try after a while.\n",
            "[WARN] dividends fetch fail: 006620.KS (동구바이오제약) → Too Many Requests. Rate limited. Try after a while.\n",
            "[WARN] dividends fetch fail: 154030.KS (아시아종묘) → Too Many Requests. Rate limited. Try after a while.\n",
            "[WARN] dividends fetch fail: 260660.KS (알리코제약) → Too Many Requests. Rate limited. Try after a while.\n"
          ]
        },
        {
          "output_type": "stream",
          "name": "stderr",
          "text": [
            "배당 수집:  75%|███████▍  | 757/1013 [02:36<00:38,  6.61it/s]"
          ]
        },
        {
          "output_type": "stream",
          "name": "stdout",
          "text": [
            "[WARN] dividends fetch fail: 042000.KS (카페24) → Too Many Requests. Rate limited. Try after a while.\n",
            "[WARN] dividends fetch fail: 068270.KS (셀트리온) → Too Many Requests. Rate limited. Try after a while.\n",
            "[WARN] dividends fetch fail: 219420.KS (링크제니시스) → Too Many Requests. Rate limited. Try after a while.\n"
          ]
        },
        {
          "output_type": "stream",
          "name": "stderr",
          "text": [
            "\r배당 수집:  75%|███████▍  | 758/1013 [02:37<01:03,  3.99it/s]"
          ]
        },
        {
          "output_type": "stream",
          "name": "stdout",
          "text": [
            "[WARN] dividends fetch fail: 267790.KS (배럴) → Too Many Requests. Rate limited. Try after a while.\n"
          ]
        },
        {
          "output_type": "stream",
          "name": "stderr",
          "text": [
            "배당 수집:  75%|███████▌  | 761/1013 [02:37<00:50,  5.03it/s]"
          ]
        },
        {
          "output_type": "stream",
          "name": "stdout",
          "text": [
            "[WARN] dividends fetch fail: 264660.KS (씨앤지하이테크) → Too Many Requests. Rate limited. Try after a while.\n",
            "[WARN] dividends fetch fail: 255220.KS (SG) → Too Many Requests. Rate limited. Try after a while.\n",
            "[WARN] dividends fetch fail: 285130.KS (SK케미칼) → Too Many Requests. Rate limited. Try after a while.\n",
            "[WARN] dividends fetch fail: 284740.KS (쿠쿠홈시스) → Too Many Requests. Rate limited. Try after a while.\n"
          ]
        },
        {
          "output_type": "stream",
          "name": "stderr",
          "text": [
            "배당 수집:  76%|███████▌  | 765/1013 [02:38<00:36,  6.79it/s]"
          ]
        },
        {
          "output_type": "stream",
          "name": "stdout",
          "text": [
            "[WARN] dividends fetch fail: 269620.KS (시스웍) → Too Many Requests. Rate limited. Try after a while.\n",
            "[WARN] dividends fetch fail: 187870.KS (디바이스) → Too Many Requests. Rate limited. Try after a while.\n",
            "[WARN] dividends fetch fail: 236030.KS (씨알푸드) → Too Many Requests. Rate limited. Try after a while.\n",
            "[WARN] dividends fetch fail: 281740.KS (레이크머티리얼즈) → Too Many Requests. Rate limited. Try after a while.\n"
          ]
        },
        {
          "output_type": "stream",
          "name": "stderr",
          "text": [
            "배당 수집:  76%|███████▌  | 769/1013 [02:39<00:50,  4.79it/s]"
          ]
        },
        {
          "output_type": "stream",
          "name": "stdout",
          "text": [
            "[WARN] dividends fetch fail: 092780.KS (DYP) → Too Many Requests. Rate limited. Try after a while.\n",
            "[WARN] dividends fetch fail: 272450.KS (진에어) → Too Many Requests. Rate limited. Try after a while.\n",
            "[WARN] dividends fetch fail: 260930.KS (씨티케이) → Too Many Requests. Rate limited. Try after a while.\n"
          ]
        },
        {
          "output_type": "stream",
          "name": "stderr",
          "text": [
            "배당 수집:  76%|███████▌  | 771/1013 [02:39<00:44,  5.39it/s]"
          ]
        },
        {
          "output_type": "stream",
          "name": "stdout",
          "text": [
            "[WARN] dividends fetch fail: 282330.KS (BGF리테일) → Too Many Requests. Rate limited. Try after a while.\n",
            "[WARN] dividends fetch fail: 241770.KS (메카로) → Too Many Requests. Rate limited. Try after a while.\n",
            "[WARN] dividends fetch fail: 234300.KS (에스트래픽) → Too Many Requests. Rate limited. Try after a while.\n"
          ]
        },
        {
          "output_type": "stream",
          "name": "stderr",
          "text": [
            "\r배당 수집:  76%|███████▋  | 773/1013 [02:39<00:34,  7.04it/s]"
          ]
        },
        {
          "output_type": "stream",
          "name": "stdout",
          "text": [
            "[WARN] dividends fetch fail: 281820.KS (케이씨텍) → Too Many Requests. Rate limited. Try after a while.\n",
            "[WARN] dividends fetch fail: 066360.KS (체리부로) → Too Many Requests. Rate limited. Try after a while.\n"
          ]
        },
        {
          "output_type": "stream",
          "name": "stderr",
          "text": [
            "\r배당 수집:  77%|███████▋  | 775/1013 [02:41<01:06,  3.61it/s]"
          ]
        },
        {
          "output_type": "stream",
          "name": "stdout",
          "text": [
            "[WARN] dividends fetch fail: 007680.KS (대원) → Too Many Requests. Rate limited. Try after a while.\n"
          ]
        },
        {
          "output_type": "stream",
          "name": "stderr",
          "text": [
            "배당 수집:  77%|███████▋  | 778/1013 [02:41<00:44,  5.24it/s]"
          ]
        },
        {
          "output_type": "stream",
          "name": "stdout",
          "text": [
            "[WARN] dividends fetch fail: 272550.KS (삼양패키징) → Too Many Requests. Rate limited. Try after a while.\n",
            "[WARN] dividends fetch fail: 253450.KS (스튜디오드래곤) → Too Many Requests. Rate limited. Try after a while.\n",
            "[WARN] dividends fetch fail: 950160.KS (코오롱티슈진) → Too Many Requests. Rate limited. Try after a while.\n"
          ]
        },
        {
          "output_type": "stream",
          "name": "stderr",
          "text": [
            "배당 수집:  77%|███████▋  | 781/1013 [02:41<00:31,  7.47it/s]"
          ]
        },
        {
          "output_type": "stream",
          "name": "stdout",
          "text": [
            "[WARN] dividends fetch fail: 278990.KS (EMB) → Too Many Requests. Rate limited. Try after a while.\n",
            "[WARN] dividends fetch fail: 055490.KS (테이팩스) → Too Many Requests. Rate limited. Try after a while.\n",
            "[WARN] dividends fetch fail: 280360.KS (롯데웰푸드) → Too Many Requests. Rate limited. Try after a while.\n",
            "[WARN] dividends fetch fail: 180060.KS (탑선) → Too Many Requests. Rate limited. Try after a while.\n"
          ]
        },
        {
          "output_type": "stream",
          "name": "stderr",
          "text": [
            "\r배당 수집:  77%|███████▋  | 783/1013 [02:42<01:02,  3.69it/s]"
          ]
        },
        {
          "output_type": "stream",
          "name": "stdout",
          "text": [
            "[WARN] dividends fetch fail: 265560.KS (영화테크) → Too Many Requests. Rate limited. Try after a while.\n"
          ]
        },
        {
          "output_type": "stream",
          "name": "stderr",
          "text": [
            "배당 수집:  78%|███████▊  | 786/1013 [02:42<00:42,  5.38it/s]"
          ]
        },
        {
          "output_type": "stream",
          "name": "stdout",
          "text": [
            "[WARN] dividends fetch fail: 234100.KS (폴라리스세원) → Too Many Requests. Rate limited. Try after a while.\n",
            "[WARN] dividends fetch fail: 263810.KS (상신전자) → Too Many Requests. Rate limited. Try after a while.\n",
            "[WARN] dividends fetch fail: 255440.KS (야스) → Too Many Requests. Rate limited. Try after a while.\n"
          ]
        },
        {
          "output_type": "stream",
          "name": "stderr",
          "text": [
            "\r배당 수집:  78%|███████▊  | 788/1013 [02:43<00:34,  6.54it/s]"
          ]
        },
        {
          "output_type": "stream",
          "name": "stdout",
          "text": [
            "[WARN] dividends fetch fail: 277410.KS (인산가) → Too Many Requests. Rate limited. Try after a while.\n",
            "[WARN] dividends fetch fail: 263920.KS (휴엠앤씨) → Too Many Requests. Rate limited. Try after a while.\n",
            "[WARN] dividends fetch fail: 243840.KS (신흥에스이씨) → Too Many Requests. Rate limited. Try after a while.\n"
          ]
        },
        {
          "output_type": "stream",
          "name": "stderr",
          "text": [
            "\r배당 수집:  78%|███████▊  | 790/1013 [02:43<00:48,  4.57it/s]"
          ]
        },
        {
          "output_type": "stream",
          "name": "stdout",
          "text": [
            "[WARN] dividends fetch fail: 179900.KS (유티아이) → Too Many Requests. Rate limited. Try after a while.\n"
          ]
        },
        {
          "output_type": "stream",
          "name": "stderr",
          "text": [
            "\r배당 수집:  78%|███████▊  | 791/1013 [02:44<00:57,  3.84it/s]"
          ]
        },
        {
          "output_type": "stream",
          "name": "stdout",
          "text": [
            "[WARN] dividends fetch fail: 171090.KS (선익시스템) → Too Many Requests. Rate limited. Try after a while.\n"
          ]
        },
        {
          "output_type": "stream",
          "name": "stderr",
          "text": [
            "배당 수집:  78%|███████▊  | 794/1013 [02:44<00:38,  5.67it/s]"
          ]
        },
        {
          "output_type": "stream",
          "name": "stdout",
          "text": [
            "[WARN] dividends fetch fail: 259630.KS (엠플러스) → Too Many Requests. Rate limited. Try after a while.\n",
            "[WARN] dividends fetch fail: 174900.KS (앱클론) → Too Many Requests. Rate limited. Try after a while.\n",
            "[WARN] dividends fetch fail: 263750.KS (펄어비스) → Too Many Requests. Rate limited. Try after a while.\n"
          ]
        },
        {
          "output_type": "stream",
          "name": "stderr",
          "text": [
            "배당 수집:  79%|███████▊  | 797/1013 [02:44<00:27,  7.85it/s]"
          ]
        },
        {
          "output_type": "stream",
          "name": "stdout",
          "text": [
            "[WARN] dividends fetch fail: 256940.KS (킵스파마) → Too Many Requests. Rate limited. Try after a while.\n",
            "[WARN] dividends fetch fail: 260870.KS (SK시그넷) → Too Many Requests. Rate limited. Try after a while.\n",
            "[WARN] dividends fetch fail: 263600.KS (덕우전자) → Too Many Requests. Rate limited. Try after a while.\n",
            "[WARN] dividends fetch fail: 270520.KS (앱트뉴로사이언스) → Too Many Requests. Rate limited. Try after a while.\n"
          ]
        },
        {
          "output_type": "stream",
          "name": "stderr",
          "text": [
            "배당 수집:  79%|███████▉  | 800/1013 [02:46<00:54,  3.93it/s]"
          ]
        },
        {
          "output_type": "stream",
          "name": "stdout",
          "text": [
            "[WARN] dividends fetch fail: 258610.KS (케일럼) → Too Many Requests. Rate limited. Try after a while.\n",
            "[WARN] dividends fetch fail: 140670.KS (알에스오토메이션) → Too Many Requests. Rate limited. Try after a while.\n"
          ]
        },
        {
          "output_type": "stream",
          "name": "stderr",
          "text": [
            "\r배당 수집:  79%|███████▉  | 802/1013 [02:46<00:38,  5.43it/s]"
          ]
        },
        {
          "output_type": "stream",
          "name": "stdout",
          "text": [
            "[WARN] dividends fetch fail: 900310.KS (컬러레이) → Too Many Requests. Rate limited. Try after a while.\n",
            "[WARN] dividends fetch fail: 273060.KS (와이즈버즈) → Too Many Requests. Rate limited. Try after a while.\n",
            "[WARN] dividends fetch fail: 118990.KS (모트렉스) → Too Many Requests. Rate limited. Try after a while.\n"
          ]
        },
        {
          "output_type": "stream",
          "name": "stderr",
          "text": [
            "\r배당 수집:  79%|███████▉  | 804/1013 [02:46<00:31,  6.59it/s]"
          ]
        },
        {
          "output_type": "stream",
          "name": "stdout",
          "text": [
            "[WARN] dividends fetch fail: 263800.KS (데이타솔루션) → Too Many Requests. Rate limited. Try after a while.\n",
            "[WARN] dividends fetch fail: 263860.KS (지니언스) → Too Many Requests. Rate limited. Try after a while.\n"
          ]
        },
        {
          "output_type": "stream",
          "name": "stderr",
          "text": [
            "\r배당 수집:  80%|███████▉  | 806/1013 [02:47<00:46,  4.41it/s]"
          ]
        },
        {
          "output_type": "stream",
          "name": "stdout",
          "text": [
            "[WARN] dividends fetch fail: 263720.KS (디앤씨미디어) → Too Many Requests. Rate limited. Try after a while.\n"
          ]
        },
        {
          "output_type": "stream",
          "name": "stderr",
          "text": [
            "\r배당 수집:  80%|███████▉  | 807/1013 [02:47<00:52,  3.90it/s]"
          ]
        },
        {
          "output_type": "stream",
          "name": "stdout",
          "text": [
            "[WARN] dividends fetch fail: 162120.KS (루켄테크놀러지스) → Too Many Requests. Rate limited. Try after a while.\n"
          ]
        },
        {
          "output_type": "stream",
          "name": "stderr",
          "text": [
            "배당 수집:  80%|███████▉  | 810/1013 [02:47<00:35,  5.76it/s]"
          ]
        },
        {
          "output_type": "stream",
          "name": "stdout",
          "text": [
            "[WARN] dividends fetch fail: 238490.KS (힘스) → Too Many Requests. Rate limited. Try after a while.\n",
            "[WARN] dividends fetch fail: 271980.KS (제일약품) → Too Many Requests. Rate limited. Try after a while.\n",
            "[WARN] dividends fetch fail: 251630.KS (브이원텍) → Too Many Requests. Rate limited. Try after a while.\n",
            "[WARN] dividends fetch fail: 227610.KS (아우딘퓨쳐스) → Too Many Requests. Rate limited. Try after a while.\n"
          ]
        },
        {
          "output_type": "stream",
          "name": "stderr",
          "text": [
            "\r배당 수집:  80%|████████  | 812/1013 [02:48<00:28,  7.03it/s]"
          ]
        },
        {
          "output_type": "stream",
          "name": "stdout",
          "text": [
            "[WARN] dividends fetch fail: 272290.KS (이녹스첨단소재) → Too Many Requests. Rate limited. Try after a while.\n",
            "[WARN] dividends fetch fail: 035720.KS (카카오) → Too Many Requests. Rate limited. Try after a while.\n"
          ]
        },
        {
          "output_type": "stream",
          "name": "stderr",
          "text": [
            "\r배당 수집:  80%|████████  | 814/1013 [02:48<00:43,  4.55it/s]"
          ]
        },
        {
          "output_type": "stream",
          "name": "stdout",
          "text": [
            "[WARN] dividends fetch fail: 271560.KS (오리온) → Too Many Requests. Rate limited. Try after a while.\n"
          ]
        },
        {
          "output_type": "stream",
          "name": "stderr",
          "text": [
            "\r배당 수집:  80%|████████  | 815/1013 [02:49<00:50,  3.94it/s]"
          ]
        },
        {
          "output_type": "stream",
          "name": "stdout",
          "text": [
            "[WARN] dividends fetch fail: 003380.KS (하림지주) → Too Many Requests. Rate limited. Try after a while.\n"
          ]
        },
        {
          "output_type": "stream",
          "name": "stderr",
          "text": [
            "배당 수집:  81%|████████  | 818/1013 [02:49<00:33,  5.77it/s]"
          ]
        },
        {
          "output_type": "stream",
          "name": "stdout",
          "text": [
            "[WARN] dividends fetch fail: 233250.KS (메디안디노스틱) → Too Many Requests. Rate limited. Try after a while.\n",
            "[WARN] dividends fetch fail: 261200.KS (덴티스) → Too Many Requests. Rate limited. Try after a while.\n",
            "[WARN] dividends fetch fail: 267320.KS (나인테크) → Too Many Requests. Rate limited. Try after a while.\n",
            "[WARN] dividends fetch fail: 270210.KS (에스알바이오텍) → Too Many Requests. Rate limited. Try after a while.\n"
          ]
        },
        {
          "output_type": "stream",
          "name": "stderr",
          "text": [
            "\r배당 수집:  81%|████████  | 820/1013 [02:49<00:29,  6.58it/s]"
          ]
        },
        {
          "output_type": "stream",
          "name": "stdout",
          "text": [
            "[WARN] dividends fetch fail: 266170.KS (뿌리깊은나무들) → Too Many Requests. Rate limited. Try after a while.\n",
            "[WARN] dividends fetch fail: 250000.KS (보라티알) → Too Many Requests. Rate limited. Try after a while.\n"
          ]
        },
        {
          "output_type": "stream",
          "name": "stderr",
          "text": [
            "\r배당 수집:  81%|████████  | 822/1013 [02:50<00:40,  4.71it/s]"
          ]
        },
        {
          "output_type": "stream",
          "name": "stdout",
          "text": [
            "[WARN] dividends fetch fail: 267980.KS (매일유업) → Too Many Requests. Rate limited. Try after a while.\n"
          ]
        },
        {
          "output_type": "stream",
          "name": "stderr",
          "text": [
            "\r배당 수집:  81%|████████  | 823/1013 [02:50<00:48,  3.89it/s]"
          ]
        },
        {
          "output_type": "stream",
          "name": "stdout",
          "text": [
            "[WARN] dividends fetch fail: 225190.KS (LK삼양) → Too Many Requests. Rate limited. Try after a while.\n"
          ]
        },
        {
          "output_type": "stream",
          "name": "stderr",
          "text": [
            "배당 수집:  82%|████████▏ | 826/1013 [02:51<00:32,  5.82it/s]"
          ]
        },
        {
          "output_type": "stream",
          "name": "stdout",
          "text": [
            "[WARN] dividends fetch fail: 264850.KS (이랜시스) → Too Many Requests. Rate limited. Try after a while.\n",
            "[WARN] dividends fetch fail: 161580.KS (필옵틱스) → Too Many Requests. Rate limited. Try after a while.\n",
            "[WARN] dividends fetch fail: 268280.KS (미원에스씨) → Too Many Requests. Rate limited. Try after a while.\n",
            "[WARN] dividends fetch fail: 267290.KS (경동도시가스) → Too Many Requests. Rate limited. Try after a while.\n"
          ]
        },
        {
          "output_type": "stream",
          "name": "stderr",
          "text": [
            "\r배당 수집:  82%|████████▏ | 828/1013 [02:51<00:28,  6.59it/s]"
          ]
        },
        {
          "output_type": "stream",
          "name": "stdout",
          "text": [
            "[WARN] dividends fetch fail: 251270.KS (넷마블) → Too Many Requests. Rate limited. Try after a while.\n",
            "[WARN] dividends fetch fail: 267250.KS (HD현대) → Too Many Requests. Rate limited. Try after a while.\n"
          ]
        },
        {
          "output_type": "stream",
          "name": "stderr",
          "text": [
            "\r배당 수집:  82%|████████▏ | 830/1013 [02:52<00:38,  4.79it/s]"
          ]
        },
        {
          "output_type": "stream",
          "name": "stdout",
          "text": [
            "[WARN] dividends fetch fail: 267270.KS (HD현대건설기계) → Too Many Requests. Rate limited. Try after a while.\n"
          ]
        },
        {
          "output_type": "stream",
          "name": "stderr",
          "text": [
            "\r배당 수집:  82%|████████▏ | 831/1013 [02:52<00:46,  3.88it/s]"
          ]
        },
        {
          "output_type": "stream",
          "name": "stdout",
          "text": [
            "[WARN] dividends fetch fail: 267260.KS (HD현대일렉트릭) → Too Many Requests. Rate limited. Try after a while.\n"
          ]
        },
        {
          "output_type": "stream",
          "name": "stderr",
          "text": [
            "배당 수집:  82%|████████▏ | 835/1013 [02:52<00:26,  6.61it/s]"
          ]
        },
        {
          "output_type": "stream",
          "name": "stdout",
          "text": [
            "[WARN] dividends fetch fail: 256630.KS (포인트엔지니어링) → Too Many Requests. Rate limited. Try after a while.\n",
            "[WARN] dividends fetch fail: 166090.KS (하나머티리얼즈) → Too Many Requests. Rate limited. Try after a while.\n",
            "[WARN] dividends fetch fail: 258790.KS (소프트캠프) → Too Many Requests. Rate limited. Try after a while.\n",
            "[WARN] dividends fetch fail: 251370.KS (와이엠티) → Too Many Requests. Rate limited. Try after a while.\n"
          ]
        },
        {
          "output_type": "stream",
          "name": "stderr",
          "text": [
            "\r배당 수집:  83%|████████▎ | 837/1013 [02:53<00:25,  6.84it/s]"
          ]
        },
        {
          "output_type": "stream",
          "name": "stdout",
          "text": [
            "[WARN] dividends fetch fail: 266870.KS (파워풀엑스) → Too Many Requests. Rate limited. Try after a while.\n",
            "[WARN] dividends fetch fail: 264900.KS (크라운제과) → Too Many Requests. Rate limited. Try after a while.\n"
          ]
        },
        {
          "output_type": "stream",
          "name": "stderr",
          "text": [
            "\r배당 수집:  83%|████████▎ | 838/1013 [02:53<00:38,  4.59it/s]"
          ]
        },
        {
          "output_type": "stream",
          "name": "stdout",
          "text": [
            "[WARN] dividends fetch fail: 265520.KS (AP시스템) → Too Many Requests. Rate limited. Try after a while.\n"
          ]
        },
        {
          "output_type": "stream",
          "name": "stderr",
          "text": [
            "배당 수집:  83%|████████▎ | 840/1013 [02:54<00:43,  3.95it/s]"
          ]
        },
        {
          "output_type": "stream",
          "name": "stdout",
          "text": [
            "[WARN] dividends fetch fail: 263770.KS (유에스티) → Too Many Requests. Rate limited. Try after a while.\n",
            "[WARN] dividends fetch fail: 063760.KS (이엘피) → Too Many Requests. Rate limited. Try after a while.\n"
          ]
        },
        {
          "output_type": "stream",
          "name": "stderr",
          "text": [
            "\r배당 수집:  83%|████████▎ | 842/1013 [02:54<00:29,  5.77it/s]"
          ]
        },
        {
          "output_type": "stream",
          "name": "stdout",
          "text": [
            "[WARN] dividends fetch fail: 264450.KS (유비쿼스) → Too Many Requests. Rate limited. Try after a while.\n",
            "[WARN] dividends fetch fail: 178320.KS (서진시스템) → Too Many Requests. Rate limited. Try after a while.\n",
            "[WARN] dividends fetch fail: 183300.KS (코미코) → Too Many Requests. Rate limited. Try after a while.\n"
          ]
        },
        {
          "output_type": "stream",
          "name": "stderr",
          "text": [
            "배당 수집:  83%|████████▎ | 845/1013 [02:54<00:24,  6.96it/s]"
          ]
        },
        {
          "output_type": "stream",
          "name": "stdout",
          "text": [
            "[WARN] dividends fetch fail: 246720.KS (아스타) → Too Many Requests. Rate limited. Try after a while.\n",
            "[WARN] dividends fetch fail: 145720.KS (덴티움) → Too Many Requests. Rate limited. Try after a while.\n"
          ]
        },
        {
          "output_type": "stream",
          "name": "stderr",
          "text": [
            "\r배당 수집:  84%|████████▎ | 846/1013 [02:55<00:37,  4.44it/s]"
          ]
        },
        {
          "output_type": "stream",
          "name": "stdout",
          "text": [
            "[WARN] dividends fetch fail: 217480.KS (에스디생명공학) → Too Many Requests. Rate limited. Try after a while.\n"
          ]
        },
        {
          "output_type": "stream",
          "name": "stderr",
          "text": [
            "배당 수집:  84%|████████▎ | 848/1013 [02:55<00:43,  3.84it/s]"
          ]
        },
        {
          "output_type": "stream",
          "name": "stdout",
          "text": [
            "[WARN] dividends fetch fail: 002800.KS (신신제약) → Too Many Requests. Rate limited. Try after a while.\n",
            "[WARN] dividends fetch fail: 083500.KS (에프엔에스테크) → Too Many Requests. Rate limited. Try after a while.\n",
            "[WARN] dividends fetch fail: 087260.KS (모바일어플라이언스) → Too Many Requests. Rate limited. Try after a while.\n"
          ]
        },
        {
          "output_type": "stream",
          "name": "stderr",
          "text": [
            "\r배당 수집:  84%|████████▍ | 850/1013 [02:56<00:29,  5.61it/s]"
          ]
        },
        {
          "output_type": "stream",
          "name": "stdout",
          "text": [
            "[WARN] dividends fetch fail: 241820.KS (피씨엘) → Too Many Requests. Rate limited. Try after a while.\n",
            "[WARN] dividends fetch fail: 111110.KS (호전실업) → Too Many Requests. Rate limited. Try after a while.\n"
          ]
        },
        {
          "output_type": "stream",
          "name": "stderr",
          "text": [
            "\r배당 수집:  84%|████████▍ | 852/1013 [02:56<00:28,  5.75it/s]"
          ]
        },
        {
          "output_type": "stream",
          "name": "stdout",
          "text": [
            "[WARN] dividends fetch fail: 140070.KS (서플러스글로벌) → Too Many Requests. Rate limited. Try after a while.\n",
            "[WARN] dividends fetch fail: 206650.KS (유바이오로직스) → Too Many Requests. Rate limited. Try after a while.\n"
          ]
        },
        {
          "output_type": "stream",
          "name": "stderr",
          "text": [
            "\r배당 수집:  84%|████████▍ | 854/1013 [02:56<00:31,  5.09it/s]"
          ]
        },
        {
          "output_type": "stream",
          "name": "stdout",
          "text": [
            "[WARN] dividends fetch fail: 227420.KS (도부) → Too Many Requests. Rate limited. Try after a while.\n"
          ]
        },
        {
          "output_type": "stream",
          "name": "stderr",
          "text": [
            "배당 수집:  85%|████████▍ | 856/1013 [02:57<00:38,  4.09it/s]"
          ]
        },
        {
          "output_type": "stream",
          "name": "stdout",
          "text": [
            "[WARN] dividends fetch fail: 256840.KS (한국비엔씨) → Too Many Requests. Rate limited. Try after a while.\n",
            "[WARN] dividends fetch fail: 241520.KS (DSC인베스트먼트) → Too Many Requests. Rate limited. Try after a while.\n"
          ]
        },
        {
          "output_type": "stream",
          "name": "stderr",
          "text": [
            "\r배당 수집:  85%|████████▍ | 858/1013 [02:57<00:26,  5.74it/s]"
          ]
        },
        {
          "output_type": "stream",
          "name": "stdout",
          "text": [
            "[WARN] dividends fetch fail: 246690.KS (TS인베스트먼트) → Too Many Requests. Rate limited. Try after a while.\n",
            "[WARN] dividends fetch fail: 147760.KS (피엠티) → Too Many Requests. Rate limited. Try after a while.\n",
            "[WARN] dividends fetch fail: 199290.KS (바이오프로테크) → Too Many Requests. Rate limited. Try after a while.\n"
          ]
        },
        {
          "output_type": "stream",
          "name": "stderr",
          "text": [
            "\r배당 수집:  85%|████████▍ | 860/1013 [02:58<00:25,  5.95it/s]"
          ]
        },
        {
          "output_type": "stream",
          "name": "stdout",
          "text": [
            "[WARN] dividends fetch fail: 196300.KS (HLB펩) → Too Many Requests. Rate limited. Try after a while.\n",
            "[WARN] dividends fetch fail: 203450.KS (유니온바이오메트릭스) → Too Many Requests. Rate limited. Try after a while.\n"
          ]
        },
        {
          "output_type": "stream",
          "name": "stderr",
          "text": [
            "\r배당 수집:  85%|████████▌ | 862/1013 [02:58<00:28,  5.21it/s]"
          ]
        },
        {
          "output_type": "stream",
          "name": "stdout",
          "text": [
            "[WARN] dividends fetch fail: 215600.KS (신라젠) → Too Many Requests. Rate limited. Try after a while.\n"
          ]
        },
        {
          "output_type": "stream",
          "name": "stderr",
          "text": [
            "배당 수집:  85%|████████▌ | 864/1013 [02:59<00:36,  4.10it/s]"
          ]
        },
        {
          "output_type": "stream",
          "name": "stdout",
          "text": [
            "[WARN] dividends fetch fail: 254120.KS (자비스) → Too Many Requests. Rate limited. Try after a while.\n",
            "[WARN] dividends fetch fail: 143210.KS (핸즈코퍼레이션) → Too Many Requests. Rate limited. Try after a while.\n"
          ]
        },
        {
          "output_type": "stream",
          "name": "stderr",
          "text": [
            "\r배당 수집:  85%|████████▌ | 866/1013 [02:59<00:25,  5.71it/s]"
          ]
        },
        {
          "output_type": "stream",
          "name": "stdout",
          "text": [
            "[WARN] dividends fetch fail: 241790.KS (티이엠씨씨엔에스) → Too Many Requests. Rate limited. Try after a while.\n",
            "[WARN] dividends fetch fail: 220100.KS (퓨쳐켐) → Too Many Requests. Rate limited. Try after a while.\n",
            "[WARN] dividends fetch fail: 144960.KS (뉴파워프라즈마) → Too Many Requests. Rate limited. Try after a while.\n"
          ]
        },
        {
          "output_type": "stream",
          "name": "stderr",
          "text": [
            "\r배당 수집:  86%|████████▌ | 868/1013 [02:59<00:24,  5.97it/s]"
          ]
        },
        {
          "output_type": "stream",
          "name": "stdout",
          "text": [
            "[WARN] dividends fetch fail: 156100.KS (엘앤케이바이오) → Too Many Requests. Rate limited. Try after a while.\n",
            "[WARN] dividends fetch fail: 220180.KS (핸디소프트) → Too Many Requests. Rate limited. Try after a while.\n"
          ]
        },
        {
          "output_type": "stream",
          "name": "stderr",
          "text": [
            "\r배당 수집:  86%|████████▌ | 870/1013 [03:00<00:27,  5.26it/s]"
          ]
        },
        {
          "output_type": "stream",
          "name": "stdout",
          "text": [
            "[WARN] dividends fetch fail: 241560.KS (두산밥캣) → Too Many Requests. Rate limited. Try after a while.\n"
          ]
        },
        {
          "output_type": "stream",
          "name": "stderr",
          "text": [
            "\r배당 수집:  86%|████████▌ | 871/1013 [03:00<00:36,  3.91it/s]"
          ]
        },
        {
          "output_type": "stream",
          "name": "stdout",
          "text": [
            "[WARN] dividends fetch fail: 207940.KS (삼성바이오로직스) → Too Many Requests. Rate limited. Try after a while.\n"
          ]
        },
        {
          "output_type": "stream",
          "name": "stderr",
          "text": [
            "배당 수집:  86%|████████▋ | 874/1013 [03:01<00:24,  5.66it/s]"
          ]
        },
        {
          "output_type": "stream",
          "name": "stdout",
          "text": [
            "[WARN] dividends fetch fail: 237880.KS (클리오) → Too Many Requests. Rate limited. Try after a while.\n",
            "[WARN] dividends fetch fail: 900300.KS (오가닉티코스메틱) → Too Many Requests. Rate limited. Try after a while.\n",
            "[WARN] dividends fetch fail: 238120.KS (얼라인드) → Too Many Requests. Rate limited. Try after a while.\n",
            "[WARN] dividends fetch fail: 252500.KS (세화피앤씨) → Too Many Requests. Rate limited. Try after a while.\n"
          ]
        },
        {
          "output_type": "stream",
          "name": "stderr",
          "text": [
            "\r배당 수집:  86%|████████▋ | 876/1013 [03:01<00:22,  6.05it/s]"
          ]
        },
        {
          "output_type": "stream",
          "name": "stdout",
          "text": [
            "[WARN] dividends fetch fail: 243870.KS (아이티센코어) → Too Many Requests. Rate limited. Try after a while.\n",
            "[WARN] dividends fetch fail: 216050.KS (인크로스) → Too Many Requests. Rate limited. Try after a while.\n"
          ]
        },
        {
          "output_type": "stream",
          "name": "stderr",
          "text": [
            "\r배당 수집:  87%|████████▋ | 878/1013 [03:01<00:25,  5.26it/s]"
          ]
        },
        {
          "output_type": "stream",
          "name": "stdout",
          "text": [
            "[WARN] dividends fetch fail: 239610.KS (에이치엘사이언스) → Too Many Requests. Rate limited. Try after a while.\n"
          ]
        },
        {
          "output_type": "stream",
          "name": "stderr",
          "text": [
            "\r배당 수집:  87%|████████▋ | 879/1013 [03:02<00:34,  3.93it/s]"
          ]
        },
        {
          "output_type": "stream",
          "name": "stdout",
          "text": [
            "[WARN] dividends fetch fail: 241710.KS (코스메카코리아) → Too Many Requests. Rate limited. Try after a while.\n"
          ]
        },
        {
          "output_type": "stream",
          "name": "stderr",
          "text": [
            "배당 수집:  87%|████████▋ | 882/1013 [03:02<00:23,  5.54it/s]"
          ]
        },
        {
          "output_type": "stream",
          "name": "stdout",
          "text": [
            "[WARN] dividends fetch fail: 234080.KS (JW생명과학) → Too Many Requests. Rate limited. Try after a while.\n",
            "[WARN] dividends fetch fail: 900290.KS (GRT) → Too Many Requests. Rate limited. Try after a while.\n",
            "[WARN] dividends fetch fail: 251280.KS (안지오랩) → Too Many Requests. Rate limited. Try after a while.\n",
            "[WARN] dividends fetch fail: 189300.KS (인텔리안테크) → Too Many Requests. Rate limited. Try after a while.\n"
          ]
        },
        {
          "output_type": "stream",
          "name": "stderr",
          "text": [
            "\r배당 수집:  87%|████████▋ | 884/1013 [03:02<00:21,  5.96it/s]"
          ]
        },
        {
          "output_type": "stream",
          "name": "stdout",
          "text": [
            "[WARN] dividends fetch fail: 072990.KS (에이치시티) → Too Many Requests. Rate limited. Try after a while.\n",
            "[WARN] dividends fetch fail: 950140.KS (잉글우드랩) → Too Many Requests. Rate limited. Try after a while.\n"
          ]
        },
        {
          "output_type": "stream",
          "name": "stderr",
          "text": [
            "\r배당 수집:  87%|████████▋ | 886/1013 [03:03<00:23,  5.39it/s]"
          ]
        },
        {
          "output_type": "stream",
          "name": "stdout",
          "text": [
            "[WARN] dividends fetch fail: 238090.KS (앤디포스) → Too Many Requests. Rate limited. Try after a while.\n"
          ]
        },
        {
          "output_type": "stream",
          "name": "stderr",
          "text": [
            "\r배당 수집:  88%|████████▊ | 887/1013 [03:03<00:31,  3.97it/s]"
          ]
        },
        {
          "output_type": "stream",
          "name": "stdout",
          "text": [
            "[WARN] dividends fetch fail: 050960.KS (수산아이앤티) → Too Many Requests. Rate limited. Try after a while.\n"
          ]
        },
        {
          "output_type": "stream",
          "name": "stderr",
          "text": [
            "배당 수집:  88%|████████▊ | 890/1013 [03:04<00:22,  5.45it/s]"
          ]
        },
        {
          "output_type": "stream",
          "name": "stdout",
          "text": [
            "[WARN] dividends fetch fail: 201490.KS (미투온) → Too Many Requests. Rate limited. Try after a while.\n",
            "[WARN] dividends fetch fail: 241590.KS (화승엔터프라이즈) → Too Many Requests. Rate limited. Try after a while.\n",
            "[WARN] dividends fetch fail: 250930.KS (예선테크) → Too Many Requests. Rate limited. Try after a while.\n",
            "[WARN] dividends fetch fail: 229640.KS (LS에코에너지) → Too Many Requests. Rate limited. Try after a while.\n"
          ]
        },
        {
          "output_type": "stream",
          "name": "stderr",
          "text": [
            "\r배당 수집:  88%|████████▊ | 892/1013 [03:04<00:20,  5.99it/s]"
          ]
        },
        {
          "output_type": "stream",
          "name": "stdout",
          "text": [
            "[WARN] dividends fetch fail: 204210.KS (스타에스엠리츠) → Too Many Requests. Rate limited. Try after a while.\n",
            "[WARN] dividends fetch fail: 241690.KS (유니테크노) → Too Many Requests. Rate limited. Try after a while.\n"
          ]
        },
        {
          "output_type": "stream",
          "name": "stderr",
          "text": [
            "\r배당 수집:  88%|████████▊ | 894/1013 [03:05<00:21,  5.41it/s]"
          ]
        },
        {
          "output_type": "stream",
          "name": "stdout",
          "text": [
            "[WARN] dividends fetch fail: 250060.KS (모비스) → Too Many Requests. Rate limited. Try after a while.\n"
          ]
        },
        {
          "output_type": "stream",
          "name": "stderr",
          "text": [
            "\r배당 수집:  88%|████████▊ | 895/1013 [03:05<00:29,  3.98it/s]"
          ]
        },
        {
          "output_type": "stream",
          "name": "stdout",
          "text": [
            "[WARN] dividends fetch fail: 242040.KS (나무기술) → Too Many Requests. Rate limited. Try after a while.\n"
          ]
        },
        {
          "output_type": "stream",
          "name": "stderr",
          "text": [
            "배당 수집:  89%|████████▊ | 898/1013 [03:05<00:21,  5.45it/s]"
          ]
        },
        {
          "output_type": "stream",
          "name": "stdout",
          "text": [
            "[WARN] dividends fetch fail: 234920.KS (자이글) → Too Many Requests. Rate limited. Try after a while.\n",
            "[WARN] dividends fetch fail: 249420.KS (일동제약) → Too Many Requests. Rate limited. Try after a while.\n",
            "[WARN] dividends fetch fail: 900270.KS (헝셩그룹) → Too Many Requests. Rate limited. Try after a while.\n",
            "[WARN] dividends fetch fail: 248170.KS (샘표식품) → Too Many Requests. Rate limited. Try after a while.\n"
          ]
        },
        {
          "output_type": "stream",
          "name": "stderr",
          "text": [
            "\r배당 수집:  89%|████████▉ | 900/1013 [03:06<00:18,  6.03it/s]"
          ]
        },
        {
          "output_type": "stream",
          "name": "stdout",
          "text": [
            "[WARN] dividends fetch fail: 230360.KS (에코마케팅) → Too Many Requests. Rate limited. Try after a while.\n",
            "[WARN] dividends fetch fail: 191600.KS (블루탑) → Too Many Requests. Rate limited. Try after a while.\n"
          ]
        },
        {
          "output_type": "stream",
          "name": "stderr",
          "text": [
            "\r배당 수집:  89%|████████▉ | 902/1013 [03:06<00:20,  5.37it/s]"
          ]
        },
        {
          "output_type": "stream",
          "name": "stdout",
          "text": [
            "[WARN] dividends fetch fail: 016740.KS (두올) → Too Many Requests. Rate limited. Try after a while.\n"
          ]
        },
        {
          "output_type": "stream",
          "name": "stderr",
          "text": [
            "\r배당 수집:  89%|████████▉ | 903/1013 [03:07<00:27,  3.97it/s]"
          ]
        },
        {
          "output_type": "stream",
          "name": "stdout",
          "text": [
            "[WARN] dividends fetch fail: 208860.KS (엔지스테크널러지) → Too Many Requests. Rate limited. Try after a while.\n"
          ]
        },
        {
          "output_type": "stream",
          "name": "stderr",
          "text": [
            "배당 수집:  89%|████████▉ | 906/1013 [03:07<00:19,  5.44it/s]"
          ]
        },
        {
          "output_type": "stream",
          "name": "stdout",
          "text": [
            "[WARN] dividends fetch fail: 073560.KS (우리손에프앤지) → Too Many Requests. Rate limited. Try after a while.\n",
            "[WARN] dividends fetch fail: 212310.KS (오건에코텍) → Too Many Requests. Rate limited. Try after a while.\n",
            "[WARN] dividends fetch fail: 123010.KS (아이윈플러스) → Too Many Requests. Rate limited. Try after a while.\n",
            "[WARN] dividends fetch fail: 066830.KS (제노텍) → Too Many Requests. Rate limited. Try after a while.\n"
          ]
        },
        {
          "output_type": "stream",
          "name": "stderr",
          "text": [
            "\r배당 수집:  90%|████████▉ | 908/1013 [03:07<00:17,  6.10it/s]"
          ]
        },
        {
          "output_type": "stream",
          "name": "stdout",
          "text": [
            "[WARN] dividends fetch fail: 026960.KS (동서) → Too Many Requests. Rate limited. Try after a while.\n",
            "[WARN] dividends fetch fail: 174880.KS (장원테크) → Too Many Requests. Rate limited. Try after a while.\n"
          ]
        },
        {
          "output_type": "stream",
          "name": "stderr",
          "text": [
            "\r배당 수집:  90%|████████▉ | 910/1013 [03:08<00:19,  5.37it/s]"
          ]
        },
        {
          "output_type": "stream",
          "name": "stdout",
          "text": [
            "[WARN] dividends fetch fail: 123890.KS (한국자산신탁) → Too Many Requests. Rate limited. Try after a while.\n"
          ]
        },
        {
          "output_type": "stream",
          "name": "stderr",
          "text": [
            "\r배당 수집:  90%|████████▉ | 911/1013 [03:08<00:25,  3.99it/s]"
          ]
        },
        {
          "output_type": "stream",
          "name": "stdout",
          "text": [
            "[WARN] dividends fetch fail: 034830.KS (한국토지신탁) → Too Many Requests. Rate limited. Try after a while.\n"
          ]
        },
        {
          "output_type": "stream",
          "name": "stderr",
          "text": [
            "배당 수집:  90%|█████████ | 914/1013 [03:09<00:18,  5.46it/s]"
          ]
        },
        {
          "output_type": "stream",
          "name": "stdout",
          "text": [
            "[WARN] dividends fetch fail: 142760.KS (모아라이프플러스) → Too Many Requests. Rate limited. Try after a while.\n",
            "[WARN] dividends fetch fail: 237750.KS (피앤씨테크) → Too Many Requests. Rate limited. Try after a while.\n",
            "[WARN] dividends fetch fail: 900260.KS (로스웰) → Too Many Requests. Rate limited. Try after a while.\n",
            "[WARN] dividends fetch fail: 245450.KS (씨앤에스링크) → Too Many Requests. Rate limited. Try after a while.\n"
          ]
        },
        {
          "output_type": "stream",
          "name": "stderr",
          "text": [
            "\r배당 수집:  90%|█████████ | 916/1013 [03:09<00:15,  6.08it/s]"
          ]
        },
        {
          "output_type": "stream",
          "name": "stdout",
          "text": [
            "[WARN] dividends fetch fail: 195870.KS (해성디에스) → Too Many Requests. Rate limited. Try after a while.\n",
            "[WARN] dividends fetch fail: 237690.KS (에스티팜) → Too Many Requests. Rate limited. Try after a while.\n"
          ]
        },
        {
          "output_type": "stream",
          "name": "stderr",
          "text": [
            "\r배당 수집:  91%|█████████ | 918/1013 [03:09<00:17,  5.45it/s]"
          ]
        },
        {
          "output_type": "stream",
          "name": "stdout",
          "text": [
            "[WARN] dividends fetch fail: 144510.KS (지씨셀) → Too Many Requests. Rate limited. Try after a while.\n"
          ]
        },
        {
          "output_type": "stream",
          "name": "stderr",
          "text": [
            "\r배당 수집:  91%|█████████ | 919/1013 [03:10<00:23,  4.00it/s]"
          ]
        },
        {
          "output_type": "stream",
          "name": "stdout",
          "text": [
            "[WARN] dividends fetch fail: 148250.KS (알엔투테크놀로지) → Too Many Requests. Rate limited. Try after a while.\n"
          ]
        },
        {
          "output_type": "stream",
          "name": "stderr",
          "text": [
            "배당 수집:  91%|█████████ | 922/1013 [03:10<00:16,  5.38it/s]"
          ]
        },
        {
          "output_type": "stream",
          "name": "stdout",
          "text": [
            "[WARN] dividends fetch fail: 208850.KS (이비테크) → Too Many Requests. Rate limited. Try after a while.\n",
            "[WARN] dividends fetch fail: 239340.KS (이스트에이드) → Too Many Requests. Rate limited. Try after a while.\n",
            "[WARN] dividends fetch fail: 243070.KS (휴온스) → Too Many Requests. Rate limited. Try after a while.\n",
            "[WARN] dividends fetch fail: 244880.KS (나눔테크) → Too Many Requests. Rate limited. Try after a while.\n"
          ]
        },
        {
          "output_type": "stream",
          "name": "stderr",
          "text": [
            "\r배당 수집:  91%|█████████ | 924/1013 [03:11<00:14,  6.09it/s]"
          ]
        },
        {
          "output_type": "stream",
          "name": "stdout",
          "text": [
            "[WARN] dividends fetch fail: 112190.KS (KC산업) → Too Many Requests. Rate limited. Try after a while.\n",
            "[WARN] dividends fetch fail: 070960.KS (모나용평) → Too Many Requests. Rate limited. Try after a while.\n"
          ]
        },
        {
          "output_type": "stream",
          "name": "stderr",
          "text": [
            "\r배당 수집:  91%|█████████▏| 926/1013 [03:11<00:15,  5.50it/s]"
          ]
        },
        {
          "output_type": "stream",
          "name": "stdout",
          "text": [
            "[WARN] dividends fetch fail: 101530.KS (해태제과식품) → Too Many Requests. Rate limited. Try after a while.\n"
          ]
        },
        {
          "output_type": "stream",
          "name": "stderr",
          "text": [
            "\r배당 수집:  92%|█████████▏| 927/1013 [03:12<00:21,  4.02it/s]"
          ]
        },
        {
          "output_type": "stream",
          "name": "stdout",
          "text": [
            "[WARN] dividends fetch fail: 240810.KS (원익IPS) → Too Many Requests. Rate limited. Try after a while.\n"
          ]
        },
        {
          "output_type": "stream",
          "name": "stderr",
          "text": [
            "배당 수집:  92%|█████████▏| 930/1013 [03:12<00:15,  5.31it/s]"
          ]
        },
        {
          "output_type": "stream",
          "name": "stdout",
          "text": [
            "[WARN] dividends fetch fail: 238500.KS (로보쓰리에이아이) → Too Many Requests. Rate limited. Try after a while.\n",
            "[WARN] dividends fetch fail: 228850.KS (레이언스) → Too Many Requests. Rate limited. Try after a while.\n",
            "[WARN] dividends fetch fail: 228340.KS (동양파일) → Too Many Requests. Rate limited. Try after a while.\n",
            "[WARN] dividends fetch fail: 004440.KS (삼일씨엔에스) → Too Many Requests. Rate limited. Try after a while.\n"
          ]
        },
        {
          "output_type": "stream",
          "name": "stderr",
          "text": [
            "\r배당 수집:  92%|█████████▏| 932/1013 [03:12<00:13,  6.11it/s]"
          ]
        },
        {
          "output_type": "stream",
          "name": "stdout",
          "text": [
            "[WARN] dividends fetch fail: 222110.KS (팬젠) → Too Many Requests. Rate limited. Try after a while.\n",
            "[WARN] dividends fetch fail: 211270.KS (AP위성) → Too Many Requests. Rate limited. Try after a while.\n"
          ]
        },
        {
          "output_type": "stream",
          "name": "stderr",
          "text": [
            "\r배당 수집:  92%|█████████▏| 934/1013 [03:13<00:14,  5.53it/s]"
          ]
        },
        {
          "output_type": "stream",
          "name": "stdout",
          "text": [
            "[WARN] dividends fetch fail: 230980.KS (비유테크놀러지) → Too Many Requests. Rate limited. Try after a while.\n"
          ]
        },
        {
          "output_type": "stream",
          "name": "stderr",
          "text": [
            "\r배당 수집:  92%|█████████▏| 935/1013 [03:13<00:19,  4.03it/s]"
          ]
        },
        {
          "output_type": "stream",
          "name": "stdout",
          "text": [
            "[WARN] dividends fetch fail: 115180.KS (큐리언트) → Too Many Requests. Rate limited. Try after a while.\n"
          ]
        },
        {
          "output_type": "stream",
          "name": "stderr",
          "text": [
            "배당 수집:  93%|█████████▎| 938/1013 [03:14<00:14,  5.31it/s]"
          ]
        },
        {
          "output_type": "stream",
          "name": "stdout",
          "text": [
            "[WARN] dividends fetch fail: 065660.KS (안트로젠) → Too Many Requests. Rate limited. Try after a while.\n",
            "[WARN] dividends fetch fail: 236200.KS (슈프리마) → Too Many Requests. Rate limited. Try after a while.\n",
            "[WARN] dividends fetch fail: 194370.KS (제이에스코퍼레이션) → Too Many Requests. Rate limited. Try after a while.\n",
            "[WARN] dividends fetch fail: 142210.KS (유니트론텍) → Too Many Requests. Rate limited. Try after a while.\n"
          ]
        },
        {
          "output_type": "stream",
          "name": "stderr",
          "text": [
            "\r배당 수집:  93%|█████████▎| 940/1013 [03:14<00:12,  6.03it/s]"
          ]
        },
        {
          "output_type": "stream",
          "name": "stdout",
          "text": [
            "[WARN] dividends fetch fail: 900250.KS (크리스탈신소재) → Too Many Requests. Rate limited. Try after a while.\n",
            "[WARN] dividends fetch fail: 236340.KS (메디젠휴먼케어) → Too Many Requests. Rate limited. Try after a while.\n"
          ]
        },
        {
          "output_type": "stream",
          "name": "stderr",
          "text": [
            "\r배당 수집:  93%|█████████▎| 942/1013 [03:14<00:12,  5.54it/s]"
          ]
        },
        {
          "output_type": "stream",
          "name": "stdout",
          "text": [
            "[WARN] dividends fetch fail: 206950.KS (볼빅) → Too Many Requests. Rate limited. Try after a while.\n"
          ]
        },
        {
          "output_type": "stream",
          "name": "stderr",
          "text": [
            "\r배당 수집:  93%|█████████▎| 943/1013 [03:15<00:17,  4.06it/s]"
          ]
        },
        {
          "output_type": "stream",
          "name": "stdout",
          "text": [
            "[WARN] dividends fetch fail: 232530.KS (이엠티) → Too Many Requests. Rate limited. Try after a while.\n"
          ]
        },
        {
          "output_type": "stream",
          "name": "stderr",
          "text": [
            "배당 수집:  93%|█████████▎| 946/1013 [03:15<00:12,  5.31it/s]"
          ]
        },
        {
          "output_type": "stream",
          "name": "stdout",
          "text": [
            "[WARN] dividends fetch fail: 224060.KS (더코디) → Too Many Requests. Rate limited. Try after a while.\n",
            "[WARN] dividends fetch fail: 109610.KS (에스와이) → Too Many Requests. Rate limited. Try after a while.\n",
            "[WARN] dividends fetch fail: 233990.KS (질경이) → Too Many Requests. Rate limited. Try after a while.\n",
            "[WARN] dividends fetch fail: 226320.KS (잇츠한불) → Too Many Requests. Rate limited. Try after a while.\n"
          ]
        },
        {
          "output_type": "stream",
          "name": "stderr",
          "text": [
            "\r배당 수집:  94%|█████████▎| 948/1013 [03:16<00:10,  6.05it/s]"
          ]
        },
        {
          "output_type": "stream",
          "name": "stdout",
          "text": [
            "[WARN] dividends fetch fail: 215570.KS (크로넥스) → Too Many Requests. Rate limited. Try after a while.\n",
            "[WARN] dividends fetch fail: 223310.KS (딥마인드) → Too Many Requests. Rate limited. Try after a while.\n"
          ]
        },
        {
          "output_type": "stream",
          "name": "stderr",
          "text": [
            "\r배당 수집:  94%|█████████▍| 950/1013 [03:16<00:11,  5.54it/s]"
          ]
        },
        {
          "output_type": "stream",
          "name": "stdout",
          "text": [
            "[WARN] dividends fetch fail: 232140.KS (와이씨) → Too Many Requests. Rate limited. Try after a while.\n"
          ]
        },
        {
          "output_type": "stream",
          "name": "stderr",
          "text": [
            "\r배당 수집:  94%|█████████▍| 951/1013 [03:16<00:15,  4.07it/s]"
          ]
        },
        {
          "output_type": "stream",
          "name": "stdout",
          "text": [
            "[WARN] dividends fetch fail: 191410.KS (육일씨엔에쓰) → Too Many Requests. Rate limited. Try after a while.\n"
          ]
        },
        {
          "output_type": "stream",
          "name": "stderr",
          "text": [
            "배당 수집:  94%|█████████▍| 954/1013 [03:17<00:11,  5.28it/s]"
          ]
        },
        {
          "output_type": "stream",
          "name": "stdout",
          "text": [
            "[WARN] dividends fetch fail: 145020.KS (휴젤) → Too Many Requests. Rate limited. Try after a while.\n",
            "[WARN] dividends fetch fail: 222980.KS (한국맥널티) → Too Many Requests. Rate limited. Try after a while.\n",
            "[WARN] dividends fetch fail: 206560.KS (덱스터) → Too Many Requests. Rate limited. Try after a while.\n",
            "[WARN] dividends fetch fail: 013310.KS (아진산업) → Too Many Requests. Rate limited. Try after a while.\n"
          ]
        },
        {
          "output_type": "stream",
          "name": "stderr",
          "text": [
            "\r배당 수집:  94%|█████████▍| 956/1013 [03:17<00:09,  5.97it/s]"
          ]
        },
        {
          "output_type": "stream",
          "name": "stdout",
          "text": [
            "[WARN] dividends fetch fail: 047920.KS (HLB제약) → Too Many Requests. Rate limited. Try after a while.\n",
            "[WARN] dividends fetch fail: 217730.KS (강스템바이오텍) → Too Many Requests. Rate limited. Try after a while.\n"
          ]
        },
        {
          "output_type": "stream",
          "name": "stderr",
          "text": [
            "\r배당 수집:  95%|█████████▍| 958/1013 [03:18<00:09,  5.57it/s]"
          ]
        },
        {
          "output_type": "stream",
          "name": "stdout",
          "text": [
            "[WARN] dividends fetch fail: 234070.KS (에이원알폼) → Too Many Requests. Rate limited. Try after a while.\n"
          ]
        },
        {
          "output_type": "stream",
          "name": "stderr",
          "text": [
            "\r배당 수집:  95%|█████████▍| 959/1013 [03:18<00:13,  4.10it/s]"
          ]
        },
        {
          "output_type": "stream",
          "name": "stdout",
          "text": [
            "[WARN] dividends fetch fail: 133750.KS (메가엠디) → Too Many Requests. Rate limited. Try after a while.\n"
          ]
        },
        {
          "output_type": "stream",
          "name": "stderr",
          "text": [
            "배당 수집:  95%|█████████▍| 962/1013 [03:19<00:09,  5.28it/s]"
          ]
        },
        {
          "output_type": "stream",
          "name": "stdout",
          "text": [
            "[WARN] dividends fetch fail: 225530.KS (HC보광산업) → Too Many Requests. Rate limited. Try after a while.\n",
            "[WARN] dividends fetch fail: 140860.KS (파크시스템스) → Too Many Requests. Rate limited. Try after a while.\n",
            "[WARN] dividends fetch fail: 230240.KS (에치에프알) → Too Many Requests. Rate limited. Try after a while.\n",
            "[WARN] dividends fetch fail: 122640.KS (예스티) → Too Many Requests. Rate limited. Try after a while.\n"
          ]
        },
        {
          "output_type": "stream",
          "name": "stderr",
          "text": [
            "\r배당 수집:  95%|█████████▌| 964/1013 [03:19<00:08,  5.90it/s]"
          ]
        },
        {
          "output_type": "stream",
          "name": "stdout",
          "text": [
            "[WARN] dividends fetch fail: 222040.KS (코스맥스엔비티) → Too Many Requests. Rate limited. Try after a while.\n",
            "[WARN] dividends fetch fail: 058110.KS (멕아이씨에스) → Too Many Requests. Rate limited. Try after a while.\n"
          ]
        },
        {
          "output_type": "stream",
          "name": "stderr",
          "text": [
            "\r배당 수집:  95%|█████████▌| 966/1013 [03:19<00:08,  5.60it/s]"
          ]
        },
        {
          "output_type": "stream",
          "name": "stdout",
          "text": [
            "[WARN] dividends fetch fail: 217820.KS (원익피앤이) → Too Many Requests. Rate limited. Try after a while.\n"
          ]
        },
        {
          "output_type": "stream",
          "name": "stderr",
          "text": [
            "\r배당 수집:  95%|█████████▌| 967/1013 [03:20<00:11,  4.14it/s]"
          ]
        },
        {
          "output_type": "stream",
          "name": "stdout",
          "text": [
            "[WARN] dividends fetch fail: 075580.KS (세진중공업) → Too Many Requests. Rate limited. Try after a while.\n"
          ]
        },
        {
          "output_type": "stream",
          "name": "stderr",
          "text": [
            "\r배당 수집:  96%|█████████▌| 968/1013 [03:20<00:11,  3.99it/s]"
          ]
        },
        {
          "output_type": "stream",
          "name": "stdout",
          "text": [
            "[WARN] dividends fetch fail: 221840.KS (하이즈항공) → Too Many Requests. Rate limited. Try after a while.\n",
            "[WARN] dividends fetch fail: 180400.KS (DXVX) → Too Many Requests. Rate limited. Try after a while.\n",
            "[WARN] dividends fetch fail: 221980.KS (케이디켐) → Too Many Requests. Rate limited. Try after a while.\n"
          ]
        },
        {
          "output_type": "stream",
          "name": "stderr",
          "text": [
            "\r배당 수집:  96%|█████████▌| 970/1013 [03:20<00:08,  5.18it/s]"
          ]
        },
        {
          "output_type": "stream",
          "name": "stdout",
          "text": [
            "[WARN] dividends fetch fail: 212560.KS (네오오토) → Too Many Requests. Rate limited. Try after a while.\n"
          ]
        },
        {
          "output_type": "stream",
          "name": "stderr",
          "text": [
            "\r배당 수집:  96%|█████████▌| 972/1013 [03:20<00:07,  5.59it/s]"
          ]
        },
        {
          "output_type": "stream",
          "name": "stdout",
          "text": [
            "[WARN] dividends fetch fail: 227950.KS (엔투텍) → Too Many Requests. Rate limited. Try after a while.\n",
            "[WARN] dividends fetch fail: 214370.KS (케어젠) → Too Many Requests. Rate limited. Try after a while.\n"
          ]
        },
        {
          "output_type": "stream",
          "name": "stderr",
          "text": [
            "\r배당 수집:  96%|█████████▌| 974/1013 [03:21<00:06,  5.76it/s]"
          ]
        },
        {
          "output_type": "stream",
          "name": "stdout",
          "text": [
            "[WARN] dividends fetch fail: 185490.KS (아이진) → Too Many Requests. Rate limited. Try after a while.\n"
          ]
        },
        {
          "output_type": "stream",
          "name": "stderr",
          "text": [
            "\r배당 수집:  96%|█████████▌| 975/1013 [03:21<00:09,  4.20it/s]"
          ]
        },
        {
          "output_type": "stream",
          "name": "stdout",
          "text": [
            "[WARN] dividends fetch fail: 190510.KS (나무가) → Too Many Requests. Rate limited. Try after a while.\n"
          ]
        },
        {
          "output_type": "stream",
          "name": "stderr",
          "text": [
            "\r배당 수집:  96%|█████████▋| 976/1013 [03:22<00:09,  4.01it/s]"
          ]
        },
        {
          "output_type": "stream",
          "name": "stdout",
          "text": [
            "[WARN] dividends fetch fail: 056090.KS (시지메드텍) → Too Many Requests. Rate limited. Try after a while.\n",
            "[WARN] dividends fetch fail: 214330.KS (금호에이치티) → Too Many Requests. Rate limited. Try after a while.\n"
          ]
        },
        {
          "output_type": "stream",
          "name": "stderr",
          "text": [
            "\r배당 수집:  97%|█████████▋| 978/1013 [03:22<00:06,  5.18it/s]"
          ]
        },
        {
          "output_type": "stream",
          "name": "stdout",
          "text": [
            "[WARN] dividends fetch fail: 089590.KS (제주항공) → Too Many Requests. Rate limited. Try after a while.\n",
            "[WARN] dividends fetch fail: 226340.KS (본느) → Too Many Requests. Rate limited. Try after a while.\n"
          ]
        },
        {
          "output_type": "stream",
          "name": "stderr",
          "text": [
            "\r배당 수집:  97%|█████████▋| 980/1013 [03:22<00:05,  5.60it/s]"
          ]
        },
        {
          "output_type": "stream",
          "name": "stdout",
          "text": [
            "[WARN] dividends fetch fail: 217950.KS (파마리서치바이오) → Too Many Requests. Rate limited. Try after a while.\n",
            "[WARN] dividends fetch fail: 092590.KS (럭스피아) → Too Many Requests. Rate limited. Try after a while.\n"
          ]
        },
        {
          "output_type": "stream",
          "name": "stderr",
          "text": [
            "\r배당 수집:  97%|█████████▋| 982/1013 [03:22<00:05,  5.79it/s]"
          ]
        },
        {
          "output_type": "stream",
          "name": "stdout",
          "text": [
            "[WARN] dividends fetch fail: 229500.KS (노브메타파마) → Too Many Requests. Rate limited. Try after a while.\n"
          ]
        },
        {
          "output_type": "stream",
          "name": "stderr",
          "text": [
            "\r배당 수집:  97%|█████████▋| 983/1013 [03:23<00:07,  4.22it/s]"
          ]
        },
        {
          "output_type": "stream",
          "name": "stdout",
          "text": [
            "[WARN] dividends fetch fail: 182400.KS (엔케이맥스) → Too Many Requests. Rate limited. Try after a while.\n"
          ]
        },
        {
          "output_type": "stream",
          "name": "stderr",
          "text": [
            "\r배당 수집:  97%|█████████▋| 984/1013 [03:23<00:07,  4.00it/s]"
          ]
        },
        {
          "output_type": "stream",
          "name": "stdout",
          "text": [
            "[WARN] dividends fetch fail: 227840.KS (현대코퍼레이션홀딩스) → Too Many Requests. Rate limited. Try after a while.\n",
            "[WARN] dividends fetch fail: 226360.KS (KH 건설) → Too Many Requests. Rate limited. Try after a while.\n"
          ]
        },
        {
          "output_type": "stream",
          "name": "stderr",
          "text": [
            "\r배당 수집:  97%|█████████▋| 986/1013 [03:23<00:05,  5.18it/s]"
          ]
        },
        {
          "output_type": "stream",
          "name": "stdout",
          "text": [
            "[WARN] dividends fetch fail: 092870.KS (엑시콘) → Too Many Requests. Rate limited. Try after a while.\n",
            "[WARN] dividends fetch fail: 224810.KS (엄지하우스) → Too Many Requests. Rate limited. Try after a while.\n"
          ]
        },
        {
          "output_type": "stream",
          "name": "stderr",
          "text": [
            "배당 수집:  98%|█████████▊| 989/1013 [03:24<00:03,  6.14it/s]"
          ]
        },
        {
          "output_type": "stream",
          "name": "stdout",
          "text": [
            "[WARN] dividends fetch fail: 200580.KS (메디쎄이) → Too Many Requests. Rate limited. Try after a while.\n",
            "[WARN] dividends fetch fail: 225430.KS (케이엠제약) → Too Many Requests. Rate limited. Try after a while.\n"
          ]
        },
        {
          "output_type": "stream",
          "name": "stderr",
          "text": [
            "\r배당 수집:  98%|█████████▊| 990/1013 [03:24<00:04,  5.69it/s]"
          ]
        },
        {
          "output_type": "stream",
          "name": "stdout",
          "text": [
            "[WARN] dividends fetch fail: 225590.KS (패션플랫폼) → Too Many Requests. Rate limited. Try after a while.\n"
          ]
        },
        {
          "output_type": "stream",
          "name": "stderr",
          "text": [
            "\r배당 수집:  98%|█████████▊| 991/1013 [03:25<00:05,  3.92it/s]"
          ]
        },
        {
          "output_type": "stream",
          "name": "stdout",
          "text": [
            "[WARN] dividends fetch fail: 079550.KS (LIG넥스원) → Too Many Requests. Rate limited. Try after a while.\n"
          ]
        },
        {
          "output_type": "stream",
          "name": "stderr",
          "text": [
            "배당 수집:  98%|█████████▊| 993/1013 [03:25<00:04,  4.49it/s]"
          ]
        },
        {
          "output_type": "stream",
          "name": "stdout",
          "text": [
            "[WARN] dividends fetch fail: 225570.KS (넥슨게임즈) → Too Many Requests. Rate limited. Try after a while.\n",
            "[WARN] dividends fetch fail: 217190.KS (제너셈) → Too Many Requests. Rate limited. Try after a while.\n"
          ]
        },
        {
          "output_type": "stream",
          "name": "stderr",
          "text": [
            "\r배당 수집:  98%|█████████▊| 994/1013 [03:25<00:03,  5.28it/s]"
          ]
        },
        {
          "output_type": "stream",
          "name": "stdout",
          "text": [
            "[WARN] dividends fetch fail: 219130.KS (타이거일렉) → Too Many Requests. Rate limited. Try after a while.\n",
            "[WARN] dividends fetch fail: 039570.KS (HDC랩스) → Too Many Requests. Rate limited. Try after a while.\n"
          ]
        },
        {
          "output_type": "stream",
          "name": "stderr",
          "text": [
            "배당 수집:  98%|█████████▊| 997/1013 [03:25<00:02,  6.30it/s]"
          ]
        },
        {
          "output_type": "stream",
          "name": "stdout",
          "text": [
            "[WARN] dividends fetch fail: 002690.KS (동일제강) → Too Many Requests. Rate limited. Try after a while.\n",
            "[WARN] dividends fetch fail: 175140.KS (휴먼테크놀로지) → Too Many Requests. Rate limited. Try after a while.\n"
          ]
        },
        {
          "output_type": "stream",
          "name": "stderr",
          "text": [
            "\r배당 수집:  99%|█████████▊| 998/1013 [03:26<00:02,  5.82it/s]"
          ]
        },
        {
          "output_type": "stream",
          "name": "stdout",
          "text": [
            "[WARN] dividends fetch fail: 222080.KS (씨아이에스) → Too Many Requests. Rate limited. Try after a while.\n"
          ]
        },
        {
          "output_type": "stream",
          "name": "stderr",
          "text": [
            "\r배당 수집:  99%|█████████▊| 999/1013 [03:26<00:03,  3.88it/s]"
          ]
        },
        {
          "output_type": "stream",
          "name": "stdout",
          "text": [
            "[WARN] dividends fetch fail: 224110.KS (에이텍모빌리티) → Too Many Requests. Rate limited. Try after a while.\n"
          ]
        },
        {
          "output_type": "stream",
          "name": "stderr",
          "text": [
            "배당 수집:  99%|█████████▉| 1001/1013 [03:27<00:02,  4.41it/s]"
          ]
        },
        {
          "output_type": "stream",
          "name": "stdout",
          "text": [
            "[WARN] dividends fetch fail: 196700.KS (웹스) → Too Many Requests. Rate limited. Try after a while.\n",
            "[WARN] dividends fetch fail: 095570.KS (AJ네트웍스) → Too Many Requests. Rate limited. Try after a while.\n",
            "[WARN] dividends fetch fail: 131760.KS (파인텍) → Too Many Requests. Rate limited. Try after a while.\n"
          ]
        },
        {
          "output_type": "stream",
          "name": "stderr",
          "text": [
            "\r배당 수집:  99%|█████████▉| 1003/1013 [03:27<00:01,  6.73it/s]"
          ]
        },
        {
          "output_type": "stream",
          "name": "stdout",
          "text": [
            "[WARN] dividends fetch fail: 222800.KS (심텍) → Too Many Requests. Rate limited. Try after a while.\n"
          ]
        },
        {
          "output_type": "stream",
          "name": "stderr",
          "text": [
            "배당 수집:  99%|█████████▉| 1005/1013 [03:27<00:01,  6.04it/s]"
          ]
        },
        {
          "output_type": "stream",
          "name": "stdout",
          "text": [
            "[WARN] dividends fetch fail: 189980.KS (흥국에프엔비) → Too Many Requests. Rate limited. Try after a while.\n",
            "[WARN] dividends fetch fail: 222420.KS (쎄노텍) → Too Many Requests. Rate limited. Try after a while.\n"
          ]
        },
        {
          "output_type": "stream",
          "name": "stderr",
          "text": [
            "\r배당 수집:  99%|█████████▉| 1006/1013 [03:27<00:01,  5.70it/s]"
          ]
        },
        {
          "output_type": "stream",
          "name": "stdout",
          "text": [
            "[WARN] dividends fetch fail: 094360.KS (칩스앤미디어) → Too Many Requests. Rate limited. Try after a while.\n"
          ]
        },
        {
          "output_type": "stream",
          "name": "stderr",
          "text": [
            "\r배당 수집:  99%|█████████▉| 1007/1013 [03:28<00:01,  3.76it/s]"
          ]
        },
        {
          "output_type": "stream",
          "name": "stdout",
          "text": [
            "[WARN] dividends fetch fail: 127710.KS (아시아경제) → Too Many Requests. Rate limited. Try after a while.\n"
          ]
        },
        {
          "output_type": "stream",
          "name": "stderr",
          "text": [
            "배당 수집: 100%|█████████▉| 1009/1013 [03:28<00:00,  4.32it/s]"
          ]
        },
        {
          "output_type": "stream",
          "name": "stdout",
          "text": [
            "[WARN] dividends fetch fail: 224760.KS (엔에스컴퍼니) → Too Many Requests. Rate limited. Try after a while.\n",
            "[WARN] dividends fetch fail: 214430.KS (아이쓰리시스템) → Too Many Requests. Rate limited. Try after a while.\n"
          ]
        },
        {
          "output_type": "stream",
          "name": "stderr",
          "text": [
            "\r배당 수집: 100%|█████████▉| 1011/1013 [03:28<00:00,  6.66it/s]"
          ]
        },
        {
          "output_type": "stream",
          "name": "stdout",
          "text": [
            "[WARN] dividends fetch fail: 218150.KS (미래생명자원) → Too Many Requests. Rate limited. Try after a while.\n",
            "[WARN] dividends fetch fail: 003200.KS (일신방직) → Too Many Requests. Rate limited. Try after a while.\n"
          ]
        },
        {
          "output_type": "stream",
          "name": "stderr",
          "text": [
            "배당 수집: 100%|██████████| 1013/1013 [03:29<00:00,  4.84it/s]"
          ]
        },
        {
          "output_type": "stream",
          "name": "stdout",
          "text": [
            "[WARN] dividends fetch fail: EQIX (Equinix) → Too Many Requests. Rate limited. Try after a while.\n",
            "[WARN] dividends fetch fail: NXPI (NXP Semiconductors) → Too Many Requests. Rate limited. Try after a while.\n",
            "최근 5년 배당 없음 티커 수: 1013\n",
            "→ 목록 저장: ./data/tickers_with_no_dividends.csv\n",
            "일자별 배당 저장: ./data/dividends_all_companies_5y.csv 행수: 0\n",
            "연도별 합계 생성 스킵(배당 데이터 없음)\n"
          ]
        },
        {
          "output_type": "stream",
          "name": "stderr",
          "text": [
            "\n"
          ]
        }
      ]
    },
    {
      "cell_type": "code",
      "source": [],
      "metadata": {
        "id": "qORQb0eli6xa"
      },
      "execution_count": null,
      "outputs": []
    },
    {
      "cell_type": "markdown",
      "source": [
        "##참고/주의\n",
        "\n",
        "야후 데이터 특성: 일부 종목은 배당 기록이 늦게 반영되거나 누락될 수 있어요. 중요한 종목은 KRX/공시 데이터로 교차검증 권장.\n",
        "\n",
        "속도 조절: MAX_WORKERS_*와 REQUEST_SLEEP로 조절하세요. 너무 올리면 레이트리밋 위험.\n",
        "\n",
        "해외 추가: 도요타 7203.T, 토요타 ADR TM, 런던 상장 HSBA.L 같은 거래소 접미사가 필요한 종목은 EXTRA_TICKERS에 직접 넣으세요.\n",
        "\n",
        "범위 변경: 최근 3년/10년으로 바꾸려면 LAST_N_YEARS만 수정하면 됩니다.\n",
        "\n",
        "Colab이 위키를 읽다가 가끔 네트워크 이슈를 냅니다. 그럴 땐 해당 셀만 한 번 더 실행하세요.\n",
        "\n",
        "여전히 안 된다면, 위키 대신 공식 리스트 CSV(예: S&P500 tickers 깃허브 미러)로 대체하는 백업 경로를 붙일 수 있어요"
      ],
      "metadata": {
        "id": "LXI0-Yfpb9Xg"
      }
    }
  ]
}