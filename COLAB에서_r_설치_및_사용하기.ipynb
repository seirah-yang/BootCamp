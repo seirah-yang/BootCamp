{
  "nbformat": 4,
  "nbformat_minor": 0,
  "metadata": {
    "colab": {
      "provenance": [],
      "authorship_tag": "ABX9TyMgmUR2C4nHODwe7rKJ+dAp",
      "include_colab_link": true
    },
    "kernelspec": {
      "name": "python3",
      "display_name": "Python 3"
    },
    "language_info": {
      "name": "python"
    }
  },
  "cells": [
    {
      "cell_type": "markdown",
      "metadata": {
        "id": "view-in-github",
        "colab_type": "text"
      },
      "source": [
        "<a href=\"https://colab.research.google.com/github/seirah-yang/exciting/blob/main/COLAB%EC%97%90%EC%84%9C_r_%EC%84%A4%EC%B9%98_%EB%B0%8F_%EC%82%AC%EC%9A%A9%ED%95%98%EA%B8%B0.ipynb\" target=\"_parent\"><img src=\"https://colab.research.google.com/assets/colab-badge.svg\" alt=\"Open In Colab\"/></a>"
      ]
    },
    {
      "cell_type": "code",
      "metadata": {
        "colab": {
          "base_uri": "https://localhost:8080/"
        },
        "id": "a2dd480f",
        "outputId": "a2bad627-2fb3-4b0f-f197-a7b869967c85"
      },
      "source": [
        "%pip install rpy2"
      ],
      "execution_count": 4,
      "outputs": [
        {
          "output_type": "stream",
          "name": "stdout",
          "text": [
            "Requirement already satisfied: rpy2 in /usr/local/lib/python3.11/dist-packages (3.5.17)\n",
            "Requirement already satisfied: cffi>=1.15.1 in /usr/local/lib/python3.11/dist-packages (from rpy2) (1.17.1)\n",
            "Requirement already satisfied: jinja2 in /usr/local/lib/python3.11/dist-packages (from rpy2) (3.1.6)\n",
            "Requirement already satisfied: tzlocal in /usr/local/lib/python3.11/dist-packages (from rpy2) (5.3.1)\n",
            "Requirement already satisfied: pycparser in /usr/local/lib/python3.11/dist-packages (from cffi>=1.15.1->rpy2) (2.22)\n",
            "Requirement already satisfied: MarkupSafe>=2.0 in /usr/local/lib/python3.11/dist-packages (from jinja2->rpy2) (3.0.2)\n"
          ]
        }
      ]
    },
    {
      "cell_type": "code",
      "source": [
        "!pip packages(\"ggplot2\")"
      ],
      "metadata": {
        "colab": {
          "base_uri": "https://localhost:8080/"
        },
        "id": "ZcMrCEaMb1Oa",
        "outputId": "5c4fda43-b1ac-4f4d-8573-513cc81e27f8"
      },
      "execution_count": 8,
      "outputs": [
        {
          "output_type": "stream",
          "name": "stdout",
          "text": [
            "/bin/bash: -c: line 1: syntax error near unexpected token `('\n",
            "/bin/bash: -c: line 1: `pip packages(\"ggplot2\")'\n"
          ]
        }
      ]
    },
    {
      "cell_type": "code",
      "source": [
        "!pip .packages(\"ggfortify\")"
      ],
      "metadata": {
        "colab": {
          "base_uri": "https://localhost:8080/"
        },
        "id": "jS3plj7bb-Ii",
        "outputId": "54e36ad1-5c37-402a-ded4-fb7edc0f562d"
      },
      "execution_count": 9,
      "outputs": [
        {
          "output_type": "stream",
          "name": "stdout",
          "text": [
            "/bin/bash: -c: line 1: syntax error near unexpected token `('\n",
            "/bin/bash: -c: line 1: `pip .packages(\"ggfortify\")'\n"
          ]
        }
      ]
    },
    {
      "cell_type": "code",
      "metadata": {
        "id": "c0585cb3"
      },
      "source": [
        "%load_ext rpy2.ipython"
      ],
      "execution_count": 13,
      "outputs": []
    },
    {
      "cell_type": "code",
      "metadata": {
        "colab": {
          "base_uri": "https://localhost:8080/",
          "height": 173
        },
        "id": "f29fec58",
        "outputId": "b34bb57c-2e8a-4005-fb35-1dc72f80650f"
      },
      "source": [
        "%%R\n",
        "install.packages(\"ggfortify\")"
      ],
      "execution_count": 15,
      "outputs": [
        {
          "output_type": "display_data",
          "data": {
            "text/plain": [
              "Installing package into ‘/usr/local/lib/R/site-library’\n",
              "(as ‘lib’ is unspecified)\n",
              "also installing the dependency ‘gridExtra’\n",
              "\n",
              "trying URL 'https://cran.rstudio.com/src/contrib/gridExtra_2.3.tar.gz'\n",
              "trying URL 'https://cran.rstudio.com/src/contrib/ggfortify_0.4.19.tar.gz'\n",
              "\n",
              "The downloaded source packages are in\n",
              "\t‘/tmp/RtmprgSXcI/downloaded_packages’\n"
            ]
          },
          "metadata": {}
        }
      ]
    },
    {
      "cell_type": "code",
      "execution_count": 16,
      "metadata": {
        "id": "hO61RYfYbt5E"
      },
      "outputs": [],
      "source": [
        "%%R\n",
        "library(ggplot2)\n",
        "library(ggfortify)"
      ]
    },
    {
      "cell_type": "code",
      "metadata": {
        "id": "e0b92da9"
      },
      "source": [
        "%%R\n",
        "# 데이터 준비 및 PCA\n",
        "df <- iris\n",
        "pca_result <- prcomp(df[, 1:4], scale. = TRUE)"
      ],
      "execution_count": 20,
      "outputs": []
    },
    {
      "cell_type": "code",
      "source": [
        "%%R\n",
        "\n",
        "# 시각화\n",
        "autoplot(pca_result, data = df, colour = \"Species\")"
      ],
      "metadata": {
        "colab": {
          "base_uri": "https://localhost:8080/",
          "height": 497
        },
        "id": "XCZk0siEcfSG",
        "outputId": "c9a498dc-a692-47ff-b904-2d2d86dc244f"
      },
      "execution_count": 21,
      "outputs": [
        {
          "output_type": "display_data",
          "data": {
            "image/png": "[encoded data removed]",
            "text/plain": [
              "<IPython.core.display.Image object>"
            ]
          },
          "metadata": {}
        }
      ]
    },
    {
      "cell_type": "code",
      "source": [],
      "metadata": {
        "id": "8esdI1Icc5E6"
      },
      "execution_count": null,
      "outputs": []
    }
  ]
}